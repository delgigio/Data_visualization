{
 "cells": [
  {
   "cell_type": "code",
   "execution_count": 35,
   "metadata": {
    "collapsed": false
   },
   "outputs": [],
   "source": [
    "import matplotlib.pyplot as plt\n",
    "import plotly.express as px\n",
    "import pandas as pd"
   ]
  },
  {
   "cell_type": "code",
   "execution_count": 36,
   "metadata": {
    "collapsed": false
   },
   "outputs": [
    {
     "data": {
      "application/vnd.plotly.v1+json": {
       "data": [
        {
         "hovertemplate": "<b>%{hovertext}</b><br><br>Year=%{x}<br>CountryIndex=%{y}<br>ExportVolume=%{marker.color}<extra></extra>",
         "hovertext": [
          "Brazil",
          "Colombia",
          "Ethiopia",
          "Honduras",
          "Indonesia",
          "Viet Nam"
         ],
         "legendgroup": "",
         "marker": {
          "color": [
           16935.7876003,
           13943.8700004,
           1074.101,
           1735.093,
           6903.2269994,
           1145.2340014
          ],
          "coloraxis": "coloraxis",
          "size": [
           16935.7876003,
           13943.8700004,
           1074.101,
           1735.093,
           6903.2269994,
           1145.2340014
          ],
          "sizemode": "area",
          "sizeref": 9.390558146611111,
          "symbol": "circle"
         },
         "mode": "markers",
         "name": "",
         "orientation": "v",
         "showlegend": false,
         "x": [
          1990,
          1990,
          1990,
          1990,
          1990,
          1990
         ],
         "xaxis": "x",
         "y": [
          600,
          400,
          200,
          100,
          300,
          500
         ],
         "yaxis": "y",
         "type": "scatter"
        }
       ],
       "layout": {
        "template": {
         "data": {
          "histogram2dcontour": [
           {
            "type": "histogram2dcontour",
            "colorbar": {
             "outlinewidth": 0,
             "ticks": ""
            },
            "colorscale": [
             [
              0.0,
              "#0d0887"
             ],
             [
              0.1111111111111111,
              "#46039f"
             ],
             [
              0.2222222222222222,
              "#7201a8"
             ],
             [
              0.3333333333333333,
              "#9c179e"
             ],
             [
              0.4444444444444444,
              "#bd3786"
             ],
             [
              0.5555555555555556,
              "#d8576b"
             ],
             [
              0.6666666666666666,
              "#ed7953"
             ],
             [
              0.7777777777777778,
              "#fb9f3a"
             ],
             [
              0.8888888888888888,
              "#fdca26"
             ],
             [
              1.0,
              "#f0f921"
             ]
            ]
           }
          ],
          "choropleth": [
           {
            "type": "choropleth",
            "colorbar": {
             "outlinewidth": 0,
             "ticks": ""
            }
           }
          ],
          "histogram2d": [
           {
            "type": "histogram2d",
            "colorbar": {
             "outlinewidth": 0,
             "ticks": ""
            },
            "colorscale": [
             [
              0.0,
              "#0d0887"
             ],
             [
              0.1111111111111111,
              "#46039f"
             ],
             [
              0.2222222222222222,
              "#7201a8"
             ],
             [
              0.3333333333333333,
              "#9c179e"
             ],
             [
              0.4444444444444444,
              "#bd3786"
             ],
             [
              0.5555555555555556,
              "#d8576b"
             ],
             [
              0.6666666666666666,
              "#ed7953"
             ],
             [
              0.7777777777777778,
              "#fb9f3a"
             ],
             [
              0.8888888888888888,
              "#fdca26"
             ],
             [
              1.0,
              "#f0f921"
             ]
            ]
           }
          ],
          "heatmap": [
           {
            "type": "heatmap",
            "colorbar": {
             "outlinewidth": 0,
             "ticks": ""
            },
            "colorscale": [
             [
              0.0,
              "#0d0887"
             ],
             [
              0.1111111111111111,
              "#46039f"
             ],
             [
              0.2222222222222222,
              "#7201a8"
             ],
             [
              0.3333333333333333,
              "#9c179e"
             ],
             [
              0.4444444444444444,
              "#bd3786"
             ],
             [
              0.5555555555555556,
              "#d8576b"
             ],
             [
              0.6666666666666666,
              "#ed7953"
             ],
             [
              0.7777777777777778,
              "#fb9f3a"
             ],
             [
              0.8888888888888888,
              "#fdca26"
             ],
             [
              1.0,
              "#f0f921"
             ]
            ]
           }
          ],
          "heatmapgl": [
           {
            "type": "heatmapgl",
            "colorbar": {
             "outlinewidth": 0,
             "ticks": ""
            },
            "colorscale": [
             [
              0.0,
              "#0d0887"
             ],
             [
              0.1111111111111111,
              "#46039f"
             ],
             [
              0.2222222222222222,
              "#7201a8"
             ],
             [
              0.3333333333333333,
              "#9c179e"
             ],
             [
              0.4444444444444444,
              "#bd3786"
             ],
             [
              0.5555555555555556,
              "#d8576b"
             ],
             [
              0.6666666666666666,
              "#ed7953"
             ],
             [
              0.7777777777777778,
              "#fb9f3a"
             ],
             [
              0.8888888888888888,
              "#fdca26"
             ],
             [
              1.0,
              "#f0f921"
             ]
            ]
           }
          ],
          "contourcarpet": [
           {
            "type": "contourcarpet",
            "colorbar": {
             "outlinewidth": 0,
             "ticks": ""
            }
           }
          ],
          "contour": [
           {
            "type": "contour",
            "colorbar": {
             "outlinewidth": 0,
             "ticks": ""
            },
            "colorscale": [
             [
              0.0,
              "#0d0887"
             ],
             [
              0.1111111111111111,
              "#46039f"
             ],
             [
              0.2222222222222222,
              "#7201a8"
             ],
             [
              0.3333333333333333,
              "#9c179e"
             ],
             [
              0.4444444444444444,
              "#bd3786"
             ],
             [
              0.5555555555555556,
              "#d8576b"
             ],
             [
              0.6666666666666666,
              "#ed7953"
             ],
             [
              0.7777777777777778,
              "#fb9f3a"
             ],
             [
              0.8888888888888888,
              "#fdca26"
             ],
             [
              1.0,
              "#f0f921"
             ]
            ]
           }
          ],
          "surface": [
           {
            "type": "surface",
            "colorbar": {
             "outlinewidth": 0,
             "ticks": ""
            },
            "colorscale": [
             [
              0.0,
              "#0d0887"
             ],
             [
              0.1111111111111111,
              "#46039f"
             ],
             [
              0.2222222222222222,
              "#7201a8"
             ],
             [
              0.3333333333333333,
              "#9c179e"
             ],
             [
              0.4444444444444444,
              "#bd3786"
             ],
             [
              0.5555555555555556,
              "#d8576b"
             ],
             [
              0.6666666666666666,
              "#ed7953"
             ],
             [
              0.7777777777777778,
              "#fb9f3a"
             ],
             [
              0.8888888888888888,
              "#fdca26"
             ],
             [
              1.0,
              "#f0f921"
             ]
            ]
           }
          ],
          "mesh3d": [
           {
            "type": "mesh3d",
            "colorbar": {
             "outlinewidth": 0,
             "ticks": ""
            }
           }
          ],
          "scatter": [
           {
            "marker": {
             "line": {
              "color": "#283442"
             }
            },
            "type": "scatter"
           }
          ],
          "parcoords": [
           {
            "type": "parcoords",
            "line": {
             "colorbar": {
              "outlinewidth": 0,
              "ticks": ""
             }
            }
           }
          ],
          "scatterpolargl": [
           {
            "type": "scatterpolargl",
            "marker": {
             "colorbar": {
              "outlinewidth": 0,
              "ticks": ""
             }
            }
           }
          ],
          "bar": [
           {
            "error_x": {
             "color": "#f2f5fa"
            },
            "error_y": {
             "color": "#f2f5fa"
            },
            "marker": {
             "line": {
              "color": "rgb(17,17,17)",
              "width": 0.5
             },
             "pattern": {
              "fillmode": "overlay",
              "size": 10,
              "solidity": 0.2
             }
            },
            "type": "bar"
           }
          ],
          "scattergeo": [
           {
            "type": "scattergeo",
            "marker": {
             "colorbar": {
              "outlinewidth": 0,
              "ticks": ""
             }
            }
           }
          ],
          "scatterpolar": [
           {
            "type": "scatterpolar",
            "marker": {
             "colorbar": {
              "outlinewidth": 0,
              "ticks": ""
             }
            }
           }
          ],
          "histogram": [
           {
            "marker": {
             "pattern": {
              "fillmode": "overlay",
              "size": 10,
              "solidity": 0.2
             }
            },
            "type": "histogram"
           }
          ],
          "scattergl": [
           {
            "marker": {
             "line": {
              "color": "#283442"
             }
            },
            "type": "scattergl"
           }
          ],
          "scatter3d": [
           {
            "type": "scatter3d",
            "line": {
             "colorbar": {
              "outlinewidth": 0,
              "ticks": ""
             }
            },
            "marker": {
             "colorbar": {
              "outlinewidth": 0,
              "ticks": ""
             }
            }
           }
          ],
          "scattermapbox": [
           {
            "type": "scattermapbox",
            "marker": {
             "colorbar": {
              "outlinewidth": 0,
              "ticks": ""
             }
            }
           }
          ],
          "scatterternary": [
           {
            "type": "scatterternary",
            "marker": {
             "colorbar": {
              "outlinewidth": 0,
              "ticks": ""
             }
            }
           }
          ],
          "scattercarpet": [
           {
            "type": "scattercarpet",
            "marker": {
             "colorbar": {
              "outlinewidth": 0,
              "ticks": ""
             }
            }
           }
          ],
          "carpet": [
           {
            "aaxis": {
             "endlinecolor": "#A2B1C6",
             "gridcolor": "#506784",
             "linecolor": "#506784",
             "minorgridcolor": "#506784",
             "startlinecolor": "#A2B1C6"
            },
            "baxis": {
             "endlinecolor": "#A2B1C6",
             "gridcolor": "#506784",
             "linecolor": "#506784",
             "minorgridcolor": "#506784",
             "startlinecolor": "#A2B1C6"
            },
            "type": "carpet"
           }
          ],
          "table": [
           {
            "cells": {
             "fill": {
              "color": "#506784"
             },
             "line": {
              "color": "rgb(17,17,17)"
             }
            },
            "header": {
             "fill": {
              "color": "#2a3f5f"
             },
             "line": {
              "color": "rgb(17,17,17)"
             }
            },
            "type": "table"
           }
          ],
          "barpolar": [
           {
            "marker": {
             "line": {
              "color": "rgb(17,17,17)",
              "width": 0.5
             },
             "pattern": {
              "fillmode": "overlay",
              "size": 10,
              "solidity": 0.2
             }
            },
            "type": "barpolar"
           }
          ],
          "pie": [
           {
            "automargin": true,
            "type": "pie"
           }
          ]
         },
         "layout": {
          "autotypenumbers": "strict",
          "colorway": [
           "#636efa",
           "#EF553B",
           "#00cc96",
           "#ab63fa",
           "#FFA15A",
           "#19d3f3",
           "#FF6692",
           "#B6E880",
           "#FF97FF",
           "#FECB52"
          ],
          "font": {
           "color": "#f2f5fa"
          },
          "hovermode": "closest",
          "hoverlabel": {
           "align": "left"
          },
          "paper_bgcolor": "rgb(17,17,17)",
          "plot_bgcolor": "rgb(17,17,17)",
          "polar": {
           "bgcolor": "rgb(17,17,17)",
           "angularaxis": {
            "gridcolor": "#506784",
            "linecolor": "#506784",
            "ticks": ""
           },
           "radialaxis": {
            "gridcolor": "#506784",
            "linecolor": "#506784",
            "ticks": ""
           }
          },
          "ternary": {
           "bgcolor": "rgb(17,17,17)",
           "aaxis": {
            "gridcolor": "#506784",
            "linecolor": "#506784",
            "ticks": ""
           },
           "baxis": {
            "gridcolor": "#506784",
            "linecolor": "#506784",
            "ticks": ""
           },
           "caxis": {
            "gridcolor": "#506784",
            "linecolor": "#506784",
            "ticks": ""
           }
          },
          "coloraxis": {
           "colorbar": {
            "outlinewidth": 0,
            "ticks": ""
           }
          },
          "colorscale": {
           "sequential": [
            [
             0.0,
             "#0d0887"
            ],
            [
             0.1111111111111111,
             "#46039f"
            ],
            [
             0.2222222222222222,
             "#7201a8"
            ],
            [
             0.3333333333333333,
             "#9c179e"
            ],
            [
             0.4444444444444444,
             "#bd3786"
            ],
            [
             0.5555555555555556,
             "#d8576b"
            ],
            [
             0.6666666666666666,
             "#ed7953"
            ],
            [
             0.7777777777777778,
             "#fb9f3a"
            ],
            [
             0.8888888888888888,
             "#fdca26"
            ],
            [
             1.0,
             "#f0f921"
            ]
           ],
           "sequentialminus": [
            [
             0.0,
             "#0d0887"
            ],
            [
             0.1111111111111111,
             "#46039f"
            ],
            [
             0.2222222222222222,
             "#7201a8"
            ],
            [
             0.3333333333333333,
             "#9c179e"
            ],
            [
             0.4444444444444444,
             "#bd3786"
            ],
            [
             0.5555555555555556,
             "#d8576b"
            ],
            [
             0.6666666666666666,
             "#ed7953"
            ],
            [
             0.7777777777777778,
             "#fb9f3a"
            ],
            [
             0.8888888888888888,
             "#fdca26"
            ],
            [
             1.0,
             "#f0f921"
            ]
           ],
           "diverging": [
            [
             0,
             "#8e0152"
            ],
            [
             0.1,
             "#c51b7d"
            ],
            [
             0.2,
             "#de77ae"
            ],
            [
             0.3,
             "#f1b6da"
            ],
            [
             0.4,
             "#fde0ef"
            ],
            [
             0.5,
             "#f7f7f7"
            ],
            [
             0.6,
             "#e6f5d0"
            ],
            [
             0.7,
             "#b8e186"
            ],
            [
             0.8,
             "#7fbc41"
            ],
            [
             0.9,
             "#4d9221"
            ],
            [
             1,
             "#276419"
            ]
           ]
          },
          "xaxis": {
           "gridcolor": "#283442",
           "linecolor": "#506784",
           "ticks": "",
           "title": {
            "standoff": 15
           },
           "zerolinecolor": "#283442",
           "automargin": true,
           "zerolinewidth": 2
          },
          "yaxis": {
           "gridcolor": "#283442",
           "linecolor": "#506784",
           "ticks": "",
           "title": {
            "standoff": 15
           },
           "zerolinecolor": "#283442",
           "automargin": true,
           "zerolinewidth": 2
          },
          "scene": {
           "xaxis": {
            "backgroundcolor": "rgb(17,17,17)",
            "gridcolor": "#506784",
            "linecolor": "#506784",
            "showbackground": true,
            "ticks": "",
            "zerolinecolor": "#C8D4E3",
            "gridwidth": 2
           },
           "yaxis": {
            "backgroundcolor": "rgb(17,17,17)",
            "gridcolor": "#506784",
            "linecolor": "#506784",
            "showbackground": true,
            "ticks": "",
            "zerolinecolor": "#C8D4E3",
            "gridwidth": 2
           },
           "zaxis": {
            "backgroundcolor": "rgb(17,17,17)",
            "gridcolor": "#506784",
            "linecolor": "#506784",
            "showbackground": true,
            "ticks": "",
            "zerolinecolor": "#C8D4E3",
            "gridwidth": 2
           }
          },
          "shapedefaults": {
           "line": {
            "color": "#f2f5fa"
           }
          },
          "annotationdefaults": {
           "arrowcolor": "#f2f5fa",
           "arrowhead": 0,
           "arrowwidth": 1
          },
          "geo": {
           "bgcolor": "rgb(17,17,17)",
           "landcolor": "rgb(17,17,17)",
           "subunitcolor": "#506784",
           "showland": true,
           "showlakes": true,
           "lakecolor": "rgb(17,17,17)"
          },
          "title": {
           "x": 0.05
          },
          "updatemenudefaults": {
           "bgcolor": "#506784",
           "borderwidth": 0
          },
          "sliderdefaults": {
           "bgcolor": "#C8D4E3",
           "borderwidth": 1,
           "bordercolor": "rgb(17,17,17)",
           "tickwidth": 0
          },
          "mapbox": {
           "style": "dark"
          }
         }
        },
        "xaxis": {
         "anchor": "y",
         "domain": [
          0.0,
          1.0
         ],
         "title": {
          "text": "Year"
         },
         "range": [
          1990,
          2013
         ],
         "categoryorder": "array",
         "categoryarray": [
          1990,
          1991,
          1992,
          1993,
          1994,
          1995,
          1996,
          1997,
          1998,
          1999,
          2000,
          2001,
          2002,
          2003,
          2004,
          2005,
          2006,
          2007,
          2008,
          2009,
          2010,
          2011,
          2012,
          2013
         ]
        },
        "yaxis": {
         "anchor": "x",
         "domain": [
          0.0,
          1.0
         ],
         "title": {
          "text": "CountryIndex"
         },
         "tickvals": [
          600,
          500,
          400,
          300,
          200,
          100
         ],
         "ticktext": [
          "Brazil",
          "Viet Nam",
          "Colombia",
          "Indonesia",
          "Ethiopia",
          "Honduras"
         ]
        },
        "coloraxis": {
         "colorbar": {
          "title": {
           "text": "ExportVolume"
          }
         },
         "colorscale": [
          [
           0.0,
           "#0d0887"
          ],
          [
           0.1111111111111111,
           "#46039f"
          ],
          [
           0.2222222222222222,
           "#7201a8"
          ],
          [
           0.3333333333333333,
           "#9c179e"
          ],
          [
           0.4444444444444444,
           "#bd3786"
          ],
          [
           0.5555555555555556,
           "#d8576b"
          ],
          [
           0.6666666666666666,
           "#ed7953"
          ],
          [
           0.7777777777777778,
           "#fb9f3a"
          ],
          [
           0.8888888888888888,
           "#fdca26"
          ],
          [
           1.0,
           "#f0f921"
          ]
         ]
        },
        "legend": {
         "tracegroupgap": 0,
         "itemsizing": "constant"
        },
        "margin": {
         "t": 60
        },
        "updatemenus": [
         {
          "buttons": [
           {
            "args": [
             null,
             {
              "frame": {
               "duration": 500,
               "redraw": false
              },
              "mode": "immediate",
              "fromcurrent": true,
              "transition": {
               "duration": 500,
               "easing": "linear"
              }
             }
            ],
            "label": "&#9654;",
            "method": "animate"
           },
           {
            "args": [
             [
              null
             ],
             {
              "frame": {
               "duration": 0,
               "redraw": false
              },
              "mode": "immediate",
              "fromcurrent": true,
              "transition": {
               "duration": 0,
               "easing": "linear"
              }
             }
            ],
            "label": "&#9724;",
            "method": "animate"
           }
          ],
          "direction": "left",
          "pad": {
           "r": 10,
           "t": 70
          },
          "showactive": false,
          "type": "buttons",
          "x": 0.1,
          "xanchor": "right",
          "y": 0,
          "yanchor": "top"
         }
        ],
        "sliders": [
         {
          "active": 0,
          "currentvalue": {
           "prefix": "Year="
          },
          "len": 0.9,
          "pad": {
           "b": 10,
           "t": 60
          },
          "steps": [
           {
            "args": [
             [
              "1990"
             ],
             {
              "frame": {
               "duration": 0,
               "redraw": false
              },
              "mode": "immediate",
              "fromcurrent": true,
              "transition": {
               "duration": 0,
               "easing": "linear"
              }
             }
            ],
            "label": "1990",
            "method": "animate"
           },
           {
            "args": [
             [
              "1991"
             ],
             {
              "frame": {
               "duration": 0,
               "redraw": false
              },
              "mode": "immediate",
              "fromcurrent": true,
              "transition": {
               "duration": 0,
               "easing": "linear"
              }
             }
            ],
            "label": "1991",
            "method": "animate"
           },
           {
            "args": [
             [
              "1992"
             ],
             {
              "frame": {
               "duration": 0,
               "redraw": false
              },
              "mode": "immediate",
              "fromcurrent": true,
              "transition": {
               "duration": 0,
               "easing": "linear"
              }
             }
            ],
            "label": "1992",
            "method": "animate"
           },
           {
            "args": [
             [
              "1993"
             ],
             {
              "frame": {
               "duration": 0,
               "redraw": false
              },
              "mode": "immediate",
              "fromcurrent": true,
              "transition": {
               "duration": 0,
               "easing": "linear"
              }
             }
            ],
            "label": "1993",
            "method": "animate"
           },
           {
            "args": [
             [
              "1994"
             ],
             {
              "frame": {
               "duration": 0,
               "redraw": false
              },
              "mode": "immediate",
              "fromcurrent": true,
              "transition": {
               "duration": 0,
               "easing": "linear"
              }
             }
            ],
            "label": "1994",
            "method": "animate"
           },
           {
            "args": [
             [
              "1995"
             ],
             {
              "frame": {
               "duration": 0,
               "redraw": false
              },
              "mode": "immediate",
              "fromcurrent": true,
              "transition": {
               "duration": 0,
               "easing": "linear"
              }
             }
            ],
            "label": "1995",
            "method": "animate"
           },
           {
            "args": [
             [
              "1996"
             ],
             {
              "frame": {
               "duration": 0,
               "redraw": false
              },
              "mode": "immediate",
              "fromcurrent": true,
              "transition": {
               "duration": 0,
               "easing": "linear"
              }
             }
            ],
            "label": "1996",
            "method": "animate"
           },
           {
            "args": [
             [
              "1997"
             ],
             {
              "frame": {
               "duration": 0,
               "redraw": false
              },
              "mode": "immediate",
              "fromcurrent": true,
              "transition": {
               "duration": 0,
               "easing": "linear"
              }
             }
            ],
            "label": "1997",
            "method": "animate"
           },
           {
            "args": [
             [
              "1998"
             ],
             {
              "frame": {
               "duration": 0,
               "redraw": false
              },
              "mode": "immediate",
              "fromcurrent": true,
              "transition": {
               "duration": 0,
               "easing": "linear"
              }
             }
            ],
            "label": "1998",
            "method": "animate"
           },
           {
            "args": [
             [
              "1999"
             ],
             {
              "frame": {
               "duration": 0,
               "redraw": false
              },
              "mode": "immediate",
              "fromcurrent": true,
              "transition": {
               "duration": 0,
               "easing": "linear"
              }
             }
            ],
            "label": "1999",
            "method": "animate"
           },
           {
            "args": [
             [
              "2000"
             ],
             {
              "frame": {
               "duration": 0,
               "redraw": false
              },
              "mode": "immediate",
              "fromcurrent": true,
              "transition": {
               "duration": 0,
               "easing": "linear"
              }
             }
            ],
            "label": "2000",
            "method": "animate"
           },
           {
            "args": [
             [
              "2001"
             ],
             {
              "frame": {
               "duration": 0,
               "redraw": false
              },
              "mode": "immediate",
              "fromcurrent": true,
              "transition": {
               "duration": 0,
               "easing": "linear"
              }
             }
            ],
            "label": "2001",
            "method": "animate"
           },
           {
            "args": [
             [
              "2002"
             ],
             {
              "frame": {
               "duration": 0,
               "redraw": false
              },
              "mode": "immediate",
              "fromcurrent": true,
              "transition": {
               "duration": 0,
               "easing": "linear"
              }
             }
            ],
            "label": "2002",
            "method": "animate"
           },
           {
            "args": [
             [
              "2003"
             ],
             {
              "frame": {
               "duration": 0,
               "redraw": false
              },
              "mode": "immediate",
              "fromcurrent": true,
              "transition": {
               "duration": 0,
               "easing": "linear"
              }
             }
            ],
            "label": "2003",
            "method": "animate"
           },
           {
            "args": [
             [
              "2004"
             ],
             {
              "frame": {
               "duration": 0,
               "redraw": false
              },
              "mode": "immediate",
              "fromcurrent": true,
              "transition": {
               "duration": 0,
               "easing": "linear"
              }
             }
            ],
            "label": "2004",
            "method": "animate"
           },
           {
            "args": [
             [
              "2005"
             ],
             {
              "frame": {
               "duration": 0,
               "redraw": false
              },
              "mode": "immediate",
              "fromcurrent": true,
              "transition": {
               "duration": 0,
               "easing": "linear"
              }
             }
            ],
            "label": "2005",
            "method": "animate"
           },
           {
            "args": [
             [
              "2006"
             ],
             {
              "frame": {
               "duration": 0,
               "redraw": false
              },
              "mode": "immediate",
              "fromcurrent": true,
              "transition": {
               "duration": 0,
               "easing": "linear"
              }
             }
            ],
            "label": "2006",
            "method": "animate"
           },
           {
            "args": [
             [
              "2007"
             ],
             {
              "frame": {
               "duration": 0,
               "redraw": false
              },
              "mode": "immediate",
              "fromcurrent": true,
              "transition": {
               "duration": 0,
               "easing": "linear"
              }
             }
            ],
            "label": "2007",
            "method": "animate"
           },
           {
            "args": [
             [
              "2008"
             ],
             {
              "frame": {
               "duration": 0,
               "redraw": false
              },
              "mode": "immediate",
              "fromcurrent": true,
              "transition": {
               "duration": 0,
               "easing": "linear"
              }
             }
            ],
            "label": "2008",
            "method": "animate"
           },
           {
            "args": [
             [
              "2009"
             ],
             {
              "frame": {
               "duration": 0,
               "redraw": false
              },
              "mode": "immediate",
              "fromcurrent": true,
              "transition": {
               "duration": 0,
               "easing": "linear"
              }
             }
            ],
            "label": "2009",
            "method": "animate"
           },
           {
            "args": [
             [
              "2010"
             ],
             {
              "frame": {
               "duration": 0,
               "redraw": false
              },
              "mode": "immediate",
              "fromcurrent": true,
              "transition": {
               "duration": 0,
               "easing": "linear"
              }
             }
            ],
            "label": "2010",
            "method": "animate"
           },
           {
            "args": [
             [
              "2011"
             ],
             {
              "frame": {
               "duration": 0,
               "redraw": false
              },
              "mode": "immediate",
              "fromcurrent": true,
              "transition": {
               "duration": 0,
               "easing": "linear"
              }
             }
            ],
            "label": "2011",
            "method": "animate"
           },
           {
            "args": [
             [
              "2012"
             ],
             {
              "frame": {
               "duration": 0,
               "redraw": false
              },
              "mode": "immediate",
              "fromcurrent": true,
              "transition": {
               "duration": 0,
               "easing": "linear"
              }
             }
            ],
            "label": "2012",
            "method": "animate"
           },
           {
            "args": [
             [
              "2013"
             ],
             {
              "frame": {
               "duration": 0,
               "redraw": false
              },
              "mode": "immediate",
              "fromcurrent": true,
              "transition": {
               "duration": 0,
               "easing": "linear"
              }
             }
            ],
            "label": "2013",
            "method": "animate"
           }
          ],
          "x": 0.1,
          "xanchor": "left",
          "y": 0,
          "yanchor": "top"
         }
        ]
       },
       "frames": [
        {
         "data": [
          {
           "hovertemplate": "<b>%{hovertext}</b><br><br>Year=%{x}<br>CountryIndex=%{y}<br>ExportVolume=%{marker.color}<extra></extra>",
           "hovertext": [
            "Brazil",
            "Colombia",
            "Ethiopia",
            "Honduras",
            "Indonesia",
            "Viet Nam"
           ],
           "legendgroup": "",
           "marker": {
            "color": [
             16935.7876003,
             13943.8700004,
             1074.101,
             1735.093,
             6903.2269994,
             1145.2340014
            ],
            "coloraxis": "coloraxis",
            "size": [
             16935.7876003,
             13943.8700004,
             1074.101,
             1735.093,
             6903.2269994,
             1145.2340014
            ],
            "sizemode": "area",
            "sizeref": 9.390558146611111,
            "symbol": "circle"
           },
           "mode": "markers",
           "name": "",
           "orientation": "v",
           "showlegend": false,
           "x": [
            1990,
            1990,
            1990,
            1990,
            1990,
            1990
           ],
           "xaxis": "x",
           "y": [
            600,
            400,
            200,
            100,
            300,
            500
           ],
           "yaxis": "y",
           "type": "scatter"
          }
         ],
         "name": "1990"
        },
        {
         "data": [
          {
           "hovertemplate": "<b>%{hovertext}</b><br><br>Year=%{x}<br>CountryIndex=%{y}<br>ExportVolume=%{marker.color}<extra></extra>",
           "hovertext": [
            "Brazil",
            "Colombia",
            "Ethiopia",
            "Honduras",
            "Indonesia",
            "Viet Nam"
           ],
           "legendgroup": "",
           "marker": {
            "color": [
             21182.7614023,
             12599.1849983,
             841.329,
             1444.363,
             6170.7960001,
             1200.952
            ],
            "coloraxis": "coloraxis",
            "size": [
             21182.7614023,
             12599.1849983,
             841.329,
             1444.363,
             6170.7960001,
             1200.952
            ],
            "sizemode": "area",
            "sizeref": 9.390558146611111,
            "symbol": "circle"
           },
           "mode": "markers",
           "name": "",
           "orientation": "v",
           "showlegend": false,
           "x": [
            1991,
            1991,
            1991,
            1991,
            1991,
            1991
           ],
           "xaxis": "x",
           "y": [
            600,
            400,
            200,
            100,
            300,
            500
           ],
           "yaxis": "y",
           "type": "scatter"
          }
         ],
         "name": "1991"
        },
        {
         "data": [
          {
           "hovertemplate": "<b>%{hovertext}</b><br><br>Year=%{x}<br>CountryIndex=%{y}<br>ExportVolume=%{marker.color}<extra></extra>",
           "hovertext": [
            "Brazil",
            "Colombia",
            "Ethiopia",
            "Honduras",
            "Indonesia",
            "Viet Nam"
           ],
           "legendgroup": "",
           "marker": {
            "color": [
             18790.7192021,
             16564.3700008,
             734.461,
             1960.071,
             4603.6959999,
             1937.611
            ],
            "coloraxis": "coloraxis",
            "size": [
             18790.7192021,
             16564.3700008,
             734.461,
             1960.071,
             4603.6959999,
             1937.611
            ],
            "sizemode": "area",
            "sizeref": 9.390558146611111,
            "symbol": "circle"
           },
           "mode": "markers",
           "name": "",
           "orientation": "v",
           "showlegend": false,
           "x": [
            1992,
            1992,
            1992,
            1992,
            1992,
            1992
           ],
           "xaxis": "x",
           "y": [
            600,
            400,
            200,
            100,
            300,
            500
           ],
           "yaxis": "y",
           "type": "scatter"
          }
         ],
         "name": "1992"
        },
        {
         "data": [
          {
           "hovertemplate": "<b>%{hovertext}</b><br><br>Year=%{x}<br>CountryIndex=%{y}<br>ExportVolume=%{marker.color}<extra></extra>",
           "hovertext": [
            "Brazil",
            "Colombia",
            "Ethiopia",
            "Honduras",
            "Indonesia",
            "Viet Nam"
           ],
           "legendgroup": "",
           "marker": {
            "color": [
             17837.7479992,
             13568.3620035,
             1166.778,
             1705.317,
             5662.0940006,
             2071.8369999
            ],
            "coloraxis": "coloraxis",
            "size": [
             17837.7479992,
             13568.3620035,
             1166.778,
             1705.317,
             5662.0940006,
             2071.8369999
            ],
            "sizemode": "area",
            "sizeref": 9.390558146611111,
            "symbol": "circle"
           },
           "mode": "markers",
           "name": "",
           "orientation": "v",
           "showlegend": false,
           "x": [
            1993,
            1993,
            1993,
            1993,
            1993,
            1993
           ],
           "xaxis": "x",
           "y": [
            600,
            400,
            200,
            100,
            300,
            500
           ],
           "yaxis": "y",
           "type": "scatter"
          }
         ],
         "name": "1993"
        },
        {
         "data": [
          {
           "hovertemplate": "<b>%{hovertext}</b><br><br>Year=%{x}<br>CountryIndex=%{y}<br>ExportVolume=%{marker.color}<extra></extra>",
           "hovertext": [
            "Brazil",
            "Colombia",
            "Ethiopia",
            "Honduras",
            "Indonesia",
            "Viet Nam"
           ],
           "legendgroup": "",
           "marker": {
            "color": [
             17273.1476003,
             11768.0890004,
             1475.325,
             1718.185,
             4604.6299989,
             2720.911
            ],
            "coloraxis": "coloraxis",
            "size": [
             17273.1476003,
             11768.0890004,
             1475.325,
             1718.185,
             4604.6299989,
             2720.911
            ],
            "sizemode": "area",
            "sizeref": 9.390558146611111,
            "symbol": "circle"
           },
           "mode": "markers",
           "name": "",
           "orientation": "v",
           "showlegend": false,
           "x": [
            1994,
            1994,
            1994,
            1994,
            1994,
            1994
           ],
           "xaxis": "x",
           "y": [
            600,
            400,
            200,
            100,
            300,
            500
           ],
           "yaxis": "y",
           "type": "scatter"
          }
         ],
         "name": "1994"
        },
        {
         "data": [
          {
           "hovertemplate": "<b>%{hovertext}</b><br><br>Year=%{x}<br>CountryIndex=%{y}<br>ExportVolume=%{marker.color}<extra></extra>",
           "hovertext": [
            "Brazil",
            "Colombia",
            "Ethiopia",
            "Honduras",
            "Indonesia",
            "Viet Nam"
           ],
           "legendgroup": "",
           "marker": {
            "color": [
             14468.4322014,
             9814.1969996,
             1276.118,
             1795.963,
             3946.5850006,
             3546.405
            ],
            "coloraxis": "coloraxis",
            "size": [
             14468.4322014,
             9814.1969996,
             1276.118,
             1795.963,
             3946.5850006,
             3546.405
            ],
            "sizemode": "area",
            "sizeref": 9.390558146611111,
            "symbol": "circle"
           },
           "mode": "markers",
           "name": "",
           "orientation": "v",
           "showlegend": false,
           "x": [
            1995,
            1995,
            1995,
            1995,
            1995,
            1995
           ],
           "xaxis": "x",
           "y": [
            600,
            400,
            200,
            100,
            300,
            500
           ],
           "yaxis": "y",
           "type": "scatter"
          }
         ],
         "name": "1995"
        },
        {
         "data": [
          {
           "hovertemplate": "<b>%{hovertext}</b><br><br>Year=%{x}<br>CountryIndex=%{y}<br>ExportVolume=%{marker.color}<extra></extra>",
           "hovertext": [
            "Brazil",
            "Colombia",
            "Ethiopia",
            "Honduras",
            "Indonesia",
            "Viet Nam"
           ],
           "legendgroup": "",
           "marker": {
            "color": [
             15250.6090018,
             10588.4309984,
             1838.231,
             2059.76,
             6440.28,
             3779.415
            ],
            "coloraxis": "coloraxis",
            "size": [
             15250.6090018,
             10588.4309984,
             1838.231,
             2059.76,
             6440.28,
             3779.415
            ],
            "sizemode": "area",
            "sizeref": 9.390558146611111,
            "symbol": "circle"
           },
           "mode": "markers",
           "name": "",
           "orientation": "v",
           "showlegend": false,
           "x": [
            1996,
            1996,
            1996,
            1996,
            1996,
            1996
           ],
           "xaxis": "x",
           "y": [
            600,
            400,
            200,
            100,
            300,
            500
           ],
           "yaxis": "y",
           "type": "scatter"
          }
         ],
         "name": "1996"
        },
        {
         "data": [
          {
           "hovertemplate": "<b>%{hovertext}</b><br><br>Year=%{x}<br>CountryIndex=%{y}<br>ExportVolume=%{marker.color}<extra></extra>",
           "hovertext": [
            "Brazil",
            "Colombia",
            "Ethiopia",
            "Honduras",
            "Indonesia",
            "Viet Nam"
           ],
           "legendgroup": "",
           "marker": {
            "color": [
             16801.2600051,
             10918.8630016,
             1979.733,
             1722.482,
             5755.0779999,
             6177.8340002
            ],
            "coloraxis": "coloraxis",
            "size": [
             16801.2600051,
             10918.8630016,
             1979.733,
             1722.482,
             5755.0779999,
             6177.8340002
            ],
            "sizemode": "area",
            "sizeref": 9.390558146611111,
            "symbol": "circle"
           },
           "mode": "markers",
           "name": "",
           "orientation": "v",
           "showlegend": false,
           "x": [
            1997,
            1997,
            1997,
            1997,
            1997,
            1997
           ],
           "xaxis": "x",
           "y": [
            600,
            400,
            200,
            100,
            300,
            500
           ],
           "yaxis": "y",
           "type": "scatter"
          }
         ],
         "name": "1997"
        },
        {
         "data": [
          {
           "hovertemplate": "<b>%{hovertext}</b><br><br>Year=%{x}<br>CountryIndex=%{y}<br>ExportVolume=%{marker.color}<extra></extra>",
           "hovertext": [
            "Brazil",
            "Colombia",
            "Ethiopia",
            "Honduras",
            "Indonesia",
            "Viet Nam"
           ],
           "legendgroup": "",
           "marker": {
            "color": [
             18144.3883339,
             11259.9289995,
             1917.061,
             2329.274,
             5598.0319992,
             6466.7120002
            ],
            "coloraxis": "coloraxis",
            "size": [
             18144.3883339,
             11259.9289995,
             1917.061,
             2329.274,
             5598.0319992,
             6466.7120002
            ],
            "sizemode": "area",
            "sizeref": 9.390558146611111,
            "symbol": "circle"
           },
           "mode": "markers",
           "name": "",
           "orientation": "v",
           "showlegend": false,
           "x": [
            1998,
            1998,
            1998,
            1998,
            1998,
            1998
           ],
           "xaxis": "x",
           "y": [
            600,
            400,
            200,
            100,
            300,
            500
           ],
           "yaxis": "y",
           "type": "scatter"
          }
         ],
         "name": "1998"
        },
        {
         "data": [
          {
           "hovertemplate": "<b>%{hovertext}</b><br><br>Year=%{x}<br>CountryIndex=%{y}<br>ExportVolume=%{marker.color}<extra></extra>",
           "hovertext": [
            "Brazil",
            "Colombia",
            "Ethiopia",
            "Honduras",
            "Indonesia",
            "Viet Nam"
           ],
           "legendgroup": "",
           "marker": {
            "color": [
             23149.2038037,
             9995.3100014,
             1818.087,
             1986.603,
             5115.0269995,
             7727.0130001
            ],
            "coloraxis": "coloraxis",
            "size": [
             23149.2038037,
             9995.3100014,
             1818.087,
             1986.603,
             5115.0269995,
             7727.0130001
            ],
            "sizemode": "area",
            "sizeref": 9.390558146611111,
            "symbol": "circle"
           },
           "mode": "markers",
           "name": "",
           "orientation": "v",
           "showlegend": false,
           "x": [
            1999,
            1999,
            1999,
            1999,
            1999,
            1999
           ],
           "xaxis": "x",
           "y": [
            600,
            400,
            200,
            100,
            300,
            500
           ],
           "yaxis": "y",
           "type": "scatter"
          }
         ],
         "name": "1999"
        },
        {
         "data": [
          {
           "hovertemplate": "<b>%{hovertext}</b><br><br>Year=%{x}<br>CountryIndex=%{y}<br>ExportVolume=%{marker.color}<extra></extra>",
           "hovertext": [
            "Brazil",
            "Colombia",
            "Ethiopia",
            "Honduras",
            "Indonesia",
            "Viet Nam"
           ],
           "legendgroup": "",
           "marker": {
            "color": [
             18016.2606406,
             9176.6609102,
             1981.856,
             2878.56,
             5357.59886,
             11618.3758499
            ],
            "coloraxis": "coloraxis",
            "size": [
             18016.2606406,
             9176.6609102,
             1981.856,
             2878.56,
             5357.59886,
             11618.3758499
            ],
            "sizemode": "area",
            "sizeref": 9.390558146611111,
            "symbol": "circle"
           },
           "mode": "markers",
           "name": "",
           "orientation": "v",
           "showlegend": false,
           "x": [
            2000,
            2000,
            2000,
            2000,
            2000,
            2000
           ],
           "xaxis": "x",
           "y": [
            600,
            400,
            200,
            100,
            300,
            500
           ],
           "yaxis": "y",
           "type": "scatter"
          }
         ],
         "name": "2000"
        },
        {
         "data": [
          {
           "hovertemplate": "<b>%{hovertext}</b><br><br>Year=%{x}<br>CountryIndex=%{y}<br>ExportVolume=%{marker.color}<extra></extra>",
           "hovertext": [
            "Brazil",
            "Colombia",
            "Ethiopia",
            "Honduras",
            "Indonesia",
            "Viet Nam"
           ],
           "legendgroup": "",
           "marker": {
            "color": [
             23172.486512,
             9943.6300006,
             1376.062,
             2391.613,
             5243.4050012,
             14106.4430005
            ],
            "coloraxis": "coloraxis",
            "size": [
             23172.486512,
             9943.6300006,
             1376.062,
             2391.613,
             5243.4050012,
             14106.4430005
            ],
            "sizemode": "area",
            "sizeref": 9.390558146611111,
            "symbol": "circle"
           },
           "mode": "markers",
           "name": "",
           "orientation": "v",
           "showlegend": false,
           "x": [
            2001,
            2001,
            2001,
            2001,
            2001,
            2001
           ],
           "xaxis": "x",
           "y": [
            600,
            400,
            200,
            100,
            300,
            500
           ],
           "yaxis": "y",
           "type": "scatter"
          }
         ],
         "name": "2001"
        },
        {
         "data": [
          {
           "hovertemplate": "<b>%{hovertext}</b><br><br>Year=%{x}<br>CountryIndex=%{y}<br>ExportVolume=%{marker.color}<extra></extra>",
           "hovertext": [
            "Brazil",
            "Colombia",
            "Ethiopia",
            "Honduras",
            "Indonesia",
            "Viet Nam"
           ],
           "legendgroup": "",
           "marker": {
            "color": [
             27981.8389351,
             10273.4249979,
             2054.678,
             2711.26,
             4285.830001,
             11771.3669994
            ],
            "coloraxis": "coloraxis",
            "size": [
             27981.8389351,
             10273.4249979,
             2054.678,
             2711.26,
             4285.830001,
             11771.3669994
            ],
            "sizemode": "area",
            "sizeref": 9.390558146611111,
            "symbol": "circle"
           },
           "mode": "markers",
           "name": "",
           "orientation": "v",
           "showlegend": false,
           "x": [
            2002,
            2002,
            2002,
            2002,
            2002,
            2002
           ],
           "xaxis": "x",
           "y": [
            600,
            400,
            200,
            100,
            300,
            500
           ],
           "yaxis": "y",
           "type": "scatter"
          }
         ],
         "name": "2002"
        },
        {
         "data": [
          {
           "hovertemplate": "<b>%{hovertext}</b><br><br>Year=%{x}<br>CountryIndex=%{y}<br>ExportVolume=%{marker.color}<extra></extra>",
           "hovertext": [
            "Brazil",
            "Colombia",
            "Ethiopia",
            "Honduras",
            "Indonesia",
            "Viet Nam"
           ],
           "legendgroup": "",
           "marker": {
            "color": [
             25710.8116628,
             10244.3919993,
             2229.143,
             2425.237,
             4794.7200006,
             11631.1110003
            ],
            "coloraxis": "coloraxis",
            "size": [
             25710.8116628,
             10244.3919993,
             2229.143,
             2425.237,
             4794.7200006,
             11631.1110003
            ],
            "sizemode": "area",
            "sizeref": 9.390558146611111,
            "symbol": "circle"
           },
           "mode": "markers",
           "name": "",
           "orientation": "v",
           "showlegend": false,
           "x": [
            2003,
            2003,
            2003,
            2003,
            2003,
            2003
           ],
           "xaxis": "x",
           "y": [
            600,
            400,
            200,
            100,
            300,
            500
           ],
           "yaxis": "y",
           "type": "scatter"
          }
         ],
         "name": "2003"
        },
        {
         "data": [
          {
           "hovertemplate": "<b>%{hovertext}</b><br><br>Year=%{x}<br>CountryIndex=%{y}<br>ExportVolume=%{marker.color}<extra></extra>",
           "hovertext": [
            "Brazil",
            "Colombia",
            "Ethiopia",
            "Honduras",
            "Indonesia",
            "Viet Nam"
           ],
           "legendgroup": "",
           "marker": {
            "color": [
             26478.4750901,
             10194.3150011,
             2490.944,
             2779.189,
             5455.5989996,
             14858.9909998
            ],
            "coloraxis": "coloraxis",
            "size": [
             26478.4750901,
             10194.3150011,
             2490.944,
             2779.189,
             5455.5989996,
             14858.9909998
            ],
            "sizemode": "area",
            "sizeref": 9.390558146611111,
            "symbol": "circle"
           },
           "mode": "markers",
           "name": "",
           "orientation": "v",
           "showlegend": false,
           "x": [
            2004,
            2004,
            2004,
            2004,
            2004,
            2004
           ],
           "xaxis": "x",
           "y": [
            600,
            400,
            200,
            100,
            300,
            500
           ],
           "yaxis": "y",
           "type": "scatter"
          }
         ],
         "name": "2004"
        },
        {
         "data": [
          {
           "hovertemplate": "<b>%{hovertext}</b><br><br>Year=%{x}<br>CountryIndex=%{y}<br>ExportVolume=%{marker.color}<extra></extra>",
           "hovertext": [
            "Brazil",
            "Colombia",
            "Ethiopia",
            "Honduras",
            "Indonesia",
            "Viet Nam"
           ],
           "legendgroup": "",
           "marker": {
            "color": [
             26198.0554467,
             10871.2469708,
             2435.069,
             2391.90535,
             6744.09393,
             13432.0335533
            ],
            "coloraxis": "coloraxis",
            "size": [
             26198.0554467,
             10871.2469708,
             2435.069,
             2391.90535,
             6744.09393,
             13432.0335533
            ],
            "sizemode": "area",
            "sizeref": 9.390558146611111,
            "symbol": "circle"
           },
           "mode": "markers",
           "name": "",
           "orientation": "v",
           "showlegend": false,
           "x": [
            2005,
            2005,
            2005,
            2005,
            2005,
            2005
           ],
           "xaxis": "x",
           "y": [
            600,
            400,
            200,
            100,
            300,
            500
           ],
           "yaxis": "y",
           "type": "scatter"
          }
         ],
         "name": "2005"
        },
        {
         "data": [
          {
           "hovertemplate": "<b>%{hovertext}</b><br><br>Year=%{x}<br>CountryIndex=%{y}<br>ExportVolume=%{marker.color}<extra></extra>",
           "hovertext": [
            "Brazil",
            "Colombia",
            "Ethiopia",
            "Honduras",
            "Indonesia",
            "Viet Nam"
           ],
           "legendgroup": "",
           "marker": {
            "color": [
             27368.9019587,
             10944.8534601,
             2935.56,
             2898.4144369,
             5280.4349134,
             13904.70204
            ],
            "coloraxis": "coloraxis",
            "size": [
             27368.9019587,
             10944.8534601,
             2935.56,
             2898.4144369,
             5280.4349134,
             13904.70204
            ],
            "sizemode": "area",
            "sizeref": 9.390558146611111,
            "symbol": "circle"
           },
           "mode": "markers",
           "name": "",
           "orientation": "v",
           "showlegend": false,
           "x": [
            2006,
            2006,
            2006,
            2006,
            2006,
            2006
           ],
           "xaxis": "x",
           "y": [
            600,
            400,
            200,
            100,
            300,
            500
           ],
           "yaxis": "y",
           "type": "scatter"
          }
         ],
         "name": "2006"
        },
        {
         "data": [
          {
           "hovertemplate": "<b>%{hovertext}</b><br><br>Year=%{x}<br>CountryIndex=%{y}<br>ExportVolume=%{marker.color}<extra></extra>",
           "hovertext": [
            "Brazil",
            "Colombia",
            "Ethiopia",
            "Honduras",
            "Indonesia",
            "Viet Nam"
           ],
           "legendgroup": "",
           "marker": {
            "color": [
             28183.5739472,
             11300.4206901,
             2604.008,
             3312.0085632,
             4149.4101006,
             17936.2186134
            ],
            "coloraxis": "coloraxis",
            "size": [
             28183.5739472,
             11300.4206901,
             2604.008,
             3312.0085632,
             4149.4101006,
             17936.2186134
            ],
            "sizemode": "area",
            "sizeref": 9.390558146611111,
            "symbol": "circle"
           },
           "mode": "markers",
           "name": "",
           "orientation": "v",
           "showlegend": false,
           "x": [
            2007,
            2007,
            2007,
            2007,
            2007,
            2007
           ],
           "xaxis": "x",
           "y": [
            600,
            400,
            200,
            100,
            300,
            500
           ],
           "yaxis": "y",
           "type": "scatter"
          }
         ],
         "name": "2007"
        },
        {
         "data": [
          {
           "hovertemplate": "<b>%{hovertext}</b><br><br>Year=%{x}<br>CountryIndex=%{y}<br>ExportVolume=%{marker.color}<extra></extra>",
           "hovertext": [
            "Brazil",
            "Colombia",
            "Ethiopia",
            "Honduras",
            "Indonesia",
            "Viet Nam"
           ],
           "legendgroup": "",
           "marker": {
            "color": [
             29510.2956935,
             11085.1702037,
             2851.92097,
             3259.4549512,
             5740.6730453,
             16101.3720357
            ],
            "coloraxis": "coloraxis",
            "size": [
             29510.2956935,
             11085.1702037,
             2851.92097,
             3259.4549512,
             5740.6730453,
             16101.3720357
            ],
            "sizemode": "area",
            "sizeref": 9.390558146611111,
            "symbol": "circle"
           },
           "mode": "markers",
           "name": "",
           "orientation": "v",
           "showlegend": false,
           "x": [
            2008,
            2008,
            2008,
            2008,
            2008,
            2008
           ],
           "xaxis": "x",
           "y": [
            600,
            400,
            200,
            100,
            300,
            500
           ],
           "yaxis": "y",
           "type": "scatter"
          }
         ],
         "name": "2008"
        },
        {
         "data": [
          {
           "hovertemplate": "<b>%{hovertext}</b><br><br>Year=%{x}<br>CountryIndex=%{y}<br>ExportVolume=%{marker.color}<extra></extra>",
           "hovertext": [
            "Brazil",
            "Colombia",
            "Ethiopia",
            "Honduras",
            "Indonesia",
            "Viet Nam"
           ],
           "legendgroup": "",
           "marker": {
            "color": [
             30377.9816361,
             7893.9267953,
             1851.4974532,
             3084.1878284,
             7907.2735156,
             17051.7344765
            ],
            "coloraxis": "coloraxis",
            "size": [
             30377.9816361,
             7893.9267953,
             1851.4974532,
             3084.1878284,
             7907.2735156,
             17051.7344765
            ],
            "sizemode": "area",
            "sizeref": 9.390558146611111,
            "symbol": "circle"
           },
           "mode": "markers",
           "name": "",
           "orientation": "v",
           "showlegend": false,
           "x": [
            2009,
            2009,
            2009,
            2009,
            2009,
            2009
           ],
           "xaxis": "x",
           "y": [
            600,
            400,
            200,
            100,
            300,
            500
           ],
           "yaxis": "y",
           "type": "scatter"
          }
         ],
         "name": "2009"
        },
        {
         "data": [
          {
           "hovertemplate": "<b>%{hovertext}</b><br><br>Year=%{x}<br>CountryIndex=%{y}<br>ExportVolume=%{marker.color}<extra></extra>",
           "hovertext": [
            "Brazil",
            "Colombia",
            "Ethiopia",
            "Honduras",
            "Indonesia",
            "Viet Nam"
           ],
           "legendgroup": "",
           "marker": {
            "color": [
             33166.6415897,
             7821.6345037,
             3324.1025511,
             3349.3976392,
             5489.1475563,
             14228.5857964
            ],
            "coloraxis": "coloraxis",
            "size": [
             33166.6415897,
             7821.6345037,
             3324.1025511,
             3349.3976392,
             5489.1475563,
             14228.5857964
            ],
            "sizemode": "area",
            "sizeref": 9.390558146611111,
            "symbol": "circle"
           },
           "mode": "markers",
           "name": "",
           "orientation": "v",
           "showlegend": false,
           "x": [
            2010,
            2010,
            2010,
            2010,
            2010,
            2010
           ],
           "xaxis": "x",
           "y": [
            600,
            400,
            200,
            100,
            300,
            500
           ],
           "yaxis": "y",
           "type": "scatter"
          }
         ],
         "name": "2010"
        },
        {
         "data": [
          {
           "hovertemplate": "<b>%{hovertext}</b><br><br>Year=%{x}<br>CountryIndex=%{y}<br>ExportVolume=%{marker.color}<extra></extra>",
           "hovertext": [
            "Brazil",
            "Colombia",
            "Ethiopia",
            "Honduras",
            "Indonesia",
            "Viet Nam"
           ],
           "legendgroup": "",
           "marker": {
            "color": [
             33806.0093278,
             7733.625254,
             2675.4190125,
             3947.1411511,
             3919.891883,
             17717.3947313
            ],
            "coloraxis": "coloraxis",
            "size": [
             33806.0093278,
             7733.625254,
             2675.4190125,
             3947.1411511,
             3919.891883,
             17717.3947313
            ],
            "sizemode": "area",
            "sizeref": 9.390558146611111,
            "symbol": "circle"
           },
           "mode": "markers",
           "name": "",
           "orientation": "v",
           "showlegend": false,
           "x": [
            2011,
            2011,
            2011,
            2011,
            2011,
            2011
           ],
           "xaxis": "x",
           "y": [
            600,
            400,
            200,
            100,
            300,
            500
           ],
           "yaxis": "y",
           "type": "scatter"
          }
         ],
         "name": "2011"
        },
        {
         "data": [
          {
           "hovertemplate": "<b>%{hovertext}</b><br><br>Year=%{x}<br>CountryIndex=%{y}<br>ExportVolume=%{marker.color}<extra></extra>",
           "hovertext": [
            "Brazil",
            "Colombia",
            "Ethiopia",
            "Honduras",
            "Indonesia",
            "Viet Nam"
           ],
           "legendgroup": "",
           "marker": {
            "color": [
             28549.4258909,
             7170.203291,
             3202.5924066,
             5507.9849391,
             8205.7408259,
             22919.6638324
            ],
            "coloraxis": "coloraxis",
            "size": [
             28549.4258909,
             7170.203291,
             3202.5924066,
             5507.9849391,
             8205.7408259,
             22919.6638324
            ],
            "sizemode": "area",
            "sizeref": 9.390558146611111,
            "symbol": "circle"
           },
           "mode": "markers",
           "name": "",
           "orientation": "v",
           "showlegend": false,
           "x": [
            2012,
            2012,
            2012,
            2012,
            2012,
            2012
           ],
           "xaxis": "x",
           "y": [
            600,
            400,
            200,
            100,
            300,
            500
           ],
           "yaxis": "y",
           "type": "scatter"
          }
         ],
         "name": "2012"
        },
        {
         "data": [
          {
           "hovertemplate": "<b>%{hovertext}</b><br><br>Year=%{x}<br>CountryIndex=%{y}<br>ExportVolume=%{marker.color}<extra></extra>",
           "hovertext": [
            "Brazil",
            "Colombia",
            "Ethiopia",
            "Honduras",
            "Indonesia",
            "Viet Nam"
           ],
           "legendgroup": "",
           "marker": {
            "color": [
             31650.5629454,
             9669.907367,
             2870.0752483,
             4185.1189243,
             9254.8073308,
             19717.7644142
            ],
            "coloraxis": "coloraxis",
            "size": [
             31650.5629454,
             9669.907367,
             2870.0752483,
             4185.1189243,
             9254.8073308,
             19717.7644142
            ],
            "sizemode": "area",
            "sizeref": 9.390558146611111,
            "symbol": "circle"
           },
           "mode": "markers",
           "name": "",
           "orientation": "v",
           "showlegend": false,
           "x": [
            2013,
            2013,
            2013,
            2013,
            2013,
            2013
           ],
           "xaxis": "x",
           "y": [
            600,
            400,
            200,
            100,
            300,
            500
           ],
           "yaxis": "y",
           "type": "scatter"
          }
         ],
         "name": "2013"
        }
       ],
       "config": {
        "plotlyServerURL": "https://plot.ly"
       }
      },
      "text/html": "<div>                            <div id=\"dee4017b-396c-4165-aef4-dafbfa22b5d3\" class=\"plotly-graph-div\" style=\"height:525px; width:100%;\"></div>            <script type=\"text/javascript\">                require([\"plotly\"], function(Plotly) {                    window.PLOTLYENV=window.PLOTLYENV || {};                                    if (document.getElementById(\"dee4017b-396c-4165-aef4-dafbfa22b5d3\")) {                    Plotly.newPlot(                        \"dee4017b-396c-4165-aef4-dafbfa22b5d3\",                        [{\"hovertemplate\":\"\\u003cb\\u003e%{hovertext}\\u003c\\u002fb\\u003e\\u003cbr\\u003e\\u003cbr\\u003eYear=%{x}\\u003cbr\\u003eCountryIndex=%{y}\\u003cbr\\u003eExportVolume=%{marker.color}\\u003cextra\\u003e\\u003c\\u002fextra\\u003e\",\"hovertext\":[\"Brazil\",\"Colombia\",\"Ethiopia\",\"Honduras\",\"Indonesia\",\"Viet Nam\"],\"legendgroup\":\"\",\"marker\":{\"color\":[16935.7876003,13943.8700004,1074.101,1735.093,6903.2269994,1145.2340014],\"coloraxis\":\"coloraxis\",\"size\":[16935.7876003,13943.8700004,1074.101,1735.093,6903.2269994,1145.2340014],\"sizemode\":\"area\",\"sizeref\":9.390558146611111,\"symbol\":\"circle\"},\"mode\":\"markers\",\"name\":\"\",\"orientation\":\"v\",\"showlegend\":false,\"x\":[1990,1990,1990,1990,1990,1990],\"xaxis\":\"x\",\"y\":[600,400,200,100,300,500],\"yaxis\":\"y\",\"type\":\"scatter\"}],                        {\"template\":{\"data\":{\"histogram2dcontour\":[{\"type\":\"histogram2dcontour\",\"colorbar\":{\"outlinewidth\":0,\"ticks\":\"\"},\"colorscale\":[[0.0,\"#0d0887\"],[0.1111111111111111,\"#46039f\"],[0.2222222222222222,\"#7201a8\"],[0.3333333333333333,\"#9c179e\"],[0.4444444444444444,\"#bd3786\"],[0.5555555555555556,\"#d8576b\"],[0.6666666666666666,\"#ed7953\"],[0.7777777777777778,\"#fb9f3a\"],[0.8888888888888888,\"#fdca26\"],[1.0,\"#f0f921\"]]}],\"choropleth\":[{\"type\":\"choropleth\",\"colorbar\":{\"outlinewidth\":0,\"ticks\":\"\"}}],\"histogram2d\":[{\"type\":\"histogram2d\",\"colorbar\":{\"outlinewidth\":0,\"ticks\":\"\"},\"colorscale\":[[0.0,\"#0d0887\"],[0.1111111111111111,\"#46039f\"],[0.2222222222222222,\"#7201a8\"],[0.3333333333333333,\"#9c179e\"],[0.4444444444444444,\"#bd3786\"],[0.5555555555555556,\"#d8576b\"],[0.6666666666666666,\"#ed7953\"],[0.7777777777777778,\"#fb9f3a\"],[0.8888888888888888,\"#fdca26\"],[1.0,\"#f0f921\"]]}],\"heatmap\":[{\"type\":\"heatmap\",\"colorbar\":{\"outlinewidth\":0,\"ticks\":\"\"},\"colorscale\":[[0.0,\"#0d0887\"],[0.1111111111111111,\"#46039f\"],[0.2222222222222222,\"#7201a8\"],[0.3333333333333333,\"#9c179e\"],[0.4444444444444444,\"#bd3786\"],[0.5555555555555556,\"#d8576b\"],[0.6666666666666666,\"#ed7953\"],[0.7777777777777778,\"#fb9f3a\"],[0.8888888888888888,\"#fdca26\"],[1.0,\"#f0f921\"]]}],\"heatmapgl\":[{\"type\":\"heatmapgl\",\"colorbar\":{\"outlinewidth\":0,\"ticks\":\"\"},\"colorscale\":[[0.0,\"#0d0887\"],[0.1111111111111111,\"#46039f\"],[0.2222222222222222,\"#7201a8\"],[0.3333333333333333,\"#9c179e\"],[0.4444444444444444,\"#bd3786\"],[0.5555555555555556,\"#d8576b\"],[0.6666666666666666,\"#ed7953\"],[0.7777777777777778,\"#fb9f3a\"],[0.8888888888888888,\"#fdca26\"],[1.0,\"#f0f921\"]]}],\"contourcarpet\":[{\"type\":\"contourcarpet\",\"colorbar\":{\"outlinewidth\":0,\"ticks\":\"\"}}],\"contour\":[{\"type\":\"contour\",\"colorbar\":{\"outlinewidth\":0,\"ticks\":\"\"},\"colorscale\":[[0.0,\"#0d0887\"],[0.1111111111111111,\"#46039f\"],[0.2222222222222222,\"#7201a8\"],[0.3333333333333333,\"#9c179e\"],[0.4444444444444444,\"#bd3786\"],[0.5555555555555556,\"#d8576b\"],[0.6666666666666666,\"#ed7953\"],[0.7777777777777778,\"#fb9f3a\"],[0.8888888888888888,\"#fdca26\"],[1.0,\"#f0f921\"]]}],\"surface\":[{\"type\":\"surface\",\"colorbar\":{\"outlinewidth\":0,\"ticks\":\"\"},\"colorscale\":[[0.0,\"#0d0887\"],[0.1111111111111111,\"#46039f\"],[0.2222222222222222,\"#7201a8\"],[0.3333333333333333,\"#9c179e\"],[0.4444444444444444,\"#bd3786\"],[0.5555555555555556,\"#d8576b\"],[0.6666666666666666,\"#ed7953\"],[0.7777777777777778,\"#fb9f3a\"],[0.8888888888888888,\"#fdca26\"],[1.0,\"#f0f921\"]]}],\"mesh3d\":[{\"type\":\"mesh3d\",\"colorbar\":{\"outlinewidth\":0,\"ticks\":\"\"}}],\"scatter\":[{\"marker\":{\"line\":{\"color\":\"#283442\"}},\"type\":\"scatter\"}],\"parcoords\":[{\"type\":\"parcoords\",\"line\":{\"colorbar\":{\"outlinewidth\":0,\"ticks\":\"\"}}}],\"scatterpolargl\":[{\"type\":\"scatterpolargl\",\"marker\":{\"colorbar\":{\"outlinewidth\":0,\"ticks\":\"\"}}}],\"bar\":[{\"error_x\":{\"color\":\"#f2f5fa\"},\"error_y\":{\"color\":\"#f2f5fa\"},\"marker\":{\"line\":{\"color\":\"rgb(17,17,17)\",\"width\":0.5},\"pattern\":{\"fillmode\":\"overlay\",\"size\":10,\"solidity\":0.2}},\"type\":\"bar\"}],\"scattergeo\":[{\"type\":\"scattergeo\",\"marker\":{\"colorbar\":{\"outlinewidth\":0,\"ticks\":\"\"}}}],\"scatterpolar\":[{\"type\":\"scatterpolar\",\"marker\":{\"colorbar\":{\"outlinewidth\":0,\"ticks\":\"\"}}}],\"histogram\":[{\"marker\":{\"pattern\":{\"fillmode\":\"overlay\",\"size\":10,\"solidity\":0.2}},\"type\":\"histogram\"}],\"scattergl\":[{\"marker\":{\"line\":{\"color\":\"#283442\"}},\"type\":\"scattergl\"}],\"scatter3d\":[{\"type\":\"scatter3d\",\"line\":{\"colorbar\":{\"outlinewidth\":0,\"ticks\":\"\"}},\"marker\":{\"colorbar\":{\"outlinewidth\":0,\"ticks\":\"\"}}}],\"scattermapbox\":[{\"type\":\"scattermapbox\",\"marker\":{\"colorbar\":{\"outlinewidth\":0,\"ticks\":\"\"}}}],\"scatterternary\":[{\"type\":\"scatterternary\",\"marker\":{\"colorbar\":{\"outlinewidth\":0,\"ticks\":\"\"}}}],\"scattercarpet\":[{\"type\":\"scattercarpet\",\"marker\":{\"colorbar\":{\"outlinewidth\":0,\"ticks\":\"\"}}}],\"carpet\":[{\"aaxis\":{\"endlinecolor\":\"#A2B1C6\",\"gridcolor\":\"#506784\",\"linecolor\":\"#506784\",\"minorgridcolor\":\"#506784\",\"startlinecolor\":\"#A2B1C6\"},\"baxis\":{\"endlinecolor\":\"#A2B1C6\",\"gridcolor\":\"#506784\",\"linecolor\":\"#506784\",\"minorgridcolor\":\"#506784\",\"startlinecolor\":\"#A2B1C6\"},\"type\":\"carpet\"}],\"table\":[{\"cells\":{\"fill\":{\"color\":\"#506784\"},\"line\":{\"color\":\"rgb(17,17,17)\"}},\"header\":{\"fill\":{\"color\":\"#2a3f5f\"},\"line\":{\"color\":\"rgb(17,17,17)\"}},\"type\":\"table\"}],\"barpolar\":[{\"marker\":{\"line\":{\"color\":\"rgb(17,17,17)\",\"width\":0.5},\"pattern\":{\"fillmode\":\"overlay\",\"size\":10,\"solidity\":0.2}},\"type\":\"barpolar\"}],\"pie\":[{\"automargin\":true,\"type\":\"pie\"}]},\"layout\":{\"autotypenumbers\":\"strict\",\"colorway\":[\"#636efa\",\"#EF553B\",\"#00cc96\",\"#ab63fa\",\"#FFA15A\",\"#19d3f3\",\"#FF6692\",\"#B6E880\",\"#FF97FF\",\"#FECB52\"],\"font\":{\"color\":\"#f2f5fa\"},\"hovermode\":\"closest\",\"hoverlabel\":{\"align\":\"left\"},\"paper_bgcolor\":\"rgb(17,17,17)\",\"plot_bgcolor\":\"rgb(17,17,17)\",\"polar\":{\"bgcolor\":\"rgb(17,17,17)\",\"angularaxis\":{\"gridcolor\":\"#506784\",\"linecolor\":\"#506784\",\"ticks\":\"\"},\"radialaxis\":{\"gridcolor\":\"#506784\",\"linecolor\":\"#506784\",\"ticks\":\"\"}},\"ternary\":{\"bgcolor\":\"rgb(17,17,17)\",\"aaxis\":{\"gridcolor\":\"#506784\",\"linecolor\":\"#506784\",\"ticks\":\"\"},\"baxis\":{\"gridcolor\":\"#506784\",\"linecolor\":\"#506784\",\"ticks\":\"\"},\"caxis\":{\"gridcolor\":\"#506784\",\"linecolor\":\"#506784\",\"ticks\":\"\"}},\"coloraxis\":{\"colorbar\":{\"outlinewidth\":0,\"ticks\":\"\"}},\"colorscale\":{\"sequential\":[[0.0,\"#0d0887\"],[0.1111111111111111,\"#46039f\"],[0.2222222222222222,\"#7201a8\"],[0.3333333333333333,\"#9c179e\"],[0.4444444444444444,\"#bd3786\"],[0.5555555555555556,\"#d8576b\"],[0.6666666666666666,\"#ed7953\"],[0.7777777777777778,\"#fb9f3a\"],[0.8888888888888888,\"#fdca26\"],[1.0,\"#f0f921\"]],\"sequentialminus\":[[0.0,\"#0d0887\"],[0.1111111111111111,\"#46039f\"],[0.2222222222222222,\"#7201a8\"],[0.3333333333333333,\"#9c179e\"],[0.4444444444444444,\"#bd3786\"],[0.5555555555555556,\"#d8576b\"],[0.6666666666666666,\"#ed7953\"],[0.7777777777777778,\"#fb9f3a\"],[0.8888888888888888,\"#fdca26\"],[1.0,\"#f0f921\"]],\"diverging\":[[0,\"#8e0152\"],[0.1,\"#c51b7d\"],[0.2,\"#de77ae\"],[0.3,\"#f1b6da\"],[0.4,\"#fde0ef\"],[0.5,\"#f7f7f7\"],[0.6,\"#e6f5d0\"],[0.7,\"#b8e186\"],[0.8,\"#7fbc41\"],[0.9,\"#4d9221\"],[1,\"#276419\"]]},\"xaxis\":{\"gridcolor\":\"#283442\",\"linecolor\":\"#506784\",\"ticks\":\"\",\"title\":{\"standoff\":15},\"zerolinecolor\":\"#283442\",\"automargin\":true,\"zerolinewidth\":2},\"yaxis\":{\"gridcolor\":\"#283442\",\"linecolor\":\"#506784\",\"ticks\":\"\",\"title\":{\"standoff\":15},\"zerolinecolor\":\"#283442\",\"automargin\":true,\"zerolinewidth\":2},\"scene\":{\"xaxis\":{\"backgroundcolor\":\"rgb(17,17,17)\",\"gridcolor\":\"#506784\",\"linecolor\":\"#506784\",\"showbackground\":true,\"ticks\":\"\",\"zerolinecolor\":\"#C8D4E3\",\"gridwidth\":2},\"yaxis\":{\"backgroundcolor\":\"rgb(17,17,17)\",\"gridcolor\":\"#506784\",\"linecolor\":\"#506784\",\"showbackground\":true,\"ticks\":\"\",\"zerolinecolor\":\"#C8D4E3\",\"gridwidth\":2},\"zaxis\":{\"backgroundcolor\":\"rgb(17,17,17)\",\"gridcolor\":\"#506784\",\"linecolor\":\"#506784\",\"showbackground\":true,\"ticks\":\"\",\"zerolinecolor\":\"#C8D4E3\",\"gridwidth\":2}},\"shapedefaults\":{\"line\":{\"color\":\"#f2f5fa\"}},\"annotationdefaults\":{\"arrowcolor\":\"#f2f5fa\",\"arrowhead\":0,\"arrowwidth\":1},\"geo\":{\"bgcolor\":\"rgb(17,17,17)\",\"landcolor\":\"rgb(17,17,17)\",\"subunitcolor\":\"#506784\",\"showland\":true,\"showlakes\":true,\"lakecolor\":\"rgb(17,17,17)\"},\"title\":{\"x\":0.05},\"updatemenudefaults\":{\"bgcolor\":\"#506784\",\"borderwidth\":0},\"sliderdefaults\":{\"bgcolor\":\"#C8D4E3\",\"borderwidth\":1,\"bordercolor\":\"rgb(17,17,17)\",\"tickwidth\":0},\"mapbox\":{\"style\":\"dark\"}}},\"xaxis\":{\"anchor\":\"y\",\"domain\":[0.0,1.0],\"title\":{\"text\":\"Year\"},\"range\":[1990,2013],\"categoryorder\":\"array\",\"categoryarray\":[1990,1991,1992,1993,1994,1995,1996,1997,1998,1999,2000,2001,2002,2003,2004,2005,2006,2007,2008,2009,2010,2011,2012,2013]},\"yaxis\":{\"anchor\":\"x\",\"domain\":[0.0,1.0],\"title\":{\"text\":\"CountryIndex\"},\"tickvals\":[600,500,400,300,200,100],\"ticktext\":[\"Brazil\",\"Viet Nam\",\"Colombia\",\"Indonesia\",\"Ethiopia\",\"Honduras\"]},\"coloraxis\":{\"colorbar\":{\"title\":{\"text\":\"ExportVolume\"}},\"colorscale\":[[0.0,\"#0d0887\"],[0.1111111111111111,\"#46039f\"],[0.2222222222222222,\"#7201a8\"],[0.3333333333333333,\"#9c179e\"],[0.4444444444444444,\"#bd3786\"],[0.5555555555555556,\"#d8576b\"],[0.6666666666666666,\"#ed7953\"],[0.7777777777777778,\"#fb9f3a\"],[0.8888888888888888,\"#fdca26\"],[1.0,\"#f0f921\"]]},\"legend\":{\"tracegroupgap\":0,\"itemsizing\":\"constant\"},\"margin\":{\"t\":60},\"updatemenus\":[{\"buttons\":[{\"args\":[null,{\"frame\":{\"duration\":500,\"redraw\":false},\"mode\":\"immediate\",\"fromcurrent\":true,\"transition\":{\"duration\":500,\"easing\":\"linear\"}}],\"label\":\"&#9654;\",\"method\":\"animate\"},{\"args\":[[null],{\"frame\":{\"duration\":0,\"redraw\":false},\"mode\":\"immediate\",\"fromcurrent\":true,\"transition\":{\"duration\":0,\"easing\":\"linear\"}}],\"label\":\"&#9724;\",\"method\":\"animate\"}],\"direction\":\"left\",\"pad\":{\"r\":10,\"t\":70},\"showactive\":false,\"type\":\"buttons\",\"x\":0.1,\"xanchor\":\"right\",\"y\":0,\"yanchor\":\"top\"}],\"sliders\":[{\"active\":0,\"currentvalue\":{\"prefix\":\"Year=\"},\"len\":0.9,\"pad\":{\"b\":10,\"t\":60},\"steps\":[{\"args\":[[\"1990\"],{\"frame\":{\"duration\":0,\"redraw\":false},\"mode\":\"immediate\",\"fromcurrent\":true,\"transition\":{\"duration\":0,\"easing\":\"linear\"}}],\"label\":\"1990\",\"method\":\"animate\"},{\"args\":[[\"1991\"],{\"frame\":{\"duration\":0,\"redraw\":false},\"mode\":\"immediate\",\"fromcurrent\":true,\"transition\":{\"duration\":0,\"easing\":\"linear\"}}],\"label\":\"1991\",\"method\":\"animate\"},{\"args\":[[\"1992\"],{\"frame\":{\"duration\":0,\"redraw\":false},\"mode\":\"immediate\",\"fromcurrent\":true,\"transition\":{\"duration\":0,\"easing\":\"linear\"}}],\"label\":\"1992\",\"method\":\"animate\"},{\"args\":[[\"1993\"],{\"frame\":{\"duration\":0,\"redraw\":false},\"mode\":\"immediate\",\"fromcurrent\":true,\"transition\":{\"duration\":0,\"easing\":\"linear\"}}],\"label\":\"1993\",\"method\":\"animate\"},{\"args\":[[\"1994\"],{\"frame\":{\"duration\":0,\"redraw\":false},\"mode\":\"immediate\",\"fromcurrent\":true,\"transition\":{\"duration\":0,\"easing\":\"linear\"}}],\"label\":\"1994\",\"method\":\"animate\"},{\"args\":[[\"1995\"],{\"frame\":{\"duration\":0,\"redraw\":false},\"mode\":\"immediate\",\"fromcurrent\":true,\"transition\":{\"duration\":0,\"easing\":\"linear\"}}],\"label\":\"1995\",\"method\":\"animate\"},{\"args\":[[\"1996\"],{\"frame\":{\"duration\":0,\"redraw\":false},\"mode\":\"immediate\",\"fromcurrent\":true,\"transition\":{\"duration\":0,\"easing\":\"linear\"}}],\"label\":\"1996\",\"method\":\"animate\"},{\"args\":[[\"1997\"],{\"frame\":{\"duration\":0,\"redraw\":false},\"mode\":\"immediate\",\"fromcurrent\":true,\"transition\":{\"duration\":0,\"easing\":\"linear\"}}],\"label\":\"1997\",\"method\":\"animate\"},{\"args\":[[\"1998\"],{\"frame\":{\"duration\":0,\"redraw\":false},\"mode\":\"immediate\",\"fromcurrent\":true,\"transition\":{\"duration\":0,\"easing\":\"linear\"}}],\"label\":\"1998\",\"method\":\"animate\"},{\"args\":[[\"1999\"],{\"frame\":{\"duration\":0,\"redraw\":false},\"mode\":\"immediate\",\"fromcurrent\":true,\"transition\":{\"duration\":0,\"easing\":\"linear\"}}],\"label\":\"1999\",\"method\":\"animate\"},{\"args\":[[\"2000\"],{\"frame\":{\"duration\":0,\"redraw\":false},\"mode\":\"immediate\",\"fromcurrent\":true,\"transition\":{\"duration\":0,\"easing\":\"linear\"}}],\"label\":\"2000\",\"method\":\"animate\"},{\"args\":[[\"2001\"],{\"frame\":{\"duration\":0,\"redraw\":false},\"mode\":\"immediate\",\"fromcurrent\":true,\"transition\":{\"duration\":0,\"easing\":\"linear\"}}],\"label\":\"2001\",\"method\":\"animate\"},{\"args\":[[\"2002\"],{\"frame\":{\"duration\":0,\"redraw\":false},\"mode\":\"immediate\",\"fromcurrent\":true,\"transition\":{\"duration\":0,\"easing\":\"linear\"}}],\"label\":\"2002\",\"method\":\"animate\"},{\"args\":[[\"2003\"],{\"frame\":{\"duration\":0,\"redraw\":false},\"mode\":\"immediate\",\"fromcurrent\":true,\"transition\":{\"duration\":0,\"easing\":\"linear\"}}],\"label\":\"2003\",\"method\":\"animate\"},{\"args\":[[\"2004\"],{\"frame\":{\"duration\":0,\"redraw\":false},\"mode\":\"immediate\",\"fromcurrent\":true,\"transition\":{\"duration\":0,\"easing\":\"linear\"}}],\"label\":\"2004\",\"method\":\"animate\"},{\"args\":[[\"2005\"],{\"frame\":{\"duration\":0,\"redraw\":false},\"mode\":\"immediate\",\"fromcurrent\":true,\"transition\":{\"duration\":0,\"easing\":\"linear\"}}],\"label\":\"2005\",\"method\":\"animate\"},{\"args\":[[\"2006\"],{\"frame\":{\"duration\":0,\"redraw\":false},\"mode\":\"immediate\",\"fromcurrent\":true,\"transition\":{\"duration\":0,\"easing\":\"linear\"}}],\"label\":\"2006\",\"method\":\"animate\"},{\"args\":[[\"2007\"],{\"frame\":{\"duration\":0,\"redraw\":false},\"mode\":\"immediate\",\"fromcurrent\":true,\"transition\":{\"duration\":0,\"easing\":\"linear\"}}],\"label\":\"2007\",\"method\":\"animate\"},{\"args\":[[\"2008\"],{\"frame\":{\"duration\":0,\"redraw\":false},\"mode\":\"immediate\",\"fromcurrent\":true,\"transition\":{\"duration\":0,\"easing\":\"linear\"}}],\"label\":\"2008\",\"method\":\"animate\"},{\"args\":[[\"2009\"],{\"frame\":{\"duration\":0,\"redraw\":false},\"mode\":\"immediate\",\"fromcurrent\":true,\"transition\":{\"duration\":0,\"easing\":\"linear\"}}],\"label\":\"2009\",\"method\":\"animate\"},{\"args\":[[\"2010\"],{\"frame\":{\"duration\":0,\"redraw\":false},\"mode\":\"immediate\",\"fromcurrent\":true,\"transition\":{\"duration\":0,\"easing\":\"linear\"}}],\"label\":\"2010\",\"method\":\"animate\"},{\"args\":[[\"2011\"],{\"frame\":{\"duration\":0,\"redraw\":false},\"mode\":\"immediate\",\"fromcurrent\":true,\"transition\":{\"duration\":0,\"easing\":\"linear\"}}],\"label\":\"2011\",\"method\":\"animate\"},{\"args\":[[\"2012\"],{\"frame\":{\"duration\":0,\"redraw\":false},\"mode\":\"immediate\",\"fromcurrent\":true,\"transition\":{\"duration\":0,\"easing\":\"linear\"}}],\"label\":\"2012\",\"method\":\"animate\"},{\"args\":[[\"2013\"],{\"frame\":{\"duration\":0,\"redraw\":false},\"mode\":\"immediate\",\"fromcurrent\":true,\"transition\":{\"duration\":0,\"easing\":\"linear\"}}],\"label\":\"2013\",\"method\":\"animate\"}],\"x\":0.1,\"xanchor\":\"left\",\"y\":0,\"yanchor\":\"top\"}]},                        {\"responsive\": true}                    ).then(function(){\n                            Plotly.addFrames('dee4017b-396c-4165-aef4-dafbfa22b5d3', [{\"data\":[{\"hovertemplate\":\"\\u003cb\\u003e%{hovertext}\\u003c\\u002fb\\u003e\\u003cbr\\u003e\\u003cbr\\u003eYear=%{x}\\u003cbr\\u003eCountryIndex=%{y}\\u003cbr\\u003eExportVolume=%{marker.color}\\u003cextra\\u003e\\u003c\\u002fextra\\u003e\",\"hovertext\":[\"Brazil\",\"Colombia\",\"Ethiopia\",\"Honduras\",\"Indonesia\",\"Viet Nam\"],\"legendgroup\":\"\",\"marker\":{\"color\":[16935.7876003,13943.8700004,1074.101,1735.093,6903.2269994,1145.2340014],\"coloraxis\":\"coloraxis\",\"size\":[16935.7876003,13943.8700004,1074.101,1735.093,6903.2269994,1145.2340014],\"sizemode\":\"area\",\"sizeref\":9.390558146611111,\"symbol\":\"circle\"},\"mode\":\"markers\",\"name\":\"\",\"orientation\":\"v\",\"showlegend\":false,\"x\":[1990,1990,1990,1990,1990,1990],\"xaxis\":\"x\",\"y\":[600,400,200,100,300,500],\"yaxis\":\"y\",\"type\":\"scatter\"}],\"name\":\"1990\"},{\"data\":[{\"hovertemplate\":\"\\u003cb\\u003e%{hovertext}\\u003c\\u002fb\\u003e\\u003cbr\\u003e\\u003cbr\\u003eYear=%{x}\\u003cbr\\u003eCountryIndex=%{y}\\u003cbr\\u003eExportVolume=%{marker.color}\\u003cextra\\u003e\\u003c\\u002fextra\\u003e\",\"hovertext\":[\"Brazil\",\"Colombia\",\"Ethiopia\",\"Honduras\",\"Indonesia\",\"Viet Nam\"],\"legendgroup\":\"\",\"marker\":{\"color\":[21182.7614023,12599.1849983,841.329,1444.363,6170.7960001,1200.952],\"coloraxis\":\"coloraxis\",\"size\":[21182.7614023,12599.1849983,841.329,1444.363,6170.7960001,1200.952],\"sizemode\":\"area\",\"sizeref\":9.390558146611111,\"symbol\":\"circle\"},\"mode\":\"markers\",\"name\":\"\",\"orientation\":\"v\",\"showlegend\":false,\"x\":[1991,1991,1991,1991,1991,1991],\"xaxis\":\"x\",\"y\":[600,400,200,100,300,500],\"yaxis\":\"y\",\"type\":\"scatter\"}],\"name\":\"1991\"},{\"data\":[{\"hovertemplate\":\"\\u003cb\\u003e%{hovertext}\\u003c\\u002fb\\u003e\\u003cbr\\u003e\\u003cbr\\u003eYear=%{x}\\u003cbr\\u003eCountryIndex=%{y}\\u003cbr\\u003eExportVolume=%{marker.color}\\u003cextra\\u003e\\u003c\\u002fextra\\u003e\",\"hovertext\":[\"Brazil\",\"Colombia\",\"Ethiopia\",\"Honduras\",\"Indonesia\",\"Viet Nam\"],\"legendgroup\":\"\",\"marker\":{\"color\":[18790.7192021,16564.3700008,734.461,1960.071,4603.6959999,1937.611],\"coloraxis\":\"coloraxis\",\"size\":[18790.7192021,16564.3700008,734.461,1960.071,4603.6959999,1937.611],\"sizemode\":\"area\",\"sizeref\":9.390558146611111,\"symbol\":\"circle\"},\"mode\":\"markers\",\"name\":\"\",\"orientation\":\"v\",\"showlegend\":false,\"x\":[1992,1992,1992,1992,1992,1992],\"xaxis\":\"x\",\"y\":[600,400,200,100,300,500],\"yaxis\":\"y\",\"type\":\"scatter\"}],\"name\":\"1992\"},{\"data\":[{\"hovertemplate\":\"\\u003cb\\u003e%{hovertext}\\u003c\\u002fb\\u003e\\u003cbr\\u003e\\u003cbr\\u003eYear=%{x}\\u003cbr\\u003eCountryIndex=%{y}\\u003cbr\\u003eExportVolume=%{marker.color}\\u003cextra\\u003e\\u003c\\u002fextra\\u003e\",\"hovertext\":[\"Brazil\",\"Colombia\",\"Ethiopia\",\"Honduras\",\"Indonesia\",\"Viet Nam\"],\"legendgroup\":\"\",\"marker\":{\"color\":[17837.7479992,13568.3620035,1166.778,1705.317,5662.0940006,2071.8369999],\"coloraxis\":\"coloraxis\",\"size\":[17837.7479992,13568.3620035,1166.778,1705.317,5662.0940006,2071.8369999],\"sizemode\":\"area\",\"sizeref\":9.390558146611111,\"symbol\":\"circle\"},\"mode\":\"markers\",\"name\":\"\",\"orientation\":\"v\",\"showlegend\":false,\"x\":[1993,1993,1993,1993,1993,1993],\"xaxis\":\"x\",\"y\":[600,400,200,100,300,500],\"yaxis\":\"y\",\"type\":\"scatter\"}],\"name\":\"1993\"},{\"data\":[{\"hovertemplate\":\"\\u003cb\\u003e%{hovertext}\\u003c\\u002fb\\u003e\\u003cbr\\u003e\\u003cbr\\u003eYear=%{x}\\u003cbr\\u003eCountryIndex=%{y}\\u003cbr\\u003eExportVolume=%{marker.color}\\u003cextra\\u003e\\u003c\\u002fextra\\u003e\",\"hovertext\":[\"Brazil\",\"Colombia\",\"Ethiopia\",\"Honduras\",\"Indonesia\",\"Viet Nam\"],\"legendgroup\":\"\",\"marker\":{\"color\":[17273.1476003,11768.0890004,1475.325,1718.185,4604.6299989,2720.911],\"coloraxis\":\"coloraxis\",\"size\":[17273.1476003,11768.0890004,1475.325,1718.185,4604.6299989,2720.911],\"sizemode\":\"area\",\"sizeref\":9.390558146611111,\"symbol\":\"circle\"},\"mode\":\"markers\",\"name\":\"\",\"orientation\":\"v\",\"showlegend\":false,\"x\":[1994,1994,1994,1994,1994,1994],\"xaxis\":\"x\",\"y\":[600,400,200,100,300,500],\"yaxis\":\"y\",\"type\":\"scatter\"}],\"name\":\"1994\"},{\"data\":[{\"hovertemplate\":\"\\u003cb\\u003e%{hovertext}\\u003c\\u002fb\\u003e\\u003cbr\\u003e\\u003cbr\\u003eYear=%{x}\\u003cbr\\u003eCountryIndex=%{y}\\u003cbr\\u003eExportVolume=%{marker.color}\\u003cextra\\u003e\\u003c\\u002fextra\\u003e\",\"hovertext\":[\"Brazil\",\"Colombia\",\"Ethiopia\",\"Honduras\",\"Indonesia\",\"Viet Nam\"],\"legendgroup\":\"\",\"marker\":{\"color\":[14468.4322014,9814.1969996,1276.118,1795.963,3946.5850006,3546.405],\"coloraxis\":\"coloraxis\",\"size\":[14468.4322014,9814.1969996,1276.118,1795.963,3946.5850006,3546.405],\"sizemode\":\"area\",\"sizeref\":9.390558146611111,\"symbol\":\"circle\"},\"mode\":\"markers\",\"name\":\"\",\"orientation\":\"v\",\"showlegend\":false,\"x\":[1995,1995,1995,1995,1995,1995],\"xaxis\":\"x\",\"y\":[600,400,200,100,300,500],\"yaxis\":\"y\",\"type\":\"scatter\"}],\"name\":\"1995\"},{\"data\":[{\"hovertemplate\":\"\\u003cb\\u003e%{hovertext}\\u003c\\u002fb\\u003e\\u003cbr\\u003e\\u003cbr\\u003eYear=%{x}\\u003cbr\\u003eCountryIndex=%{y}\\u003cbr\\u003eExportVolume=%{marker.color}\\u003cextra\\u003e\\u003c\\u002fextra\\u003e\",\"hovertext\":[\"Brazil\",\"Colombia\",\"Ethiopia\",\"Honduras\",\"Indonesia\",\"Viet Nam\"],\"legendgroup\":\"\",\"marker\":{\"color\":[15250.6090018,10588.4309984,1838.231,2059.76,6440.28,3779.415],\"coloraxis\":\"coloraxis\",\"size\":[15250.6090018,10588.4309984,1838.231,2059.76,6440.28,3779.415],\"sizemode\":\"area\",\"sizeref\":9.390558146611111,\"symbol\":\"circle\"},\"mode\":\"markers\",\"name\":\"\",\"orientation\":\"v\",\"showlegend\":false,\"x\":[1996,1996,1996,1996,1996,1996],\"xaxis\":\"x\",\"y\":[600,400,200,100,300,500],\"yaxis\":\"y\",\"type\":\"scatter\"}],\"name\":\"1996\"},{\"data\":[{\"hovertemplate\":\"\\u003cb\\u003e%{hovertext}\\u003c\\u002fb\\u003e\\u003cbr\\u003e\\u003cbr\\u003eYear=%{x}\\u003cbr\\u003eCountryIndex=%{y}\\u003cbr\\u003eExportVolume=%{marker.color}\\u003cextra\\u003e\\u003c\\u002fextra\\u003e\",\"hovertext\":[\"Brazil\",\"Colombia\",\"Ethiopia\",\"Honduras\",\"Indonesia\",\"Viet Nam\"],\"legendgroup\":\"\",\"marker\":{\"color\":[16801.2600051,10918.8630016,1979.733,1722.482,5755.0779999,6177.8340002],\"coloraxis\":\"coloraxis\",\"size\":[16801.2600051,10918.8630016,1979.733,1722.482,5755.0779999,6177.8340002],\"sizemode\":\"area\",\"sizeref\":9.390558146611111,\"symbol\":\"circle\"},\"mode\":\"markers\",\"name\":\"\",\"orientation\":\"v\",\"showlegend\":false,\"x\":[1997,1997,1997,1997,1997,1997],\"xaxis\":\"x\",\"y\":[600,400,200,100,300,500],\"yaxis\":\"y\",\"type\":\"scatter\"}],\"name\":\"1997\"},{\"data\":[{\"hovertemplate\":\"\\u003cb\\u003e%{hovertext}\\u003c\\u002fb\\u003e\\u003cbr\\u003e\\u003cbr\\u003eYear=%{x}\\u003cbr\\u003eCountryIndex=%{y}\\u003cbr\\u003eExportVolume=%{marker.color}\\u003cextra\\u003e\\u003c\\u002fextra\\u003e\",\"hovertext\":[\"Brazil\",\"Colombia\",\"Ethiopia\",\"Honduras\",\"Indonesia\",\"Viet Nam\"],\"legendgroup\":\"\",\"marker\":{\"color\":[18144.3883339,11259.9289995,1917.061,2329.274,5598.0319992,6466.7120002],\"coloraxis\":\"coloraxis\",\"size\":[18144.3883339,11259.9289995,1917.061,2329.274,5598.0319992,6466.7120002],\"sizemode\":\"area\",\"sizeref\":9.390558146611111,\"symbol\":\"circle\"},\"mode\":\"markers\",\"name\":\"\",\"orientation\":\"v\",\"showlegend\":false,\"x\":[1998,1998,1998,1998,1998,1998],\"xaxis\":\"x\",\"y\":[600,400,200,100,300,500],\"yaxis\":\"y\",\"type\":\"scatter\"}],\"name\":\"1998\"},{\"data\":[{\"hovertemplate\":\"\\u003cb\\u003e%{hovertext}\\u003c\\u002fb\\u003e\\u003cbr\\u003e\\u003cbr\\u003eYear=%{x}\\u003cbr\\u003eCountryIndex=%{y}\\u003cbr\\u003eExportVolume=%{marker.color}\\u003cextra\\u003e\\u003c\\u002fextra\\u003e\",\"hovertext\":[\"Brazil\",\"Colombia\",\"Ethiopia\",\"Honduras\",\"Indonesia\",\"Viet Nam\"],\"legendgroup\":\"\",\"marker\":{\"color\":[23149.2038037,9995.3100014,1818.087,1986.603,5115.0269995,7727.0130001],\"coloraxis\":\"coloraxis\",\"size\":[23149.2038037,9995.3100014,1818.087,1986.603,5115.0269995,7727.0130001],\"sizemode\":\"area\",\"sizeref\":9.390558146611111,\"symbol\":\"circle\"},\"mode\":\"markers\",\"name\":\"\",\"orientation\":\"v\",\"showlegend\":false,\"x\":[1999,1999,1999,1999,1999,1999],\"xaxis\":\"x\",\"y\":[600,400,200,100,300,500],\"yaxis\":\"y\",\"type\":\"scatter\"}],\"name\":\"1999\"},{\"data\":[{\"hovertemplate\":\"\\u003cb\\u003e%{hovertext}\\u003c\\u002fb\\u003e\\u003cbr\\u003e\\u003cbr\\u003eYear=%{x}\\u003cbr\\u003eCountryIndex=%{y}\\u003cbr\\u003eExportVolume=%{marker.color}\\u003cextra\\u003e\\u003c\\u002fextra\\u003e\",\"hovertext\":[\"Brazil\",\"Colombia\",\"Ethiopia\",\"Honduras\",\"Indonesia\",\"Viet Nam\"],\"legendgroup\":\"\",\"marker\":{\"color\":[18016.2606406,9176.6609102,1981.856,2878.56,5357.59886,11618.3758499],\"coloraxis\":\"coloraxis\",\"size\":[18016.2606406,9176.6609102,1981.856,2878.56,5357.59886,11618.3758499],\"sizemode\":\"area\",\"sizeref\":9.390558146611111,\"symbol\":\"circle\"},\"mode\":\"markers\",\"name\":\"\",\"orientation\":\"v\",\"showlegend\":false,\"x\":[2000,2000,2000,2000,2000,2000],\"xaxis\":\"x\",\"y\":[600,400,200,100,300,500],\"yaxis\":\"y\",\"type\":\"scatter\"}],\"name\":\"2000\"},{\"data\":[{\"hovertemplate\":\"\\u003cb\\u003e%{hovertext}\\u003c\\u002fb\\u003e\\u003cbr\\u003e\\u003cbr\\u003eYear=%{x}\\u003cbr\\u003eCountryIndex=%{y}\\u003cbr\\u003eExportVolume=%{marker.color}\\u003cextra\\u003e\\u003c\\u002fextra\\u003e\",\"hovertext\":[\"Brazil\",\"Colombia\",\"Ethiopia\",\"Honduras\",\"Indonesia\",\"Viet Nam\"],\"legendgroup\":\"\",\"marker\":{\"color\":[23172.486512,9943.6300006,1376.062,2391.613,5243.4050012,14106.4430005],\"coloraxis\":\"coloraxis\",\"size\":[23172.486512,9943.6300006,1376.062,2391.613,5243.4050012,14106.4430005],\"sizemode\":\"area\",\"sizeref\":9.390558146611111,\"symbol\":\"circle\"},\"mode\":\"markers\",\"name\":\"\",\"orientation\":\"v\",\"showlegend\":false,\"x\":[2001,2001,2001,2001,2001,2001],\"xaxis\":\"x\",\"y\":[600,400,200,100,300,500],\"yaxis\":\"y\",\"type\":\"scatter\"}],\"name\":\"2001\"},{\"data\":[{\"hovertemplate\":\"\\u003cb\\u003e%{hovertext}\\u003c\\u002fb\\u003e\\u003cbr\\u003e\\u003cbr\\u003eYear=%{x}\\u003cbr\\u003eCountryIndex=%{y}\\u003cbr\\u003eExportVolume=%{marker.color}\\u003cextra\\u003e\\u003c\\u002fextra\\u003e\",\"hovertext\":[\"Brazil\",\"Colombia\",\"Ethiopia\",\"Honduras\",\"Indonesia\",\"Viet Nam\"],\"legendgroup\":\"\",\"marker\":{\"color\":[27981.8389351,10273.4249979,2054.678,2711.26,4285.830001,11771.3669994],\"coloraxis\":\"coloraxis\",\"size\":[27981.8389351,10273.4249979,2054.678,2711.26,4285.830001,11771.3669994],\"sizemode\":\"area\",\"sizeref\":9.390558146611111,\"symbol\":\"circle\"},\"mode\":\"markers\",\"name\":\"\",\"orientation\":\"v\",\"showlegend\":false,\"x\":[2002,2002,2002,2002,2002,2002],\"xaxis\":\"x\",\"y\":[600,400,200,100,300,500],\"yaxis\":\"y\",\"type\":\"scatter\"}],\"name\":\"2002\"},{\"data\":[{\"hovertemplate\":\"\\u003cb\\u003e%{hovertext}\\u003c\\u002fb\\u003e\\u003cbr\\u003e\\u003cbr\\u003eYear=%{x}\\u003cbr\\u003eCountryIndex=%{y}\\u003cbr\\u003eExportVolume=%{marker.color}\\u003cextra\\u003e\\u003c\\u002fextra\\u003e\",\"hovertext\":[\"Brazil\",\"Colombia\",\"Ethiopia\",\"Honduras\",\"Indonesia\",\"Viet Nam\"],\"legendgroup\":\"\",\"marker\":{\"color\":[25710.8116628,10244.3919993,2229.143,2425.237,4794.7200006,11631.1110003],\"coloraxis\":\"coloraxis\",\"size\":[25710.8116628,10244.3919993,2229.143,2425.237,4794.7200006,11631.1110003],\"sizemode\":\"area\",\"sizeref\":9.390558146611111,\"symbol\":\"circle\"},\"mode\":\"markers\",\"name\":\"\",\"orientation\":\"v\",\"showlegend\":false,\"x\":[2003,2003,2003,2003,2003,2003],\"xaxis\":\"x\",\"y\":[600,400,200,100,300,500],\"yaxis\":\"y\",\"type\":\"scatter\"}],\"name\":\"2003\"},{\"data\":[{\"hovertemplate\":\"\\u003cb\\u003e%{hovertext}\\u003c\\u002fb\\u003e\\u003cbr\\u003e\\u003cbr\\u003eYear=%{x}\\u003cbr\\u003eCountryIndex=%{y}\\u003cbr\\u003eExportVolume=%{marker.color}\\u003cextra\\u003e\\u003c\\u002fextra\\u003e\",\"hovertext\":[\"Brazil\",\"Colombia\",\"Ethiopia\",\"Honduras\",\"Indonesia\",\"Viet Nam\"],\"legendgroup\":\"\",\"marker\":{\"color\":[26478.4750901,10194.3150011,2490.944,2779.189,5455.5989996,14858.9909998],\"coloraxis\":\"coloraxis\",\"size\":[26478.4750901,10194.3150011,2490.944,2779.189,5455.5989996,14858.9909998],\"sizemode\":\"area\",\"sizeref\":9.390558146611111,\"symbol\":\"circle\"},\"mode\":\"markers\",\"name\":\"\",\"orientation\":\"v\",\"showlegend\":false,\"x\":[2004,2004,2004,2004,2004,2004],\"xaxis\":\"x\",\"y\":[600,400,200,100,300,500],\"yaxis\":\"y\",\"type\":\"scatter\"}],\"name\":\"2004\"},{\"data\":[{\"hovertemplate\":\"\\u003cb\\u003e%{hovertext}\\u003c\\u002fb\\u003e\\u003cbr\\u003e\\u003cbr\\u003eYear=%{x}\\u003cbr\\u003eCountryIndex=%{y}\\u003cbr\\u003eExportVolume=%{marker.color}\\u003cextra\\u003e\\u003c\\u002fextra\\u003e\",\"hovertext\":[\"Brazil\",\"Colombia\",\"Ethiopia\",\"Honduras\",\"Indonesia\",\"Viet Nam\"],\"legendgroup\":\"\",\"marker\":{\"color\":[26198.0554467,10871.2469708,2435.069,2391.90535,6744.09393,13432.0335533],\"coloraxis\":\"coloraxis\",\"size\":[26198.0554467,10871.2469708,2435.069,2391.90535,6744.09393,13432.0335533],\"sizemode\":\"area\",\"sizeref\":9.390558146611111,\"symbol\":\"circle\"},\"mode\":\"markers\",\"name\":\"\",\"orientation\":\"v\",\"showlegend\":false,\"x\":[2005,2005,2005,2005,2005,2005],\"xaxis\":\"x\",\"y\":[600,400,200,100,300,500],\"yaxis\":\"y\",\"type\":\"scatter\"}],\"name\":\"2005\"},{\"data\":[{\"hovertemplate\":\"\\u003cb\\u003e%{hovertext}\\u003c\\u002fb\\u003e\\u003cbr\\u003e\\u003cbr\\u003eYear=%{x}\\u003cbr\\u003eCountryIndex=%{y}\\u003cbr\\u003eExportVolume=%{marker.color}\\u003cextra\\u003e\\u003c\\u002fextra\\u003e\",\"hovertext\":[\"Brazil\",\"Colombia\",\"Ethiopia\",\"Honduras\",\"Indonesia\",\"Viet Nam\"],\"legendgroup\":\"\",\"marker\":{\"color\":[27368.9019587,10944.8534601,2935.56,2898.4144369,5280.4349134,13904.70204],\"coloraxis\":\"coloraxis\",\"size\":[27368.9019587,10944.8534601,2935.56,2898.4144369,5280.4349134,13904.70204],\"sizemode\":\"area\",\"sizeref\":9.390558146611111,\"symbol\":\"circle\"},\"mode\":\"markers\",\"name\":\"\",\"orientation\":\"v\",\"showlegend\":false,\"x\":[2006,2006,2006,2006,2006,2006],\"xaxis\":\"x\",\"y\":[600,400,200,100,300,500],\"yaxis\":\"y\",\"type\":\"scatter\"}],\"name\":\"2006\"},{\"data\":[{\"hovertemplate\":\"\\u003cb\\u003e%{hovertext}\\u003c\\u002fb\\u003e\\u003cbr\\u003e\\u003cbr\\u003eYear=%{x}\\u003cbr\\u003eCountryIndex=%{y}\\u003cbr\\u003eExportVolume=%{marker.color}\\u003cextra\\u003e\\u003c\\u002fextra\\u003e\",\"hovertext\":[\"Brazil\",\"Colombia\",\"Ethiopia\",\"Honduras\",\"Indonesia\",\"Viet Nam\"],\"legendgroup\":\"\",\"marker\":{\"color\":[28183.5739472,11300.4206901,2604.008,3312.0085632,4149.4101006,17936.2186134],\"coloraxis\":\"coloraxis\",\"size\":[28183.5739472,11300.4206901,2604.008,3312.0085632,4149.4101006,17936.2186134],\"sizemode\":\"area\",\"sizeref\":9.390558146611111,\"symbol\":\"circle\"},\"mode\":\"markers\",\"name\":\"\",\"orientation\":\"v\",\"showlegend\":false,\"x\":[2007,2007,2007,2007,2007,2007],\"xaxis\":\"x\",\"y\":[600,400,200,100,300,500],\"yaxis\":\"y\",\"type\":\"scatter\"}],\"name\":\"2007\"},{\"data\":[{\"hovertemplate\":\"\\u003cb\\u003e%{hovertext}\\u003c\\u002fb\\u003e\\u003cbr\\u003e\\u003cbr\\u003eYear=%{x}\\u003cbr\\u003eCountryIndex=%{y}\\u003cbr\\u003eExportVolume=%{marker.color}\\u003cextra\\u003e\\u003c\\u002fextra\\u003e\",\"hovertext\":[\"Brazil\",\"Colombia\",\"Ethiopia\",\"Honduras\",\"Indonesia\",\"Viet Nam\"],\"legendgroup\":\"\",\"marker\":{\"color\":[29510.2956935,11085.1702037,2851.92097,3259.4549512,5740.6730453,16101.3720357],\"coloraxis\":\"coloraxis\",\"size\":[29510.2956935,11085.1702037,2851.92097,3259.4549512,5740.6730453,16101.3720357],\"sizemode\":\"area\",\"sizeref\":9.390558146611111,\"symbol\":\"circle\"},\"mode\":\"markers\",\"name\":\"\",\"orientation\":\"v\",\"showlegend\":false,\"x\":[2008,2008,2008,2008,2008,2008],\"xaxis\":\"x\",\"y\":[600,400,200,100,300,500],\"yaxis\":\"y\",\"type\":\"scatter\"}],\"name\":\"2008\"},{\"data\":[{\"hovertemplate\":\"\\u003cb\\u003e%{hovertext}\\u003c\\u002fb\\u003e\\u003cbr\\u003e\\u003cbr\\u003eYear=%{x}\\u003cbr\\u003eCountryIndex=%{y}\\u003cbr\\u003eExportVolume=%{marker.color}\\u003cextra\\u003e\\u003c\\u002fextra\\u003e\",\"hovertext\":[\"Brazil\",\"Colombia\",\"Ethiopia\",\"Honduras\",\"Indonesia\",\"Viet Nam\"],\"legendgroup\":\"\",\"marker\":{\"color\":[30377.9816361,7893.9267953,1851.4974532,3084.1878284,7907.2735156,17051.7344765],\"coloraxis\":\"coloraxis\",\"size\":[30377.9816361,7893.9267953,1851.4974532,3084.1878284,7907.2735156,17051.7344765],\"sizemode\":\"area\",\"sizeref\":9.390558146611111,\"symbol\":\"circle\"},\"mode\":\"markers\",\"name\":\"\",\"orientation\":\"v\",\"showlegend\":false,\"x\":[2009,2009,2009,2009,2009,2009],\"xaxis\":\"x\",\"y\":[600,400,200,100,300,500],\"yaxis\":\"y\",\"type\":\"scatter\"}],\"name\":\"2009\"},{\"data\":[{\"hovertemplate\":\"\\u003cb\\u003e%{hovertext}\\u003c\\u002fb\\u003e\\u003cbr\\u003e\\u003cbr\\u003eYear=%{x}\\u003cbr\\u003eCountryIndex=%{y}\\u003cbr\\u003eExportVolume=%{marker.color}\\u003cextra\\u003e\\u003c\\u002fextra\\u003e\",\"hovertext\":[\"Brazil\",\"Colombia\",\"Ethiopia\",\"Honduras\",\"Indonesia\",\"Viet Nam\"],\"legendgroup\":\"\",\"marker\":{\"color\":[33166.6415897,7821.6345037,3324.1025511,3349.3976392,5489.1475563,14228.5857964],\"coloraxis\":\"coloraxis\",\"size\":[33166.6415897,7821.6345037,3324.1025511,3349.3976392,5489.1475563,14228.5857964],\"sizemode\":\"area\",\"sizeref\":9.390558146611111,\"symbol\":\"circle\"},\"mode\":\"markers\",\"name\":\"\",\"orientation\":\"v\",\"showlegend\":false,\"x\":[2010,2010,2010,2010,2010,2010],\"xaxis\":\"x\",\"y\":[600,400,200,100,300,500],\"yaxis\":\"y\",\"type\":\"scatter\"}],\"name\":\"2010\"},{\"data\":[{\"hovertemplate\":\"\\u003cb\\u003e%{hovertext}\\u003c\\u002fb\\u003e\\u003cbr\\u003e\\u003cbr\\u003eYear=%{x}\\u003cbr\\u003eCountryIndex=%{y}\\u003cbr\\u003eExportVolume=%{marker.color}\\u003cextra\\u003e\\u003c\\u002fextra\\u003e\",\"hovertext\":[\"Brazil\",\"Colombia\",\"Ethiopia\",\"Honduras\",\"Indonesia\",\"Viet Nam\"],\"legendgroup\":\"\",\"marker\":{\"color\":[33806.0093278,7733.625254,2675.4190125,3947.1411511,3919.891883,17717.3947313],\"coloraxis\":\"coloraxis\",\"size\":[33806.0093278,7733.625254,2675.4190125,3947.1411511,3919.891883,17717.3947313],\"sizemode\":\"area\",\"sizeref\":9.390558146611111,\"symbol\":\"circle\"},\"mode\":\"markers\",\"name\":\"\",\"orientation\":\"v\",\"showlegend\":false,\"x\":[2011,2011,2011,2011,2011,2011],\"xaxis\":\"x\",\"y\":[600,400,200,100,300,500],\"yaxis\":\"y\",\"type\":\"scatter\"}],\"name\":\"2011\"},{\"data\":[{\"hovertemplate\":\"\\u003cb\\u003e%{hovertext}\\u003c\\u002fb\\u003e\\u003cbr\\u003e\\u003cbr\\u003eYear=%{x}\\u003cbr\\u003eCountryIndex=%{y}\\u003cbr\\u003eExportVolume=%{marker.color}\\u003cextra\\u003e\\u003c\\u002fextra\\u003e\",\"hovertext\":[\"Brazil\",\"Colombia\",\"Ethiopia\",\"Honduras\",\"Indonesia\",\"Viet Nam\"],\"legendgroup\":\"\",\"marker\":{\"color\":[28549.4258909,7170.203291,3202.5924066,5507.9849391,8205.7408259,22919.6638324],\"coloraxis\":\"coloraxis\",\"size\":[28549.4258909,7170.203291,3202.5924066,5507.9849391,8205.7408259,22919.6638324],\"sizemode\":\"area\",\"sizeref\":9.390558146611111,\"symbol\":\"circle\"},\"mode\":\"markers\",\"name\":\"\",\"orientation\":\"v\",\"showlegend\":false,\"x\":[2012,2012,2012,2012,2012,2012],\"xaxis\":\"x\",\"y\":[600,400,200,100,300,500],\"yaxis\":\"y\",\"type\":\"scatter\"}],\"name\":\"2012\"},{\"data\":[{\"hovertemplate\":\"\\u003cb\\u003e%{hovertext}\\u003c\\u002fb\\u003e\\u003cbr\\u003e\\u003cbr\\u003eYear=%{x}\\u003cbr\\u003eCountryIndex=%{y}\\u003cbr\\u003eExportVolume=%{marker.color}\\u003cextra\\u003e\\u003c\\u002fextra\\u003e\",\"hovertext\":[\"Brazil\",\"Colombia\",\"Ethiopia\",\"Honduras\",\"Indonesia\",\"Viet Nam\"],\"legendgroup\":\"\",\"marker\":{\"color\":[31650.5629454,9669.907367,2870.0752483,4185.1189243,9254.8073308,19717.7644142],\"coloraxis\":\"coloraxis\",\"size\":[31650.5629454,9669.907367,2870.0752483,4185.1189243,9254.8073308,19717.7644142],\"sizemode\":\"area\",\"sizeref\":9.390558146611111,\"symbol\":\"circle\"},\"mode\":\"markers\",\"name\":\"\",\"orientation\":\"v\",\"showlegend\":false,\"x\":[2013,2013,2013,2013,2013,2013],\"xaxis\":\"x\",\"y\":[600,400,200,100,300,500],\"yaxis\":\"y\",\"type\":\"scatter\"}],\"name\":\"2013\"}]);\n                        }).then(function(){\n                            \nvar gd = document.getElementById('dee4017b-396c-4165-aef4-dafbfa22b5d3');\nvar x = new MutationObserver(function (mutations, observer) {{\n        var display = window.getComputedStyle(gd).display;\n        if (!display || display === 'none') {{\n            console.log([gd, 'removed!']);\n            Plotly.purge(gd);\n            observer.disconnect();\n        }}\n}});\n\n// Listen for the removal of the full notebook cells\nvar notebookContainer = gd.closest('#notebook-container');\nif (notebookContainer) {{\n    x.observe(notebookContainer, {childList: true});\n}}\n\n// Listen for the clearing of the current output cell\nvar outputEl = gd.closest('.output');\nif (outputEl) {{\n    x.observe(outputEl, {childList: true});\n}}\n\n                        })                };                });            </script>        </div>"
     },
     "metadata": {},
     "output_type": "display_data"
    }
   ],
   "source": [
    "df = pd.read_csv('exports-calendar-year.csv')\n",
    "selected_countries = ['Brazil', 'Viet Nam', 'Colombia', 'Indonesia', 'Ethiopia', 'Honduras']\n",
    "df = df[df['exports'].isin(selected_countries)]\n",
    "\n",
    "# Assegna a ogni paese un valore Y specifico per aumentare la distanza\n",
    "country_y_positions = {\n",
    "    'Brazil': 600,\n",
    "    'Viet Nam': 500,\n",
    "    'Colombia': 400,\n",
    "    'Indonesia': 300,\n",
    "    'Ethiopia': 200,\n",
    "    'Honduras': 100\n",
    "}\n",
    "df['CountryIndex'] = df['exports'].map(country_y_positions)\n",
    "\n",
    "# Prepara i dati per il grafico a bolle\n",
    "df_long = df.melt(id_vars=['exports', 'CountryIndex'], var_name='Year', value_name='ExportVolume')\n",
    "df_long['Year'] = df_long['Year'].astype(int)\n",
    "df_long = df_long[df_long['Year'] <= 2013]\n",
    "\n",
    "# Crea il grafico a bolle animato\n",
    "fig = px.scatter(df_long, x='Year', y='CountryIndex', size='ExportVolume', color='ExportVolume',\n",
    "                 hover_name='exports', animation_frame='Year',\n",
    "                 size_max=60, range_x=[df_long['Year'].min(), df_long['Year'].max()])\n",
    "\n",
    "# Aggiusta l'asse Y per mostrare i nomi dei paesi\n",
    "fig.update_yaxes(tickvals=list(country_y_positions.values()), ticktext=list(country_y_positions.keys()))\n",
    "\n",
    "# Mostra il grafico\n",
    "fig.show()"
   ]
  },
  {
   "cell_type": "code",
   "execution_count": 39,
   "metadata": {
    "collapsed": false
   },
   "outputs": [
    {
     "data": {
      "application/vnd.plotly.v1+json": {
       "data": [
        {
         "alignmentgroup": "True",
         "hovertemplate": "Countries=%{y}<br>Year=1990<br>ImportVolume=%{x}<extra></extra>",
         "legendgroup": "USA",
         "marker": {
          "color": "#636efa",
          "pattern": {
           "shape": ""
          }
         },
         "name": "USA",
         "offsetgroup": "USA",
         "orientation": "h",
         "showlegend": true,
         "textposition": "auto",
         "x": [
          18297.6180013
         ],
         "xaxis": "x",
         "y": [
          "USA"
         ],
         "yaxis": "y",
         "type": "bar"
        },
        {
         "alignmentgroup": "True",
         "hovertemplate": "Countries=%{y}<br>Year=1990<br>ImportVolume=%{x}<extra></extra>",
         "legendgroup": "   Germany",
         "marker": {
          "color": "#EF553B",
          "pattern": {
           "shape": ""
          }
         },
         "name": "   Germany",
         "offsetgroup": "   Germany",
         "orientation": "h",
         "showlegend": true,
         "textposition": "auto",
         "x": [
          7279.2569607
         ],
         "xaxis": "x",
         "y": [
          "   Germany"
         ],
         "yaxis": "y",
         "type": "bar"
        },
        {
         "alignmentgroup": "True",
         "hovertemplate": "Countries=%{y}<br>Year=1990<br>ImportVolume=%{x}<extra></extra>",
         "legendgroup": "   France",
         "marker": {
          "color": "#00cc96",
          "pattern": {
           "shape": ""
          }
         },
         "name": "   France",
         "offsetgroup": "   France",
         "orientation": "h",
         "showlegend": true,
         "textposition": "auto",
         "x": [
          5205.1723628
         ],
         "xaxis": "x",
         "y": [
          "   France"
         ],
         "yaxis": "y",
         "type": "bar"
        },
        {
         "alignmentgroup": "True",
         "hovertemplate": "Countries=%{y}<br>Year=1990<br>ImportVolume=%{x}<extra></extra>",
         "legendgroup": "Japan",
         "marker": {
          "color": "#ab63fa",
          "pattern": {
           "shape": ""
          }
         },
         "name": "Japan",
         "offsetgroup": "Japan",
         "orientation": "h",
         "showlegend": true,
         "textposition": "auto",
         "x": [
          5059.8480044
         ],
         "xaxis": "x",
         "y": [
          "Japan"
         ],
         "yaxis": "y",
         "type": "bar"
        },
        {
         "alignmentgroup": "True",
         "hovertemplate": "Countries=%{y}<br>Year=1990<br>ImportVolume=%{x}<extra></extra>",
         "legendgroup": "   Italy",
         "marker": {
          "color": "#FFA15A",
          "pattern": {
           "shape": ""
          }
         },
         "name": "   Italy",
         "offsetgroup": "   Italy",
         "orientation": "h",
         "showlegend": true,
         "textposition": "auto",
         "x": [
          4832.2939865
         ],
         "xaxis": "x",
         "y": [
          "   Italy"
         ],
         "yaxis": "y",
         "type": "bar"
        }
       ],
       "layout": {
        "template": {
         "data": {
          "histogram2dcontour": [
           {
            "type": "histogram2dcontour",
            "colorbar": {
             "outlinewidth": 0,
             "ticks": ""
            },
            "colorscale": [
             [
              0.0,
              "#0d0887"
             ],
             [
              0.1111111111111111,
              "#46039f"
             ],
             [
              0.2222222222222222,
              "#7201a8"
             ],
             [
              0.3333333333333333,
              "#9c179e"
             ],
             [
              0.4444444444444444,
              "#bd3786"
             ],
             [
              0.5555555555555556,
              "#d8576b"
             ],
             [
              0.6666666666666666,
              "#ed7953"
             ],
             [
              0.7777777777777778,
              "#fb9f3a"
             ],
             [
              0.8888888888888888,
              "#fdca26"
             ],
             [
              1.0,
              "#f0f921"
             ]
            ]
           }
          ],
          "choropleth": [
           {
            "type": "choropleth",
            "colorbar": {
             "outlinewidth": 0,
             "ticks": ""
            }
           }
          ],
          "histogram2d": [
           {
            "type": "histogram2d",
            "colorbar": {
             "outlinewidth": 0,
             "ticks": ""
            },
            "colorscale": [
             [
              0.0,
              "#0d0887"
             ],
             [
              0.1111111111111111,
              "#46039f"
             ],
             [
              0.2222222222222222,
              "#7201a8"
             ],
             [
              0.3333333333333333,
              "#9c179e"
             ],
             [
              0.4444444444444444,
              "#bd3786"
             ],
             [
              0.5555555555555556,
              "#d8576b"
             ],
             [
              0.6666666666666666,
              "#ed7953"
             ],
             [
              0.7777777777777778,
              "#fb9f3a"
             ],
             [
              0.8888888888888888,
              "#fdca26"
             ],
             [
              1.0,
              "#f0f921"
             ]
            ]
           }
          ],
          "heatmap": [
           {
            "type": "heatmap",
            "colorbar": {
             "outlinewidth": 0,
             "ticks": ""
            },
            "colorscale": [
             [
              0.0,
              "#0d0887"
             ],
             [
              0.1111111111111111,
              "#46039f"
             ],
             [
              0.2222222222222222,
              "#7201a8"
             ],
             [
              0.3333333333333333,
              "#9c179e"
             ],
             [
              0.4444444444444444,
              "#bd3786"
             ],
             [
              0.5555555555555556,
              "#d8576b"
             ],
             [
              0.6666666666666666,
              "#ed7953"
             ],
             [
              0.7777777777777778,
              "#fb9f3a"
             ],
             [
              0.8888888888888888,
              "#fdca26"
             ],
             [
              1.0,
              "#f0f921"
             ]
            ]
           }
          ],
          "heatmapgl": [
           {
            "type": "heatmapgl",
            "colorbar": {
             "outlinewidth": 0,
             "ticks": ""
            },
            "colorscale": [
             [
              0.0,
              "#0d0887"
             ],
             [
              0.1111111111111111,
              "#46039f"
             ],
             [
              0.2222222222222222,
              "#7201a8"
             ],
             [
              0.3333333333333333,
              "#9c179e"
             ],
             [
              0.4444444444444444,
              "#bd3786"
             ],
             [
              0.5555555555555556,
              "#d8576b"
             ],
             [
              0.6666666666666666,
              "#ed7953"
             ],
             [
              0.7777777777777778,
              "#fb9f3a"
             ],
             [
              0.8888888888888888,
              "#fdca26"
             ],
             [
              1.0,
              "#f0f921"
             ]
            ]
           }
          ],
          "contourcarpet": [
           {
            "type": "contourcarpet",
            "colorbar": {
             "outlinewidth": 0,
             "ticks": ""
            }
           }
          ],
          "contour": [
           {
            "type": "contour",
            "colorbar": {
             "outlinewidth": 0,
             "ticks": ""
            },
            "colorscale": [
             [
              0.0,
              "#0d0887"
             ],
             [
              0.1111111111111111,
              "#46039f"
             ],
             [
              0.2222222222222222,
              "#7201a8"
             ],
             [
              0.3333333333333333,
              "#9c179e"
             ],
             [
              0.4444444444444444,
              "#bd3786"
             ],
             [
              0.5555555555555556,
              "#d8576b"
             ],
             [
              0.6666666666666666,
              "#ed7953"
             ],
             [
              0.7777777777777778,
              "#fb9f3a"
             ],
             [
              0.8888888888888888,
              "#fdca26"
             ],
             [
              1.0,
              "#f0f921"
             ]
            ]
           }
          ],
          "surface": [
           {
            "type": "surface",
            "colorbar": {
             "outlinewidth": 0,
             "ticks": ""
            },
            "colorscale": [
             [
              0.0,
              "#0d0887"
             ],
             [
              0.1111111111111111,
              "#46039f"
             ],
             [
              0.2222222222222222,
              "#7201a8"
             ],
             [
              0.3333333333333333,
              "#9c179e"
             ],
             [
              0.4444444444444444,
              "#bd3786"
             ],
             [
              0.5555555555555556,
              "#d8576b"
             ],
             [
              0.6666666666666666,
              "#ed7953"
             ],
             [
              0.7777777777777778,
              "#fb9f3a"
             ],
             [
              0.8888888888888888,
              "#fdca26"
             ],
             [
              1.0,
              "#f0f921"
             ]
            ]
           }
          ],
          "mesh3d": [
           {
            "type": "mesh3d",
            "colorbar": {
             "outlinewidth": 0,
             "ticks": ""
            }
           }
          ],
          "scatter": [
           {
            "marker": {
             "line": {
              "color": "#283442"
             }
            },
            "type": "scatter"
           }
          ],
          "parcoords": [
           {
            "type": "parcoords",
            "line": {
             "colorbar": {
              "outlinewidth": 0,
              "ticks": ""
             }
            }
           }
          ],
          "scatterpolargl": [
           {
            "type": "scatterpolargl",
            "marker": {
             "colorbar": {
              "outlinewidth": 0,
              "ticks": ""
             }
            }
           }
          ],
          "bar": [
           {
            "error_x": {
             "color": "#f2f5fa"
            },
            "error_y": {
             "color": "#f2f5fa"
            },
            "marker": {
             "line": {
              "color": "rgb(17,17,17)",
              "width": 0.5
             },
             "pattern": {
              "fillmode": "overlay",
              "size": 10,
              "solidity": 0.2
             }
            },
            "type": "bar"
           }
          ],
          "scattergeo": [
           {
            "type": "scattergeo",
            "marker": {
             "colorbar": {
              "outlinewidth": 0,
              "ticks": ""
             }
            }
           }
          ],
          "scatterpolar": [
           {
            "type": "scatterpolar",
            "marker": {
             "colorbar": {
              "outlinewidth": 0,
              "ticks": ""
             }
            }
           }
          ],
          "histogram": [
           {
            "marker": {
             "pattern": {
              "fillmode": "overlay",
              "size": 10,
              "solidity": 0.2
             }
            },
            "type": "histogram"
           }
          ],
          "scattergl": [
           {
            "marker": {
             "line": {
              "color": "#283442"
             }
            },
            "type": "scattergl"
           }
          ],
          "scatter3d": [
           {
            "type": "scatter3d",
            "line": {
             "colorbar": {
              "outlinewidth": 0,
              "ticks": ""
             }
            },
            "marker": {
             "colorbar": {
              "outlinewidth": 0,
              "ticks": ""
             }
            }
           }
          ],
          "scattermapbox": [
           {
            "type": "scattermapbox",
            "marker": {
             "colorbar": {
              "outlinewidth": 0,
              "ticks": ""
             }
            }
           }
          ],
          "scatterternary": [
           {
            "type": "scatterternary",
            "marker": {
             "colorbar": {
              "outlinewidth": 0,
              "ticks": ""
             }
            }
           }
          ],
          "scattercarpet": [
           {
            "type": "scattercarpet",
            "marker": {
             "colorbar": {
              "outlinewidth": 0,
              "ticks": ""
             }
            }
           }
          ],
          "carpet": [
           {
            "aaxis": {
             "endlinecolor": "#A2B1C6",
             "gridcolor": "#506784",
             "linecolor": "#506784",
             "minorgridcolor": "#506784",
             "startlinecolor": "#A2B1C6"
            },
            "baxis": {
             "endlinecolor": "#A2B1C6",
             "gridcolor": "#506784",
             "linecolor": "#506784",
             "minorgridcolor": "#506784",
             "startlinecolor": "#A2B1C6"
            },
            "type": "carpet"
           }
          ],
          "table": [
           {
            "cells": {
             "fill": {
              "color": "#506784"
             },
             "line": {
              "color": "rgb(17,17,17)"
             }
            },
            "header": {
             "fill": {
              "color": "#2a3f5f"
             },
             "line": {
              "color": "rgb(17,17,17)"
             }
            },
            "type": "table"
           }
          ],
          "barpolar": [
           {
            "marker": {
             "line": {
              "color": "rgb(17,17,17)",
              "width": 0.5
             },
             "pattern": {
              "fillmode": "overlay",
              "size": 10,
              "solidity": 0.2
             }
            },
            "type": "barpolar"
           }
          ],
          "pie": [
           {
            "automargin": true,
            "type": "pie"
           }
          ]
         },
         "layout": {
          "autotypenumbers": "strict",
          "colorway": [
           "#636efa",
           "#EF553B",
           "#00cc96",
           "#ab63fa",
           "#FFA15A",
           "#19d3f3",
           "#FF6692",
           "#B6E880",
           "#FF97FF",
           "#FECB52"
          ],
          "font": {
           "color": "#f2f5fa"
          },
          "hovermode": "closest",
          "hoverlabel": {
           "align": "left"
          },
          "paper_bgcolor": "rgb(17,17,17)",
          "plot_bgcolor": "rgb(17,17,17)",
          "polar": {
           "bgcolor": "rgb(17,17,17)",
           "angularaxis": {
            "gridcolor": "#506784",
            "linecolor": "#506784",
            "ticks": ""
           },
           "radialaxis": {
            "gridcolor": "#506784",
            "linecolor": "#506784",
            "ticks": ""
           }
          },
          "ternary": {
           "bgcolor": "rgb(17,17,17)",
           "aaxis": {
            "gridcolor": "#506784",
            "linecolor": "#506784",
            "ticks": ""
           },
           "baxis": {
            "gridcolor": "#506784",
            "linecolor": "#506784",
            "ticks": ""
           },
           "caxis": {
            "gridcolor": "#506784",
            "linecolor": "#506784",
            "ticks": ""
           }
          },
          "coloraxis": {
           "colorbar": {
            "outlinewidth": 0,
            "ticks": ""
           }
          },
          "colorscale": {
           "sequential": [
            [
             0.0,
             "#0d0887"
            ],
            [
             0.1111111111111111,
             "#46039f"
            ],
            [
             0.2222222222222222,
             "#7201a8"
            ],
            [
             0.3333333333333333,
             "#9c179e"
            ],
            [
             0.4444444444444444,
             "#bd3786"
            ],
            [
             0.5555555555555556,
             "#d8576b"
            ],
            [
             0.6666666666666666,
             "#ed7953"
            ],
            [
             0.7777777777777778,
             "#fb9f3a"
            ],
            [
             0.8888888888888888,
             "#fdca26"
            ],
            [
             1.0,
             "#f0f921"
            ]
           ],
           "sequentialminus": [
            [
             0.0,
             "#0d0887"
            ],
            [
             0.1111111111111111,
             "#46039f"
            ],
            [
             0.2222222222222222,
             "#7201a8"
            ],
            [
             0.3333333333333333,
             "#9c179e"
            ],
            [
             0.4444444444444444,
             "#bd3786"
            ],
            [
             0.5555555555555556,
             "#d8576b"
            ],
            [
             0.6666666666666666,
             "#ed7953"
            ],
            [
             0.7777777777777778,
             "#fb9f3a"
            ],
            [
             0.8888888888888888,
             "#fdca26"
            ],
            [
             1.0,
             "#f0f921"
            ]
           ],
           "diverging": [
            [
             0,
             "#8e0152"
            ],
            [
             0.1,
             "#c51b7d"
            ],
            [
             0.2,
             "#de77ae"
            ],
            [
             0.3,
             "#f1b6da"
            ],
            [
             0.4,
             "#fde0ef"
            ],
            [
             0.5,
             "#f7f7f7"
            ],
            [
             0.6,
             "#e6f5d0"
            ],
            [
             0.7,
             "#b8e186"
            ],
            [
             0.8,
             "#7fbc41"
            ],
            [
             0.9,
             "#4d9221"
            ],
            [
             1,
             "#276419"
            ]
           ]
          },
          "xaxis": {
           "gridcolor": "#283442",
           "linecolor": "#506784",
           "ticks": "",
           "title": {
            "standoff": 15
           },
           "zerolinecolor": "#283442",
           "automargin": true,
           "zerolinewidth": 2
          },
          "yaxis": {
           "gridcolor": "#283442",
           "linecolor": "#506784",
           "ticks": "",
           "title": {
            "standoff": 15
           },
           "zerolinecolor": "#283442",
           "automargin": true,
           "zerolinewidth": 2
          },
          "scene": {
           "xaxis": {
            "backgroundcolor": "rgb(17,17,17)",
            "gridcolor": "#506784",
            "linecolor": "#506784",
            "showbackground": true,
            "ticks": "",
            "zerolinecolor": "#C8D4E3",
            "gridwidth": 2
           },
           "yaxis": {
            "backgroundcolor": "rgb(17,17,17)",
            "gridcolor": "#506784",
            "linecolor": "#506784",
            "showbackground": true,
            "ticks": "",
            "zerolinecolor": "#C8D4E3",
            "gridwidth": 2
           },
           "zaxis": {
            "backgroundcolor": "rgb(17,17,17)",
            "gridcolor": "#506784",
            "linecolor": "#506784",
            "showbackground": true,
            "ticks": "",
            "zerolinecolor": "#C8D4E3",
            "gridwidth": 2
           }
          },
          "shapedefaults": {
           "line": {
            "color": "#f2f5fa"
           }
          },
          "annotationdefaults": {
           "arrowcolor": "#f2f5fa",
           "arrowhead": 0,
           "arrowwidth": 1
          },
          "geo": {
           "bgcolor": "rgb(17,17,17)",
           "landcolor": "rgb(17,17,17)",
           "subunitcolor": "#506784",
           "showland": true,
           "showlakes": true,
           "lakecolor": "rgb(17,17,17)"
          },
          "title": {
           "x": 0.05
          },
          "updatemenudefaults": {
           "bgcolor": "#506784",
           "borderwidth": 0
          },
          "sliderdefaults": {
           "bgcolor": "#C8D4E3",
           "borderwidth": 1,
           "bordercolor": "rgb(17,17,17)",
           "tickwidth": 0
          },
          "mapbox": {
           "style": "dark"
          }
         }
        },
        "xaxis": {
         "anchor": "y",
         "domain": [
          0.0,
          1.0
         ],
         "title": {
          "text": "ImportVolume"
         },
         "range": [
          0,
          23417.0
         ]
        },
        "yaxis": {
         "anchor": "x",
         "domain": [
          0.0,
          1.0
         ],
         "title": {
          "text": "Countries",
          "standoff": 25
         },
         "categoryorder": "array",
         "categoryarray": [
          "   Italy",
          "Japan",
          "   France",
          "   Germany",
          "USA"
         ]
        },
        "legend": {
         "title": {
          "text": "Countries"
         },
         "tracegroupgap": 0
        },
        "margin": {
         "t": 60
        },
        "barmode": "relative",
        "updatemenus": [
         {
          "buttons": [
           {
            "args": [
             null,
             {
              "frame": {
               "duration": 500,
               "redraw": true
              },
              "mode": "immediate",
              "fromcurrent": true,
              "transition": {
               "duration": 500,
               "easing": "linear"
              }
             }
            ],
            "label": "&#9654;",
            "method": "animate"
           },
           {
            "args": [
             [
              null
             ],
             {
              "frame": {
               "duration": 0,
               "redraw": true
              },
              "mode": "immediate",
              "fromcurrent": true,
              "transition": {
               "duration": 0,
               "easing": "linear"
              }
             }
            ],
            "label": "&#9724;",
            "method": "animate"
           }
          ],
          "direction": "left",
          "pad": {
           "r": 10,
           "t": 70
          },
          "showactive": false,
          "type": "buttons",
          "x": 0.1,
          "xanchor": "right",
          "y": 0,
          "yanchor": "top"
         }
        ],
        "sliders": [
         {
          "active": 0,
          "currentvalue": {
           "prefix": "Year="
          },
          "len": 0.9,
          "pad": {
           "b": 10,
           "t": 60
          },
          "steps": [
           {
            "args": [
             [
              "1990"
             ],
             {
              "frame": {
               "duration": 0,
               "redraw": true
              },
              "mode": "immediate",
              "fromcurrent": true,
              "transition": {
               "duration": 0,
               "easing": "linear"
              }
             }
            ],
            "label": "1990",
            "method": "animate"
           },
           {
            "args": [
             [
              "1991"
             ],
             {
              "frame": {
               "duration": 0,
               "redraw": true
              },
              "mode": "immediate",
              "fromcurrent": true,
              "transition": {
               "duration": 0,
               "easing": "linear"
              }
             }
            ],
            "label": "1991",
            "method": "animate"
           },
           {
            "args": [
             [
              "1992"
             ],
             {
              "frame": {
               "duration": 0,
               "redraw": true
              },
              "mode": "immediate",
              "fromcurrent": true,
              "transition": {
               "duration": 0,
               "easing": "linear"
              }
             }
            ],
            "label": "1992",
            "method": "animate"
           },
           {
            "args": [
             [
              "1993"
             ],
             {
              "frame": {
               "duration": 0,
               "redraw": true
              },
              "mode": "immediate",
              "fromcurrent": true,
              "transition": {
               "duration": 0,
               "easing": "linear"
              }
             }
            ],
            "label": "1993",
            "method": "animate"
           },
           {
            "args": [
             [
              "1994"
             ],
             {
              "frame": {
               "duration": 0,
               "redraw": true
              },
              "mode": "immediate",
              "fromcurrent": true,
              "transition": {
               "duration": 0,
               "easing": "linear"
              }
             }
            ],
            "label": "1994",
            "method": "animate"
           },
           {
            "args": [
             [
              "1995"
             ],
             {
              "frame": {
               "duration": 0,
               "redraw": true
              },
              "mode": "immediate",
              "fromcurrent": true,
              "transition": {
               "duration": 0,
               "easing": "linear"
              }
             }
            ],
            "label": "1995",
            "method": "animate"
           },
           {
            "args": [
             [
              "1996"
             ],
             {
              "frame": {
               "duration": 0,
               "redraw": true
              },
              "mode": "immediate",
              "fromcurrent": true,
              "transition": {
               "duration": 0,
               "easing": "linear"
              }
             }
            ],
            "label": "1996",
            "method": "animate"
           },
           {
            "args": [
             [
              "1997"
             ],
             {
              "frame": {
               "duration": 0,
               "redraw": true
              },
              "mode": "immediate",
              "fromcurrent": true,
              "transition": {
               "duration": 0,
               "easing": "linear"
              }
             }
            ],
            "label": "1997",
            "method": "animate"
           },
           {
            "args": [
             [
              "1998"
             ],
             {
              "frame": {
               "duration": 0,
               "redraw": true
              },
              "mode": "immediate",
              "fromcurrent": true,
              "transition": {
               "duration": 0,
               "easing": "linear"
              }
             }
            ],
            "label": "1998",
            "method": "animate"
           },
           {
            "args": [
             [
              "1999"
             ],
             {
              "frame": {
               "duration": 0,
               "redraw": true
              },
              "mode": "immediate",
              "fromcurrent": true,
              "transition": {
               "duration": 0,
               "easing": "linear"
              }
             }
            ],
            "label": "1999",
            "method": "animate"
           },
           {
            "args": [
             [
              "2000"
             ],
             {
              "frame": {
               "duration": 0,
               "redraw": true
              },
              "mode": "immediate",
              "fromcurrent": true,
              "transition": {
               "duration": 0,
               "easing": "linear"
              }
             }
            ],
            "label": "2000",
            "method": "animate"
           },
           {
            "args": [
             [
              "2001"
             ],
             {
              "frame": {
               "duration": 0,
               "redraw": true
              },
              "mode": "immediate",
              "fromcurrent": true,
              "transition": {
               "duration": 0,
               "easing": "linear"
              }
             }
            ],
            "label": "2001",
            "method": "animate"
           },
           {
            "args": [
             [
              "2002"
             ],
             {
              "frame": {
               "duration": 0,
               "redraw": true
              },
              "mode": "immediate",
              "fromcurrent": true,
              "transition": {
               "duration": 0,
               "easing": "linear"
              }
             }
            ],
            "label": "2002",
            "method": "animate"
           },
           {
            "args": [
             [
              "2003"
             ],
             {
              "frame": {
               "duration": 0,
               "redraw": true
              },
              "mode": "immediate",
              "fromcurrent": true,
              "transition": {
               "duration": 0,
               "easing": "linear"
              }
             }
            ],
            "label": "2003",
            "method": "animate"
           },
           {
            "args": [
             [
              "2004"
             ],
             {
              "frame": {
               "duration": 0,
               "redraw": true
              },
              "mode": "immediate",
              "fromcurrent": true,
              "transition": {
               "duration": 0,
               "easing": "linear"
              }
             }
            ],
            "label": "2004",
            "method": "animate"
           },
           {
            "args": [
             [
              "2005"
             ],
             {
              "frame": {
               "duration": 0,
               "redraw": true
              },
              "mode": "immediate",
              "fromcurrent": true,
              "transition": {
               "duration": 0,
               "easing": "linear"
              }
             }
            ],
            "label": "2005",
            "method": "animate"
           },
           {
            "args": [
             [
              "2006"
             ],
             {
              "frame": {
               "duration": 0,
               "redraw": true
              },
              "mode": "immediate",
              "fromcurrent": true,
              "transition": {
               "duration": 0,
               "easing": "linear"
              }
             }
            ],
            "label": "2006",
            "method": "animate"
           },
           {
            "args": [
             [
              "2007"
             ],
             {
              "frame": {
               "duration": 0,
               "redraw": true
              },
              "mode": "immediate",
              "fromcurrent": true,
              "transition": {
               "duration": 0,
               "easing": "linear"
              }
             }
            ],
            "label": "2007",
            "method": "animate"
           },
           {
            "args": [
             [
              "2008"
             ],
             {
              "frame": {
               "duration": 0,
               "redraw": true
              },
              "mode": "immediate",
              "fromcurrent": true,
              "transition": {
               "duration": 0,
               "easing": "linear"
              }
             }
            ],
            "label": "2008",
            "method": "animate"
           },
           {
            "args": [
             [
              "2009"
             ],
             {
              "frame": {
               "duration": 0,
               "redraw": true
              },
              "mode": "immediate",
              "fromcurrent": true,
              "transition": {
               "duration": 0,
               "easing": "linear"
              }
             }
            ],
            "label": "2009",
            "method": "animate"
           },
           {
            "args": [
             [
              "2010"
             ],
             {
              "frame": {
               "duration": 0,
               "redraw": true
              },
              "mode": "immediate",
              "fromcurrent": true,
              "transition": {
               "duration": 0,
               "easing": "linear"
              }
             }
            ],
            "label": "2010",
            "method": "animate"
           },
           {
            "args": [
             [
              "2011"
             ],
             {
              "frame": {
               "duration": 0,
               "redraw": true
              },
              "mode": "immediate",
              "fromcurrent": true,
              "transition": {
               "duration": 0,
               "easing": "linear"
              }
             }
            ],
            "label": "2011",
            "method": "animate"
           },
           {
            "args": [
             [
              "2012"
             ],
             {
              "frame": {
               "duration": 0,
               "redraw": true
              },
              "mode": "immediate",
              "fromcurrent": true,
              "transition": {
               "duration": 0,
               "easing": "linear"
              }
             }
            ],
            "label": "2012",
            "method": "animate"
           },
           {
            "args": [
             [
              "2013"
             ],
             {
              "frame": {
               "duration": 0,
               "redraw": true
              },
              "mode": "immediate",
              "fromcurrent": true,
              "transition": {
               "duration": 0,
               "easing": "linear"
              }
             }
            ],
            "label": "2013",
            "method": "animate"
           }
          ],
          "x": 0.1,
          "xanchor": "left",
          "y": 0,
          "yanchor": "top"
         }
        ],
        "showlegend": false
       },
       "frames": [
        {
         "data": [
          {
           "alignmentgroup": "True",
           "hovertemplate": "Countries=%{y}<br>Year=1990<br>ImportVolume=%{x}<extra></extra>",
           "legendgroup": "USA",
           "marker": {
            "color": "#636efa",
            "pattern": {
             "shape": ""
            }
           },
           "name": "USA",
           "offsetgroup": "USA",
           "orientation": "h",
           "showlegend": true,
           "textposition": "auto",
           "x": [
            18297.6180013
           ],
           "xaxis": "x",
           "y": [
            "USA"
           ],
           "yaxis": "y",
           "type": "bar"
          },
          {
           "alignmentgroup": "True",
           "hovertemplate": "Countries=%{y}<br>Year=1990<br>ImportVolume=%{x}<extra></extra>",
           "legendgroup": "   Germany",
           "marker": {
            "color": "#EF553B",
            "pattern": {
             "shape": ""
            }
           },
           "name": "   Germany",
           "offsetgroup": "   Germany",
           "orientation": "h",
           "showlegend": true,
           "textposition": "auto",
           "x": [
            7279.2569607
           ],
           "xaxis": "x",
           "y": [
            "   Germany"
           ],
           "yaxis": "y",
           "type": "bar"
          },
          {
           "alignmentgroup": "True",
           "hovertemplate": "Countries=%{y}<br>Year=1990<br>ImportVolume=%{x}<extra></extra>",
           "legendgroup": "   France",
           "marker": {
            "color": "#00cc96",
            "pattern": {
             "shape": ""
            }
           },
           "name": "   France",
           "offsetgroup": "   France",
           "orientation": "h",
           "showlegend": true,
           "textposition": "auto",
           "x": [
            5205.1723628
           ],
           "xaxis": "x",
           "y": [
            "   France"
           ],
           "yaxis": "y",
           "type": "bar"
          },
          {
           "alignmentgroup": "True",
           "hovertemplate": "Countries=%{y}<br>Year=1990<br>ImportVolume=%{x}<extra></extra>",
           "legendgroup": "Japan",
           "marker": {
            "color": "#ab63fa",
            "pattern": {
             "shape": ""
            }
           },
           "name": "Japan",
           "offsetgroup": "Japan",
           "orientation": "h",
           "showlegend": true,
           "textposition": "auto",
           "x": [
            5059.8480044
           ],
           "xaxis": "x",
           "y": [
            "Japan"
           ],
           "yaxis": "y",
           "type": "bar"
          },
          {
           "alignmentgroup": "True",
           "hovertemplate": "Countries=%{y}<br>Year=1990<br>ImportVolume=%{x}<extra></extra>",
           "legendgroup": "   Italy",
           "marker": {
            "color": "#FFA15A",
            "pattern": {
             "shape": ""
            }
           },
           "name": "   Italy",
           "offsetgroup": "   Italy",
           "orientation": "h",
           "showlegend": true,
           "textposition": "auto",
           "x": [
            4832.2939865
           ],
           "xaxis": "x",
           "y": [
            "   Italy"
           ],
           "yaxis": "y",
           "type": "bar"
          }
         ],
         "name": "1990"
        },
        {
         "data": [
          {
           "alignmentgroup": "True",
           "hovertemplate": "Countries=%{y}<br>Year=1991<br>ImportVolume=%{x}<extra></extra>",
           "legendgroup": "USA",
           "marker": {
            "color": "#636efa",
            "pattern": {
             "shape": ""
            }
           },
           "name": "USA",
           "offsetgroup": "USA",
           "orientation": "h",
           "showlegend": true,
           "textposition": "auto",
           "x": [
            18661.1800011
           ],
           "xaxis": "x",
           "y": [
            "USA"
           ],
           "yaxis": "y",
           "type": "bar"
          },
          {
           "alignmentgroup": "True",
           "hovertemplate": "Countries=%{y}<br>Year=1991<br>ImportVolume=%{x}<extra></extra>",
           "legendgroup": "   Germany",
           "marker": {
            "color": "#EF553B",
            "pattern": {
             "shape": ""
            }
           },
           "name": "   Germany",
           "offsetgroup": "   Germany",
           "orientation": "h",
           "showlegend": true,
           "textposition": "auto",
           "x": [
            12377.2159494
           ],
           "xaxis": "x",
           "y": [
            "   Germany"
           ],
           "yaxis": "y",
           "type": "bar"
          },
          {
           "alignmentgroup": "True",
           "hovertemplate": "Countries=%{y}<br>Year=1991<br>ImportVolume=%{x}<extra></extra>",
           "legendgroup": "   France",
           "marker": {
            "color": "#00cc96",
            "pattern": {
             "shape": ""
            }
           },
           "name": "   France",
           "offsetgroup": "   France",
           "orientation": "h",
           "showlegend": true,
           "textposition": "auto",
           "x": [
            5556.9880327
           ],
           "xaxis": "x",
           "y": [
            "   France"
           ],
           "yaxis": "y",
           "type": "bar"
          },
          {
           "alignmentgroup": "True",
           "hovertemplate": "Countries=%{y}<br>Year=1991<br>ImportVolume=%{x}<extra></extra>",
           "legendgroup": "Japan",
           "marker": {
            "color": "#ab63fa",
            "pattern": {
             "shape": ""
            }
           },
           "name": "Japan",
           "offsetgroup": "Japan",
           "orientation": "h",
           "showlegend": true,
           "textposition": "auto",
           "x": [
            5808.9740021
           ],
           "xaxis": "x",
           "y": [
            "Japan"
           ],
           "yaxis": "y",
           "type": "bar"
          },
          {
           "alignmentgroup": "True",
           "hovertemplate": "Countries=%{y}<br>Year=1991<br>ImportVolume=%{x}<extra></extra>",
           "legendgroup": "   Italy",
           "marker": {
            "color": "#FFA15A",
            "pattern": {
             "shape": ""
            }
           },
           "name": "   Italy",
           "offsetgroup": "   Italy",
           "orientation": "h",
           "showlegend": true,
           "textposition": "auto",
           "x": [
            4254.0399839
           ],
           "xaxis": "x",
           "y": [
            "   Italy"
           ],
           "yaxis": "y",
           "type": "bar"
          }
         ],
         "name": "1991"
        },
        {
         "data": [
          {
           "alignmentgroup": "True",
           "hovertemplate": "Countries=%{y}<br>Year=1992<br>ImportVolume=%{x}<extra></extra>",
           "legendgroup": "USA",
           "marker": {
            "color": "#636efa",
            "pattern": {
             "shape": ""
            }
           },
           "name": "USA",
           "offsetgroup": "USA",
           "orientation": "h",
           "showlegend": true,
           "textposition": "auto",
           "x": [
            18290.4529958
           ],
           "xaxis": "x",
           "y": [
            "USA"
           ],
           "yaxis": "y",
           "type": "bar"
          },
          {
           "alignmentgroup": "True",
           "hovertemplate": "Countries=%{y}<br>Year=1992<br>ImportVolume=%{x}<extra></extra>",
           "legendgroup": "   Germany",
           "marker": {
            "color": "#EF553B",
            "pattern": {
             "shape": ""
            }
           },
           "name": "   Germany",
           "offsetgroup": "   Germany",
           "orientation": "h",
           "showlegend": true,
           "textposition": "auto",
           "x": [
            9570.4019513
           ],
           "xaxis": "x",
           "y": [
            "   Germany"
           ],
           "yaxis": "y",
           "type": "bar"
          },
          {
           "alignmentgroup": "True",
           "hovertemplate": "Countries=%{y}<br>Year=1992<br>ImportVolume=%{x}<extra></extra>",
           "legendgroup": "   France",
           "marker": {
            "color": "#00cc96",
            "pattern": {
             "shape": ""
            }
           },
           "name": "   France",
           "offsetgroup": "   France",
           "orientation": "h",
           "showlegend": true,
           "textposition": "auto",
           "x": [
            5614.4526969
           ],
           "xaxis": "x",
           "y": [
            "   France"
           ],
           "yaxis": "y",
           "type": "bar"
          },
          {
           "alignmentgroup": "True",
           "hovertemplate": "Countries=%{y}<br>Year=1992<br>ImportVolume=%{x}<extra></extra>",
           "legendgroup": "Japan",
           "marker": {
            "color": "#ab63fa",
            "pattern": {
             "shape": ""
            }
           },
           "name": "Japan",
           "offsetgroup": "Japan",
           "orientation": "h",
           "showlegend": true,
           "textposition": "auto",
           "x": [
            5132.4319982
           ],
           "xaxis": "x",
           "y": [
            "Japan"
           ],
           "yaxis": "y",
           "type": "bar"
          },
          {
           "alignmentgroup": "True",
           "hovertemplate": "Countries=%{y}<br>Year=1992<br>ImportVolume=%{x}<extra></extra>",
           "legendgroup": "   Italy",
           "marker": {
            "color": "#FFA15A",
            "pattern": {
             "shape": ""
            }
           },
           "name": "   Italy",
           "offsetgroup": "   Italy",
           "orientation": "h",
           "showlegend": true,
           "textposition": "auto",
           "x": [
            4132.135981
           ],
           "xaxis": "x",
           "y": [
            "   Italy"
           ],
           "yaxis": "y",
           "type": "bar"
          }
         ],
         "name": "1992"
        },
        {
         "data": [
          {
           "alignmentgroup": "True",
           "hovertemplate": "Countries=%{y}<br>Year=1993<br>ImportVolume=%{x}<extra></extra>",
           "legendgroup": "USA",
           "marker": {
            "color": "#636efa",
            "pattern": {
             "shape": ""
            }
           },
           "name": "USA",
           "offsetgroup": "USA",
           "orientation": "h",
           "showlegend": true,
           "textposition": "auto",
           "x": [
            19217.136997
           ],
           "xaxis": "x",
           "y": [
            "USA"
           ],
           "yaxis": "y",
           "type": "bar"
          },
          {
           "alignmentgroup": "True",
           "hovertemplate": "Countries=%{y}<br>Year=1993<br>ImportVolume=%{x}<extra></extra>",
           "legendgroup": "   Germany",
           "marker": {
            "color": "#EF553B",
            "pattern": {
             "shape": ""
            }
           },
           "name": "   Germany",
           "offsetgroup": "   Germany",
           "orientation": "h",
           "showlegend": true,
           "textposition": "auto",
           "x": [
            11324.7329411
           ],
           "xaxis": "x",
           "y": [
            "   Germany"
           ],
           "yaxis": "y",
           "type": "bar"
          },
          {
           "alignmentgroup": "True",
           "hovertemplate": "Countries=%{y}<br>Year=1993<br>ImportVolume=%{x}<extra></extra>",
           "legendgroup": "   France",
           "marker": {
            "color": "#00cc96",
            "pattern": {
             "shape": ""
            }
           },
           "name": "   France",
           "offsetgroup": "   France",
           "orientation": "h",
           "showlegend": true,
           "textposition": "auto",
           "x": [
            5506.7800365
           ],
           "xaxis": "x",
           "y": [
            "   France"
           ],
           "yaxis": "y",
           "type": "bar"
          },
          {
           "alignmentgroup": "True",
           "hovertemplate": "Countries=%{y}<br>Year=1993<br>ImportVolume=%{x}<extra></extra>",
           "legendgroup": "Japan",
           "marker": {
            "color": "#ab63fa",
            "pattern": {
             "shape": ""
            }
           },
           "name": "Japan",
           "offsetgroup": "Japan",
           "orientation": "h",
           "showlegend": true,
           "textposition": "auto",
           "x": [
            5739.8360051
           ],
           "xaxis": "x",
           "y": [
            "Japan"
           ],
           "yaxis": "y",
           "type": "bar"
          },
          {
           "alignmentgroup": "True",
           "hovertemplate": "Countries=%{y}<br>Year=1993<br>ImportVolume=%{x}<extra></extra>",
           "legendgroup": "   Italy",
           "marker": {
            "color": "#FFA15A",
            "pattern": {
             "shape": ""
            }
           },
           "name": "   Italy",
           "offsetgroup": "   Italy",
           "orientation": "h",
           "showlegend": true,
           "textposition": "auto",
           "x": [
            4888.2629783
           ],
           "xaxis": "x",
           "y": [
            "   Italy"
           ],
           "yaxis": "y",
           "type": "bar"
          }
         ],
         "name": "1993"
        },
        {
         "data": [
          {
           "alignmentgroup": "True",
           "hovertemplate": "Countries=%{y}<br>Year=1994<br>ImportVolume=%{x}<extra></extra>",
           "legendgroup": "USA",
           "marker": {
            "color": "#636efa",
            "pattern": {
             "shape": ""
            }
           },
           "name": "USA",
           "offsetgroup": "USA",
           "orientation": "h",
           "showlegend": true,
           "textposition": "auto",
           "x": [
            17326.1039936
           ],
           "xaxis": "x",
           "y": [
            "USA"
           ],
           "yaxis": "y",
           "type": "bar"
          },
          {
           "alignmentgroup": "True",
           "hovertemplate": "Countries=%{y}<br>Year=1994<br>ImportVolume=%{x}<extra></extra>",
           "legendgroup": "   Germany",
           "marker": {
            "color": "#EF553B",
            "pattern": {
             "shape": ""
            }
           },
           "name": "   Germany",
           "offsetgroup": "   Germany",
           "orientation": "h",
           "showlegend": true,
           "textposition": "auto",
           "x": [
            8213.9449418
           ],
           "xaxis": "x",
           "y": [
            "   Germany"
           ],
           "yaxis": "y",
           "type": "bar"
          },
          {
           "alignmentgroup": "True",
           "hovertemplate": "Countries=%{y}<br>Year=1994<br>ImportVolume=%{x}<extra></extra>",
           "legendgroup": "   France",
           "marker": {
            "color": "#00cc96",
            "pattern": {
             "shape": ""
            }
           },
           "name": "   France",
           "offsetgroup": "   France",
           "orientation": "h",
           "showlegend": true,
           "textposition": "auto",
           "x": [
            5110.8720375
           ],
           "xaxis": "x",
           "y": [
            "   France"
           ],
           "yaxis": "y",
           "type": "bar"
          },
          {
           "alignmentgroup": "True",
           "hovertemplate": "Countries=%{y}<br>Year=1994<br>ImportVolume=%{x}<extra></extra>",
           "legendgroup": "Japan",
           "marker": {
            "color": "#ab63fa",
            "pattern": {
             "shape": ""
            }
           },
           "name": "Japan",
           "offsetgroup": "Japan",
           "orientation": "h",
           "showlegend": true,
           "textposition": "auto",
           "x": [
            5973.0320057
           ],
           "xaxis": "x",
           "y": [
            "Japan"
           ],
           "yaxis": "y",
           "type": "bar"
          },
          {
           "alignmentgroup": "True",
           "hovertemplate": "Countries=%{y}<br>Year=1994<br>ImportVolume=%{x}<extra></extra>",
           "legendgroup": "   Italy",
           "marker": {
            "color": "#FFA15A",
            "pattern": {
             "shape": ""
            }
           },
           "name": "   Italy",
           "offsetgroup": "   Italy",
           "orientation": "h",
           "showlegend": true,
           "textposition": "auto",
           "x": [
            4773.6299741
           ],
           "xaxis": "x",
           "y": [
            "   Italy"
           ],
           "yaxis": "y",
           "type": "bar"
          }
         ],
         "name": "1994"
        },
        {
         "data": [
          {
           "alignmentgroup": "True",
           "hovertemplate": "Countries=%{y}<br>Year=1995<br>ImportVolume=%{x}<extra></extra>",
           "legendgroup": "USA",
           "marker": {
            "color": "#636efa",
            "pattern": {
             "shape": ""
            }
           },
           "name": "USA",
           "offsetgroup": "USA",
           "orientation": "h",
           "showlegend": true,
           "textposition": "auto",
           "x": [
            17362.8709859
           ],
           "xaxis": "x",
           "y": [
            "USA"
           ],
           "yaxis": "y",
           "type": "bar"
          },
          {
           "alignmentgroup": "True",
           "hovertemplate": "Countries=%{y}<br>Year=1995<br>ImportVolume=%{x}<extra></extra>",
           "legendgroup": "   Germany",
           "marker": {
            "color": "#EF553B",
            "pattern": {
             "shape": ""
            }
           },
           "name": "   Germany",
           "offsetgroup": "   Germany",
           "orientation": "h",
           "showlegend": true,
           "textposition": "auto",
           "x": [
            11231.4509512
           ],
           "xaxis": "x",
           "y": [
            "   Germany"
           ],
           "yaxis": "y",
           "type": "bar"
          },
          {
           "alignmentgroup": "True",
           "hovertemplate": "Countries=%{y}<br>Year=1995<br>ImportVolume=%{x}<extra></extra>",
           "legendgroup": "   France",
           "marker": {
            "color": "#00cc96",
            "pattern": {
             "shape": ""
            }
           },
           "name": "   France",
           "offsetgroup": "   France",
           "orientation": "h",
           "showlegend": true,
           "textposition": "auto",
           "x": [
            5312.6817079
           ],
           "xaxis": "x",
           "y": [
            "   France"
           ],
           "yaxis": "y",
           "type": "bar"
          },
          {
           "alignmentgroup": "True",
           "hovertemplate": "Countries=%{y}<br>Year=1995<br>ImportVolume=%{x}<extra></extra>",
           "legendgroup": "Japan",
           "marker": {
            "color": "#ab63fa",
            "pattern": {
             "shape": ""
            }
           },
           "name": "Japan",
           "offsetgroup": "Japan",
           "orientation": "h",
           "showlegend": true,
           "textposition": "auto",
           "x": [
            6116.0080055
           ],
           "xaxis": "x",
           "y": [
            "Japan"
           ],
           "yaxis": "y",
           "type": "bar"
          },
          {
           "alignmentgroup": "True",
           "hovertemplate": "Countries=%{y}<br>Year=1995<br>ImportVolume=%{x}<extra></extra>",
           "legendgroup": "   Italy",
           "marker": {
            "color": "#FFA15A",
            "pattern": {
             "shape": ""
            }
           },
           "name": "   Italy",
           "offsetgroup": "   Italy",
           "orientation": "h",
           "showlegend": true,
           "textposition": "auto",
           "x": [
            4644.3589748
           ],
           "xaxis": "x",
           "y": [
            "   Italy"
           ],
           "yaxis": "y",
           "type": "bar"
          }
         ],
         "name": "1995"
        },
        {
         "data": [
          {
           "alignmentgroup": "True",
           "hovertemplate": "Countries=%{y}<br>Year=1996<br>ImportVolume=%{x}<extra></extra>",
           "legendgroup": "USA",
           "marker": {
            "color": "#636efa",
            "pattern": {
             "shape": ""
            }
           },
           "name": "USA",
           "offsetgroup": "USA",
           "orientation": "h",
           "showlegend": true,
           "textposition": "auto",
           "x": [
            18059.0007895
           ],
           "xaxis": "x",
           "y": [
            "USA"
           ],
           "yaxis": "y",
           "type": "bar"
          },
          {
           "alignmentgroup": "True",
           "hovertemplate": "Countries=%{y}<br>Year=1996<br>ImportVolume=%{x}<extra></extra>",
           "legendgroup": "   Germany",
           "marker": {
            "color": "#EF553B",
            "pattern": {
             "shape": ""
            }
           },
           "name": "   Germany",
           "offsetgroup": "   Germany",
           "orientation": "h",
           "showlegend": true,
           "textposition": "auto",
           "x": [
            10593.6863453
           ],
           "xaxis": "x",
           "y": [
            "   Germany"
           ],
           "yaxis": "y",
           "type": "bar"
          },
          {
           "alignmentgroup": "True",
           "hovertemplate": "Countries=%{y}<br>Year=1996<br>ImportVolume=%{x}<extra></extra>",
           "legendgroup": "   France",
           "marker": {
            "color": "#00cc96",
            "pattern": {
             "shape": ""
            }
           },
           "name": "   France",
           "offsetgroup": "   France",
           "orientation": "h",
           "showlegend": true,
           "textposition": "auto",
           "x": [
            5512.4060067
           ],
           "xaxis": "x",
           "y": [
            "   France"
           ],
           "yaxis": "y",
           "type": "bar"
          },
          {
           "alignmentgroup": "True",
           "hovertemplate": "Countries=%{y}<br>Year=1996<br>ImportVolume=%{x}<extra></extra>",
           "legendgroup": "Japan",
           "marker": {
            "color": "#ab63fa",
            "pattern": {
             "shape": ""
            }
           },
           "name": "Japan",
           "offsetgroup": "Japan",
           "orientation": "h",
           "showlegend": true,
           "textposition": "auto",
           "x": [
            5837.9470044
           ],
           "xaxis": "x",
           "y": [
            "Japan"
           ],
           "yaxis": "y",
           "type": "bar"
          },
          {
           "alignmentgroup": "True",
           "hovertemplate": "Countries=%{y}<br>Year=1996<br>ImportVolume=%{x}<extra></extra>",
           "legendgroup": "   Italy",
           "marker": {
            "color": "#FFA15A",
            "pattern": {
             "shape": ""
            }
           },
           "name": "   Italy",
           "offsetgroup": "   Italy",
           "orientation": "h",
           "showlegend": true,
           "textposition": "auto",
           "x": [
            4775.9144728
           ],
           "xaxis": "x",
           "y": [
            "   Italy"
           ],
           "yaxis": "y",
           "type": "bar"
          }
         ],
         "name": "1996"
        },
        {
         "data": [
          {
           "alignmentgroup": "True",
           "hovertemplate": "Countries=%{y}<br>Year=1997<br>ImportVolume=%{x}<extra></extra>",
           "legendgroup": "USA",
           "marker": {
            "color": "#636efa",
            "pattern": {
             "shape": ""
            }
           },
           "name": "USA",
           "offsetgroup": "USA",
           "orientation": "h",
           "showlegend": true,
           "textposition": "auto",
           "x": [
            17795.4481947
           ],
           "xaxis": "x",
           "y": [
            "USA"
           ],
           "yaxis": "y",
           "type": "bar"
          },
          {
           "alignmentgroup": "True",
           "hovertemplate": "Countries=%{y}<br>Year=1997<br>ImportVolume=%{x}<extra></extra>",
           "legendgroup": "   Germany",
           "marker": {
            "color": "#EF553B",
            "pattern": {
             "shape": ""
            }
           },
           "name": "   Germany",
           "offsetgroup": "   Germany",
           "orientation": "h",
           "showlegend": true,
           "textposition": "auto",
           "x": [
            9670.0681574
           ],
           "xaxis": "x",
           "y": [
            "   Germany"
           ],
           "yaxis": "y",
           "type": "bar"
          },
          {
           "alignmentgroup": "True",
           "hovertemplate": "Countries=%{y}<br>Year=1997<br>ImportVolume=%{x}<extra></extra>",
           "legendgroup": "   France",
           "marker": {
            "color": "#00cc96",
            "pattern": {
             "shape": ""
            }
           },
           "name": "   France",
           "offsetgroup": "   France",
           "orientation": "h",
           "showlegend": true,
           "textposition": "auto",
           "x": [
            5486.9108464
           ],
           "xaxis": "x",
           "y": [
            "   France"
           ],
           "yaxis": "y",
           "type": "bar"
          },
          {
           "alignmentgroup": "True",
           "hovertemplate": "Countries=%{y}<br>Year=1997<br>ImportVolume=%{x}<extra></extra>",
           "legendgroup": "Japan",
           "marker": {
            "color": "#ab63fa",
            "pattern": {
             "shape": ""
            }
           },
           "name": "Japan",
           "offsetgroup": "Japan",
           "orientation": "h",
           "showlegend": true,
           "textposition": "auto",
           "x": [
            5968.1690001
           ],
           "xaxis": "x",
           "y": [
            "Japan"
           ],
           "yaxis": "y",
           "type": "bar"
          },
          {
           "alignmentgroup": "True",
           "hovertemplate": "Countries=%{y}<br>Year=1997<br>ImportVolume=%{x}<extra></extra>",
           "legendgroup": "   Italy",
           "marker": {
            "color": "#FFA15A",
            "pattern": {
             "shape": ""
            }
           },
           "name": "   Italy",
           "offsetgroup": "   Italy",
           "orientation": "h",
           "showlegend": true,
           "textposition": "auto",
           "x": [
            4912.9190786
           ],
           "xaxis": "x",
           "y": [
            "   Italy"
           ],
           "yaxis": "y",
           "type": "bar"
          }
         ],
         "name": "1997"
        },
        {
         "data": [
          {
           "alignmentgroup": "True",
           "hovertemplate": "Countries=%{y}<br>Year=1998<br>ImportVolume=%{x}<extra></extra>",
           "legendgroup": "USA",
           "marker": {
            "color": "#636efa",
            "pattern": {
             "shape": ""
            }
           },
           "name": "USA",
           "offsetgroup": "USA",
           "orientation": "h",
           "showlegend": true,
           "textposition": "auto",
           "x": [
            18603.7986929
           ],
           "xaxis": "x",
           "y": [
            "USA"
           ],
           "yaxis": "y",
           "type": "bar"
          },
          {
           "alignmentgroup": "True",
           "hovertemplate": "Countries=%{y}<br>Year=1998<br>ImportVolume=%{x}<extra></extra>",
           "legendgroup": "   Germany",
           "marker": {
            "color": "#EF553B",
            "pattern": {
             "shape": ""
            }
           },
           "name": "   Germany",
           "offsetgroup": "   Germany",
           "orientation": "h",
           "showlegend": true,
           "textposition": "auto",
           "x": [
            9976.1655597
           ],
           "xaxis": "x",
           "y": [
            "   Germany"
           ],
           "yaxis": "y",
           "type": "bar"
          },
          {
           "alignmentgroup": "True",
           "hovertemplate": "Countries=%{y}<br>Year=1998<br>ImportVolume=%{x}<extra></extra>",
           "legendgroup": "   France",
           "marker": {
            "color": "#00cc96",
            "pattern": {
             "shape": ""
            }
           },
           "name": "   France",
           "offsetgroup": "   France",
           "orientation": "h",
           "showlegend": true,
           "textposition": "auto",
           "x": [
            5350.6906081
           ],
           "xaxis": "x",
           "y": [
            "   France"
           ],
           "yaxis": "y",
           "type": "bar"
          },
          {
           "alignmentgroup": "True",
           "hovertemplate": "Countries=%{y}<br>Year=1998<br>ImportVolume=%{x}<extra></extra>",
           "legendgroup": "Japan",
           "marker": {
            "color": "#ab63fa",
            "pattern": {
             "shape": ""
            }
           },
           "name": "Japan",
           "offsetgroup": "Japan",
           "orientation": "h",
           "showlegend": true,
           "textposition": "auto",
           "x": [
            6051.9450025
           ],
           "xaxis": "x",
           "y": [
            "Japan"
           ],
           "yaxis": "y",
           "type": "bar"
          },
          {
           "alignmentgroup": "True",
           "hovertemplate": "Countries=%{y}<br>Year=1998<br>ImportVolume=%{x}<extra></extra>",
           "legendgroup": "   Italy",
           "marker": {
            "color": "#FFA15A",
            "pattern": {
             "shape": ""
            }
           },
           "name": "   Italy",
           "offsetgroup": "   Italy",
           "orientation": "h",
           "showlegend": true,
           "textposition": "auto",
           "x": [
            4935.9363713
           ],
           "xaxis": "x",
           "y": [
            "   Italy"
           ],
           "yaxis": "y",
           "type": "bar"
          }
         ],
         "name": "1998"
        },
        {
         "data": [
          {
           "alignmentgroup": "True",
           "hovertemplate": "Countries=%{y}<br>Year=1999<br>ImportVolume=%{x}<extra></extra>",
           "legendgroup": "USA",
           "marker": {
            "color": "#636efa",
            "pattern": {
             "shape": ""
            }
           },
           "name": "USA",
           "offsetgroup": "USA",
           "orientation": "h",
           "showlegend": true,
           "textposition": "auto",
           "x": [
            19359.4276931
           ],
           "xaxis": "x",
           "y": [
            "USA"
           ],
           "yaxis": "y",
           "type": "bar"
          },
          {
           "alignmentgroup": "True",
           "hovertemplate": "Countries=%{y}<br>Year=1999<br>ImportVolume=%{x}<extra></extra>",
           "legendgroup": "   Germany",
           "marker": {
            "color": "#EF553B",
            "pattern": {
             "shape": ""
            }
           },
           "name": "   Germany",
           "offsetgroup": "   Germany",
           "orientation": "h",
           "showlegend": true,
           "textposition": "auto",
           "x": [
            9748.0071601
           ],
           "xaxis": "x",
           "y": [
            "   Germany"
           ],
           "yaxis": "y",
           "type": "bar"
          },
          {
           "alignmentgroup": "True",
           "hovertemplate": "Countries=%{y}<br>Year=1999<br>ImportVolume=%{x}<extra></extra>",
           "legendgroup": "   France",
           "marker": {
            "color": "#00cc96",
            "pattern": {
             "shape": ""
            }
           },
           "name": "   France",
           "offsetgroup": "   France",
           "orientation": "h",
           "showlegend": true,
           "textposition": "auto",
           "x": [
            5578.4365123
           ],
           "xaxis": "x",
           "y": [
            "   France"
           ],
           "yaxis": "y",
           "type": "bar"
          },
          {
           "alignmentgroup": "True",
           "hovertemplate": "Countries=%{y}<br>Year=1999<br>ImportVolume=%{x}<extra></extra>",
           "legendgroup": "Japan",
           "marker": {
            "color": "#ab63fa",
            "pattern": {
             "shape": ""
            }
           },
           "name": "Japan",
           "offsetgroup": "Japan",
           "orientation": "h",
           "showlegend": true,
           "textposition": "auto",
           "x": [
            6272.902
           ],
           "xaxis": "x",
           "y": [
            "Japan"
           ],
           "yaxis": "y",
           "type": "bar"
          },
          {
           "alignmentgroup": "True",
           "hovertemplate": "Countries=%{y}<br>Year=1999<br>ImportVolume=%{x}<extra></extra>",
           "legendgroup": "   Italy",
           "marker": {
            "color": "#FFA15A",
            "pattern": {
             "shape": ""
            }
           },
           "name": "   Italy",
           "offsetgroup": "   Italy",
           "orientation": "h",
           "showlegend": true,
           "textposition": "auto",
           "x": [
            4918.6894699
           ],
           "xaxis": "x",
           "y": [
            "   Italy"
           ],
           "yaxis": "y",
           "type": "bar"
          }
         ],
         "name": "1999"
        },
        {
         "data": [
          {
           "alignmentgroup": "True",
           "hovertemplate": "Countries=%{y}<br>Year=2000<br>ImportVolume=%{x}<extra></extra>",
           "legendgroup": "USA",
           "marker": {
            "color": "#636efa",
            "pattern": {
             "shape": ""
            }
           },
           "name": "USA",
           "offsetgroup": "USA",
           "orientation": "h",
           "showlegend": true,
           "textposition": "auto",
           "x": [
            18745.5637179
           ],
           "xaxis": "x",
           "y": [
            "USA"
           ],
           "yaxis": "y",
           "type": "bar"
          },
          {
           "alignmentgroup": "True",
           "hovertemplate": "Countries=%{y}<br>Year=2000<br>ImportVolume=%{x}<extra></extra>",
           "legendgroup": "   Germany",
           "marker": {
            "color": "#EF553B",
            "pattern": {
             "shape": ""
            }
           },
           "name": "   Germany",
           "offsetgroup": "   Germany",
           "orientation": "h",
           "showlegend": true,
           "textposition": "auto",
           "x": [
            8769.8806534
           ],
           "xaxis": "x",
           "y": [
            "   Germany"
           ],
           "yaxis": "y",
           "type": "bar"
          },
          {
           "alignmentgroup": "True",
           "hovertemplate": "Countries=%{y}<br>Year=2000<br>ImportVolume=%{x}<extra></extra>",
           "legendgroup": "   France",
           "marker": {
            "color": "#00cc96",
            "pattern": {
             "shape": ""
            }
           },
           "name": "   France",
           "offsetgroup": "   France",
           "orientation": "h",
           "showlegend": true,
           "textposition": "auto",
           "x": [
            5402.0806777
           ],
           "xaxis": "x",
           "y": [
            "   France"
           ],
           "yaxis": "y",
           "type": "bar"
          },
          {
           "alignmentgroup": "True",
           "hovertemplate": "Countries=%{y}<br>Year=2000<br>ImportVolume=%{x}<extra></extra>",
           "legendgroup": "Japan",
           "marker": {
            "color": "#ab63fa",
            "pattern": {
             "shape": ""
            }
           },
           "name": "Japan",
           "offsetgroup": "Japan",
           "orientation": "h",
           "showlegend": true,
           "textposition": "auto",
           "x": [
            6625.6599099
           ],
           "xaxis": "x",
           "y": [
            "Japan"
           ],
           "yaxis": "y",
           "type": "bar"
          },
          {
           "alignmentgroup": "True",
           "hovertemplate": "Countries=%{y}<br>Year=2000<br>ImportVolume=%{x}<extra></extra>",
           "legendgroup": "   Italy",
           "marker": {
            "color": "#FFA15A",
            "pattern": {
             "shape": ""
            }
           },
           "name": "   Italy",
           "offsetgroup": "   Italy",
           "orientation": "h",
           "showlegend": true,
           "textposition": "auto",
           "x": [
            5149.2363464
           ],
           "xaxis": "x",
           "y": [
            "   Italy"
           ],
           "yaxis": "y",
           "type": "bar"
          }
         ],
         "name": "2000"
        },
        {
         "data": [
          {
           "alignmentgroup": "True",
           "hovertemplate": "Countries=%{y}<br>Year=2001<br>ImportVolume=%{x}<extra></extra>",
           "legendgroup": "USA",
           "marker": {
            "color": "#636efa",
            "pattern": {
             "shape": ""
            }
           },
           "name": "USA",
           "offsetgroup": "USA",
           "orientation": "h",
           "showlegend": true,
           "textposition": "auto",
           "x": [
            19553.6538074
           ],
           "xaxis": "x",
           "y": [
            "USA"
           ],
           "yaxis": "y",
           "type": "bar"
          },
          {
           "alignmentgroup": "True",
           "hovertemplate": "Countries=%{y}<br>Year=2001<br>ImportVolume=%{x}<extra></extra>",
           "legendgroup": "   Germany",
           "marker": {
            "color": "#EF553B",
            "pattern": {
             "shape": ""
            }
           },
           "name": "   Germany",
           "offsetgroup": "   Germany",
           "orientation": "h",
           "showlegend": true,
           "textposition": "auto",
           "x": [
            9059.3280715
           ],
           "xaxis": "x",
           "y": [
            "   Germany"
           ],
           "yaxis": "y",
           "type": "bar"
          },
          {
           "alignmentgroup": "True",
           "hovertemplate": "Countries=%{y}<br>Year=2001<br>ImportVolume=%{x}<extra></extra>",
           "legendgroup": "   France",
           "marker": {
            "color": "#00cc96",
            "pattern": {
             "shape": ""
            }
           },
           "name": "   France",
           "offsetgroup": "   France",
           "orientation": "h",
           "showlegend": true,
           "textposition": "auto",
           "x": [
            5252.8193178
           ],
           "xaxis": "x",
           "y": [
            "   France"
           ],
           "yaxis": "y",
           "type": "bar"
          },
          {
           "alignmentgroup": "True",
           "hovertemplate": "Countries=%{y}<br>Year=2001<br>ImportVolume=%{x}<extra></extra>",
           "legendgroup": "Japan",
           "marker": {
            "color": "#ab63fa",
            "pattern": {
             "shape": ""
            }
           },
           "name": "Japan",
           "offsetgroup": "Japan",
           "orientation": "h",
           "showlegend": true,
           "textposition": "auto",
           "x": [
            6935.5949381
           ],
           "xaxis": "x",
           "y": [
            "Japan"
           ],
           "yaxis": "y",
           "type": "bar"
          },
          {
           "alignmentgroup": "True",
           "hovertemplate": "Countries=%{y}<br>Year=2001<br>ImportVolume=%{x}<extra></extra>",
           "legendgroup": "   Italy",
           "marker": {
            "color": "#FFA15A",
            "pattern": {
             "shape": ""
            }
           },
           "name": "   Italy",
           "offsetgroup": "   Italy",
           "orientation": "h",
           "showlegend": true,
           "textposition": "auto",
           "x": [
            5243.2770429
           ],
           "xaxis": "x",
           "y": [
            "   Italy"
           ],
           "yaxis": "y",
           "type": "bar"
          }
         ],
         "name": "2001"
        },
        {
         "data": [
          {
           "alignmentgroup": "True",
           "hovertemplate": "Countries=%{y}<br>Year=2002<br>ImportVolume=%{x}<extra></extra>",
           "legendgroup": "USA",
           "marker": {
            "color": "#636efa",
            "pattern": {
             "shape": ""
            }
           },
           "name": "USA",
           "offsetgroup": "USA",
           "orientation": "h",
           "showlegend": true,
           "textposition": "auto",
           "x": [
            19124.5109135
           ],
           "xaxis": "x",
           "y": [
            "USA"
           ],
           "yaxis": "y",
           "type": "bar"
          },
          {
           "alignmentgroup": "True",
           "hovertemplate": "Countries=%{y}<br>Year=2002<br>ImportVolume=%{x}<extra></extra>",
           "legendgroup": "   Germany",
           "marker": {
            "color": "#EF553B",
            "pattern": {
             "shape": ""
            }
           },
           "name": "   Germany",
           "offsetgroup": "   Germany",
           "orientation": "h",
           "showlegend": true,
           "textposition": "auto",
           "x": [
            8497.9996819
           ],
           "xaxis": "x",
           "y": [
            "   Germany"
           ],
           "yaxis": "y",
           "type": "bar"
          },
          {
           "alignmentgroup": "True",
           "hovertemplate": "Countries=%{y}<br>Year=2002<br>ImportVolume=%{x}<extra></extra>",
           "legendgroup": "   France",
           "marker": {
            "color": "#00cc96",
            "pattern": {
             "shape": ""
            }
           },
           "name": "   France",
           "offsetgroup": "   France",
           "orientation": "h",
           "showlegend": true,
           "textposition": "auto",
           "x": [
            5525.7153235
           ],
           "xaxis": "x",
           "y": [
            "   France"
           ],
           "yaxis": "y",
           "type": "bar"
          },
          {
           "alignmentgroup": "True",
           "hovertemplate": "Countries=%{y}<br>Year=2002<br>ImportVolume=%{x}<extra></extra>",
           "legendgroup": "Japan",
           "marker": {
            "color": "#ab63fa",
            "pattern": {
             "shape": ""
            }
           },
           "name": "Japan",
           "offsetgroup": "Japan",
           "orientation": "h",
           "showlegend": true,
           "textposition": "auto",
           "x": [
            6874.6949428
           ],
           "xaxis": "x",
           "y": [
            "Japan"
           ],
           "yaxis": "y",
           "type": "bar"
          },
          {
           "alignmentgroup": "True",
           "hovertemplate": "Countries=%{y}<br>Year=2002<br>ImportVolume=%{x}<extra></extra>",
           "legendgroup": "   Italy",
           "marker": {
            "color": "#FFA15A",
            "pattern": {
             "shape": ""
            }
           },
           "name": "   Italy",
           "offsetgroup": "   Italy",
           "orientation": "h",
           "showlegend": true,
           "textposition": "auto",
           "x": [
            5182.2302365
           ],
           "xaxis": "x",
           "y": [
            "   Italy"
           ],
           "yaxis": "y",
           "type": "bar"
          }
         ],
         "name": "2002"
        },
        {
         "data": [
          {
           "alignmentgroup": "True",
           "hovertemplate": "Countries=%{y}<br>Year=2003<br>ImportVolume=%{x}<extra></extra>",
           "legendgroup": "USA",
           "marker": {
            "color": "#636efa",
            "pattern": {
             "shape": ""
            }
           },
           "name": "USA",
           "offsetgroup": "USA",
           "orientation": "h",
           "showlegend": true,
           "textposition": "auto",
           "x": [
            20192.6776434
           ],
           "xaxis": "x",
           "y": [
            "USA"
           ],
           "yaxis": "y",
           "type": "bar"
          },
          {
           "alignmentgroup": "True",
           "hovertemplate": "Countries=%{y}<br>Year=2003<br>ImportVolume=%{x}<extra></extra>",
           "legendgroup": "   Germany",
           "marker": {
            "color": "#EF553B",
            "pattern": {
             "shape": ""
            }
           },
           "name": "   Germany",
           "offsetgroup": "   Germany",
           "orientation": "h",
           "showlegend": true,
           "textposition": "auto",
           "x": [
            9498.5987369
           ],
           "xaxis": "x",
           "y": [
            "   Germany"
           ],
           "yaxis": "y",
           "type": "bar"
          },
          {
           "alignmentgroup": "True",
           "hovertemplate": "Countries=%{y}<br>Year=2003<br>ImportVolume=%{x}<extra></extra>",
           "legendgroup": "   France",
           "marker": {
            "color": "#00cc96",
            "pattern": {
             "shape": ""
            }
           },
           "name": "   France",
           "offsetgroup": "   France",
           "orientation": "h",
           "showlegend": true,
           "textposition": "auto",
           "x": [
            5393.6799911
           ],
           "xaxis": "x",
           "y": [
            "   France"
           ],
           "yaxis": "y",
           "type": "bar"
          },
          {
           "alignmentgroup": "True",
           "hovertemplate": "Countries=%{y}<br>Year=2003<br>ImportVolume=%{x}<extra></extra>",
           "legendgroup": "Japan",
           "marker": {
            "color": "#ab63fa",
            "pattern": {
             "shape": ""
            }
           },
           "name": "Japan",
           "offsetgroup": "Japan",
           "orientation": "h",
           "showlegend": true,
           "textposition": "auto",
           "x": [
            6769.7719493
           ],
           "xaxis": "x",
           "y": [
            "Japan"
           ],
           "yaxis": "y",
           "type": "bar"
          },
          {
           "alignmentgroup": "True",
           "hovertemplate": "Countries=%{y}<br>Year=2003<br>ImportVolume=%{x}<extra></extra>",
           "legendgroup": "   Italy",
           "marker": {
            "color": "#FFA15A",
            "pattern": {
             "shape": ""
            }
           },
           "name": "   Italy",
           "offsetgroup": "   Italy",
           "orientation": "h",
           "showlegend": true,
           "textposition": "auto",
           "x": [
            5507.114437
           ],
           "xaxis": "x",
           "y": [
            "   Italy"
           ],
           "yaxis": "y",
           "type": "bar"
          }
         ],
         "name": "2003"
        },
        {
         "data": [
          {
           "alignmentgroup": "True",
           "hovertemplate": "Countries=%{y}<br>Year=2004<br>ImportVolume=%{x}<extra></extra>",
           "legendgroup": "USA",
           "marker": {
            "color": "#636efa",
            "pattern": {
             "shape": ""
            }
           },
           "name": "USA",
           "offsetgroup": "USA",
           "orientation": "h",
           "showlegend": true,
           "textposition": "auto",
           "x": [
            20972.7629194
           ],
           "xaxis": "x",
           "y": [
            "USA"
           ],
           "yaxis": "y",
           "type": "bar"
          },
          {
           "alignmentgroup": "True",
           "hovertemplate": "Countries=%{y}<br>Year=2004<br>ImportVolume=%{x}<extra></extra>",
           "legendgroup": "   Germany",
           "marker": {
            "color": "#EF553B",
            "pattern": {
             "shape": ""
            }
           },
           "name": "   Germany",
           "offsetgroup": "   Germany",
           "orientation": "h",
           "showlegend": true,
           "textposition": "auto",
           "x": [
            10444.7078526
           ],
           "xaxis": "x",
           "y": [
            "   Germany"
           ],
           "yaxis": "y",
           "type": "bar"
          },
          {
           "alignmentgroup": "True",
           "hovertemplate": "Countries=%{y}<br>Year=2004<br>ImportVolume=%{x}<extra></extra>",
           "legendgroup": "   France",
           "marker": {
            "color": "#00cc96",
            "pattern": {
             "shape": ""
            }
           },
           "name": "   France",
           "offsetgroup": "   France",
           "orientation": "h",
           "showlegend": true,
           "textposition": "auto",
           "x": [
            4929.1171668
           ],
           "xaxis": "x",
           "y": [
            "   France"
           ],
           "yaxis": "y",
           "type": "bar"
          },
          {
           "alignmentgroup": "True",
           "hovertemplate": "Countries=%{y}<br>Year=2004<br>ImportVolume=%{x}<extra></extra>",
           "legendgroup": "Japan",
           "marker": {
            "color": "#ab63fa",
            "pattern": {
             "shape": ""
            }
           },
           "name": "Japan",
           "offsetgroup": "Japan",
           "orientation": "h",
           "showlegend": true,
           "textposition": "auto",
           "x": [
            7116.9799495
           ],
           "xaxis": "x",
           "y": [
            "Japan"
           ],
           "yaxis": "y",
           "type": "bar"
          },
          {
           "alignmentgroup": "True",
           "hovertemplate": "Countries=%{y}<br>Year=2004<br>ImportVolume=%{x}<extra></extra>",
           "legendgroup": "   Italy",
           "marker": {
            "color": "#FFA15A",
            "pattern": {
             "shape": ""
            }
           },
           "name": "   Italy",
           "offsetgroup": "   Italy",
           "orientation": "h",
           "showlegend": true,
           "textposition": "auto",
           "x": [
            5468.9091357
           ],
           "xaxis": "x",
           "y": [
            "   Italy"
           ],
           "yaxis": "y",
           "type": "bar"
          }
         ],
         "name": "2004"
        },
        {
         "data": [
          {
           "alignmentgroup": "True",
           "hovertemplate": "Countries=%{y}<br>Year=2005<br>ImportVolume=%{x}<extra></extra>",
           "legendgroup": "USA",
           "marker": {
            "color": "#636efa",
            "pattern": {
             "shape": ""
            }
           },
           "name": "USA",
           "offsetgroup": "USA",
           "orientation": "h",
           "showlegend": true,
           "textposition": "auto",
           "x": [
            20997.5440389
           ],
           "xaxis": "x",
           "y": [
            "USA"
           ],
           "yaxis": "y",
           "type": "bar"
          },
          {
           "alignmentgroup": "True",
           "hovertemplate": "Countries=%{y}<br>Year=2005<br>ImportVolume=%{x}<extra></extra>",
           "legendgroup": "   Germany",
           "marker": {
            "color": "#EF553B",
            "pattern": {
             "shape": ""
            }
           },
           "name": "   Germany",
           "offsetgroup": "   Germany",
           "orientation": "h",
           "showlegend": true,
           "textposition": "auto",
           "x": [
            8664.5070937
           ],
           "xaxis": "x",
           "y": [
            "   Germany"
           ],
           "yaxis": "y",
           "type": "bar"
          },
          {
           "alignmentgroup": "True",
           "hovertemplate": "Countries=%{y}<br>Year=2005<br>ImportVolume=%{x}<extra></extra>",
           "legendgroup": "   France",
           "marker": {
            "color": "#00cc96",
            "pattern": {
             "shape": ""
            }
           },
           "name": "   France",
           "offsetgroup": "   France",
           "orientation": "h",
           "showlegend": true,
           "textposition": "auto",
           "x": [
            4787.3583972
           ],
           "xaxis": "x",
           "y": [
            "   France"
           ],
           "yaxis": "y",
           "type": "bar"
          },
          {
           "alignmentgroup": "True",
           "hovertemplate": "Countries=%{y}<br>Year=2005<br>ImportVolume=%{x}<extra></extra>",
           "legendgroup": "Japan",
           "marker": {
            "color": "#ab63fa",
            "pattern": {
             "shape": ""
            }
           },
           "name": "Japan",
           "offsetgroup": "Japan",
           "orientation": "h",
           "showlegend": true,
           "textposition": "auto",
           "x": [
            7127.9509492
           ],
           "xaxis": "x",
           "y": [
            "Japan"
           ],
           "yaxis": "y",
           "type": "bar"
          },
          {
           "alignmentgroup": "True",
           "hovertemplate": "Countries=%{y}<br>Year=2005<br>ImportVolume=%{x}<extra></extra>",
           "legendgroup": "   Italy",
           "marker": {
            "color": "#FFA15A",
            "pattern": {
             "shape": ""
            }
           },
           "name": "   Italy",
           "offsetgroup": "   Italy",
           "orientation": "h",
           "showlegend": true,
           "textposition": "auto",
           "x": [
            5551.8268151
           ],
           "xaxis": "x",
           "y": [
            "   Italy"
           ],
           "yaxis": "y",
           "type": "bar"
          }
         ],
         "name": "2005"
        },
        {
         "data": [
          {
           "alignmentgroup": "True",
           "hovertemplate": "Countries=%{y}<br>Year=2006<br>ImportVolume=%{x}<extra></extra>",
           "legendgroup": "USA",
           "marker": {
            "color": "#636efa",
            "pattern": {
             "shape": ""
            }
           },
           "name": "USA",
           "offsetgroup": "USA",
           "orientation": "h",
           "showlegend": true,
           "textposition": "auto",
           "x": [
            20667.3795803
           ],
           "xaxis": "x",
           "y": [
            "USA"
           ],
           "yaxis": "y",
           "type": "bar"
          },
          {
           "alignmentgroup": "True",
           "hovertemplate": "Countries=%{y}<br>Year=2006<br>ImportVolume=%{x}<extra></extra>",
           "legendgroup": "   Germany",
           "marker": {
            "color": "#EF553B",
            "pattern": {
             "shape": ""
            }
           },
           "name": "   Germany",
           "offsetgroup": "   Germany",
           "orientation": "h",
           "showlegend": true,
           "textposition": "auto",
           "x": [
            9150.8529671
           ],
           "xaxis": "x",
           "y": [
            "   Germany"
           ],
           "yaxis": "y",
           "type": "bar"
          },
          {
           "alignmentgroup": "True",
           "hovertemplate": "Countries=%{y}<br>Year=2006<br>ImportVolume=%{x}<extra></extra>",
           "legendgroup": "   France",
           "marker": {
            "color": "#00cc96",
            "pattern": {
             "shape": ""
            }
           },
           "name": "   France",
           "offsetgroup": "   France",
           "orientation": "h",
           "showlegend": true,
           "textposition": "auto",
           "x": [
            5277.5864598
           ],
           "xaxis": "x",
           "y": [
            "   France"
           ],
           "yaxis": "y",
           "type": "bar"
          },
          {
           "alignmentgroup": "True",
           "hovertemplate": "Countries=%{y}<br>Year=2006<br>ImportVolume=%{x}<extra></extra>",
           "legendgroup": "Japan",
           "marker": {
            "color": "#ab63fa",
            "pattern": {
             "shape": ""
            }
           },
           "name": "Japan",
           "offsetgroup": "Japan",
           "orientation": "h",
           "showlegend": true,
           "textposition": "auto",
           "x": [
            7268.1863162
           ],
           "xaxis": "x",
           "y": [
            "Japan"
           ],
           "yaxis": "y",
           "type": "bar"
          },
          {
           "alignmentgroup": "True",
           "hovertemplate": "Countries=%{y}<br>Year=2006<br>ImportVolume=%{x}<extra></extra>",
           "legendgroup": "   Italy",
           "marker": {
            "color": "#FFA15A",
            "pattern": {
             "shape": ""
            }
           },
           "name": "   Italy",
           "offsetgroup": "   Italy",
           "orientation": "h",
           "showlegend": true,
           "textposition": "auto",
           "x": [
            5593.0606133
           ],
           "xaxis": "x",
           "y": [
            "   Italy"
           ],
           "yaxis": "y",
           "type": "bar"
          }
         ],
         "name": "2006"
        },
        {
         "data": [
          {
           "alignmentgroup": "True",
           "hovertemplate": "Countries=%{y}<br>Year=2007<br>ImportVolume=%{x}<extra></extra>",
           "legendgroup": "USA",
           "marker": {
            "color": "#636efa",
            "pattern": {
             "shape": ""
            }
           },
           "name": "USA",
           "offsetgroup": "USA",
           "orientation": "h",
           "showlegend": true,
           "textposition": "auto",
           "x": [
            21033.2731039
           ],
           "xaxis": "x",
           "y": [
            "USA"
           ],
           "yaxis": "y",
           "type": "bar"
          },
          {
           "alignmentgroup": "True",
           "hovertemplate": "Countries=%{y}<br>Year=2007<br>ImportVolume=%{x}<extra></extra>",
           "legendgroup": "   Germany",
           "marker": {
            "color": "#EF553B",
            "pattern": {
             "shape": ""
            }
           },
           "name": "   Germany",
           "offsetgroup": "   Germany",
           "orientation": "h",
           "showlegend": true,
           "textposition": "auto",
           "x": [
            8626.6812829
           ],
           "xaxis": "x",
           "y": [
            "   Germany"
           ],
           "yaxis": "y",
           "type": "bar"
          },
          {
           "alignmentgroup": "True",
           "hovertemplate": "Countries=%{y}<br>Year=2007<br>ImportVolume=%{x}<extra></extra>",
           "legendgroup": "   France",
           "marker": {
            "color": "#00cc96",
            "pattern": {
             "shape": ""
            }
           },
           "name": "   France",
           "offsetgroup": "   France",
           "orientation": "h",
           "showlegend": true,
           "textposition": "auto",
           "x": [
            5627.7542717
           ],
           "xaxis": "x",
           "y": [
            "   France"
           ],
           "yaxis": "y",
           "type": "bar"
          },
          {
           "alignmentgroup": "True",
           "hovertemplate": "Countries=%{y}<br>Year=2007<br>ImportVolume=%{x}<extra></extra>",
           "legendgroup": "Japan",
           "marker": {
            "color": "#ab63fa",
            "pattern": {
             "shape": ""
            }
           },
           "name": "Japan",
           "offsetgroup": "Japan",
           "orientation": "h",
           "showlegend": true,
           "textposition": "auto",
           "x": [
            7282.0825522
           ],
           "xaxis": "x",
           "y": [
            "Japan"
           ],
           "yaxis": "y",
           "type": "bar"
          },
          {
           "alignmentgroup": "True",
           "hovertemplate": "Countries=%{y}<br>Year=2007<br>ImportVolume=%{x}<extra></extra>",
           "legendgroup": "   Italy",
           "marker": {
            "color": "#FFA15A",
            "pattern": {
             "shape": ""
            }
           },
           "name": "   Italy",
           "offsetgroup": "   Italy",
           "orientation": "h",
           "showlegend": true,
           "textposition": "auto",
           "x": [
            5820.9490542
           ],
           "xaxis": "x",
           "y": [
            "   Italy"
           ],
           "yaxis": "y",
           "type": "bar"
          }
         ],
         "name": "2007"
        },
        {
         "data": [
          {
           "alignmentgroup": "True",
           "hovertemplate": "Countries=%{y}<br>Year=2008<br>ImportVolume=%{x}<extra></extra>",
           "legendgroup": "USA",
           "marker": {
            "color": "#636efa",
            "pattern": {
             "shape": ""
            }
           },
           "name": "USA",
           "offsetgroup": "USA",
           "orientation": "h",
           "showlegend": true,
           "textposition": "auto",
           "x": [
            21652.4270057
           ],
           "xaxis": "x",
           "y": [
            "USA"
           ],
           "yaxis": "y",
           "type": "bar"
          },
          {
           "alignmentgroup": "True",
           "hovertemplate": "Countries=%{y}<br>Year=2008<br>ImportVolume=%{x}<extra></extra>",
           "legendgroup": "   Germany",
           "marker": {
            "color": "#EF553B",
            "pattern": {
             "shape": ""
            }
           },
           "name": "   Germany",
           "offsetgroup": "   Germany",
           "orientation": "h",
           "showlegend": true,
           "textposition": "auto",
           "x": [
            9534.5082725
           ],
           "xaxis": "x",
           "y": [
            "   Germany"
           ],
           "yaxis": "y",
           "type": "bar"
          },
          {
           "alignmentgroup": "True",
           "hovertemplate": "Countries=%{y}<br>Year=2008<br>ImportVolume=%{x}<extra></extra>",
           "legendgroup": "   France",
           "marker": {
            "color": "#00cc96",
            "pattern": {
             "shape": ""
            }
           },
           "name": "   France",
           "offsetgroup": "   France",
           "orientation": "h",
           "showlegend": true,
           "textposition": "auto",
           "x": [
            5151.5666778
           ],
           "xaxis": "x",
           "y": [
            "   France"
           ],
           "yaxis": "y",
           "type": "bar"
          },
          {
           "alignmentgroup": "True",
           "hovertemplate": "Countries=%{y}<br>Year=2008<br>ImportVolume=%{x}<extra></extra>",
           "legendgroup": "Japan",
           "marker": {
            "color": "#ab63fa",
            "pattern": {
             "shape": ""
            }
           },
           "name": "Japan",
           "offsetgroup": "Japan",
           "orientation": "h",
           "showlegend": true,
           "textposition": "auto",
           "x": [
            7064.6851125
           ],
           "xaxis": "x",
           "y": [
            "Japan"
           ],
           "yaxis": "y",
           "type": "bar"
          },
          {
           "alignmentgroup": "True",
           "hovertemplate": "Countries=%{y}<br>Year=2008<br>ImportVolume=%{x}<extra></extra>",
           "legendgroup": "   Italy",
           "marker": {
            "color": "#FFA15A",
            "pattern": {
             "shape": ""
            }
           },
           "name": "   Italy",
           "offsetgroup": "   Italy",
           "orientation": "h",
           "showlegend": true,
           "textposition": "auto",
           "x": [
            5892.1521765
           ],
           "xaxis": "x",
           "y": [
            "   Italy"
           ],
           "yaxis": "y",
           "type": "bar"
          }
         ],
         "name": "2008"
        },
        {
         "data": [
          {
           "alignmentgroup": "True",
           "hovertemplate": "Countries=%{y}<br>Year=2009<br>ImportVolume=%{x}<extra></extra>",
           "legendgroup": "USA",
           "marker": {
            "color": "#636efa",
            "pattern": {
             "shape": ""
            }
           },
           "name": "USA",
           "offsetgroup": "USA",
           "orientation": "h",
           "showlegend": true,
           "textposition": "auto",
           "x": [
            21435.9671121
           ],
           "xaxis": "x",
           "y": [
            "USA"
           ],
           "yaxis": "y",
           "type": "bar"
          },
          {
           "alignmentgroup": "True",
           "hovertemplate": "Countries=%{y}<br>Year=2009<br>ImportVolume=%{x}<extra></extra>",
           "legendgroup": "   Germany",
           "marker": {
            "color": "#EF553B",
            "pattern": {
             "shape": ""
            }
           },
           "name": "   Germany",
           "offsetgroup": "   Germany",
           "orientation": "h",
           "showlegend": true,
           "textposition": "auto",
           "x": [
            8896.9330624
           ],
           "xaxis": "x",
           "y": [
            "   Germany"
           ],
           "yaxis": "y",
           "type": "bar"
          },
          {
           "alignmentgroup": "True",
           "hovertemplate": "Countries=%{y}<br>Year=2009<br>ImportVolume=%{x}<extra></extra>",
           "legendgroup": "   France",
           "marker": {
            "color": "#00cc96",
            "pattern": {
             "shape": ""
            }
           },
           "name": "   France",
           "offsetgroup": "   France",
           "orientation": "h",
           "showlegend": true,
           "textposition": "auto",
           "x": [
            5676.7497713
           ],
           "xaxis": "x",
           "y": [
            "   France"
           ],
           "yaxis": "y",
           "type": "bar"
          },
          {
           "alignmentgroup": "True",
           "hovertemplate": "Countries=%{y}<br>Year=2009<br>ImportVolume=%{x}<extra></extra>",
           "legendgroup": "Japan",
           "marker": {
            "color": "#ab63fa",
            "pattern": {
             "shape": ""
            }
           },
           "name": "Japan",
           "offsetgroup": "Japan",
           "orientation": "h",
           "showlegend": true,
           "textposition": "auto",
           "x": [
            7130.4034603
           ],
           "xaxis": "x",
           "y": [
            "Japan"
           ],
           "yaxis": "y",
           "type": "bar"
          },
          {
           "alignmentgroup": "True",
           "hovertemplate": "Countries=%{y}<br>Year=2009<br>ImportVolume=%{x}<extra></extra>",
           "legendgroup": "   Italy",
           "marker": {
            "color": "#FFA15A",
            "pattern": {
             "shape": ""
            }
           },
           "name": "   Italy",
           "offsetgroup": "   Italy",
           "orientation": "h",
           "showlegend": true,
           "textposition": "auto",
           "x": [
            5806.0245941
           ],
           "xaxis": "x",
           "y": [
            "   Italy"
           ],
           "yaxis": "y",
           "type": "bar"
          }
         ],
         "name": "2009"
        },
        {
         "data": [
          {
           "alignmentgroup": "True",
           "hovertemplate": "Countries=%{y}<br>Year=2010<br>ImportVolume=%{x}<extra></extra>",
           "legendgroup": "USA",
           "marker": {
            "color": "#636efa",
            "pattern": {
             "shape": ""
            }
           },
           "name": "USA",
           "offsetgroup": "USA",
           "orientation": "h",
           "showlegend": true,
           "textposition": "auto",
           "x": [
            21783.457919
           ],
           "xaxis": "x",
           "y": [
            "USA"
           ],
           "yaxis": "y",
           "type": "bar"
          },
          {
           "alignmentgroup": "True",
           "hovertemplate": "Countries=%{y}<br>Year=2010<br>ImportVolume=%{x}<extra></extra>",
           "legendgroup": "   Germany",
           "marker": {
            "color": "#EF553B",
            "pattern": {
             "shape": ""
            }
           },
           "name": "   Germany",
           "offsetgroup": "   Germany",
           "orientation": "h",
           "showlegend": true,
           "textposition": "auto",
           "x": [
            9291.9588588
           ],
           "xaxis": "x",
           "y": [
            "   Germany"
           ],
           "yaxis": "y",
           "type": "bar"
          },
          {
           "alignmentgroup": "True",
           "hovertemplate": "Countries=%{y}<br>Year=2010<br>ImportVolume=%{x}<extra></extra>",
           "legendgroup": "   France",
           "marker": {
            "color": "#00cc96",
            "pattern": {
             "shape": ""
            }
           },
           "name": "   France",
           "offsetgroup": "   France",
           "orientation": "h",
           "showlegend": true,
           "textposition": "auto",
           "x": [
            5712.8985095
           ],
           "xaxis": "x",
           "y": [
            "   France"
           ],
           "yaxis": "y",
           "type": "bar"
          },
          {
           "alignmentgroup": "True",
           "hovertemplate": "Countries=%{y}<br>Year=2010<br>ImportVolume=%{x}<extra></extra>",
           "legendgroup": "Japan",
           "marker": {
            "color": "#ab63fa",
            "pattern": {
             "shape": ""
            }
           },
           "name": "Japan",
           "offsetgroup": "Japan",
           "orientation": "h",
           "showlegend": true,
           "textposition": "auto",
           "x": [
            7192.3980023
           ],
           "xaxis": "x",
           "y": [
            "Japan"
           ],
           "yaxis": "y",
           "type": "bar"
          },
          {
           "alignmentgroup": "True",
           "hovertemplate": "Countries=%{y}<br>Year=2010<br>ImportVolume=%{x}<extra></extra>",
           "legendgroup": "   Italy",
           "marker": {
            "color": "#FFA15A",
            "pattern": {
             "shape": ""
            }
           },
           "name": "   Italy",
           "offsetgroup": "   Italy",
           "orientation": "h",
           "showlegend": true,
           "textposition": "auto",
           "x": [
            5781.3189611
           ],
           "xaxis": "x",
           "y": [
            "   Italy"
           ],
           "yaxis": "y",
           "type": "bar"
          }
         ],
         "name": "2010"
        },
        {
         "data": [
          {
           "alignmentgroup": "True",
           "hovertemplate": "Countries=%{y}<br>Year=2011<br>ImportVolume=%{x}<extra></extra>",
           "legendgroup": "USA",
           "marker": {
            "color": "#636efa",
            "pattern": {
             "shape": ""
            }
           },
           "name": "USA",
           "offsetgroup": "USA",
           "orientation": "h",
           "showlegend": true,
           "textposition": "auto",
           "x": [
            22043.8913838
           ],
           "xaxis": "x",
           "y": [
            "USA"
           ],
           "yaxis": "y",
           "type": "bar"
          },
          {
           "alignmentgroup": "True",
           "hovertemplate": "Countries=%{y}<br>Year=2011<br>ImportVolume=%{x}<extra></extra>",
           "legendgroup": "   Germany",
           "marker": {
            "color": "#EF553B",
            "pattern": {
             "shape": ""
            }
           },
           "name": "   Germany",
           "offsetgroup": "   Germany",
           "orientation": "h",
           "showlegend": true,
           "textposition": "auto",
           "x": [
            9460.3495609
           ],
           "xaxis": "x",
           "y": [
            "   Germany"
           ],
           "yaxis": "y",
           "type": "bar"
          },
          {
           "alignmentgroup": "True",
           "hovertemplate": "Countries=%{y}<br>Year=2011<br>ImportVolume=%{x}<extra></extra>",
           "legendgroup": "   France",
           "marker": {
            "color": "#00cc96",
            "pattern": {
             "shape": ""
            }
           },
           "name": "   France",
           "offsetgroup": "   France",
           "orientation": "h",
           "showlegend": true,
           "textposition": "auto",
           "x": [
            5961.9527905
           ],
           "xaxis": "x",
           "y": [
            "   France"
           ],
           "yaxis": "y",
           "type": "bar"
          },
          {
           "alignmentgroup": "True",
           "hovertemplate": "Countries=%{y}<br>Year=2011<br>ImportVolume=%{x}<extra></extra>",
           "legendgroup": "Japan",
           "marker": {
            "color": "#ab63fa",
            "pattern": {
             "shape": ""
            }
           },
           "name": "Japan",
           "offsetgroup": "Japan",
           "orientation": "h",
           "showlegend": true,
           "textposition": "auto",
           "x": [
            7014.8538097
           ],
           "xaxis": "x",
           "y": [
            "Japan"
           ],
           "yaxis": "y",
           "type": "bar"
          },
          {
           "alignmentgroup": "True",
           "hovertemplate": "Countries=%{y}<br>Year=2011<br>ImportVolume=%{x}<extra></extra>",
           "legendgroup": "   Italy",
           "marker": {
            "color": "#FFA15A",
            "pattern": {
             "shape": ""
            }
           },
           "name": "   Italy",
           "offsetgroup": "   Italy",
           "orientation": "h",
           "showlegend": true,
           "textposition": "auto",
           "x": [
            5689.331772
           ],
           "xaxis": "x",
           "y": [
            "   Italy"
           ],
           "yaxis": "y",
           "type": "bar"
          }
         ],
         "name": "2011"
        },
        {
         "data": [
          {
           "alignmentgroup": "True",
           "hovertemplate": "Countries=%{y}<br>Year=2012<br>ImportVolume=%{x}<extra></extra>",
           "legendgroup": "USA",
           "marker": {
            "color": "#636efa",
            "pattern": {
             "shape": ""
            }
           },
           "name": "USA",
           "offsetgroup": "USA",
           "orientation": "h",
           "showlegend": true,
           "textposition": "auto",
           "x": [
            22231.6637149
           ],
           "xaxis": "x",
           "y": [
            "USA"
           ],
           "yaxis": "y",
           "type": "bar"
          },
          {
           "alignmentgroup": "True",
           "hovertemplate": "Countries=%{y}<br>Year=2012<br>ImportVolume=%{x}<extra></extra>",
           "legendgroup": "   Germany",
           "marker": {
            "color": "#EF553B",
            "pattern": {
             "shape": ""
            }
           },
           "name": "   Germany",
           "offsetgroup": "   Germany",
           "orientation": "h",
           "showlegend": true,
           "textposition": "auto",
           "x": [
            8829.7429627
           ],
           "xaxis": "x",
           "y": [
            "   Germany"
           ],
           "yaxis": "y",
           "type": "bar"
          },
          {
           "alignmentgroup": "True",
           "hovertemplate": "Countries=%{y}<br>Year=2012<br>ImportVolume=%{x}<extra></extra>",
           "legendgroup": "   France",
           "marker": {
            "color": "#00cc96",
            "pattern": {
             "shape": ""
            }
           },
           "name": "   France",
           "offsetgroup": "   France",
           "orientation": "h",
           "showlegend": true,
           "textposition": "auto",
           "x": [
            5790.2946384
           ],
           "xaxis": "x",
           "y": [
            "   France"
           ],
           "yaxis": "y",
           "type": "bar"
          },
          {
           "alignmentgroup": "True",
           "hovertemplate": "Countries=%{y}<br>Year=2012<br>ImportVolume=%{x}<extra></extra>",
           "legendgroup": "Japan",
           "marker": {
            "color": "#ab63fa",
            "pattern": {
             "shape": ""
            }
           },
           "name": "Japan",
           "offsetgroup": "Japan",
           "orientation": "h",
           "showlegend": true,
           "textposition": "auto",
           "x": [
            7130.9466472
           ],
           "xaxis": "x",
           "y": [
            "Japan"
           ],
           "yaxis": "y",
           "type": "bar"
          },
          {
           "alignmentgroup": "True",
           "hovertemplate": "Countries=%{y}<br>Year=2012<br>ImportVolume=%{x}<extra></extra>",
           "legendgroup": "   Italy",
           "marker": {
            "color": "#FFA15A",
            "pattern": {
             "shape": ""
            }
           },
           "name": "   Italy",
           "offsetgroup": "   Italy",
           "orientation": "h",
           "showlegend": true,
           "textposition": "auto",
           "x": [
            5709.7631664
           ],
           "xaxis": "x",
           "y": [
            "   Italy"
           ],
           "yaxis": "y",
           "type": "bar"
          }
         ],
         "name": "2012"
        },
        {
         "data": [
          {
           "alignmentgroup": "True",
           "hovertemplate": "Countries=%{y}<br>Year=2013<br>ImportVolume=%{x}<extra></extra>",
           "legendgroup": "USA",
           "marker": {
            "color": "#636efa",
            "pattern": {
             "shape": ""
            }
           },
           "name": "USA",
           "offsetgroup": "USA",
           "orientation": "h",
           "showlegend": true,
           "textposition": "auto",
           "x": [
            23417.0
           ],
           "xaxis": "x",
           "y": [
            "USA"
           ],
           "yaxis": "y",
           "type": "bar"
          },
          {
           "alignmentgroup": "True",
           "hovertemplate": "Countries=%{y}<br>Year=2013<br>ImportVolume=%{x}<extra></extra>",
           "legendgroup": "   Germany",
           "marker": {
            "color": "#EF553B",
            "pattern": {
             "shape": ""
            }
           },
           "name": "   Germany",
           "offsetgroup": "   Germany",
           "orientation": "h",
           "showlegend": true,
           "textposition": "auto",
           "x": [
            9378.0
           ],
           "xaxis": "x",
           "y": [
            "   Germany"
           ],
           "yaxis": "y",
           "type": "bar"
          },
          {
           "alignmentgroup": "True",
           "hovertemplate": "Countries=%{y}<br>Year=2013<br>ImportVolume=%{x}<extra></extra>",
           "legendgroup": "   France",
           "marker": {
            "color": "#00cc96",
            "pattern": {
             "shape": ""
            }
           },
           "name": "   France",
           "offsetgroup": "   France",
           "orientation": "h",
           "showlegend": true,
           "textposition": "auto",
           "x": [
            5707.0
           ],
           "xaxis": "x",
           "y": [
            "   France"
           ],
           "yaxis": "y",
           "type": "bar"
          },
          {
           "alignmentgroup": "True",
           "hovertemplate": "Countries=%{y}<br>Year=2013<br>ImportVolume=%{x}<extra></extra>",
           "legendgroup": "Japan",
           "marker": {
            "color": "#ab63fa",
            "pattern": {
             "shape": ""
            }
           },
           "name": "Japan",
           "offsetgroup": "Japan",
           "orientation": "h",
           "showlegend": true,
           "textposition": "auto",
           "x": [
            7435.0
           ],
           "xaxis": "x",
           "y": [
            "Japan"
           ],
           "yaxis": "y",
           "type": "bar"
          },
          {
           "alignmentgroup": "True",
           "hovertemplate": "Countries=%{y}<br>Year=2013<br>ImportVolume=%{x}<extra></extra>",
           "legendgroup": "   Italy",
           "marker": {
            "color": "#FFA15A",
            "pattern": {
             "shape": ""
            }
           },
           "name": "   Italy",
           "offsetgroup": "   Italy",
           "orientation": "h",
           "showlegend": true,
           "textposition": "auto",
           "x": [
            5634.0
           ],
           "xaxis": "x",
           "y": [
            "   Italy"
           ],
           "yaxis": "y",
           "type": "bar"
          }
         ],
         "name": "2013"
        }
       ],
       "config": {
        "plotlyServerURL": "https://plot.ly"
       }
      },
      "text/html": "<div>                            <div id=\"65e24282-9a27-4653-9831-ab23c5a68325\" class=\"plotly-graph-div\" style=\"height:525px; width:100%;\"></div>            <script type=\"text/javascript\">                require([\"plotly\"], function(Plotly) {                    window.PLOTLYENV=window.PLOTLYENV || {};                                    if (document.getElementById(\"65e24282-9a27-4653-9831-ab23c5a68325\")) {                    Plotly.newPlot(                        \"65e24282-9a27-4653-9831-ab23c5a68325\",                        [{\"alignmentgroup\":\"True\",\"hovertemplate\":\"Countries=%{y}\\u003cbr\\u003eYear=1990\\u003cbr\\u003eImportVolume=%{x}\\u003cextra\\u003e\\u003c\\u002fextra\\u003e\",\"legendgroup\":\"USA\",\"marker\":{\"color\":\"#636efa\",\"pattern\":{\"shape\":\"\"}},\"name\":\"USA\",\"offsetgroup\":\"USA\",\"orientation\":\"h\",\"showlegend\":true,\"textposition\":\"auto\",\"x\":[18297.6180013],\"xaxis\":\"x\",\"y\":[\"USA\"],\"yaxis\":\"y\",\"type\":\"bar\"},{\"alignmentgroup\":\"True\",\"hovertemplate\":\"Countries=%{y}\\u003cbr\\u003eYear=1990\\u003cbr\\u003eImportVolume=%{x}\\u003cextra\\u003e\\u003c\\u002fextra\\u003e\",\"legendgroup\":\"   Germany\",\"marker\":{\"color\":\"#EF553B\",\"pattern\":{\"shape\":\"\"}},\"name\":\"   Germany\",\"offsetgroup\":\"   Germany\",\"orientation\":\"h\",\"showlegend\":true,\"textposition\":\"auto\",\"x\":[7279.2569607],\"xaxis\":\"x\",\"y\":[\"   Germany\"],\"yaxis\":\"y\",\"type\":\"bar\"},{\"alignmentgroup\":\"True\",\"hovertemplate\":\"Countries=%{y}\\u003cbr\\u003eYear=1990\\u003cbr\\u003eImportVolume=%{x}\\u003cextra\\u003e\\u003c\\u002fextra\\u003e\",\"legendgroup\":\"   France\",\"marker\":{\"color\":\"#00cc96\",\"pattern\":{\"shape\":\"\"}},\"name\":\"   France\",\"offsetgroup\":\"   France\",\"orientation\":\"h\",\"showlegend\":true,\"textposition\":\"auto\",\"x\":[5205.1723628],\"xaxis\":\"x\",\"y\":[\"   France\"],\"yaxis\":\"y\",\"type\":\"bar\"},{\"alignmentgroup\":\"True\",\"hovertemplate\":\"Countries=%{y}\\u003cbr\\u003eYear=1990\\u003cbr\\u003eImportVolume=%{x}\\u003cextra\\u003e\\u003c\\u002fextra\\u003e\",\"legendgroup\":\"Japan\",\"marker\":{\"color\":\"#ab63fa\",\"pattern\":{\"shape\":\"\"}},\"name\":\"Japan\",\"offsetgroup\":\"Japan\",\"orientation\":\"h\",\"showlegend\":true,\"textposition\":\"auto\",\"x\":[5059.8480044],\"xaxis\":\"x\",\"y\":[\"Japan\"],\"yaxis\":\"y\",\"type\":\"bar\"},{\"alignmentgroup\":\"True\",\"hovertemplate\":\"Countries=%{y}\\u003cbr\\u003eYear=1990\\u003cbr\\u003eImportVolume=%{x}\\u003cextra\\u003e\\u003c\\u002fextra\\u003e\",\"legendgroup\":\"   Italy\",\"marker\":{\"color\":\"#FFA15A\",\"pattern\":{\"shape\":\"\"}},\"name\":\"   Italy\",\"offsetgroup\":\"   Italy\",\"orientation\":\"h\",\"showlegend\":true,\"textposition\":\"auto\",\"x\":[4832.2939865],\"xaxis\":\"x\",\"y\":[\"   Italy\"],\"yaxis\":\"y\",\"type\":\"bar\"}],                        {\"template\":{\"data\":{\"histogram2dcontour\":[{\"type\":\"histogram2dcontour\",\"colorbar\":{\"outlinewidth\":0,\"ticks\":\"\"},\"colorscale\":[[0.0,\"#0d0887\"],[0.1111111111111111,\"#46039f\"],[0.2222222222222222,\"#7201a8\"],[0.3333333333333333,\"#9c179e\"],[0.4444444444444444,\"#bd3786\"],[0.5555555555555556,\"#d8576b\"],[0.6666666666666666,\"#ed7953\"],[0.7777777777777778,\"#fb9f3a\"],[0.8888888888888888,\"#fdca26\"],[1.0,\"#f0f921\"]]}],\"choropleth\":[{\"type\":\"choropleth\",\"colorbar\":{\"outlinewidth\":0,\"ticks\":\"\"}}],\"histogram2d\":[{\"type\":\"histogram2d\",\"colorbar\":{\"outlinewidth\":0,\"ticks\":\"\"},\"colorscale\":[[0.0,\"#0d0887\"],[0.1111111111111111,\"#46039f\"],[0.2222222222222222,\"#7201a8\"],[0.3333333333333333,\"#9c179e\"],[0.4444444444444444,\"#bd3786\"],[0.5555555555555556,\"#d8576b\"],[0.6666666666666666,\"#ed7953\"],[0.7777777777777778,\"#fb9f3a\"],[0.8888888888888888,\"#fdca26\"],[1.0,\"#f0f921\"]]}],\"heatmap\":[{\"type\":\"heatmap\",\"colorbar\":{\"outlinewidth\":0,\"ticks\":\"\"},\"colorscale\":[[0.0,\"#0d0887\"],[0.1111111111111111,\"#46039f\"],[0.2222222222222222,\"#7201a8\"],[0.3333333333333333,\"#9c179e\"],[0.4444444444444444,\"#bd3786\"],[0.5555555555555556,\"#d8576b\"],[0.6666666666666666,\"#ed7953\"],[0.7777777777777778,\"#fb9f3a\"],[0.8888888888888888,\"#fdca26\"],[1.0,\"#f0f921\"]]}],\"heatmapgl\":[{\"type\":\"heatmapgl\",\"colorbar\":{\"outlinewidth\":0,\"ticks\":\"\"},\"colorscale\":[[0.0,\"#0d0887\"],[0.1111111111111111,\"#46039f\"],[0.2222222222222222,\"#7201a8\"],[0.3333333333333333,\"#9c179e\"],[0.4444444444444444,\"#bd3786\"],[0.5555555555555556,\"#d8576b\"],[0.6666666666666666,\"#ed7953\"],[0.7777777777777778,\"#fb9f3a\"],[0.8888888888888888,\"#fdca26\"],[1.0,\"#f0f921\"]]}],\"contourcarpet\":[{\"type\":\"contourcarpet\",\"colorbar\":{\"outlinewidth\":0,\"ticks\":\"\"}}],\"contour\":[{\"type\":\"contour\",\"colorbar\":{\"outlinewidth\":0,\"ticks\":\"\"},\"colorscale\":[[0.0,\"#0d0887\"],[0.1111111111111111,\"#46039f\"],[0.2222222222222222,\"#7201a8\"],[0.3333333333333333,\"#9c179e\"],[0.4444444444444444,\"#bd3786\"],[0.5555555555555556,\"#d8576b\"],[0.6666666666666666,\"#ed7953\"],[0.7777777777777778,\"#fb9f3a\"],[0.8888888888888888,\"#fdca26\"],[1.0,\"#f0f921\"]]}],\"surface\":[{\"type\":\"surface\",\"colorbar\":{\"outlinewidth\":0,\"ticks\":\"\"},\"colorscale\":[[0.0,\"#0d0887\"],[0.1111111111111111,\"#46039f\"],[0.2222222222222222,\"#7201a8\"],[0.3333333333333333,\"#9c179e\"],[0.4444444444444444,\"#bd3786\"],[0.5555555555555556,\"#d8576b\"],[0.6666666666666666,\"#ed7953\"],[0.7777777777777778,\"#fb9f3a\"],[0.8888888888888888,\"#fdca26\"],[1.0,\"#f0f921\"]]}],\"mesh3d\":[{\"type\":\"mesh3d\",\"colorbar\":{\"outlinewidth\":0,\"ticks\":\"\"}}],\"scatter\":[{\"marker\":{\"line\":{\"color\":\"#283442\"}},\"type\":\"scatter\"}],\"parcoords\":[{\"type\":\"parcoords\",\"line\":{\"colorbar\":{\"outlinewidth\":0,\"ticks\":\"\"}}}],\"scatterpolargl\":[{\"type\":\"scatterpolargl\",\"marker\":{\"colorbar\":{\"outlinewidth\":0,\"ticks\":\"\"}}}],\"bar\":[{\"error_x\":{\"color\":\"#f2f5fa\"},\"error_y\":{\"color\":\"#f2f5fa\"},\"marker\":{\"line\":{\"color\":\"rgb(17,17,17)\",\"width\":0.5},\"pattern\":{\"fillmode\":\"overlay\",\"size\":10,\"solidity\":0.2}},\"type\":\"bar\"}],\"scattergeo\":[{\"type\":\"scattergeo\",\"marker\":{\"colorbar\":{\"outlinewidth\":0,\"ticks\":\"\"}}}],\"scatterpolar\":[{\"type\":\"scatterpolar\",\"marker\":{\"colorbar\":{\"outlinewidth\":0,\"ticks\":\"\"}}}],\"histogram\":[{\"marker\":{\"pattern\":{\"fillmode\":\"overlay\",\"size\":10,\"solidity\":0.2}},\"type\":\"histogram\"}],\"scattergl\":[{\"marker\":{\"line\":{\"color\":\"#283442\"}},\"type\":\"scattergl\"}],\"scatter3d\":[{\"type\":\"scatter3d\",\"line\":{\"colorbar\":{\"outlinewidth\":0,\"ticks\":\"\"}},\"marker\":{\"colorbar\":{\"outlinewidth\":0,\"ticks\":\"\"}}}],\"scattermapbox\":[{\"type\":\"scattermapbox\",\"marker\":{\"colorbar\":{\"outlinewidth\":0,\"ticks\":\"\"}}}],\"scatterternary\":[{\"type\":\"scatterternary\",\"marker\":{\"colorbar\":{\"outlinewidth\":0,\"ticks\":\"\"}}}],\"scattercarpet\":[{\"type\":\"scattercarpet\",\"marker\":{\"colorbar\":{\"outlinewidth\":0,\"ticks\":\"\"}}}],\"carpet\":[{\"aaxis\":{\"endlinecolor\":\"#A2B1C6\",\"gridcolor\":\"#506784\",\"linecolor\":\"#506784\",\"minorgridcolor\":\"#506784\",\"startlinecolor\":\"#A2B1C6\"},\"baxis\":{\"endlinecolor\":\"#A2B1C6\",\"gridcolor\":\"#506784\",\"linecolor\":\"#506784\",\"minorgridcolor\":\"#506784\",\"startlinecolor\":\"#A2B1C6\"},\"type\":\"carpet\"}],\"table\":[{\"cells\":{\"fill\":{\"color\":\"#506784\"},\"line\":{\"color\":\"rgb(17,17,17)\"}},\"header\":{\"fill\":{\"color\":\"#2a3f5f\"},\"line\":{\"color\":\"rgb(17,17,17)\"}},\"type\":\"table\"}],\"barpolar\":[{\"marker\":{\"line\":{\"color\":\"rgb(17,17,17)\",\"width\":0.5},\"pattern\":{\"fillmode\":\"overlay\",\"size\":10,\"solidity\":0.2}},\"type\":\"barpolar\"}],\"pie\":[{\"automargin\":true,\"type\":\"pie\"}]},\"layout\":{\"autotypenumbers\":\"strict\",\"colorway\":[\"#636efa\",\"#EF553B\",\"#00cc96\",\"#ab63fa\",\"#FFA15A\",\"#19d3f3\",\"#FF6692\",\"#B6E880\",\"#FF97FF\",\"#FECB52\"],\"font\":{\"color\":\"#f2f5fa\"},\"hovermode\":\"closest\",\"hoverlabel\":{\"align\":\"left\"},\"paper_bgcolor\":\"rgb(17,17,17)\",\"plot_bgcolor\":\"rgb(17,17,17)\",\"polar\":{\"bgcolor\":\"rgb(17,17,17)\",\"angularaxis\":{\"gridcolor\":\"#506784\",\"linecolor\":\"#506784\",\"ticks\":\"\"},\"radialaxis\":{\"gridcolor\":\"#506784\",\"linecolor\":\"#506784\",\"ticks\":\"\"}},\"ternary\":{\"bgcolor\":\"rgb(17,17,17)\",\"aaxis\":{\"gridcolor\":\"#506784\",\"linecolor\":\"#506784\",\"ticks\":\"\"},\"baxis\":{\"gridcolor\":\"#506784\",\"linecolor\":\"#506784\",\"ticks\":\"\"},\"caxis\":{\"gridcolor\":\"#506784\",\"linecolor\":\"#506784\",\"ticks\":\"\"}},\"coloraxis\":{\"colorbar\":{\"outlinewidth\":0,\"ticks\":\"\"}},\"colorscale\":{\"sequential\":[[0.0,\"#0d0887\"],[0.1111111111111111,\"#46039f\"],[0.2222222222222222,\"#7201a8\"],[0.3333333333333333,\"#9c179e\"],[0.4444444444444444,\"#bd3786\"],[0.5555555555555556,\"#d8576b\"],[0.6666666666666666,\"#ed7953\"],[0.7777777777777778,\"#fb9f3a\"],[0.8888888888888888,\"#fdca26\"],[1.0,\"#f0f921\"]],\"sequentialminus\":[[0.0,\"#0d0887\"],[0.1111111111111111,\"#46039f\"],[0.2222222222222222,\"#7201a8\"],[0.3333333333333333,\"#9c179e\"],[0.4444444444444444,\"#bd3786\"],[0.5555555555555556,\"#d8576b\"],[0.6666666666666666,\"#ed7953\"],[0.7777777777777778,\"#fb9f3a\"],[0.8888888888888888,\"#fdca26\"],[1.0,\"#f0f921\"]],\"diverging\":[[0,\"#8e0152\"],[0.1,\"#c51b7d\"],[0.2,\"#de77ae\"],[0.3,\"#f1b6da\"],[0.4,\"#fde0ef\"],[0.5,\"#f7f7f7\"],[0.6,\"#e6f5d0\"],[0.7,\"#b8e186\"],[0.8,\"#7fbc41\"],[0.9,\"#4d9221\"],[1,\"#276419\"]]},\"xaxis\":{\"gridcolor\":\"#283442\",\"linecolor\":\"#506784\",\"ticks\":\"\",\"title\":{\"standoff\":15},\"zerolinecolor\":\"#283442\",\"automargin\":true,\"zerolinewidth\":2},\"yaxis\":{\"gridcolor\":\"#283442\",\"linecolor\":\"#506784\",\"ticks\":\"\",\"title\":{\"standoff\":15},\"zerolinecolor\":\"#283442\",\"automargin\":true,\"zerolinewidth\":2},\"scene\":{\"xaxis\":{\"backgroundcolor\":\"rgb(17,17,17)\",\"gridcolor\":\"#506784\",\"linecolor\":\"#506784\",\"showbackground\":true,\"ticks\":\"\",\"zerolinecolor\":\"#C8D4E3\",\"gridwidth\":2},\"yaxis\":{\"backgroundcolor\":\"rgb(17,17,17)\",\"gridcolor\":\"#506784\",\"linecolor\":\"#506784\",\"showbackground\":true,\"ticks\":\"\",\"zerolinecolor\":\"#C8D4E3\",\"gridwidth\":2},\"zaxis\":{\"backgroundcolor\":\"rgb(17,17,17)\",\"gridcolor\":\"#506784\",\"linecolor\":\"#506784\",\"showbackground\":true,\"ticks\":\"\",\"zerolinecolor\":\"#C8D4E3\",\"gridwidth\":2}},\"shapedefaults\":{\"line\":{\"color\":\"#f2f5fa\"}},\"annotationdefaults\":{\"arrowcolor\":\"#f2f5fa\",\"arrowhead\":0,\"arrowwidth\":1},\"geo\":{\"bgcolor\":\"rgb(17,17,17)\",\"landcolor\":\"rgb(17,17,17)\",\"subunitcolor\":\"#506784\",\"showland\":true,\"showlakes\":true,\"lakecolor\":\"rgb(17,17,17)\"},\"title\":{\"x\":0.05},\"updatemenudefaults\":{\"bgcolor\":\"#506784\",\"borderwidth\":0},\"sliderdefaults\":{\"bgcolor\":\"#C8D4E3\",\"borderwidth\":1,\"bordercolor\":\"rgb(17,17,17)\",\"tickwidth\":0},\"mapbox\":{\"style\":\"dark\"}}},\"xaxis\":{\"anchor\":\"y\",\"domain\":[0.0,1.0],\"title\":{\"text\":\"ImportVolume\"},\"range\":[0,23417.0]},\"yaxis\":{\"anchor\":\"x\",\"domain\":[0.0,1.0],\"title\":{\"text\":\"Countries\",\"standoff\":25},\"categoryorder\":\"array\",\"categoryarray\":[\"   Italy\",\"Japan\",\"   France\",\"   Germany\",\"USA\"]},\"legend\":{\"title\":{\"text\":\"Countries\"},\"tracegroupgap\":0},\"margin\":{\"t\":60},\"barmode\":\"relative\",\"updatemenus\":[{\"buttons\":[{\"args\":[null,{\"frame\":{\"duration\":500,\"redraw\":true},\"mode\":\"immediate\",\"fromcurrent\":true,\"transition\":{\"duration\":500,\"easing\":\"linear\"}}],\"label\":\"&#9654;\",\"method\":\"animate\"},{\"args\":[[null],{\"frame\":{\"duration\":0,\"redraw\":true},\"mode\":\"immediate\",\"fromcurrent\":true,\"transition\":{\"duration\":0,\"easing\":\"linear\"}}],\"label\":\"&#9724;\",\"method\":\"animate\"}],\"direction\":\"left\",\"pad\":{\"r\":10,\"t\":70},\"showactive\":false,\"type\":\"buttons\",\"x\":0.1,\"xanchor\":\"right\",\"y\":0,\"yanchor\":\"top\"}],\"sliders\":[{\"active\":0,\"currentvalue\":{\"prefix\":\"Year=\"},\"len\":0.9,\"pad\":{\"b\":10,\"t\":60},\"steps\":[{\"args\":[[\"1990\"],{\"frame\":{\"duration\":0,\"redraw\":true},\"mode\":\"immediate\",\"fromcurrent\":true,\"transition\":{\"duration\":0,\"easing\":\"linear\"}}],\"label\":\"1990\",\"method\":\"animate\"},{\"args\":[[\"1991\"],{\"frame\":{\"duration\":0,\"redraw\":true},\"mode\":\"immediate\",\"fromcurrent\":true,\"transition\":{\"duration\":0,\"easing\":\"linear\"}}],\"label\":\"1991\",\"method\":\"animate\"},{\"args\":[[\"1992\"],{\"frame\":{\"duration\":0,\"redraw\":true},\"mode\":\"immediate\",\"fromcurrent\":true,\"transition\":{\"duration\":0,\"easing\":\"linear\"}}],\"label\":\"1992\",\"method\":\"animate\"},{\"args\":[[\"1993\"],{\"frame\":{\"duration\":0,\"redraw\":true},\"mode\":\"immediate\",\"fromcurrent\":true,\"transition\":{\"duration\":0,\"easing\":\"linear\"}}],\"label\":\"1993\",\"method\":\"animate\"},{\"args\":[[\"1994\"],{\"frame\":{\"duration\":0,\"redraw\":true},\"mode\":\"immediate\",\"fromcurrent\":true,\"transition\":{\"duration\":0,\"easing\":\"linear\"}}],\"label\":\"1994\",\"method\":\"animate\"},{\"args\":[[\"1995\"],{\"frame\":{\"duration\":0,\"redraw\":true},\"mode\":\"immediate\",\"fromcurrent\":true,\"transition\":{\"duration\":0,\"easing\":\"linear\"}}],\"label\":\"1995\",\"method\":\"animate\"},{\"args\":[[\"1996\"],{\"frame\":{\"duration\":0,\"redraw\":true},\"mode\":\"immediate\",\"fromcurrent\":true,\"transition\":{\"duration\":0,\"easing\":\"linear\"}}],\"label\":\"1996\",\"method\":\"animate\"},{\"args\":[[\"1997\"],{\"frame\":{\"duration\":0,\"redraw\":true},\"mode\":\"immediate\",\"fromcurrent\":true,\"transition\":{\"duration\":0,\"easing\":\"linear\"}}],\"label\":\"1997\",\"method\":\"animate\"},{\"args\":[[\"1998\"],{\"frame\":{\"duration\":0,\"redraw\":true},\"mode\":\"immediate\",\"fromcurrent\":true,\"transition\":{\"duration\":0,\"easing\":\"linear\"}}],\"label\":\"1998\",\"method\":\"animate\"},{\"args\":[[\"1999\"],{\"frame\":{\"duration\":0,\"redraw\":true},\"mode\":\"immediate\",\"fromcurrent\":true,\"transition\":{\"duration\":0,\"easing\":\"linear\"}}],\"label\":\"1999\",\"method\":\"animate\"},{\"args\":[[\"2000\"],{\"frame\":{\"duration\":0,\"redraw\":true},\"mode\":\"immediate\",\"fromcurrent\":true,\"transition\":{\"duration\":0,\"easing\":\"linear\"}}],\"label\":\"2000\",\"method\":\"animate\"},{\"args\":[[\"2001\"],{\"frame\":{\"duration\":0,\"redraw\":true},\"mode\":\"immediate\",\"fromcurrent\":true,\"transition\":{\"duration\":0,\"easing\":\"linear\"}}],\"label\":\"2001\",\"method\":\"animate\"},{\"args\":[[\"2002\"],{\"frame\":{\"duration\":0,\"redraw\":true},\"mode\":\"immediate\",\"fromcurrent\":true,\"transition\":{\"duration\":0,\"easing\":\"linear\"}}],\"label\":\"2002\",\"method\":\"animate\"},{\"args\":[[\"2003\"],{\"frame\":{\"duration\":0,\"redraw\":true},\"mode\":\"immediate\",\"fromcurrent\":true,\"transition\":{\"duration\":0,\"easing\":\"linear\"}}],\"label\":\"2003\",\"method\":\"animate\"},{\"args\":[[\"2004\"],{\"frame\":{\"duration\":0,\"redraw\":true},\"mode\":\"immediate\",\"fromcurrent\":true,\"transition\":{\"duration\":0,\"easing\":\"linear\"}}],\"label\":\"2004\",\"method\":\"animate\"},{\"args\":[[\"2005\"],{\"frame\":{\"duration\":0,\"redraw\":true},\"mode\":\"immediate\",\"fromcurrent\":true,\"transition\":{\"duration\":0,\"easing\":\"linear\"}}],\"label\":\"2005\",\"method\":\"animate\"},{\"args\":[[\"2006\"],{\"frame\":{\"duration\":0,\"redraw\":true},\"mode\":\"immediate\",\"fromcurrent\":true,\"transition\":{\"duration\":0,\"easing\":\"linear\"}}],\"label\":\"2006\",\"method\":\"animate\"},{\"args\":[[\"2007\"],{\"frame\":{\"duration\":0,\"redraw\":true},\"mode\":\"immediate\",\"fromcurrent\":true,\"transition\":{\"duration\":0,\"easing\":\"linear\"}}],\"label\":\"2007\",\"method\":\"animate\"},{\"args\":[[\"2008\"],{\"frame\":{\"duration\":0,\"redraw\":true},\"mode\":\"immediate\",\"fromcurrent\":true,\"transition\":{\"duration\":0,\"easing\":\"linear\"}}],\"label\":\"2008\",\"method\":\"animate\"},{\"args\":[[\"2009\"],{\"frame\":{\"duration\":0,\"redraw\":true},\"mode\":\"immediate\",\"fromcurrent\":true,\"transition\":{\"duration\":0,\"easing\":\"linear\"}}],\"label\":\"2009\",\"method\":\"animate\"},{\"args\":[[\"2010\"],{\"frame\":{\"duration\":0,\"redraw\":true},\"mode\":\"immediate\",\"fromcurrent\":true,\"transition\":{\"duration\":0,\"easing\":\"linear\"}}],\"label\":\"2010\",\"method\":\"animate\"},{\"args\":[[\"2011\"],{\"frame\":{\"duration\":0,\"redraw\":true},\"mode\":\"immediate\",\"fromcurrent\":true,\"transition\":{\"duration\":0,\"easing\":\"linear\"}}],\"label\":\"2011\",\"method\":\"animate\"},{\"args\":[[\"2012\"],{\"frame\":{\"duration\":0,\"redraw\":true},\"mode\":\"immediate\",\"fromcurrent\":true,\"transition\":{\"duration\":0,\"easing\":\"linear\"}}],\"label\":\"2012\",\"method\":\"animate\"},{\"args\":[[\"2013\"],{\"frame\":{\"duration\":0,\"redraw\":true},\"mode\":\"immediate\",\"fromcurrent\":true,\"transition\":{\"duration\":0,\"easing\":\"linear\"}}],\"label\":\"2013\",\"method\":\"animate\"}],\"x\":0.1,\"xanchor\":\"left\",\"y\":0,\"yanchor\":\"top\"}],\"showlegend\":false},                        {\"responsive\": true}                    ).then(function(){\n                            Plotly.addFrames('65e24282-9a27-4653-9831-ab23c5a68325', [{\"data\":[{\"alignmentgroup\":\"True\",\"hovertemplate\":\"Countries=%{y}\\u003cbr\\u003eYear=1990\\u003cbr\\u003eImportVolume=%{x}\\u003cextra\\u003e\\u003c\\u002fextra\\u003e\",\"legendgroup\":\"USA\",\"marker\":{\"color\":\"#636efa\",\"pattern\":{\"shape\":\"\"}},\"name\":\"USA\",\"offsetgroup\":\"USA\",\"orientation\":\"h\",\"showlegend\":true,\"textposition\":\"auto\",\"x\":[18297.6180013],\"xaxis\":\"x\",\"y\":[\"USA\"],\"yaxis\":\"y\",\"type\":\"bar\"},{\"alignmentgroup\":\"True\",\"hovertemplate\":\"Countries=%{y}\\u003cbr\\u003eYear=1990\\u003cbr\\u003eImportVolume=%{x}\\u003cextra\\u003e\\u003c\\u002fextra\\u003e\",\"legendgroup\":\"   Germany\",\"marker\":{\"color\":\"#EF553B\",\"pattern\":{\"shape\":\"\"}},\"name\":\"   Germany\",\"offsetgroup\":\"   Germany\",\"orientation\":\"h\",\"showlegend\":true,\"textposition\":\"auto\",\"x\":[7279.2569607],\"xaxis\":\"x\",\"y\":[\"   Germany\"],\"yaxis\":\"y\",\"type\":\"bar\"},{\"alignmentgroup\":\"True\",\"hovertemplate\":\"Countries=%{y}\\u003cbr\\u003eYear=1990\\u003cbr\\u003eImportVolume=%{x}\\u003cextra\\u003e\\u003c\\u002fextra\\u003e\",\"legendgroup\":\"   France\",\"marker\":{\"color\":\"#00cc96\",\"pattern\":{\"shape\":\"\"}},\"name\":\"   France\",\"offsetgroup\":\"   France\",\"orientation\":\"h\",\"showlegend\":true,\"textposition\":\"auto\",\"x\":[5205.1723628],\"xaxis\":\"x\",\"y\":[\"   France\"],\"yaxis\":\"y\",\"type\":\"bar\"},{\"alignmentgroup\":\"True\",\"hovertemplate\":\"Countries=%{y}\\u003cbr\\u003eYear=1990\\u003cbr\\u003eImportVolume=%{x}\\u003cextra\\u003e\\u003c\\u002fextra\\u003e\",\"legendgroup\":\"Japan\",\"marker\":{\"color\":\"#ab63fa\",\"pattern\":{\"shape\":\"\"}},\"name\":\"Japan\",\"offsetgroup\":\"Japan\",\"orientation\":\"h\",\"showlegend\":true,\"textposition\":\"auto\",\"x\":[5059.8480044],\"xaxis\":\"x\",\"y\":[\"Japan\"],\"yaxis\":\"y\",\"type\":\"bar\"},{\"alignmentgroup\":\"True\",\"hovertemplate\":\"Countries=%{y}\\u003cbr\\u003eYear=1990\\u003cbr\\u003eImportVolume=%{x}\\u003cextra\\u003e\\u003c\\u002fextra\\u003e\",\"legendgroup\":\"   Italy\",\"marker\":{\"color\":\"#FFA15A\",\"pattern\":{\"shape\":\"\"}},\"name\":\"   Italy\",\"offsetgroup\":\"   Italy\",\"orientation\":\"h\",\"showlegend\":true,\"textposition\":\"auto\",\"x\":[4832.2939865],\"xaxis\":\"x\",\"y\":[\"   Italy\"],\"yaxis\":\"y\",\"type\":\"bar\"}],\"name\":\"1990\"},{\"data\":[{\"alignmentgroup\":\"True\",\"hovertemplate\":\"Countries=%{y}\\u003cbr\\u003eYear=1991\\u003cbr\\u003eImportVolume=%{x}\\u003cextra\\u003e\\u003c\\u002fextra\\u003e\",\"legendgroup\":\"USA\",\"marker\":{\"color\":\"#636efa\",\"pattern\":{\"shape\":\"\"}},\"name\":\"USA\",\"offsetgroup\":\"USA\",\"orientation\":\"h\",\"showlegend\":true,\"textposition\":\"auto\",\"x\":[18661.1800011],\"xaxis\":\"x\",\"y\":[\"USA\"],\"yaxis\":\"y\",\"type\":\"bar\"},{\"alignmentgroup\":\"True\",\"hovertemplate\":\"Countries=%{y}\\u003cbr\\u003eYear=1991\\u003cbr\\u003eImportVolume=%{x}\\u003cextra\\u003e\\u003c\\u002fextra\\u003e\",\"legendgroup\":\"   Germany\",\"marker\":{\"color\":\"#EF553B\",\"pattern\":{\"shape\":\"\"}},\"name\":\"   Germany\",\"offsetgroup\":\"   Germany\",\"orientation\":\"h\",\"showlegend\":true,\"textposition\":\"auto\",\"x\":[12377.2159494],\"xaxis\":\"x\",\"y\":[\"   Germany\"],\"yaxis\":\"y\",\"type\":\"bar\"},{\"alignmentgroup\":\"True\",\"hovertemplate\":\"Countries=%{y}\\u003cbr\\u003eYear=1991\\u003cbr\\u003eImportVolume=%{x}\\u003cextra\\u003e\\u003c\\u002fextra\\u003e\",\"legendgroup\":\"   France\",\"marker\":{\"color\":\"#00cc96\",\"pattern\":{\"shape\":\"\"}},\"name\":\"   France\",\"offsetgroup\":\"   France\",\"orientation\":\"h\",\"showlegend\":true,\"textposition\":\"auto\",\"x\":[5556.9880327],\"xaxis\":\"x\",\"y\":[\"   France\"],\"yaxis\":\"y\",\"type\":\"bar\"},{\"alignmentgroup\":\"True\",\"hovertemplate\":\"Countries=%{y}\\u003cbr\\u003eYear=1991\\u003cbr\\u003eImportVolume=%{x}\\u003cextra\\u003e\\u003c\\u002fextra\\u003e\",\"legendgroup\":\"Japan\",\"marker\":{\"color\":\"#ab63fa\",\"pattern\":{\"shape\":\"\"}},\"name\":\"Japan\",\"offsetgroup\":\"Japan\",\"orientation\":\"h\",\"showlegend\":true,\"textposition\":\"auto\",\"x\":[5808.9740021],\"xaxis\":\"x\",\"y\":[\"Japan\"],\"yaxis\":\"y\",\"type\":\"bar\"},{\"alignmentgroup\":\"True\",\"hovertemplate\":\"Countries=%{y}\\u003cbr\\u003eYear=1991\\u003cbr\\u003eImportVolume=%{x}\\u003cextra\\u003e\\u003c\\u002fextra\\u003e\",\"legendgroup\":\"   Italy\",\"marker\":{\"color\":\"#FFA15A\",\"pattern\":{\"shape\":\"\"}},\"name\":\"   Italy\",\"offsetgroup\":\"   Italy\",\"orientation\":\"h\",\"showlegend\":true,\"textposition\":\"auto\",\"x\":[4254.0399839],\"xaxis\":\"x\",\"y\":[\"   Italy\"],\"yaxis\":\"y\",\"type\":\"bar\"}],\"name\":\"1991\"},{\"data\":[{\"alignmentgroup\":\"True\",\"hovertemplate\":\"Countries=%{y}\\u003cbr\\u003eYear=1992\\u003cbr\\u003eImportVolume=%{x}\\u003cextra\\u003e\\u003c\\u002fextra\\u003e\",\"legendgroup\":\"USA\",\"marker\":{\"color\":\"#636efa\",\"pattern\":{\"shape\":\"\"}},\"name\":\"USA\",\"offsetgroup\":\"USA\",\"orientation\":\"h\",\"showlegend\":true,\"textposition\":\"auto\",\"x\":[18290.4529958],\"xaxis\":\"x\",\"y\":[\"USA\"],\"yaxis\":\"y\",\"type\":\"bar\"},{\"alignmentgroup\":\"True\",\"hovertemplate\":\"Countries=%{y}\\u003cbr\\u003eYear=1992\\u003cbr\\u003eImportVolume=%{x}\\u003cextra\\u003e\\u003c\\u002fextra\\u003e\",\"legendgroup\":\"   Germany\",\"marker\":{\"color\":\"#EF553B\",\"pattern\":{\"shape\":\"\"}},\"name\":\"   Germany\",\"offsetgroup\":\"   Germany\",\"orientation\":\"h\",\"showlegend\":true,\"textposition\":\"auto\",\"x\":[9570.4019513],\"xaxis\":\"x\",\"y\":[\"   Germany\"],\"yaxis\":\"y\",\"type\":\"bar\"},{\"alignmentgroup\":\"True\",\"hovertemplate\":\"Countries=%{y}\\u003cbr\\u003eYear=1992\\u003cbr\\u003eImportVolume=%{x}\\u003cextra\\u003e\\u003c\\u002fextra\\u003e\",\"legendgroup\":\"   France\",\"marker\":{\"color\":\"#00cc96\",\"pattern\":{\"shape\":\"\"}},\"name\":\"   France\",\"offsetgroup\":\"   France\",\"orientation\":\"h\",\"showlegend\":true,\"textposition\":\"auto\",\"x\":[5614.4526969],\"xaxis\":\"x\",\"y\":[\"   France\"],\"yaxis\":\"y\",\"type\":\"bar\"},{\"alignmentgroup\":\"True\",\"hovertemplate\":\"Countries=%{y}\\u003cbr\\u003eYear=1992\\u003cbr\\u003eImportVolume=%{x}\\u003cextra\\u003e\\u003c\\u002fextra\\u003e\",\"legendgroup\":\"Japan\",\"marker\":{\"color\":\"#ab63fa\",\"pattern\":{\"shape\":\"\"}},\"name\":\"Japan\",\"offsetgroup\":\"Japan\",\"orientation\":\"h\",\"showlegend\":true,\"textposition\":\"auto\",\"x\":[5132.4319982],\"xaxis\":\"x\",\"y\":[\"Japan\"],\"yaxis\":\"y\",\"type\":\"bar\"},{\"alignmentgroup\":\"True\",\"hovertemplate\":\"Countries=%{y}\\u003cbr\\u003eYear=1992\\u003cbr\\u003eImportVolume=%{x}\\u003cextra\\u003e\\u003c\\u002fextra\\u003e\",\"legendgroup\":\"   Italy\",\"marker\":{\"color\":\"#FFA15A\",\"pattern\":{\"shape\":\"\"}},\"name\":\"   Italy\",\"offsetgroup\":\"   Italy\",\"orientation\":\"h\",\"showlegend\":true,\"textposition\":\"auto\",\"x\":[4132.135981],\"xaxis\":\"x\",\"y\":[\"   Italy\"],\"yaxis\":\"y\",\"type\":\"bar\"}],\"name\":\"1992\"},{\"data\":[{\"alignmentgroup\":\"True\",\"hovertemplate\":\"Countries=%{y}\\u003cbr\\u003eYear=1993\\u003cbr\\u003eImportVolume=%{x}\\u003cextra\\u003e\\u003c\\u002fextra\\u003e\",\"legendgroup\":\"USA\",\"marker\":{\"color\":\"#636efa\",\"pattern\":{\"shape\":\"\"}},\"name\":\"USA\",\"offsetgroup\":\"USA\",\"orientation\":\"h\",\"showlegend\":true,\"textposition\":\"auto\",\"x\":[19217.136997],\"xaxis\":\"x\",\"y\":[\"USA\"],\"yaxis\":\"y\",\"type\":\"bar\"},{\"alignmentgroup\":\"True\",\"hovertemplate\":\"Countries=%{y}\\u003cbr\\u003eYear=1993\\u003cbr\\u003eImportVolume=%{x}\\u003cextra\\u003e\\u003c\\u002fextra\\u003e\",\"legendgroup\":\"   Germany\",\"marker\":{\"color\":\"#EF553B\",\"pattern\":{\"shape\":\"\"}},\"name\":\"   Germany\",\"offsetgroup\":\"   Germany\",\"orientation\":\"h\",\"showlegend\":true,\"textposition\":\"auto\",\"x\":[11324.7329411],\"xaxis\":\"x\",\"y\":[\"   Germany\"],\"yaxis\":\"y\",\"type\":\"bar\"},{\"alignmentgroup\":\"True\",\"hovertemplate\":\"Countries=%{y}\\u003cbr\\u003eYear=1993\\u003cbr\\u003eImportVolume=%{x}\\u003cextra\\u003e\\u003c\\u002fextra\\u003e\",\"legendgroup\":\"   France\",\"marker\":{\"color\":\"#00cc96\",\"pattern\":{\"shape\":\"\"}},\"name\":\"   France\",\"offsetgroup\":\"   France\",\"orientation\":\"h\",\"showlegend\":true,\"textposition\":\"auto\",\"x\":[5506.7800365],\"xaxis\":\"x\",\"y\":[\"   France\"],\"yaxis\":\"y\",\"type\":\"bar\"},{\"alignmentgroup\":\"True\",\"hovertemplate\":\"Countries=%{y}\\u003cbr\\u003eYear=1993\\u003cbr\\u003eImportVolume=%{x}\\u003cextra\\u003e\\u003c\\u002fextra\\u003e\",\"legendgroup\":\"Japan\",\"marker\":{\"color\":\"#ab63fa\",\"pattern\":{\"shape\":\"\"}},\"name\":\"Japan\",\"offsetgroup\":\"Japan\",\"orientation\":\"h\",\"showlegend\":true,\"textposition\":\"auto\",\"x\":[5739.8360051],\"xaxis\":\"x\",\"y\":[\"Japan\"],\"yaxis\":\"y\",\"type\":\"bar\"},{\"alignmentgroup\":\"True\",\"hovertemplate\":\"Countries=%{y}\\u003cbr\\u003eYear=1993\\u003cbr\\u003eImportVolume=%{x}\\u003cextra\\u003e\\u003c\\u002fextra\\u003e\",\"legendgroup\":\"   Italy\",\"marker\":{\"color\":\"#FFA15A\",\"pattern\":{\"shape\":\"\"}},\"name\":\"   Italy\",\"offsetgroup\":\"   Italy\",\"orientation\":\"h\",\"showlegend\":true,\"textposition\":\"auto\",\"x\":[4888.2629783],\"xaxis\":\"x\",\"y\":[\"   Italy\"],\"yaxis\":\"y\",\"type\":\"bar\"}],\"name\":\"1993\"},{\"data\":[{\"alignmentgroup\":\"True\",\"hovertemplate\":\"Countries=%{y}\\u003cbr\\u003eYear=1994\\u003cbr\\u003eImportVolume=%{x}\\u003cextra\\u003e\\u003c\\u002fextra\\u003e\",\"legendgroup\":\"USA\",\"marker\":{\"color\":\"#636efa\",\"pattern\":{\"shape\":\"\"}},\"name\":\"USA\",\"offsetgroup\":\"USA\",\"orientation\":\"h\",\"showlegend\":true,\"textposition\":\"auto\",\"x\":[17326.1039936],\"xaxis\":\"x\",\"y\":[\"USA\"],\"yaxis\":\"y\",\"type\":\"bar\"},{\"alignmentgroup\":\"True\",\"hovertemplate\":\"Countries=%{y}\\u003cbr\\u003eYear=1994\\u003cbr\\u003eImportVolume=%{x}\\u003cextra\\u003e\\u003c\\u002fextra\\u003e\",\"legendgroup\":\"   Germany\",\"marker\":{\"color\":\"#EF553B\",\"pattern\":{\"shape\":\"\"}},\"name\":\"   Germany\",\"offsetgroup\":\"   Germany\",\"orientation\":\"h\",\"showlegend\":true,\"textposition\":\"auto\",\"x\":[8213.9449418],\"xaxis\":\"x\",\"y\":[\"   Germany\"],\"yaxis\":\"y\",\"type\":\"bar\"},{\"alignmentgroup\":\"True\",\"hovertemplate\":\"Countries=%{y}\\u003cbr\\u003eYear=1994\\u003cbr\\u003eImportVolume=%{x}\\u003cextra\\u003e\\u003c\\u002fextra\\u003e\",\"legendgroup\":\"   France\",\"marker\":{\"color\":\"#00cc96\",\"pattern\":{\"shape\":\"\"}},\"name\":\"   France\",\"offsetgroup\":\"   France\",\"orientation\":\"h\",\"showlegend\":true,\"textposition\":\"auto\",\"x\":[5110.8720375],\"xaxis\":\"x\",\"y\":[\"   France\"],\"yaxis\":\"y\",\"type\":\"bar\"},{\"alignmentgroup\":\"True\",\"hovertemplate\":\"Countries=%{y}\\u003cbr\\u003eYear=1994\\u003cbr\\u003eImportVolume=%{x}\\u003cextra\\u003e\\u003c\\u002fextra\\u003e\",\"legendgroup\":\"Japan\",\"marker\":{\"color\":\"#ab63fa\",\"pattern\":{\"shape\":\"\"}},\"name\":\"Japan\",\"offsetgroup\":\"Japan\",\"orientation\":\"h\",\"showlegend\":true,\"textposition\":\"auto\",\"x\":[5973.0320057],\"xaxis\":\"x\",\"y\":[\"Japan\"],\"yaxis\":\"y\",\"type\":\"bar\"},{\"alignmentgroup\":\"True\",\"hovertemplate\":\"Countries=%{y}\\u003cbr\\u003eYear=1994\\u003cbr\\u003eImportVolume=%{x}\\u003cextra\\u003e\\u003c\\u002fextra\\u003e\",\"legendgroup\":\"   Italy\",\"marker\":{\"color\":\"#FFA15A\",\"pattern\":{\"shape\":\"\"}},\"name\":\"   Italy\",\"offsetgroup\":\"   Italy\",\"orientation\":\"h\",\"showlegend\":true,\"textposition\":\"auto\",\"x\":[4773.6299741],\"xaxis\":\"x\",\"y\":[\"   Italy\"],\"yaxis\":\"y\",\"type\":\"bar\"}],\"name\":\"1994\"},{\"data\":[{\"alignmentgroup\":\"True\",\"hovertemplate\":\"Countries=%{y}\\u003cbr\\u003eYear=1995\\u003cbr\\u003eImportVolume=%{x}\\u003cextra\\u003e\\u003c\\u002fextra\\u003e\",\"legendgroup\":\"USA\",\"marker\":{\"color\":\"#636efa\",\"pattern\":{\"shape\":\"\"}},\"name\":\"USA\",\"offsetgroup\":\"USA\",\"orientation\":\"h\",\"showlegend\":true,\"textposition\":\"auto\",\"x\":[17362.8709859],\"xaxis\":\"x\",\"y\":[\"USA\"],\"yaxis\":\"y\",\"type\":\"bar\"},{\"alignmentgroup\":\"True\",\"hovertemplate\":\"Countries=%{y}\\u003cbr\\u003eYear=1995\\u003cbr\\u003eImportVolume=%{x}\\u003cextra\\u003e\\u003c\\u002fextra\\u003e\",\"legendgroup\":\"   Germany\",\"marker\":{\"color\":\"#EF553B\",\"pattern\":{\"shape\":\"\"}},\"name\":\"   Germany\",\"offsetgroup\":\"   Germany\",\"orientation\":\"h\",\"showlegend\":true,\"textposition\":\"auto\",\"x\":[11231.4509512],\"xaxis\":\"x\",\"y\":[\"   Germany\"],\"yaxis\":\"y\",\"type\":\"bar\"},{\"alignmentgroup\":\"True\",\"hovertemplate\":\"Countries=%{y}\\u003cbr\\u003eYear=1995\\u003cbr\\u003eImportVolume=%{x}\\u003cextra\\u003e\\u003c\\u002fextra\\u003e\",\"legendgroup\":\"   France\",\"marker\":{\"color\":\"#00cc96\",\"pattern\":{\"shape\":\"\"}},\"name\":\"   France\",\"offsetgroup\":\"   France\",\"orientation\":\"h\",\"showlegend\":true,\"textposition\":\"auto\",\"x\":[5312.6817079],\"xaxis\":\"x\",\"y\":[\"   France\"],\"yaxis\":\"y\",\"type\":\"bar\"},{\"alignmentgroup\":\"True\",\"hovertemplate\":\"Countries=%{y}\\u003cbr\\u003eYear=1995\\u003cbr\\u003eImportVolume=%{x}\\u003cextra\\u003e\\u003c\\u002fextra\\u003e\",\"legendgroup\":\"Japan\",\"marker\":{\"color\":\"#ab63fa\",\"pattern\":{\"shape\":\"\"}},\"name\":\"Japan\",\"offsetgroup\":\"Japan\",\"orientation\":\"h\",\"showlegend\":true,\"textposition\":\"auto\",\"x\":[6116.0080055],\"xaxis\":\"x\",\"y\":[\"Japan\"],\"yaxis\":\"y\",\"type\":\"bar\"},{\"alignmentgroup\":\"True\",\"hovertemplate\":\"Countries=%{y}\\u003cbr\\u003eYear=1995\\u003cbr\\u003eImportVolume=%{x}\\u003cextra\\u003e\\u003c\\u002fextra\\u003e\",\"legendgroup\":\"   Italy\",\"marker\":{\"color\":\"#FFA15A\",\"pattern\":{\"shape\":\"\"}},\"name\":\"   Italy\",\"offsetgroup\":\"   Italy\",\"orientation\":\"h\",\"showlegend\":true,\"textposition\":\"auto\",\"x\":[4644.3589748],\"xaxis\":\"x\",\"y\":[\"   Italy\"],\"yaxis\":\"y\",\"type\":\"bar\"}],\"name\":\"1995\"},{\"data\":[{\"alignmentgroup\":\"True\",\"hovertemplate\":\"Countries=%{y}\\u003cbr\\u003eYear=1996\\u003cbr\\u003eImportVolume=%{x}\\u003cextra\\u003e\\u003c\\u002fextra\\u003e\",\"legendgroup\":\"USA\",\"marker\":{\"color\":\"#636efa\",\"pattern\":{\"shape\":\"\"}},\"name\":\"USA\",\"offsetgroup\":\"USA\",\"orientation\":\"h\",\"showlegend\":true,\"textposition\":\"auto\",\"x\":[18059.0007895],\"xaxis\":\"x\",\"y\":[\"USA\"],\"yaxis\":\"y\",\"type\":\"bar\"},{\"alignmentgroup\":\"True\",\"hovertemplate\":\"Countries=%{y}\\u003cbr\\u003eYear=1996\\u003cbr\\u003eImportVolume=%{x}\\u003cextra\\u003e\\u003c\\u002fextra\\u003e\",\"legendgroup\":\"   Germany\",\"marker\":{\"color\":\"#EF553B\",\"pattern\":{\"shape\":\"\"}},\"name\":\"   Germany\",\"offsetgroup\":\"   Germany\",\"orientation\":\"h\",\"showlegend\":true,\"textposition\":\"auto\",\"x\":[10593.6863453],\"xaxis\":\"x\",\"y\":[\"   Germany\"],\"yaxis\":\"y\",\"type\":\"bar\"},{\"alignmentgroup\":\"True\",\"hovertemplate\":\"Countries=%{y}\\u003cbr\\u003eYear=1996\\u003cbr\\u003eImportVolume=%{x}\\u003cextra\\u003e\\u003c\\u002fextra\\u003e\",\"legendgroup\":\"   France\",\"marker\":{\"color\":\"#00cc96\",\"pattern\":{\"shape\":\"\"}},\"name\":\"   France\",\"offsetgroup\":\"   France\",\"orientation\":\"h\",\"showlegend\":true,\"textposition\":\"auto\",\"x\":[5512.4060067],\"xaxis\":\"x\",\"y\":[\"   France\"],\"yaxis\":\"y\",\"type\":\"bar\"},{\"alignmentgroup\":\"True\",\"hovertemplate\":\"Countries=%{y}\\u003cbr\\u003eYear=1996\\u003cbr\\u003eImportVolume=%{x}\\u003cextra\\u003e\\u003c\\u002fextra\\u003e\",\"legendgroup\":\"Japan\",\"marker\":{\"color\":\"#ab63fa\",\"pattern\":{\"shape\":\"\"}},\"name\":\"Japan\",\"offsetgroup\":\"Japan\",\"orientation\":\"h\",\"showlegend\":true,\"textposition\":\"auto\",\"x\":[5837.9470044],\"xaxis\":\"x\",\"y\":[\"Japan\"],\"yaxis\":\"y\",\"type\":\"bar\"},{\"alignmentgroup\":\"True\",\"hovertemplate\":\"Countries=%{y}\\u003cbr\\u003eYear=1996\\u003cbr\\u003eImportVolume=%{x}\\u003cextra\\u003e\\u003c\\u002fextra\\u003e\",\"legendgroup\":\"   Italy\",\"marker\":{\"color\":\"#FFA15A\",\"pattern\":{\"shape\":\"\"}},\"name\":\"   Italy\",\"offsetgroup\":\"   Italy\",\"orientation\":\"h\",\"showlegend\":true,\"textposition\":\"auto\",\"x\":[4775.9144728],\"xaxis\":\"x\",\"y\":[\"   Italy\"],\"yaxis\":\"y\",\"type\":\"bar\"}],\"name\":\"1996\"},{\"data\":[{\"alignmentgroup\":\"True\",\"hovertemplate\":\"Countries=%{y}\\u003cbr\\u003eYear=1997\\u003cbr\\u003eImportVolume=%{x}\\u003cextra\\u003e\\u003c\\u002fextra\\u003e\",\"legendgroup\":\"USA\",\"marker\":{\"color\":\"#636efa\",\"pattern\":{\"shape\":\"\"}},\"name\":\"USA\",\"offsetgroup\":\"USA\",\"orientation\":\"h\",\"showlegend\":true,\"textposition\":\"auto\",\"x\":[17795.4481947],\"xaxis\":\"x\",\"y\":[\"USA\"],\"yaxis\":\"y\",\"type\":\"bar\"},{\"alignmentgroup\":\"True\",\"hovertemplate\":\"Countries=%{y}\\u003cbr\\u003eYear=1997\\u003cbr\\u003eImportVolume=%{x}\\u003cextra\\u003e\\u003c\\u002fextra\\u003e\",\"legendgroup\":\"   Germany\",\"marker\":{\"color\":\"#EF553B\",\"pattern\":{\"shape\":\"\"}},\"name\":\"   Germany\",\"offsetgroup\":\"   Germany\",\"orientation\":\"h\",\"showlegend\":true,\"textposition\":\"auto\",\"x\":[9670.0681574],\"xaxis\":\"x\",\"y\":[\"   Germany\"],\"yaxis\":\"y\",\"type\":\"bar\"},{\"alignmentgroup\":\"True\",\"hovertemplate\":\"Countries=%{y}\\u003cbr\\u003eYear=1997\\u003cbr\\u003eImportVolume=%{x}\\u003cextra\\u003e\\u003c\\u002fextra\\u003e\",\"legendgroup\":\"   France\",\"marker\":{\"color\":\"#00cc96\",\"pattern\":{\"shape\":\"\"}},\"name\":\"   France\",\"offsetgroup\":\"   France\",\"orientation\":\"h\",\"showlegend\":true,\"textposition\":\"auto\",\"x\":[5486.9108464],\"xaxis\":\"x\",\"y\":[\"   France\"],\"yaxis\":\"y\",\"type\":\"bar\"},{\"alignmentgroup\":\"True\",\"hovertemplate\":\"Countries=%{y}\\u003cbr\\u003eYear=1997\\u003cbr\\u003eImportVolume=%{x}\\u003cextra\\u003e\\u003c\\u002fextra\\u003e\",\"legendgroup\":\"Japan\",\"marker\":{\"color\":\"#ab63fa\",\"pattern\":{\"shape\":\"\"}},\"name\":\"Japan\",\"offsetgroup\":\"Japan\",\"orientation\":\"h\",\"showlegend\":true,\"textposition\":\"auto\",\"x\":[5968.1690001],\"xaxis\":\"x\",\"y\":[\"Japan\"],\"yaxis\":\"y\",\"type\":\"bar\"},{\"alignmentgroup\":\"True\",\"hovertemplate\":\"Countries=%{y}\\u003cbr\\u003eYear=1997\\u003cbr\\u003eImportVolume=%{x}\\u003cextra\\u003e\\u003c\\u002fextra\\u003e\",\"legendgroup\":\"   Italy\",\"marker\":{\"color\":\"#FFA15A\",\"pattern\":{\"shape\":\"\"}},\"name\":\"   Italy\",\"offsetgroup\":\"   Italy\",\"orientation\":\"h\",\"showlegend\":true,\"textposition\":\"auto\",\"x\":[4912.9190786],\"xaxis\":\"x\",\"y\":[\"   Italy\"],\"yaxis\":\"y\",\"type\":\"bar\"}],\"name\":\"1997\"},{\"data\":[{\"alignmentgroup\":\"True\",\"hovertemplate\":\"Countries=%{y}\\u003cbr\\u003eYear=1998\\u003cbr\\u003eImportVolume=%{x}\\u003cextra\\u003e\\u003c\\u002fextra\\u003e\",\"legendgroup\":\"USA\",\"marker\":{\"color\":\"#636efa\",\"pattern\":{\"shape\":\"\"}},\"name\":\"USA\",\"offsetgroup\":\"USA\",\"orientation\":\"h\",\"showlegend\":true,\"textposition\":\"auto\",\"x\":[18603.7986929],\"xaxis\":\"x\",\"y\":[\"USA\"],\"yaxis\":\"y\",\"type\":\"bar\"},{\"alignmentgroup\":\"True\",\"hovertemplate\":\"Countries=%{y}\\u003cbr\\u003eYear=1998\\u003cbr\\u003eImportVolume=%{x}\\u003cextra\\u003e\\u003c\\u002fextra\\u003e\",\"legendgroup\":\"   Germany\",\"marker\":{\"color\":\"#EF553B\",\"pattern\":{\"shape\":\"\"}},\"name\":\"   Germany\",\"offsetgroup\":\"   Germany\",\"orientation\":\"h\",\"showlegend\":true,\"textposition\":\"auto\",\"x\":[9976.1655597],\"xaxis\":\"x\",\"y\":[\"   Germany\"],\"yaxis\":\"y\",\"type\":\"bar\"},{\"alignmentgroup\":\"True\",\"hovertemplate\":\"Countries=%{y}\\u003cbr\\u003eYear=1998\\u003cbr\\u003eImportVolume=%{x}\\u003cextra\\u003e\\u003c\\u002fextra\\u003e\",\"legendgroup\":\"   France\",\"marker\":{\"color\":\"#00cc96\",\"pattern\":{\"shape\":\"\"}},\"name\":\"   France\",\"offsetgroup\":\"   France\",\"orientation\":\"h\",\"showlegend\":true,\"textposition\":\"auto\",\"x\":[5350.6906081],\"xaxis\":\"x\",\"y\":[\"   France\"],\"yaxis\":\"y\",\"type\":\"bar\"},{\"alignmentgroup\":\"True\",\"hovertemplate\":\"Countries=%{y}\\u003cbr\\u003eYear=1998\\u003cbr\\u003eImportVolume=%{x}\\u003cextra\\u003e\\u003c\\u002fextra\\u003e\",\"legendgroup\":\"Japan\",\"marker\":{\"color\":\"#ab63fa\",\"pattern\":{\"shape\":\"\"}},\"name\":\"Japan\",\"offsetgroup\":\"Japan\",\"orientation\":\"h\",\"showlegend\":true,\"textposition\":\"auto\",\"x\":[6051.9450025],\"xaxis\":\"x\",\"y\":[\"Japan\"],\"yaxis\":\"y\",\"type\":\"bar\"},{\"alignmentgroup\":\"True\",\"hovertemplate\":\"Countries=%{y}\\u003cbr\\u003eYear=1998\\u003cbr\\u003eImportVolume=%{x}\\u003cextra\\u003e\\u003c\\u002fextra\\u003e\",\"legendgroup\":\"   Italy\",\"marker\":{\"color\":\"#FFA15A\",\"pattern\":{\"shape\":\"\"}},\"name\":\"   Italy\",\"offsetgroup\":\"   Italy\",\"orientation\":\"h\",\"showlegend\":true,\"textposition\":\"auto\",\"x\":[4935.9363713],\"xaxis\":\"x\",\"y\":[\"   Italy\"],\"yaxis\":\"y\",\"type\":\"bar\"}],\"name\":\"1998\"},{\"data\":[{\"alignmentgroup\":\"True\",\"hovertemplate\":\"Countries=%{y}\\u003cbr\\u003eYear=1999\\u003cbr\\u003eImportVolume=%{x}\\u003cextra\\u003e\\u003c\\u002fextra\\u003e\",\"legendgroup\":\"USA\",\"marker\":{\"color\":\"#636efa\",\"pattern\":{\"shape\":\"\"}},\"name\":\"USA\",\"offsetgroup\":\"USA\",\"orientation\":\"h\",\"showlegend\":true,\"textposition\":\"auto\",\"x\":[19359.4276931],\"xaxis\":\"x\",\"y\":[\"USA\"],\"yaxis\":\"y\",\"type\":\"bar\"},{\"alignmentgroup\":\"True\",\"hovertemplate\":\"Countries=%{y}\\u003cbr\\u003eYear=1999\\u003cbr\\u003eImportVolume=%{x}\\u003cextra\\u003e\\u003c\\u002fextra\\u003e\",\"legendgroup\":\"   Germany\",\"marker\":{\"color\":\"#EF553B\",\"pattern\":{\"shape\":\"\"}},\"name\":\"   Germany\",\"offsetgroup\":\"   Germany\",\"orientation\":\"h\",\"showlegend\":true,\"textposition\":\"auto\",\"x\":[9748.0071601],\"xaxis\":\"x\",\"y\":[\"   Germany\"],\"yaxis\":\"y\",\"type\":\"bar\"},{\"alignmentgroup\":\"True\",\"hovertemplate\":\"Countries=%{y}\\u003cbr\\u003eYear=1999\\u003cbr\\u003eImportVolume=%{x}\\u003cextra\\u003e\\u003c\\u002fextra\\u003e\",\"legendgroup\":\"   France\",\"marker\":{\"color\":\"#00cc96\",\"pattern\":{\"shape\":\"\"}},\"name\":\"   France\",\"offsetgroup\":\"   France\",\"orientation\":\"h\",\"showlegend\":true,\"textposition\":\"auto\",\"x\":[5578.4365123],\"xaxis\":\"x\",\"y\":[\"   France\"],\"yaxis\":\"y\",\"type\":\"bar\"},{\"alignmentgroup\":\"True\",\"hovertemplate\":\"Countries=%{y}\\u003cbr\\u003eYear=1999\\u003cbr\\u003eImportVolume=%{x}\\u003cextra\\u003e\\u003c\\u002fextra\\u003e\",\"legendgroup\":\"Japan\",\"marker\":{\"color\":\"#ab63fa\",\"pattern\":{\"shape\":\"\"}},\"name\":\"Japan\",\"offsetgroup\":\"Japan\",\"orientation\":\"h\",\"showlegend\":true,\"textposition\":\"auto\",\"x\":[6272.902],\"xaxis\":\"x\",\"y\":[\"Japan\"],\"yaxis\":\"y\",\"type\":\"bar\"},{\"alignmentgroup\":\"True\",\"hovertemplate\":\"Countries=%{y}\\u003cbr\\u003eYear=1999\\u003cbr\\u003eImportVolume=%{x}\\u003cextra\\u003e\\u003c\\u002fextra\\u003e\",\"legendgroup\":\"   Italy\",\"marker\":{\"color\":\"#FFA15A\",\"pattern\":{\"shape\":\"\"}},\"name\":\"   Italy\",\"offsetgroup\":\"   Italy\",\"orientation\":\"h\",\"showlegend\":true,\"textposition\":\"auto\",\"x\":[4918.6894699],\"xaxis\":\"x\",\"y\":[\"   Italy\"],\"yaxis\":\"y\",\"type\":\"bar\"}],\"name\":\"1999\"},{\"data\":[{\"alignmentgroup\":\"True\",\"hovertemplate\":\"Countries=%{y}\\u003cbr\\u003eYear=2000\\u003cbr\\u003eImportVolume=%{x}\\u003cextra\\u003e\\u003c\\u002fextra\\u003e\",\"legendgroup\":\"USA\",\"marker\":{\"color\":\"#636efa\",\"pattern\":{\"shape\":\"\"}},\"name\":\"USA\",\"offsetgroup\":\"USA\",\"orientation\":\"h\",\"showlegend\":true,\"textposition\":\"auto\",\"x\":[18745.5637179],\"xaxis\":\"x\",\"y\":[\"USA\"],\"yaxis\":\"y\",\"type\":\"bar\"},{\"alignmentgroup\":\"True\",\"hovertemplate\":\"Countries=%{y}\\u003cbr\\u003eYear=2000\\u003cbr\\u003eImportVolume=%{x}\\u003cextra\\u003e\\u003c\\u002fextra\\u003e\",\"legendgroup\":\"   Germany\",\"marker\":{\"color\":\"#EF553B\",\"pattern\":{\"shape\":\"\"}},\"name\":\"   Germany\",\"offsetgroup\":\"   Germany\",\"orientation\":\"h\",\"showlegend\":true,\"textposition\":\"auto\",\"x\":[8769.8806534],\"xaxis\":\"x\",\"y\":[\"   Germany\"],\"yaxis\":\"y\",\"type\":\"bar\"},{\"alignmentgroup\":\"True\",\"hovertemplate\":\"Countries=%{y}\\u003cbr\\u003eYear=2000\\u003cbr\\u003eImportVolume=%{x}\\u003cextra\\u003e\\u003c\\u002fextra\\u003e\",\"legendgroup\":\"   France\",\"marker\":{\"color\":\"#00cc96\",\"pattern\":{\"shape\":\"\"}},\"name\":\"   France\",\"offsetgroup\":\"   France\",\"orientation\":\"h\",\"showlegend\":true,\"textposition\":\"auto\",\"x\":[5402.0806777],\"xaxis\":\"x\",\"y\":[\"   France\"],\"yaxis\":\"y\",\"type\":\"bar\"},{\"alignmentgroup\":\"True\",\"hovertemplate\":\"Countries=%{y}\\u003cbr\\u003eYear=2000\\u003cbr\\u003eImportVolume=%{x}\\u003cextra\\u003e\\u003c\\u002fextra\\u003e\",\"legendgroup\":\"Japan\",\"marker\":{\"color\":\"#ab63fa\",\"pattern\":{\"shape\":\"\"}},\"name\":\"Japan\",\"offsetgroup\":\"Japan\",\"orientation\":\"h\",\"showlegend\":true,\"textposition\":\"auto\",\"x\":[6625.6599099],\"xaxis\":\"x\",\"y\":[\"Japan\"],\"yaxis\":\"y\",\"type\":\"bar\"},{\"alignmentgroup\":\"True\",\"hovertemplate\":\"Countries=%{y}\\u003cbr\\u003eYear=2000\\u003cbr\\u003eImportVolume=%{x}\\u003cextra\\u003e\\u003c\\u002fextra\\u003e\",\"legendgroup\":\"   Italy\",\"marker\":{\"color\":\"#FFA15A\",\"pattern\":{\"shape\":\"\"}},\"name\":\"   Italy\",\"offsetgroup\":\"   Italy\",\"orientation\":\"h\",\"showlegend\":true,\"textposition\":\"auto\",\"x\":[5149.2363464],\"xaxis\":\"x\",\"y\":[\"   Italy\"],\"yaxis\":\"y\",\"type\":\"bar\"}],\"name\":\"2000\"},{\"data\":[{\"alignmentgroup\":\"True\",\"hovertemplate\":\"Countries=%{y}\\u003cbr\\u003eYear=2001\\u003cbr\\u003eImportVolume=%{x}\\u003cextra\\u003e\\u003c\\u002fextra\\u003e\",\"legendgroup\":\"USA\",\"marker\":{\"color\":\"#636efa\",\"pattern\":{\"shape\":\"\"}},\"name\":\"USA\",\"offsetgroup\":\"USA\",\"orientation\":\"h\",\"showlegend\":true,\"textposition\":\"auto\",\"x\":[19553.6538074],\"xaxis\":\"x\",\"y\":[\"USA\"],\"yaxis\":\"y\",\"type\":\"bar\"},{\"alignmentgroup\":\"True\",\"hovertemplate\":\"Countries=%{y}\\u003cbr\\u003eYear=2001\\u003cbr\\u003eImportVolume=%{x}\\u003cextra\\u003e\\u003c\\u002fextra\\u003e\",\"legendgroup\":\"   Germany\",\"marker\":{\"color\":\"#EF553B\",\"pattern\":{\"shape\":\"\"}},\"name\":\"   Germany\",\"offsetgroup\":\"   Germany\",\"orientation\":\"h\",\"showlegend\":true,\"textposition\":\"auto\",\"x\":[9059.3280715],\"xaxis\":\"x\",\"y\":[\"   Germany\"],\"yaxis\":\"y\",\"type\":\"bar\"},{\"alignmentgroup\":\"True\",\"hovertemplate\":\"Countries=%{y}\\u003cbr\\u003eYear=2001\\u003cbr\\u003eImportVolume=%{x}\\u003cextra\\u003e\\u003c\\u002fextra\\u003e\",\"legendgroup\":\"   France\",\"marker\":{\"color\":\"#00cc96\",\"pattern\":{\"shape\":\"\"}},\"name\":\"   France\",\"offsetgroup\":\"   France\",\"orientation\":\"h\",\"showlegend\":true,\"textposition\":\"auto\",\"x\":[5252.8193178],\"xaxis\":\"x\",\"y\":[\"   France\"],\"yaxis\":\"y\",\"type\":\"bar\"},{\"alignmentgroup\":\"True\",\"hovertemplate\":\"Countries=%{y}\\u003cbr\\u003eYear=2001\\u003cbr\\u003eImportVolume=%{x}\\u003cextra\\u003e\\u003c\\u002fextra\\u003e\",\"legendgroup\":\"Japan\",\"marker\":{\"color\":\"#ab63fa\",\"pattern\":{\"shape\":\"\"}},\"name\":\"Japan\",\"offsetgroup\":\"Japan\",\"orientation\":\"h\",\"showlegend\":true,\"textposition\":\"auto\",\"x\":[6935.5949381],\"xaxis\":\"x\",\"y\":[\"Japan\"],\"yaxis\":\"y\",\"type\":\"bar\"},{\"alignmentgroup\":\"True\",\"hovertemplate\":\"Countries=%{y}\\u003cbr\\u003eYear=2001\\u003cbr\\u003eImportVolume=%{x}\\u003cextra\\u003e\\u003c\\u002fextra\\u003e\",\"legendgroup\":\"   Italy\",\"marker\":{\"color\":\"#FFA15A\",\"pattern\":{\"shape\":\"\"}},\"name\":\"   Italy\",\"offsetgroup\":\"   Italy\",\"orientation\":\"h\",\"showlegend\":true,\"textposition\":\"auto\",\"x\":[5243.2770429],\"xaxis\":\"x\",\"y\":[\"   Italy\"],\"yaxis\":\"y\",\"type\":\"bar\"}],\"name\":\"2001\"},{\"data\":[{\"alignmentgroup\":\"True\",\"hovertemplate\":\"Countries=%{y}\\u003cbr\\u003eYear=2002\\u003cbr\\u003eImportVolume=%{x}\\u003cextra\\u003e\\u003c\\u002fextra\\u003e\",\"legendgroup\":\"USA\",\"marker\":{\"color\":\"#636efa\",\"pattern\":{\"shape\":\"\"}},\"name\":\"USA\",\"offsetgroup\":\"USA\",\"orientation\":\"h\",\"showlegend\":true,\"textposition\":\"auto\",\"x\":[19124.5109135],\"xaxis\":\"x\",\"y\":[\"USA\"],\"yaxis\":\"y\",\"type\":\"bar\"},{\"alignmentgroup\":\"True\",\"hovertemplate\":\"Countries=%{y}\\u003cbr\\u003eYear=2002\\u003cbr\\u003eImportVolume=%{x}\\u003cextra\\u003e\\u003c\\u002fextra\\u003e\",\"legendgroup\":\"   Germany\",\"marker\":{\"color\":\"#EF553B\",\"pattern\":{\"shape\":\"\"}},\"name\":\"   Germany\",\"offsetgroup\":\"   Germany\",\"orientation\":\"h\",\"showlegend\":true,\"textposition\":\"auto\",\"x\":[8497.9996819],\"xaxis\":\"x\",\"y\":[\"   Germany\"],\"yaxis\":\"y\",\"type\":\"bar\"},{\"alignmentgroup\":\"True\",\"hovertemplate\":\"Countries=%{y}\\u003cbr\\u003eYear=2002\\u003cbr\\u003eImportVolume=%{x}\\u003cextra\\u003e\\u003c\\u002fextra\\u003e\",\"legendgroup\":\"   France\",\"marker\":{\"color\":\"#00cc96\",\"pattern\":{\"shape\":\"\"}},\"name\":\"   France\",\"offsetgroup\":\"   France\",\"orientation\":\"h\",\"showlegend\":true,\"textposition\":\"auto\",\"x\":[5525.7153235],\"xaxis\":\"x\",\"y\":[\"   France\"],\"yaxis\":\"y\",\"type\":\"bar\"},{\"alignmentgroup\":\"True\",\"hovertemplate\":\"Countries=%{y}\\u003cbr\\u003eYear=2002\\u003cbr\\u003eImportVolume=%{x}\\u003cextra\\u003e\\u003c\\u002fextra\\u003e\",\"legendgroup\":\"Japan\",\"marker\":{\"color\":\"#ab63fa\",\"pattern\":{\"shape\":\"\"}},\"name\":\"Japan\",\"offsetgroup\":\"Japan\",\"orientation\":\"h\",\"showlegend\":true,\"textposition\":\"auto\",\"x\":[6874.6949428],\"xaxis\":\"x\",\"y\":[\"Japan\"],\"yaxis\":\"y\",\"type\":\"bar\"},{\"alignmentgroup\":\"True\",\"hovertemplate\":\"Countries=%{y}\\u003cbr\\u003eYear=2002\\u003cbr\\u003eImportVolume=%{x}\\u003cextra\\u003e\\u003c\\u002fextra\\u003e\",\"legendgroup\":\"   Italy\",\"marker\":{\"color\":\"#FFA15A\",\"pattern\":{\"shape\":\"\"}},\"name\":\"   Italy\",\"offsetgroup\":\"   Italy\",\"orientation\":\"h\",\"showlegend\":true,\"textposition\":\"auto\",\"x\":[5182.2302365],\"xaxis\":\"x\",\"y\":[\"   Italy\"],\"yaxis\":\"y\",\"type\":\"bar\"}],\"name\":\"2002\"},{\"data\":[{\"alignmentgroup\":\"True\",\"hovertemplate\":\"Countries=%{y}\\u003cbr\\u003eYear=2003\\u003cbr\\u003eImportVolume=%{x}\\u003cextra\\u003e\\u003c\\u002fextra\\u003e\",\"legendgroup\":\"USA\",\"marker\":{\"color\":\"#636efa\",\"pattern\":{\"shape\":\"\"}},\"name\":\"USA\",\"offsetgroup\":\"USA\",\"orientation\":\"h\",\"showlegend\":true,\"textposition\":\"auto\",\"x\":[20192.6776434],\"xaxis\":\"x\",\"y\":[\"USA\"],\"yaxis\":\"y\",\"type\":\"bar\"},{\"alignmentgroup\":\"True\",\"hovertemplate\":\"Countries=%{y}\\u003cbr\\u003eYear=2003\\u003cbr\\u003eImportVolume=%{x}\\u003cextra\\u003e\\u003c\\u002fextra\\u003e\",\"legendgroup\":\"   Germany\",\"marker\":{\"color\":\"#EF553B\",\"pattern\":{\"shape\":\"\"}},\"name\":\"   Germany\",\"offsetgroup\":\"   Germany\",\"orientation\":\"h\",\"showlegend\":true,\"textposition\":\"auto\",\"x\":[9498.5987369],\"xaxis\":\"x\",\"y\":[\"   Germany\"],\"yaxis\":\"y\",\"type\":\"bar\"},{\"alignmentgroup\":\"True\",\"hovertemplate\":\"Countries=%{y}\\u003cbr\\u003eYear=2003\\u003cbr\\u003eImportVolume=%{x}\\u003cextra\\u003e\\u003c\\u002fextra\\u003e\",\"legendgroup\":\"   France\",\"marker\":{\"color\":\"#00cc96\",\"pattern\":{\"shape\":\"\"}},\"name\":\"   France\",\"offsetgroup\":\"   France\",\"orientation\":\"h\",\"showlegend\":true,\"textposition\":\"auto\",\"x\":[5393.6799911],\"xaxis\":\"x\",\"y\":[\"   France\"],\"yaxis\":\"y\",\"type\":\"bar\"},{\"alignmentgroup\":\"True\",\"hovertemplate\":\"Countries=%{y}\\u003cbr\\u003eYear=2003\\u003cbr\\u003eImportVolume=%{x}\\u003cextra\\u003e\\u003c\\u002fextra\\u003e\",\"legendgroup\":\"Japan\",\"marker\":{\"color\":\"#ab63fa\",\"pattern\":{\"shape\":\"\"}},\"name\":\"Japan\",\"offsetgroup\":\"Japan\",\"orientation\":\"h\",\"showlegend\":true,\"textposition\":\"auto\",\"x\":[6769.7719493],\"xaxis\":\"x\",\"y\":[\"Japan\"],\"yaxis\":\"y\",\"type\":\"bar\"},{\"alignmentgroup\":\"True\",\"hovertemplate\":\"Countries=%{y}\\u003cbr\\u003eYear=2003\\u003cbr\\u003eImportVolume=%{x}\\u003cextra\\u003e\\u003c\\u002fextra\\u003e\",\"legendgroup\":\"   Italy\",\"marker\":{\"color\":\"#FFA15A\",\"pattern\":{\"shape\":\"\"}},\"name\":\"   Italy\",\"offsetgroup\":\"   Italy\",\"orientation\":\"h\",\"showlegend\":true,\"textposition\":\"auto\",\"x\":[5507.114437],\"xaxis\":\"x\",\"y\":[\"   Italy\"],\"yaxis\":\"y\",\"type\":\"bar\"}],\"name\":\"2003\"},{\"data\":[{\"alignmentgroup\":\"True\",\"hovertemplate\":\"Countries=%{y}\\u003cbr\\u003eYear=2004\\u003cbr\\u003eImportVolume=%{x}\\u003cextra\\u003e\\u003c\\u002fextra\\u003e\",\"legendgroup\":\"USA\",\"marker\":{\"color\":\"#636efa\",\"pattern\":{\"shape\":\"\"}},\"name\":\"USA\",\"offsetgroup\":\"USA\",\"orientation\":\"h\",\"showlegend\":true,\"textposition\":\"auto\",\"x\":[20972.7629194],\"xaxis\":\"x\",\"y\":[\"USA\"],\"yaxis\":\"y\",\"type\":\"bar\"},{\"alignmentgroup\":\"True\",\"hovertemplate\":\"Countries=%{y}\\u003cbr\\u003eYear=2004\\u003cbr\\u003eImportVolume=%{x}\\u003cextra\\u003e\\u003c\\u002fextra\\u003e\",\"legendgroup\":\"   Germany\",\"marker\":{\"color\":\"#EF553B\",\"pattern\":{\"shape\":\"\"}},\"name\":\"   Germany\",\"offsetgroup\":\"   Germany\",\"orientation\":\"h\",\"showlegend\":true,\"textposition\":\"auto\",\"x\":[10444.7078526],\"xaxis\":\"x\",\"y\":[\"   Germany\"],\"yaxis\":\"y\",\"type\":\"bar\"},{\"alignmentgroup\":\"True\",\"hovertemplate\":\"Countries=%{y}\\u003cbr\\u003eYear=2004\\u003cbr\\u003eImportVolume=%{x}\\u003cextra\\u003e\\u003c\\u002fextra\\u003e\",\"legendgroup\":\"   France\",\"marker\":{\"color\":\"#00cc96\",\"pattern\":{\"shape\":\"\"}},\"name\":\"   France\",\"offsetgroup\":\"   France\",\"orientation\":\"h\",\"showlegend\":true,\"textposition\":\"auto\",\"x\":[4929.1171668],\"xaxis\":\"x\",\"y\":[\"   France\"],\"yaxis\":\"y\",\"type\":\"bar\"},{\"alignmentgroup\":\"True\",\"hovertemplate\":\"Countries=%{y}\\u003cbr\\u003eYear=2004\\u003cbr\\u003eImportVolume=%{x}\\u003cextra\\u003e\\u003c\\u002fextra\\u003e\",\"legendgroup\":\"Japan\",\"marker\":{\"color\":\"#ab63fa\",\"pattern\":{\"shape\":\"\"}},\"name\":\"Japan\",\"offsetgroup\":\"Japan\",\"orientation\":\"h\",\"showlegend\":true,\"textposition\":\"auto\",\"x\":[7116.9799495],\"xaxis\":\"x\",\"y\":[\"Japan\"],\"yaxis\":\"y\",\"type\":\"bar\"},{\"alignmentgroup\":\"True\",\"hovertemplate\":\"Countries=%{y}\\u003cbr\\u003eYear=2004\\u003cbr\\u003eImportVolume=%{x}\\u003cextra\\u003e\\u003c\\u002fextra\\u003e\",\"legendgroup\":\"   Italy\",\"marker\":{\"color\":\"#FFA15A\",\"pattern\":{\"shape\":\"\"}},\"name\":\"   Italy\",\"offsetgroup\":\"   Italy\",\"orientation\":\"h\",\"showlegend\":true,\"textposition\":\"auto\",\"x\":[5468.9091357],\"xaxis\":\"x\",\"y\":[\"   Italy\"],\"yaxis\":\"y\",\"type\":\"bar\"}],\"name\":\"2004\"},{\"data\":[{\"alignmentgroup\":\"True\",\"hovertemplate\":\"Countries=%{y}\\u003cbr\\u003eYear=2005\\u003cbr\\u003eImportVolume=%{x}\\u003cextra\\u003e\\u003c\\u002fextra\\u003e\",\"legendgroup\":\"USA\",\"marker\":{\"color\":\"#636efa\",\"pattern\":{\"shape\":\"\"}},\"name\":\"USA\",\"offsetgroup\":\"USA\",\"orientation\":\"h\",\"showlegend\":true,\"textposition\":\"auto\",\"x\":[20997.5440389],\"xaxis\":\"x\",\"y\":[\"USA\"],\"yaxis\":\"y\",\"type\":\"bar\"},{\"alignmentgroup\":\"True\",\"hovertemplate\":\"Countries=%{y}\\u003cbr\\u003eYear=2005\\u003cbr\\u003eImportVolume=%{x}\\u003cextra\\u003e\\u003c\\u002fextra\\u003e\",\"legendgroup\":\"   Germany\",\"marker\":{\"color\":\"#EF553B\",\"pattern\":{\"shape\":\"\"}},\"name\":\"   Germany\",\"offsetgroup\":\"   Germany\",\"orientation\":\"h\",\"showlegend\":true,\"textposition\":\"auto\",\"x\":[8664.5070937],\"xaxis\":\"x\",\"y\":[\"   Germany\"],\"yaxis\":\"y\",\"type\":\"bar\"},{\"alignmentgroup\":\"True\",\"hovertemplate\":\"Countries=%{y}\\u003cbr\\u003eYear=2005\\u003cbr\\u003eImportVolume=%{x}\\u003cextra\\u003e\\u003c\\u002fextra\\u003e\",\"legendgroup\":\"   France\",\"marker\":{\"color\":\"#00cc96\",\"pattern\":{\"shape\":\"\"}},\"name\":\"   France\",\"offsetgroup\":\"   France\",\"orientation\":\"h\",\"showlegend\":true,\"textposition\":\"auto\",\"x\":[4787.3583972],\"xaxis\":\"x\",\"y\":[\"   France\"],\"yaxis\":\"y\",\"type\":\"bar\"},{\"alignmentgroup\":\"True\",\"hovertemplate\":\"Countries=%{y}\\u003cbr\\u003eYear=2005\\u003cbr\\u003eImportVolume=%{x}\\u003cextra\\u003e\\u003c\\u002fextra\\u003e\",\"legendgroup\":\"Japan\",\"marker\":{\"color\":\"#ab63fa\",\"pattern\":{\"shape\":\"\"}},\"name\":\"Japan\",\"offsetgroup\":\"Japan\",\"orientation\":\"h\",\"showlegend\":true,\"textposition\":\"auto\",\"x\":[7127.9509492],\"xaxis\":\"x\",\"y\":[\"Japan\"],\"yaxis\":\"y\",\"type\":\"bar\"},{\"alignmentgroup\":\"True\",\"hovertemplate\":\"Countries=%{y}\\u003cbr\\u003eYear=2005\\u003cbr\\u003eImportVolume=%{x}\\u003cextra\\u003e\\u003c\\u002fextra\\u003e\",\"legendgroup\":\"   Italy\",\"marker\":{\"color\":\"#FFA15A\",\"pattern\":{\"shape\":\"\"}},\"name\":\"   Italy\",\"offsetgroup\":\"   Italy\",\"orientation\":\"h\",\"showlegend\":true,\"textposition\":\"auto\",\"x\":[5551.8268151],\"xaxis\":\"x\",\"y\":[\"   Italy\"],\"yaxis\":\"y\",\"type\":\"bar\"}],\"name\":\"2005\"},{\"data\":[{\"alignmentgroup\":\"True\",\"hovertemplate\":\"Countries=%{y}\\u003cbr\\u003eYear=2006\\u003cbr\\u003eImportVolume=%{x}\\u003cextra\\u003e\\u003c\\u002fextra\\u003e\",\"legendgroup\":\"USA\",\"marker\":{\"color\":\"#636efa\",\"pattern\":{\"shape\":\"\"}},\"name\":\"USA\",\"offsetgroup\":\"USA\",\"orientation\":\"h\",\"showlegend\":true,\"textposition\":\"auto\",\"x\":[20667.3795803],\"xaxis\":\"x\",\"y\":[\"USA\"],\"yaxis\":\"y\",\"type\":\"bar\"},{\"alignmentgroup\":\"True\",\"hovertemplate\":\"Countries=%{y}\\u003cbr\\u003eYear=2006\\u003cbr\\u003eImportVolume=%{x}\\u003cextra\\u003e\\u003c\\u002fextra\\u003e\",\"legendgroup\":\"   Germany\",\"marker\":{\"color\":\"#EF553B\",\"pattern\":{\"shape\":\"\"}},\"name\":\"   Germany\",\"offsetgroup\":\"   Germany\",\"orientation\":\"h\",\"showlegend\":true,\"textposition\":\"auto\",\"x\":[9150.8529671],\"xaxis\":\"x\",\"y\":[\"   Germany\"],\"yaxis\":\"y\",\"type\":\"bar\"},{\"alignmentgroup\":\"True\",\"hovertemplate\":\"Countries=%{y}\\u003cbr\\u003eYear=2006\\u003cbr\\u003eImportVolume=%{x}\\u003cextra\\u003e\\u003c\\u002fextra\\u003e\",\"legendgroup\":\"   France\",\"marker\":{\"color\":\"#00cc96\",\"pattern\":{\"shape\":\"\"}},\"name\":\"   France\",\"offsetgroup\":\"   France\",\"orientation\":\"h\",\"showlegend\":true,\"textposition\":\"auto\",\"x\":[5277.5864598],\"xaxis\":\"x\",\"y\":[\"   France\"],\"yaxis\":\"y\",\"type\":\"bar\"},{\"alignmentgroup\":\"True\",\"hovertemplate\":\"Countries=%{y}\\u003cbr\\u003eYear=2006\\u003cbr\\u003eImportVolume=%{x}\\u003cextra\\u003e\\u003c\\u002fextra\\u003e\",\"legendgroup\":\"Japan\",\"marker\":{\"color\":\"#ab63fa\",\"pattern\":{\"shape\":\"\"}},\"name\":\"Japan\",\"offsetgroup\":\"Japan\",\"orientation\":\"h\",\"showlegend\":true,\"textposition\":\"auto\",\"x\":[7268.1863162],\"xaxis\":\"x\",\"y\":[\"Japan\"],\"yaxis\":\"y\",\"type\":\"bar\"},{\"alignmentgroup\":\"True\",\"hovertemplate\":\"Countries=%{y}\\u003cbr\\u003eYear=2006\\u003cbr\\u003eImportVolume=%{x}\\u003cextra\\u003e\\u003c\\u002fextra\\u003e\",\"legendgroup\":\"   Italy\",\"marker\":{\"color\":\"#FFA15A\",\"pattern\":{\"shape\":\"\"}},\"name\":\"   Italy\",\"offsetgroup\":\"   Italy\",\"orientation\":\"h\",\"showlegend\":true,\"textposition\":\"auto\",\"x\":[5593.0606133],\"xaxis\":\"x\",\"y\":[\"   Italy\"],\"yaxis\":\"y\",\"type\":\"bar\"}],\"name\":\"2006\"},{\"data\":[{\"alignmentgroup\":\"True\",\"hovertemplate\":\"Countries=%{y}\\u003cbr\\u003eYear=2007\\u003cbr\\u003eImportVolume=%{x}\\u003cextra\\u003e\\u003c\\u002fextra\\u003e\",\"legendgroup\":\"USA\",\"marker\":{\"color\":\"#636efa\",\"pattern\":{\"shape\":\"\"}},\"name\":\"USA\",\"offsetgroup\":\"USA\",\"orientation\":\"h\",\"showlegend\":true,\"textposition\":\"auto\",\"x\":[21033.2731039],\"xaxis\":\"x\",\"y\":[\"USA\"],\"yaxis\":\"y\",\"type\":\"bar\"},{\"alignmentgroup\":\"True\",\"hovertemplate\":\"Countries=%{y}\\u003cbr\\u003eYear=2007\\u003cbr\\u003eImportVolume=%{x}\\u003cextra\\u003e\\u003c\\u002fextra\\u003e\",\"legendgroup\":\"   Germany\",\"marker\":{\"color\":\"#EF553B\",\"pattern\":{\"shape\":\"\"}},\"name\":\"   Germany\",\"offsetgroup\":\"   Germany\",\"orientation\":\"h\",\"showlegend\":true,\"textposition\":\"auto\",\"x\":[8626.6812829],\"xaxis\":\"x\",\"y\":[\"   Germany\"],\"yaxis\":\"y\",\"type\":\"bar\"},{\"alignmentgroup\":\"True\",\"hovertemplate\":\"Countries=%{y}\\u003cbr\\u003eYear=2007\\u003cbr\\u003eImportVolume=%{x}\\u003cextra\\u003e\\u003c\\u002fextra\\u003e\",\"legendgroup\":\"   France\",\"marker\":{\"color\":\"#00cc96\",\"pattern\":{\"shape\":\"\"}},\"name\":\"   France\",\"offsetgroup\":\"   France\",\"orientation\":\"h\",\"showlegend\":true,\"textposition\":\"auto\",\"x\":[5627.7542717],\"xaxis\":\"x\",\"y\":[\"   France\"],\"yaxis\":\"y\",\"type\":\"bar\"},{\"alignmentgroup\":\"True\",\"hovertemplate\":\"Countries=%{y}\\u003cbr\\u003eYear=2007\\u003cbr\\u003eImportVolume=%{x}\\u003cextra\\u003e\\u003c\\u002fextra\\u003e\",\"legendgroup\":\"Japan\",\"marker\":{\"color\":\"#ab63fa\",\"pattern\":{\"shape\":\"\"}},\"name\":\"Japan\",\"offsetgroup\":\"Japan\",\"orientation\":\"h\",\"showlegend\":true,\"textposition\":\"auto\",\"x\":[7282.0825522],\"xaxis\":\"x\",\"y\":[\"Japan\"],\"yaxis\":\"y\",\"type\":\"bar\"},{\"alignmentgroup\":\"True\",\"hovertemplate\":\"Countries=%{y}\\u003cbr\\u003eYear=2007\\u003cbr\\u003eImportVolume=%{x}\\u003cextra\\u003e\\u003c\\u002fextra\\u003e\",\"legendgroup\":\"   Italy\",\"marker\":{\"color\":\"#FFA15A\",\"pattern\":{\"shape\":\"\"}},\"name\":\"   Italy\",\"offsetgroup\":\"   Italy\",\"orientation\":\"h\",\"showlegend\":true,\"textposition\":\"auto\",\"x\":[5820.9490542],\"xaxis\":\"x\",\"y\":[\"   Italy\"],\"yaxis\":\"y\",\"type\":\"bar\"}],\"name\":\"2007\"},{\"data\":[{\"alignmentgroup\":\"True\",\"hovertemplate\":\"Countries=%{y}\\u003cbr\\u003eYear=2008\\u003cbr\\u003eImportVolume=%{x}\\u003cextra\\u003e\\u003c\\u002fextra\\u003e\",\"legendgroup\":\"USA\",\"marker\":{\"color\":\"#636efa\",\"pattern\":{\"shape\":\"\"}},\"name\":\"USA\",\"offsetgroup\":\"USA\",\"orientation\":\"h\",\"showlegend\":true,\"textposition\":\"auto\",\"x\":[21652.4270057],\"xaxis\":\"x\",\"y\":[\"USA\"],\"yaxis\":\"y\",\"type\":\"bar\"},{\"alignmentgroup\":\"True\",\"hovertemplate\":\"Countries=%{y}\\u003cbr\\u003eYear=2008\\u003cbr\\u003eImportVolume=%{x}\\u003cextra\\u003e\\u003c\\u002fextra\\u003e\",\"legendgroup\":\"   Germany\",\"marker\":{\"color\":\"#EF553B\",\"pattern\":{\"shape\":\"\"}},\"name\":\"   Germany\",\"offsetgroup\":\"   Germany\",\"orientation\":\"h\",\"showlegend\":true,\"textposition\":\"auto\",\"x\":[9534.5082725],\"xaxis\":\"x\",\"y\":[\"   Germany\"],\"yaxis\":\"y\",\"type\":\"bar\"},{\"alignmentgroup\":\"True\",\"hovertemplate\":\"Countries=%{y}\\u003cbr\\u003eYear=2008\\u003cbr\\u003eImportVolume=%{x}\\u003cextra\\u003e\\u003c\\u002fextra\\u003e\",\"legendgroup\":\"   France\",\"marker\":{\"color\":\"#00cc96\",\"pattern\":{\"shape\":\"\"}},\"name\":\"   France\",\"offsetgroup\":\"   France\",\"orientation\":\"h\",\"showlegend\":true,\"textposition\":\"auto\",\"x\":[5151.5666778],\"xaxis\":\"x\",\"y\":[\"   France\"],\"yaxis\":\"y\",\"type\":\"bar\"},{\"alignmentgroup\":\"True\",\"hovertemplate\":\"Countries=%{y}\\u003cbr\\u003eYear=2008\\u003cbr\\u003eImportVolume=%{x}\\u003cextra\\u003e\\u003c\\u002fextra\\u003e\",\"legendgroup\":\"Japan\",\"marker\":{\"color\":\"#ab63fa\",\"pattern\":{\"shape\":\"\"}},\"name\":\"Japan\",\"offsetgroup\":\"Japan\",\"orientation\":\"h\",\"showlegend\":true,\"textposition\":\"auto\",\"x\":[7064.6851125],\"xaxis\":\"x\",\"y\":[\"Japan\"],\"yaxis\":\"y\",\"type\":\"bar\"},{\"alignmentgroup\":\"True\",\"hovertemplate\":\"Countries=%{y}\\u003cbr\\u003eYear=2008\\u003cbr\\u003eImportVolume=%{x}\\u003cextra\\u003e\\u003c\\u002fextra\\u003e\",\"legendgroup\":\"   Italy\",\"marker\":{\"color\":\"#FFA15A\",\"pattern\":{\"shape\":\"\"}},\"name\":\"   Italy\",\"offsetgroup\":\"   Italy\",\"orientation\":\"h\",\"showlegend\":true,\"textposition\":\"auto\",\"x\":[5892.1521765],\"xaxis\":\"x\",\"y\":[\"   Italy\"],\"yaxis\":\"y\",\"type\":\"bar\"}],\"name\":\"2008\"},{\"data\":[{\"alignmentgroup\":\"True\",\"hovertemplate\":\"Countries=%{y}\\u003cbr\\u003eYear=2009\\u003cbr\\u003eImportVolume=%{x}\\u003cextra\\u003e\\u003c\\u002fextra\\u003e\",\"legendgroup\":\"USA\",\"marker\":{\"color\":\"#636efa\",\"pattern\":{\"shape\":\"\"}},\"name\":\"USA\",\"offsetgroup\":\"USA\",\"orientation\":\"h\",\"showlegend\":true,\"textposition\":\"auto\",\"x\":[21435.9671121],\"xaxis\":\"x\",\"y\":[\"USA\"],\"yaxis\":\"y\",\"type\":\"bar\"},{\"alignmentgroup\":\"True\",\"hovertemplate\":\"Countries=%{y}\\u003cbr\\u003eYear=2009\\u003cbr\\u003eImportVolume=%{x}\\u003cextra\\u003e\\u003c\\u002fextra\\u003e\",\"legendgroup\":\"   Germany\",\"marker\":{\"color\":\"#EF553B\",\"pattern\":{\"shape\":\"\"}},\"name\":\"   Germany\",\"offsetgroup\":\"   Germany\",\"orientation\":\"h\",\"showlegend\":true,\"textposition\":\"auto\",\"x\":[8896.9330624],\"xaxis\":\"x\",\"y\":[\"   Germany\"],\"yaxis\":\"y\",\"type\":\"bar\"},{\"alignmentgroup\":\"True\",\"hovertemplate\":\"Countries=%{y}\\u003cbr\\u003eYear=2009\\u003cbr\\u003eImportVolume=%{x}\\u003cextra\\u003e\\u003c\\u002fextra\\u003e\",\"legendgroup\":\"   France\",\"marker\":{\"color\":\"#00cc96\",\"pattern\":{\"shape\":\"\"}},\"name\":\"   France\",\"offsetgroup\":\"   France\",\"orientation\":\"h\",\"showlegend\":true,\"textposition\":\"auto\",\"x\":[5676.7497713],\"xaxis\":\"x\",\"y\":[\"   France\"],\"yaxis\":\"y\",\"type\":\"bar\"},{\"alignmentgroup\":\"True\",\"hovertemplate\":\"Countries=%{y}\\u003cbr\\u003eYear=2009\\u003cbr\\u003eImportVolume=%{x}\\u003cextra\\u003e\\u003c\\u002fextra\\u003e\",\"legendgroup\":\"Japan\",\"marker\":{\"color\":\"#ab63fa\",\"pattern\":{\"shape\":\"\"}},\"name\":\"Japan\",\"offsetgroup\":\"Japan\",\"orientation\":\"h\",\"showlegend\":true,\"textposition\":\"auto\",\"x\":[7130.4034603],\"xaxis\":\"x\",\"y\":[\"Japan\"],\"yaxis\":\"y\",\"type\":\"bar\"},{\"alignmentgroup\":\"True\",\"hovertemplate\":\"Countries=%{y}\\u003cbr\\u003eYear=2009\\u003cbr\\u003eImportVolume=%{x}\\u003cextra\\u003e\\u003c\\u002fextra\\u003e\",\"legendgroup\":\"   Italy\",\"marker\":{\"color\":\"#FFA15A\",\"pattern\":{\"shape\":\"\"}},\"name\":\"   Italy\",\"offsetgroup\":\"   Italy\",\"orientation\":\"h\",\"showlegend\":true,\"textposition\":\"auto\",\"x\":[5806.0245941],\"xaxis\":\"x\",\"y\":[\"   Italy\"],\"yaxis\":\"y\",\"type\":\"bar\"}],\"name\":\"2009\"},{\"data\":[{\"alignmentgroup\":\"True\",\"hovertemplate\":\"Countries=%{y}\\u003cbr\\u003eYear=2010\\u003cbr\\u003eImportVolume=%{x}\\u003cextra\\u003e\\u003c\\u002fextra\\u003e\",\"legendgroup\":\"USA\",\"marker\":{\"color\":\"#636efa\",\"pattern\":{\"shape\":\"\"}},\"name\":\"USA\",\"offsetgroup\":\"USA\",\"orientation\":\"h\",\"showlegend\":true,\"textposition\":\"auto\",\"x\":[21783.457919],\"xaxis\":\"x\",\"y\":[\"USA\"],\"yaxis\":\"y\",\"type\":\"bar\"},{\"alignmentgroup\":\"True\",\"hovertemplate\":\"Countries=%{y}\\u003cbr\\u003eYear=2010\\u003cbr\\u003eImportVolume=%{x}\\u003cextra\\u003e\\u003c\\u002fextra\\u003e\",\"legendgroup\":\"   Germany\",\"marker\":{\"color\":\"#EF553B\",\"pattern\":{\"shape\":\"\"}},\"name\":\"   Germany\",\"offsetgroup\":\"   Germany\",\"orientation\":\"h\",\"showlegend\":true,\"textposition\":\"auto\",\"x\":[9291.9588588],\"xaxis\":\"x\",\"y\":[\"   Germany\"],\"yaxis\":\"y\",\"type\":\"bar\"},{\"alignmentgroup\":\"True\",\"hovertemplate\":\"Countries=%{y}\\u003cbr\\u003eYear=2010\\u003cbr\\u003eImportVolume=%{x}\\u003cextra\\u003e\\u003c\\u002fextra\\u003e\",\"legendgroup\":\"   France\",\"marker\":{\"color\":\"#00cc96\",\"pattern\":{\"shape\":\"\"}},\"name\":\"   France\",\"offsetgroup\":\"   France\",\"orientation\":\"h\",\"showlegend\":true,\"textposition\":\"auto\",\"x\":[5712.8985095],\"xaxis\":\"x\",\"y\":[\"   France\"],\"yaxis\":\"y\",\"type\":\"bar\"},{\"alignmentgroup\":\"True\",\"hovertemplate\":\"Countries=%{y}\\u003cbr\\u003eYear=2010\\u003cbr\\u003eImportVolume=%{x}\\u003cextra\\u003e\\u003c\\u002fextra\\u003e\",\"legendgroup\":\"Japan\",\"marker\":{\"color\":\"#ab63fa\",\"pattern\":{\"shape\":\"\"}},\"name\":\"Japan\",\"offsetgroup\":\"Japan\",\"orientation\":\"h\",\"showlegend\":true,\"textposition\":\"auto\",\"x\":[7192.3980023],\"xaxis\":\"x\",\"y\":[\"Japan\"],\"yaxis\":\"y\",\"type\":\"bar\"},{\"alignmentgroup\":\"True\",\"hovertemplate\":\"Countries=%{y}\\u003cbr\\u003eYear=2010\\u003cbr\\u003eImportVolume=%{x}\\u003cextra\\u003e\\u003c\\u002fextra\\u003e\",\"legendgroup\":\"   Italy\",\"marker\":{\"color\":\"#FFA15A\",\"pattern\":{\"shape\":\"\"}},\"name\":\"   Italy\",\"offsetgroup\":\"   Italy\",\"orientation\":\"h\",\"showlegend\":true,\"textposition\":\"auto\",\"x\":[5781.3189611],\"xaxis\":\"x\",\"y\":[\"   Italy\"],\"yaxis\":\"y\",\"type\":\"bar\"}],\"name\":\"2010\"},{\"data\":[{\"alignmentgroup\":\"True\",\"hovertemplate\":\"Countries=%{y}\\u003cbr\\u003eYear=2011\\u003cbr\\u003eImportVolume=%{x}\\u003cextra\\u003e\\u003c\\u002fextra\\u003e\",\"legendgroup\":\"USA\",\"marker\":{\"color\":\"#636efa\",\"pattern\":{\"shape\":\"\"}},\"name\":\"USA\",\"offsetgroup\":\"USA\",\"orientation\":\"h\",\"showlegend\":true,\"textposition\":\"auto\",\"x\":[22043.8913838],\"xaxis\":\"x\",\"y\":[\"USA\"],\"yaxis\":\"y\",\"type\":\"bar\"},{\"alignmentgroup\":\"True\",\"hovertemplate\":\"Countries=%{y}\\u003cbr\\u003eYear=2011\\u003cbr\\u003eImportVolume=%{x}\\u003cextra\\u003e\\u003c\\u002fextra\\u003e\",\"legendgroup\":\"   Germany\",\"marker\":{\"color\":\"#EF553B\",\"pattern\":{\"shape\":\"\"}},\"name\":\"   Germany\",\"offsetgroup\":\"   Germany\",\"orientation\":\"h\",\"showlegend\":true,\"textposition\":\"auto\",\"x\":[9460.3495609],\"xaxis\":\"x\",\"y\":[\"   Germany\"],\"yaxis\":\"y\",\"type\":\"bar\"},{\"alignmentgroup\":\"True\",\"hovertemplate\":\"Countries=%{y}\\u003cbr\\u003eYear=2011\\u003cbr\\u003eImportVolume=%{x}\\u003cextra\\u003e\\u003c\\u002fextra\\u003e\",\"legendgroup\":\"   France\",\"marker\":{\"color\":\"#00cc96\",\"pattern\":{\"shape\":\"\"}},\"name\":\"   France\",\"offsetgroup\":\"   France\",\"orientation\":\"h\",\"showlegend\":true,\"textposition\":\"auto\",\"x\":[5961.9527905],\"xaxis\":\"x\",\"y\":[\"   France\"],\"yaxis\":\"y\",\"type\":\"bar\"},{\"alignmentgroup\":\"True\",\"hovertemplate\":\"Countries=%{y}\\u003cbr\\u003eYear=2011\\u003cbr\\u003eImportVolume=%{x}\\u003cextra\\u003e\\u003c\\u002fextra\\u003e\",\"legendgroup\":\"Japan\",\"marker\":{\"color\":\"#ab63fa\",\"pattern\":{\"shape\":\"\"}},\"name\":\"Japan\",\"offsetgroup\":\"Japan\",\"orientation\":\"h\",\"showlegend\":true,\"textposition\":\"auto\",\"x\":[7014.8538097],\"xaxis\":\"x\",\"y\":[\"Japan\"],\"yaxis\":\"y\",\"type\":\"bar\"},{\"alignmentgroup\":\"True\",\"hovertemplate\":\"Countries=%{y}\\u003cbr\\u003eYear=2011\\u003cbr\\u003eImportVolume=%{x}\\u003cextra\\u003e\\u003c\\u002fextra\\u003e\",\"legendgroup\":\"   Italy\",\"marker\":{\"color\":\"#FFA15A\",\"pattern\":{\"shape\":\"\"}},\"name\":\"   Italy\",\"offsetgroup\":\"   Italy\",\"orientation\":\"h\",\"showlegend\":true,\"textposition\":\"auto\",\"x\":[5689.331772],\"xaxis\":\"x\",\"y\":[\"   Italy\"],\"yaxis\":\"y\",\"type\":\"bar\"}],\"name\":\"2011\"},{\"data\":[{\"alignmentgroup\":\"True\",\"hovertemplate\":\"Countries=%{y}\\u003cbr\\u003eYear=2012\\u003cbr\\u003eImportVolume=%{x}\\u003cextra\\u003e\\u003c\\u002fextra\\u003e\",\"legendgroup\":\"USA\",\"marker\":{\"color\":\"#636efa\",\"pattern\":{\"shape\":\"\"}},\"name\":\"USA\",\"offsetgroup\":\"USA\",\"orientation\":\"h\",\"showlegend\":true,\"textposition\":\"auto\",\"x\":[22231.6637149],\"xaxis\":\"x\",\"y\":[\"USA\"],\"yaxis\":\"y\",\"type\":\"bar\"},{\"alignmentgroup\":\"True\",\"hovertemplate\":\"Countries=%{y}\\u003cbr\\u003eYear=2012\\u003cbr\\u003eImportVolume=%{x}\\u003cextra\\u003e\\u003c\\u002fextra\\u003e\",\"legendgroup\":\"   Germany\",\"marker\":{\"color\":\"#EF553B\",\"pattern\":{\"shape\":\"\"}},\"name\":\"   Germany\",\"offsetgroup\":\"   Germany\",\"orientation\":\"h\",\"showlegend\":true,\"textposition\":\"auto\",\"x\":[8829.7429627],\"xaxis\":\"x\",\"y\":[\"   Germany\"],\"yaxis\":\"y\",\"type\":\"bar\"},{\"alignmentgroup\":\"True\",\"hovertemplate\":\"Countries=%{y}\\u003cbr\\u003eYear=2012\\u003cbr\\u003eImportVolume=%{x}\\u003cextra\\u003e\\u003c\\u002fextra\\u003e\",\"legendgroup\":\"   France\",\"marker\":{\"color\":\"#00cc96\",\"pattern\":{\"shape\":\"\"}},\"name\":\"   France\",\"offsetgroup\":\"   France\",\"orientation\":\"h\",\"showlegend\":true,\"textposition\":\"auto\",\"x\":[5790.2946384],\"xaxis\":\"x\",\"y\":[\"   France\"],\"yaxis\":\"y\",\"type\":\"bar\"},{\"alignmentgroup\":\"True\",\"hovertemplate\":\"Countries=%{y}\\u003cbr\\u003eYear=2012\\u003cbr\\u003eImportVolume=%{x}\\u003cextra\\u003e\\u003c\\u002fextra\\u003e\",\"legendgroup\":\"Japan\",\"marker\":{\"color\":\"#ab63fa\",\"pattern\":{\"shape\":\"\"}},\"name\":\"Japan\",\"offsetgroup\":\"Japan\",\"orientation\":\"h\",\"showlegend\":true,\"textposition\":\"auto\",\"x\":[7130.9466472],\"xaxis\":\"x\",\"y\":[\"Japan\"],\"yaxis\":\"y\",\"type\":\"bar\"},{\"alignmentgroup\":\"True\",\"hovertemplate\":\"Countries=%{y}\\u003cbr\\u003eYear=2012\\u003cbr\\u003eImportVolume=%{x}\\u003cextra\\u003e\\u003c\\u002fextra\\u003e\",\"legendgroup\":\"   Italy\",\"marker\":{\"color\":\"#FFA15A\",\"pattern\":{\"shape\":\"\"}},\"name\":\"   Italy\",\"offsetgroup\":\"   Italy\",\"orientation\":\"h\",\"showlegend\":true,\"textposition\":\"auto\",\"x\":[5709.7631664],\"xaxis\":\"x\",\"y\":[\"   Italy\"],\"yaxis\":\"y\",\"type\":\"bar\"}],\"name\":\"2012\"},{\"data\":[{\"alignmentgroup\":\"True\",\"hovertemplate\":\"Countries=%{y}\\u003cbr\\u003eYear=2013\\u003cbr\\u003eImportVolume=%{x}\\u003cextra\\u003e\\u003c\\u002fextra\\u003e\",\"legendgroup\":\"USA\",\"marker\":{\"color\":\"#636efa\",\"pattern\":{\"shape\":\"\"}},\"name\":\"USA\",\"offsetgroup\":\"USA\",\"orientation\":\"h\",\"showlegend\":true,\"textposition\":\"auto\",\"x\":[23417.0],\"xaxis\":\"x\",\"y\":[\"USA\"],\"yaxis\":\"y\",\"type\":\"bar\"},{\"alignmentgroup\":\"True\",\"hovertemplate\":\"Countries=%{y}\\u003cbr\\u003eYear=2013\\u003cbr\\u003eImportVolume=%{x}\\u003cextra\\u003e\\u003c\\u002fextra\\u003e\",\"legendgroup\":\"   Germany\",\"marker\":{\"color\":\"#EF553B\",\"pattern\":{\"shape\":\"\"}},\"name\":\"   Germany\",\"offsetgroup\":\"   Germany\",\"orientation\":\"h\",\"showlegend\":true,\"textposition\":\"auto\",\"x\":[9378.0],\"xaxis\":\"x\",\"y\":[\"   Germany\"],\"yaxis\":\"y\",\"type\":\"bar\"},{\"alignmentgroup\":\"True\",\"hovertemplate\":\"Countries=%{y}\\u003cbr\\u003eYear=2013\\u003cbr\\u003eImportVolume=%{x}\\u003cextra\\u003e\\u003c\\u002fextra\\u003e\",\"legendgroup\":\"   France\",\"marker\":{\"color\":\"#00cc96\",\"pattern\":{\"shape\":\"\"}},\"name\":\"   France\",\"offsetgroup\":\"   France\",\"orientation\":\"h\",\"showlegend\":true,\"textposition\":\"auto\",\"x\":[5707.0],\"xaxis\":\"x\",\"y\":[\"   France\"],\"yaxis\":\"y\",\"type\":\"bar\"},{\"alignmentgroup\":\"True\",\"hovertemplate\":\"Countries=%{y}\\u003cbr\\u003eYear=2013\\u003cbr\\u003eImportVolume=%{x}\\u003cextra\\u003e\\u003c\\u002fextra\\u003e\",\"legendgroup\":\"Japan\",\"marker\":{\"color\":\"#ab63fa\",\"pattern\":{\"shape\":\"\"}},\"name\":\"Japan\",\"offsetgroup\":\"Japan\",\"orientation\":\"h\",\"showlegend\":true,\"textposition\":\"auto\",\"x\":[7435.0],\"xaxis\":\"x\",\"y\":[\"Japan\"],\"yaxis\":\"y\",\"type\":\"bar\"},{\"alignmentgroup\":\"True\",\"hovertemplate\":\"Countries=%{y}\\u003cbr\\u003eYear=2013\\u003cbr\\u003eImportVolume=%{x}\\u003cextra\\u003e\\u003c\\u002fextra\\u003e\",\"legendgroup\":\"   Italy\",\"marker\":{\"color\":\"#FFA15A\",\"pattern\":{\"shape\":\"\"}},\"name\":\"   Italy\",\"offsetgroup\":\"   Italy\",\"orientation\":\"h\",\"showlegend\":true,\"textposition\":\"auto\",\"x\":[5634.0],\"xaxis\":\"x\",\"y\":[\"   Italy\"],\"yaxis\":\"y\",\"type\":\"bar\"}],\"name\":\"2013\"}]);\n                        }).then(function(){\n                            \nvar gd = document.getElementById('65e24282-9a27-4653-9831-ab23c5a68325');\nvar x = new MutationObserver(function (mutations, observer) {{\n        var display = window.getComputedStyle(gd).display;\n        if (!display || display === 'none') {{\n            console.log([gd, 'removed!']);\n            Plotly.purge(gd);\n            observer.disconnect();\n        }}\n}});\n\n// Listen for the removal of the full notebook cells\nvar notebookContainer = gd.closest('#notebook-container');\nif (notebookContainer) {{\n    x.observe(notebookContainer, {childList: true});\n}}\n\n// Listen for the clearing of the current output cell\nvar outputEl = gd.closest('.output');\nif (outputEl) {{\n    x.observe(outputEl, {childList: true});\n}}\n\n                        })                };                });            </script>        </div>"
     },
     "metadata": {},
     "output_type": "display_data"
    }
   ],
   "source": [
    "df = pd.read_csv(\"disappearance.csv\")\n",
    "df.rename(columns={'disappearance': 'Countries', 'Volume': 'ImportVolume'}, inplace=True)\n",
    "\n",
    "df_long = df.melt(id_vars='Countries', var_name='Year', value_name='ImportVolume')\n",
    "df_long['Year'] = df_long['Year'].astype(int)\n",
    "\n",
    "df_long = df_long.dropna(subset=['ImportVolume'])\n",
    "df_long = df_long[df_long['Year'] <= 2013]\n",
    "\n",
    "top5_per_year = df_long.groupby('Year').apply(lambda x: x.nlargest(5, 'ImportVolume')).reset_index(drop=True)\n",
    "\n",
    "fig = px.bar(top5_per_year, x='ImportVolume', y='Countries', color='Countries',\n",
    "             animation_frame='Year', range_x=[0, top5_per_year['ImportVolume'].max()],\n",
    "             orientation='h')\n",
    "\n",
    "fig.update_yaxes(title_text='Countries', title_standoff=25)\n",
    "\n",
    "fig.update_layout(showlegend=False)\n",
    "\n",
    "fig.show()\n",
    "fig.write_html(\"second_graph.html\")"
   ]
  },
  {
   "cell_type": "code",
   "execution_count": 40,
   "metadata": {
    "collapsed": false
   },
   "outputs": [
    {
     "data": {
      "application/vnd.plotly.v1+json": {
       "data": [
        {
         "alignmentgroup": "True",
         "hovertemplate": "Countries=%{x}<br>Year=1990<br>Export by Volume=%{y}<extra></extra>",
         "legendgroup": "Brazil",
         "marker": {
          "color": "#636efa",
          "pattern": {
           "shape": ""
          }
         },
         "name": "Brazil",
         "offsetgroup": "Brazil",
         "orientation": "v",
         "showlegend": true,
         "textposition": "auto",
         "x": [
          "Brazil"
         ],
         "xaxis": "x",
         "y": [
          16935.7876003
         ],
         "yaxis": "y",
         "type": "bar"
        },
        {
         "alignmentgroup": "True",
         "hovertemplate": "Countries=%{x}<br>Year=1990<br>Export by Volume=%{y}<extra></extra>",
         "legendgroup": "Colombia",
         "marker": {
          "color": "#EF553B",
          "pattern": {
           "shape": ""
          }
         },
         "name": "Colombia",
         "offsetgroup": "Colombia",
         "orientation": "v",
         "showlegend": true,
         "textposition": "auto",
         "x": [
          "Colombia"
         ],
         "xaxis": "x",
         "y": [
          13943.8700004
         ],
         "yaxis": "y",
         "type": "bar"
        },
        {
         "alignmentgroup": "True",
         "hovertemplate": "Countries=%{x}<br>Year=1990<br>Export by Volume=%{y}<extra></extra>",
         "legendgroup": "Ethiopia",
         "marker": {
          "color": "#00cc96",
          "pattern": {
           "shape": ""
          }
         },
         "name": "Ethiopia",
         "offsetgroup": "Ethiopia",
         "orientation": "v",
         "showlegend": true,
         "textposition": "auto",
         "x": [
          "Ethiopia"
         ],
         "xaxis": "x",
         "y": [
          1074.101
         ],
         "yaxis": "y",
         "type": "bar"
        },
        {
         "alignmentgroup": "True",
         "hovertemplate": "Countries=%{x}<br>Year=1990<br>Export by Volume=%{y}<extra></extra>",
         "legendgroup": "Honduras",
         "marker": {
          "color": "#ab63fa",
          "pattern": {
           "shape": ""
          }
         },
         "name": "Honduras",
         "offsetgroup": "Honduras",
         "orientation": "v",
         "showlegend": true,
         "textposition": "auto",
         "x": [
          "Honduras"
         ],
         "xaxis": "x",
         "y": [
          1735.093
         ],
         "yaxis": "y",
         "type": "bar"
        },
        {
         "alignmentgroup": "True",
         "hovertemplate": "Countries=%{x}<br>Year=1990<br>Export by Volume=%{y}<extra></extra>",
         "legendgroup": "Indonesia",
         "marker": {
          "color": "#FFA15A",
          "pattern": {
           "shape": ""
          }
         },
         "name": "Indonesia",
         "offsetgroup": "Indonesia",
         "orientation": "v",
         "showlegend": true,
         "textposition": "auto",
         "x": [
          "Indonesia"
         ],
         "xaxis": "x",
         "y": [
          6903.2269994
         ],
         "yaxis": "y",
         "type": "bar"
        },
        {
         "alignmentgroup": "True",
         "hovertemplate": "Countries=%{x}<br>Year=1990<br>Export by Volume=%{y}<extra></extra>",
         "legendgroup": "Viet Nam",
         "marker": {
          "color": "#19d3f3",
          "pattern": {
           "shape": ""
          }
         },
         "name": "Viet Nam",
         "offsetgroup": "Viet Nam",
         "orientation": "v",
         "showlegend": true,
         "textposition": "auto",
         "x": [
          "Viet Nam"
         ],
         "xaxis": "x",
         "y": [
          1145.2340014
         ],
         "yaxis": "y",
         "type": "bar"
        }
       ],
       "layout": {
        "template": {
         "data": {
          "histogram2dcontour": [
           {
            "type": "histogram2dcontour",
            "colorbar": {
             "outlinewidth": 0,
             "ticks": ""
            },
            "colorscale": [
             [
              0.0,
              "#0d0887"
             ],
             [
              0.1111111111111111,
              "#46039f"
             ],
             [
              0.2222222222222222,
              "#7201a8"
             ],
             [
              0.3333333333333333,
              "#9c179e"
             ],
             [
              0.4444444444444444,
              "#bd3786"
             ],
             [
              0.5555555555555556,
              "#d8576b"
             ],
             [
              0.6666666666666666,
              "#ed7953"
             ],
             [
              0.7777777777777778,
              "#fb9f3a"
             ],
             [
              0.8888888888888888,
              "#fdca26"
             ],
             [
              1.0,
              "#f0f921"
             ]
            ]
           }
          ],
          "choropleth": [
           {
            "type": "choropleth",
            "colorbar": {
             "outlinewidth": 0,
             "ticks": ""
            }
           }
          ],
          "histogram2d": [
           {
            "type": "histogram2d",
            "colorbar": {
             "outlinewidth": 0,
             "ticks": ""
            },
            "colorscale": [
             [
              0.0,
              "#0d0887"
             ],
             [
              0.1111111111111111,
              "#46039f"
             ],
             [
              0.2222222222222222,
              "#7201a8"
             ],
             [
              0.3333333333333333,
              "#9c179e"
             ],
             [
              0.4444444444444444,
              "#bd3786"
             ],
             [
              0.5555555555555556,
              "#d8576b"
             ],
             [
              0.6666666666666666,
              "#ed7953"
             ],
             [
              0.7777777777777778,
              "#fb9f3a"
             ],
             [
              0.8888888888888888,
              "#fdca26"
             ],
             [
              1.0,
              "#f0f921"
             ]
            ]
           }
          ],
          "heatmap": [
           {
            "type": "heatmap",
            "colorbar": {
             "outlinewidth": 0,
             "ticks": ""
            },
            "colorscale": [
             [
              0.0,
              "#0d0887"
             ],
             [
              0.1111111111111111,
              "#46039f"
             ],
             [
              0.2222222222222222,
              "#7201a8"
             ],
             [
              0.3333333333333333,
              "#9c179e"
             ],
             [
              0.4444444444444444,
              "#bd3786"
             ],
             [
              0.5555555555555556,
              "#d8576b"
             ],
             [
              0.6666666666666666,
              "#ed7953"
             ],
             [
              0.7777777777777778,
              "#fb9f3a"
             ],
             [
              0.8888888888888888,
              "#fdca26"
             ],
             [
              1.0,
              "#f0f921"
             ]
            ]
           }
          ],
          "heatmapgl": [
           {
            "type": "heatmapgl",
            "colorbar": {
             "outlinewidth": 0,
             "ticks": ""
            },
            "colorscale": [
             [
              0.0,
              "#0d0887"
             ],
             [
              0.1111111111111111,
              "#46039f"
             ],
             [
              0.2222222222222222,
              "#7201a8"
             ],
             [
              0.3333333333333333,
              "#9c179e"
             ],
             [
              0.4444444444444444,
              "#bd3786"
             ],
             [
              0.5555555555555556,
              "#d8576b"
             ],
             [
              0.6666666666666666,
              "#ed7953"
             ],
             [
              0.7777777777777778,
              "#fb9f3a"
             ],
             [
              0.8888888888888888,
              "#fdca26"
             ],
             [
              1.0,
              "#f0f921"
             ]
            ]
           }
          ],
          "contourcarpet": [
           {
            "type": "contourcarpet",
            "colorbar": {
             "outlinewidth": 0,
             "ticks": ""
            }
           }
          ],
          "contour": [
           {
            "type": "contour",
            "colorbar": {
             "outlinewidth": 0,
             "ticks": ""
            },
            "colorscale": [
             [
              0.0,
              "#0d0887"
             ],
             [
              0.1111111111111111,
              "#46039f"
             ],
             [
              0.2222222222222222,
              "#7201a8"
             ],
             [
              0.3333333333333333,
              "#9c179e"
             ],
             [
              0.4444444444444444,
              "#bd3786"
             ],
             [
              0.5555555555555556,
              "#d8576b"
             ],
             [
              0.6666666666666666,
              "#ed7953"
             ],
             [
              0.7777777777777778,
              "#fb9f3a"
             ],
             [
              0.8888888888888888,
              "#fdca26"
             ],
             [
              1.0,
              "#f0f921"
             ]
            ]
           }
          ],
          "surface": [
           {
            "type": "surface",
            "colorbar": {
             "outlinewidth": 0,
             "ticks": ""
            },
            "colorscale": [
             [
              0.0,
              "#0d0887"
             ],
             [
              0.1111111111111111,
              "#46039f"
             ],
             [
              0.2222222222222222,
              "#7201a8"
             ],
             [
              0.3333333333333333,
              "#9c179e"
             ],
             [
              0.4444444444444444,
              "#bd3786"
             ],
             [
              0.5555555555555556,
              "#d8576b"
             ],
             [
              0.6666666666666666,
              "#ed7953"
             ],
             [
              0.7777777777777778,
              "#fb9f3a"
             ],
             [
              0.8888888888888888,
              "#fdca26"
             ],
             [
              1.0,
              "#f0f921"
             ]
            ]
           }
          ],
          "mesh3d": [
           {
            "type": "mesh3d",
            "colorbar": {
             "outlinewidth": 0,
             "ticks": ""
            }
           }
          ],
          "scatter": [
           {
            "marker": {
             "line": {
              "color": "#283442"
             }
            },
            "type": "scatter"
           }
          ],
          "parcoords": [
           {
            "type": "parcoords",
            "line": {
             "colorbar": {
              "outlinewidth": 0,
              "ticks": ""
             }
            }
           }
          ],
          "scatterpolargl": [
           {
            "type": "scatterpolargl",
            "marker": {
             "colorbar": {
              "outlinewidth": 0,
              "ticks": ""
             }
            }
           }
          ],
          "bar": [
           {
            "error_x": {
             "color": "#f2f5fa"
            },
            "error_y": {
             "color": "#f2f5fa"
            },
            "marker": {
             "line": {
              "color": "rgb(17,17,17)",
              "width": 0.5
             },
             "pattern": {
              "fillmode": "overlay",
              "size": 10,
              "solidity": 0.2
             }
            },
            "type": "bar"
           }
          ],
          "scattergeo": [
           {
            "type": "scattergeo",
            "marker": {
             "colorbar": {
              "outlinewidth": 0,
              "ticks": ""
             }
            }
           }
          ],
          "scatterpolar": [
           {
            "type": "scatterpolar",
            "marker": {
             "colorbar": {
              "outlinewidth": 0,
              "ticks": ""
             }
            }
           }
          ],
          "histogram": [
           {
            "marker": {
             "pattern": {
              "fillmode": "overlay",
              "size": 10,
              "solidity": 0.2
             }
            },
            "type": "histogram"
           }
          ],
          "scattergl": [
           {
            "marker": {
             "line": {
              "color": "#283442"
             }
            },
            "type": "scattergl"
           }
          ],
          "scatter3d": [
           {
            "type": "scatter3d",
            "line": {
             "colorbar": {
              "outlinewidth": 0,
              "ticks": ""
             }
            },
            "marker": {
             "colorbar": {
              "outlinewidth": 0,
              "ticks": ""
             }
            }
           }
          ],
          "scattermapbox": [
           {
            "type": "scattermapbox",
            "marker": {
             "colorbar": {
              "outlinewidth": 0,
              "ticks": ""
             }
            }
           }
          ],
          "scatterternary": [
           {
            "type": "scatterternary",
            "marker": {
             "colorbar": {
              "outlinewidth": 0,
              "ticks": ""
             }
            }
           }
          ],
          "scattercarpet": [
           {
            "type": "scattercarpet",
            "marker": {
             "colorbar": {
              "outlinewidth": 0,
              "ticks": ""
             }
            }
           }
          ],
          "carpet": [
           {
            "aaxis": {
             "endlinecolor": "#A2B1C6",
             "gridcolor": "#506784",
             "linecolor": "#506784",
             "minorgridcolor": "#506784",
             "startlinecolor": "#A2B1C6"
            },
            "baxis": {
             "endlinecolor": "#A2B1C6",
             "gridcolor": "#506784",
             "linecolor": "#506784",
             "minorgridcolor": "#506784",
             "startlinecolor": "#A2B1C6"
            },
            "type": "carpet"
           }
          ],
          "table": [
           {
            "cells": {
             "fill": {
              "color": "#506784"
             },
             "line": {
              "color": "rgb(17,17,17)"
             }
            },
            "header": {
             "fill": {
              "color": "#2a3f5f"
             },
             "line": {
              "color": "rgb(17,17,17)"
             }
            },
            "type": "table"
           }
          ],
          "barpolar": [
           {
            "marker": {
             "line": {
              "color": "rgb(17,17,17)",
              "width": 0.5
             },
             "pattern": {
              "fillmode": "overlay",
              "size": 10,
              "solidity": 0.2
             }
            },
            "type": "barpolar"
           }
          ],
          "pie": [
           {
            "automargin": true,
            "type": "pie"
           }
          ]
         },
         "layout": {
          "autotypenumbers": "strict",
          "colorway": [
           "#636efa",
           "#EF553B",
           "#00cc96",
           "#ab63fa",
           "#FFA15A",
           "#19d3f3",
           "#FF6692",
           "#B6E880",
           "#FF97FF",
           "#FECB52"
          ],
          "font": {
           "color": "#f2f5fa"
          },
          "hovermode": "closest",
          "hoverlabel": {
           "align": "left"
          },
          "paper_bgcolor": "rgb(17,17,17)",
          "plot_bgcolor": "rgb(17,17,17)",
          "polar": {
           "bgcolor": "rgb(17,17,17)",
           "angularaxis": {
            "gridcolor": "#506784",
            "linecolor": "#506784",
            "ticks": ""
           },
           "radialaxis": {
            "gridcolor": "#506784",
            "linecolor": "#506784",
            "ticks": ""
           }
          },
          "ternary": {
           "bgcolor": "rgb(17,17,17)",
           "aaxis": {
            "gridcolor": "#506784",
            "linecolor": "#506784",
            "ticks": ""
           },
           "baxis": {
            "gridcolor": "#506784",
            "linecolor": "#506784",
            "ticks": ""
           },
           "caxis": {
            "gridcolor": "#506784",
            "linecolor": "#506784",
            "ticks": ""
           }
          },
          "coloraxis": {
           "colorbar": {
            "outlinewidth": 0,
            "ticks": ""
           }
          },
          "colorscale": {
           "sequential": [
            [
             0.0,
             "#0d0887"
            ],
            [
             0.1111111111111111,
             "#46039f"
            ],
            [
             0.2222222222222222,
             "#7201a8"
            ],
            [
             0.3333333333333333,
             "#9c179e"
            ],
            [
             0.4444444444444444,
             "#bd3786"
            ],
            [
             0.5555555555555556,
             "#d8576b"
            ],
            [
             0.6666666666666666,
             "#ed7953"
            ],
            [
             0.7777777777777778,
             "#fb9f3a"
            ],
            [
             0.8888888888888888,
             "#fdca26"
            ],
            [
             1.0,
             "#f0f921"
            ]
           ],
           "sequentialminus": [
            [
             0.0,
             "#0d0887"
            ],
            [
             0.1111111111111111,
             "#46039f"
            ],
            [
             0.2222222222222222,
             "#7201a8"
            ],
            [
             0.3333333333333333,
             "#9c179e"
            ],
            [
             0.4444444444444444,
             "#bd3786"
            ],
            [
             0.5555555555555556,
             "#d8576b"
            ],
            [
             0.6666666666666666,
             "#ed7953"
            ],
            [
             0.7777777777777778,
             "#fb9f3a"
            ],
            [
             0.8888888888888888,
             "#fdca26"
            ],
            [
             1.0,
             "#f0f921"
            ]
           ],
           "diverging": [
            [
             0,
             "#8e0152"
            ],
            [
             0.1,
             "#c51b7d"
            ],
            [
             0.2,
             "#de77ae"
            ],
            [
             0.3,
             "#f1b6da"
            ],
            [
             0.4,
             "#fde0ef"
            ],
            [
             0.5,
             "#f7f7f7"
            ],
            [
             0.6,
             "#e6f5d0"
            ],
            [
             0.7,
             "#b8e186"
            ],
            [
             0.8,
             "#7fbc41"
            ],
            [
             0.9,
             "#4d9221"
            ],
            [
             1,
             "#276419"
            ]
           ]
          },
          "xaxis": {
           "gridcolor": "#283442",
           "linecolor": "#506784",
           "ticks": "",
           "title": {
            "standoff": 15
           },
           "zerolinecolor": "#283442",
           "automargin": true,
           "zerolinewidth": 2
          },
          "yaxis": {
           "gridcolor": "#283442",
           "linecolor": "#506784",
           "ticks": "",
           "title": {
            "standoff": 15
           },
           "zerolinecolor": "#283442",
           "automargin": true,
           "zerolinewidth": 2
          },
          "scene": {
           "xaxis": {
            "backgroundcolor": "rgb(17,17,17)",
            "gridcolor": "#506784",
            "linecolor": "#506784",
            "showbackground": true,
            "ticks": "",
            "zerolinecolor": "#C8D4E3",
            "gridwidth": 2
           },
           "yaxis": {
            "backgroundcolor": "rgb(17,17,17)",
            "gridcolor": "#506784",
            "linecolor": "#506784",
            "showbackground": true,
            "ticks": "",
            "zerolinecolor": "#C8D4E3",
            "gridwidth": 2
           },
           "zaxis": {
            "backgroundcolor": "rgb(17,17,17)",
            "gridcolor": "#506784",
            "linecolor": "#506784",
            "showbackground": true,
            "ticks": "",
            "zerolinecolor": "#C8D4E3",
            "gridwidth": 2
           }
          },
          "shapedefaults": {
           "line": {
            "color": "#f2f5fa"
           }
          },
          "annotationdefaults": {
           "arrowcolor": "#f2f5fa",
           "arrowhead": 0,
           "arrowwidth": 1
          },
          "geo": {
           "bgcolor": "rgb(17,17,17)",
           "landcolor": "rgb(17,17,17)",
           "subunitcolor": "#506784",
           "showland": true,
           "showlakes": true,
           "lakecolor": "rgb(17,17,17)"
          },
          "title": {
           "x": 0.05
          },
          "updatemenudefaults": {
           "bgcolor": "#506784",
           "borderwidth": 0
          },
          "sliderdefaults": {
           "bgcolor": "#C8D4E3",
           "borderwidth": 1,
           "bordercolor": "rgb(17,17,17)",
           "tickwidth": 0
          },
          "mapbox": {
           "style": "dark"
          }
         }
        },
        "xaxis": {
         "anchor": "y",
         "domain": [
          0.0,
          1.0
         ],
         "title": {
          "text": "Countries"
         },
         "categoryorder": "array",
         "categoryarray": [
          "Brazil",
          "Colombia",
          "Ethiopia",
          "Honduras",
          "Indonesia",
          "Viet Nam"
         ]
        },
        "yaxis": {
         "anchor": "x",
         "domain": [
          0.0,
          1.0
         ],
         "title": {
          "text": "Export by Volume"
         },
         "range": [
          0,
          33806.0093278
         ]
        },
        "legend": {
         "title": {
          "text": "Countries"
         },
         "tracegroupgap": 0
        },
        "margin": {
         "t": 60
        },
        "barmode": "relative",
        "updatemenus": [
         {
          "buttons": [
           {
            "args": [
             null,
             {
              "frame": {
               "duration": 500,
               "redraw": true
              },
              "mode": "immediate",
              "fromcurrent": true,
              "transition": {
               "duration": 500,
               "easing": "linear"
              }
             }
            ],
            "label": "&#9654;",
            "method": "animate"
           },
           {
            "args": [
             [
              null
             ],
             {
              "frame": {
               "duration": 0,
               "redraw": true
              },
              "mode": "immediate",
              "fromcurrent": true,
              "transition": {
               "duration": 0,
               "easing": "linear"
              }
             }
            ],
            "label": "&#9724;",
            "method": "animate"
           }
          ],
          "direction": "left",
          "pad": {
           "r": 10,
           "t": 70
          },
          "showactive": false,
          "type": "buttons",
          "x": 0.1,
          "xanchor": "right",
          "y": 0,
          "yanchor": "top"
         }
        ],
        "sliders": [
         {
          "active": 0,
          "currentvalue": {
           "prefix": "Year="
          },
          "len": 0.9,
          "pad": {
           "b": 10,
           "t": 60
          },
          "steps": [
           {
            "args": [
             [
              "1990"
             ],
             {
              "frame": {
               "duration": 0,
               "redraw": true
              },
              "mode": "immediate",
              "fromcurrent": true,
              "transition": {
               "duration": 0,
               "easing": "linear"
              }
             }
            ],
            "label": "1990",
            "method": "animate"
           },
           {
            "args": [
             [
              "1991"
             ],
             {
              "frame": {
               "duration": 0,
               "redraw": true
              },
              "mode": "immediate",
              "fromcurrent": true,
              "transition": {
               "duration": 0,
               "easing": "linear"
              }
             }
            ],
            "label": "1991",
            "method": "animate"
           },
           {
            "args": [
             [
              "1992"
             ],
             {
              "frame": {
               "duration": 0,
               "redraw": true
              },
              "mode": "immediate",
              "fromcurrent": true,
              "transition": {
               "duration": 0,
               "easing": "linear"
              }
             }
            ],
            "label": "1992",
            "method": "animate"
           },
           {
            "args": [
             [
              "1993"
             ],
             {
              "frame": {
               "duration": 0,
               "redraw": true
              },
              "mode": "immediate",
              "fromcurrent": true,
              "transition": {
               "duration": 0,
               "easing": "linear"
              }
             }
            ],
            "label": "1993",
            "method": "animate"
           },
           {
            "args": [
             [
              "1994"
             ],
             {
              "frame": {
               "duration": 0,
               "redraw": true
              },
              "mode": "immediate",
              "fromcurrent": true,
              "transition": {
               "duration": 0,
               "easing": "linear"
              }
             }
            ],
            "label": "1994",
            "method": "animate"
           },
           {
            "args": [
             [
              "1995"
             ],
             {
              "frame": {
               "duration": 0,
               "redraw": true
              },
              "mode": "immediate",
              "fromcurrent": true,
              "transition": {
               "duration": 0,
               "easing": "linear"
              }
             }
            ],
            "label": "1995",
            "method": "animate"
           },
           {
            "args": [
             [
              "1996"
             ],
             {
              "frame": {
               "duration": 0,
               "redraw": true
              },
              "mode": "immediate",
              "fromcurrent": true,
              "transition": {
               "duration": 0,
               "easing": "linear"
              }
             }
            ],
            "label": "1996",
            "method": "animate"
           },
           {
            "args": [
             [
              "1997"
             ],
             {
              "frame": {
               "duration": 0,
               "redraw": true
              },
              "mode": "immediate",
              "fromcurrent": true,
              "transition": {
               "duration": 0,
               "easing": "linear"
              }
             }
            ],
            "label": "1997",
            "method": "animate"
           },
           {
            "args": [
             [
              "1998"
             ],
             {
              "frame": {
               "duration": 0,
               "redraw": true
              },
              "mode": "immediate",
              "fromcurrent": true,
              "transition": {
               "duration": 0,
               "easing": "linear"
              }
             }
            ],
            "label": "1998",
            "method": "animate"
           },
           {
            "args": [
             [
              "1999"
             ],
             {
              "frame": {
               "duration": 0,
               "redraw": true
              },
              "mode": "immediate",
              "fromcurrent": true,
              "transition": {
               "duration": 0,
               "easing": "linear"
              }
             }
            ],
            "label": "1999",
            "method": "animate"
           },
           {
            "args": [
             [
              "2000"
             ],
             {
              "frame": {
               "duration": 0,
               "redraw": true
              },
              "mode": "immediate",
              "fromcurrent": true,
              "transition": {
               "duration": 0,
               "easing": "linear"
              }
             }
            ],
            "label": "2000",
            "method": "animate"
           },
           {
            "args": [
             [
              "2001"
             ],
             {
              "frame": {
               "duration": 0,
               "redraw": true
              },
              "mode": "immediate",
              "fromcurrent": true,
              "transition": {
               "duration": 0,
               "easing": "linear"
              }
             }
            ],
            "label": "2001",
            "method": "animate"
           },
           {
            "args": [
             [
              "2002"
             ],
             {
              "frame": {
               "duration": 0,
               "redraw": true
              },
              "mode": "immediate",
              "fromcurrent": true,
              "transition": {
               "duration": 0,
               "easing": "linear"
              }
             }
            ],
            "label": "2002",
            "method": "animate"
           },
           {
            "args": [
             [
              "2003"
             ],
             {
              "frame": {
               "duration": 0,
               "redraw": true
              },
              "mode": "immediate",
              "fromcurrent": true,
              "transition": {
               "duration": 0,
               "easing": "linear"
              }
             }
            ],
            "label": "2003",
            "method": "animate"
           },
           {
            "args": [
             [
              "2004"
             ],
             {
              "frame": {
               "duration": 0,
               "redraw": true
              },
              "mode": "immediate",
              "fromcurrent": true,
              "transition": {
               "duration": 0,
               "easing": "linear"
              }
             }
            ],
            "label": "2004",
            "method": "animate"
           },
           {
            "args": [
             [
              "2005"
             ],
             {
              "frame": {
               "duration": 0,
               "redraw": true
              },
              "mode": "immediate",
              "fromcurrent": true,
              "transition": {
               "duration": 0,
               "easing": "linear"
              }
             }
            ],
            "label": "2005",
            "method": "animate"
           },
           {
            "args": [
             [
              "2006"
             ],
             {
              "frame": {
               "duration": 0,
               "redraw": true
              },
              "mode": "immediate",
              "fromcurrent": true,
              "transition": {
               "duration": 0,
               "easing": "linear"
              }
             }
            ],
            "label": "2006",
            "method": "animate"
           },
           {
            "args": [
             [
              "2007"
             ],
             {
              "frame": {
               "duration": 0,
               "redraw": true
              },
              "mode": "immediate",
              "fromcurrent": true,
              "transition": {
               "duration": 0,
               "easing": "linear"
              }
             }
            ],
            "label": "2007",
            "method": "animate"
           },
           {
            "args": [
             [
              "2008"
             ],
             {
              "frame": {
               "duration": 0,
               "redraw": true
              },
              "mode": "immediate",
              "fromcurrent": true,
              "transition": {
               "duration": 0,
               "easing": "linear"
              }
             }
            ],
            "label": "2008",
            "method": "animate"
           },
           {
            "args": [
             [
              "2009"
             ],
             {
              "frame": {
               "duration": 0,
               "redraw": true
              },
              "mode": "immediate",
              "fromcurrent": true,
              "transition": {
               "duration": 0,
               "easing": "linear"
              }
             }
            ],
            "label": "2009",
            "method": "animate"
           },
           {
            "args": [
             [
              "2010"
             ],
             {
              "frame": {
               "duration": 0,
               "redraw": true
              },
              "mode": "immediate",
              "fromcurrent": true,
              "transition": {
               "duration": 0,
               "easing": "linear"
              }
             }
            ],
            "label": "2010",
            "method": "animate"
           },
           {
            "args": [
             [
              "2011"
             ],
             {
              "frame": {
               "duration": 0,
               "redraw": true
              },
              "mode": "immediate",
              "fromcurrent": true,
              "transition": {
               "duration": 0,
               "easing": "linear"
              }
             }
            ],
            "label": "2011",
            "method": "animate"
           },
           {
            "args": [
             [
              "2012"
             ],
             {
              "frame": {
               "duration": 0,
               "redraw": true
              },
              "mode": "immediate",
              "fromcurrent": true,
              "transition": {
               "duration": 0,
               "easing": "linear"
              }
             }
            ],
            "label": "2012",
            "method": "animate"
           },
           {
            "args": [
             [
              "2013"
             ],
             {
              "frame": {
               "duration": 0,
               "redraw": true
              },
              "mode": "immediate",
              "fromcurrent": true,
              "transition": {
               "duration": 0,
               "easing": "linear"
              }
             }
            ],
            "label": "2013",
            "method": "animate"
           }
          ],
          "x": 0.1,
          "xanchor": "left",
          "y": 0,
          "yanchor": "top"
         }
        ],
        "showlegend": false
       },
       "frames": [
        {
         "data": [
          {
           "alignmentgroup": "True",
           "hovertemplate": "Countries=%{x}<br>Year=1990<br>Export by Volume=%{y}<extra></extra>",
           "legendgroup": "Brazil",
           "marker": {
            "color": "#636efa",
            "pattern": {
             "shape": ""
            }
           },
           "name": "Brazil",
           "offsetgroup": "Brazil",
           "orientation": "v",
           "showlegend": true,
           "textposition": "auto",
           "x": [
            "Brazil"
           ],
           "xaxis": "x",
           "y": [
            16935.7876003
           ],
           "yaxis": "y",
           "type": "bar"
          },
          {
           "alignmentgroup": "True",
           "hovertemplate": "Countries=%{x}<br>Year=1990<br>Export by Volume=%{y}<extra></extra>",
           "legendgroup": "Colombia",
           "marker": {
            "color": "#EF553B",
            "pattern": {
             "shape": ""
            }
           },
           "name": "Colombia",
           "offsetgroup": "Colombia",
           "orientation": "v",
           "showlegend": true,
           "textposition": "auto",
           "x": [
            "Colombia"
           ],
           "xaxis": "x",
           "y": [
            13943.8700004
           ],
           "yaxis": "y",
           "type": "bar"
          },
          {
           "alignmentgroup": "True",
           "hovertemplate": "Countries=%{x}<br>Year=1990<br>Export by Volume=%{y}<extra></extra>",
           "legendgroup": "Ethiopia",
           "marker": {
            "color": "#00cc96",
            "pattern": {
             "shape": ""
            }
           },
           "name": "Ethiopia",
           "offsetgroup": "Ethiopia",
           "orientation": "v",
           "showlegend": true,
           "textposition": "auto",
           "x": [
            "Ethiopia"
           ],
           "xaxis": "x",
           "y": [
            1074.101
           ],
           "yaxis": "y",
           "type": "bar"
          },
          {
           "alignmentgroup": "True",
           "hovertemplate": "Countries=%{x}<br>Year=1990<br>Export by Volume=%{y}<extra></extra>",
           "legendgroup": "Honduras",
           "marker": {
            "color": "#ab63fa",
            "pattern": {
             "shape": ""
            }
           },
           "name": "Honduras",
           "offsetgroup": "Honduras",
           "orientation": "v",
           "showlegend": true,
           "textposition": "auto",
           "x": [
            "Honduras"
           ],
           "xaxis": "x",
           "y": [
            1735.093
           ],
           "yaxis": "y",
           "type": "bar"
          },
          {
           "alignmentgroup": "True",
           "hovertemplate": "Countries=%{x}<br>Year=1990<br>Export by Volume=%{y}<extra></extra>",
           "legendgroup": "Indonesia",
           "marker": {
            "color": "#FFA15A",
            "pattern": {
             "shape": ""
            }
           },
           "name": "Indonesia",
           "offsetgroup": "Indonesia",
           "orientation": "v",
           "showlegend": true,
           "textposition": "auto",
           "x": [
            "Indonesia"
           ],
           "xaxis": "x",
           "y": [
            6903.2269994
           ],
           "yaxis": "y",
           "type": "bar"
          },
          {
           "alignmentgroup": "True",
           "hovertemplate": "Countries=%{x}<br>Year=1990<br>Export by Volume=%{y}<extra></extra>",
           "legendgroup": "Viet Nam",
           "marker": {
            "color": "#19d3f3",
            "pattern": {
             "shape": ""
            }
           },
           "name": "Viet Nam",
           "offsetgroup": "Viet Nam",
           "orientation": "v",
           "showlegend": true,
           "textposition": "auto",
           "x": [
            "Viet Nam"
           ],
           "xaxis": "x",
           "y": [
            1145.2340014
           ],
           "yaxis": "y",
           "type": "bar"
          }
         ],
         "name": "1990"
        },
        {
         "data": [
          {
           "alignmentgroup": "True",
           "hovertemplate": "Countries=%{x}<br>Year=1991<br>Export by Volume=%{y}<extra></extra>",
           "legendgroup": "Brazil",
           "marker": {
            "color": "#636efa",
            "pattern": {
             "shape": ""
            }
           },
           "name": "Brazil",
           "offsetgroup": "Brazil",
           "orientation": "v",
           "showlegend": true,
           "textposition": "auto",
           "x": [
            "Brazil"
           ],
           "xaxis": "x",
           "y": [
            21182.7614023
           ],
           "yaxis": "y",
           "type": "bar"
          },
          {
           "alignmentgroup": "True",
           "hovertemplate": "Countries=%{x}<br>Year=1991<br>Export by Volume=%{y}<extra></extra>",
           "legendgroup": "Colombia",
           "marker": {
            "color": "#EF553B",
            "pattern": {
             "shape": ""
            }
           },
           "name": "Colombia",
           "offsetgroup": "Colombia",
           "orientation": "v",
           "showlegend": true,
           "textposition": "auto",
           "x": [
            "Colombia"
           ],
           "xaxis": "x",
           "y": [
            12599.1849983
           ],
           "yaxis": "y",
           "type": "bar"
          },
          {
           "alignmentgroup": "True",
           "hovertemplate": "Countries=%{x}<br>Year=1991<br>Export by Volume=%{y}<extra></extra>",
           "legendgroup": "Ethiopia",
           "marker": {
            "color": "#00cc96",
            "pattern": {
             "shape": ""
            }
           },
           "name": "Ethiopia",
           "offsetgroup": "Ethiopia",
           "orientation": "v",
           "showlegend": true,
           "textposition": "auto",
           "x": [
            "Ethiopia"
           ],
           "xaxis": "x",
           "y": [
            841.329
           ],
           "yaxis": "y",
           "type": "bar"
          },
          {
           "alignmentgroup": "True",
           "hovertemplate": "Countries=%{x}<br>Year=1991<br>Export by Volume=%{y}<extra></extra>",
           "legendgroup": "Honduras",
           "marker": {
            "color": "#ab63fa",
            "pattern": {
             "shape": ""
            }
           },
           "name": "Honduras",
           "offsetgroup": "Honduras",
           "orientation": "v",
           "showlegend": true,
           "textposition": "auto",
           "x": [
            "Honduras"
           ],
           "xaxis": "x",
           "y": [
            1444.363
           ],
           "yaxis": "y",
           "type": "bar"
          },
          {
           "alignmentgroup": "True",
           "hovertemplate": "Countries=%{x}<br>Year=1991<br>Export by Volume=%{y}<extra></extra>",
           "legendgroup": "Indonesia",
           "marker": {
            "color": "#FFA15A",
            "pattern": {
             "shape": ""
            }
           },
           "name": "Indonesia",
           "offsetgroup": "Indonesia",
           "orientation": "v",
           "showlegend": true,
           "textposition": "auto",
           "x": [
            "Indonesia"
           ],
           "xaxis": "x",
           "y": [
            6170.7960001
           ],
           "yaxis": "y",
           "type": "bar"
          },
          {
           "alignmentgroup": "True",
           "hovertemplate": "Countries=%{x}<br>Year=1991<br>Export by Volume=%{y}<extra></extra>",
           "legendgroup": "Viet Nam",
           "marker": {
            "color": "#19d3f3",
            "pattern": {
             "shape": ""
            }
           },
           "name": "Viet Nam",
           "offsetgroup": "Viet Nam",
           "orientation": "v",
           "showlegend": true,
           "textposition": "auto",
           "x": [
            "Viet Nam"
           ],
           "xaxis": "x",
           "y": [
            1200.952
           ],
           "yaxis": "y",
           "type": "bar"
          }
         ],
         "name": "1991"
        },
        {
         "data": [
          {
           "alignmentgroup": "True",
           "hovertemplate": "Countries=%{x}<br>Year=1992<br>Export by Volume=%{y}<extra></extra>",
           "legendgroup": "Brazil",
           "marker": {
            "color": "#636efa",
            "pattern": {
             "shape": ""
            }
           },
           "name": "Brazil",
           "offsetgroup": "Brazil",
           "orientation": "v",
           "showlegend": true,
           "textposition": "auto",
           "x": [
            "Brazil"
           ],
           "xaxis": "x",
           "y": [
            18790.7192021
           ],
           "yaxis": "y",
           "type": "bar"
          },
          {
           "alignmentgroup": "True",
           "hovertemplate": "Countries=%{x}<br>Year=1992<br>Export by Volume=%{y}<extra></extra>",
           "legendgroup": "Colombia",
           "marker": {
            "color": "#EF553B",
            "pattern": {
             "shape": ""
            }
           },
           "name": "Colombia",
           "offsetgroup": "Colombia",
           "orientation": "v",
           "showlegend": true,
           "textposition": "auto",
           "x": [
            "Colombia"
           ],
           "xaxis": "x",
           "y": [
            16564.3700008
           ],
           "yaxis": "y",
           "type": "bar"
          },
          {
           "alignmentgroup": "True",
           "hovertemplate": "Countries=%{x}<br>Year=1992<br>Export by Volume=%{y}<extra></extra>",
           "legendgroup": "Ethiopia",
           "marker": {
            "color": "#00cc96",
            "pattern": {
             "shape": ""
            }
           },
           "name": "Ethiopia",
           "offsetgroup": "Ethiopia",
           "orientation": "v",
           "showlegend": true,
           "textposition": "auto",
           "x": [
            "Ethiopia"
           ],
           "xaxis": "x",
           "y": [
            734.461
           ],
           "yaxis": "y",
           "type": "bar"
          },
          {
           "alignmentgroup": "True",
           "hovertemplate": "Countries=%{x}<br>Year=1992<br>Export by Volume=%{y}<extra></extra>",
           "legendgroup": "Honduras",
           "marker": {
            "color": "#ab63fa",
            "pattern": {
             "shape": ""
            }
           },
           "name": "Honduras",
           "offsetgroup": "Honduras",
           "orientation": "v",
           "showlegend": true,
           "textposition": "auto",
           "x": [
            "Honduras"
           ],
           "xaxis": "x",
           "y": [
            1960.071
           ],
           "yaxis": "y",
           "type": "bar"
          },
          {
           "alignmentgroup": "True",
           "hovertemplate": "Countries=%{x}<br>Year=1992<br>Export by Volume=%{y}<extra></extra>",
           "legendgroup": "Indonesia",
           "marker": {
            "color": "#FFA15A",
            "pattern": {
             "shape": ""
            }
           },
           "name": "Indonesia",
           "offsetgroup": "Indonesia",
           "orientation": "v",
           "showlegend": true,
           "textposition": "auto",
           "x": [
            "Indonesia"
           ],
           "xaxis": "x",
           "y": [
            4603.6959999
           ],
           "yaxis": "y",
           "type": "bar"
          },
          {
           "alignmentgroup": "True",
           "hovertemplate": "Countries=%{x}<br>Year=1992<br>Export by Volume=%{y}<extra></extra>",
           "legendgroup": "Viet Nam",
           "marker": {
            "color": "#19d3f3",
            "pattern": {
             "shape": ""
            }
           },
           "name": "Viet Nam",
           "offsetgroup": "Viet Nam",
           "orientation": "v",
           "showlegend": true,
           "textposition": "auto",
           "x": [
            "Viet Nam"
           ],
           "xaxis": "x",
           "y": [
            1937.611
           ],
           "yaxis": "y",
           "type": "bar"
          }
         ],
         "name": "1992"
        },
        {
         "data": [
          {
           "alignmentgroup": "True",
           "hovertemplate": "Countries=%{x}<br>Year=1993<br>Export by Volume=%{y}<extra></extra>",
           "legendgroup": "Brazil",
           "marker": {
            "color": "#636efa",
            "pattern": {
             "shape": ""
            }
           },
           "name": "Brazil",
           "offsetgroup": "Brazil",
           "orientation": "v",
           "showlegend": true,
           "textposition": "auto",
           "x": [
            "Brazil"
           ],
           "xaxis": "x",
           "y": [
            17837.7479992
           ],
           "yaxis": "y",
           "type": "bar"
          },
          {
           "alignmentgroup": "True",
           "hovertemplate": "Countries=%{x}<br>Year=1993<br>Export by Volume=%{y}<extra></extra>",
           "legendgroup": "Colombia",
           "marker": {
            "color": "#EF553B",
            "pattern": {
             "shape": ""
            }
           },
           "name": "Colombia",
           "offsetgroup": "Colombia",
           "orientation": "v",
           "showlegend": true,
           "textposition": "auto",
           "x": [
            "Colombia"
           ],
           "xaxis": "x",
           "y": [
            13568.3620035
           ],
           "yaxis": "y",
           "type": "bar"
          },
          {
           "alignmentgroup": "True",
           "hovertemplate": "Countries=%{x}<br>Year=1993<br>Export by Volume=%{y}<extra></extra>",
           "legendgroup": "Ethiopia",
           "marker": {
            "color": "#00cc96",
            "pattern": {
             "shape": ""
            }
           },
           "name": "Ethiopia",
           "offsetgroup": "Ethiopia",
           "orientation": "v",
           "showlegend": true,
           "textposition": "auto",
           "x": [
            "Ethiopia"
           ],
           "xaxis": "x",
           "y": [
            1166.778
           ],
           "yaxis": "y",
           "type": "bar"
          },
          {
           "alignmentgroup": "True",
           "hovertemplate": "Countries=%{x}<br>Year=1993<br>Export by Volume=%{y}<extra></extra>",
           "legendgroup": "Honduras",
           "marker": {
            "color": "#ab63fa",
            "pattern": {
             "shape": ""
            }
           },
           "name": "Honduras",
           "offsetgroup": "Honduras",
           "orientation": "v",
           "showlegend": true,
           "textposition": "auto",
           "x": [
            "Honduras"
           ],
           "xaxis": "x",
           "y": [
            1705.317
           ],
           "yaxis": "y",
           "type": "bar"
          },
          {
           "alignmentgroup": "True",
           "hovertemplate": "Countries=%{x}<br>Year=1993<br>Export by Volume=%{y}<extra></extra>",
           "legendgroup": "Indonesia",
           "marker": {
            "color": "#FFA15A",
            "pattern": {
             "shape": ""
            }
           },
           "name": "Indonesia",
           "offsetgroup": "Indonesia",
           "orientation": "v",
           "showlegend": true,
           "textposition": "auto",
           "x": [
            "Indonesia"
           ],
           "xaxis": "x",
           "y": [
            5662.0940006
           ],
           "yaxis": "y",
           "type": "bar"
          },
          {
           "alignmentgroup": "True",
           "hovertemplate": "Countries=%{x}<br>Year=1993<br>Export by Volume=%{y}<extra></extra>",
           "legendgroup": "Viet Nam",
           "marker": {
            "color": "#19d3f3",
            "pattern": {
             "shape": ""
            }
           },
           "name": "Viet Nam",
           "offsetgroup": "Viet Nam",
           "orientation": "v",
           "showlegend": true,
           "textposition": "auto",
           "x": [
            "Viet Nam"
           ],
           "xaxis": "x",
           "y": [
            2071.8369999
           ],
           "yaxis": "y",
           "type": "bar"
          }
         ],
         "name": "1993"
        },
        {
         "data": [
          {
           "alignmentgroup": "True",
           "hovertemplate": "Countries=%{x}<br>Year=1994<br>Export by Volume=%{y}<extra></extra>",
           "legendgroup": "Brazil",
           "marker": {
            "color": "#636efa",
            "pattern": {
             "shape": ""
            }
           },
           "name": "Brazil",
           "offsetgroup": "Brazil",
           "orientation": "v",
           "showlegend": true,
           "textposition": "auto",
           "x": [
            "Brazil"
           ],
           "xaxis": "x",
           "y": [
            17273.1476003
           ],
           "yaxis": "y",
           "type": "bar"
          },
          {
           "alignmentgroup": "True",
           "hovertemplate": "Countries=%{x}<br>Year=1994<br>Export by Volume=%{y}<extra></extra>",
           "legendgroup": "Colombia",
           "marker": {
            "color": "#EF553B",
            "pattern": {
             "shape": ""
            }
           },
           "name": "Colombia",
           "offsetgroup": "Colombia",
           "orientation": "v",
           "showlegend": true,
           "textposition": "auto",
           "x": [
            "Colombia"
           ],
           "xaxis": "x",
           "y": [
            11768.0890004
           ],
           "yaxis": "y",
           "type": "bar"
          },
          {
           "alignmentgroup": "True",
           "hovertemplate": "Countries=%{x}<br>Year=1994<br>Export by Volume=%{y}<extra></extra>",
           "legendgroup": "Ethiopia",
           "marker": {
            "color": "#00cc96",
            "pattern": {
             "shape": ""
            }
           },
           "name": "Ethiopia",
           "offsetgroup": "Ethiopia",
           "orientation": "v",
           "showlegend": true,
           "textposition": "auto",
           "x": [
            "Ethiopia"
           ],
           "xaxis": "x",
           "y": [
            1475.325
           ],
           "yaxis": "y",
           "type": "bar"
          },
          {
           "alignmentgroup": "True",
           "hovertemplate": "Countries=%{x}<br>Year=1994<br>Export by Volume=%{y}<extra></extra>",
           "legendgroup": "Honduras",
           "marker": {
            "color": "#ab63fa",
            "pattern": {
             "shape": ""
            }
           },
           "name": "Honduras",
           "offsetgroup": "Honduras",
           "orientation": "v",
           "showlegend": true,
           "textposition": "auto",
           "x": [
            "Honduras"
           ],
           "xaxis": "x",
           "y": [
            1718.185
           ],
           "yaxis": "y",
           "type": "bar"
          },
          {
           "alignmentgroup": "True",
           "hovertemplate": "Countries=%{x}<br>Year=1994<br>Export by Volume=%{y}<extra></extra>",
           "legendgroup": "Indonesia",
           "marker": {
            "color": "#FFA15A",
            "pattern": {
             "shape": ""
            }
           },
           "name": "Indonesia",
           "offsetgroup": "Indonesia",
           "orientation": "v",
           "showlegend": true,
           "textposition": "auto",
           "x": [
            "Indonesia"
           ],
           "xaxis": "x",
           "y": [
            4604.6299989
           ],
           "yaxis": "y",
           "type": "bar"
          },
          {
           "alignmentgroup": "True",
           "hovertemplate": "Countries=%{x}<br>Year=1994<br>Export by Volume=%{y}<extra></extra>",
           "legendgroup": "Viet Nam",
           "marker": {
            "color": "#19d3f3",
            "pattern": {
             "shape": ""
            }
           },
           "name": "Viet Nam",
           "offsetgroup": "Viet Nam",
           "orientation": "v",
           "showlegend": true,
           "textposition": "auto",
           "x": [
            "Viet Nam"
           ],
           "xaxis": "x",
           "y": [
            2720.911
           ],
           "yaxis": "y",
           "type": "bar"
          }
         ],
         "name": "1994"
        },
        {
         "data": [
          {
           "alignmentgroup": "True",
           "hovertemplate": "Countries=%{x}<br>Year=1995<br>Export by Volume=%{y}<extra></extra>",
           "legendgroup": "Brazil",
           "marker": {
            "color": "#636efa",
            "pattern": {
             "shape": ""
            }
           },
           "name": "Brazil",
           "offsetgroup": "Brazil",
           "orientation": "v",
           "showlegend": true,
           "textposition": "auto",
           "x": [
            "Brazil"
           ],
           "xaxis": "x",
           "y": [
            14468.4322014
           ],
           "yaxis": "y",
           "type": "bar"
          },
          {
           "alignmentgroup": "True",
           "hovertemplate": "Countries=%{x}<br>Year=1995<br>Export by Volume=%{y}<extra></extra>",
           "legendgroup": "Colombia",
           "marker": {
            "color": "#EF553B",
            "pattern": {
             "shape": ""
            }
           },
           "name": "Colombia",
           "offsetgroup": "Colombia",
           "orientation": "v",
           "showlegend": true,
           "textposition": "auto",
           "x": [
            "Colombia"
           ],
           "xaxis": "x",
           "y": [
            9814.1969996
           ],
           "yaxis": "y",
           "type": "bar"
          },
          {
           "alignmentgroup": "True",
           "hovertemplate": "Countries=%{x}<br>Year=1995<br>Export by Volume=%{y}<extra></extra>",
           "legendgroup": "Ethiopia",
           "marker": {
            "color": "#00cc96",
            "pattern": {
             "shape": ""
            }
           },
           "name": "Ethiopia",
           "offsetgroup": "Ethiopia",
           "orientation": "v",
           "showlegend": true,
           "textposition": "auto",
           "x": [
            "Ethiopia"
           ],
           "xaxis": "x",
           "y": [
            1276.118
           ],
           "yaxis": "y",
           "type": "bar"
          },
          {
           "alignmentgroup": "True",
           "hovertemplate": "Countries=%{x}<br>Year=1995<br>Export by Volume=%{y}<extra></extra>",
           "legendgroup": "Honduras",
           "marker": {
            "color": "#ab63fa",
            "pattern": {
             "shape": ""
            }
           },
           "name": "Honduras",
           "offsetgroup": "Honduras",
           "orientation": "v",
           "showlegend": true,
           "textposition": "auto",
           "x": [
            "Honduras"
           ],
           "xaxis": "x",
           "y": [
            1795.963
           ],
           "yaxis": "y",
           "type": "bar"
          },
          {
           "alignmentgroup": "True",
           "hovertemplate": "Countries=%{x}<br>Year=1995<br>Export by Volume=%{y}<extra></extra>",
           "legendgroup": "Indonesia",
           "marker": {
            "color": "#FFA15A",
            "pattern": {
             "shape": ""
            }
           },
           "name": "Indonesia",
           "offsetgroup": "Indonesia",
           "orientation": "v",
           "showlegend": true,
           "textposition": "auto",
           "x": [
            "Indonesia"
           ],
           "xaxis": "x",
           "y": [
            3946.5850006
           ],
           "yaxis": "y",
           "type": "bar"
          },
          {
           "alignmentgroup": "True",
           "hovertemplate": "Countries=%{x}<br>Year=1995<br>Export by Volume=%{y}<extra></extra>",
           "legendgroup": "Viet Nam",
           "marker": {
            "color": "#19d3f3",
            "pattern": {
             "shape": ""
            }
           },
           "name": "Viet Nam",
           "offsetgroup": "Viet Nam",
           "orientation": "v",
           "showlegend": true,
           "textposition": "auto",
           "x": [
            "Viet Nam"
           ],
           "xaxis": "x",
           "y": [
            3546.405
           ],
           "yaxis": "y",
           "type": "bar"
          }
         ],
         "name": "1995"
        },
        {
         "data": [
          {
           "alignmentgroup": "True",
           "hovertemplate": "Countries=%{x}<br>Year=1996<br>Export by Volume=%{y}<extra></extra>",
           "legendgroup": "Brazil",
           "marker": {
            "color": "#636efa",
            "pattern": {
             "shape": ""
            }
           },
           "name": "Brazil",
           "offsetgroup": "Brazil",
           "orientation": "v",
           "showlegend": true,
           "textposition": "auto",
           "x": [
            "Brazil"
           ],
           "xaxis": "x",
           "y": [
            15250.6090018
           ],
           "yaxis": "y",
           "type": "bar"
          },
          {
           "alignmentgroup": "True",
           "hovertemplate": "Countries=%{x}<br>Year=1996<br>Export by Volume=%{y}<extra></extra>",
           "legendgroup": "Colombia",
           "marker": {
            "color": "#EF553B",
            "pattern": {
             "shape": ""
            }
           },
           "name": "Colombia",
           "offsetgroup": "Colombia",
           "orientation": "v",
           "showlegend": true,
           "textposition": "auto",
           "x": [
            "Colombia"
           ],
           "xaxis": "x",
           "y": [
            10588.4309984
           ],
           "yaxis": "y",
           "type": "bar"
          },
          {
           "alignmentgroup": "True",
           "hovertemplate": "Countries=%{x}<br>Year=1996<br>Export by Volume=%{y}<extra></extra>",
           "legendgroup": "Ethiopia",
           "marker": {
            "color": "#00cc96",
            "pattern": {
             "shape": ""
            }
           },
           "name": "Ethiopia",
           "offsetgroup": "Ethiopia",
           "orientation": "v",
           "showlegend": true,
           "textposition": "auto",
           "x": [
            "Ethiopia"
           ],
           "xaxis": "x",
           "y": [
            1838.231
           ],
           "yaxis": "y",
           "type": "bar"
          },
          {
           "alignmentgroup": "True",
           "hovertemplate": "Countries=%{x}<br>Year=1996<br>Export by Volume=%{y}<extra></extra>",
           "legendgroup": "Honduras",
           "marker": {
            "color": "#ab63fa",
            "pattern": {
             "shape": ""
            }
           },
           "name": "Honduras",
           "offsetgroup": "Honduras",
           "orientation": "v",
           "showlegend": true,
           "textposition": "auto",
           "x": [
            "Honduras"
           ],
           "xaxis": "x",
           "y": [
            2059.76
           ],
           "yaxis": "y",
           "type": "bar"
          },
          {
           "alignmentgroup": "True",
           "hovertemplate": "Countries=%{x}<br>Year=1996<br>Export by Volume=%{y}<extra></extra>",
           "legendgroup": "Indonesia",
           "marker": {
            "color": "#FFA15A",
            "pattern": {
             "shape": ""
            }
           },
           "name": "Indonesia",
           "offsetgroup": "Indonesia",
           "orientation": "v",
           "showlegend": true,
           "textposition": "auto",
           "x": [
            "Indonesia"
           ],
           "xaxis": "x",
           "y": [
            6440.28
           ],
           "yaxis": "y",
           "type": "bar"
          },
          {
           "alignmentgroup": "True",
           "hovertemplate": "Countries=%{x}<br>Year=1996<br>Export by Volume=%{y}<extra></extra>",
           "legendgroup": "Viet Nam",
           "marker": {
            "color": "#19d3f3",
            "pattern": {
             "shape": ""
            }
           },
           "name": "Viet Nam",
           "offsetgroup": "Viet Nam",
           "orientation": "v",
           "showlegend": true,
           "textposition": "auto",
           "x": [
            "Viet Nam"
           ],
           "xaxis": "x",
           "y": [
            3779.415
           ],
           "yaxis": "y",
           "type": "bar"
          }
         ],
         "name": "1996"
        },
        {
         "data": [
          {
           "alignmentgroup": "True",
           "hovertemplate": "Countries=%{x}<br>Year=1997<br>Export by Volume=%{y}<extra></extra>",
           "legendgroup": "Brazil",
           "marker": {
            "color": "#636efa",
            "pattern": {
             "shape": ""
            }
           },
           "name": "Brazil",
           "offsetgroup": "Brazil",
           "orientation": "v",
           "showlegend": true,
           "textposition": "auto",
           "x": [
            "Brazil"
           ],
           "xaxis": "x",
           "y": [
            16801.2600051
           ],
           "yaxis": "y",
           "type": "bar"
          },
          {
           "alignmentgroup": "True",
           "hovertemplate": "Countries=%{x}<br>Year=1997<br>Export by Volume=%{y}<extra></extra>",
           "legendgroup": "Colombia",
           "marker": {
            "color": "#EF553B",
            "pattern": {
             "shape": ""
            }
           },
           "name": "Colombia",
           "offsetgroup": "Colombia",
           "orientation": "v",
           "showlegend": true,
           "textposition": "auto",
           "x": [
            "Colombia"
           ],
           "xaxis": "x",
           "y": [
            10918.8630016
           ],
           "yaxis": "y",
           "type": "bar"
          },
          {
           "alignmentgroup": "True",
           "hovertemplate": "Countries=%{x}<br>Year=1997<br>Export by Volume=%{y}<extra></extra>",
           "legendgroup": "Ethiopia",
           "marker": {
            "color": "#00cc96",
            "pattern": {
             "shape": ""
            }
           },
           "name": "Ethiopia",
           "offsetgroup": "Ethiopia",
           "orientation": "v",
           "showlegend": true,
           "textposition": "auto",
           "x": [
            "Ethiopia"
           ],
           "xaxis": "x",
           "y": [
            1979.733
           ],
           "yaxis": "y",
           "type": "bar"
          },
          {
           "alignmentgroup": "True",
           "hovertemplate": "Countries=%{x}<br>Year=1997<br>Export by Volume=%{y}<extra></extra>",
           "legendgroup": "Honduras",
           "marker": {
            "color": "#ab63fa",
            "pattern": {
             "shape": ""
            }
           },
           "name": "Honduras",
           "offsetgroup": "Honduras",
           "orientation": "v",
           "showlegend": true,
           "textposition": "auto",
           "x": [
            "Honduras"
           ],
           "xaxis": "x",
           "y": [
            1722.482
           ],
           "yaxis": "y",
           "type": "bar"
          },
          {
           "alignmentgroup": "True",
           "hovertemplate": "Countries=%{x}<br>Year=1997<br>Export by Volume=%{y}<extra></extra>",
           "legendgroup": "Indonesia",
           "marker": {
            "color": "#FFA15A",
            "pattern": {
             "shape": ""
            }
           },
           "name": "Indonesia",
           "offsetgroup": "Indonesia",
           "orientation": "v",
           "showlegend": true,
           "textposition": "auto",
           "x": [
            "Indonesia"
           ],
           "xaxis": "x",
           "y": [
            5755.0779999
           ],
           "yaxis": "y",
           "type": "bar"
          },
          {
           "alignmentgroup": "True",
           "hovertemplate": "Countries=%{x}<br>Year=1997<br>Export by Volume=%{y}<extra></extra>",
           "legendgroup": "Viet Nam",
           "marker": {
            "color": "#19d3f3",
            "pattern": {
             "shape": ""
            }
           },
           "name": "Viet Nam",
           "offsetgroup": "Viet Nam",
           "orientation": "v",
           "showlegend": true,
           "textposition": "auto",
           "x": [
            "Viet Nam"
           ],
           "xaxis": "x",
           "y": [
            6177.8340002
           ],
           "yaxis": "y",
           "type": "bar"
          }
         ],
         "name": "1997"
        },
        {
         "data": [
          {
           "alignmentgroup": "True",
           "hovertemplate": "Countries=%{x}<br>Year=1998<br>Export by Volume=%{y}<extra></extra>",
           "legendgroup": "Brazil",
           "marker": {
            "color": "#636efa",
            "pattern": {
             "shape": ""
            }
           },
           "name": "Brazil",
           "offsetgroup": "Brazil",
           "orientation": "v",
           "showlegend": true,
           "textposition": "auto",
           "x": [
            "Brazil"
           ],
           "xaxis": "x",
           "y": [
            18144.3883339
           ],
           "yaxis": "y",
           "type": "bar"
          },
          {
           "alignmentgroup": "True",
           "hovertemplate": "Countries=%{x}<br>Year=1998<br>Export by Volume=%{y}<extra></extra>",
           "legendgroup": "Colombia",
           "marker": {
            "color": "#EF553B",
            "pattern": {
             "shape": ""
            }
           },
           "name": "Colombia",
           "offsetgroup": "Colombia",
           "orientation": "v",
           "showlegend": true,
           "textposition": "auto",
           "x": [
            "Colombia"
           ],
           "xaxis": "x",
           "y": [
            11259.9289995
           ],
           "yaxis": "y",
           "type": "bar"
          },
          {
           "alignmentgroup": "True",
           "hovertemplate": "Countries=%{x}<br>Year=1998<br>Export by Volume=%{y}<extra></extra>",
           "legendgroup": "Ethiopia",
           "marker": {
            "color": "#00cc96",
            "pattern": {
             "shape": ""
            }
           },
           "name": "Ethiopia",
           "offsetgroup": "Ethiopia",
           "orientation": "v",
           "showlegend": true,
           "textposition": "auto",
           "x": [
            "Ethiopia"
           ],
           "xaxis": "x",
           "y": [
            1917.061
           ],
           "yaxis": "y",
           "type": "bar"
          },
          {
           "alignmentgroup": "True",
           "hovertemplate": "Countries=%{x}<br>Year=1998<br>Export by Volume=%{y}<extra></extra>",
           "legendgroup": "Honduras",
           "marker": {
            "color": "#ab63fa",
            "pattern": {
             "shape": ""
            }
           },
           "name": "Honduras",
           "offsetgroup": "Honduras",
           "orientation": "v",
           "showlegend": true,
           "textposition": "auto",
           "x": [
            "Honduras"
           ],
           "xaxis": "x",
           "y": [
            2329.274
           ],
           "yaxis": "y",
           "type": "bar"
          },
          {
           "alignmentgroup": "True",
           "hovertemplate": "Countries=%{x}<br>Year=1998<br>Export by Volume=%{y}<extra></extra>",
           "legendgroup": "Indonesia",
           "marker": {
            "color": "#FFA15A",
            "pattern": {
             "shape": ""
            }
           },
           "name": "Indonesia",
           "offsetgroup": "Indonesia",
           "orientation": "v",
           "showlegend": true,
           "textposition": "auto",
           "x": [
            "Indonesia"
           ],
           "xaxis": "x",
           "y": [
            5598.0319992
           ],
           "yaxis": "y",
           "type": "bar"
          },
          {
           "alignmentgroup": "True",
           "hovertemplate": "Countries=%{x}<br>Year=1998<br>Export by Volume=%{y}<extra></extra>",
           "legendgroup": "Viet Nam",
           "marker": {
            "color": "#19d3f3",
            "pattern": {
             "shape": ""
            }
           },
           "name": "Viet Nam",
           "offsetgroup": "Viet Nam",
           "orientation": "v",
           "showlegend": true,
           "textposition": "auto",
           "x": [
            "Viet Nam"
           ],
           "xaxis": "x",
           "y": [
            6466.7120002
           ],
           "yaxis": "y",
           "type": "bar"
          }
         ],
         "name": "1998"
        },
        {
         "data": [
          {
           "alignmentgroup": "True",
           "hovertemplate": "Countries=%{x}<br>Year=1999<br>Export by Volume=%{y}<extra></extra>",
           "legendgroup": "Brazil",
           "marker": {
            "color": "#636efa",
            "pattern": {
             "shape": ""
            }
           },
           "name": "Brazil",
           "offsetgroup": "Brazil",
           "orientation": "v",
           "showlegend": true,
           "textposition": "auto",
           "x": [
            "Brazil"
           ],
           "xaxis": "x",
           "y": [
            23149.2038037
           ],
           "yaxis": "y",
           "type": "bar"
          },
          {
           "alignmentgroup": "True",
           "hovertemplate": "Countries=%{x}<br>Year=1999<br>Export by Volume=%{y}<extra></extra>",
           "legendgroup": "Colombia",
           "marker": {
            "color": "#EF553B",
            "pattern": {
             "shape": ""
            }
           },
           "name": "Colombia",
           "offsetgroup": "Colombia",
           "orientation": "v",
           "showlegend": true,
           "textposition": "auto",
           "x": [
            "Colombia"
           ],
           "xaxis": "x",
           "y": [
            9995.3100014
           ],
           "yaxis": "y",
           "type": "bar"
          },
          {
           "alignmentgroup": "True",
           "hovertemplate": "Countries=%{x}<br>Year=1999<br>Export by Volume=%{y}<extra></extra>",
           "legendgroup": "Ethiopia",
           "marker": {
            "color": "#00cc96",
            "pattern": {
             "shape": ""
            }
           },
           "name": "Ethiopia",
           "offsetgroup": "Ethiopia",
           "orientation": "v",
           "showlegend": true,
           "textposition": "auto",
           "x": [
            "Ethiopia"
           ],
           "xaxis": "x",
           "y": [
            1818.087
           ],
           "yaxis": "y",
           "type": "bar"
          },
          {
           "alignmentgroup": "True",
           "hovertemplate": "Countries=%{x}<br>Year=1999<br>Export by Volume=%{y}<extra></extra>",
           "legendgroup": "Honduras",
           "marker": {
            "color": "#ab63fa",
            "pattern": {
             "shape": ""
            }
           },
           "name": "Honduras",
           "offsetgroup": "Honduras",
           "orientation": "v",
           "showlegend": true,
           "textposition": "auto",
           "x": [
            "Honduras"
           ],
           "xaxis": "x",
           "y": [
            1986.603
           ],
           "yaxis": "y",
           "type": "bar"
          },
          {
           "alignmentgroup": "True",
           "hovertemplate": "Countries=%{x}<br>Year=1999<br>Export by Volume=%{y}<extra></extra>",
           "legendgroup": "Indonesia",
           "marker": {
            "color": "#FFA15A",
            "pattern": {
             "shape": ""
            }
           },
           "name": "Indonesia",
           "offsetgroup": "Indonesia",
           "orientation": "v",
           "showlegend": true,
           "textposition": "auto",
           "x": [
            "Indonesia"
           ],
           "xaxis": "x",
           "y": [
            5115.0269995
           ],
           "yaxis": "y",
           "type": "bar"
          },
          {
           "alignmentgroup": "True",
           "hovertemplate": "Countries=%{x}<br>Year=1999<br>Export by Volume=%{y}<extra></extra>",
           "legendgroup": "Viet Nam",
           "marker": {
            "color": "#19d3f3",
            "pattern": {
             "shape": ""
            }
           },
           "name": "Viet Nam",
           "offsetgroup": "Viet Nam",
           "orientation": "v",
           "showlegend": true,
           "textposition": "auto",
           "x": [
            "Viet Nam"
           ],
           "xaxis": "x",
           "y": [
            7727.0130001
           ],
           "yaxis": "y",
           "type": "bar"
          }
         ],
         "name": "1999"
        },
        {
         "data": [
          {
           "alignmentgroup": "True",
           "hovertemplate": "Countries=%{x}<br>Year=2000<br>Export by Volume=%{y}<extra></extra>",
           "legendgroup": "Brazil",
           "marker": {
            "color": "#636efa",
            "pattern": {
             "shape": ""
            }
           },
           "name": "Brazil",
           "offsetgroup": "Brazil",
           "orientation": "v",
           "showlegend": true,
           "textposition": "auto",
           "x": [
            "Brazil"
           ],
           "xaxis": "x",
           "y": [
            18016.2606406
           ],
           "yaxis": "y",
           "type": "bar"
          },
          {
           "alignmentgroup": "True",
           "hovertemplate": "Countries=%{x}<br>Year=2000<br>Export by Volume=%{y}<extra></extra>",
           "legendgroup": "Colombia",
           "marker": {
            "color": "#EF553B",
            "pattern": {
             "shape": ""
            }
           },
           "name": "Colombia",
           "offsetgroup": "Colombia",
           "orientation": "v",
           "showlegend": true,
           "textposition": "auto",
           "x": [
            "Colombia"
           ],
           "xaxis": "x",
           "y": [
            9176.6609102
           ],
           "yaxis": "y",
           "type": "bar"
          },
          {
           "alignmentgroup": "True",
           "hovertemplate": "Countries=%{x}<br>Year=2000<br>Export by Volume=%{y}<extra></extra>",
           "legendgroup": "Ethiopia",
           "marker": {
            "color": "#00cc96",
            "pattern": {
             "shape": ""
            }
           },
           "name": "Ethiopia",
           "offsetgroup": "Ethiopia",
           "orientation": "v",
           "showlegend": true,
           "textposition": "auto",
           "x": [
            "Ethiopia"
           ],
           "xaxis": "x",
           "y": [
            1981.856
           ],
           "yaxis": "y",
           "type": "bar"
          },
          {
           "alignmentgroup": "True",
           "hovertemplate": "Countries=%{x}<br>Year=2000<br>Export by Volume=%{y}<extra></extra>",
           "legendgroup": "Honduras",
           "marker": {
            "color": "#ab63fa",
            "pattern": {
             "shape": ""
            }
           },
           "name": "Honduras",
           "offsetgroup": "Honduras",
           "orientation": "v",
           "showlegend": true,
           "textposition": "auto",
           "x": [
            "Honduras"
           ],
           "xaxis": "x",
           "y": [
            2878.56
           ],
           "yaxis": "y",
           "type": "bar"
          },
          {
           "alignmentgroup": "True",
           "hovertemplate": "Countries=%{x}<br>Year=2000<br>Export by Volume=%{y}<extra></extra>",
           "legendgroup": "Indonesia",
           "marker": {
            "color": "#FFA15A",
            "pattern": {
             "shape": ""
            }
           },
           "name": "Indonesia",
           "offsetgroup": "Indonesia",
           "orientation": "v",
           "showlegend": true,
           "textposition": "auto",
           "x": [
            "Indonesia"
           ],
           "xaxis": "x",
           "y": [
            5357.59886
           ],
           "yaxis": "y",
           "type": "bar"
          },
          {
           "alignmentgroup": "True",
           "hovertemplate": "Countries=%{x}<br>Year=2000<br>Export by Volume=%{y}<extra></extra>",
           "legendgroup": "Viet Nam",
           "marker": {
            "color": "#19d3f3",
            "pattern": {
             "shape": ""
            }
           },
           "name": "Viet Nam",
           "offsetgroup": "Viet Nam",
           "orientation": "v",
           "showlegend": true,
           "textposition": "auto",
           "x": [
            "Viet Nam"
           ],
           "xaxis": "x",
           "y": [
            11618.3758499
           ],
           "yaxis": "y",
           "type": "bar"
          }
         ],
         "name": "2000"
        },
        {
         "data": [
          {
           "alignmentgroup": "True",
           "hovertemplate": "Countries=%{x}<br>Year=2001<br>Export by Volume=%{y}<extra></extra>",
           "legendgroup": "Brazil",
           "marker": {
            "color": "#636efa",
            "pattern": {
             "shape": ""
            }
           },
           "name": "Brazil",
           "offsetgroup": "Brazil",
           "orientation": "v",
           "showlegend": true,
           "textposition": "auto",
           "x": [
            "Brazil"
           ],
           "xaxis": "x",
           "y": [
            23172.486512
           ],
           "yaxis": "y",
           "type": "bar"
          },
          {
           "alignmentgroup": "True",
           "hovertemplate": "Countries=%{x}<br>Year=2001<br>Export by Volume=%{y}<extra></extra>",
           "legendgroup": "Colombia",
           "marker": {
            "color": "#EF553B",
            "pattern": {
             "shape": ""
            }
           },
           "name": "Colombia",
           "offsetgroup": "Colombia",
           "orientation": "v",
           "showlegend": true,
           "textposition": "auto",
           "x": [
            "Colombia"
           ],
           "xaxis": "x",
           "y": [
            9943.6300006
           ],
           "yaxis": "y",
           "type": "bar"
          },
          {
           "alignmentgroup": "True",
           "hovertemplate": "Countries=%{x}<br>Year=2001<br>Export by Volume=%{y}<extra></extra>",
           "legendgroup": "Ethiopia",
           "marker": {
            "color": "#00cc96",
            "pattern": {
             "shape": ""
            }
           },
           "name": "Ethiopia",
           "offsetgroup": "Ethiopia",
           "orientation": "v",
           "showlegend": true,
           "textposition": "auto",
           "x": [
            "Ethiopia"
           ],
           "xaxis": "x",
           "y": [
            1376.062
           ],
           "yaxis": "y",
           "type": "bar"
          },
          {
           "alignmentgroup": "True",
           "hovertemplate": "Countries=%{x}<br>Year=2001<br>Export by Volume=%{y}<extra></extra>",
           "legendgroup": "Honduras",
           "marker": {
            "color": "#ab63fa",
            "pattern": {
             "shape": ""
            }
           },
           "name": "Honduras",
           "offsetgroup": "Honduras",
           "orientation": "v",
           "showlegend": true,
           "textposition": "auto",
           "x": [
            "Honduras"
           ],
           "xaxis": "x",
           "y": [
            2391.613
           ],
           "yaxis": "y",
           "type": "bar"
          },
          {
           "alignmentgroup": "True",
           "hovertemplate": "Countries=%{x}<br>Year=2001<br>Export by Volume=%{y}<extra></extra>",
           "legendgroup": "Indonesia",
           "marker": {
            "color": "#FFA15A",
            "pattern": {
             "shape": ""
            }
           },
           "name": "Indonesia",
           "offsetgroup": "Indonesia",
           "orientation": "v",
           "showlegend": true,
           "textposition": "auto",
           "x": [
            "Indonesia"
           ],
           "xaxis": "x",
           "y": [
            5243.4050012
           ],
           "yaxis": "y",
           "type": "bar"
          },
          {
           "alignmentgroup": "True",
           "hovertemplate": "Countries=%{x}<br>Year=2001<br>Export by Volume=%{y}<extra></extra>",
           "legendgroup": "Viet Nam",
           "marker": {
            "color": "#19d3f3",
            "pattern": {
             "shape": ""
            }
           },
           "name": "Viet Nam",
           "offsetgroup": "Viet Nam",
           "orientation": "v",
           "showlegend": true,
           "textposition": "auto",
           "x": [
            "Viet Nam"
           ],
           "xaxis": "x",
           "y": [
            14106.4430005
           ],
           "yaxis": "y",
           "type": "bar"
          }
         ],
         "name": "2001"
        },
        {
         "data": [
          {
           "alignmentgroup": "True",
           "hovertemplate": "Countries=%{x}<br>Year=2002<br>Export by Volume=%{y}<extra></extra>",
           "legendgroup": "Brazil",
           "marker": {
            "color": "#636efa",
            "pattern": {
             "shape": ""
            }
           },
           "name": "Brazil",
           "offsetgroup": "Brazil",
           "orientation": "v",
           "showlegend": true,
           "textposition": "auto",
           "x": [
            "Brazil"
           ],
           "xaxis": "x",
           "y": [
            27981.8389351
           ],
           "yaxis": "y",
           "type": "bar"
          },
          {
           "alignmentgroup": "True",
           "hovertemplate": "Countries=%{x}<br>Year=2002<br>Export by Volume=%{y}<extra></extra>",
           "legendgroup": "Colombia",
           "marker": {
            "color": "#EF553B",
            "pattern": {
             "shape": ""
            }
           },
           "name": "Colombia",
           "offsetgroup": "Colombia",
           "orientation": "v",
           "showlegend": true,
           "textposition": "auto",
           "x": [
            "Colombia"
           ],
           "xaxis": "x",
           "y": [
            10273.4249979
           ],
           "yaxis": "y",
           "type": "bar"
          },
          {
           "alignmentgroup": "True",
           "hovertemplate": "Countries=%{x}<br>Year=2002<br>Export by Volume=%{y}<extra></extra>",
           "legendgroup": "Ethiopia",
           "marker": {
            "color": "#00cc96",
            "pattern": {
             "shape": ""
            }
           },
           "name": "Ethiopia",
           "offsetgroup": "Ethiopia",
           "orientation": "v",
           "showlegend": true,
           "textposition": "auto",
           "x": [
            "Ethiopia"
           ],
           "xaxis": "x",
           "y": [
            2054.678
           ],
           "yaxis": "y",
           "type": "bar"
          },
          {
           "alignmentgroup": "True",
           "hovertemplate": "Countries=%{x}<br>Year=2002<br>Export by Volume=%{y}<extra></extra>",
           "legendgroup": "Honduras",
           "marker": {
            "color": "#ab63fa",
            "pattern": {
             "shape": ""
            }
           },
           "name": "Honduras",
           "offsetgroup": "Honduras",
           "orientation": "v",
           "showlegend": true,
           "textposition": "auto",
           "x": [
            "Honduras"
           ],
           "xaxis": "x",
           "y": [
            2711.26
           ],
           "yaxis": "y",
           "type": "bar"
          },
          {
           "alignmentgroup": "True",
           "hovertemplate": "Countries=%{x}<br>Year=2002<br>Export by Volume=%{y}<extra></extra>",
           "legendgroup": "Indonesia",
           "marker": {
            "color": "#FFA15A",
            "pattern": {
             "shape": ""
            }
           },
           "name": "Indonesia",
           "offsetgroup": "Indonesia",
           "orientation": "v",
           "showlegend": true,
           "textposition": "auto",
           "x": [
            "Indonesia"
           ],
           "xaxis": "x",
           "y": [
            4285.830001
           ],
           "yaxis": "y",
           "type": "bar"
          },
          {
           "alignmentgroup": "True",
           "hovertemplate": "Countries=%{x}<br>Year=2002<br>Export by Volume=%{y}<extra></extra>",
           "legendgroup": "Viet Nam",
           "marker": {
            "color": "#19d3f3",
            "pattern": {
             "shape": ""
            }
           },
           "name": "Viet Nam",
           "offsetgroup": "Viet Nam",
           "orientation": "v",
           "showlegend": true,
           "textposition": "auto",
           "x": [
            "Viet Nam"
           ],
           "xaxis": "x",
           "y": [
            11771.3669994
           ],
           "yaxis": "y",
           "type": "bar"
          }
         ],
         "name": "2002"
        },
        {
         "data": [
          {
           "alignmentgroup": "True",
           "hovertemplate": "Countries=%{x}<br>Year=2003<br>Export by Volume=%{y}<extra></extra>",
           "legendgroup": "Brazil",
           "marker": {
            "color": "#636efa",
            "pattern": {
             "shape": ""
            }
           },
           "name": "Brazil",
           "offsetgroup": "Brazil",
           "orientation": "v",
           "showlegend": true,
           "textposition": "auto",
           "x": [
            "Brazil"
           ],
           "xaxis": "x",
           "y": [
            25710.8116628
           ],
           "yaxis": "y",
           "type": "bar"
          },
          {
           "alignmentgroup": "True",
           "hovertemplate": "Countries=%{x}<br>Year=2003<br>Export by Volume=%{y}<extra></extra>",
           "legendgroup": "Colombia",
           "marker": {
            "color": "#EF553B",
            "pattern": {
             "shape": ""
            }
           },
           "name": "Colombia",
           "offsetgroup": "Colombia",
           "orientation": "v",
           "showlegend": true,
           "textposition": "auto",
           "x": [
            "Colombia"
           ],
           "xaxis": "x",
           "y": [
            10244.3919993
           ],
           "yaxis": "y",
           "type": "bar"
          },
          {
           "alignmentgroup": "True",
           "hovertemplate": "Countries=%{x}<br>Year=2003<br>Export by Volume=%{y}<extra></extra>",
           "legendgroup": "Ethiopia",
           "marker": {
            "color": "#00cc96",
            "pattern": {
             "shape": ""
            }
           },
           "name": "Ethiopia",
           "offsetgroup": "Ethiopia",
           "orientation": "v",
           "showlegend": true,
           "textposition": "auto",
           "x": [
            "Ethiopia"
           ],
           "xaxis": "x",
           "y": [
            2229.143
           ],
           "yaxis": "y",
           "type": "bar"
          },
          {
           "alignmentgroup": "True",
           "hovertemplate": "Countries=%{x}<br>Year=2003<br>Export by Volume=%{y}<extra></extra>",
           "legendgroup": "Honduras",
           "marker": {
            "color": "#ab63fa",
            "pattern": {
             "shape": ""
            }
           },
           "name": "Honduras",
           "offsetgroup": "Honduras",
           "orientation": "v",
           "showlegend": true,
           "textposition": "auto",
           "x": [
            "Honduras"
           ],
           "xaxis": "x",
           "y": [
            2425.237
           ],
           "yaxis": "y",
           "type": "bar"
          },
          {
           "alignmentgroup": "True",
           "hovertemplate": "Countries=%{x}<br>Year=2003<br>Export by Volume=%{y}<extra></extra>",
           "legendgroup": "Indonesia",
           "marker": {
            "color": "#FFA15A",
            "pattern": {
             "shape": ""
            }
           },
           "name": "Indonesia",
           "offsetgroup": "Indonesia",
           "orientation": "v",
           "showlegend": true,
           "textposition": "auto",
           "x": [
            "Indonesia"
           ],
           "xaxis": "x",
           "y": [
            4794.7200006
           ],
           "yaxis": "y",
           "type": "bar"
          },
          {
           "alignmentgroup": "True",
           "hovertemplate": "Countries=%{x}<br>Year=2003<br>Export by Volume=%{y}<extra></extra>",
           "legendgroup": "Viet Nam",
           "marker": {
            "color": "#19d3f3",
            "pattern": {
             "shape": ""
            }
           },
           "name": "Viet Nam",
           "offsetgroup": "Viet Nam",
           "orientation": "v",
           "showlegend": true,
           "textposition": "auto",
           "x": [
            "Viet Nam"
           ],
           "xaxis": "x",
           "y": [
            11631.1110003
           ],
           "yaxis": "y",
           "type": "bar"
          }
         ],
         "name": "2003"
        },
        {
         "data": [
          {
           "alignmentgroup": "True",
           "hovertemplate": "Countries=%{x}<br>Year=2004<br>Export by Volume=%{y}<extra></extra>",
           "legendgroup": "Brazil",
           "marker": {
            "color": "#636efa",
            "pattern": {
             "shape": ""
            }
           },
           "name": "Brazil",
           "offsetgroup": "Brazil",
           "orientation": "v",
           "showlegend": true,
           "textposition": "auto",
           "x": [
            "Brazil"
           ],
           "xaxis": "x",
           "y": [
            26478.4750901
           ],
           "yaxis": "y",
           "type": "bar"
          },
          {
           "alignmentgroup": "True",
           "hovertemplate": "Countries=%{x}<br>Year=2004<br>Export by Volume=%{y}<extra></extra>",
           "legendgroup": "Colombia",
           "marker": {
            "color": "#EF553B",
            "pattern": {
             "shape": ""
            }
           },
           "name": "Colombia",
           "offsetgroup": "Colombia",
           "orientation": "v",
           "showlegend": true,
           "textposition": "auto",
           "x": [
            "Colombia"
           ],
           "xaxis": "x",
           "y": [
            10194.3150011
           ],
           "yaxis": "y",
           "type": "bar"
          },
          {
           "alignmentgroup": "True",
           "hovertemplate": "Countries=%{x}<br>Year=2004<br>Export by Volume=%{y}<extra></extra>",
           "legendgroup": "Ethiopia",
           "marker": {
            "color": "#00cc96",
            "pattern": {
             "shape": ""
            }
           },
           "name": "Ethiopia",
           "offsetgroup": "Ethiopia",
           "orientation": "v",
           "showlegend": true,
           "textposition": "auto",
           "x": [
            "Ethiopia"
           ],
           "xaxis": "x",
           "y": [
            2490.944
           ],
           "yaxis": "y",
           "type": "bar"
          },
          {
           "alignmentgroup": "True",
           "hovertemplate": "Countries=%{x}<br>Year=2004<br>Export by Volume=%{y}<extra></extra>",
           "legendgroup": "Honduras",
           "marker": {
            "color": "#ab63fa",
            "pattern": {
             "shape": ""
            }
           },
           "name": "Honduras",
           "offsetgroup": "Honduras",
           "orientation": "v",
           "showlegend": true,
           "textposition": "auto",
           "x": [
            "Honduras"
           ],
           "xaxis": "x",
           "y": [
            2779.189
           ],
           "yaxis": "y",
           "type": "bar"
          },
          {
           "alignmentgroup": "True",
           "hovertemplate": "Countries=%{x}<br>Year=2004<br>Export by Volume=%{y}<extra></extra>",
           "legendgroup": "Indonesia",
           "marker": {
            "color": "#FFA15A",
            "pattern": {
             "shape": ""
            }
           },
           "name": "Indonesia",
           "offsetgroup": "Indonesia",
           "orientation": "v",
           "showlegend": true,
           "textposition": "auto",
           "x": [
            "Indonesia"
           ],
           "xaxis": "x",
           "y": [
            5455.5989996
           ],
           "yaxis": "y",
           "type": "bar"
          },
          {
           "alignmentgroup": "True",
           "hovertemplate": "Countries=%{x}<br>Year=2004<br>Export by Volume=%{y}<extra></extra>",
           "legendgroup": "Viet Nam",
           "marker": {
            "color": "#19d3f3",
            "pattern": {
             "shape": ""
            }
           },
           "name": "Viet Nam",
           "offsetgroup": "Viet Nam",
           "orientation": "v",
           "showlegend": true,
           "textposition": "auto",
           "x": [
            "Viet Nam"
           ],
           "xaxis": "x",
           "y": [
            14858.9909998
           ],
           "yaxis": "y",
           "type": "bar"
          }
         ],
         "name": "2004"
        },
        {
         "data": [
          {
           "alignmentgroup": "True",
           "hovertemplate": "Countries=%{x}<br>Year=2005<br>Export by Volume=%{y}<extra></extra>",
           "legendgroup": "Brazil",
           "marker": {
            "color": "#636efa",
            "pattern": {
             "shape": ""
            }
           },
           "name": "Brazil",
           "offsetgroup": "Brazil",
           "orientation": "v",
           "showlegend": true,
           "textposition": "auto",
           "x": [
            "Brazil"
           ],
           "xaxis": "x",
           "y": [
            26198.0554467
           ],
           "yaxis": "y",
           "type": "bar"
          },
          {
           "alignmentgroup": "True",
           "hovertemplate": "Countries=%{x}<br>Year=2005<br>Export by Volume=%{y}<extra></extra>",
           "legendgroup": "Colombia",
           "marker": {
            "color": "#EF553B",
            "pattern": {
             "shape": ""
            }
           },
           "name": "Colombia",
           "offsetgroup": "Colombia",
           "orientation": "v",
           "showlegend": true,
           "textposition": "auto",
           "x": [
            "Colombia"
           ],
           "xaxis": "x",
           "y": [
            10871.2469708
           ],
           "yaxis": "y",
           "type": "bar"
          },
          {
           "alignmentgroup": "True",
           "hovertemplate": "Countries=%{x}<br>Year=2005<br>Export by Volume=%{y}<extra></extra>",
           "legendgroup": "Ethiopia",
           "marker": {
            "color": "#00cc96",
            "pattern": {
             "shape": ""
            }
           },
           "name": "Ethiopia",
           "offsetgroup": "Ethiopia",
           "orientation": "v",
           "showlegend": true,
           "textposition": "auto",
           "x": [
            "Ethiopia"
           ],
           "xaxis": "x",
           "y": [
            2435.069
           ],
           "yaxis": "y",
           "type": "bar"
          },
          {
           "alignmentgroup": "True",
           "hovertemplate": "Countries=%{x}<br>Year=2005<br>Export by Volume=%{y}<extra></extra>",
           "legendgroup": "Honduras",
           "marker": {
            "color": "#ab63fa",
            "pattern": {
             "shape": ""
            }
           },
           "name": "Honduras",
           "offsetgroup": "Honduras",
           "orientation": "v",
           "showlegend": true,
           "textposition": "auto",
           "x": [
            "Honduras"
           ],
           "xaxis": "x",
           "y": [
            2391.90535
           ],
           "yaxis": "y",
           "type": "bar"
          },
          {
           "alignmentgroup": "True",
           "hovertemplate": "Countries=%{x}<br>Year=2005<br>Export by Volume=%{y}<extra></extra>",
           "legendgroup": "Indonesia",
           "marker": {
            "color": "#FFA15A",
            "pattern": {
             "shape": ""
            }
           },
           "name": "Indonesia",
           "offsetgroup": "Indonesia",
           "orientation": "v",
           "showlegend": true,
           "textposition": "auto",
           "x": [
            "Indonesia"
           ],
           "xaxis": "x",
           "y": [
            6744.09393
           ],
           "yaxis": "y",
           "type": "bar"
          },
          {
           "alignmentgroup": "True",
           "hovertemplate": "Countries=%{x}<br>Year=2005<br>Export by Volume=%{y}<extra></extra>",
           "legendgroup": "Viet Nam",
           "marker": {
            "color": "#19d3f3",
            "pattern": {
             "shape": ""
            }
           },
           "name": "Viet Nam",
           "offsetgroup": "Viet Nam",
           "orientation": "v",
           "showlegend": true,
           "textposition": "auto",
           "x": [
            "Viet Nam"
           ],
           "xaxis": "x",
           "y": [
            13432.0335533
           ],
           "yaxis": "y",
           "type": "bar"
          }
         ],
         "name": "2005"
        },
        {
         "data": [
          {
           "alignmentgroup": "True",
           "hovertemplate": "Countries=%{x}<br>Year=2006<br>Export by Volume=%{y}<extra></extra>",
           "legendgroup": "Brazil",
           "marker": {
            "color": "#636efa",
            "pattern": {
             "shape": ""
            }
           },
           "name": "Brazil",
           "offsetgroup": "Brazil",
           "orientation": "v",
           "showlegend": true,
           "textposition": "auto",
           "x": [
            "Brazil"
           ],
           "xaxis": "x",
           "y": [
            27368.9019587
           ],
           "yaxis": "y",
           "type": "bar"
          },
          {
           "alignmentgroup": "True",
           "hovertemplate": "Countries=%{x}<br>Year=2006<br>Export by Volume=%{y}<extra></extra>",
           "legendgroup": "Colombia",
           "marker": {
            "color": "#EF553B",
            "pattern": {
             "shape": ""
            }
           },
           "name": "Colombia",
           "offsetgroup": "Colombia",
           "orientation": "v",
           "showlegend": true,
           "textposition": "auto",
           "x": [
            "Colombia"
           ],
           "xaxis": "x",
           "y": [
            10944.8534601
           ],
           "yaxis": "y",
           "type": "bar"
          },
          {
           "alignmentgroup": "True",
           "hovertemplate": "Countries=%{x}<br>Year=2006<br>Export by Volume=%{y}<extra></extra>",
           "legendgroup": "Ethiopia",
           "marker": {
            "color": "#00cc96",
            "pattern": {
             "shape": ""
            }
           },
           "name": "Ethiopia",
           "offsetgroup": "Ethiopia",
           "orientation": "v",
           "showlegend": true,
           "textposition": "auto",
           "x": [
            "Ethiopia"
           ],
           "xaxis": "x",
           "y": [
            2935.56
           ],
           "yaxis": "y",
           "type": "bar"
          },
          {
           "alignmentgroup": "True",
           "hovertemplate": "Countries=%{x}<br>Year=2006<br>Export by Volume=%{y}<extra></extra>",
           "legendgroup": "Honduras",
           "marker": {
            "color": "#ab63fa",
            "pattern": {
             "shape": ""
            }
           },
           "name": "Honduras",
           "offsetgroup": "Honduras",
           "orientation": "v",
           "showlegend": true,
           "textposition": "auto",
           "x": [
            "Honduras"
           ],
           "xaxis": "x",
           "y": [
            2898.4144369
           ],
           "yaxis": "y",
           "type": "bar"
          },
          {
           "alignmentgroup": "True",
           "hovertemplate": "Countries=%{x}<br>Year=2006<br>Export by Volume=%{y}<extra></extra>",
           "legendgroup": "Indonesia",
           "marker": {
            "color": "#FFA15A",
            "pattern": {
             "shape": ""
            }
           },
           "name": "Indonesia",
           "offsetgroup": "Indonesia",
           "orientation": "v",
           "showlegend": true,
           "textposition": "auto",
           "x": [
            "Indonesia"
           ],
           "xaxis": "x",
           "y": [
            5280.4349134
           ],
           "yaxis": "y",
           "type": "bar"
          },
          {
           "alignmentgroup": "True",
           "hovertemplate": "Countries=%{x}<br>Year=2006<br>Export by Volume=%{y}<extra></extra>",
           "legendgroup": "Viet Nam",
           "marker": {
            "color": "#19d3f3",
            "pattern": {
             "shape": ""
            }
           },
           "name": "Viet Nam",
           "offsetgroup": "Viet Nam",
           "orientation": "v",
           "showlegend": true,
           "textposition": "auto",
           "x": [
            "Viet Nam"
           ],
           "xaxis": "x",
           "y": [
            13904.70204
           ],
           "yaxis": "y",
           "type": "bar"
          }
         ],
         "name": "2006"
        },
        {
         "data": [
          {
           "alignmentgroup": "True",
           "hovertemplate": "Countries=%{x}<br>Year=2007<br>Export by Volume=%{y}<extra></extra>",
           "legendgroup": "Brazil",
           "marker": {
            "color": "#636efa",
            "pattern": {
             "shape": ""
            }
           },
           "name": "Brazil",
           "offsetgroup": "Brazil",
           "orientation": "v",
           "showlegend": true,
           "textposition": "auto",
           "x": [
            "Brazil"
           ],
           "xaxis": "x",
           "y": [
            28183.5739472
           ],
           "yaxis": "y",
           "type": "bar"
          },
          {
           "alignmentgroup": "True",
           "hovertemplate": "Countries=%{x}<br>Year=2007<br>Export by Volume=%{y}<extra></extra>",
           "legendgroup": "Colombia",
           "marker": {
            "color": "#EF553B",
            "pattern": {
             "shape": ""
            }
           },
           "name": "Colombia",
           "offsetgroup": "Colombia",
           "orientation": "v",
           "showlegend": true,
           "textposition": "auto",
           "x": [
            "Colombia"
           ],
           "xaxis": "x",
           "y": [
            11300.4206901
           ],
           "yaxis": "y",
           "type": "bar"
          },
          {
           "alignmentgroup": "True",
           "hovertemplate": "Countries=%{x}<br>Year=2007<br>Export by Volume=%{y}<extra></extra>",
           "legendgroup": "Ethiopia",
           "marker": {
            "color": "#00cc96",
            "pattern": {
             "shape": ""
            }
           },
           "name": "Ethiopia",
           "offsetgroup": "Ethiopia",
           "orientation": "v",
           "showlegend": true,
           "textposition": "auto",
           "x": [
            "Ethiopia"
           ],
           "xaxis": "x",
           "y": [
            2604.008
           ],
           "yaxis": "y",
           "type": "bar"
          },
          {
           "alignmentgroup": "True",
           "hovertemplate": "Countries=%{x}<br>Year=2007<br>Export by Volume=%{y}<extra></extra>",
           "legendgroup": "Honduras",
           "marker": {
            "color": "#ab63fa",
            "pattern": {
             "shape": ""
            }
           },
           "name": "Honduras",
           "offsetgroup": "Honduras",
           "orientation": "v",
           "showlegend": true,
           "textposition": "auto",
           "x": [
            "Honduras"
           ],
           "xaxis": "x",
           "y": [
            3312.0085632
           ],
           "yaxis": "y",
           "type": "bar"
          },
          {
           "alignmentgroup": "True",
           "hovertemplate": "Countries=%{x}<br>Year=2007<br>Export by Volume=%{y}<extra></extra>",
           "legendgroup": "Indonesia",
           "marker": {
            "color": "#FFA15A",
            "pattern": {
             "shape": ""
            }
           },
           "name": "Indonesia",
           "offsetgroup": "Indonesia",
           "orientation": "v",
           "showlegend": true,
           "textposition": "auto",
           "x": [
            "Indonesia"
           ],
           "xaxis": "x",
           "y": [
            4149.4101006
           ],
           "yaxis": "y",
           "type": "bar"
          },
          {
           "alignmentgroup": "True",
           "hovertemplate": "Countries=%{x}<br>Year=2007<br>Export by Volume=%{y}<extra></extra>",
           "legendgroup": "Viet Nam",
           "marker": {
            "color": "#19d3f3",
            "pattern": {
             "shape": ""
            }
           },
           "name": "Viet Nam",
           "offsetgroup": "Viet Nam",
           "orientation": "v",
           "showlegend": true,
           "textposition": "auto",
           "x": [
            "Viet Nam"
           ],
           "xaxis": "x",
           "y": [
            17936.2186134
           ],
           "yaxis": "y",
           "type": "bar"
          }
         ],
         "name": "2007"
        },
        {
         "data": [
          {
           "alignmentgroup": "True",
           "hovertemplate": "Countries=%{x}<br>Year=2008<br>Export by Volume=%{y}<extra></extra>",
           "legendgroup": "Brazil",
           "marker": {
            "color": "#636efa",
            "pattern": {
             "shape": ""
            }
           },
           "name": "Brazil",
           "offsetgroup": "Brazil",
           "orientation": "v",
           "showlegend": true,
           "textposition": "auto",
           "x": [
            "Brazil"
           ],
           "xaxis": "x",
           "y": [
            29510.2956935
           ],
           "yaxis": "y",
           "type": "bar"
          },
          {
           "alignmentgroup": "True",
           "hovertemplate": "Countries=%{x}<br>Year=2008<br>Export by Volume=%{y}<extra></extra>",
           "legendgroup": "Colombia",
           "marker": {
            "color": "#EF553B",
            "pattern": {
             "shape": ""
            }
           },
           "name": "Colombia",
           "offsetgroup": "Colombia",
           "orientation": "v",
           "showlegend": true,
           "textposition": "auto",
           "x": [
            "Colombia"
           ],
           "xaxis": "x",
           "y": [
            11085.1702037
           ],
           "yaxis": "y",
           "type": "bar"
          },
          {
           "alignmentgroup": "True",
           "hovertemplate": "Countries=%{x}<br>Year=2008<br>Export by Volume=%{y}<extra></extra>",
           "legendgroup": "Ethiopia",
           "marker": {
            "color": "#00cc96",
            "pattern": {
             "shape": ""
            }
           },
           "name": "Ethiopia",
           "offsetgroup": "Ethiopia",
           "orientation": "v",
           "showlegend": true,
           "textposition": "auto",
           "x": [
            "Ethiopia"
           ],
           "xaxis": "x",
           "y": [
            2851.92097
           ],
           "yaxis": "y",
           "type": "bar"
          },
          {
           "alignmentgroup": "True",
           "hovertemplate": "Countries=%{x}<br>Year=2008<br>Export by Volume=%{y}<extra></extra>",
           "legendgroup": "Honduras",
           "marker": {
            "color": "#ab63fa",
            "pattern": {
             "shape": ""
            }
           },
           "name": "Honduras",
           "offsetgroup": "Honduras",
           "orientation": "v",
           "showlegend": true,
           "textposition": "auto",
           "x": [
            "Honduras"
           ],
           "xaxis": "x",
           "y": [
            3259.4549512
           ],
           "yaxis": "y",
           "type": "bar"
          },
          {
           "alignmentgroup": "True",
           "hovertemplate": "Countries=%{x}<br>Year=2008<br>Export by Volume=%{y}<extra></extra>",
           "legendgroup": "Indonesia",
           "marker": {
            "color": "#FFA15A",
            "pattern": {
             "shape": ""
            }
           },
           "name": "Indonesia",
           "offsetgroup": "Indonesia",
           "orientation": "v",
           "showlegend": true,
           "textposition": "auto",
           "x": [
            "Indonesia"
           ],
           "xaxis": "x",
           "y": [
            5740.6730453
           ],
           "yaxis": "y",
           "type": "bar"
          },
          {
           "alignmentgroup": "True",
           "hovertemplate": "Countries=%{x}<br>Year=2008<br>Export by Volume=%{y}<extra></extra>",
           "legendgroup": "Viet Nam",
           "marker": {
            "color": "#19d3f3",
            "pattern": {
             "shape": ""
            }
           },
           "name": "Viet Nam",
           "offsetgroup": "Viet Nam",
           "orientation": "v",
           "showlegend": true,
           "textposition": "auto",
           "x": [
            "Viet Nam"
           ],
           "xaxis": "x",
           "y": [
            16101.3720357
           ],
           "yaxis": "y",
           "type": "bar"
          }
         ],
         "name": "2008"
        },
        {
         "data": [
          {
           "alignmentgroup": "True",
           "hovertemplate": "Countries=%{x}<br>Year=2009<br>Export by Volume=%{y}<extra></extra>",
           "legendgroup": "Brazil",
           "marker": {
            "color": "#636efa",
            "pattern": {
             "shape": ""
            }
           },
           "name": "Brazil",
           "offsetgroup": "Brazil",
           "orientation": "v",
           "showlegend": true,
           "textposition": "auto",
           "x": [
            "Brazil"
           ],
           "xaxis": "x",
           "y": [
            30377.9816361
           ],
           "yaxis": "y",
           "type": "bar"
          },
          {
           "alignmentgroup": "True",
           "hovertemplate": "Countries=%{x}<br>Year=2009<br>Export by Volume=%{y}<extra></extra>",
           "legendgroup": "Colombia",
           "marker": {
            "color": "#EF553B",
            "pattern": {
             "shape": ""
            }
           },
           "name": "Colombia",
           "offsetgroup": "Colombia",
           "orientation": "v",
           "showlegend": true,
           "textposition": "auto",
           "x": [
            "Colombia"
           ],
           "xaxis": "x",
           "y": [
            7893.9267953
           ],
           "yaxis": "y",
           "type": "bar"
          },
          {
           "alignmentgroup": "True",
           "hovertemplate": "Countries=%{x}<br>Year=2009<br>Export by Volume=%{y}<extra></extra>",
           "legendgroup": "Ethiopia",
           "marker": {
            "color": "#00cc96",
            "pattern": {
             "shape": ""
            }
           },
           "name": "Ethiopia",
           "offsetgroup": "Ethiopia",
           "orientation": "v",
           "showlegend": true,
           "textposition": "auto",
           "x": [
            "Ethiopia"
           ],
           "xaxis": "x",
           "y": [
            1851.4974532
           ],
           "yaxis": "y",
           "type": "bar"
          },
          {
           "alignmentgroup": "True",
           "hovertemplate": "Countries=%{x}<br>Year=2009<br>Export by Volume=%{y}<extra></extra>",
           "legendgroup": "Honduras",
           "marker": {
            "color": "#ab63fa",
            "pattern": {
             "shape": ""
            }
           },
           "name": "Honduras",
           "offsetgroup": "Honduras",
           "orientation": "v",
           "showlegend": true,
           "textposition": "auto",
           "x": [
            "Honduras"
           ],
           "xaxis": "x",
           "y": [
            3084.1878284
           ],
           "yaxis": "y",
           "type": "bar"
          },
          {
           "alignmentgroup": "True",
           "hovertemplate": "Countries=%{x}<br>Year=2009<br>Export by Volume=%{y}<extra></extra>",
           "legendgroup": "Indonesia",
           "marker": {
            "color": "#FFA15A",
            "pattern": {
             "shape": ""
            }
           },
           "name": "Indonesia",
           "offsetgroup": "Indonesia",
           "orientation": "v",
           "showlegend": true,
           "textposition": "auto",
           "x": [
            "Indonesia"
           ],
           "xaxis": "x",
           "y": [
            7907.2735156
           ],
           "yaxis": "y",
           "type": "bar"
          },
          {
           "alignmentgroup": "True",
           "hovertemplate": "Countries=%{x}<br>Year=2009<br>Export by Volume=%{y}<extra></extra>",
           "legendgroup": "Viet Nam",
           "marker": {
            "color": "#19d3f3",
            "pattern": {
             "shape": ""
            }
           },
           "name": "Viet Nam",
           "offsetgroup": "Viet Nam",
           "orientation": "v",
           "showlegend": true,
           "textposition": "auto",
           "x": [
            "Viet Nam"
           ],
           "xaxis": "x",
           "y": [
            17051.7344765
           ],
           "yaxis": "y",
           "type": "bar"
          }
         ],
         "name": "2009"
        },
        {
         "data": [
          {
           "alignmentgroup": "True",
           "hovertemplate": "Countries=%{x}<br>Year=2010<br>Export by Volume=%{y}<extra></extra>",
           "legendgroup": "Brazil",
           "marker": {
            "color": "#636efa",
            "pattern": {
             "shape": ""
            }
           },
           "name": "Brazil",
           "offsetgroup": "Brazil",
           "orientation": "v",
           "showlegend": true,
           "textposition": "auto",
           "x": [
            "Brazil"
           ],
           "xaxis": "x",
           "y": [
            33166.6415897
           ],
           "yaxis": "y",
           "type": "bar"
          },
          {
           "alignmentgroup": "True",
           "hovertemplate": "Countries=%{x}<br>Year=2010<br>Export by Volume=%{y}<extra></extra>",
           "legendgroup": "Colombia",
           "marker": {
            "color": "#EF553B",
            "pattern": {
             "shape": ""
            }
           },
           "name": "Colombia",
           "offsetgroup": "Colombia",
           "orientation": "v",
           "showlegend": true,
           "textposition": "auto",
           "x": [
            "Colombia"
           ],
           "xaxis": "x",
           "y": [
            7821.6345037
           ],
           "yaxis": "y",
           "type": "bar"
          },
          {
           "alignmentgroup": "True",
           "hovertemplate": "Countries=%{x}<br>Year=2010<br>Export by Volume=%{y}<extra></extra>",
           "legendgroup": "Ethiopia",
           "marker": {
            "color": "#00cc96",
            "pattern": {
             "shape": ""
            }
           },
           "name": "Ethiopia",
           "offsetgroup": "Ethiopia",
           "orientation": "v",
           "showlegend": true,
           "textposition": "auto",
           "x": [
            "Ethiopia"
           ],
           "xaxis": "x",
           "y": [
            3324.1025511
           ],
           "yaxis": "y",
           "type": "bar"
          },
          {
           "alignmentgroup": "True",
           "hovertemplate": "Countries=%{x}<br>Year=2010<br>Export by Volume=%{y}<extra></extra>",
           "legendgroup": "Honduras",
           "marker": {
            "color": "#ab63fa",
            "pattern": {
             "shape": ""
            }
           },
           "name": "Honduras",
           "offsetgroup": "Honduras",
           "orientation": "v",
           "showlegend": true,
           "textposition": "auto",
           "x": [
            "Honduras"
           ],
           "xaxis": "x",
           "y": [
            3349.3976392
           ],
           "yaxis": "y",
           "type": "bar"
          },
          {
           "alignmentgroup": "True",
           "hovertemplate": "Countries=%{x}<br>Year=2010<br>Export by Volume=%{y}<extra></extra>",
           "legendgroup": "Indonesia",
           "marker": {
            "color": "#FFA15A",
            "pattern": {
             "shape": ""
            }
           },
           "name": "Indonesia",
           "offsetgroup": "Indonesia",
           "orientation": "v",
           "showlegend": true,
           "textposition": "auto",
           "x": [
            "Indonesia"
           ],
           "xaxis": "x",
           "y": [
            5489.1475563
           ],
           "yaxis": "y",
           "type": "bar"
          },
          {
           "alignmentgroup": "True",
           "hovertemplate": "Countries=%{x}<br>Year=2010<br>Export by Volume=%{y}<extra></extra>",
           "legendgroup": "Viet Nam",
           "marker": {
            "color": "#19d3f3",
            "pattern": {
             "shape": ""
            }
           },
           "name": "Viet Nam",
           "offsetgroup": "Viet Nam",
           "orientation": "v",
           "showlegend": true,
           "textposition": "auto",
           "x": [
            "Viet Nam"
           ],
           "xaxis": "x",
           "y": [
            14228.5857964
           ],
           "yaxis": "y",
           "type": "bar"
          }
         ],
         "name": "2010"
        },
        {
         "data": [
          {
           "alignmentgroup": "True",
           "hovertemplate": "Countries=%{x}<br>Year=2011<br>Export by Volume=%{y}<extra></extra>",
           "legendgroup": "Brazil",
           "marker": {
            "color": "#636efa",
            "pattern": {
             "shape": ""
            }
           },
           "name": "Brazil",
           "offsetgroup": "Brazil",
           "orientation": "v",
           "showlegend": true,
           "textposition": "auto",
           "x": [
            "Brazil"
           ],
           "xaxis": "x",
           "y": [
            33806.0093278
           ],
           "yaxis": "y",
           "type": "bar"
          },
          {
           "alignmentgroup": "True",
           "hovertemplate": "Countries=%{x}<br>Year=2011<br>Export by Volume=%{y}<extra></extra>",
           "legendgroup": "Colombia",
           "marker": {
            "color": "#EF553B",
            "pattern": {
             "shape": ""
            }
           },
           "name": "Colombia",
           "offsetgroup": "Colombia",
           "orientation": "v",
           "showlegend": true,
           "textposition": "auto",
           "x": [
            "Colombia"
           ],
           "xaxis": "x",
           "y": [
            7733.625254
           ],
           "yaxis": "y",
           "type": "bar"
          },
          {
           "alignmentgroup": "True",
           "hovertemplate": "Countries=%{x}<br>Year=2011<br>Export by Volume=%{y}<extra></extra>",
           "legendgroup": "Ethiopia",
           "marker": {
            "color": "#00cc96",
            "pattern": {
             "shape": ""
            }
           },
           "name": "Ethiopia",
           "offsetgroup": "Ethiopia",
           "orientation": "v",
           "showlegend": true,
           "textposition": "auto",
           "x": [
            "Ethiopia"
           ],
           "xaxis": "x",
           "y": [
            2675.4190125
           ],
           "yaxis": "y",
           "type": "bar"
          },
          {
           "alignmentgroup": "True",
           "hovertemplate": "Countries=%{x}<br>Year=2011<br>Export by Volume=%{y}<extra></extra>",
           "legendgroup": "Honduras",
           "marker": {
            "color": "#ab63fa",
            "pattern": {
             "shape": ""
            }
           },
           "name": "Honduras",
           "offsetgroup": "Honduras",
           "orientation": "v",
           "showlegend": true,
           "textposition": "auto",
           "x": [
            "Honduras"
           ],
           "xaxis": "x",
           "y": [
            3947.1411511
           ],
           "yaxis": "y",
           "type": "bar"
          },
          {
           "alignmentgroup": "True",
           "hovertemplate": "Countries=%{x}<br>Year=2011<br>Export by Volume=%{y}<extra></extra>",
           "legendgroup": "Indonesia",
           "marker": {
            "color": "#FFA15A",
            "pattern": {
             "shape": ""
            }
           },
           "name": "Indonesia",
           "offsetgroup": "Indonesia",
           "orientation": "v",
           "showlegend": true,
           "textposition": "auto",
           "x": [
            "Indonesia"
           ],
           "xaxis": "x",
           "y": [
            3919.891883
           ],
           "yaxis": "y",
           "type": "bar"
          },
          {
           "alignmentgroup": "True",
           "hovertemplate": "Countries=%{x}<br>Year=2011<br>Export by Volume=%{y}<extra></extra>",
           "legendgroup": "Viet Nam",
           "marker": {
            "color": "#19d3f3",
            "pattern": {
             "shape": ""
            }
           },
           "name": "Viet Nam",
           "offsetgroup": "Viet Nam",
           "orientation": "v",
           "showlegend": true,
           "textposition": "auto",
           "x": [
            "Viet Nam"
           ],
           "xaxis": "x",
           "y": [
            17717.3947313
           ],
           "yaxis": "y",
           "type": "bar"
          }
         ],
         "name": "2011"
        },
        {
         "data": [
          {
           "alignmentgroup": "True",
           "hovertemplate": "Countries=%{x}<br>Year=2012<br>Export by Volume=%{y}<extra></extra>",
           "legendgroup": "Brazil",
           "marker": {
            "color": "#636efa",
            "pattern": {
             "shape": ""
            }
           },
           "name": "Brazil",
           "offsetgroup": "Brazil",
           "orientation": "v",
           "showlegend": true,
           "textposition": "auto",
           "x": [
            "Brazil"
           ],
           "xaxis": "x",
           "y": [
            28549.4258909
           ],
           "yaxis": "y",
           "type": "bar"
          },
          {
           "alignmentgroup": "True",
           "hovertemplate": "Countries=%{x}<br>Year=2012<br>Export by Volume=%{y}<extra></extra>",
           "legendgroup": "Colombia",
           "marker": {
            "color": "#EF553B",
            "pattern": {
             "shape": ""
            }
           },
           "name": "Colombia",
           "offsetgroup": "Colombia",
           "orientation": "v",
           "showlegend": true,
           "textposition": "auto",
           "x": [
            "Colombia"
           ],
           "xaxis": "x",
           "y": [
            7170.203291
           ],
           "yaxis": "y",
           "type": "bar"
          },
          {
           "alignmentgroup": "True",
           "hovertemplate": "Countries=%{x}<br>Year=2012<br>Export by Volume=%{y}<extra></extra>",
           "legendgroup": "Ethiopia",
           "marker": {
            "color": "#00cc96",
            "pattern": {
             "shape": ""
            }
           },
           "name": "Ethiopia",
           "offsetgroup": "Ethiopia",
           "orientation": "v",
           "showlegend": true,
           "textposition": "auto",
           "x": [
            "Ethiopia"
           ],
           "xaxis": "x",
           "y": [
            3202.5924066
           ],
           "yaxis": "y",
           "type": "bar"
          },
          {
           "alignmentgroup": "True",
           "hovertemplate": "Countries=%{x}<br>Year=2012<br>Export by Volume=%{y}<extra></extra>",
           "legendgroup": "Honduras",
           "marker": {
            "color": "#ab63fa",
            "pattern": {
             "shape": ""
            }
           },
           "name": "Honduras",
           "offsetgroup": "Honduras",
           "orientation": "v",
           "showlegend": true,
           "textposition": "auto",
           "x": [
            "Honduras"
           ],
           "xaxis": "x",
           "y": [
            5507.9849391
           ],
           "yaxis": "y",
           "type": "bar"
          },
          {
           "alignmentgroup": "True",
           "hovertemplate": "Countries=%{x}<br>Year=2012<br>Export by Volume=%{y}<extra></extra>",
           "legendgroup": "Indonesia",
           "marker": {
            "color": "#FFA15A",
            "pattern": {
             "shape": ""
            }
           },
           "name": "Indonesia",
           "offsetgroup": "Indonesia",
           "orientation": "v",
           "showlegend": true,
           "textposition": "auto",
           "x": [
            "Indonesia"
           ],
           "xaxis": "x",
           "y": [
            8205.7408259
           ],
           "yaxis": "y",
           "type": "bar"
          },
          {
           "alignmentgroup": "True",
           "hovertemplate": "Countries=%{x}<br>Year=2012<br>Export by Volume=%{y}<extra></extra>",
           "legendgroup": "Viet Nam",
           "marker": {
            "color": "#19d3f3",
            "pattern": {
             "shape": ""
            }
           },
           "name": "Viet Nam",
           "offsetgroup": "Viet Nam",
           "orientation": "v",
           "showlegend": true,
           "textposition": "auto",
           "x": [
            "Viet Nam"
           ],
           "xaxis": "x",
           "y": [
            22919.6638324
           ],
           "yaxis": "y",
           "type": "bar"
          }
         ],
         "name": "2012"
        },
        {
         "data": [
          {
           "alignmentgroup": "True",
           "hovertemplate": "Countries=%{x}<br>Year=2013<br>Export by Volume=%{y}<extra></extra>",
           "legendgroup": "Brazil",
           "marker": {
            "color": "#636efa",
            "pattern": {
             "shape": ""
            }
           },
           "name": "Brazil",
           "offsetgroup": "Brazil",
           "orientation": "v",
           "showlegend": true,
           "textposition": "auto",
           "x": [
            "Brazil"
           ],
           "xaxis": "x",
           "y": [
            31650.5629454
           ],
           "yaxis": "y",
           "type": "bar"
          },
          {
           "alignmentgroup": "True",
           "hovertemplate": "Countries=%{x}<br>Year=2013<br>Export by Volume=%{y}<extra></extra>",
           "legendgroup": "Colombia",
           "marker": {
            "color": "#EF553B",
            "pattern": {
             "shape": ""
            }
           },
           "name": "Colombia",
           "offsetgroup": "Colombia",
           "orientation": "v",
           "showlegend": true,
           "textposition": "auto",
           "x": [
            "Colombia"
           ],
           "xaxis": "x",
           "y": [
            9669.907367
           ],
           "yaxis": "y",
           "type": "bar"
          },
          {
           "alignmentgroup": "True",
           "hovertemplate": "Countries=%{x}<br>Year=2013<br>Export by Volume=%{y}<extra></extra>",
           "legendgroup": "Ethiopia",
           "marker": {
            "color": "#00cc96",
            "pattern": {
             "shape": ""
            }
           },
           "name": "Ethiopia",
           "offsetgroup": "Ethiopia",
           "orientation": "v",
           "showlegend": true,
           "textposition": "auto",
           "x": [
            "Ethiopia"
           ],
           "xaxis": "x",
           "y": [
            2870.0752483
           ],
           "yaxis": "y",
           "type": "bar"
          },
          {
           "alignmentgroup": "True",
           "hovertemplate": "Countries=%{x}<br>Year=2013<br>Export by Volume=%{y}<extra></extra>",
           "legendgroup": "Honduras",
           "marker": {
            "color": "#ab63fa",
            "pattern": {
             "shape": ""
            }
           },
           "name": "Honduras",
           "offsetgroup": "Honduras",
           "orientation": "v",
           "showlegend": true,
           "textposition": "auto",
           "x": [
            "Honduras"
           ],
           "xaxis": "x",
           "y": [
            4185.1189243
           ],
           "yaxis": "y",
           "type": "bar"
          },
          {
           "alignmentgroup": "True",
           "hovertemplate": "Countries=%{x}<br>Year=2013<br>Export by Volume=%{y}<extra></extra>",
           "legendgroup": "Indonesia",
           "marker": {
            "color": "#FFA15A",
            "pattern": {
             "shape": ""
            }
           },
           "name": "Indonesia",
           "offsetgroup": "Indonesia",
           "orientation": "v",
           "showlegend": true,
           "textposition": "auto",
           "x": [
            "Indonesia"
           ],
           "xaxis": "x",
           "y": [
            9254.8073308
           ],
           "yaxis": "y",
           "type": "bar"
          },
          {
           "alignmentgroup": "True",
           "hovertemplate": "Countries=%{x}<br>Year=2013<br>Export by Volume=%{y}<extra></extra>",
           "legendgroup": "Viet Nam",
           "marker": {
            "color": "#19d3f3",
            "pattern": {
             "shape": ""
            }
           },
           "name": "Viet Nam",
           "offsetgroup": "Viet Nam",
           "orientation": "v",
           "showlegend": true,
           "textposition": "auto",
           "x": [
            "Viet Nam"
           ],
           "xaxis": "x",
           "y": [
            19717.7644142
           ],
           "yaxis": "y",
           "type": "bar"
          }
         ],
         "name": "2013"
        }
       ],
       "config": {
        "plotlyServerURL": "https://plot.ly"
       }
      },
      "text/html": "<div>                            <div id=\"2cd6b3f7-a415-43d4-b98b-2e8a428d631a\" class=\"plotly-graph-div\" style=\"height:525px; width:100%;\"></div>            <script type=\"text/javascript\">                require([\"plotly\"], function(Plotly) {                    window.PLOTLYENV=window.PLOTLYENV || {};                                    if (document.getElementById(\"2cd6b3f7-a415-43d4-b98b-2e8a428d631a\")) {                    Plotly.newPlot(                        \"2cd6b3f7-a415-43d4-b98b-2e8a428d631a\",                        [{\"alignmentgroup\":\"True\",\"hovertemplate\":\"Countries=%{x}\\u003cbr\\u003eYear=1990\\u003cbr\\u003eExport by Volume=%{y}\\u003cextra\\u003e\\u003c\\u002fextra\\u003e\",\"legendgroup\":\"Brazil\",\"marker\":{\"color\":\"#636efa\",\"pattern\":{\"shape\":\"\"}},\"name\":\"Brazil\",\"offsetgroup\":\"Brazil\",\"orientation\":\"v\",\"showlegend\":true,\"textposition\":\"auto\",\"x\":[\"Brazil\"],\"xaxis\":\"x\",\"y\":[16935.7876003],\"yaxis\":\"y\",\"type\":\"bar\"},{\"alignmentgroup\":\"True\",\"hovertemplate\":\"Countries=%{x}\\u003cbr\\u003eYear=1990\\u003cbr\\u003eExport by Volume=%{y}\\u003cextra\\u003e\\u003c\\u002fextra\\u003e\",\"legendgroup\":\"Colombia\",\"marker\":{\"color\":\"#EF553B\",\"pattern\":{\"shape\":\"\"}},\"name\":\"Colombia\",\"offsetgroup\":\"Colombia\",\"orientation\":\"v\",\"showlegend\":true,\"textposition\":\"auto\",\"x\":[\"Colombia\"],\"xaxis\":\"x\",\"y\":[13943.8700004],\"yaxis\":\"y\",\"type\":\"bar\"},{\"alignmentgroup\":\"True\",\"hovertemplate\":\"Countries=%{x}\\u003cbr\\u003eYear=1990\\u003cbr\\u003eExport by Volume=%{y}\\u003cextra\\u003e\\u003c\\u002fextra\\u003e\",\"legendgroup\":\"Ethiopia\",\"marker\":{\"color\":\"#00cc96\",\"pattern\":{\"shape\":\"\"}},\"name\":\"Ethiopia\",\"offsetgroup\":\"Ethiopia\",\"orientation\":\"v\",\"showlegend\":true,\"textposition\":\"auto\",\"x\":[\"Ethiopia\"],\"xaxis\":\"x\",\"y\":[1074.101],\"yaxis\":\"y\",\"type\":\"bar\"},{\"alignmentgroup\":\"True\",\"hovertemplate\":\"Countries=%{x}\\u003cbr\\u003eYear=1990\\u003cbr\\u003eExport by Volume=%{y}\\u003cextra\\u003e\\u003c\\u002fextra\\u003e\",\"legendgroup\":\"Honduras\",\"marker\":{\"color\":\"#ab63fa\",\"pattern\":{\"shape\":\"\"}},\"name\":\"Honduras\",\"offsetgroup\":\"Honduras\",\"orientation\":\"v\",\"showlegend\":true,\"textposition\":\"auto\",\"x\":[\"Honduras\"],\"xaxis\":\"x\",\"y\":[1735.093],\"yaxis\":\"y\",\"type\":\"bar\"},{\"alignmentgroup\":\"True\",\"hovertemplate\":\"Countries=%{x}\\u003cbr\\u003eYear=1990\\u003cbr\\u003eExport by Volume=%{y}\\u003cextra\\u003e\\u003c\\u002fextra\\u003e\",\"legendgroup\":\"Indonesia\",\"marker\":{\"color\":\"#FFA15A\",\"pattern\":{\"shape\":\"\"}},\"name\":\"Indonesia\",\"offsetgroup\":\"Indonesia\",\"orientation\":\"v\",\"showlegend\":true,\"textposition\":\"auto\",\"x\":[\"Indonesia\"],\"xaxis\":\"x\",\"y\":[6903.2269994],\"yaxis\":\"y\",\"type\":\"bar\"},{\"alignmentgroup\":\"True\",\"hovertemplate\":\"Countries=%{x}\\u003cbr\\u003eYear=1990\\u003cbr\\u003eExport by Volume=%{y}\\u003cextra\\u003e\\u003c\\u002fextra\\u003e\",\"legendgroup\":\"Viet Nam\",\"marker\":{\"color\":\"#19d3f3\",\"pattern\":{\"shape\":\"\"}},\"name\":\"Viet Nam\",\"offsetgroup\":\"Viet Nam\",\"orientation\":\"v\",\"showlegend\":true,\"textposition\":\"auto\",\"x\":[\"Viet Nam\"],\"xaxis\":\"x\",\"y\":[1145.2340014],\"yaxis\":\"y\",\"type\":\"bar\"}],                        {\"template\":{\"data\":{\"histogram2dcontour\":[{\"type\":\"histogram2dcontour\",\"colorbar\":{\"outlinewidth\":0,\"ticks\":\"\"},\"colorscale\":[[0.0,\"#0d0887\"],[0.1111111111111111,\"#46039f\"],[0.2222222222222222,\"#7201a8\"],[0.3333333333333333,\"#9c179e\"],[0.4444444444444444,\"#bd3786\"],[0.5555555555555556,\"#d8576b\"],[0.6666666666666666,\"#ed7953\"],[0.7777777777777778,\"#fb9f3a\"],[0.8888888888888888,\"#fdca26\"],[1.0,\"#f0f921\"]]}],\"choropleth\":[{\"type\":\"choropleth\",\"colorbar\":{\"outlinewidth\":0,\"ticks\":\"\"}}],\"histogram2d\":[{\"type\":\"histogram2d\",\"colorbar\":{\"outlinewidth\":0,\"ticks\":\"\"},\"colorscale\":[[0.0,\"#0d0887\"],[0.1111111111111111,\"#46039f\"],[0.2222222222222222,\"#7201a8\"],[0.3333333333333333,\"#9c179e\"],[0.4444444444444444,\"#bd3786\"],[0.5555555555555556,\"#d8576b\"],[0.6666666666666666,\"#ed7953\"],[0.7777777777777778,\"#fb9f3a\"],[0.8888888888888888,\"#fdca26\"],[1.0,\"#f0f921\"]]}],\"heatmap\":[{\"type\":\"heatmap\",\"colorbar\":{\"outlinewidth\":0,\"ticks\":\"\"},\"colorscale\":[[0.0,\"#0d0887\"],[0.1111111111111111,\"#46039f\"],[0.2222222222222222,\"#7201a8\"],[0.3333333333333333,\"#9c179e\"],[0.4444444444444444,\"#bd3786\"],[0.5555555555555556,\"#d8576b\"],[0.6666666666666666,\"#ed7953\"],[0.7777777777777778,\"#fb9f3a\"],[0.8888888888888888,\"#fdca26\"],[1.0,\"#f0f921\"]]}],\"heatmapgl\":[{\"type\":\"heatmapgl\",\"colorbar\":{\"outlinewidth\":0,\"ticks\":\"\"},\"colorscale\":[[0.0,\"#0d0887\"],[0.1111111111111111,\"#46039f\"],[0.2222222222222222,\"#7201a8\"],[0.3333333333333333,\"#9c179e\"],[0.4444444444444444,\"#bd3786\"],[0.5555555555555556,\"#d8576b\"],[0.6666666666666666,\"#ed7953\"],[0.7777777777777778,\"#fb9f3a\"],[0.8888888888888888,\"#fdca26\"],[1.0,\"#f0f921\"]]}],\"contourcarpet\":[{\"type\":\"contourcarpet\",\"colorbar\":{\"outlinewidth\":0,\"ticks\":\"\"}}],\"contour\":[{\"type\":\"contour\",\"colorbar\":{\"outlinewidth\":0,\"ticks\":\"\"},\"colorscale\":[[0.0,\"#0d0887\"],[0.1111111111111111,\"#46039f\"],[0.2222222222222222,\"#7201a8\"],[0.3333333333333333,\"#9c179e\"],[0.4444444444444444,\"#bd3786\"],[0.5555555555555556,\"#d8576b\"],[0.6666666666666666,\"#ed7953\"],[0.7777777777777778,\"#fb9f3a\"],[0.8888888888888888,\"#fdca26\"],[1.0,\"#f0f921\"]]}],\"surface\":[{\"type\":\"surface\",\"colorbar\":{\"outlinewidth\":0,\"ticks\":\"\"},\"colorscale\":[[0.0,\"#0d0887\"],[0.1111111111111111,\"#46039f\"],[0.2222222222222222,\"#7201a8\"],[0.3333333333333333,\"#9c179e\"],[0.4444444444444444,\"#bd3786\"],[0.5555555555555556,\"#d8576b\"],[0.6666666666666666,\"#ed7953\"],[0.7777777777777778,\"#fb9f3a\"],[0.8888888888888888,\"#fdca26\"],[1.0,\"#f0f921\"]]}],\"mesh3d\":[{\"type\":\"mesh3d\",\"colorbar\":{\"outlinewidth\":0,\"ticks\":\"\"}}],\"scatter\":[{\"marker\":{\"line\":{\"color\":\"#283442\"}},\"type\":\"scatter\"}],\"parcoords\":[{\"type\":\"parcoords\",\"line\":{\"colorbar\":{\"outlinewidth\":0,\"ticks\":\"\"}}}],\"scatterpolargl\":[{\"type\":\"scatterpolargl\",\"marker\":{\"colorbar\":{\"outlinewidth\":0,\"ticks\":\"\"}}}],\"bar\":[{\"error_x\":{\"color\":\"#f2f5fa\"},\"error_y\":{\"color\":\"#f2f5fa\"},\"marker\":{\"line\":{\"color\":\"rgb(17,17,17)\",\"width\":0.5},\"pattern\":{\"fillmode\":\"overlay\",\"size\":10,\"solidity\":0.2}},\"type\":\"bar\"}],\"scattergeo\":[{\"type\":\"scattergeo\",\"marker\":{\"colorbar\":{\"outlinewidth\":0,\"ticks\":\"\"}}}],\"scatterpolar\":[{\"type\":\"scatterpolar\",\"marker\":{\"colorbar\":{\"outlinewidth\":0,\"ticks\":\"\"}}}],\"histogram\":[{\"marker\":{\"pattern\":{\"fillmode\":\"overlay\",\"size\":10,\"solidity\":0.2}},\"type\":\"histogram\"}],\"scattergl\":[{\"marker\":{\"line\":{\"color\":\"#283442\"}},\"type\":\"scattergl\"}],\"scatter3d\":[{\"type\":\"scatter3d\",\"line\":{\"colorbar\":{\"outlinewidth\":0,\"ticks\":\"\"}},\"marker\":{\"colorbar\":{\"outlinewidth\":0,\"ticks\":\"\"}}}],\"scattermapbox\":[{\"type\":\"scattermapbox\",\"marker\":{\"colorbar\":{\"outlinewidth\":0,\"ticks\":\"\"}}}],\"scatterternary\":[{\"type\":\"scatterternary\",\"marker\":{\"colorbar\":{\"outlinewidth\":0,\"ticks\":\"\"}}}],\"scattercarpet\":[{\"type\":\"scattercarpet\",\"marker\":{\"colorbar\":{\"outlinewidth\":0,\"ticks\":\"\"}}}],\"carpet\":[{\"aaxis\":{\"endlinecolor\":\"#A2B1C6\",\"gridcolor\":\"#506784\",\"linecolor\":\"#506784\",\"minorgridcolor\":\"#506784\",\"startlinecolor\":\"#A2B1C6\"},\"baxis\":{\"endlinecolor\":\"#A2B1C6\",\"gridcolor\":\"#506784\",\"linecolor\":\"#506784\",\"minorgridcolor\":\"#506784\",\"startlinecolor\":\"#A2B1C6\"},\"type\":\"carpet\"}],\"table\":[{\"cells\":{\"fill\":{\"color\":\"#506784\"},\"line\":{\"color\":\"rgb(17,17,17)\"}},\"header\":{\"fill\":{\"color\":\"#2a3f5f\"},\"line\":{\"color\":\"rgb(17,17,17)\"}},\"type\":\"table\"}],\"barpolar\":[{\"marker\":{\"line\":{\"color\":\"rgb(17,17,17)\",\"width\":0.5},\"pattern\":{\"fillmode\":\"overlay\",\"size\":10,\"solidity\":0.2}},\"type\":\"barpolar\"}],\"pie\":[{\"automargin\":true,\"type\":\"pie\"}]},\"layout\":{\"autotypenumbers\":\"strict\",\"colorway\":[\"#636efa\",\"#EF553B\",\"#00cc96\",\"#ab63fa\",\"#FFA15A\",\"#19d3f3\",\"#FF6692\",\"#B6E880\",\"#FF97FF\",\"#FECB52\"],\"font\":{\"color\":\"#f2f5fa\"},\"hovermode\":\"closest\",\"hoverlabel\":{\"align\":\"left\"},\"paper_bgcolor\":\"rgb(17,17,17)\",\"plot_bgcolor\":\"rgb(17,17,17)\",\"polar\":{\"bgcolor\":\"rgb(17,17,17)\",\"angularaxis\":{\"gridcolor\":\"#506784\",\"linecolor\":\"#506784\",\"ticks\":\"\"},\"radialaxis\":{\"gridcolor\":\"#506784\",\"linecolor\":\"#506784\",\"ticks\":\"\"}},\"ternary\":{\"bgcolor\":\"rgb(17,17,17)\",\"aaxis\":{\"gridcolor\":\"#506784\",\"linecolor\":\"#506784\",\"ticks\":\"\"},\"baxis\":{\"gridcolor\":\"#506784\",\"linecolor\":\"#506784\",\"ticks\":\"\"},\"caxis\":{\"gridcolor\":\"#506784\",\"linecolor\":\"#506784\",\"ticks\":\"\"}},\"coloraxis\":{\"colorbar\":{\"outlinewidth\":0,\"ticks\":\"\"}},\"colorscale\":{\"sequential\":[[0.0,\"#0d0887\"],[0.1111111111111111,\"#46039f\"],[0.2222222222222222,\"#7201a8\"],[0.3333333333333333,\"#9c179e\"],[0.4444444444444444,\"#bd3786\"],[0.5555555555555556,\"#d8576b\"],[0.6666666666666666,\"#ed7953\"],[0.7777777777777778,\"#fb9f3a\"],[0.8888888888888888,\"#fdca26\"],[1.0,\"#f0f921\"]],\"sequentialminus\":[[0.0,\"#0d0887\"],[0.1111111111111111,\"#46039f\"],[0.2222222222222222,\"#7201a8\"],[0.3333333333333333,\"#9c179e\"],[0.4444444444444444,\"#bd3786\"],[0.5555555555555556,\"#d8576b\"],[0.6666666666666666,\"#ed7953\"],[0.7777777777777778,\"#fb9f3a\"],[0.8888888888888888,\"#fdca26\"],[1.0,\"#f0f921\"]],\"diverging\":[[0,\"#8e0152\"],[0.1,\"#c51b7d\"],[0.2,\"#de77ae\"],[0.3,\"#f1b6da\"],[0.4,\"#fde0ef\"],[0.5,\"#f7f7f7\"],[0.6,\"#e6f5d0\"],[0.7,\"#b8e186\"],[0.8,\"#7fbc41\"],[0.9,\"#4d9221\"],[1,\"#276419\"]]},\"xaxis\":{\"gridcolor\":\"#283442\",\"linecolor\":\"#506784\",\"ticks\":\"\",\"title\":{\"standoff\":15},\"zerolinecolor\":\"#283442\",\"automargin\":true,\"zerolinewidth\":2},\"yaxis\":{\"gridcolor\":\"#283442\",\"linecolor\":\"#506784\",\"ticks\":\"\",\"title\":{\"standoff\":15},\"zerolinecolor\":\"#283442\",\"automargin\":true,\"zerolinewidth\":2},\"scene\":{\"xaxis\":{\"backgroundcolor\":\"rgb(17,17,17)\",\"gridcolor\":\"#506784\",\"linecolor\":\"#506784\",\"showbackground\":true,\"ticks\":\"\",\"zerolinecolor\":\"#C8D4E3\",\"gridwidth\":2},\"yaxis\":{\"backgroundcolor\":\"rgb(17,17,17)\",\"gridcolor\":\"#506784\",\"linecolor\":\"#506784\",\"showbackground\":true,\"ticks\":\"\",\"zerolinecolor\":\"#C8D4E3\",\"gridwidth\":2},\"zaxis\":{\"backgroundcolor\":\"rgb(17,17,17)\",\"gridcolor\":\"#506784\",\"linecolor\":\"#506784\",\"showbackground\":true,\"ticks\":\"\",\"zerolinecolor\":\"#C8D4E3\",\"gridwidth\":2}},\"shapedefaults\":{\"line\":{\"color\":\"#f2f5fa\"}},\"annotationdefaults\":{\"arrowcolor\":\"#f2f5fa\",\"arrowhead\":0,\"arrowwidth\":1},\"geo\":{\"bgcolor\":\"rgb(17,17,17)\",\"landcolor\":\"rgb(17,17,17)\",\"subunitcolor\":\"#506784\",\"showland\":true,\"showlakes\":true,\"lakecolor\":\"rgb(17,17,17)\"},\"title\":{\"x\":0.05},\"updatemenudefaults\":{\"bgcolor\":\"#506784\",\"borderwidth\":0},\"sliderdefaults\":{\"bgcolor\":\"#C8D4E3\",\"borderwidth\":1,\"bordercolor\":\"rgb(17,17,17)\",\"tickwidth\":0},\"mapbox\":{\"style\":\"dark\"}}},\"xaxis\":{\"anchor\":\"y\",\"domain\":[0.0,1.0],\"title\":{\"text\":\"Countries\"},\"categoryorder\":\"array\",\"categoryarray\":[\"Brazil\",\"Colombia\",\"Ethiopia\",\"Honduras\",\"Indonesia\",\"Viet Nam\"]},\"yaxis\":{\"anchor\":\"x\",\"domain\":[0.0,1.0],\"title\":{\"text\":\"Export by Volume\"},\"range\":[0,33806.0093278]},\"legend\":{\"title\":{\"text\":\"Countries\"},\"tracegroupgap\":0},\"margin\":{\"t\":60},\"barmode\":\"relative\",\"updatemenus\":[{\"buttons\":[{\"args\":[null,{\"frame\":{\"duration\":500,\"redraw\":true},\"mode\":\"immediate\",\"fromcurrent\":true,\"transition\":{\"duration\":500,\"easing\":\"linear\"}}],\"label\":\"&#9654;\",\"method\":\"animate\"},{\"args\":[[null],{\"frame\":{\"duration\":0,\"redraw\":true},\"mode\":\"immediate\",\"fromcurrent\":true,\"transition\":{\"duration\":0,\"easing\":\"linear\"}}],\"label\":\"&#9724;\",\"method\":\"animate\"}],\"direction\":\"left\",\"pad\":{\"r\":10,\"t\":70},\"showactive\":false,\"type\":\"buttons\",\"x\":0.1,\"xanchor\":\"right\",\"y\":0,\"yanchor\":\"top\"}],\"sliders\":[{\"active\":0,\"currentvalue\":{\"prefix\":\"Year=\"},\"len\":0.9,\"pad\":{\"b\":10,\"t\":60},\"steps\":[{\"args\":[[\"1990\"],{\"frame\":{\"duration\":0,\"redraw\":true},\"mode\":\"immediate\",\"fromcurrent\":true,\"transition\":{\"duration\":0,\"easing\":\"linear\"}}],\"label\":\"1990\",\"method\":\"animate\"},{\"args\":[[\"1991\"],{\"frame\":{\"duration\":0,\"redraw\":true},\"mode\":\"immediate\",\"fromcurrent\":true,\"transition\":{\"duration\":0,\"easing\":\"linear\"}}],\"label\":\"1991\",\"method\":\"animate\"},{\"args\":[[\"1992\"],{\"frame\":{\"duration\":0,\"redraw\":true},\"mode\":\"immediate\",\"fromcurrent\":true,\"transition\":{\"duration\":0,\"easing\":\"linear\"}}],\"label\":\"1992\",\"method\":\"animate\"},{\"args\":[[\"1993\"],{\"frame\":{\"duration\":0,\"redraw\":true},\"mode\":\"immediate\",\"fromcurrent\":true,\"transition\":{\"duration\":0,\"easing\":\"linear\"}}],\"label\":\"1993\",\"method\":\"animate\"},{\"args\":[[\"1994\"],{\"frame\":{\"duration\":0,\"redraw\":true},\"mode\":\"immediate\",\"fromcurrent\":true,\"transition\":{\"duration\":0,\"easing\":\"linear\"}}],\"label\":\"1994\",\"method\":\"animate\"},{\"args\":[[\"1995\"],{\"frame\":{\"duration\":0,\"redraw\":true},\"mode\":\"immediate\",\"fromcurrent\":true,\"transition\":{\"duration\":0,\"easing\":\"linear\"}}],\"label\":\"1995\",\"method\":\"animate\"},{\"args\":[[\"1996\"],{\"frame\":{\"duration\":0,\"redraw\":true},\"mode\":\"immediate\",\"fromcurrent\":true,\"transition\":{\"duration\":0,\"easing\":\"linear\"}}],\"label\":\"1996\",\"method\":\"animate\"},{\"args\":[[\"1997\"],{\"frame\":{\"duration\":0,\"redraw\":true},\"mode\":\"immediate\",\"fromcurrent\":true,\"transition\":{\"duration\":0,\"easing\":\"linear\"}}],\"label\":\"1997\",\"method\":\"animate\"},{\"args\":[[\"1998\"],{\"frame\":{\"duration\":0,\"redraw\":true},\"mode\":\"immediate\",\"fromcurrent\":true,\"transition\":{\"duration\":0,\"easing\":\"linear\"}}],\"label\":\"1998\",\"method\":\"animate\"},{\"args\":[[\"1999\"],{\"frame\":{\"duration\":0,\"redraw\":true},\"mode\":\"immediate\",\"fromcurrent\":true,\"transition\":{\"duration\":0,\"easing\":\"linear\"}}],\"label\":\"1999\",\"method\":\"animate\"},{\"args\":[[\"2000\"],{\"frame\":{\"duration\":0,\"redraw\":true},\"mode\":\"immediate\",\"fromcurrent\":true,\"transition\":{\"duration\":0,\"easing\":\"linear\"}}],\"label\":\"2000\",\"method\":\"animate\"},{\"args\":[[\"2001\"],{\"frame\":{\"duration\":0,\"redraw\":true},\"mode\":\"immediate\",\"fromcurrent\":true,\"transition\":{\"duration\":0,\"easing\":\"linear\"}}],\"label\":\"2001\",\"method\":\"animate\"},{\"args\":[[\"2002\"],{\"frame\":{\"duration\":0,\"redraw\":true},\"mode\":\"immediate\",\"fromcurrent\":true,\"transition\":{\"duration\":0,\"easing\":\"linear\"}}],\"label\":\"2002\",\"method\":\"animate\"},{\"args\":[[\"2003\"],{\"frame\":{\"duration\":0,\"redraw\":true},\"mode\":\"immediate\",\"fromcurrent\":true,\"transition\":{\"duration\":0,\"easing\":\"linear\"}}],\"label\":\"2003\",\"method\":\"animate\"},{\"args\":[[\"2004\"],{\"frame\":{\"duration\":0,\"redraw\":true},\"mode\":\"immediate\",\"fromcurrent\":true,\"transition\":{\"duration\":0,\"easing\":\"linear\"}}],\"label\":\"2004\",\"method\":\"animate\"},{\"args\":[[\"2005\"],{\"frame\":{\"duration\":0,\"redraw\":true},\"mode\":\"immediate\",\"fromcurrent\":true,\"transition\":{\"duration\":0,\"easing\":\"linear\"}}],\"label\":\"2005\",\"method\":\"animate\"},{\"args\":[[\"2006\"],{\"frame\":{\"duration\":0,\"redraw\":true},\"mode\":\"immediate\",\"fromcurrent\":true,\"transition\":{\"duration\":0,\"easing\":\"linear\"}}],\"label\":\"2006\",\"method\":\"animate\"},{\"args\":[[\"2007\"],{\"frame\":{\"duration\":0,\"redraw\":true},\"mode\":\"immediate\",\"fromcurrent\":true,\"transition\":{\"duration\":0,\"easing\":\"linear\"}}],\"label\":\"2007\",\"method\":\"animate\"},{\"args\":[[\"2008\"],{\"frame\":{\"duration\":0,\"redraw\":true},\"mode\":\"immediate\",\"fromcurrent\":true,\"transition\":{\"duration\":0,\"easing\":\"linear\"}}],\"label\":\"2008\",\"method\":\"animate\"},{\"args\":[[\"2009\"],{\"frame\":{\"duration\":0,\"redraw\":true},\"mode\":\"immediate\",\"fromcurrent\":true,\"transition\":{\"duration\":0,\"easing\":\"linear\"}}],\"label\":\"2009\",\"method\":\"animate\"},{\"args\":[[\"2010\"],{\"frame\":{\"duration\":0,\"redraw\":true},\"mode\":\"immediate\",\"fromcurrent\":true,\"transition\":{\"duration\":0,\"easing\":\"linear\"}}],\"label\":\"2010\",\"method\":\"animate\"},{\"args\":[[\"2011\"],{\"frame\":{\"duration\":0,\"redraw\":true},\"mode\":\"immediate\",\"fromcurrent\":true,\"transition\":{\"duration\":0,\"easing\":\"linear\"}}],\"label\":\"2011\",\"method\":\"animate\"},{\"args\":[[\"2012\"],{\"frame\":{\"duration\":0,\"redraw\":true},\"mode\":\"immediate\",\"fromcurrent\":true,\"transition\":{\"duration\":0,\"easing\":\"linear\"}}],\"label\":\"2012\",\"method\":\"animate\"},{\"args\":[[\"2013\"],{\"frame\":{\"duration\":0,\"redraw\":true},\"mode\":\"immediate\",\"fromcurrent\":true,\"transition\":{\"duration\":0,\"easing\":\"linear\"}}],\"label\":\"2013\",\"method\":\"animate\"}],\"x\":0.1,\"xanchor\":\"left\",\"y\":0,\"yanchor\":\"top\"}],\"showlegend\":false},                        {\"responsive\": true}                    ).then(function(){\n                            Plotly.addFrames('2cd6b3f7-a415-43d4-b98b-2e8a428d631a', [{\"data\":[{\"alignmentgroup\":\"True\",\"hovertemplate\":\"Countries=%{x}\\u003cbr\\u003eYear=1990\\u003cbr\\u003eExport by Volume=%{y}\\u003cextra\\u003e\\u003c\\u002fextra\\u003e\",\"legendgroup\":\"Brazil\",\"marker\":{\"color\":\"#636efa\",\"pattern\":{\"shape\":\"\"}},\"name\":\"Brazil\",\"offsetgroup\":\"Brazil\",\"orientation\":\"v\",\"showlegend\":true,\"textposition\":\"auto\",\"x\":[\"Brazil\"],\"xaxis\":\"x\",\"y\":[16935.7876003],\"yaxis\":\"y\",\"type\":\"bar\"},{\"alignmentgroup\":\"True\",\"hovertemplate\":\"Countries=%{x}\\u003cbr\\u003eYear=1990\\u003cbr\\u003eExport by Volume=%{y}\\u003cextra\\u003e\\u003c\\u002fextra\\u003e\",\"legendgroup\":\"Colombia\",\"marker\":{\"color\":\"#EF553B\",\"pattern\":{\"shape\":\"\"}},\"name\":\"Colombia\",\"offsetgroup\":\"Colombia\",\"orientation\":\"v\",\"showlegend\":true,\"textposition\":\"auto\",\"x\":[\"Colombia\"],\"xaxis\":\"x\",\"y\":[13943.8700004],\"yaxis\":\"y\",\"type\":\"bar\"},{\"alignmentgroup\":\"True\",\"hovertemplate\":\"Countries=%{x}\\u003cbr\\u003eYear=1990\\u003cbr\\u003eExport by Volume=%{y}\\u003cextra\\u003e\\u003c\\u002fextra\\u003e\",\"legendgroup\":\"Ethiopia\",\"marker\":{\"color\":\"#00cc96\",\"pattern\":{\"shape\":\"\"}},\"name\":\"Ethiopia\",\"offsetgroup\":\"Ethiopia\",\"orientation\":\"v\",\"showlegend\":true,\"textposition\":\"auto\",\"x\":[\"Ethiopia\"],\"xaxis\":\"x\",\"y\":[1074.101],\"yaxis\":\"y\",\"type\":\"bar\"},{\"alignmentgroup\":\"True\",\"hovertemplate\":\"Countries=%{x}\\u003cbr\\u003eYear=1990\\u003cbr\\u003eExport by Volume=%{y}\\u003cextra\\u003e\\u003c\\u002fextra\\u003e\",\"legendgroup\":\"Honduras\",\"marker\":{\"color\":\"#ab63fa\",\"pattern\":{\"shape\":\"\"}},\"name\":\"Honduras\",\"offsetgroup\":\"Honduras\",\"orientation\":\"v\",\"showlegend\":true,\"textposition\":\"auto\",\"x\":[\"Honduras\"],\"xaxis\":\"x\",\"y\":[1735.093],\"yaxis\":\"y\",\"type\":\"bar\"},{\"alignmentgroup\":\"True\",\"hovertemplate\":\"Countries=%{x}\\u003cbr\\u003eYear=1990\\u003cbr\\u003eExport by Volume=%{y}\\u003cextra\\u003e\\u003c\\u002fextra\\u003e\",\"legendgroup\":\"Indonesia\",\"marker\":{\"color\":\"#FFA15A\",\"pattern\":{\"shape\":\"\"}},\"name\":\"Indonesia\",\"offsetgroup\":\"Indonesia\",\"orientation\":\"v\",\"showlegend\":true,\"textposition\":\"auto\",\"x\":[\"Indonesia\"],\"xaxis\":\"x\",\"y\":[6903.2269994],\"yaxis\":\"y\",\"type\":\"bar\"},{\"alignmentgroup\":\"True\",\"hovertemplate\":\"Countries=%{x}\\u003cbr\\u003eYear=1990\\u003cbr\\u003eExport by Volume=%{y}\\u003cextra\\u003e\\u003c\\u002fextra\\u003e\",\"legendgroup\":\"Viet Nam\",\"marker\":{\"color\":\"#19d3f3\",\"pattern\":{\"shape\":\"\"}},\"name\":\"Viet Nam\",\"offsetgroup\":\"Viet Nam\",\"orientation\":\"v\",\"showlegend\":true,\"textposition\":\"auto\",\"x\":[\"Viet Nam\"],\"xaxis\":\"x\",\"y\":[1145.2340014],\"yaxis\":\"y\",\"type\":\"bar\"}],\"name\":\"1990\"},{\"data\":[{\"alignmentgroup\":\"True\",\"hovertemplate\":\"Countries=%{x}\\u003cbr\\u003eYear=1991\\u003cbr\\u003eExport by Volume=%{y}\\u003cextra\\u003e\\u003c\\u002fextra\\u003e\",\"legendgroup\":\"Brazil\",\"marker\":{\"color\":\"#636efa\",\"pattern\":{\"shape\":\"\"}},\"name\":\"Brazil\",\"offsetgroup\":\"Brazil\",\"orientation\":\"v\",\"showlegend\":true,\"textposition\":\"auto\",\"x\":[\"Brazil\"],\"xaxis\":\"x\",\"y\":[21182.7614023],\"yaxis\":\"y\",\"type\":\"bar\"},{\"alignmentgroup\":\"True\",\"hovertemplate\":\"Countries=%{x}\\u003cbr\\u003eYear=1991\\u003cbr\\u003eExport by Volume=%{y}\\u003cextra\\u003e\\u003c\\u002fextra\\u003e\",\"legendgroup\":\"Colombia\",\"marker\":{\"color\":\"#EF553B\",\"pattern\":{\"shape\":\"\"}},\"name\":\"Colombia\",\"offsetgroup\":\"Colombia\",\"orientation\":\"v\",\"showlegend\":true,\"textposition\":\"auto\",\"x\":[\"Colombia\"],\"xaxis\":\"x\",\"y\":[12599.1849983],\"yaxis\":\"y\",\"type\":\"bar\"},{\"alignmentgroup\":\"True\",\"hovertemplate\":\"Countries=%{x}\\u003cbr\\u003eYear=1991\\u003cbr\\u003eExport by Volume=%{y}\\u003cextra\\u003e\\u003c\\u002fextra\\u003e\",\"legendgroup\":\"Ethiopia\",\"marker\":{\"color\":\"#00cc96\",\"pattern\":{\"shape\":\"\"}},\"name\":\"Ethiopia\",\"offsetgroup\":\"Ethiopia\",\"orientation\":\"v\",\"showlegend\":true,\"textposition\":\"auto\",\"x\":[\"Ethiopia\"],\"xaxis\":\"x\",\"y\":[841.329],\"yaxis\":\"y\",\"type\":\"bar\"},{\"alignmentgroup\":\"True\",\"hovertemplate\":\"Countries=%{x}\\u003cbr\\u003eYear=1991\\u003cbr\\u003eExport by Volume=%{y}\\u003cextra\\u003e\\u003c\\u002fextra\\u003e\",\"legendgroup\":\"Honduras\",\"marker\":{\"color\":\"#ab63fa\",\"pattern\":{\"shape\":\"\"}},\"name\":\"Honduras\",\"offsetgroup\":\"Honduras\",\"orientation\":\"v\",\"showlegend\":true,\"textposition\":\"auto\",\"x\":[\"Honduras\"],\"xaxis\":\"x\",\"y\":[1444.363],\"yaxis\":\"y\",\"type\":\"bar\"},{\"alignmentgroup\":\"True\",\"hovertemplate\":\"Countries=%{x}\\u003cbr\\u003eYear=1991\\u003cbr\\u003eExport by Volume=%{y}\\u003cextra\\u003e\\u003c\\u002fextra\\u003e\",\"legendgroup\":\"Indonesia\",\"marker\":{\"color\":\"#FFA15A\",\"pattern\":{\"shape\":\"\"}},\"name\":\"Indonesia\",\"offsetgroup\":\"Indonesia\",\"orientation\":\"v\",\"showlegend\":true,\"textposition\":\"auto\",\"x\":[\"Indonesia\"],\"xaxis\":\"x\",\"y\":[6170.7960001],\"yaxis\":\"y\",\"type\":\"bar\"},{\"alignmentgroup\":\"True\",\"hovertemplate\":\"Countries=%{x}\\u003cbr\\u003eYear=1991\\u003cbr\\u003eExport by Volume=%{y}\\u003cextra\\u003e\\u003c\\u002fextra\\u003e\",\"legendgroup\":\"Viet Nam\",\"marker\":{\"color\":\"#19d3f3\",\"pattern\":{\"shape\":\"\"}},\"name\":\"Viet Nam\",\"offsetgroup\":\"Viet Nam\",\"orientation\":\"v\",\"showlegend\":true,\"textposition\":\"auto\",\"x\":[\"Viet Nam\"],\"xaxis\":\"x\",\"y\":[1200.952],\"yaxis\":\"y\",\"type\":\"bar\"}],\"name\":\"1991\"},{\"data\":[{\"alignmentgroup\":\"True\",\"hovertemplate\":\"Countries=%{x}\\u003cbr\\u003eYear=1992\\u003cbr\\u003eExport by Volume=%{y}\\u003cextra\\u003e\\u003c\\u002fextra\\u003e\",\"legendgroup\":\"Brazil\",\"marker\":{\"color\":\"#636efa\",\"pattern\":{\"shape\":\"\"}},\"name\":\"Brazil\",\"offsetgroup\":\"Brazil\",\"orientation\":\"v\",\"showlegend\":true,\"textposition\":\"auto\",\"x\":[\"Brazil\"],\"xaxis\":\"x\",\"y\":[18790.7192021],\"yaxis\":\"y\",\"type\":\"bar\"},{\"alignmentgroup\":\"True\",\"hovertemplate\":\"Countries=%{x}\\u003cbr\\u003eYear=1992\\u003cbr\\u003eExport by Volume=%{y}\\u003cextra\\u003e\\u003c\\u002fextra\\u003e\",\"legendgroup\":\"Colombia\",\"marker\":{\"color\":\"#EF553B\",\"pattern\":{\"shape\":\"\"}},\"name\":\"Colombia\",\"offsetgroup\":\"Colombia\",\"orientation\":\"v\",\"showlegend\":true,\"textposition\":\"auto\",\"x\":[\"Colombia\"],\"xaxis\":\"x\",\"y\":[16564.3700008],\"yaxis\":\"y\",\"type\":\"bar\"},{\"alignmentgroup\":\"True\",\"hovertemplate\":\"Countries=%{x}\\u003cbr\\u003eYear=1992\\u003cbr\\u003eExport by Volume=%{y}\\u003cextra\\u003e\\u003c\\u002fextra\\u003e\",\"legendgroup\":\"Ethiopia\",\"marker\":{\"color\":\"#00cc96\",\"pattern\":{\"shape\":\"\"}},\"name\":\"Ethiopia\",\"offsetgroup\":\"Ethiopia\",\"orientation\":\"v\",\"showlegend\":true,\"textposition\":\"auto\",\"x\":[\"Ethiopia\"],\"xaxis\":\"x\",\"y\":[734.461],\"yaxis\":\"y\",\"type\":\"bar\"},{\"alignmentgroup\":\"True\",\"hovertemplate\":\"Countries=%{x}\\u003cbr\\u003eYear=1992\\u003cbr\\u003eExport by Volume=%{y}\\u003cextra\\u003e\\u003c\\u002fextra\\u003e\",\"legendgroup\":\"Honduras\",\"marker\":{\"color\":\"#ab63fa\",\"pattern\":{\"shape\":\"\"}},\"name\":\"Honduras\",\"offsetgroup\":\"Honduras\",\"orientation\":\"v\",\"showlegend\":true,\"textposition\":\"auto\",\"x\":[\"Honduras\"],\"xaxis\":\"x\",\"y\":[1960.071],\"yaxis\":\"y\",\"type\":\"bar\"},{\"alignmentgroup\":\"True\",\"hovertemplate\":\"Countries=%{x}\\u003cbr\\u003eYear=1992\\u003cbr\\u003eExport by Volume=%{y}\\u003cextra\\u003e\\u003c\\u002fextra\\u003e\",\"legendgroup\":\"Indonesia\",\"marker\":{\"color\":\"#FFA15A\",\"pattern\":{\"shape\":\"\"}},\"name\":\"Indonesia\",\"offsetgroup\":\"Indonesia\",\"orientation\":\"v\",\"showlegend\":true,\"textposition\":\"auto\",\"x\":[\"Indonesia\"],\"xaxis\":\"x\",\"y\":[4603.6959999],\"yaxis\":\"y\",\"type\":\"bar\"},{\"alignmentgroup\":\"True\",\"hovertemplate\":\"Countries=%{x}\\u003cbr\\u003eYear=1992\\u003cbr\\u003eExport by Volume=%{y}\\u003cextra\\u003e\\u003c\\u002fextra\\u003e\",\"legendgroup\":\"Viet Nam\",\"marker\":{\"color\":\"#19d3f3\",\"pattern\":{\"shape\":\"\"}},\"name\":\"Viet Nam\",\"offsetgroup\":\"Viet Nam\",\"orientation\":\"v\",\"showlegend\":true,\"textposition\":\"auto\",\"x\":[\"Viet Nam\"],\"xaxis\":\"x\",\"y\":[1937.611],\"yaxis\":\"y\",\"type\":\"bar\"}],\"name\":\"1992\"},{\"data\":[{\"alignmentgroup\":\"True\",\"hovertemplate\":\"Countries=%{x}\\u003cbr\\u003eYear=1993\\u003cbr\\u003eExport by Volume=%{y}\\u003cextra\\u003e\\u003c\\u002fextra\\u003e\",\"legendgroup\":\"Brazil\",\"marker\":{\"color\":\"#636efa\",\"pattern\":{\"shape\":\"\"}},\"name\":\"Brazil\",\"offsetgroup\":\"Brazil\",\"orientation\":\"v\",\"showlegend\":true,\"textposition\":\"auto\",\"x\":[\"Brazil\"],\"xaxis\":\"x\",\"y\":[17837.7479992],\"yaxis\":\"y\",\"type\":\"bar\"},{\"alignmentgroup\":\"True\",\"hovertemplate\":\"Countries=%{x}\\u003cbr\\u003eYear=1993\\u003cbr\\u003eExport by Volume=%{y}\\u003cextra\\u003e\\u003c\\u002fextra\\u003e\",\"legendgroup\":\"Colombia\",\"marker\":{\"color\":\"#EF553B\",\"pattern\":{\"shape\":\"\"}},\"name\":\"Colombia\",\"offsetgroup\":\"Colombia\",\"orientation\":\"v\",\"showlegend\":true,\"textposition\":\"auto\",\"x\":[\"Colombia\"],\"xaxis\":\"x\",\"y\":[13568.3620035],\"yaxis\":\"y\",\"type\":\"bar\"},{\"alignmentgroup\":\"True\",\"hovertemplate\":\"Countries=%{x}\\u003cbr\\u003eYear=1993\\u003cbr\\u003eExport by Volume=%{y}\\u003cextra\\u003e\\u003c\\u002fextra\\u003e\",\"legendgroup\":\"Ethiopia\",\"marker\":{\"color\":\"#00cc96\",\"pattern\":{\"shape\":\"\"}},\"name\":\"Ethiopia\",\"offsetgroup\":\"Ethiopia\",\"orientation\":\"v\",\"showlegend\":true,\"textposition\":\"auto\",\"x\":[\"Ethiopia\"],\"xaxis\":\"x\",\"y\":[1166.778],\"yaxis\":\"y\",\"type\":\"bar\"},{\"alignmentgroup\":\"True\",\"hovertemplate\":\"Countries=%{x}\\u003cbr\\u003eYear=1993\\u003cbr\\u003eExport by Volume=%{y}\\u003cextra\\u003e\\u003c\\u002fextra\\u003e\",\"legendgroup\":\"Honduras\",\"marker\":{\"color\":\"#ab63fa\",\"pattern\":{\"shape\":\"\"}},\"name\":\"Honduras\",\"offsetgroup\":\"Honduras\",\"orientation\":\"v\",\"showlegend\":true,\"textposition\":\"auto\",\"x\":[\"Honduras\"],\"xaxis\":\"x\",\"y\":[1705.317],\"yaxis\":\"y\",\"type\":\"bar\"},{\"alignmentgroup\":\"True\",\"hovertemplate\":\"Countries=%{x}\\u003cbr\\u003eYear=1993\\u003cbr\\u003eExport by Volume=%{y}\\u003cextra\\u003e\\u003c\\u002fextra\\u003e\",\"legendgroup\":\"Indonesia\",\"marker\":{\"color\":\"#FFA15A\",\"pattern\":{\"shape\":\"\"}},\"name\":\"Indonesia\",\"offsetgroup\":\"Indonesia\",\"orientation\":\"v\",\"showlegend\":true,\"textposition\":\"auto\",\"x\":[\"Indonesia\"],\"xaxis\":\"x\",\"y\":[5662.0940006],\"yaxis\":\"y\",\"type\":\"bar\"},{\"alignmentgroup\":\"True\",\"hovertemplate\":\"Countries=%{x}\\u003cbr\\u003eYear=1993\\u003cbr\\u003eExport by Volume=%{y}\\u003cextra\\u003e\\u003c\\u002fextra\\u003e\",\"legendgroup\":\"Viet Nam\",\"marker\":{\"color\":\"#19d3f3\",\"pattern\":{\"shape\":\"\"}},\"name\":\"Viet Nam\",\"offsetgroup\":\"Viet Nam\",\"orientation\":\"v\",\"showlegend\":true,\"textposition\":\"auto\",\"x\":[\"Viet Nam\"],\"xaxis\":\"x\",\"y\":[2071.8369999],\"yaxis\":\"y\",\"type\":\"bar\"}],\"name\":\"1993\"},{\"data\":[{\"alignmentgroup\":\"True\",\"hovertemplate\":\"Countries=%{x}\\u003cbr\\u003eYear=1994\\u003cbr\\u003eExport by Volume=%{y}\\u003cextra\\u003e\\u003c\\u002fextra\\u003e\",\"legendgroup\":\"Brazil\",\"marker\":{\"color\":\"#636efa\",\"pattern\":{\"shape\":\"\"}},\"name\":\"Brazil\",\"offsetgroup\":\"Brazil\",\"orientation\":\"v\",\"showlegend\":true,\"textposition\":\"auto\",\"x\":[\"Brazil\"],\"xaxis\":\"x\",\"y\":[17273.1476003],\"yaxis\":\"y\",\"type\":\"bar\"},{\"alignmentgroup\":\"True\",\"hovertemplate\":\"Countries=%{x}\\u003cbr\\u003eYear=1994\\u003cbr\\u003eExport by Volume=%{y}\\u003cextra\\u003e\\u003c\\u002fextra\\u003e\",\"legendgroup\":\"Colombia\",\"marker\":{\"color\":\"#EF553B\",\"pattern\":{\"shape\":\"\"}},\"name\":\"Colombia\",\"offsetgroup\":\"Colombia\",\"orientation\":\"v\",\"showlegend\":true,\"textposition\":\"auto\",\"x\":[\"Colombia\"],\"xaxis\":\"x\",\"y\":[11768.0890004],\"yaxis\":\"y\",\"type\":\"bar\"},{\"alignmentgroup\":\"True\",\"hovertemplate\":\"Countries=%{x}\\u003cbr\\u003eYear=1994\\u003cbr\\u003eExport by Volume=%{y}\\u003cextra\\u003e\\u003c\\u002fextra\\u003e\",\"legendgroup\":\"Ethiopia\",\"marker\":{\"color\":\"#00cc96\",\"pattern\":{\"shape\":\"\"}},\"name\":\"Ethiopia\",\"offsetgroup\":\"Ethiopia\",\"orientation\":\"v\",\"showlegend\":true,\"textposition\":\"auto\",\"x\":[\"Ethiopia\"],\"xaxis\":\"x\",\"y\":[1475.325],\"yaxis\":\"y\",\"type\":\"bar\"},{\"alignmentgroup\":\"True\",\"hovertemplate\":\"Countries=%{x}\\u003cbr\\u003eYear=1994\\u003cbr\\u003eExport by Volume=%{y}\\u003cextra\\u003e\\u003c\\u002fextra\\u003e\",\"legendgroup\":\"Honduras\",\"marker\":{\"color\":\"#ab63fa\",\"pattern\":{\"shape\":\"\"}},\"name\":\"Honduras\",\"offsetgroup\":\"Honduras\",\"orientation\":\"v\",\"showlegend\":true,\"textposition\":\"auto\",\"x\":[\"Honduras\"],\"xaxis\":\"x\",\"y\":[1718.185],\"yaxis\":\"y\",\"type\":\"bar\"},{\"alignmentgroup\":\"True\",\"hovertemplate\":\"Countries=%{x}\\u003cbr\\u003eYear=1994\\u003cbr\\u003eExport by Volume=%{y}\\u003cextra\\u003e\\u003c\\u002fextra\\u003e\",\"legendgroup\":\"Indonesia\",\"marker\":{\"color\":\"#FFA15A\",\"pattern\":{\"shape\":\"\"}},\"name\":\"Indonesia\",\"offsetgroup\":\"Indonesia\",\"orientation\":\"v\",\"showlegend\":true,\"textposition\":\"auto\",\"x\":[\"Indonesia\"],\"xaxis\":\"x\",\"y\":[4604.6299989],\"yaxis\":\"y\",\"type\":\"bar\"},{\"alignmentgroup\":\"True\",\"hovertemplate\":\"Countries=%{x}\\u003cbr\\u003eYear=1994\\u003cbr\\u003eExport by Volume=%{y}\\u003cextra\\u003e\\u003c\\u002fextra\\u003e\",\"legendgroup\":\"Viet Nam\",\"marker\":{\"color\":\"#19d3f3\",\"pattern\":{\"shape\":\"\"}},\"name\":\"Viet Nam\",\"offsetgroup\":\"Viet Nam\",\"orientation\":\"v\",\"showlegend\":true,\"textposition\":\"auto\",\"x\":[\"Viet Nam\"],\"xaxis\":\"x\",\"y\":[2720.911],\"yaxis\":\"y\",\"type\":\"bar\"}],\"name\":\"1994\"},{\"data\":[{\"alignmentgroup\":\"True\",\"hovertemplate\":\"Countries=%{x}\\u003cbr\\u003eYear=1995\\u003cbr\\u003eExport by Volume=%{y}\\u003cextra\\u003e\\u003c\\u002fextra\\u003e\",\"legendgroup\":\"Brazil\",\"marker\":{\"color\":\"#636efa\",\"pattern\":{\"shape\":\"\"}},\"name\":\"Brazil\",\"offsetgroup\":\"Brazil\",\"orientation\":\"v\",\"showlegend\":true,\"textposition\":\"auto\",\"x\":[\"Brazil\"],\"xaxis\":\"x\",\"y\":[14468.4322014],\"yaxis\":\"y\",\"type\":\"bar\"},{\"alignmentgroup\":\"True\",\"hovertemplate\":\"Countries=%{x}\\u003cbr\\u003eYear=1995\\u003cbr\\u003eExport by Volume=%{y}\\u003cextra\\u003e\\u003c\\u002fextra\\u003e\",\"legendgroup\":\"Colombia\",\"marker\":{\"color\":\"#EF553B\",\"pattern\":{\"shape\":\"\"}},\"name\":\"Colombia\",\"offsetgroup\":\"Colombia\",\"orientation\":\"v\",\"showlegend\":true,\"textposition\":\"auto\",\"x\":[\"Colombia\"],\"xaxis\":\"x\",\"y\":[9814.1969996],\"yaxis\":\"y\",\"type\":\"bar\"},{\"alignmentgroup\":\"True\",\"hovertemplate\":\"Countries=%{x}\\u003cbr\\u003eYear=1995\\u003cbr\\u003eExport by Volume=%{y}\\u003cextra\\u003e\\u003c\\u002fextra\\u003e\",\"legendgroup\":\"Ethiopia\",\"marker\":{\"color\":\"#00cc96\",\"pattern\":{\"shape\":\"\"}},\"name\":\"Ethiopia\",\"offsetgroup\":\"Ethiopia\",\"orientation\":\"v\",\"showlegend\":true,\"textposition\":\"auto\",\"x\":[\"Ethiopia\"],\"xaxis\":\"x\",\"y\":[1276.118],\"yaxis\":\"y\",\"type\":\"bar\"},{\"alignmentgroup\":\"True\",\"hovertemplate\":\"Countries=%{x}\\u003cbr\\u003eYear=1995\\u003cbr\\u003eExport by Volume=%{y}\\u003cextra\\u003e\\u003c\\u002fextra\\u003e\",\"legendgroup\":\"Honduras\",\"marker\":{\"color\":\"#ab63fa\",\"pattern\":{\"shape\":\"\"}},\"name\":\"Honduras\",\"offsetgroup\":\"Honduras\",\"orientation\":\"v\",\"showlegend\":true,\"textposition\":\"auto\",\"x\":[\"Honduras\"],\"xaxis\":\"x\",\"y\":[1795.963],\"yaxis\":\"y\",\"type\":\"bar\"},{\"alignmentgroup\":\"True\",\"hovertemplate\":\"Countries=%{x}\\u003cbr\\u003eYear=1995\\u003cbr\\u003eExport by Volume=%{y}\\u003cextra\\u003e\\u003c\\u002fextra\\u003e\",\"legendgroup\":\"Indonesia\",\"marker\":{\"color\":\"#FFA15A\",\"pattern\":{\"shape\":\"\"}},\"name\":\"Indonesia\",\"offsetgroup\":\"Indonesia\",\"orientation\":\"v\",\"showlegend\":true,\"textposition\":\"auto\",\"x\":[\"Indonesia\"],\"xaxis\":\"x\",\"y\":[3946.5850006],\"yaxis\":\"y\",\"type\":\"bar\"},{\"alignmentgroup\":\"True\",\"hovertemplate\":\"Countries=%{x}\\u003cbr\\u003eYear=1995\\u003cbr\\u003eExport by Volume=%{y}\\u003cextra\\u003e\\u003c\\u002fextra\\u003e\",\"legendgroup\":\"Viet Nam\",\"marker\":{\"color\":\"#19d3f3\",\"pattern\":{\"shape\":\"\"}},\"name\":\"Viet Nam\",\"offsetgroup\":\"Viet Nam\",\"orientation\":\"v\",\"showlegend\":true,\"textposition\":\"auto\",\"x\":[\"Viet Nam\"],\"xaxis\":\"x\",\"y\":[3546.405],\"yaxis\":\"y\",\"type\":\"bar\"}],\"name\":\"1995\"},{\"data\":[{\"alignmentgroup\":\"True\",\"hovertemplate\":\"Countries=%{x}\\u003cbr\\u003eYear=1996\\u003cbr\\u003eExport by Volume=%{y}\\u003cextra\\u003e\\u003c\\u002fextra\\u003e\",\"legendgroup\":\"Brazil\",\"marker\":{\"color\":\"#636efa\",\"pattern\":{\"shape\":\"\"}},\"name\":\"Brazil\",\"offsetgroup\":\"Brazil\",\"orientation\":\"v\",\"showlegend\":true,\"textposition\":\"auto\",\"x\":[\"Brazil\"],\"xaxis\":\"x\",\"y\":[15250.6090018],\"yaxis\":\"y\",\"type\":\"bar\"},{\"alignmentgroup\":\"True\",\"hovertemplate\":\"Countries=%{x}\\u003cbr\\u003eYear=1996\\u003cbr\\u003eExport by Volume=%{y}\\u003cextra\\u003e\\u003c\\u002fextra\\u003e\",\"legendgroup\":\"Colombia\",\"marker\":{\"color\":\"#EF553B\",\"pattern\":{\"shape\":\"\"}},\"name\":\"Colombia\",\"offsetgroup\":\"Colombia\",\"orientation\":\"v\",\"showlegend\":true,\"textposition\":\"auto\",\"x\":[\"Colombia\"],\"xaxis\":\"x\",\"y\":[10588.4309984],\"yaxis\":\"y\",\"type\":\"bar\"},{\"alignmentgroup\":\"True\",\"hovertemplate\":\"Countries=%{x}\\u003cbr\\u003eYear=1996\\u003cbr\\u003eExport by Volume=%{y}\\u003cextra\\u003e\\u003c\\u002fextra\\u003e\",\"legendgroup\":\"Ethiopia\",\"marker\":{\"color\":\"#00cc96\",\"pattern\":{\"shape\":\"\"}},\"name\":\"Ethiopia\",\"offsetgroup\":\"Ethiopia\",\"orientation\":\"v\",\"showlegend\":true,\"textposition\":\"auto\",\"x\":[\"Ethiopia\"],\"xaxis\":\"x\",\"y\":[1838.231],\"yaxis\":\"y\",\"type\":\"bar\"},{\"alignmentgroup\":\"True\",\"hovertemplate\":\"Countries=%{x}\\u003cbr\\u003eYear=1996\\u003cbr\\u003eExport by Volume=%{y}\\u003cextra\\u003e\\u003c\\u002fextra\\u003e\",\"legendgroup\":\"Honduras\",\"marker\":{\"color\":\"#ab63fa\",\"pattern\":{\"shape\":\"\"}},\"name\":\"Honduras\",\"offsetgroup\":\"Honduras\",\"orientation\":\"v\",\"showlegend\":true,\"textposition\":\"auto\",\"x\":[\"Honduras\"],\"xaxis\":\"x\",\"y\":[2059.76],\"yaxis\":\"y\",\"type\":\"bar\"},{\"alignmentgroup\":\"True\",\"hovertemplate\":\"Countries=%{x}\\u003cbr\\u003eYear=1996\\u003cbr\\u003eExport by Volume=%{y}\\u003cextra\\u003e\\u003c\\u002fextra\\u003e\",\"legendgroup\":\"Indonesia\",\"marker\":{\"color\":\"#FFA15A\",\"pattern\":{\"shape\":\"\"}},\"name\":\"Indonesia\",\"offsetgroup\":\"Indonesia\",\"orientation\":\"v\",\"showlegend\":true,\"textposition\":\"auto\",\"x\":[\"Indonesia\"],\"xaxis\":\"x\",\"y\":[6440.28],\"yaxis\":\"y\",\"type\":\"bar\"},{\"alignmentgroup\":\"True\",\"hovertemplate\":\"Countries=%{x}\\u003cbr\\u003eYear=1996\\u003cbr\\u003eExport by Volume=%{y}\\u003cextra\\u003e\\u003c\\u002fextra\\u003e\",\"legendgroup\":\"Viet Nam\",\"marker\":{\"color\":\"#19d3f3\",\"pattern\":{\"shape\":\"\"}},\"name\":\"Viet Nam\",\"offsetgroup\":\"Viet Nam\",\"orientation\":\"v\",\"showlegend\":true,\"textposition\":\"auto\",\"x\":[\"Viet Nam\"],\"xaxis\":\"x\",\"y\":[3779.415],\"yaxis\":\"y\",\"type\":\"bar\"}],\"name\":\"1996\"},{\"data\":[{\"alignmentgroup\":\"True\",\"hovertemplate\":\"Countries=%{x}\\u003cbr\\u003eYear=1997\\u003cbr\\u003eExport by Volume=%{y}\\u003cextra\\u003e\\u003c\\u002fextra\\u003e\",\"legendgroup\":\"Brazil\",\"marker\":{\"color\":\"#636efa\",\"pattern\":{\"shape\":\"\"}},\"name\":\"Brazil\",\"offsetgroup\":\"Brazil\",\"orientation\":\"v\",\"showlegend\":true,\"textposition\":\"auto\",\"x\":[\"Brazil\"],\"xaxis\":\"x\",\"y\":[16801.2600051],\"yaxis\":\"y\",\"type\":\"bar\"},{\"alignmentgroup\":\"True\",\"hovertemplate\":\"Countries=%{x}\\u003cbr\\u003eYear=1997\\u003cbr\\u003eExport by Volume=%{y}\\u003cextra\\u003e\\u003c\\u002fextra\\u003e\",\"legendgroup\":\"Colombia\",\"marker\":{\"color\":\"#EF553B\",\"pattern\":{\"shape\":\"\"}},\"name\":\"Colombia\",\"offsetgroup\":\"Colombia\",\"orientation\":\"v\",\"showlegend\":true,\"textposition\":\"auto\",\"x\":[\"Colombia\"],\"xaxis\":\"x\",\"y\":[10918.8630016],\"yaxis\":\"y\",\"type\":\"bar\"},{\"alignmentgroup\":\"True\",\"hovertemplate\":\"Countries=%{x}\\u003cbr\\u003eYear=1997\\u003cbr\\u003eExport by Volume=%{y}\\u003cextra\\u003e\\u003c\\u002fextra\\u003e\",\"legendgroup\":\"Ethiopia\",\"marker\":{\"color\":\"#00cc96\",\"pattern\":{\"shape\":\"\"}},\"name\":\"Ethiopia\",\"offsetgroup\":\"Ethiopia\",\"orientation\":\"v\",\"showlegend\":true,\"textposition\":\"auto\",\"x\":[\"Ethiopia\"],\"xaxis\":\"x\",\"y\":[1979.733],\"yaxis\":\"y\",\"type\":\"bar\"},{\"alignmentgroup\":\"True\",\"hovertemplate\":\"Countries=%{x}\\u003cbr\\u003eYear=1997\\u003cbr\\u003eExport by Volume=%{y}\\u003cextra\\u003e\\u003c\\u002fextra\\u003e\",\"legendgroup\":\"Honduras\",\"marker\":{\"color\":\"#ab63fa\",\"pattern\":{\"shape\":\"\"}},\"name\":\"Honduras\",\"offsetgroup\":\"Honduras\",\"orientation\":\"v\",\"showlegend\":true,\"textposition\":\"auto\",\"x\":[\"Honduras\"],\"xaxis\":\"x\",\"y\":[1722.482],\"yaxis\":\"y\",\"type\":\"bar\"},{\"alignmentgroup\":\"True\",\"hovertemplate\":\"Countries=%{x}\\u003cbr\\u003eYear=1997\\u003cbr\\u003eExport by Volume=%{y}\\u003cextra\\u003e\\u003c\\u002fextra\\u003e\",\"legendgroup\":\"Indonesia\",\"marker\":{\"color\":\"#FFA15A\",\"pattern\":{\"shape\":\"\"}},\"name\":\"Indonesia\",\"offsetgroup\":\"Indonesia\",\"orientation\":\"v\",\"showlegend\":true,\"textposition\":\"auto\",\"x\":[\"Indonesia\"],\"xaxis\":\"x\",\"y\":[5755.0779999],\"yaxis\":\"y\",\"type\":\"bar\"},{\"alignmentgroup\":\"True\",\"hovertemplate\":\"Countries=%{x}\\u003cbr\\u003eYear=1997\\u003cbr\\u003eExport by Volume=%{y}\\u003cextra\\u003e\\u003c\\u002fextra\\u003e\",\"legendgroup\":\"Viet Nam\",\"marker\":{\"color\":\"#19d3f3\",\"pattern\":{\"shape\":\"\"}},\"name\":\"Viet Nam\",\"offsetgroup\":\"Viet Nam\",\"orientation\":\"v\",\"showlegend\":true,\"textposition\":\"auto\",\"x\":[\"Viet Nam\"],\"xaxis\":\"x\",\"y\":[6177.8340002],\"yaxis\":\"y\",\"type\":\"bar\"}],\"name\":\"1997\"},{\"data\":[{\"alignmentgroup\":\"True\",\"hovertemplate\":\"Countries=%{x}\\u003cbr\\u003eYear=1998\\u003cbr\\u003eExport by Volume=%{y}\\u003cextra\\u003e\\u003c\\u002fextra\\u003e\",\"legendgroup\":\"Brazil\",\"marker\":{\"color\":\"#636efa\",\"pattern\":{\"shape\":\"\"}},\"name\":\"Brazil\",\"offsetgroup\":\"Brazil\",\"orientation\":\"v\",\"showlegend\":true,\"textposition\":\"auto\",\"x\":[\"Brazil\"],\"xaxis\":\"x\",\"y\":[18144.3883339],\"yaxis\":\"y\",\"type\":\"bar\"},{\"alignmentgroup\":\"True\",\"hovertemplate\":\"Countries=%{x}\\u003cbr\\u003eYear=1998\\u003cbr\\u003eExport by Volume=%{y}\\u003cextra\\u003e\\u003c\\u002fextra\\u003e\",\"legendgroup\":\"Colombia\",\"marker\":{\"color\":\"#EF553B\",\"pattern\":{\"shape\":\"\"}},\"name\":\"Colombia\",\"offsetgroup\":\"Colombia\",\"orientation\":\"v\",\"showlegend\":true,\"textposition\":\"auto\",\"x\":[\"Colombia\"],\"xaxis\":\"x\",\"y\":[11259.9289995],\"yaxis\":\"y\",\"type\":\"bar\"},{\"alignmentgroup\":\"True\",\"hovertemplate\":\"Countries=%{x}\\u003cbr\\u003eYear=1998\\u003cbr\\u003eExport by Volume=%{y}\\u003cextra\\u003e\\u003c\\u002fextra\\u003e\",\"legendgroup\":\"Ethiopia\",\"marker\":{\"color\":\"#00cc96\",\"pattern\":{\"shape\":\"\"}},\"name\":\"Ethiopia\",\"offsetgroup\":\"Ethiopia\",\"orientation\":\"v\",\"showlegend\":true,\"textposition\":\"auto\",\"x\":[\"Ethiopia\"],\"xaxis\":\"x\",\"y\":[1917.061],\"yaxis\":\"y\",\"type\":\"bar\"},{\"alignmentgroup\":\"True\",\"hovertemplate\":\"Countries=%{x}\\u003cbr\\u003eYear=1998\\u003cbr\\u003eExport by Volume=%{y}\\u003cextra\\u003e\\u003c\\u002fextra\\u003e\",\"legendgroup\":\"Honduras\",\"marker\":{\"color\":\"#ab63fa\",\"pattern\":{\"shape\":\"\"}},\"name\":\"Honduras\",\"offsetgroup\":\"Honduras\",\"orientation\":\"v\",\"showlegend\":true,\"textposition\":\"auto\",\"x\":[\"Honduras\"],\"xaxis\":\"x\",\"y\":[2329.274],\"yaxis\":\"y\",\"type\":\"bar\"},{\"alignmentgroup\":\"True\",\"hovertemplate\":\"Countries=%{x}\\u003cbr\\u003eYear=1998\\u003cbr\\u003eExport by Volume=%{y}\\u003cextra\\u003e\\u003c\\u002fextra\\u003e\",\"legendgroup\":\"Indonesia\",\"marker\":{\"color\":\"#FFA15A\",\"pattern\":{\"shape\":\"\"}},\"name\":\"Indonesia\",\"offsetgroup\":\"Indonesia\",\"orientation\":\"v\",\"showlegend\":true,\"textposition\":\"auto\",\"x\":[\"Indonesia\"],\"xaxis\":\"x\",\"y\":[5598.0319992],\"yaxis\":\"y\",\"type\":\"bar\"},{\"alignmentgroup\":\"True\",\"hovertemplate\":\"Countries=%{x}\\u003cbr\\u003eYear=1998\\u003cbr\\u003eExport by Volume=%{y}\\u003cextra\\u003e\\u003c\\u002fextra\\u003e\",\"legendgroup\":\"Viet Nam\",\"marker\":{\"color\":\"#19d3f3\",\"pattern\":{\"shape\":\"\"}},\"name\":\"Viet Nam\",\"offsetgroup\":\"Viet Nam\",\"orientation\":\"v\",\"showlegend\":true,\"textposition\":\"auto\",\"x\":[\"Viet Nam\"],\"xaxis\":\"x\",\"y\":[6466.7120002],\"yaxis\":\"y\",\"type\":\"bar\"}],\"name\":\"1998\"},{\"data\":[{\"alignmentgroup\":\"True\",\"hovertemplate\":\"Countries=%{x}\\u003cbr\\u003eYear=1999\\u003cbr\\u003eExport by Volume=%{y}\\u003cextra\\u003e\\u003c\\u002fextra\\u003e\",\"legendgroup\":\"Brazil\",\"marker\":{\"color\":\"#636efa\",\"pattern\":{\"shape\":\"\"}},\"name\":\"Brazil\",\"offsetgroup\":\"Brazil\",\"orientation\":\"v\",\"showlegend\":true,\"textposition\":\"auto\",\"x\":[\"Brazil\"],\"xaxis\":\"x\",\"y\":[23149.2038037],\"yaxis\":\"y\",\"type\":\"bar\"},{\"alignmentgroup\":\"True\",\"hovertemplate\":\"Countries=%{x}\\u003cbr\\u003eYear=1999\\u003cbr\\u003eExport by Volume=%{y}\\u003cextra\\u003e\\u003c\\u002fextra\\u003e\",\"legendgroup\":\"Colombia\",\"marker\":{\"color\":\"#EF553B\",\"pattern\":{\"shape\":\"\"}},\"name\":\"Colombia\",\"offsetgroup\":\"Colombia\",\"orientation\":\"v\",\"showlegend\":true,\"textposition\":\"auto\",\"x\":[\"Colombia\"],\"xaxis\":\"x\",\"y\":[9995.3100014],\"yaxis\":\"y\",\"type\":\"bar\"},{\"alignmentgroup\":\"True\",\"hovertemplate\":\"Countries=%{x}\\u003cbr\\u003eYear=1999\\u003cbr\\u003eExport by Volume=%{y}\\u003cextra\\u003e\\u003c\\u002fextra\\u003e\",\"legendgroup\":\"Ethiopia\",\"marker\":{\"color\":\"#00cc96\",\"pattern\":{\"shape\":\"\"}},\"name\":\"Ethiopia\",\"offsetgroup\":\"Ethiopia\",\"orientation\":\"v\",\"showlegend\":true,\"textposition\":\"auto\",\"x\":[\"Ethiopia\"],\"xaxis\":\"x\",\"y\":[1818.087],\"yaxis\":\"y\",\"type\":\"bar\"},{\"alignmentgroup\":\"True\",\"hovertemplate\":\"Countries=%{x}\\u003cbr\\u003eYear=1999\\u003cbr\\u003eExport by Volume=%{y}\\u003cextra\\u003e\\u003c\\u002fextra\\u003e\",\"legendgroup\":\"Honduras\",\"marker\":{\"color\":\"#ab63fa\",\"pattern\":{\"shape\":\"\"}},\"name\":\"Honduras\",\"offsetgroup\":\"Honduras\",\"orientation\":\"v\",\"showlegend\":true,\"textposition\":\"auto\",\"x\":[\"Honduras\"],\"xaxis\":\"x\",\"y\":[1986.603],\"yaxis\":\"y\",\"type\":\"bar\"},{\"alignmentgroup\":\"True\",\"hovertemplate\":\"Countries=%{x}\\u003cbr\\u003eYear=1999\\u003cbr\\u003eExport by Volume=%{y}\\u003cextra\\u003e\\u003c\\u002fextra\\u003e\",\"legendgroup\":\"Indonesia\",\"marker\":{\"color\":\"#FFA15A\",\"pattern\":{\"shape\":\"\"}},\"name\":\"Indonesia\",\"offsetgroup\":\"Indonesia\",\"orientation\":\"v\",\"showlegend\":true,\"textposition\":\"auto\",\"x\":[\"Indonesia\"],\"xaxis\":\"x\",\"y\":[5115.0269995],\"yaxis\":\"y\",\"type\":\"bar\"},{\"alignmentgroup\":\"True\",\"hovertemplate\":\"Countries=%{x}\\u003cbr\\u003eYear=1999\\u003cbr\\u003eExport by Volume=%{y}\\u003cextra\\u003e\\u003c\\u002fextra\\u003e\",\"legendgroup\":\"Viet Nam\",\"marker\":{\"color\":\"#19d3f3\",\"pattern\":{\"shape\":\"\"}},\"name\":\"Viet Nam\",\"offsetgroup\":\"Viet Nam\",\"orientation\":\"v\",\"showlegend\":true,\"textposition\":\"auto\",\"x\":[\"Viet Nam\"],\"xaxis\":\"x\",\"y\":[7727.0130001],\"yaxis\":\"y\",\"type\":\"bar\"}],\"name\":\"1999\"},{\"data\":[{\"alignmentgroup\":\"True\",\"hovertemplate\":\"Countries=%{x}\\u003cbr\\u003eYear=2000\\u003cbr\\u003eExport by Volume=%{y}\\u003cextra\\u003e\\u003c\\u002fextra\\u003e\",\"legendgroup\":\"Brazil\",\"marker\":{\"color\":\"#636efa\",\"pattern\":{\"shape\":\"\"}},\"name\":\"Brazil\",\"offsetgroup\":\"Brazil\",\"orientation\":\"v\",\"showlegend\":true,\"textposition\":\"auto\",\"x\":[\"Brazil\"],\"xaxis\":\"x\",\"y\":[18016.2606406],\"yaxis\":\"y\",\"type\":\"bar\"},{\"alignmentgroup\":\"True\",\"hovertemplate\":\"Countries=%{x}\\u003cbr\\u003eYear=2000\\u003cbr\\u003eExport by Volume=%{y}\\u003cextra\\u003e\\u003c\\u002fextra\\u003e\",\"legendgroup\":\"Colombia\",\"marker\":{\"color\":\"#EF553B\",\"pattern\":{\"shape\":\"\"}},\"name\":\"Colombia\",\"offsetgroup\":\"Colombia\",\"orientation\":\"v\",\"showlegend\":true,\"textposition\":\"auto\",\"x\":[\"Colombia\"],\"xaxis\":\"x\",\"y\":[9176.6609102],\"yaxis\":\"y\",\"type\":\"bar\"},{\"alignmentgroup\":\"True\",\"hovertemplate\":\"Countries=%{x}\\u003cbr\\u003eYear=2000\\u003cbr\\u003eExport by Volume=%{y}\\u003cextra\\u003e\\u003c\\u002fextra\\u003e\",\"legendgroup\":\"Ethiopia\",\"marker\":{\"color\":\"#00cc96\",\"pattern\":{\"shape\":\"\"}},\"name\":\"Ethiopia\",\"offsetgroup\":\"Ethiopia\",\"orientation\":\"v\",\"showlegend\":true,\"textposition\":\"auto\",\"x\":[\"Ethiopia\"],\"xaxis\":\"x\",\"y\":[1981.856],\"yaxis\":\"y\",\"type\":\"bar\"},{\"alignmentgroup\":\"True\",\"hovertemplate\":\"Countries=%{x}\\u003cbr\\u003eYear=2000\\u003cbr\\u003eExport by Volume=%{y}\\u003cextra\\u003e\\u003c\\u002fextra\\u003e\",\"legendgroup\":\"Honduras\",\"marker\":{\"color\":\"#ab63fa\",\"pattern\":{\"shape\":\"\"}},\"name\":\"Honduras\",\"offsetgroup\":\"Honduras\",\"orientation\":\"v\",\"showlegend\":true,\"textposition\":\"auto\",\"x\":[\"Honduras\"],\"xaxis\":\"x\",\"y\":[2878.56],\"yaxis\":\"y\",\"type\":\"bar\"},{\"alignmentgroup\":\"True\",\"hovertemplate\":\"Countries=%{x}\\u003cbr\\u003eYear=2000\\u003cbr\\u003eExport by Volume=%{y}\\u003cextra\\u003e\\u003c\\u002fextra\\u003e\",\"legendgroup\":\"Indonesia\",\"marker\":{\"color\":\"#FFA15A\",\"pattern\":{\"shape\":\"\"}},\"name\":\"Indonesia\",\"offsetgroup\":\"Indonesia\",\"orientation\":\"v\",\"showlegend\":true,\"textposition\":\"auto\",\"x\":[\"Indonesia\"],\"xaxis\":\"x\",\"y\":[5357.59886],\"yaxis\":\"y\",\"type\":\"bar\"},{\"alignmentgroup\":\"True\",\"hovertemplate\":\"Countries=%{x}\\u003cbr\\u003eYear=2000\\u003cbr\\u003eExport by Volume=%{y}\\u003cextra\\u003e\\u003c\\u002fextra\\u003e\",\"legendgroup\":\"Viet Nam\",\"marker\":{\"color\":\"#19d3f3\",\"pattern\":{\"shape\":\"\"}},\"name\":\"Viet Nam\",\"offsetgroup\":\"Viet Nam\",\"orientation\":\"v\",\"showlegend\":true,\"textposition\":\"auto\",\"x\":[\"Viet Nam\"],\"xaxis\":\"x\",\"y\":[11618.3758499],\"yaxis\":\"y\",\"type\":\"bar\"}],\"name\":\"2000\"},{\"data\":[{\"alignmentgroup\":\"True\",\"hovertemplate\":\"Countries=%{x}\\u003cbr\\u003eYear=2001\\u003cbr\\u003eExport by Volume=%{y}\\u003cextra\\u003e\\u003c\\u002fextra\\u003e\",\"legendgroup\":\"Brazil\",\"marker\":{\"color\":\"#636efa\",\"pattern\":{\"shape\":\"\"}},\"name\":\"Brazil\",\"offsetgroup\":\"Brazil\",\"orientation\":\"v\",\"showlegend\":true,\"textposition\":\"auto\",\"x\":[\"Brazil\"],\"xaxis\":\"x\",\"y\":[23172.486512],\"yaxis\":\"y\",\"type\":\"bar\"},{\"alignmentgroup\":\"True\",\"hovertemplate\":\"Countries=%{x}\\u003cbr\\u003eYear=2001\\u003cbr\\u003eExport by Volume=%{y}\\u003cextra\\u003e\\u003c\\u002fextra\\u003e\",\"legendgroup\":\"Colombia\",\"marker\":{\"color\":\"#EF553B\",\"pattern\":{\"shape\":\"\"}},\"name\":\"Colombia\",\"offsetgroup\":\"Colombia\",\"orientation\":\"v\",\"showlegend\":true,\"textposition\":\"auto\",\"x\":[\"Colombia\"],\"xaxis\":\"x\",\"y\":[9943.6300006],\"yaxis\":\"y\",\"type\":\"bar\"},{\"alignmentgroup\":\"True\",\"hovertemplate\":\"Countries=%{x}\\u003cbr\\u003eYear=2001\\u003cbr\\u003eExport by Volume=%{y}\\u003cextra\\u003e\\u003c\\u002fextra\\u003e\",\"legendgroup\":\"Ethiopia\",\"marker\":{\"color\":\"#00cc96\",\"pattern\":{\"shape\":\"\"}},\"name\":\"Ethiopia\",\"offsetgroup\":\"Ethiopia\",\"orientation\":\"v\",\"showlegend\":true,\"textposition\":\"auto\",\"x\":[\"Ethiopia\"],\"xaxis\":\"x\",\"y\":[1376.062],\"yaxis\":\"y\",\"type\":\"bar\"},{\"alignmentgroup\":\"True\",\"hovertemplate\":\"Countries=%{x}\\u003cbr\\u003eYear=2001\\u003cbr\\u003eExport by Volume=%{y}\\u003cextra\\u003e\\u003c\\u002fextra\\u003e\",\"legendgroup\":\"Honduras\",\"marker\":{\"color\":\"#ab63fa\",\"pattern\":{\"shape\":\"\"}},\"name\":\"Honduras\",\"offsetgroup\":\"Honduras\",\"orientation\":\"v\",\"showlegend\":true,\"textposition\":\"auto\",\"x\":[\"Honduras\"],\"xaxis\":\"x\",\"y\":[2391.613],\"yaxis\":\"y\",\"type\":\"bar\"},{\"alignmentgroup\":\"True\",\"hovertemplate\":\"Countries=%{x}\\u003cbr\\u003eYear=2001\\u003cbr\\u003eExport by Volume=%{y}\\u003cextra\\u003e\\u003c\\u002fextra\\u003e\",\"legendgroup\":\"Indonesia\",\"marker\":{\"color\":\"#FFA15A\",\"pattern\":{\"shape\":\"\"}},\"name\":\"Indonesia\",\"offsetgroup\":\"Indonesia\",\"orientation\":\"v\",\"showlegend\":true,\"textposition\":\"auto\",\"x\":[\"Indonesia\"],\"xaxis\":\"x\",\"y\":[5243.4050012],\"yaxis\":\"y\",\"type\":\"bar\"},{\"alignmentgroup\":\"True\",\"hovertemplate\":\"Countries=%{x}\\u003cbr\\u003eYear=2001\\u003cbr\\u003eExport by Volume=%{y}\\u003cextra\\u003e\\u003c\\u002fextra\\u003e\",\"legendgroup\":\"Viet Nam\",\"marker\":{\"color\":\"#19d3f3\",\"pattern\":{\"shape\":\"\"}},\"name\":\"Viet Nam\",\"offsetgroup\":\"Viet Nam\",\"orientation\":\"v\",\"showlegend\":true,\"textposition\":\"auto\",\"x\":[\"Viet Nam\"],\"xaxis\":\"x\",\"y\":[14106.4430005],\"yaxis\":\"y\",\"type\":\"bar\"}],\"name\":\"2001\"},{\"data\":[{\"alignmentgroup\":\"True\",\"hovertemplate\":\"Countries=%{x}\\u003cbr\\u003eYear=2002\\u003cbr\\u003eExport by Volume=%{y}\\u003cextra\\u003e\\u003c\\u002fextra\\u003e\",\"legendgroup\":\"Brazil\",\"marker\":{\"color\":\"#636efa\",\"pattern\":{\"shape\":\"\"}},\"name\":\"Brazil\",\"offsetgroup\":\"Brazil\",\"orientation\":\"v\",\"showlegend\":true,\"textposition\":\"auto\",\"x\":[\"Brazil\"],\"xaxis\":\"x\",\"y\":[27981.8389351],\"yaxis\":\"y\",\"type\":\"bar\"},{\"alignmentgroup\":\"True\",\"hovertemplate\":\"Countries=%{x}\\u003cbr\\u003eYear=2002\\u003cbr\\u003eExport by Volume=%{y}\\u003cextra\\u003e\\u003c\\u002fextra\\u003e\",\"legendgroup\":\"Colombia\",\"marker\":{\"color\":\"#EF553B\",\"pattern\":{\"shape\":\"\"}},\"name\":\"Colombia\",\"offsetgroup\":\"Colombia\",\"orientation\":\"v\",\"showlegend\":true,\"textposition\":\"auto\",\"x\":[\"Colombia\"],\"xaxis\":\"x\",\"y\":[10273.4249979],\"yaxis\":\"y\",\"type\":\"bar\"},{\"alignmentgroup\":\"True\",\"hovertemplate\":\"Countries=%{x}\\u003cbr\\u003eYear=2002\\u003cbr\\u003eExport by Volume=%{y}\\u003cextra\\u003e\\u003c\\u002fextra\\u003e\",\"legendgroup\":\"Ethiopia\",\"marker\":{\"color\":\"#00cc96\",\"pattern\":{\"shape\":\"\"}},\"name\":\"Ethiopia\",\"offsetgroup\":\"Ethiopia\",\"orientation\":\"v\",\"showlegend\":true,\"textposition\":\"auto\",\"x\":[\"Ethiopia\"],\"xaxis\":\"x\",\"y\":[2054.678],\"yaxis\":\"y\",\"type\":\"bar\"},{\"alignmentgroup\":\"True\",\"hovertemplate\":\"Countries=%{x}\\u003cbr\\u003eYear=2002\\u003cbr\\u003eExport by Volume=%{y}\\u003cextra\\u003e\\u003c\\u002fextra\\u003e\",\"legendgroup\":\"Honduras\",\"marker\":{\"color\":\"#ab63fa\",\"pattern\":{\"shape\":\"\"}},\"name\":\"Honduras\",\"offsetgroup\":\"Honduras\",\"orientation\":\"v\",\"showlegend\":true,\"textposition\":\"auto\",\"x\":[\"Honduras\"],\"xaxis\":\"x\",\"y\":[2711.26],\"yaxis\":\"y\",\"type\":\"bar\"},{\"alignmentgroup\":\"True\",\"hovertemplate\":\"Countries=%{x}\\u003cbr\\u003eYear=2002\\u003cbr\\u003eExport by Volume=%{y}\\u003cextra\\u003e\\u003c\\u002fextra\\u003e\",\"legendgroup\":\"Indonesia\",\"marker\":{\"color\":\"#FFA15A\",\"pattern\":{\"shape\":\"\"}},\"name\":\"Indonesia\",\"offsetgroup\":\"Indonesia\",\"orientation\":\"v\",\"showlegend\":true,\"textposition\":\"auto\",\"x\":[\"Indonesia\"],\"xaxis\":\"x\",\"y\":[4285.830001],\"yaxis\":\"y\",\"type\":\"bar\"},{\"alignmentgroup\":\"True\",\"hovertemplate\":\"Countries=%{x}\\u003cbr\\u003eYear=2002\\u003cbr\\u003eExport by Volume=%{y}\\u003cextra\\u003e\\u003c\\u002fextra\\u003e\",\"legendgroup\":\"Viet Nam\",\"marker\":{\"color\":\"#19d3f3\",\"pattern\":{\"shape\":\"\"}},\"name\":\"Viet Nam\",\"offsetgroup\":\"Viet Nam\",\"orientation\":\"v\",\"showlegend\":true,\"textposition\":\"auto\",\"x\":[\"Viet Nam\"],\"xaxis\":\"x\",\"y\":[11771.3669994],\"yaxis\":\"y\",\"type\":\"bar\"}],\"name\":\"2002\"},{\"data\":[{\"alignmentgroup\":\"True\",\"hovertemplate\":\"Countries=%{x}\\u003cbr\\u003eYear=2003\\u003cbr\\u003eExport by Volume=%{y}\\u003cextra\\u003e\\u003c\\u002fextra\\u003e\",\"legendgroup\":\"Brazil\",\"marker\":{\"color\":\"#636efa\",\"pattern\":{\"shape\":\"\"}},\"name\":\"Brazil\",\"offsetgroup\":\"Brazil\",\"orientation\":\"v\",\"showlegend\":true,\"textposition\":\"auto\",\"x\":[\"Brazil\"],\"xaxis\":\"x\",\"y\":[25710.8116628],\"yaxis\":\"y\",\"type\":\"bar\"},{\"alignmentgroup\":\"True\",\"hovertemplate\":\"Countries=%{x}\\u003cbr\\u003eYear=2003\\u003cbr\\u003eExport by Volume=%{y}\\u003cextra\\u003e\\u003c\\u002fextra\\u003e\",\"legendgroup\":\"Colombia\",\"marker\":{\"color\":\"#EF553B\",\"pattern\":{\"shape\":\"\"}},\"name\":\"Colombia\",\"offsetgroup\":\"Colombia\",\"orientation\":\"v\",\"showlegend\":true,\"textposition\":\"auto\",\"x\":[\"Colombia\"],\"xaxis\":\"x\",\"y\":[10244.3919993],\"yaxis\":\"y\",\"type\":\"bar\"},{\"alignmentgroup\":\"True\",\"hovertemplate\":\"Countries=%{x}\\u003cbr\\u003eYear=2003\\u003cbr\\u003eExport by Volume=%{y}\\u003cextra\\u003e\\u003c\\u002fextra\\u003e\",\"legendgroup\":\"Ethiopia\",\"marker\":{\"color\":\"#00cc96\",\"pattern\":{\"shape\":\"\"}},\"name\":\"Ethiopia\",\"offsetgroup\":\"Ethiopia\",\"orientation\":\"v\",\"showlegend\":true,\"textposition\":\"auto\",\"x\":[\"Ethiopia\"],\"xaxis\":\"x\",\"y\":[2229.143],\"yaxis\":\"y\",\"type\":\"bar\"},{\"alignmentgroup\":\"True\",\"hovertemplate\":\"Countries=%{x}\\u003cbr\\u003eYear=2003\\u003cbr\\u003eExport by Volume=%{y}\\u003cextra\\u003e\\u003c\\u002fextra\\u003e\",\"legendgroup\":\"Honduras\",\"marker\":{\"color\":\"#ab63fa\",\"pattern\":{\"shape\":\"\"}},\"name\":\"Honduras\",\"offsetgroup\":\"Honduras\",\"orientation\":\"v\",\"showlegend\":true,\"textposition\":\"auto\",\"x\":[\"Honduras\"],\"xaxis\":\"x\",\"y\":[2425.237],\"yaxis\":\"y\",\"type\":\"bar\"},{\"alignmentgroup\":\"True\",\"hovertemplate\":\"Countries=%{x}\\u003cbr\\u003eYear=2003\\u003cbr\\u003eExport by Volume=%{y}\\u003cextra\\u003e\\u003c\\u002fextra\\u003e\",\"legendgroup\":\"Indonesia\",\"marker\":{\"color\":\"#FFA15A\",\"pattern\":{\"shape\":\"\"}},\"name\":\"Indonesia\",\"offsetgroup\":\"Indonesia\",\"orientation\":\"v\",\"showlegend\":true,\"textposition\":\"auto\",\"x\":[\"Indonesia\"],\"xaxis\":\"x\",\"y\":[4794.7200006],\"yaxis\":\"y\",\"type\":\"bar\"},{\"alignmentgroup\":\"True\",\"hovertemplate\":\"Countries=%{x}\\u003cbr\\u003eYear=2003\\u003cbr\\u003eExport by Volume=%{y}\\u003cextra\\u003e\\u003c\\u002fextra\\u003e\",\"legendgroup\":\"Viet Nam\",\"marker\":{\"color\":\"#19d3f3\",\"pattern\":{\"shape\":\"\"}},\"name\":\"Viet Nam\",\"offsetgroup\":\"Viet Nam\",\"orientation\":\"v\",\"showlegend\":true,\"textposition\":\"auto\",\"x\":[\"Viet Nam\"],\"xaxis\":\"x\",\"y\":[11631.1110003],\"yaxis\":\"y\",\"type\":\"bar\"}],\"name\":\"2003\"},{\"data\":[{\"alignmentgroup\":\"True\",\"hovertemplate\":\"Countries=%{x}\\u003cbr\\u003eYear=2004\\u003cbr\\u003eExport by Volume=%{y}\\u003cextra\\u003e\\u003c\\u002fextra\\u003e\",\"legendgroup\":\"Brazil\",\"marker\":{\"color\":\"#636efa\",\"pattern\":{\"shape\":\"\"}},\"name\":\"Brazil\",\"offsetgroup\":\"Brazil\",\"orientation\":\"v\",\"showlegend\":true,\"textposition\":\"auto\",\"x\":[\"Brazil\"],\"xaxis\":\"x\",\"y\":[26478.4750901],\"yaxis\":\"y\",\"type\":\"bar\"},{\"alignmentgroup\":\"True\",\"hovertemplate\":\"Countries=%{x}\\u003cbr\\u003eYear=2004\\u003cbr\\u003eExport by Volume=%{y}\\u003cextra\\u003e\\u003c\\u002fextra\\u003e\",\"legendgroup\":\"Colombia\",\"marker\":{\"color\":\"#EF553B\",\"pattern\":{\"shape\":\"\"}},\"name\":\"Colombia\",\"offsetgroup\":\"Colombia\",\"orientation\":\"v\",\"showlegend\":true,\"textposition\":\"auto\",\"x\":[\"Colombia\"],\"xaxis\":\"x\",\"y\":[10194.3150011],\"yaxis\":\"y\",\"type\":\"bar\"},{\"alignmentgroup\":\"True\",\"hovertemplate\":\"Countries=%{x}\\u003cbr\\u003eYear=2004\\u003cbr\\u003eExport by Volume=%{y}\\u003cextra\\u003e\\u003c\\u002fextra\\u003e\",\"legendgroup\":\"Ethiopia\",\"marker\":{\"color\":\"#00cc96\",\"pattern\":{\"shape\":\"\"}},\"name\":\"Ethiopia\",\"offsetgroup\":\"Ethiopia\",\"orientation\":\"v\",\"showlegend\":true,\"textposition\":\"auto\",\"x\":[\"Ethiopia\"],\"xaxis\":\"x\",\"y\":[2490.944],\"yaxis\":\"y\",\"type\":\"bar\"},{\"alignmentgroup\":\"True\",\"hovertemplate\":\"Countries=%{x}\\u003cbr\\u003eYear=2004\\u003cbr\\u003eExport by Volume=%{y}\\u003cextra\\u003e\\u003c\\u002fextra\\u003e\",\"legendgroup\":\"Honduras\",\"marker\":{\"color\":\"#ab63fa\",\"pattern\":{\"shape\":\"\"}},\"name\":\"Honduras\",\"offsetgroup\":\"Honduras\",\"orientation\":\"v\",\"showlegend\":true,\"textposition\":\"auto\",\"x\":[\"Honduras\"],\"xaxis\":\"x\",\"y\":[2779.189],\"yaxis\":\"y\",\"type\":\"bar\"},{\"alignmentgroup\":\"True\",\"hovertemplate\":\"Countries=%{x}\\u003cbr\\u003eYear=2004\\u003cbr\\u003eExport by Volume=%{y}\\u003cextra\\u003e\\u003c\\u002fextra\\u003e\",\"legendgroup\":\"Indonesia\",\"marker\":{\"color\":\"#FFA15A\",\"pattern\":{\"shape\":\"\"}},\"name\":\"Indonesia\",\"offsetgroup\":\"Indonesia\",\"orientation\":\"v\",\"showlegend\":true,\"textposition\":\"auto\",\"x\":[\"Indonesia\"],\"xaxis\":\"x\",\"y\":[5455.5989996],\"yaxis\":\"y\",\"type\":\"bar\"},{\"alignmentgroup\":\"True\",\"hovertemplate\":\"Countries=%{x}\\u003cbr\\u003eYear=2004\\u003cbr\\u003eExport by Volume=%{y}\\u003cextra\\u003e\\u003c\\u002fextra\\u003e\",\"legendgroup\":\"Viet Nam\",\"marker\":{\"color\":\"#19d3f3\",\"pattern\":{\"shape\":\"\"}},\"name\":\"Viet Nam\",\"offsetgroup\":\"Viet Nam\",\"orientation\":\"v\",\"showlegend\":true,\"textposition\":\"auto\",\"x\":[\"Viet Nam\"],\"xaxis\":\"x\",\"y\":[14858.9909998],\"yaxis\":\"y\",\"type\":\"bar\"}],\"name\":\"2004\"},{\"data\":[{\"alignmentgroup\":\"True\",\"hovertemplate\":\"Countries=%{x}\\u003cbr\\u003eYear=2005\\u003cbr\\u003eExport by Volume=%{y}\\u003cextra\\u003e\\u003c\\u002fextra\\u003e\",\"legendgroup\":\"Brazil\",\"marker\":{\"color\":\"#636efa\",\"pattern\":{\"shape\":\"\"}},\"name\":\"Brazil\",\"offsetgroup\":\"Brazil\",\"orientation\":\"v\",\"showlegend\":true,\"textposition\":\"auto\",\"x\":[\"Brazil\"],\"xaxis\":\"x\",\"y\":[26198.0554467],\"yaxis\":\"y\",\"type\":\"bar\"},{\"alignmentgroup\":\"True\",\"hovertemplate\":\"Countries=%{x}\\u003cbr\\u003eYear=2005\\u003cbr\\u003eExport by Volume=%{y}\\u003cextra\\u003e\\u003c\\u002fextra\\u003e\",\"legendgroup\":\"Colombia\",\"marker\":{\"color\":\"#EF553B\",\"pattern\":{\"shape\":\"\"}},\"name\":\"Colombia\",\"offsetgroup\":\"Colombia\",\"orientation\":\"v\",\"showlegend\":true,\"textposition\":\"auto\",\"x\":[\"Colombia\"],\"xaxis\":\"x\",\"y\":[10871.2469708],\"yaxis\":\"y\",\"type\":\"bar\"},{\"alignmentgroup\":\"True\",\"hovertemplate\":\"Countries=%{x}\\u003cbr\\u003eYear=2005\\u003cbr\\u003eExport by Volume=%{y}\\u003cextra\\u003e\\u003c\\u002fextra\\u003e\",\"legendgroup\":\"Ethiopia\",\"marker\":{\"color\":\"#00cc96\",\"pattern\":{\"shape\":\"\"}},\"name\":\"Ethiopia\",\"offsetgroup\":\"Ethiopia\",\"orientation\":\"v\",\"showlegend\":true,\"textposition\":\"auto\",\"x\":[\"Ethiopia\"],\"xaxis\":\"x\",\"y\":[2435.069],\"yaxis\":\"y\",\"type\":\"bar\"},{\"alignmentgroup\":\"True\",\"hovertemplate\":\"Countries=%{x}\\u003cbr\\u003eYear=2005\\u003cbr\\u003eExport by Volume=%{y}\\u003cextra\\u003e\\u003c\\u002fextra\\u003e\",\"legendgroup\":\"Honduras\",\"marker\":{\"color\":\"#ab63fa\",\"pattern\":{\"shape\":\"\"}},\"name\":\"Honduras\",\"offsetgroup\":\"Honduras\",\"orientation\":\"v\",\"showlegend\":true,\"textposition\":\"auto\",\"x\":[\"Honduras\"],\"xaxis\":\"x\",\"y\":[2391.90535],\"yaxis\":\"y\",\"type\":\"bar\"},{\"alignmentgroup\":\"True\",\"hovertemplate\":\"Countries=%{x}\\u003cbr\\u003eYear=2005\\u003cbr\\u003eExport by Volume=%{y}\\u003cextra\\u003e\\u003c\\u002fextra\\u003e\",\"legendgroup\":\"Indonesia\",\"marker\":{\"color\":\"#FFA15A\",\"pattern\":{\"shape\":\"\"}},\"name\":\"Indonesia\",\"offsetgroup\":\"Indonesia\",\"orientation\":\"v\",\"showlegend\":true,\"textposition\":\"auto\",\"x\":[\"Indonesia\"],\"xaxis\":\"x\",\"y\":[6744.09393],\"yaxis\":\"y\",\"type\":\"bar\"},{\"alignmentgroup\":\"True\",\"hovertemplate\":\"Countries=%{x}\\u003cbr\\u003eYear=2005\\u003cbr\\u003eExport by Volume=%{y}\\u003cextra\\u003e\\u003c\\u002fextra\\u003e\",\"legendgroup\":\"Viet Nam\",\"marker\":{\"color\":\"#19d3f3\",\"pattern\":{\"shape\":\"\"}},\"name\":\"Viet Nam\",\"offsetgroup\":\"Viet Nam\",\"orientation\":\"v\",\"showlegend\":true,\"textposition\":\"auto\",\"x\":[\"Viet Nam\"],\"xaxis\":\"x\",\"y\":[13432.0335533],\"yaxis\":\"y\",\"type\":\"bar\"}],\"name\":\"2005\"},{\"data\":[{\"alignmentgroup\":\"True\",\"hovertemplate\":\"Countries=%{x}\\u003cbr\\u003eYear=2006\\u003cbr\\u003eExport by Volume=%{y}\\u003cextra\\u003e\\u003c\\u002fextra\\u003e\",\"legendgroup\":\"Brazil\",\"marker\":{\"color\":\"#636efa\",\"pattern\":{\"shape\":\"\"}},\"name\":\"Brazil\",\"offsetgroup\":\"Brazil\",\"orientation\":\"v\",\"showlegend\":true,\"textposition\":\"auto\",\"x\":[\"Brazil\"],\"xaxis\":\"x\",\"y\":[27368.9019587],\"yaxis\":\"y\",\"type\":\"bar\"},{\"alignmentgroup\":\"True\",\"hovertemplate\":\"Countries=%{x}\\u003cbr\\u003eYear=2006\\u003cbr\\u003eExport by Volume=%{y}\\u003cextra\\u003e\\u003c\\u002fextra\\u003e\",\"legendgroup\":\"Colombia\",\"marker\":{\"color\":\"#EF553B\",\"pattern\":{\"shape\":\"\"}},\"name\":\"Colombia\",\"offsetgroup\":\"Colombia\",\"orientation\":\"v\",\"showlegend\":true,\"textposition\":\"auto\",\"x\":[\"Colombia\"],\"xaxis\":\"x\",\"y\":[10944.8534601],\"yaxis\":\"y\",\"type\":\"bar\"},{\"alignmentgroup\":\"True\",\"hovertemplate\":\"Countries=%{x}\\u003cbr\\u003eYear=2006\\u003cbr\\u003eExport by Volume=%{y}\\u003cextra\\u003e\\u003c\\u002fextra\\u003e\",\"legendgroup\":\"Ethiopia\",\"marker\":{\"color\":\"#00cc96\",\"pattern\":{\"shape\":\"\"}},\"name\":\"Ethiopia\",\"offsetgroup\":\"Ethiopia\",\"orientation\":\"v\",\"showlegend\":true,\"textposition\":\"auto\",\"x\":[\"Ethiopia\"],\"xaxis\":\"x\",\"y\":[2935.56],\"yaxis\":\"y\",\"type\":\"bar\"},{\"alignmentgroup\":\"True\",\"hovertemplate\":\"Countries=%{x}\\u003cbr\\u003eYear=2006\\u003cbr\\u003eExport by Volume=%{y}\\u003cextra\\u003e\\u003c\\u002fextra\\u003e\",\"legendgroup\":\"Honduras\",\"marker\":{\"color\":\"#ab63fa\",\"pattern\":{\"shape\":\"\"}},\"name\":\"Honduras\",\"offsetgroup\":\"Honduras\",\"orientation\":\"v\",\"showlegend\":true,\"textposition\":\"auto\",\"x\":[\"Honduras\"],\"xaxis\":\"x\",\"y\":[2898.4144369],\"yaxis\":\"y\",\"type\":\"bar\"},{\"alignmentgroup\":\"True\",\"hovertemplate\":\"Countries=%{x}\\u003cbr\\u003eYear=2006\\u003cbr\\u003eExport by Volume=%{y}\\u003cextra\\u003e\\u003c\\u002fextra\\u003e\",\"legendgroup\":\"Indonesia\",\"marker\":{\"color\":\"#FFA15A\",\"pattern\":{\"shape\":\"\"}},\"name\":\"Indonesia\",\"offsetgroup\":\"Indonesia\",\"orientation\":\"v\",\"showlegend\":true,\"textposition\":\"auto\",\"x\":[\"Indonesia\"],\"xaxis\":\"x\",\"y\":[5280.4349134],\"yaxis\":\"y\",\"type\":\"bar\"},{\"alignmentgroup\":\"True\",\"hovertemplate\":\"Countries=%{x}\\u003cbr\\u003eYear=2006\\u003cbr\\u003eExport by Volume=%{y}\\u003cextra\\u003e\\u003c\\u002fextra\\u003e\",\"legendgroup\":\"Viet Nam\",\"marker\":{\"color\":\"#19d3f3\",\"pattern\":{\"shape\":\"\"}},\"name\":\"Viet Nam\",\"offsetgroup\":\"Viet Nam\",\"orientation\":\"v\",\"showlegend\":true,\"textposition\":\"auto\",\"x\":[\"Viet Nam\"],\"xaxis\":\"x\",\"y\":[13904.70204],\"yaxis\":\"y\",\"type\":\"bar\"}],\"name\":\"2006\"},{\"data\":[{\"alignmentgroup\":\"True\",\"hovertemplate\":\"Countries=%{x}\\u003cbr\\u003eYear=2007\\u003cbr\\u003eExport by Volume=%{y}\\u003cextra\\u003e\\u003c\\u002fextra\\u003e\",\"legendgroup\":\"Brazil\",\"marker\":{\"color\":\"#636efa\",\"pattern\":{\"shape\":\"\"}},\"name\":\"Brazil\",\"offsetgroup\":\"Brazil\",\"orientation\":\"v\",\"showlegend\":true,\"textposition\":\"auto\",\"x\":[\"Brazil\"],\"xaxis\":\"x\",\"y\":[28183.5739472],\"yaxis\":\"y\",\"type\":\"bar\"},{\"alignmentgroup\":\"True\",\"hovertemplate\":\"Countries=%{x}\\u003cbr\\u003eYear=2007\\u003cbr\\u003eExport by Volume=%{y}\\u003cextra\\u003e\\u003c\\u002fextra\\u003e\",\"legendgroup\":\"Colombia\",\"marker\":{\"color\":\"#EF553B\",\"pattern\":{\"shape\":\"\"}},\"name\":\"Colombia\",\"offsetgroup\":\"Colombia\",\"orientation\":\"v\",\"showlegend\":true,\"textposition\":\"auto\",\"x\":[\"Colombia\"],\"xaxis\":\"x\",\"y\":[11300.4206901],\"yaxis\":\"y\",\"type\":\"bar\"},{\"alignmentgroup\":\"True\",\"hovertemplate\":\"Countries=%{x}\\u003cbr\\u003eYear=2007\\u003cbr\\u003eExport by Volume=%{y}\\u003cextra\\u003e\\u003c\\u002fextra\\u003e\",\"legendgroup\":\"Ethiopia\",\"marker\":{\"color\":\"#00cc96\",\"pattern\":{\"shape\":\"\"}},\"name\":\"Ethiopia\",\"offsetgroup\":\"Ethiopia\",\"orientation\":\"v\",\"showlegend\":true,\"textposition\":\"auto\",\"x\":[\"Ethiopia\"],\"xaxis\":\"x\",\"y\":[2604.008],\"yaxis\":\"y\",\"type\":\"bar\"},{\"alignmentgroup\":\"True\",\"hovertemplate\":\"Countries=%{x}\\u003cbr\\u003eYear=2007\\u003cbr\\u003eExport by Volume=%{y}\\u003cextra\\u003e\\u003c\\u002fextra\\u003e\",\"legendgroup\":\"Honduras\",\"marker\":{\"color\":\"#ab63fa\",\"pattern\":{\"shape\":\"\"}},\"name\":\"Honduras\",\"offsetgroup\":\"Honduras\",\"orientation\":\"v\",\"showlegend\":true,\"textposition\":\"auto\",\"x\":[\"Honduras\"],\"xaxis\":\"x\",\"y\":[3312.0085632],\"yaxis\":\"y\",\"type\":\"bar\"},{\"alignmentgroup\":\"True\",\"hovertemplate\":\"Countries=%{x}\\u003cbr\\u003eYear=2007\\u003cbr\\u003eExport by Volume=%{y}\\u003cextra\\u003e\\u003c\\u002fextra\\u003e\",\"legendgroup\":\"Indonesia\",\"marker\":{\"color\":\"#FFA15A\",\"pattern\":{\"shape\":\"\"}},\"name\":\"Indonesia\",\"offsetgroup\":\"Indonesia\",\"orientation\":\"v\",\"showlegend\":true,\"textposition\":\"auto\",\"x\":[\"Indonesia\"],\"xaxis\":\"x\",\"y\":[4149.4101006],\"yaxis\":\"y\",\"type\":\"bar\"},{\"alignmentgroup\":\"True\",\"hovertemplate\":\"Countries=%{x}\\u003cbr\\u003eYear=2007\\u003cbr\\u003eExport by Volume=%{y}\\u003cextra\\u003e\\u003c\\u002fextra\\u003e\",\"legendgroup\":\"Viet Nam\",\"marker\":{\"color\":\"#19d3f3\",\"pattern\":{\"shape\":\"\"}},\"name\":\"Viet Nam\",\"offsetgroup\":\"Viet Nam\",\"orientation\":\"v\",\"showlegend\":true,\"textposition\":\"auto\",\"x\":[\"Viet Nam\"],\"xaxis\":\"x\",\"y\":[17936.2186134],\"yaxis\":\"y\",\"type\":\"bar\"}],\"name\":\"2007\"},{\"data\":[{\"alignmentgroup\":\"True\",\"hovertemplate\":\"Countries=%{x}\\u003cbr\\u003eYear=2008\\u003cbr\\u003eExport by Volume=%{y}\\u003cextra\\u003e\\u003c\\u002fextra\\u003e\",\"legendgroup\":\"Brazil\",\"marker\":{\"color\":\"#636efa\",\"pattern\":{\"shape\":\"\"}},\"name\":\"Brazil\",\"offsetgroup\":\"Brazil\",\"orientation\":\"v\",\"showlegend\":true,\"textposition\":\"auto\",\"x\":[\"Brazil\"],\"xaxis\":\"x\",\"y\":[29510.2956935],\"yaxis\":\"y\",\"type\":\"bar\"},{\"alignmentgroup\":\"True\",\"hovertemplate\":\"Countries=%{x}\\u003cbr\\u003eYear=2008\\u003cbr\\u003eExport by Volume=%{y}\\u003cextra\\u003e\\u003c\\u002fextra\\u003e\",\"legendgroup\":\"Colombia\",\"marker\":{\"color\":\"#EF553B\",\"pattern\":{\"shape\":\"\"}},\"name\":\"Colombia\",\"offsetgroup\":\"Colombia\",\"orientation\":\"v\",\"showlegend\":true,\"textposition\":\"auto\",\"x\":[\"Colombia\"],\"xaxis\":\"x\",\"y\":[11085.1702037],\"yaxis\":\"y\",\"type\":\"bar\"},{\"alignmentgroup\":\"True\",\"hovertemplate\":\"Countries=%{x}\\u003cbr\\u003eYear=2008\\u003cbr\\u003eExport by Volume=%{y}\\u003cextra\\u003e\\u003c\\u002fextra\\u003e\",\"legendgroup\":\"Ethiopia\",\"marker\":{\"color\":\"#00cc96\",\"pattern\":{\"shape\":\"\"}},\"name\":\"Ethiopia\",\"offsetgroup\":\"Ethiopia\",\"orientation\":\"v\",\"showlegend\":true,\"textposition\":\"auto\",\"x\":[\"Ethiopia\"],\"xaxis\":\"x\",\"y\":[2851.92097],\"yaxis\":\"y\",\"type\":\"bar\"},{\"alignmentgroup\":\"True\",\"hovertemplate\":\"Countries=%{x}\\u003cbr\\u003eYear=2008\\u003cbr\\u003eExport by Volume=%{y}\\u003cextra\\u003e\\u003c\\u002fextra\\u003e\",\"legendgroup\":\"Honduras\",\"marker\":{\"color\":\"#ab63fa\",\"pattern\":{\"shape\":\"\"}},\"name\":\"Honduras\",\"offsetgroup\":\"Honduras\",\"orientation\":\"v\",\"showlegend\":true,\"textposition\":\"auto\",\"x\":[\"Honduras\"],\"xaxis\":\"x\",\"y\":[3259.4549512],\"yaxis\":\"y\",\"type\":\"bar\"},{\"alignmentgroup\":\"True\",\"hovertemplate\":\"Countries=%{x}\\u003cbr\\u003eYear=2008\\u003cbr\\u003eExport by Volume=%{y}\\u003cextra\\u003e\\u003c\\u002fextra\\u003e\",\"legendgroup\":\"Indonesia\",\"marker\":{\"color\":\"#FFA15A\",\"pattern\":{\"shape\":\"\"}},\"name\":\"Indonesia\",\"offsetgroup\":\"Indonesia\",\"orientation\":\"v\",\"showlegend\":true,\"textposition\":\"auto\",\"x\":[\"Indonesia\"],\"xaxis\":\"x\",\"y\":[5740.6730453],\"yaxis\":\"y\",\"type\":\"bar\"},{\"alignmentgroup\":\"True\",\"hovertemplate\":\"Countries=%{x}\\u003cbr\\u003eYear=2008\\u003cbr\\u003eExport by Volume=%{y}\\u003cextra\\u003e\\u003c\\u002fextra\\u003e\",\"legendgroup\":\"Viet Nam\",\"marker\":{\"color\":\"#19d3f3\",\"pattern\":{\"shape\":\"\"}},\"name\":\"Viet Nam\",\"offsetgroup\":\"Viet Nam\",\"orientation\":\"v\",\"showlegend\":true,\"textposition\":\"auto\",\"x\":[\"Viet Nam\"],\"xaxis\":\"x\",\"y\":[16101.3720357],\"yaxis\":\"y\",\"type\":\"bar\"}],\"name\":\"2008\"},{\"data\":[{\"alignmentgroup\":\"True\",\"hovertemplate\":\"Countries=%{x}\\u003cbr\\u003eYear=2009\\u003cbr\\u003eExport by Volume=%{y}\\u003cextra\\u003e\\u003c\\u002fextra\\u003e\",\"legendgroup\":\"Brazil\",\"marker\":{\"color\":\"#636efa\",\"pattern\":{\"shape\":\"\"}},\"name\":\"Brazil\",\"offsetgroup\":\"Brazil\",\"orientation\":\"v\",\"showlegend\":true,\"textposition\":\"auto\",\"x\":[\"Brazil\"],\"xaxis\":\"x\",\"y\":[30377.9816361],\"yaxis\":\"y\",\"type\":\"bar\"},{\"alignmentgroup\":\"True\",\"hovertemplate\":\"Countries=%{x}\\u003cbr\\u003eYear=2009\\u003cbr\\u003eExport by Volume=%{y}\\u003cextra\\u003e\\u003c\\u002fextra\\u003e\",\"legendgroup\":\"Colombia\",\"marker\":{\"color\":\"#EF553B\",\"pattern\":{\"shape\":\"\"}},\"name\":\"Colombia\",\"offsetgroup\":\"Colombia\",\"orientation\":\"v\",\"showlegend\":true,\"textposition\":\"auto\",\"x\":[\"Colombia\"],\"xaxis\":\"x\",\"y\":[7893.9267953],\"yaxis\":\"y\",\"type\":\"bar\"},{\"alignmentgroup\":\"True\",\"hovertemplate\":\"Countries=%{x}\\u003cbr\\u003eYear=2009\\u003cbr\\u003eExport by Volume=%{y}\\u003cextra\\u003e\\u003c\\u002fextra\\u003e\",\"legendgroup\":\"Ethiopia\",\"marker\":{\"color\":\"#00cc96\",\"pattern\":{\"shape\":\"\"}},\"name\":\"Ethiopia\",\"offsetgroup\":\"Ethiopia\",\"orientation\":\"v\",\"showlegend\":true,\"textposition\":\"auto\",\"x\":[\"Ethiopia\"],\"xaxis\":\"x\",\"y\":[1851.4974532],\"yaxis\":\"y\",\"type\":\"bar\"},{\"alignmentgroup\":\"True\",\"hovertemplate\":\"Countries=%{x}\\u003cbr\\u003eYear=2009\\u003cbr\\u003eExport by Volume=%{y}\\u003cextra\\u003e\\u003c\\u002fextra\\u003e\",\"legendgroup\":\"Honduras\",\"marker\":{\"color\":\"#ab63fa\",\"pattern\":{\"shape\":\"\"}},\"name\":\"Honduras\",\"offsetgroup\":\"Honduras\",\"orientation\":\"v\",\"showlegend\":true,\"textposition\":\"auto\",\"x\":[\"Honduras\"],\"xaxis\":\"x\",\"y\":[3084.1878284],\"yaxis\":\"y\",\"type\":\"bar\"},{\"alignmentgroup\":\"True\",\"hovertemplate\":\"Countries=%{x}\\u003cbr\\u003eYear=2009\\u003cbr\\u003eExport by Volume=%{y}\\u003cextra\\u003e\\u003c\\u002fextra\\u003e\",\"legendgroup\":\"Indonesia\",\"marker\":{\"color\":\"#FFA15A\",\"pattern\":{\"shape\":\"\"}},\"name\":\"Indonesia\",\"offsetgroup\":\"Indonesia\",\"orientation\":\"v\",\"showlegend\":true,\"textposition\":\"auto\",\"x\":[\"Indonesia\"],\"xaxis\":\"x\",\"y\":[7907.2735156],\"yaxis\":\"y\",\"type\":\"bar\"},{\"alignmentgroup\":\"True\",\"hovertemplate\":\"Countries=%{x}\\u003cbr\\u003eYear=2009\\u003cbr\\u003eExport by Volume=%{y}\\u003cextra\\u003e\\u003c\\u002fextra\\u003e\",\"legendgroup\":\"Viet Nam\",\"marker\":{\"color\":\"#19d3f3\",\"pattern\":{\"shape\":\"\"}},\"name\":\"Viet Nam\",\"offsetgroup\":\"Viet Nam\",\"orientation\":\"v\",\"showlegend\":true,\"textposition\":\"auto\",\"x\":[\"Viet Nam\"],\"xaxis\":\"x\",\"y\":[17051.7344765],\"yaxis\":\"y\",\"type\":\"bar\"}],\"name\":\"2009\"},{\"data\":[{\"alignmentgroup\":\"True\",\"hovertemplate\":\"Countries=%{x}\\u003cbr\\u003eYear=2010\\u003cbr\\u003eExport by Volume=%{y}\\u003cextra\\u003e\\u003c\\u002fextra\\u003e\",\"legendgroup\":\"Brazil\",\"marker\":{\"color\":\"#636efa\",\"pattern\":{\"shape\":\"\"}},\"name\":\"Brazil\",\"offsetgroup\":\"Brazil\",\"orientation\":\"v\",\"showlegend\":true,\"textposition\":\"auto\",\"x\":[\"Brazil\"],\"xaxis\":\"x\",\"y\":[33166.6415897],\"yaxis\":\"y\",\"type\":\"bar\"},{\"alignmentgroup\":\"True\",\"hovertemplate\":\"Countries=%{x}\\u003cbr\\u003eYear=2010\\u003cbr\\u003eExport by Volume=%{y}\\u003cextra\\u003e\\u003c\\u002fextra\\u003e\",\"legendgroup\":\"Colombia\",\"marker\":{\"color\":\"#EF553B\",\"pattern\":{\"shape\":\"\"}},\"name\":\"Colombia\",\"offsetgroup\":\"Colombia\",\"orientation\":\"v\",\"showlegend\":true,\"textposition\":\"auto\",\"x\":[\"Colombia\"],\"xaxis\":\"x\",\"y\":[7821.6345037],\"yaxis\":\"y\",\"type\":\"bar\"},{\"alignmentgroup\":\"True\",\"hovertemplate\":\"Countries=%{x}\\u003cbr\\u003eYear=2010\\u003cbr\\u003eExport by Volume=%{y}\\u003cextra\\u003e\\u003c\\u002fextra\\u003e\",\"legendgroup\":\"Ethiopia\",\"marker\":{\"color\":\"#00cc96\",\"pattern\":{\"shape\":\"\"}},\"name\":\"Ethiopia\",\"offsetgroup\":\"Ethiopia\",\"orientation\":\"v\",\"showlegend\":true,\"textposition\":\"auto\",\"x\":[\"Ethiopia\"],\"xaxis\":\"x\",\"y\":[3324.1025511],\"yaxis\":\"y\",\"type\":\"bar\"},{\"alignmentgroup\":\"True\",\"hovertemplate\":\"Countries=%{x}\\u003cbr\\u003eYear=2010\\u003cbr\\u003eExport by Volume=%{y}\\u003cextra\\u003e\\u003c\\u002fextra\\u003e\",\"legendgroup\":\"Honduras\",\"marker\":{\"color\":\"#ab63fa\",\"pattern\":{\"shape\":\"\"}},\"name\":\"Honduras\",\"offsetgroup\":\"Honduras\",\"orientation\":\"v\",\"showlegend\":true,\"textposition\":\"auto\",\"x\":[\"Honduras\"],\"xaxis\":\"x\",\"y\":[3349.3976392],\"yaxis\":\"y\",\"type\":\"bar\"},{\"alignmentgroup\":\"True\",\"hovertemplate\":\"Countries=%{x}\\u003cbr\\u003eYear=2010\\u003cbr\\u003eExport by Volume=%{y}\\u003cextra\\u003e\\u003c\\u002fextra\\u003e\",\"legendgroup\":\"Indonesia\",\"marker\":{\"color\":\"#FFA15A\",\"pattern\":{\"shape\":\"\"}},\"name\":\"Indonesia\",\"offsetgroup\":\"Indonesia\",\"orientation\":\"v\",\"showlegend\":true,\"textposition\":\"auto\",\"x\":[\"Indonesia\"],\"xaxis\":\"x\",\"y\":[5489.1475563],\"yaxis\":\"y\",\"type\":\"bar\"},{\"alignmentgroup\":\"True\",\"hovertemplate\":\"Countries=%{x}\\u003cbr\\u003eYear=2010\\u003cbr\\u003eExport by Volume=%{y}\\u003cextra\\u003e\\u003c\\u002fextra\\u003e\",\"legendgroup\":\"Viet Nam\",\"marker\":{\"color\":\"#19d3f3\",\"pattern\":{\"shape\":\"\"}},\"name\":\"Viet Nam\",\"offsetgroup\":\"Viet Nam\",\"orientation\":\"v\",\"showlegend\":true,\"textposition\":\"auto\",\"x\":[\"Viet Nam\"],\"xaxis\":\"x\",\"y\":[14228.5857964],\"yaxis\":\"y\",\"type\":\"bar\"}],\"name\":\"2010\"},{\"data\":[{\"alignmentgroup\":\"True\",\"hovertemplate\":\"Countries=%{x}\\u003cbr\\u003eYear=2011\\u003cbr\\u003eExport by Volume=%{y}\\u003cextra\\u003e\\u003c\\u002fextra\\u003e\",\"legendgroup\":\"Brazil\",\"marker\":{\"color\":\"#636efa\",\"pattern\":{\"shape\":\"\"}},\"name\":\"Brazil\",\"offsetgroup\":\"Brazil\",\"orientation\":\"v\",\"showlegend\":true,\"textposition\":\"auto\",\"x\":[\"Brazil\"],\"xaxis\":\"x\",\"y\":[33806.0093278],\"yaxis\":\"y\",\"type\":\"bar\"},{\"alignmentgroup\":\"True\",\"hovertemplate\":\"Countries=%{x}\\u003cbr\\u003eYear=2011\\u003cbr\\u003eExport by Volume=%{y}\\u003cextra\\u003e\\u003c\\u002fextra\\u003e\",\"legendgroup\":\"Colombia\",\"marker\":{\"color\":\"#EF553B\",\"pattern\":{\"shape\":\"\"}},\"name\":\"Colombia\",\"offsetgroup\":\"Colombia\",\"orientation\":\"v\",\"showlegend\":true,\"textposition\":\"auto\",\"x\":[\"Colombia\"],\"xaxis\":\"x\",\"y\":[7733.625254],\"yaxis\":\"y\",\"type\":\"bar\"},{\"alignmentgroup\":\"True\",\"hovertemplate\":\"Countries=%{x}\\u003cbr\\u003eYear=2011\\u003cbr\\u003eExport by Volume=%{y}\\u003cextra\\u003e\\u003c\\u002fextra\\u003e\",\"legendgroup\":\"Ethiopia\",\"marker\":{\"color\":\"#00cc96\",\"pattern\":{\"shape\":\"\"}},\"name\":\"Ethiopia\",\"offsetgroup\":\"Ethiopia\",\"orientation\":\"v\",\"showlegend\":true,\"textposition\":\"auto\",\"x\":[\"Ethiopia\"],\"xaxis\":\"x\",\"y\":[2675.4190125],\"yaxis\":\"y\",\"type\":\"bar\"},{\"alignmentgroup\":\"True\",\"hovertemplate\":\"Countries=%{x}\\u003cbr\\u003eYear=2011\\u003cbr\\u003eExport by Volume=%{y}\\u003cextra\\u003e\\u003c\\u002fextra\\u003e\",\"legendgroup\":\"Honduras\",\"marker\":{\"color\":\"#ab63fa\",\"pattern\":{\"shape\":\"\"}},\"name\":\"Honduras\",\"offsetgroup\":\"Honduras\",\"orientation\":\"v\",\"showlegend\":true,\"textposition\":\"auto\",\"x\":[\"Honduras\"],\"xaxis\":\"x\",\"y\":[3947.1411511],\"yaxis\":\"y\",\"type\":\"bar\"},{\"alignmentgroup\":\"True\",\"hovertemplate\":\"Countries=%{x}\\u003cbr\\u003eYear=2011\\u003cbr\\u003eExport by Volume=%{y}\\u003cextra\\u003e\\u003c\\u002fextra\\u003e\",\"legendgroup\":\"Indonesia\",\"marker\":{\"color\":\"#FFA15A\",\"pattern\":{\"shape\":\"\"}},\"name\":\"Indonesia\",\"offsetgroup\":\"Indonesia\",\"orientation\":\"v\",\"showlegend\":true,\"textposition\":\"auto\",\"x\":[\"Indonesia\"],\"xaxis\":\"x\",\"y\":[3919.891883],\"yaxis\":\"y\",\"type\":\"bar\"},{\"alignmentgroup\":\"True\",\"hovertemplate\":\"Countries=%{x}\\u003cbr\\u003eYear=2011\\u003cbr\\u003eExport by Volume=%{y}\\u003cextra\\u003e\\u003c\\u002fextra\\u003e\",\"legendgroup\":\"Viet Nam\",\"marker\":{\"color\":\"#19d3f3\",\"pattern\":{\"shape\":\"\"}},\"name\":\"Viet Nam\",\"offsetgroup\":\"Viet Nam\",\"orientation\":\"v\",\"showlegend\":true,\"textposition\":\"auto\",\"x\":[\"Viet Nam\"],\"xaxis\":\"x\",\"y\":[17717.3947313],\"yaxis\":\"y\",\"type\":\"bar\"}],\"name\":\"2011\"},{\"data\":[{\"alignmentgroup\":\"True\",\"hovertemplate\":\"Countries=%{x}\\u003cbr\\u003eYear=2012\\u003cbr\\u003eExport by Volume=%{y}\\u003cextra\\u003e\\u003c\\u002fextra\\u003e\",\"legendgroup\":\"Brazil\",\"marker\":{\"color\":\"#636efa\",\"pattern\":{\"shape\":\"\"}},\"name\":\"Brazil\",\"offsetgroup\":\"Brazil\",\"orientation\":\"v\",\"showlegend\":true,\"textposition\":\"auto\",\"x\":[\"Brazil\"],\"xaxis\":\"x\",\"y\":[28549.4258909],\"yaxis\":\"y\",\"type\":\"bar\"},{\"alignmentgroup\":\"True\",\"hovertemplate\":\"Countries=%{x}\\u003cbr\\u003eYear=2012\\u003cbr\\u003eExport by Volume=%{y}\\u003cextra\\u003e\\u003c\\u002fextra\\u003e\",\"legendgroup\":\"Colombia\",\"marker\":{\"color\":\"#EF553B\",\"pattern\":{\"shape\":\"\"}},\"name\":\"Colombia\",\"offsetgroup\":\"Colombia\",\"orientation\":\"v\",\"showlegend\":true,\"textposition\":\"auto\",\"x\":[\"Colombia\"],\"xaxis\":\"x\",\"y\":[7170.203291],\"yaxis\":\"y\",\"type\":\"bar\"},{\"alignmentgroup\":\"True\",\"hovertemplate\":\"Countries=%{x}\\u003cbr\\u003eYear=2012\\u003cbr\\u003eExport by Volume=%{y}\\u003cextra\\u003e\\u003c\\u002fextra\\u003e\",\"legendgroup\":\"Ethiopia\",\"marker\":{\"color\":\"#00cc96\",\"pattern\":{\"shape\":\"\"}},\"name\":\"Ethiopia\",\"offsetgroup\":\"Ethiopia\",\"orientation\":\"v\",\"showlegend\":true,\"textposition\":\"auto\",\"x\":[\"Ethiopia\"],\"xaxis\":\"x\",\"y\":[3202.5924066],\"yaxis\":\"y\",\"type\":\"bar\"},{\"alignmentgroup\":\"True\",\"hovertemplate\":\"Countries=%{x}\\u003cbr\\u003eYear=2012\\u003cbr\\u003eExport by Volume=%{y}\\u003cextra\\u003e\\u003c\\u002fextra\\u003e\",\"legendgroup\":\"Honduras\",\"marker\":{\"color\":\"#ab63fa\",\"pattern\":{\"shape\":\"\"}},\"name\":\"Honduras\",\"offsetgroup\":\"Honduras\",\"orientation\":\"v\",\"showlegend\":true,\"textposition\":\"auto\",\"x\":[\"Honduras\"],\"xaxis\":\"x\",\"y\":[5507.9849391],\"yaxis\":\"y\",\"type\":\"bar\"},{\"alignmentgroup\":\"True\",\"hovertemplate\":\"Countries=%{x}\\u003cbr\\u003eYear=2012\\u003cbr\\u003eExport by Volume=%{y}\\u003cextra\\u003e\\u003c\\u002fextra\\u003e\",\"legendgroup\":\"Indonesia\",\"marker\":{\"color\":\"#FFA15A\",\"pattern\":{\"shape\":\"\"}},\"name\":\"Indonesia\",\"offsetgroup\":\"Indonesia\",\"orientation\":\"v\",\"showlegend\":true,\"textposition\":\"auto\",\"x\":[\"Indonesia\"],\"xaxis\":\"x\",\"y\":[8205.7408259],\"yaxis\":\"y\",\"type\":\"bar\"},{\"alignmentgroup\":\"True\",\"hovertemplate\":\"Countries=%{x}\\u003cbr\\u003eYear=2012\\u003cbr\\u003eExport by Volume=%{y}\\u003cextra\\u003e\\u003c\\u002fextra\\u003e\",\"legendgroup\":\"Viet Nam\",\"marker\":{\"color\":\"#19d3f3\",\"pattern\":{\"shape\":\"\"}},\"name\":\"Viet Nam\",\"offsetgroup\":\"Viet Nam\",\"orientation\":\"v\",\"showlegend\":true,\"textposition\":\"auto\",\"x\":[\"Viet Nam\"],\"xaxis\":\"x\",\"y\":[22919.6638324],\"yaxis\":\"y\",\"type\":\"bar\"}],\"name\":\"2012\"},{\"data\":[{\"alignmentgroup\":\"True\",\"hovertemplate\":\"Countries=%{x}\\u003cbr\\u003eYear=2013\\u003cbr\\u003eExport by Volume=%{y}\\u003cextra\\u003e\\u003c\\u002fextra\\u003e\",\"legendgroup\":\"Brazil\",\"marker\":{\"color\":\"#636efa\",\"pattern\":{\"shape\":\"\"}},\"name\":\"Brazil\",\"offsetgroup\":\"Brazil\",\"orientation\":\"v\",\"showlegend\":true,\"textposition\":\"auto\",\"x\":[\"Brazil\"],\"xaxis\":\"x\",\"y\":[31650.5629454],\"yaxis\":\"y\",\"type\":\"bar\"},{\"alignmentgroup\":\"True\",\"hovertemplate\":\"Countries=%{x}\\u003cbr\\u003eYear=2013\\u003cbr\\u003eExport by Volume=%{y}\\u003cextra\\u003e\\u003c\\u002fextra\\u003e\",\"legendgroup\":\"Colombia\",\"marker\":{\"color\":\"#EF553B\",\"pattern\":{\"shape\":\"\"}},\"name\":\"Colombia\",\"offsetgroup\":\"Colombia\",\"orientation\":\"v\",\"showlegend\":true,\"textposition\":\"auto\",\"x\":[\"Colombia\"],\"xaxis\":\"x\",\"y\":[9669.907367],\"yaxis\":\"y\",\"type\":\"bar\"},{\"alignmentgroup\":\"True\",\"hovertemplate\":\"Countries=%{x}\\u003cbr\\u003eYear=2013\\u003cbr\\u003eExport by Volume=%{y}\\u003cextra\\u003e\\u003c\\u002fextra\\u003e\",\"legendgroup\":\"Ethiopia\",\"marker\":{\"color\":\"#00cc96\",\"pattern\":{\"shape\":\"\"}},\"name\":\"Ethiopia\",\"offsetgroup\":\"Ethiopia\",\"orientation\":\"v\",\"showlegend\":true,\"textposition\":\"auto\",\"x\":[\"Ethiopia\"],\"xaxis\":\"x\",\"y\":[2870.0752483],\"yaxis\":\"y\",\"type\":\"bar\"},{\"alignmentgroup\":\"True\",\"hovertemplate\":\"Countries=%{x}\\u003cbr\\u003eYear=2013\\u003cbr\\u003eExport by Volume=%{y}\\u003cextra\\u003e\\u003c\\u002fextra\\u003e\",\"legendgroup\":\"Honduras\",\"marker\":{\"color\":\"#ab63fa\",\"pattern\":{\"shape\":\"\"}},\"name\":\"Honduras\",\"offsetgroup\":\"Honduras\",\"orientation\":\"v\",\"showlegend\":true,\"textposition\":\"auto\",\"x\":[\"Honduras\"],\"xaxis\":\"x\",\"y\":[4185.1189243],\"yaxis\":\"y\",\"type\":\"bar\"},{\"alignmentgroup\":\"True\",\"hovertemplate\":\"Countries=%{x}\\u003cbr\\u003eYear=2013\\u003cbr\\u003eExport by Volume=%{y}\\u003cextra\\u003e\\u003c\\u002fextra\\u003e\",\"legendgroup\":\"Indonesia\",\"marker\":{\"color\":\"#FFA15A\",\"pattern\":{\"shape\":\"\"}},\"name\":\"Indonesia\",\"offsetgroup\":\"Indonesia\",\"orientation\":\"v\",\"showlegend\":true,\"textposition\":\"auto\",\"x\":[\"Indonesia\"],\"xaxis\":\"x\",\"y\":[9254.8073308],\"yaxis\":\"y\",\"type\":\"bar\"},{\"alignmentgroup\":\"True\",\"hovertemplate\":\"Countries=%{x}\\u003cbr\\u003eYear=2013\\u003cbr\\u003eExport by Volume=%{y}\\u003cextra\\u003e\\u003c\\u002fextra\\u003e\",\"legendgroup\":\"Viet Nam\",\"marker\":{\"color\":\"#19d3f3\",\"pattern\":{\"shape\":\"\"}},\"name\":\"Viet Nam\",\"offsetgroup\":\"Viet Nam\",\"orientation\":\"v\",\"showlegend\":true,\"textposition\":\"auto\",\"x\":[\"Viet Nam\"],\"xaxis\":\"x\",\"y\":[19717.7644142],\"yaxis\":\"y\",\"type\":\"bar\"}],\"name\":\"2013\"}]);\n                        }).then(function(){\n                            \nvar gd = document.getElementById('2cd6b3f7-a415-43d4-b98b-2e8a428d631a');\nvar x = new MutationObserver(function (mutations, observer) {{\n        var display = window.getComputedStyle(gd).display;\n        if (!display || display === 'none') {{\n            console.log([gd, 'removed!']);\n            Plotly.purge(gd);\n            observer.disconnect();\n        }}\n}});\n\n// Listen for the removal of the full notebook cells\nvar notebookContainer = gd.closest('#notebook-container');\nif (notebookContainer) {{\n    x.observe(notebookContainer, {childList: true});\n}}\n\n// Listen for the clearing of the current output cell\nvar outputEl = gd.closest('.output');\nif (outputEl) {{\n    x.observe(outputEl, {childList: true});\n}}\n\n                        })                };                });            </script>        </div>"
     },
     "metadata": {},
     "output_type": "display_data"
    }
   ],
   "source": [
    "df = pd.read_csv('exports-calendar-year.csv')\n",
    "\n",
    "# Filtra il DataFrame per includere\n",
    "# solo i paesi selezionati\n",
    "selected_countries = ['Brazil', 'Viet Nam', 'Colombia', 'Indonesia', 'Ethiopia', 'Honduras']\n",
    "df.rename(columns={\"exports\":\"Countries\"}, inplace=True)\n",
    "df = df[df['Countries'].isin(selected_countries)]\n",
    "\n",
    "# Trasforma il DataFrame in formato lungo\n",
    "df_long = df.melt(id_vars='Countries', var_name='Year', value_name='Export by Volume')\n",
    "df_long['Year'] = df_long['Year'].astype(int)\n",
    "\n",
    "# Filtra per includere solo i dati fino al 2013\n",
    "df_long = df_long[df_long['Year'] <= 2013]\n",
    "\n",
    "# Crea il grafico a barre animato\n",
    "fig = px.bar(df_long, x='Countries', y='Export by Volume', color='Countries',\n",
    "             animation_frame='Year', range_y=[0, df_long['Export by Volume'].max()])\n",
    "\n",
    "fig.update_layout(showlegend=False)\n",
    "\n",
    "# Mostra il grafico\n",
    "fig.show()\n",
    "fig.write_html(\"first_graph.html\")"
   ]
  },
  {
   "cell_type": "code",
   "execution_count": 41,
   "metadata": {
    "collapsed": false
   },
   "outputs": [
    {
     "data": {
      "text/plain": "<Figure size 2000x800 with 1 Axes>",
      "image/png": "[encoded data removed]"
     },
     "metadata": {},
     "output_type": "display_data"
    }
   ],
   "source": [
    "df_loaded = pd.read_csv(\"coffee_steps_dataset.csv\")\n",
    "\n",
    "plt.figure(figsize=(20, 8))\n",
    "\n",
    "num_to_plot = 50\n",
    "\n",
    "error_avoidance = df_loaded['Caffeine_Avoidance_Steps'][:num_to_plot].std() / 2\n",
    "error_consumption = df_loaded['Coffee_Consumption_Steps'][:num_to_plot].std() / 2\n",
    "\n",
    "plt.bar(df_loaded['Participant_ID'][:num_to_plot], df_loaded['Caffeine_Avoidance_Steps'][:num_to_plot],\n",
    "        yerr=error_avoidance, capsize=5, color='blue', label='Caffeine avoidance')\n",
    "plt.bar(df_loaded['Participant_ID'][:num_to_plot], df_loaded['Coffee_Consumption_Steps'][:num_to_plot],\n",
    "        yerr=error_consumption, capsize=5, color='orange', label='Coffee consumption')\n",
    "\n",
    "plt.xlabel('Participants', fontsize=20)\n",
    "plt.ylabel('Mean No. of Steps per Day', fontsize=20)\n",
    "plt.xticks(fontsize=18)\n",
    "plt.yticks(fontsize=18)\n",
    "plt.legend(fontsize=18)\n",
    "\n",
    "\n",
    "plt.tight_layout()\n",
    "\n",
    "plt.savefig(\"third_graph.png\")\n",
    "plt.show()"
   ]
  },
  {
   "cell_type": "code",
   "execution_count": null,
   "outputs": [],
   "source": [],
   "metadata": {
    "collapsed": false
   }
  }
 ],
 "metadata": {
  "kernelspec": {
   "display_name": "Python 3",
   "language": "python",
   "name": "python3"
  },
  "language_info": {
   "codemirror_mode": {
    "name": "ipython",
    "version": 3
   },
   "file_extension": ".py",
   "mimetype": "text/x-python",
   "name": "python",
   "nbconvert_exporter": "python",
   "pygments_lexer": "ipython3",
   "version": "3.10.7"
  }
 },
 "nbformat": 4,
 "nbformat_minor": 0
}
