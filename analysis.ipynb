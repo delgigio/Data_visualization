{
 "cells": [
  {
   "cell_type": "code",
   "execution_count": 11,
   "metadata": {
    "collapsed": true
   },
   "outputs": [
    {
     "data": {
      "application/vnd.plotly.v1+json": {
       "data": [
        {
         "hovertemplate": "<b>%{hovertext}</b><br><br>exports=Brazil<br>Year=%{x}<br>CountryIndex=%{y}<br>ExportVolume=%{marker.size}<extra></extra>",
         "hovertext": [
          "Brazil"
         ],
         "legendgroup": "Brazil",
         "marker": {
          "color": "#636efa",
          "size": [
           16935.7876003
          ],
          "sizemode": "area",
          "sizeref": 10.434124096333333,
          "symbol": "circle"
         },
         "mode": "markers",
         "name": "Brazil",
         "orientation": "v",
         "showlegend": true,
         "x": [
          1990
         ],
         "xaxis": "x",
         "y": [
          0
         ],
         "yaxis": "y",
         "type": "scatter"
        },
        {
         "hovertemplate": "<b>%{hovertext}</b><br><br>exports=Colombia<br>Year=%{x}<br>CountryIndex=%{y}<br>ExportVolume=%{marker.size}<extra></extra>",
         "hovertext": [
          "Colombia"
         ],
         "legendgroup": "Colombia",
         "marker": {
          "color": "#EF553B",
          "size": [
           13943.8700004
          ],
          "sizemode": "area",
          "sizeref": 10.434124096333333,
          "symbol": "circle"
         },
         "mode": "markers",
         "name": "Colombia",
         "orientation": "v",
         "showlegend": true,
         "x": [
          1990
         ],
         "xaxis": "x",
         "y": [
          1
         ],
         "yaxis": "y",
         "type": "scatter"
        },
        {
         "hovertemplate": "<b>%{hovertext}</b><br><br>exports=Ethiopia<br>Year=%{x}<br>CountryIndex=%{y}<br>ExportVolume=%{marker.size}<extra></extra>",
         "hovertext": [
          "Ethiopia"
         ],
         "legendgroup": "Ethiopia",
         "marker": {
          "color": "#00cc96",
          "size": [
           1074.101
          ],
          "sizemode": "area",
          "sizeref": 10.434124096333333,
          "symbol": "circle"
         },
         "mode": "markers",
         "name": "Ethiopia",
         "orientation": "v",
         "showlegend": true,
         "x": [
          1990
         ],
         "xaxis": "x",
         "y": [
          2
         ],
         "yaxis": "y",
         "type": "scatter"
        },
        {
         "hovertemplate": "<b>%{hovertext}</b><br><br>exports=Honduras<br>Year=%{x}<br>CountryIndex=%{y}<br>ExportVolume=%{marker.size}<extra></extra>",
         "hovertext": [
          "Honduras"
         ],
         "legendgroup": "Honduras",
         "marker": {
          "color": "#ab63fa",
          "size": [
           1735.093
          ],
          "sizemode": "area",
          "sizeref": 10.434124096333333,
          "symbol": "circle"
         },
         "mode": "markers",
         "name": "Honduras",
         "orientation": "v",
         "showlegend": true,
         "x": [
          1990
         ],
         "xaxis": "x",
         "y": [
          3
         ],
         "yaxis": "y",
         "type": "scatter"
        },
        {
         "hovertemplate": "<b>%{hovertext}</b><br><br>exports=Indonesia<br>Year=%{x}<br>CountryIndex=%{y}<br>ExportVolume=%{marker.size}<extra></extra>",
         "hovertext": [
          "Indonesia"
         ],
         "legendgroup": "Indonesia",
         "marker": {
          "color": "#FFA15A",
          "size": [
           6903.2269994
          ],
          "sizemode": "area",
          "sizeref": 10.434124096333333,
          "symbol": "circle"
         },
         "mode": "markers",
         "name": "Indonesia",
         "orientation": "v",
         "showlegend": true,
         "x": [
          1990
         ],
         "xaxis": "x",
         "y": [
          4
         ],
         "yaxis": "y",
         "type": "scatter"
        }
       ],
       "layout": {
        "template": {
         "data": {
          "histogram2dcontour": [
           {
            "type": "histogram2dcontour",
            "colorbar": {
             "outlinewidth": 0,
             "ticks": ""
            },
            "colorscale": [
             [
              0.0,
              "#0d0887"
             ],
             [
              0.1111111111111111,
              "#46039f"
             ],
             [
              0.2222222222222222,
              "#7201a8"
             ],
             [
              0.3333333333333333,
              "#9c179e"
             ],
             [
              0.4444444444444444,
              "#bd3786"
             ],
             [
              0.5555555555555556,
              "#d8576b"
             ],
             [
              0.6666666666666666,
              "#ed7953"
             ],
             [
              0.7777777777777778,
              "#fb9f3a"
             ],
             [
              0.8888888888888888,
              "#fdca26"
             ],
             [
              1.0,
              "#f0f921"
             ]
            ]
           }
          ],
          "choropleth": [
           {
            "type": "choropleth",
            "colorbar": {
             "outlinewidth": 0,
             "ticks": ""
            }
           }
          ],
          "histogram2d": [
           {
            "type": "histogram2d",
            "colorbar": {
             "outlinewidth": 0,
             "ticks": ""
            },
            "colorscale": [
             [
              0.0,
              "#0d0887"
             ],
             [
              0.1111111111111111,
              "#46039f"
             ],
             [
              0.2222222222222222,
              "#7201a8"
             ],
             [
              0.3333333333333333,
              "#9c179e"
             ],
             [
              0.4444444444444444,
              "#bd3786"
             ],
             [
              0.5555555555555556,
              "#d8576b"
             ],
             [
              0.6666666666666666,
              "#ed7953"
             ],
             [
              0.7777777777777778,
              "#fb9f3a"
             ],
             [
              0.8888888888888888,
              "#fdca26"
             ],
             [
              1.0,
              "#f0f921"
             ]
            ]
           }
          ],
          "heatmap": [
           {
            "type": "heatmap",
            "colorbar": {
             "outlinewidth": 0,
             "ticks": ""
            },
            "colorscale": [
             [
              0.0,
              "#0d0887"
             ],
             [
              0.1111111111111111,
              "#46039f"
             ],
             [
              0.2222222222222222,
              "#7201a8"
             ],
             [
              0.3333333333333333,
              "#9c179e"
             ],
             [
              0.4444444444444444,
              "#bd3786"
             ],
             [
              0.5555555555555556,
              "#d8576b"
             ],
             [
              0.6666666666666666,
              "#ed7953"
             ],
             [
              0.7777777777777778,
              "#fb9f3a"
             ],
             [
              0.8888888888888888,
              "#fdca26"
             ],
             [
              1.0,
              "#f0f921"
             ]
            ]
           }
          ],
          "heatmapgl": [
           {
            "type": "heatmapgl",
            "colorbar": {
             "outlinewidth": 0,
             "ticks": ""
            },
            "colorscale": [
             [
              0.0,
              "#0d0887"
             ],
             [
              0.1111111111111111,
              "#46039f"
             ],
             [
              0.2222222222222222,
              "#7201a8"
             ],
             [
              0.3333333333333333,
              "#9c179e"
             ],
             [
              0.4444444444444444,
              "#bd3786"
             ],
             [
              0.5555555555555556,
              "#d8576b"
             ],
             [
              0.6666666666666666,
              "#ed7953"
             ],
             [
              0.7777777777777778,
              "#fb9f3a"
             ],
             [
              0.8888888888888888,
              "#fdca26"
             ],
             [
              1.0,
              "#f0f921"
             ]
            ]
           }
          ],
          "contourcarpet": [
           {
            "type": "contourcarpet",
            "colorbar": {
             "outlinewidth": 0,
             "ticks": ""
            }
           }
          ],
          "contour": [
           {
            "type": "contour",
            "colorbar": {
             "outlinewidth": 0,
             "ticks": ""
            },
            "colorscale": [
             [
              0.0,
              "#0d0887"
             ],
             [
              0.1111111111111111,
              "#46039f"
             ],
             [
              0.2222222222222222,
              "#7201a8"
             ],
             [
              0.3333333333333333,
              "#9c179e"
             ],
             [
              0.4444444444444444,
              "#bd3786"
             ],
             [
              0.5555555555555556,
              "#d8576b"
             ],
             [
              0.6666666666666666,
              "#ed7953"
             ],
             [
              0.7777777777777778,
              "#fb9f3a"
             ],
             [
              0.8888888888888888,
              "#fdca26"
             ],
             [
              1.0,
              "#f0f921"
             ]
            ]
           }
          ],
          "surface": [
           {
            "type": "surface",
            "colorbar": {
             "outlinewidth": 0,
             "ticks": ""
            },
            "colorscale": [
             [
              0.0,
              "#0d0887"
             ],
             [
              0.1111111111111111,
              "#46039f"
             ],
             [
              0.2222222222222222,
              "#7201a8"
             ],
             [
              0.3333333333333333,
              "#9c179e"
             ],
             [
              0.4444444444444444,
              "#bd3786"
             ],
             [
              0.5555555555555556,
              "#d8576b"
             ],
             [
              0.6666666666666666,
              "#ed7953"
             ],
             [
              0.7777777777777778,
              "#fb9f3a"
             ],
             [
              0.8888888888888888,
              "#fdca26"
             ],
             [
              1.0,
              "#f0f921"
             ]
            ]
           }
          ],
          "mesh3d": [
           {
            "type": "mesh3d",
            "colorbar": {
             "outlinewidth": 0,
             "ticks": ""
            }
           }
          ],
          "scatter": [
           {
            "marker": {
             "line": {
              "color": "#283442"
             }
            },
            "type": "scatter"
           }
          ],
          "parcoords": [
           {
            "type": "parcoords",
            "line": {
             "colorbar": {
              "outlinewidth": 0,
              "ticks": ""
             }
            }
           }
          ],
          "scatterpolargl": [
           {
            "type": "scatterpolargl",
            "marker": {
             "colorbar": {
              "outlinewidth": 0,
              "ticks": ""
             }
            }
           }
          ],
          "bar": [
           {
            "error_x": {
             "color": "#f2f5fa"
            },
            "error_y": {
             "color": "#f2f5fa"
            },
            "marker": {
             "line": {
              "color": "rgb(17,17,17)",
              "width": 0.5
             },
             "pattern": {
              "fillmode": "overlay",
              "size": 10,
              "solidity": 0.2
             }
            },
            "type": "bar"
           }
          ],
          "scattergeo": [
           {
            "type": "scattergeo",
            "marker": {
             "colorbar": {
              "outlinewidth": 0,
              "ticks": ""
             }
            }
           }
          ],
          "scatterpolar": [
           {
            "type": "scatterpolar",
            "marker": {
             "colorbar": {
              "outlinewidth": 0,
              "ticks": ""
             }
            }
           }
          ],
          "histogram": [
           {
            "marker": {
             "pattern": {
              "fillmode": "overlay",
              "size": 10,
              "solidity": 0.2
             }
            },
            "type": "histogram"
           }
          ],
          "scattergl": [
           {
            "marker": {
             "line": {
              "color": "#283442"
             }
            },
            "type": "scattergl"
           }
          ],
          "scatter3d": [
           {
            "type": "scatter3d",
            "line": {
             "colorbar": {
              "outlinewidth": 0,
              "ticks": ""
             }
            },
            "marker": {
             "colorbar": {
              "outlinewidth": 0,
              "ticks": ""
             }
            }
           }
          ],
          "scattermapbox": [
           {
            "type": "scattermapbox",
            "marker": {
             "colorbar": {
              "outlinewidth": 0,
              "ticks": ""
             }
            }
           }
          ],
          "scatterternary": [
           {
            "type": "scatterternary",
            "marker": {
             "colorbar": {
              "outlinewidth": 0,
              "ticks": ""
             }
            }
           }
          ],
          "scattercarpet": [
           {
            "type": "scattercarpet",
            "marker": {
             "colorbar": {
              "outlinewidth": 0,
              "ticks": ""
             }
            }
           }
          ],
          "carpet": [
           {
            "aaxis": {
             "endlinecolor": "#A2B1C6",
             "gridcolor": "#506784",
             "linecolor": "#506784",
             "minorgridcolor": "#506784",
             "startlinecolor": "#A2B1C6"
            },
            "baxis": {
             "endlinecolor": "#A2B1C6",
             "gridcolor": "#506784",
             "linecolor": "#506784",
             "minorgridcolor": "#506784",
             "startlinecolor": "#A2B1C6"
            },
            "type": "carpet"
           }
          ],
          "table": [
           {
            "cells": {
             "fill": {
              "color": "#506784"
             },
             "line": {
              "color": "rgb(17,17,17)"
             }
            },
            "header": {
             "fill": {
              "color": "#2a3f5f"
             },
             "line": {
              "color": "rgb(17,17,17)"
             }
            },
            "type": "table"
           }
          ],
          "barpolar": [
           {
            "marker": {
             "line": {
              "color": "rgb(17,17,17)",
              "width": 0.5
             },
             "pattern": {
              "fillmode": "overlay",
              "size": 10,
              "solidity": 0.2
             }
            },
            "type": "barpolar"
           }
          ],
          "pie": [
           {
            "automargin": true,
            "type": "pie"
           }
          ]
         },
         "layout": {
          "autotypenumbers": "strict",
          "colorway": [
           "#636efa",
           "#EF553B",
           "#00cc96",
           "#ab63fa",
           "#FFA15A",
           "#19d3f3",
           "#FF6692",
           "#B6E880",
           "#FF97FF",
           "#FECB52"
          ],
          "font": {
           "color": "#f2f5fa"
          },
          "hovermode": "closest",
          "hoverlabel": {
           "align": "left"
          },
          "paper_bgcolor": "rgb(17,17,17)",
          "plot_bgcolor": "rgb(17,17,17)",
          "polar": {
           "bgcolor": "rgb(17,17,17)",
           "angularaxis": {
            "gridcolor": "#506784",
            "linecolor": "#506784",
            "ticks": ""
           },
           "radialaxis": {
            "gridcolor": "#506784",
            "linecolor": "#506784",
            "ticks": ""
           }
          },
          "ternary": {
           "bgcolor": "rgb(17,17,17)",
           "aaxis": {
            "gridcolor": "#506784",
            "linecolor": "#506784",
            "ticks": ""
           },
           "baxis": {
            "gridcolor": "#506784",
            "linecolor": "#506784",
            "ticks": ""
           },
           "caxis": {
            "gridcolor": "#506784",
            "linecolor": "#506784",
            "ticks": ""
           }
          },
          "coloraxis": {
           "colorbar": {
            "outlinewidth": 0,
            "ticks": ""
           }
          },
          "colorscale": {
           "sequential": [
            [
             0.0,
             "#0d0887"
            ],
            [
             0.1111111111111111,
             "#46039f"
            ],
            [
             0.2222222222222222,
             "#7201a8"
            ],
            [
             0.3333333333333333,
             "#9c179e"
            ],
            [
             0.4444444444444444,
             "#bd3786"
            ],
            [
             0.5555555555555556,
             "#d8576b"
            ],
            [
             0.6666666666666666,
             "#ed7953"
            ],
            [
             0.7777777777777778,
             "#fb9f3a"
            ],
            [
             0.8888888888888888,
             "#fdca26"
            ],
            [
             1.0,
             "#f0f921"
            ]
           ],
           "sequentialminus": [
            [
             0.0,
             "#0d0887"
            ],
            [
             0.1111111111111111,
             "#46039f"
            ],
            [
             0.2222222222222222,
             "#7201a8"
            ],
            [
             0.3333333333333333,
             "#9c179e"
            ],
            [
             0.4444444444444444,
             "#bd3786"
            ],
            [
             0.5555555555555556,
             "#d8576b"
            ],
            [
             0.6666666666666666,
             "#ed7953"
            ],
            [
             0.7777777777777778,
             "#fb9f3a"
            ],
            [
             0.8888888888888888,
             "#fdca26"
            ],
            [
             1.0,
             "#f0f921"
            ]
           ],
           "diverging": [
            [
             0,
             "#8e0152"
            ],
            [
             0.1,
             "#c51b7d"
            ],
            [
             0.2,
             "#de77ae"
            ],
            [
             0.3,
             "#f1b6da"
            ],
            [
             0.4,
             "#fde0ef"
            ],
            [
             0.5,
             "#f7f7f7"
            ],
            [
             0.6,
             "#e6f5d0"
            ],
            [
             0.7,
             "#b8e186"
            ],
            [
             0.8,
             "#7fbc41"
            ],
            [
             0.9,
             "#4d9221"
            ],
            [
             1,
             "#276419"
            ]
           ]
          },
          "xaxis": {
           "gridcolor": "#283442",
           "linecolor": "#506784",
           "ticks": "",
           "title": {
            "standoff": 15
           },
           "zerolinecolor": "#283442",
           "automargin": true,
           "zerolinewidth": 2
          },
          "yaxis": {
           "gridcolor": "#283442",
           "linecolor": "#506784",
           "ticks": "",
           "title": {
            "standoff": 15
           },
           "zerolinecolor": "#283442",
           "automargin": true,
           "zerolinewidth": 2
          },
          "scene": {
           "xaxis": {
            "backgroundcolor": "rgb(17,17,17)",
            "gridcolor": "#506784",
            "linecolor": "#506784",
            "showbackground": true,
            "ticks": "",
            "zerolinecolor": "#C8D4E3",
            "gridwidth": 2
           },
           "yaxis": {
            "backgroundcolor": "rgb(17,17,17)",
            "gridcolor": "#506784",
            "linecolor": "#506784",
            "showbackground": true,
            "ticks": "",
            "zerolinecolor": "#C8D4E3",
            "gridwidth": 2
           },
           "zaxis": {
            "backgroundcolor": "rgb(17,17,17)",
            "gridcolor": "#506784",
            "linecolor": "#506784",
            "showbackground": true,
            "ticks": "",
            "zerolinecolor": "#C8D4E3",
            "gridwidth": 2
           }
          },
          "shapedefaults": {
           "line": {
            "color": "#f2f5fa"
           }
          },
          "annotationdefaults": {
           "arrowcolor": "#f2f5fa",
           "arrowhead": 0,
           "arrowwidth": 1
          },
          "geo": {
           "bgcolor": "rgb(17,17,17)",
           "landcolor": "rgb(17,17,17)",
           "subunitcolor": "#506784",
           "showland": true,
           "showlakes": true,
           "lakecolor": "rgb(17,17,17)"
          },
          "title": {
           "x": 0.05
          },
          "updatemenudefaults": {
           "bgcolor": "#506784",
           "borderwidth": 0
          },
          "sliderdefaults": {
           "bgcolor": "#C8D4E3",
           "borderwidth": 1,
           "bordercolor": "rgb(17,17,17)",
           "tickwidth": 0
          },
          "mapbox": {
           "style": "dark"
          }
         }
        },
        "xaxis": {
         "anchor": "y",
         "domain": [
          0.0,
          1.0
         ],
         "title": {
          "text": "Year"
         },
         "range": [
          1990,
          2018
         ],
         "categoryorder": "array",
         "categoryarray": [
          1990,
          1991,
          1992,
          1993,
          1994,
          1995,
          1996,
          1997,
          1998,
          1999,
          2000,
          2001,
          2002,
          2003,
          2004,
          2005,
          2006,
          2007,
          2008,
          2009,
          2010,
          2011,
          2012,
          2013,
          2014,
          2015,
          2016,
          2017,
          2018
         ]
        },
        "yaxis": {
         "anchor": "x",
         "domain": [
          0.0,
          1.0
         ],
         "title": {
          "text": "CountryIndex"
         },
         "tickvals": [
          0,
          1,
          2,
          3,
          4
         ],
         "ticktext": [
          "Brazil",
          "Colombia",
          "Ethiopia",
          "Honduras",
          "Indonesia"
         ]
        },
        "legend": {
         "title": {
          "text": "exports"
         },
         "tracegroupgap": 0,
         "itemsizing": "constant"
        },
        "margin": {
         "t": 60
        },
        "updatemenus": [
         {
          "buttons": [
           {
            "args": [
             null,
             {
              "frame": {
               "duration": 500,
               "redraw": false
              },
              "mode": "immediate",
              "fromcurrent": true,
              "transition": {
               "duration": 500,
               "easing": "linear"
              }
             }
            ],
            "label": "&#9654;",
            "method": "animate"
           },
           {
            "args": [
             [
              null
             ],
             {
              "frame": {
               "duration": 0,
               "redraw": false
              },
              "mode": "immediate",
              "fromcurrent": true,
              "transition": {
               "duration": 0,
               "easing": "linear"
              }
             }
            ],
            "label": "&#9724;",
            "method": "animate"
           }
          ],
          "direction": "left",
          "pad": {
           "r": 10,
           "t": 70
          },
          "showactive": false,
          "type": "buttons",
          "x": 0.1,
          "xanchor": "right",
          "y": 0,
          "yanchor": "top"
         }
        ],
        "sliders": [
         {
          "active": 0,
          "currentvalue": {
           "prefix": "Year="
          },
          "len": 0.9,
          "pad": {
           "b": 10,
           "t": 60
          },
          "steps": [
           {
            "args": [
             [
              "1990"
             ],
             {
              "frame": {
               "duration": 0,
               "redraw": false
              },
              "mode": "immediate",
              "fromcurrent": true,
              "transition": {
               "duration": 0,
               "easing": "linear"
              }
             }
            ],
            "label": "1990",
            "method": "animate"
           },
           {
            "args": [
             [
              "1991"
             ],
             {
              "frame": {
               "duration": 0,
               "redraw": false
              },
              "mode": "immediate",
              "fromcurrent": true,
              "transition": {
               "duration": 0,
               "easing": "linear"
              }
             }
            ],
            "label": "1991",
            "method": "animate"
           },
           {
            "args": [
             [
              "1992"
             ],
             {
              "frame": {
               "duration": 0,
               "redraw": false
              },
              "mode": "immediate",
              "fromcurrent": true,
              "transition": {
               "duration": 0,
               "easing": "linear"
              }
             }
            ],
            "label": "1992",
            "method": "animate"
           },
           {
            "args": [
             [
              "1993"
             ],
             {
              "frame": {
               "duration": 0,
               "redraw": false
              },
              "mode": "immediate",
              "fromcurrent": true,
              "transition": {
               "duration": 0,
               "easing": "linear"
              }
             }
            ],
            "label": "1993",
            "method": "animate"
           },
           {
            "args": [
             [
              "1994"
             ],
             {
              "frame": {
               "duration": 0,
               "redraw": false
              },
              "mode": "immediate",
              "fromcurrent": true,
              "transition": {
               "duration": 0,
               "easing": "linear"
              }
             }
            ],
            "label": "1994",
            "method": "animate"
           },
           {
            "args": [
             [
              "1995"
             ],
             {
              "frame": {
               "duration": 0,
               "redraw": false
              },
              "mode": "immediate",
              "fromcurrent": true,
              "transition": {
               "duration": 0,
               "easing": "linear"
              }
             }
            ],
            "label": "1995",
            "method": "animate"
           },
           {
            "args": [
             [
              "1996"
             ],
             {
              "frame": {
               "duration": 0,
               "redraw": false
              },
              "mode": "immediate",
              "fromcurrent": true,
              "transition": {
               "duration": 0,
               "easing": "linear"
              }
             }
            ],
            "label": "1996",
            "method": "animate"
           },
           {
            "args": [
             [
              "1997"
             ],
             {
              "frame": {
               "duration": 0,
               "redraw": false
              },
              "mode": "immediate",
              "fromcurrent": true,
              "transition": {
               "duration": 0,
               "easing": "linear"
              }
             }
            ],
            "label": "1997",
            "method": "animate"
           },
           {
            "args": [
             [
              "1998"
             ],
             {
              "frame": {
               "duration": 0,
               "redraw": false
              },
              "mode": "immediate",
              "fromcurrent": true,
              "transition": {
               "duration": 0,
               "easing": "linear"
              }
             }
            ],
            "label": "1998",
            "method": "animate"
           },
           {
            "args": [
             [
              "1999"
             ],
             {
              "frame": {
               "duration": 0,
               "redraw": false
              },
              "mode": "immediate",
              "fromcurrent": true,
              "transition": {
               "duration": 0,
               "easing": "linear"
              }
             }
            ],
            "label": "1999",
            "method": "animate"
           },
           {
            "args": [
             [
              "2000"
             ],
             {
              "frame": {
               "duration": 0,
               "redraw": false
              },
              "mode": "immediate",
              "fromcurrent": true,
              "transition": {
               "duration": 0,
               "easing": "linear"
              }
             }
            ],
            "label": "2000",
            "method": "animate"
           },
           {
            "args": [
             [
              "2001"
             ],
             {
              "frame": {
               "duration": 0,
               "redraw": false
              },
              "mode": "immediate",
              "fromcurrent": true,
              "transition": {
               "duration": 0,
               "easing": "linear"
              }
             }
            ],
            "label": "2001",
            "method": "animate"
           },
           {
            "args": [
             [
              "2002"
             ],
             {
              "frame": {
               "duration": 0,
               "redraw": false
              },
              "mode": "immediate",
              "fromcurrent": true,
              "transition": {
               "duration": 0,
               "easing": "linear"
              }
             }
            ],
            "label": "2002",
            "method": "animate"
           },
           {
            "args": [
             [
              "2003"
             ],
             {
              "frame": {
               "duration": 0,
               "redraw": false
              },
              "mode": "immediate",
              "fromcurrent": true,
              "transition": {
               "duration": 0,
               "easing": "linear"
              }
             }
            ],
            "label": "2003",
            "method": "animate"
           },
           {
            "args": [
             [
              "2004"
             ],
             {
              "frame": {
               "duration": 0,
               "redraw": false
              },
              "mode": "immediate",
              "fromcurrent": true,
              "transition": {
               "duration": 0,
               "easing": "linear"
              }
             }
            ],
            "label": "2004",
            "method": "animate"
           },
           {
            "args": [
             [
              "2005"
             ],
             {
              "frame": {
               "duration": 0,
               "redraw": false
              },
              "mode": "immediate",
              "fromcurrent": true,
              "transition": {
               "duration": 0,
               "easing": "linear"
              }
             }
            ],
            "label": "2005",
            "method": "animate"
           },
           {
            "args": [
             [
              "2006"
             ],
             {
              "frame": {
               "duration": 0,
               "redraw": false
              },
              "mode": "immediate",
              "fromcurrent": true,
              "transition": {
               "duration": 0,
               "easing": "linear"
              }
             }
            ],
            "label": "2006",
            "method": "animate"
           },
           {
            "args": [
             [
              "2007"
             ],
             {
              "frame": {
               "duration": 0,
               "redraw": false
              },
              "mode": "immediate",
              "fromcurrent": true,
              "transition": {
               "duration": 0,
               "easing": "linear"
              }
             }
            ],
            "label": "2007",
            "method": "animate"
           },
           {
            "args": [
             [
              "2008"
             ],
             {
              "frame": {
               "duration": 0,
               "redraw": false
              },
              "mode": "immediate",
              "fromcurrent": true,
              "transition": {
               "duration": 0,
               "easing": "linear"
              }
             }
            ],
            "label": "2008",
            "method": "animate"
           },
           {
            "args": [
             [
              "2009"
             ],
             {
              "frame": {
               "duration": 0,
               "redraw": false
              },
              "mode": "immediate",
              "fromcurrent": true,
              "transition": {
               "duration": 0,
               "easing": "linear"
              }
             }
            ],
            "label": "2009",
            "method": "animate"
           },
           {
            "args": [
             [
              "2010"
             ],
             {
              "frame": {
               "duration": 0,
               "redraw": false
              },
              "mode": "immediate",
              "fromcurrent": true,
              "transition": {
               "duration": 0,
               "easing": "linear"
              }
             }
            ],
            "label": "2010",
            "method": "animate"
           },
           {
            "args": [
             [
              "2011"
             ],
             {
              "frame": {
               "duration": 0,
               "redraw": false
              },
              "mode": "immediate",
              "fromcurrent": true,
              "transition": {
               "duration": 0,
               "easing": "linear"
              }
             }
            ],
            "label": "2011",
            "method": "animate"
           },
           {
            "args": [
             [
              "2012"
             ],
             {
              "frame": {
               "duration": 0,
               "redraw": false
              },
              "mode": "immediate",
              "fromcurrent": true,
              "transition": {
               "duration": 0,
               "easing": "linear"
              }
             }
            ],
            "label": "2012",
            "method": "animate"
           },
           {
            "args": [
             [
              "2013"
             ],
             {
              "frame": {
               "duration": 0,
               "redraw": false
              },
              "mode": "immediate",
              "fromcurrent": true,
              "transition": {
               "duration": 0,
               "easing": "linear"
              }
             }
            ],
            "label": "2013",
            "method": "animate"
           },
           {
            "args": [
             [
              "2014"
             ],
             {
              "frame": {
               "duration": 0,
               "redraw": false
              },
              "mode": "immediate",
              "fromcurrent": true,
              "transition": {
               "duration": 0,
               "easing": "linear"
              }
             }
            ],
            "label": "2014",
            "method": "animate"
           },
           {
            "args": [
             [
              "2015"
             ],
             {
              "frame": {
               "duration": 0,
               "redraw": false
              },
              "mode": "immediate",
              "fromcurrent": true,
              "transition": {
               "duration": 0,
               "easing": "linear"
              }
             }
            ],
            "label": "2015",
            "method": "animate"
           },
           {
            "args": [
             [
              "2016"
             ],
             {
              "frame": {
               "duration": 0,
               "redraw": false
              },
              "mode": "immediate",
              "fromcurrent": true,
              "transition": {
               "duration": 0,
               "easing": "linear"
              }
             }
            ],
            "label": "2016",
            "method": "animate"
           },
           {
            "args": [
             [
              "2017"
             ],
             {
              "frame": {
               "duration": 0,
               "redraw": false
              },
              "mode": "immediate",
              "fromcurrent": true,
              "transition": {
               "duration": 0,
               "easing": "linear"
              }
             }
            ],
            "label": "2017",
            "method": "animate"
           },
           {
            "args": [
             [
              "2018"
             ],
             {
              "frame": {
               "duration": 0,
               "redraw": false
              },
              "mode": "immediate",
              "fromcurrent": true,
              "transition": {
               "duration": 0,
               "easing": "linear"
              }
             }
            ],
            "label": "2018",
            "method": "animate"
           }
          ],
          "x": 0.1,
          "xanchor": "left",
          "y": 0,
          "yanchor": "top"
         }
        ]
       },
       "frames": [
        {
         "data": [
          {
           "hovertemplate": "<b>%{hovertext}</b><br><br>exports=Brazil<br>Year=%{x}<br>CountryIndex=%{y}<br>ExportVolume=%{marker.size}<extra></extra>",
           "hovertext": [
            "Brazil"
           ],
           "legendgroup": "Brazil",
           "marker": {
            "color": "#636efa",
            "size": [
             16935.7876003
            ],
            "sizemode": "area",
            "sizeref": 10.434124096333333,
            "symbol": "circle"
           },
           "mode": "markers",
           "name": "Brazil",
           "orientation": "v",
           "showlegend": true,
           "x": [
            1990
           ],
           "xaxis": "x",
           "y": [
            0
           ],
           "yaxis": "y",
           "type": "scatter"
          },
          {
           "hovertemplate": "<b>%{hovertext}</b><br><br>exports=Colombia<br>Year=%{x}<br>CountryIndex=%{y}<br>ExportVolume=%{marker.size}<extra></extra>",
           "hovertext": [
            "Colombia"
           ],
           "legendgroup": "Colombia",
           "marker": {
            "color": "#EF553B",
            "size": [
             13943.8700004
            ],
            "sizemode": "area",
            "sizeref": 10.434124096333333,
            "symbol": "circle"
           },
           "mode": "markers",
           "name": "Colombia",
           "orientation": "v",
           "showlegend": true,
           "x": [
            1990
           ],
           "xaxis": "x",
           "y": [
            1
           ],
           "yaxis": "y",
           "type": "scatter"
          },
          {
           "hovertemplate": "<b>%{hovertext}</b><br><br>exports=Ethiopia<br>Year=%{x}<br>CountryIndex=%{y}<br>ExportVolume=%{marker.size}<extra></extra>",
           "hovertext": [
            "Ethiopia"
           ],
           "legendgroup": "Ethiopia",
           "marker": {
            "color": "#00cc96",
            "size": [
             1074.101
            ],
            "sizemode": "area",
            "sizeref": 10.434124096333333,
            "symbol": "circle"
           },
           "mode": "markers",
           "name": "Ethiopia",
           "orientation": "v",
           "showlegend": true,
           "x": [
            1990
           ],
           "xaxis": "x",
           "y": [
            2
           ],
           "yaxis": "y",
           "type": "scatter"
          },
          {
           "hovertemplate": "<b>%{hovertext}</b><br><br>exports=Honduras<br>Year=%{x}<br>CountryIndex=%{y}<br>ExportVolume=%{marker.size}<extra></extra>",
           "hovertext": [
            "Honduras"
           ],
           "legendgroup": "Honduras",
           "marker": {
            "color": "#ab63fa",
            "size": [
             1735.093
            ],
            "sizemode": "area",
            "sizeref": 10.434124096333333,
            "symbol": "circle"
           },
           "mode": "markers",
           "name": "Honduras",
           "orientation": "v",
           "showlegend": true,
           "x": [
            1990
           ],
           "xaxis": "x",
           "y": [
            3
           ],
           "yaxis": "y",
           "type": "scatter"
          },
          {
           "hovertemplate": "<b>%{hovertext}</b><br><br>exports=Indonesia<br>Year=%{x}<br>CountryIndex=%{y}<br>ExportVolume=%{marker.size}<extra></extra>",
           "hovertext": [
            "Indonesia"
           ],
           "legendgroup": "Indonesia",
           "marker": {
            "color": "#FFA15A",
            "size": [
             6903.2269994
            ],
            "sizemode": "area",
            "sizeref": 10.434124096333333,
            "symbol": "circle"
           },
           "mode": "markers",
           "name": "Indonesia",
           "orientation": "v",
           "showlegend": true,
           "x": [
            1990
           ],
           "xaxis": "x",
           "y": [
            4
           ],
           "yaxis": "y",
           "type": "scatter"
          }
         ],
         "name": "1990"
        },
        {
         "data": [
          {
           "hovertemplate": "<b>%{hovertext}</b><br><br>exports=Brazil<br>Year=%{x}<br>CountryIndex=%{y}<br>ExportVolume=%{marker.size}<extra></extra>",
           "hovertext": [
            "Brazil"
           ],
           "legendgroup": "Brazil",
           "marker": {
            "color": "#636efa",
            "size": [
             21182.7614023
            ],
            "sizemode": "area",
            "sizeref": 10.434124096333333,
            "symbol": "circle"
           },
           "mode": "markers",
           "name": "Brazil",
           "orientation": "v",
           "showlegend": true,
           "x": [
            1991
           ],
           "xaxis": "x",
           "y": [
            0
           ],
           "yaxis": "y",
           "type": "scatter"
          },
          {
           "hovertemplate": "<b>%{hovertext}</b><br><br>exports=Colombia<br>Year=%{x}<br>CountryIndex=%{y}<br>ExportVolume=%{marker.size}<extra></extra>",
           "hovertext": [
            "Colombia"
           ],
           "legendgroup": "Colombia",
           "marker": {
            "color": "#EF553B",
            "size": [
             12599.1849983
            ],
            "sizemode": "area",
            "sizeref": 10.434124096333333,
            "symbol": "circle"
           },
           "mode": "markers",
           "name": "Colombia",
           "orientation": "v",
           "showlegend": true,
           "x": [
            1991
           ],
           "xaxis": "x",
           "y": [
            1
           ],
           "yaxis": "y",
           "type": "scatter"
          },
          {
           "hovertemplate": "<b>%{hovertext}</b><br><br>exports=Ethiopia<br>Year=%{x}<br>CountryIndex=%{y}<br>ExportVolume=%{marker.size}<extra></extra>",
           "hovertext": [
            "Ethiopia"
           ],
           "legendgroup": "Ethiopia",
           "marker": {
            "color": "#00cc96",
            "size": [
             841.329
            ],
            "sizemode": "area",
            "sizeref": 10.434124096333333,
            "symbol": "circle"
           },
           "mode": "markers",
           "name": "Ethiopia",
           "orientation": "v",
           "showlegend": true,
           "x": [
            1991
           ],
           "xaxis": "x",
           "y": [
            2
           ],
           "yaxis": "y",
           "type": "scatter"
          },
          {
           "hovertemplate": "<b>%{hovertext}</b><br><br>exports=Honduras<br>Year=%{x}<br>CountryIndex=%{y}<br>ExportVolume=%{marker.size}<extra></extra>",
           "hovertext": [
            "Honduras"
           ],
           "legendgroup": "Honduras",
           "marker": {
            "color": "#ab63fa",
            "size": [
             1444.363
            ],
            "sizemode": "area",
            "sizeref": 10.434124096333333,
            "symbol": "circle"
           },
           "mode": "markers",
           "name": "Honduras",
           "orientation": "v",
           "showlegend": true,
           "x": [
            1991
           ],
           "xaxis": "x",
           "y": [
            3
           ],
           "yaxis": "y",
           "type": "scatter"
          },
          {
           "hovertemplate": "<b>%{hovertext}</b><br><br>exports=Indonesia<br>Year=%{x}<br>CountryIndex=%{y}<br>ExportVolume=%{marker.size}<extra></extra>",
           "hovertext": [
            "Indonesia"
           ],
           "legendgroup": "Indonesia",
           "marker": {
            "color": "#FFA15A",
            "size": [
             6170.7960001
            ],
            "sizemode": "area",
            "sizeref": 10.434124096333333,
            "symbol": "circle"
           },
           "mode": "markers",
           "name": "Indonesia",
           "orientation": "v",
           "showlegend": true,
           "x": [
            1991
           ],
           "xaxis": "x",
           "y": [
            4
           ],
           "yaxis": "y",
           "type": "scatter"
          }
         ],
         "name": "1991"
        },
        {
         "data": [
          {
           "hovertemplate": "<b>%{hovertext}</b><br><br>exports=Brazil<br>Year=%{x}<br>CountryIndex=%{y}<br>ExportVolume=%{marker.size}<extra></extra>",
           "hovertext": [
            "Brazil"
           ],
           "legendgroup": "Brazil",
           "marker": {
            "color": "#636efa",
            "size": [
             18790.7192021
            ],
            "sizemode": "area",
            "sizeref": 10.434124096333333,
            "symbol": "circle"
           },
           "mode": "markers",
           "name": "Brazil",
           "orientation": "v",
           "showlegend": true,
           "x": [
            1992
           ],
           "xaxis": "x",
           "y": [
            0
           ],
           "yaxis": "y",
           "type": "scatter"
          },
          {
           "hovertemplate": "<b>%{hovertext}</b><br><br>exports=Colombia<br>Year=%{x}<br>CountryIndex=%{y}<br>ExportVolume=%{marker.size}<extra></extra>",
           "hovertext": [
            "Colombia"
           ],
           "legendgroup": "Colombia",
           "marker": {
            "color": "#EF553B",
            "size": [
             16564.3700008
            ],
            "sizemode": "area",
            "sizeref": 10.434124096333333,
            "symbol": "circle"
           },
           "mode": "markers",
           "name": "Colombia",
           "orientation": "v",
           "showlegend": true,
           "x": [
            1992
           ],
           "xaxis": "x",
           "y": [
            1
           ],
           "yaxis": "y",
           "type": "scatter"
          },
          {
           "hovertemplate": "<b>%{hovertext}</b><br><br>exports=Ethiopia<br>Year=%{x}<br>CountryIndex=%{y}<br>ExportVolume=%{marker.size}<extra></extra>",
           "hovertext": [
            "Ethiopia"
           ],
           "legendgroup": "Ethiopia",
           "marker": {
            "color": "#00cc96",
            "size": [
             734.461
            ],
            "sizemode": "area",
            "sizeref": 10.434124096333333,
            "symbol": "circle"
           },
           "mode": "markers",
           "name": "Ethiopia",
           "orientation": "v",
           "showlegend": true,
           "x": [
            1992
           ],
           "xaxis": "x",
           "y": [
            2
           ],
           "yaxis": "y",
           "type": "scatter"
          },
          {
           "hovertemplate": "<b>%{hovertext}</b><br><br>exports=Honduras<br>Year=%{x}<br>CountryIndex=%{y}<br>ExportVolume=%{marker.size}<extra></extra>",
           "hovertext": [
            "Honduras"
           ],
           "legendgroup": "Honduras",
           "marker": {
            "color": "#ab63fa",
            "size": [
             1960.071
            ],
            "sizemode": "area",
            "sizeref": 10.434124096333333,
            "symbol": "circle"
           },
           "mode": "markers",
           "name": "Honduras",
           "orientation": "v",
           "showlegend": true,
           "x": [
            1992
           ],
           "xaxis": "x",
           "y": [
            3
           ],
           "yaxis": "y",
           "type": "scatter"
          },
          {
           "hovertemplate": "<b>%{hovertext}</b><br><br>exports=Indonesia<br>Year=%{x}<br>CountryIndex=%{y}<br>ExportVolume=%{marker.size}<extra></extra>",
           "hovertext": [
            "Indonesia"
           ],
           "legendgroup": "Indonesia",
           "marker": {
            "color": "#FFA15A",
            "size": [
             4603.6959999
            ],
            "sizemode": "area",
            "sizeref": 10.434124096333333,
            "symbol": "circle"
           },
           "mode": "markers",
           "name": "Indonesia",
           "orientation": "v",
           "showlegend": true,
           "x": [
            1992
           ],
           "xaxis": "x",
           "y": [
            4
           ],
           "yaxis": "y",
           "type": "scatter"
          }
         ],
         "name": "1992"
        },
        {
         "data": [
          {
           "hovertemplate": "<b>%{hovertext}</b><br><br>exports=Brazil<br>Year=%{x}<br>CountryIndex=%{y}<br>ExportVolume=%{marker.size}<extra></extra>",
           "hovertext": [
            "Brazil"
           ],
           "legendgroup": "Brazil",
           "marker": {
            "color": "#636efa",
            "size": [
             17837.7479992
            ],
            "sizemode": "area",
            "sizeref": 10.434124096333333,
            "symbol": "circle"
           },
           "mode": "markers",
           "name": "Brazil",
           "orientation": "v",
           "showlegend": true,
           "x": [
            1993
           ],
           "xaxis": "x",
           "y": [
            0
           ],
           "yaxis": "y",
           "type": "scatter"
          },
          {
           "hovertemplate": "<b>%{hovertext}</b><br><br>exports=Colombia<br>Year=%{x}<br>CountryIndex=%{y}<br>ExportVolume=%{marker.size}<extra></extra>",
           "hovertext": [
            "Colombia"
           ],
           "legendgroup": "Colombia",
           "marker": {
            "color": "#EF553B",
            "size": [
             13568.3620035
            ],
            "sizemode": "area",
            "sizeref": 10.434124096333333,
            "symbol": "circle"
           },
           "mode": "markers",
           "name": "Colombia",
           "orientation": "v",
           "showlegend": true,
           "x": [
            1993
           ],
           "xaxis": "x",
           "y": [
            1
           ],
           "yaxis": "y",
           "type": "scatter"
          },
          {
           "hovertemplate": "<b>%{hovertext}</b><br><br>exports=Ethiopia<br>Year=%{x}<br>CountryIndex=%{y}<br>ExportVolume=%{marker.size}<extra></extra>",
           "hovertext": [
            "Ethiopia"
           ],
           "legendgroup": "Ethiopia",
           "marker": {
            "color": "#00cc96",
            "size": [
             1166.778
            ],
            "sizemode": "area",
            "sizeref": 10.434124096333333,
            "symbol": "circle"
           },
           "mode": "markers",
           "name": "Ethiopia",
           "orientation": "v",
           "showlegend": true,
           "x": [
            1993
           ],
           "xaxis": "x",
           "y": [
            2
           ],
           "yaxis": "y",
           "type": "scatter"
          },
          {
           "hovertemplate": "<b>%{hovertext}</b><br><br>exports=Honduras<br>Year=%{x}<br>CountryIndex=%{y}<br>ExportVolume=%{marker.size}<extra></extra>",
           "hovertext": [
            "Honduras"
           ],
           "legendgroup": "Honduras",
           "marker": {
            "color": "#ab63fa",
            "size": [
             1705.317
            ],
            "sizemode": "area",
            "sizeref": 10.434124096333333,
            "symbol": "circle"
           },
           "mode": "markers",
           "name": "Honduras",
           "orientation": "v",
           "showlegend": true,
           "x": [
            1993
           ],
           "xaxis": "x",
           "y": [
            3
           ],
           "yaxis": "y",
           "type": "scatter"
          },
          {
           "hovertemplate": "<b>%{hovertext}</b><br><br>exports=Indonesia<br>Year=%{x}<br>CountryIndex=%{y}<br>ExportVolume=%{marker.size}<extra></extra>",
           "hovertext": [
            "Indonesia"
           ],
           "legendgroup": "Indonesia",
           "marker": {
            "color": "#FFA15A",
            "size": [
             5662.0940006
            ],
            "sizemode": "area",
            "sizeref": 10.434124096333333,
            "symbol": "circle"
           },
           "mode": "markers",
           "name": "Indonesia",
           "orientation": "v",
           "showlegend": true,
           "x": [
            1993
           ],
           "xaxis": "x",
           "y": [
            4
           ],
           "yaxis": "y",
           "type": "scatter"
          }
         ],
         "name": "1993"
        },
        {
         "data": [
          {
           "hovertemplate": "<b>%{hovertext}</b><br><br>exports=Brazil<br>Year=%{x}<br>CountryIndex=%{y}<br>ExportVolume=%{marker.size}<extra></extra>",
           "hovertext": [
            "Brazil"
           ],
           "legendgroup": "Brazil",
           "marker": {
            "color": "#636efa",
            "size": [
             17273.1476003
            ],
            "sizemode": "area",
            "sizeref": 10.434124096333333,
            "symbol": "circle"
           },
           "mode": "markers",
           "name": "Brazil",
           "orientation": "v",
           "showlegend": true,
           "x": [
            1994
           ],
           "xaxis": "x",
           "y": [
            0
           ],
           "yaxis": "y",
           "type": "scatter"
          },
          {
           "hovertemplate": "<b>%{hovertext}</b><br><br>exports=Colombia<br>Year=%{x}<br>CountryIndex=%{y}<br>ExportVolume=%{marker.size}<extra></extra>",
           "hovertext": [
            "Colombia"
           ],
           "legendgroup": "Colombia",
           "marker": {
            "color": "#EF553B",
            "size": [
             11768.0890004
            ],
            "sizemode": "area",
            "sizeref": 10.434124096333333,
            "symbol": "circle"
           },
           "mode": "markers",
           "name": "Colombia",
           "orientation": "v",
           "showlegend": true,
           "x": [
            1994
           ],
           "xaxis": "x",
           "y": [
            1
           ],
           "yaxis": "y",
           "type": "scatter"
          },
          {
           "hovertemplate": "<b>%{hovertext}</b><br><br>exports=Ethiopia<br>Year=%{x}<br>CountryIndex=%{y}<br>ExportVolume=%{marker.size}<extra></extra>",
           "hovertext": [
            "Ethiopia"
           ],
           "legendgroup": "Ethiopia",
           "marker": {
            "color": "#00cc96",
            "size": [
             1475.325
            ],
            "sizemode": "area",
            "sizeref": 10.434124096333333,
            "symbol": "circle"
           },
           "mode": "markers",
           "name": "Ethiopia",
           "orientation": "v",
           "showlegend": true,
           "x": [
            1994
           ],
           "xaxis": "x",
           "y": [
            2
           ],
           "yaxis": "y",
           "type": "scatter"
          },
          {
           "hovertemplate": "<b>%{hovertext}</b><br><br>exports=Honduras<br>Year=%{x}<br>CountryIndex=%{y}<br>ExportVolume=%{marker.size}<extra></extra>",
           "hovertext": [
            "Honduras"
           ],
           "legendgroup": "Honduras",
           "marker": {
            "color": "#ab63fa",
            "size": [
             1718.185
            ],
            "sizemode": "area",
            "sizeref": 10.434124096333333,
            "symbol": "circle"
           },
           "mode": "markers",
           "name": "Honduras",
           "orientation": "v",
           "showlegend": true,
           "x": [
            1994
           ],
           "xaxis": "x",
           "y": [
            3
           ],
           "yaxis": "y",
           "type": "scatter"
          },
          {
           "hovertemplate": "<b>%{hovertext}</b><br><br>exports=Indonesia<br>Year=%{x}<br>CountryIndex=%{y}<br>ExportVolume=%{marker.size}<extra></extra>",
           "hovertext": [
            "Indonesia"
           ],
           "legendgroup": "Indonesia",
           "marker": {
            "color": "#FFA15A",
            "size": [
             4604.6299989
            ],
            "sizemode": "area",
            "sizeref": 10.434124096333333,
            "symbol": "circle"
           },
           "mode": "markers",
           "name": "Indonesia",
           "orientation": "v",
           "showlegend": true,
           "x": [
            1994
           ],
           "xaxis": "x",
           "y": [
            4
           ],
           "yaxis": "y",
           "type": "scatter"
          }
         ],
         "name": "1994"
        },
        {
         "data": [
          {
           "hovertemplate": "<b>%{hovertext}</b><br><br>exports=Brazil<br>Year=%{x}<br>CountryIndex=%{y}<br>ExportVolume=%{marker.size}<extra></extra>",
           "hovertext": [
            "Brazil"
           ],
           "legendgroup": "Brazil",
           "marker": {
            "color": "#636efa",
            "size": [
             14468.4322014
            ],
            "sizemode": "area",
            "sizeref": 10.434124096333333,
            "symbol": "circle"
           },
           "mode": "markers",
           "name": "Brazil",
           "orientation": "v",
           "showlegend": true,
           "x": [
            1995
           ],
           "xaxis": "x",
           "y": [
            0
           ],
           "yaxis": "y",
           "type": "scatter"
          },
          {
           "hovertemplate": "<b>%{hovertext}</b><br><br>exports=Colombia<br>Year=%{x}<br>CountryIndex=%{y}<br>ExportVolume=%{marker.size}<extra></extra>",
           "hovertext": [
            "Colombia"
           ],
           "legendgroup": "Colombia",
           "marker": {
            "color": "#EF553B",
            "size": [
             9814.1969996
            ],
            "sizemode": "area",
            "sizeref": 10.434124096333333,
            "symbol": "circle"
           },
           "mode": "markers",
           "name": "Colombia",
           "orientation": "v",
           "showlegend": true,
           "x": [
            1995
           ],
           "xaxis": "x",
           "y": [
            1
           ],
           "yaxis": "y",
           "type": "scatter"
          },
          {
           "hovertemplate": "<b>%{hovertext}</b><br><br>exports=Ethiopia<br>Year=%{x}<br>CountryIndex=%{y}<br>ExportVolume=%{marker.size}<extra></extra>",
           "hovertext": [
            "Ethiopia"
           ],
           "legendgroup": "Ethiopia",
           "marker": {
            "color": "#00cc96",
            "size": [
             1276.118
            ],
            "sizemode": "area",
            "sizeref": 10.434124096333333,
            "symbol": "circle"
           },
           "mode": "markers",
           "name": "Ethiopia",
           "orientation": "v",
           "showlegend": true,
           "x": [
            1995
           ],
           "xaxis": "x",
           "y": [
            2
           ],
           "yaxis": "y",
           "type": "scatter"
          },
          {
           "hovertemplate": "<b>%{hovertext}</b><br><br>exports=Honduras<br>Year=%{x}<br>CountryIndex=%{y}<br>ExportVolume=%{marker.size}<extra></extra>",
           "hovertext": [
            "Honduras"
           ],
           "legendgroup": "Honduras",
           "marker": {
            "color": "#ab63fa",
            "size": [
             1795.963
            ],
            "sizemode": "area",
            "sizeref": 10.434124096333333,
            "symbol": "circle"
           },
           "mode": "markers",
           "name": "Honduras",
           "orientation": "v",
           "showlegend": true,
           "x": [
            1995
           ],
           "xaxis": "x",
           "y": [
            3
           ],
           "yaxis": "y",
           "type": "scatter"
          },
          {
           "hovertemplate": "<b>%{hovertext}</b><br><br>exports=Indonesia<br>Year=%{x}<br>CountryIndex=%{y}<br>ExportVolume=%{marker.size}<extra></extra>",
           "hovertext": [
            "Indonesia"
           ],
           "legendgroup": "Indonesia",
           "marker": {
            "color": "#FFA15A",
            "size": [
             3946.5850006
            ],
            "sizemode": "area",
            "sizeref": 10.434124096333333,
            "symbol": "circle"
           },
           "mode": "markers",
           "name": "Indonesia",
           "orientation": "v",
           "showlegend": true,
           "x": [
            1995
           ],
           "xaxis": "x",
           "y": [
            4
           ],
           "yaxis": "y",
           "type": "scatter"
          }
         ],
         "name": "1995"
        },
        {
         "data": [
          {
           "hovertemplate": "<b>%{hovertext}</b><br><br>exports=Brazil<br>Year=%{x}<br>CountryIndex=%{y}<br>ExportVolume=%{marker.size}<extra></extra>",
           "hovertext": [
            "Brazil"
           ],
           "legendgroup": "Brazil",
           "marker": {
            "color": "#636efa",
            "size": [
             15250.6090018
            ],
            "sizemode": "area",
            "sizeref": 10.434124096333333,
            "symbol": "circle"
           },
           "mode": "markers",
           "name": "Brazil",
           "orientation": "v",
           "showlegend": true,
           "x": [
            1996
           ],
           "xaxis": "x",
           "y": [
            0
           ],
           "yaxis": "y",
           "type": "scatter"
          },
          {
           "hovertemplate": "<b>%{hovertext}</b><br><br>exports=Colombia<br>Year=%{x}<br>CountryIndex=%{y}<br>ExportVolume=%{marker.size}<extra></extra>",
           "hovertext": [
            "Colombia"
           ],
           "legendgroup": "Colombia",
           "marker": {
            "color": "#EF553B",
            "size": [
             10588.4309984
            ],
            "sizemode": "area",
            "sizeref": 10.434124096333333,
            "symbol": "circle"
           },
           "mode": "markers",
           "name": "Colombia",
           "orientation": "v",
           "showlegend": true,
           "x": [
            1996
           ],
           "xaxis": "x",
           "y": [
            1
           ],
           "yaxis": "y",
           "type": "scatter"
          },
          {
           "hovertemplate": "<b>%{hovertext}</b><br><br>exports=Ethiopia<br>Year=%{x}<br>CountryIndex=%{y}<br>ExportVolume=%{marker.size}<extra></extra>",
           "hovertext": [
            "Ethiopia"
           ],
           "legendgroup": "Ethiopia",
           "marker": {
            "color": "#00cc96",
            "size": [
             1838.231
            ],
            "sizemode": "area",
            "sizeref": 10.434124096333333,
            "symbol": "circle"
           },
           "mode": "markers",
           "name": "Ethiopia",
           "orientation": "v",
           "showlegend": true,
           "x": [
            1996
           ],
           "xaxis": "x",
           "y": [
            2
           ],
           "yaxis": "y",
           "type": "scatter"
          },
          {
           "hovertemplate": "<b>%{hovertext}</b><br><br>exports=Honduras<br>Year=%{x}<br>CountryIndex=%{y}<br>ExportVolume=%{marker.size}<extra></extra>",
           "hovertext": [
            "Honduras"
           ],
           "legendgroup": "Honduras",
           "marker": {
            "color": "#ab63fa",
            "size": [
             2059.76
            ],
            "sizemode": "area",
            "sizeref": 10.434124096333333,
            "symbol": "circle"
           },
           "mode": "markers",
           "name": "Honduras",
           "orientation": "v",
           "showlegend": true,
           "x": [
            1996
           ],
           "xaxis": "x",
           "y": [
            3
           ],
           "yaxis": "y",
           "type": "scatter"
          },
          {
           "hovertemplate": "<b>%{hovertext}</b><br><br>exports=Indonesia<br>Year=%{x}<br>CountryIndex=%{y}<br>ExportVolume=%{marker.size}<extra></extra>",
           "hovertext": [
            "Indonesia"
           ],
           "legendgroup": "Indonesia",
           "marker": {
            "color": "#FFA15A",
            "size": [
             6440.28
            ],
            "sizemode": "area",
            "sizeref": 10.434124096333333,
            "symbol": "circle"
           },
           "mode": "markers",
           "name": "Indonesia",
           "orientation": "v",
           "showlegend": true,
           "x": [
            1996
           ],
           "xaxis": "x",
           "y": [
            4
           ],
           "yaxis": "y",
           "type": "scatter"
          }
         ],
         "name": "1996"
        },
        {
         "data": [
          {
           "hovertemplate": "<b>%{hovertext}</b><br><br>exports=Brazil<br>Year=%{x}<br>CountryIndex=%{y}<br>ExportVolume=%{marker.size}<extra></extra>",
           "hovertext": [
            "Brazil"
           ],
           "legendgroup": "Brazil",
           "marker": {
            "color": "#636efa",
            "size": [
             16801.2600051
            ],
            "sizemode": "area",
            "sizeref": 10.434124096333333,
            "symbol": "circle"
           },
           "mode": "markers",
           "name": "Brazil",
           "orientation": "v",
           "showlegend": true,
           "x": [
            1997
           ],
           "xaxis": "x",
           "y": [
            0
           ],
           "yaxis": "y",
           "type": "scatter"
          },
          {
           "hovertemplate": "<b>%{hovertext}</b><br><br>exports=Colombia<br>Year=%{x}<br>CountryIndex=%{y}<br>ExportVolume=%{marker.size}<extra></extra>",
           "hovertext": [
            "Colombia"
           ],
           "legendgroup": "Colombia",
           "marker": {
            "color": "#EF553B",
            "size": [
             10918.8630016
            ],
            "sizemode": "area",
            "sizeref": 10.434124096333333,
            "symbol": "circle"
           },
           "mode": "markers",
           "name": "Colombia",
           "orientation": "v",
           "showlegend": true,
           "x": [
            1997
           ],
           "xaxis": "x",
           "y": [
            1
           ],
           "yaxis": "y",
           "type": "scatter"
          },
          {
           "hovertemplate": "<b>%{hovertext}</b><br><br>exports=Ethiopia<br>Year=%{x}<br>CountryIndex=%{y}<br>ExportVolume=%{marker.size}<extra></extra>",
           "hovertext": [
            "Ethiopia"
           ],
           "legendgroup": "Ethiopia",
           "marker": {
            "color": "#00cc96",
            "size": [
             1979.733
            ],
            "sizemode": "area",
            "sizeref": 10.434124096333333,
            "symbol": "circle"
           },
           "mode": "markers",
           "name": "Ethiopia",
           "orientation": "v",
           "showlegend": true,
           "x": [
            1997
           ],
           "xaxis": "x",
           "y": [
            2
           ],
           "yaxis": "y",
           "type": "scatter"
          },
          {
           "hovertemplate": "<b>%{hovertext}</b><br><br>exports=Honduras<br>Year=%{x}<br>CountryIndex=%{y}<br>ExportVolume=%{marker.size}<extra></extra>",
           "hovertext": [
            "Honduras"
           ],
           "legendgroup": "Honduras",
           "marker": {
            "color": "#ab63fa",
            "size": [
             1722.482
            ],
            "sizemode": "area",
            "sizeref": 10.434124096333333,
            "symbol": "circle"
           },
           "mode": "markers",
           "name": "Honduras",
           "orientation": "v",
           "showlegend": true,
           "x": [
            1997
           ],
           "xaxis": "x",
           "y": [
            3
           ],
           "yaxis": "y",
           "type": "scatter"
          },
          {
           "hovertemplate": "<b>%{hovertext}</b><br><br>exports=Indonesia<br>Year=%{x}<br>CountryIndex=%{y}<br>ExportVolume=%{marker.size}<extra></extra>",
           "hovertext": [
            "Indonesia"
           ],
           "legendgroup": "Indonesia",
           "marker": {
            "color": "#FFA15A",
            "size": [
             5755.0779999
            ],
            "sizemode": "area",
            "sizeref": 10.434124096333333,
            "symbol": "circle"
           },
           "mode": "markers",
           "name": "Indonesia",
           "orientation": "v",
           "showlegend": true,
           "x": [
            1997
           ],
           "xaxis": "x",
           "y": [
            4
           ],
           "yaxis": "y",
           "type": "scatter"
          }
         ],
         "name": "1997"
        },
        {
         "data": [
          {
           "hovertemplate": "<b>%{hovertext}</b><br><br>exports=Brazil<br>Year=%{x}<br>CountryIndex=%{y}<br>ExportVolume=%{marker.size}<extra></extra>",
           "hovertext": [
            "Brazil"
           ],
           "legendgroup": "Brazil",
           "marker": {
            "color": "#636efa",
            "size": [
             18144.3883339
            ],
            "sizemode": "area",
            "sizeref": 10.434124096333333,
            "symbol": "circle"
           },
           "mode": "markers",
           "name": "Brazil",
           "orientation": "v",
           "showlegend": true,
           "x": [
            1998
           ],
           "xaxis": "x",
           "y": [
            0
           ],
           "yaxis": "y",
           "type": "scatter"
          },
          {
           "hovertemplate": "<b>%{hovertext}</b><br><br>exports=Colombia<br>Year=%{x}<br>CountryIndex=%{y}<br>ExportVolume=%{marker.size}<extra></extra>",
           "hovertext": [
            "Colombia"
           ],
           "legendgroup": "Colombia",
           "marker": {
            "color": "#EF553B",
            "size": [
             11259.9289995
            ],
            "sizemode": "area",
            "sizeref": 10.434124096333333,
            "symbol": "circle"
           },
           "mode": "markers",
           "name": "Colombia",
           "orientation": "v",
           "showlegend": true,
           "x": [
            1998
           ],
           "xaxis": "x",
           "y": [
            1
           ],
           "yaxis": "y",
           "type": "scatter"
          },
          {
           "hovertemplate": "<b>%{hovertext}</b><br><br>exports=Ethiopia<br>Year=%{x}<br>CountryIndex=%{y}<br>ExportVolume=%{marker.size}<extra></extra>",
           "hovertext": [
            "Ethiopia"
           ],
           "legendgroup": "Ethiopia",
           "marker": {
            "color": "#00cc96",
            "size": [
             1917.061
            ],
            "sizemode": "area",
            "sizeref": 10.434124096333333,
            "symbol": "circle"
           },
           "mode": "markers",
           "name": "Ethiopia",
           "orientation": "v",
           "showlegend": true,
           "x": [
            1998
           ],
           "xaxis": "x",
           "y": [
            2
           ],
           "yaxis": "y",
           "type": "scatter"
          },
          {
           "hovertemplate": "<b>%{hovertext}</b><br><br>exports=Honduras<br>Year=%{x}<br>CountryIndex=%{y}<br>ExportVolume=%{marker.size}<extra></extra>",
           "hovertext": [
            "Honduras"
           ],
           "legendgroup": "Honduras",
           "marker": {
            "color": "#ab63fa",
            "size": [
             2329.274
            ],
            "sizemode": "area",
            "sizeref": 10.434124096333333,
            "symbol": "circle"
           },
           "mode": "markers",
           "name": "Honduras",
           "orientation": "v",
           "showlegend": true,
           "x": [
            1998
           ],
           "xaxis": "x",
           "y": [
            3
           ],
           "yaxis": "y",
           "type": "scatter"
          },
          {
           "hovertemplate": "<b>%{hovertext}</b><br><br>exports=Indonesia<br>Year=%{x}<br>CountryIndex=%{y}<br>ExportVolume=%{marker.size}<extra></extra>",
           "hovertext": [
            "Indonesia"
           ],
           "legendgroup": "Indonesia",
           "marker": {
            "color": "#FFA15A",
            "size": [
             5598.0319992
            ],
            "sizemode": "area",
            "sizeref": 10.434124096333333,
            "symbol": "circle"
           },
           "mode": "markers",
           "name": "Indonesia",
           "orientation": "v",
           "showlegend": true,
           "x": [
            1998
           ],
           "xaxis": "x",
           "y": [
            4
           ],
           "yaxis": "y",
           "type": "scatter"
          }
         ],
         "name": "1998"
        },
        {
         "data": [
          {
           "hovertemplate": "<b>%{hovertext}</b><br><br>exports=Brazil<br>Year=%{x}<br>CountryIndex=%{y}<br>ExportVolume=%{marker.size}<extra></extra>",
           "hovertext": [
            "Brazil"
           ],
           "legendgroup": "Brazil",
           "marker": {
            "color": "#636efa",
            "size": [
             23149.2038037
            ],
            "sizemode": "area",
            "sizeref": 10.434124096333333,
            "symbol": "circle"
           },
           "mode": "markers",
           "name": "Brazil",
           "orientation": "v",
           "showlegend": true,
           "x": [
            1999
           ],
           "xaxis": "x",
           "y": [
            0
           ],
           "yaxis": "y",
           "type": "scatter"
          },
          {
           "hovertemplate": "<b>%{hovertext}</b><br><br>exports=Colombia<br>Year=%{x}<br>CountryIndex=%{y}<br>ExportVolume=%{marker.size}<extra></extra>",
           "hovertext": [
            "Colombia"
           ],
           "legendgroup": "Colombia",
           "marker": {
            "color": "#EF553B",
            "size": [
             9995.3100014
            ],
            "sizemode": "area",
            "sizeref": 10.434124096333333,
            "symbol": "circle"
           },
           "mode": "markers",
           "name": "Colombia",
           "orientation": "v",
           "showlegend": true,
           "x": [
            1999
           ],
           "xaxis": "x",
           "y": [
            1
           ],
           "yaxis": "y",
           "type": "scatter"
          },
          {
           "hovertemplate": "<b>%{hovertext}</b><br><br>exports=Ethiopia<br>Year=%{x}<br>CountryIndex=%{y}<br>ExportVolume=%{marker.size}<extra></extra>",
           "hovertext": [
            "Ethiopia"
           ],
           "legendgroup": "Ethiopia",
           "marker": {
            "color": "#00cc96",
            "size": [
             1818.087
            ],
            "sizemode": "area",
            "sizeref": 10.434124096333333,
            "symbol": "circle"
           },
           "mode": "markers",
           "name": "Ethiopia",
           "orientation": "v",
           "showlegend": true,
           "x": [
            1999
           ],
           "xaxis": "x",
           "y": [
            2
           ],
           "yaxis": "y",
           "type": "scatter"
          },
          {
           "hovertemplate": "<b>%{hovertext}</b><br><br>exports=Honduras<br>Year=%{x}<br>CountryIndex=%{y}<br>ExportVolume=%{marker.size}<extra></extra>",
           "hovertext": [
            "Honduras"
           ],
           "legendgroup": "Honduras",
           "marker": {
            "color": "#ab63fa",
            "size": [
             1986.603
            ],
            "sizemode": "area",
            "sizeref": 10.434124096333333,
            "symbol": "circle"
           },
           "mode": "markers",
           "name": "Honduras",
           "orientation": "v",
           "showlegend": true,
           "x": [
            1999
           ],
           "xaxis": "x",
           "y": [
            3
           ],
           "yaxis": "y",
           "type": "scatter"
          },
          {
           "hovertemplate": "<b>%{hovertext}</b><br><br>exports=Indonesia<br>Year=%{x}<br>CountryIndex=%{y}<br>ExportVolume=%{marker.size}<extra></extra>",
           "hovertext": [
            "Indonesia"
           ],
           "legendgroup": "Indonesia",
           "marker": {
            "color": "#FFA15A",
            "size": [
             5115.0269995
            ],
            "sizemode": "area",
            "sizeref": 10.434124096333333,
            "symbol": "circle"
           },
           "mode": "markers",
           "name": "Indonesia",
           "orientation": "v",
           "showlegend": true,
           "x": [
            1999
           ],
           "xaxis": "x",
           "y": [
            4
           ],
           "yaxis": "y",
           "type": "scatter"
          }
         ],
         "name": "1999"
        },
        {
         "data": [
          {
           "hovertemplate": "<b>%{hovertext}</b><br><br>exports=Brazil<br>Year=%{x}<br>CountryIndex=%{y}<br>ExportVolume=%{marker.size}<extra></extra>",
           "hovertext": [
            "Brazil"
           ],
           "legendgroup": "Brazil",
           "marker": {
            "color": "#636efa",
            "size": [
             18016.2606406
            ],
            "sizemode": "area",
            "sizeref": 10.434124096333333,
            "symbol": "circle"
           },
           "mode": "markers",
           "name": "Brazil",
           "orientation": "v",
           "showlegend": true,
           "x": [
            2000
           ],
           "xaxis": "x",
           "y": [
            0
           ],
           "yaxis": "y",
           "type": "scatter"
          },
          {
           "hovertemplate": "<b>%{hovertext}</b><br><br>exports=Colombia<br>Year=%{x}<br>CountryIndex=%{y}<br>ExportVolume=%{marker.size}<extra></extra>",
           "hovertext": [
            "Colombia"
           ],
           "legendgroup": "Colombia",
           "marker": {
            "color": "#EF553B",
            "size": [
             9176.6609102
            ],
            "sizemode": "area",
            "sizeref": 10.434124096333333,
            "symbol": "circle"
           },
           "mode": "markers",
           "name": "Colombia",
           "orientation": "v",
           "showlegend": true,
           "x": [
            2000
           ],
           "xaxis": "x",
           "y": [
            1
           ],
           "yaxis": "y",
           "type": "scatter"
          },
          {
           "hovertemplate": "<b>%{hovertext}</b><br><br>exports=Ethiopia<br>Year=%{x}<br>CountryIndex=%{y}<br>ExportVolume=%{marker.size}<extra></extra>",
           "hovertext": [
            "Ethiopia"
           ],
           "legendgroup": "Ethiopia",
           "marker": {
            "color": "#00cc96",
            "size": [
             1981.856
            ],
            "sizemode": "area",
            "sizeref": 10.434124096333333,
            "symbol": "circle"
           },
           "mode": "markers",
           "name": "Ethiopia",
           "orientation": "v",
           "showlegend": true,
           "x": [
            2000
           ],
           "xaxis": "x",
           "y": [
            2
           ],
           "yaxis": "y",
           "type": "scatter"
          },
          {
           "hovertemplate": "<b>%{hovertext}</b><br><br>exports=Honduras<br>Year=%{x}<br>CountryIndex=%{y}<br>ExportVolume=%{marker.size}<extra></extra>",
           "hovertext": [
            "Honduras"
           ],
           "legendgroup": "Honduras",
           "marker": {
            "color": "#ab63fa",
            "size": [
             2878.56
            ],
            "sizemode": "area",
            "sizeref": 10.434124096333333,
            "symbol": "circle"
           },
           "mode": "markers",
           "name": "Honduras",
           "orientation": "v",
           "showlegend": true,
           "x": [
            2000
           ],
           "xaxis": "x",
           "y": [
            3
           ],
           "yaxis": "y",
           "type": "scatter"
          },
          {
           "hovertemplate": "<b>%{hovertext}</b><br><br>exports=Indonesia<br>Year=%{x}<br>CountryIndex=%{y}<br>ExportVolume=%{marker.size}<extra></extra>",
           "hovertext": [
            "Indonesia"
           ],
           "legendgroup": "Indonesia",
           "marker": {
            "color": "#FFA15A",
            "size": [
             5357.59886
            ],
            "sizemode": "area",
            "sizeref": 10.434124096333333,
            "symbol": "circle"
           },
           "mode": "markers",
           "name": "Indonesia",
           "orientation": "v",
           "showlegend": true,
           "x": [
            2000
           ],
           "xaxis": "x",
           "y": [
            4
           ],
           "yaxis": "y",
           "type": "scatter"
          }
         ],
         "name": "2000"
        },
        {
         "data": [
          {
           "hovertemplate": "<b>%{hovertext}</b><br><br>exports=Brazil<br>Year=%{x}<br>CountryIndex=%{y}<br>ExportVolume=%{marker.size}<extra></extra>",
           "hovertext": [
            "Brazil"
           ],
           "legendgroup": "Brazil",
           "marker": {
            "color": "#636efa",
            "size": [
             23172.486512
            ],
            "sizemode": "area",
            "sizeref": 10.434124096333333,
            "symbol": "circle"
           },
           "mode": "markers",
           "name": "Brazil",
           "orientation": "v",
           "showlegend": true,
           "x": [
            2001
           ],
           "xaxis": "x",
           "y": [
            0
           ],
           "yaxis": "y",
           "type": "scatter"
          },
          {
           "hovertemplate": "<b>%{hovertext}</b><br><br>exports=Colombia<br>Year=%{x}<br>CountryIndex=%{y}<br>ExportVolume=%{marker.size}<extra></extra>",
           "hovertext": [
            "Colombia"
           ],
           "legendgroup": "Colombia",
           "marker": {
            "color": "#EF553B",
            "size": [
             9943.6300006
            ],
            "sizemode": "area",
            "sizeref": 10.434124096333333,
            "symbol": "circle"
           },
           "mode": "markers",
           "name": "Colombia",
           "orientation": "v",
           "showlegend": true,
           "x": [
            2001
           ],
           "xaxis": "x",
           "y": [
            1
           ],
           "yaxis": "y",
           "type": "scatter"
          },
          {
           "hovertemplate": "<b>%{hovertext}</b><br><br>exports=Ethiopia<br>Year=%{x}<br>CountryIndex=%{y}<br>ExportVolume=%{marker.size}<extra></extra>",
           "hovertext": [
            "Ethiopia"
           ],
           "legendgroup": "Ethiopia",
           "marker": {
            "color": "#00cc96",
            "size": [
             1376.062
            ],
            "sizemode": "area",
            "sizeref": 10.434124096333333,
            "symbol": "circle"
           },
           "mode": "markers",
           "name": "Ethiopia",
           "orientation": "v",
           "showlegend": true,
           "x": [
            2001
           ],
           "xaxis": "x",
           "y": [
            2
           ],
           "yaxis": "y",
           "type": "scatter"
          },
          {
           "hovertemplate": "<b>%{hovertext}</b><br><br>exports=Honduras<br>Year=%{x}<br>CountryIndex=%{y}<br>ExportVolume=%{marker.size}<extra></extra>",
           "hovertext": [
            "Honduras"
           ],
           "legendgroup": "Honduras",
           "marker": {
            "color": "#ab63fa",
            "size": [
             2391.613
            ],
            "sizemode": "area",
            "sizeref": 10.434124096333333,
            "symbol": "circle"
           },
           "mode": "markers",
           "name": "Honduras",
           "orientation": "v",
           "showlegend": true,
           "x": [
            2001
           ],
           "xaxis": "x",
           "y": [
            3
           ],
           "yaxis": "y",
           "type": "scatter"
          },
          {
           "hovertemplate": "<b>%{hovertext}</b><br><br>exports=Indonesia<br>Year=%{x}<br>CountryIndex=%{y}<br>ExportVolume=%{marker.size}<extra></extra>",
           "hovertext": [
            "Indonesia"
           ],
           "legendgroup": "Indonesia",
           "marker": {
            "color": "#FFA15A",
            "size": [
             5243.4050012
            ],
            "sizemode": "area",
            "sizeref": 10.434124096333333,
            "symbol": "circle"
           },
           "mode": "markers",
           "name": "Indonesia",
           "orientation": "v",
           "showlegend": true,
           "x": [
            2001
           ],
           "xaxis": "x",
           "y": [
            4
           ],
           "yaxis": "y",
           "type": "scatter"
          }
         ],
         "name": "2001"
        },
        {
         "data": [
          {
           "hovertemplate": "<b>%{hovertext}</b><br><br>exports=Brazil<br>Year=%{x}<br>CountryIndex=%{y}<br>ExportVolume=%{marker.size}<extra></extra>",
           "hovertext": [
            "Brazil"
           ],
           "legendgroup": "Brazil",
           "marker": {
            "color": "#636efa",
            "size": [
             27981.8389351
            ],
            "sizemode": "area",
            "sizeref": 10.434124096333333,
            "symbol": "circle"
           },
           "mode": "markers",
           "name": "Brazil",
           "orientation": "v",
           "showlegend": true,
           "x": [
            2002
           ],
           "xaxis": "x",
           "y": [
            0
           ],
           "yaxis": "y",
           "type": "scatter"
          },
          {
           "hovertemplate": "<b>%{hovertext}</b><br><br>exports=Colombia<br>Year=%{x}<br>CountryIndex=%{y}<br>ExportVolume=%{marker.size}<extra></extra>",
           "hovertext": [
            "Colombia"
           ],
           "legendgroup": "Colombia",
           "marker": {
            "color": "#EF553B",
            "size": [
             10273.4249979
            ],
            "sizemode": "area",
            "sizeref": 10.434124096333333,
            "symbol": "circle"
           },
           "mode": "markers",
           "name": "Colombia",
           "orientation": "v",
           "showlegend": true,
           "x": [
            2002
           ],
           "xaxis": "x",
           "y": [
            1
           ],
           "yaxis": "y",
           "type": "scatter"
          },
          {
           "hovertemplate": "<b>%{hovertext}</b><br><br>exports=Ethiopia<br>Year=%{x}<br>CountryIndex=%{y}<br>ExportVolume=%{marker.size}<extra></extra>",
           "hovertext": [
            "Ethiopia"
           ],
           "legendgroup": "Ethiopia",
           "marker": {
            "color": "#00cc96",
            "size": [
             2054.678
            ],
            "sizemode": "area",
            "sizeref": 10.434124096333333,
            "symbol": "circle"
           },
           "mode": "markers",
           "name": "Ethiopia",
           "orientation": "v",
           "showlegend": true,
           "x": [
            2002
           ],
           "xaxis": "x",
           "y": [
            2
           ],
           "yaxis": "y",
           "type": "scatter"
          },
          {
           "hovertemplate": "<b>%{hovertext}</b><br><br>exports=Honduras<br>Year=%{x}<br>CountryIndex=%{y}<br>ExportVolume=%{marker.size}<extra></extra>",
           "hovertext": [
            "Honduras"
           ],
           "legendgroup": "Honduras",
           "marker": {
            "color": "#ab63fa",
            "size": [
             2711.26
            ],
            "sizemode": "area",
            "sizeref": 10.434124096333333,
            "symbol": "circle"
           },
           "mode": "markers",
           "name": "Honduras",
           "orientation": "v",
           "showlegend": true,
           "x": [
            2002
           ],
           "xaxis": "x",
           "y": [
            3
           ],
           "yaxis": "y",
           "type": "scatter"
          },
          {
           "hovertemplate": "<b>%{hovertext}</b><br><br>exports=Indonesia<br>Year=%{x}<br>CountryIndex=%{y}<br>ExportVolume=%{marker.size}<extra></extra>",
           "hovertext": [
            "Indonesia"
           ],
           "legendgroup": "Indonesia",
           "marker": {
            "color": "#FFA15A",
            "size": [
             4285.830001
            ],
            "sizemode": "area",
            "sizeref": 10.434124096333333,
            "symbol": "circle"
           },
           "mode": "markers",
           "name": "Indonesia",
           "orientation": "v",
           "showlegend": true,
           "x": [
            2002
           ],
           "xaxis": "x",
           "y": [
            4
           ],
           "yaxis": "y",
           "type": "scatter"
          }
         ],
         "name": "2002"
        },
        {
         "data": [
          {
           "hovertemplate": "<b>%{hovertext}</b><br><br>exports=Brazil<br>Year=%{x}<br>CountryIndex=%{y}<br>ExportVolume=%{marker.size}<extra></extra>",
           "hovertext": [
            "Brazil"
           ],
           "legendgroup": "Brazil",
           "marker": {
            "color": "#636efa",
            "size": [
             25710.8116628
            ],
            "sizemode": "area",
            "sizeref": 10.434124096333333,
            "symbol": "circle"
           },
           "mode": "markers",
           "name": "Brazil",
           "orientation": "v",
           "showlegend": true,
           "x": [
            2003
           ],
           "xaxis": "x",
           "y": [
            0
           ],
           "yaxis": "y",
           "type": "scatter"
          },
          {
           "hovertemplate": "<b>%{hovertext}</b><br><br>exports=Colombia<br>Year=%{x}<br>CountryIndex=%{y}<br>ExportVolume=%{marker.size}<extra></extra>",
           "hovertext": [
            "Colombia"
           ],
           "legendgroup": "Colombia",
           "marker": {
            "color": "#EF553B",
            "size": [
             10244.3919993
            ],
            "sizemode": "area",
            "sizeref": 10.434124096333333,
            "symbol": "circle"
           },
           "mode": "markers",
           "name": "Colombia",
           "orientation": "v",
           "showlegend": true,
           "x": [
            2003
           ],
           "xaxis": "x",
           "y": [
            1
           ],
           "yaxis": "y",
           "type": "scatter"
          },
          {
           "hovertemplate": "<b>%{hovertext}</b><br><br>exports=Ethiopia<br>Year=%{x}<br>CountryIndex=%{y}<br>ExportVolume=%{marker.size}<extra></extra>",
           "hovertext": [
            "Ethiopia"
           ],
           "legendgroup": "Ethiopia",
           "marker": {
            "color": "#00cc96",
            "size": [
             2229.143
            ],
            "sizemode": "area",
            "sizeref": 10.434124096333333,
            "symbol": "circle"
           },
           "mode": "markers",
           "name": "Ethiopia",
           "orientation": "v",
           "showlegend": true,
           "x": [
            2003
           ],
           "xaxis": "x",
           "y": [
            2
           ],
           "yaxis": "y",
           "type": "scatter"
          },
          {
           "hovertemplate": "<b>%{hovertext}</b><br><br>exports=Honduras<br>Year=%{x}<br>CountryIndex=%{y}<br>ExportVolume=%{marker.size}<extra></extra>",
           "hovertext": [
            "Honduras"
           ],
           "legendgroup": "Honduras",
           "marker": {
            "color": "#ab63fa",
            "size": [
             2425.237
            ],
            "sizemode": "area",
            "sizeref": 10.434124096333333,
            "symbol": "circle"
           },
           "mode": "markers",
           "name": "Honduras",
           "orientation": "v",
           "showlegend": true,
           "x": [
            2003
           ],
           "xaxis": "x",
           "y": [
            3
           ],
           "yaxis": "y",
           "type": "scatter"
          },
          {
           "hovertemplate": "<b>%{hovertext}</b><br><br>exports=Indonesia<br>Year=%{x}<br>CountryIndex=%{y}<br>ExportVolume=%{marker.size}<extra></extra>",
           "hovertext": [
            "Indonesia"
           ],
           "legendgroup": "Indonesia",
           "marker": {
            "color": "#FFA15A",
            "size": [
             4794.7200006
            ],
            "sizemode": "area",
            "sizeref": 10.434124096333333,
            "symbol": "circle"
           },
           "mode": "markers",
           "name": "Indonesia",
           "orientation": "v",
           "showlegend": true,
           "x": [
            2003
           ],
           "xaxis": "x",
           "y": [
            4
           ],
           "yaxis": "y",
           "type": "scatter"
          }
         ],
         "name": "2003"
        },
        {
         "data": [
          {
           "hovertemplate": "<b>%{hovertext}</b><br><br>exports=Brazil<br>Year=%{x}<br>CountryIndex=%{y}<br>ExportVolume=%{marker.size}<extra></extra>",
           "hovertext": [
            "Brazil"
           ],
           "legendgroup": "Brazil",
           "marker": {
            "color": "#636efa",
            "size": [
             26478.4750901
            ],
            "sizemode": "area",
            "sizeref": 10.434124096333333,
            "symbol": "circle"
           },
           "mode": "markers",
           "name": "Brazil",
           "orientation": "v",
           "showlegend": true,
           "x": [
            2004
           ],
           "xaxis": "x",
           "y": [
            0
           ],
           "yaxis": "y",
           "type": "scatter"
          },
          {
           "hovertemplate": "<b>%{hovertext}</b><br><br>exports=Colombia<br>Year=%{x}<br>CountryIndex=%{y}<br>ExportVolume=%{marker.size}<extra></extra>",
           "hovertext": [
            "Colombia"
           ],
           "legendgroup": "Colombia",
           "marker": {
            "color": "#EF553B",
            "size": [
             10194.3150011
            ],
            "sizemode": "area",
            "sizeref": 10.434124096333333,
            "symbol": "circle"
           },
           "mode": "markers",
           "name": "Colombia",
           "orientation": "v",
           "showlegend": true,
           "x": [
            2004
           ],
           "xaxis": "x",
           "y": [
            1
           ],
           "yaxis": "y",
           "type": "scatter"
          },
          {
           "hovertemplate": "<b>%{hovertext}</b><br><br>exports=Ethiopia<br>Year=%{x}<br>CountryIndex=%{y}<br>ExportVolume=%{marker.size}<extra></extra>",
           "hovertext": [
            "Ethiopia"
           ],
           "legendgroup": "Ethiopia",
           "marker": {
            "color": "#00cc96",
            "size": [
             2490.944
            ],
            "sizemode": "area",
            "sizeref": 10.434124096333333,
            "symbol": "circle"
           },
           "mode": "markers",
           "name": "Ethiopia",
           "orientation": "v",
           "showlegend": true,
           "x": [
            2004
           ],
           "xaxis": "x",
           "y": [
            2
           ],
           "yaxis": "y",
           "type": "scatter"
          },
          {
           "hovertemplate": "<b>%{hovertext}</b><br><br>exports=Honduras<br>Year=%{x}<br>CountryIndex=%{y}<br>ExportVolume=%{marker.size}<extra></extra>",
           "hovertext": [
            "Honduras"
           ],
           "legendgroup": "Honduras",
           "marker": {
            "color": "#ab63fa",
            "size": [
             2779.189
            ],
            "sizemode": "area",
            "sizeref": 10.434124096333333,
            "symbol": "circle"
           },
           "mode": "markers",
           "name": "Honduras",
           "orientation": "v",
           "showlegend": true,
           "x": [
            2004
           ],
           "xaxis": "x",
           "y": [
            3
           ],
           "yaxis": "y",
           "type": "scatter"
          },
          {
           "hovertemplate": "<b>%{hovertext}</b><br><br>exports=Indonesia<br>Year=%{x}<br>CountryIndex=%{y}<br>ExportVolume=%{marker.size}<extra></extra>",
           "hovertext": [
            "Indonesia"
           ],
           "legendgroup": "Indonesia",
           "marker": {
            "color": "#FFA15A",
            "size": [
             5455.5989996
            ],
            "sizemode": "area",
            "sizeref": 10.434124096333333,
            "symbol": "circle"
           },
           "mode": "markers",
           "name": "Indonesia",
           "orientation": "v",
           "showlegend": true,
           "x": [
            2004
           ],
           "xaxis": "x",
           "y": [
            4
           ],
           "yaxis": "y",
           "type": "scatter"
          }
         ],
         "name": "2004"
        },
        {
         "data": [
          {
           "hovertemplate": "<b>%{hovertext}</b><br><br>exports=Brazil<br>Year=%{x}<br>CountryIndex=%{y}<br>ExportVolume=%{marker.size}<extra></extra>",
           "hovertext": [
            "Brazil"
           ],
           "legendgroup": "Brazil",
           "marker": {
            "color": "#636efa",
            "size": [
             26198.0554467
            ],
            "sizemode": "area",
            "sizeref": 10.434124096333333,
            "symbol": "circle"
           },
           "mode": "markers",
           "name": "Brazil",
           "orientation": "v",
           "showlegend": true,
           "x": [
            2005
           ],
           "xaxis": "x",
           "y": [
            0
           ],
           "yaxis": "y",
           "type": "scatter"
          },
          {
           "hovertemplate": "<b>%{hovertext}</b><br><br>exports=Colombia<br>Year=%{x}<br>CountryIndex=%{y}<br>ExportVolume=%{marker.size}<extra></extra>",
           "hovertext": [
            "Colombia"
           ],
           "legendgroup": "Colombia",
           "marker": {
            "color": "#EF553B",
            "size": [
             10871.2469708
            ],
            "sizemode": "area",
            "sizeref": 10.434124096333333,
            "symbol": "circle"
           },
           "mode": "markers",
           "name": "Colombia",
           "orientation": "v",
           "showlegend": true,
           "x": [
            2005
           ],
           "xaxis": "x",
           "y": [
            1
           ],
           "yaxis": "y",
           "type": "scatter"
          },
          {
           "hovertemplate": "<b>%{hovertext}</b><br><br>exports=Ethiopia<br>Year=%{x}<br>CountryIndex=%{y}<br>ExportVolume=%{marker.size}<extra></extra>",
           "hovertext": [
            "Ethiopia"
           ],
           "legendgroup": "Ethiopia",
           "marker": {
            "color": "#00cc96",
            "size": [
             2435.069
            ],
            "sizemode": "area",
            "sizeref": 10.434124096333333,
            "symbol": "circle"
           },
           "mode": "markers",
           "name": "Ethiopia",
           "orientation": "v",
           "showlegend": true,
           "x": [
            2005
           ],
           "xaxis": "x",
           "y": [
            2
           ],
           "yaxis": "y",
           "type": "scatter"
          },
          {
           "hovertemplate": "<b>%{hovertext}</b><br><br>exports=Honduras<br>Year=%{x}<br>CountryIndex=%{y}<br>ExportVolume=%{marker.size}<extra></extra>",
           "hovertext": [
            "Honduras"
           ],
           "legendgroup": "Honduras",
           "marker": {
            "color": "#ab63fa",
            "size": [
             2391.90535
            ],
            "sizemode": "area",
            "sizeref": 10.434124096333333,
            "symbol": "circle"
           },
           "mode": "markers",
           "name": "Honduras",
           "orientation": "v",
           "showlegend": true,
           "x": [
            2005
           ],
           "xaxis": "x",
           "y": [
            3
           ],
           "yaxis": "y",
           "type": "scatter"
          },
          {
           "hovertemplate": "<b>%{hovertext}</b><br><br>exports=Indonesia<br>Year=%{x}<br>CountryIndex=%{y}<br>ExportVolume=%{marker.size}<extra></extra>",
           "hovertext": [
            "Indonesia"
           ],
           "legendgroup": "Indonesia",
           "marker": {
            "color": "#FFA15A",
            "size": [
             6744.09393
            ],
            "sizemode": "area",
            "sizeref": 10.434124096333333,
            "symbol": "circle"
           },
           "mode": "markers",
           "name": "Indonesia",
           "orientation": "v",
           "showlegend": true,
           "x": [
            2005
           ],
           "xaxis": "x",
           "y": [
            4
           ],
           "yaxis": "y",
           "type": "scatter"
          }
         ],
         "name": "2005"
        },
        {
         "data": [
          {
           "hovertemplate": "<b>%{hovertext}</b><br><br>exports=Brazil<br>Year=%{x}<br>CountryIndex=%{y}<br>ExportVolume=%{marker.size}<extra></extra>",
           "hovertext": [
            "Brazil"
           ],
           "legendgroup": "Brazil",
           "marker": {
            "color": "#636efa",
            "size": [
             27368.9019587
            ],
            "sizemode": "area",
            "sizeref": 10.434124096333333,
            "symbol": "circle"
           },
           "mode": "markers",
           "name": "Brazil",
           "orientation": "v",
           "showlegend": true,
           "x": [
            2006
           ],
           "xaxis": "x",
           "y": [
            0
           ],
           "yaxis": "y",
           "type": "scatter"
          },
          {
           "hovertemplate": "<b>%{hovertext}</b><br><br>exports=Colombia<br>Year=%{x}<br>CountryIndex=%{y}<br>ExportVolume=%{marker.size}<extra></extra>",
           "hovertext": [
            "Colombia"
           ],
           "legendgroup": "Colombia",
           "marker": {
            "color": "#EF553B",
            "size": [
             10944.8534601
            ],
            "sizemode": "area",
            "sizeref": 10.434124096333333,
            "symbol": "circle"
           },
           "mode": "markers",
           "name": "Colombia",
           "orientation": "v",
           "showlegend": true,
           "x": [
            2006
           ],
           "xaxis": "x",
           "y": [
            1
           ],
           "yaxis": "y",
           "type": "scatter"
          },
          {
           "hovertemplate": "<b>%{hovertext}</b><br><br>exports=Ethiopia<br>Year=%{x}<br>CountryIndex=%{y}<br>ExportVolume=%{marker.size}<extra></extra>",
           "hovertext": [
            "Ethiopia"
           ],
           "legendgroup": "Ethiopia",
           "marker": {
            "color": "#00cc96",
            "size": [
             2935.56
            ],
            "sizemode": "area",
            "sizeref": 10.434124096333333,
            "symbol": "circle"
           },
           "mode": "markers",
           "name": "Ethiopia",
           "orientation": "v",
           "showlegend": true,
           "x": [
            2006
           ],
           "xaxis": "x",
           "y": [
            2
           ],
           "yaxis": "y",
           "type": "scatter"
          },
          {
           "hovertemplate": "<b>%{hovertext}</b><br><br>exports=Honduras<br>Year=%{x}<br>CountryIndex=%{y}<br>ExportVolume=%{marker.size}<extra></extra>",
           "hovertext": [
            "Honduras"
           ],
           "legendgroup": "Honduras",
           "marker": {
            "color": "#ab63fa",
            "size": [
             2898.4144369
            ],
            "sizemode": "area",
            "sizeref": 10.434124096333333,
            "symbol": "circle"
           },
           "mode": "markers",
           "name": "Honduras",
           "orientation": "v",
           "showlegend": true,
           "x": [
            2006
           ],
           "xaxis": "x",
           "y": [
            3
           ],
           "yaxis": "y",
           "type": "scatter"
          },
          {
           "hovertemplate": "<b>%{hovertext}</b><br><br>exports=Indonesia<br>Year=%{x}<br>CountryIndex=%{y}<br>ExportVolume=%{marker.size}<extra></extra>",
           "hovertext": [
            "Indonesia"
           ],
           "legendgroup": "Indonesia",
           "marker": {
            "color": "#FFA15A",
            "size": [
             5280.4349134
            ],
            "sizemode": "area",
            "sizeref": 10.434124096333333,
            "symbol": "circle"
           },
           "mode": "markers",
           "name": "Indonesia",
           "orientation": "v",
           "showlegend": true,
           "x": [
            2006
           ],
           "xaxis": "x",
           "y": [
            4
           ],
           "yaxis": "y",
           "type": "scatter"
          }
         ],
         "name": "2006"
        },
        {
         "data": [
          {
           "hovertemplate": "<b>%{hovertext}</b><br><br>exports=Brazil<br>Year=%{x}<br>CountryIndex=%{y}<br>ExportVolume=%{marker.size}<extra></extra>",
           "hovertext": [
            "Brazil"
           ],
           "legendgroup": "Brazil",
           "marker": {
            "color": "#636efa",
            "size": [
             28183.5739472
            ],
            "sizemode": "area",
            "sizeref": 10.434124096333333,
            "symbol": "circle"
           },
           "mode": "markers",
           "name": "Brazil",
           "orientation": "v",
           "showlegend": true,
           "x": [
            2007
           ],
           "xaxis": "x",
           "y": [
            0
           ],
           "yaxis": "y",
           "type": "scatter"
          },
          {
           "hovertemplate": "<b>%{hovertext}</b><br><br>exports=Colombia<br>Year=%{x}<br>CountryIndex=%{y}<br>ExportVolume=%{marker.size}<extra></extra>",
           "hovertext": [
            "Colombia"
           ],
           "legendgroup": "Colombia",
           "marker": {
            "color": "#EF553B",
            "size": [
             11300.4206901
            ],
            "sizemode": "area",
            "sizeref": 10.434124096333333,
            "symbol": "circle"
           },
           "mode": "markers",
           "name": "Colombia",
           "orientation": "v",
           "showlegend": true,
           "x": [
            2007
           ],
           "xaxis": "x",
           "y": [
            1
           ],
           "yaxis": "y",
           "type": "scatter"
          },
          {
           "hovertemplate": "<b>%{hovertext}</b><br><br>exports=Ethiopia<br>Year=%{x}<br>CountryIndex=%{y}<br>ExportVolume=%{marker.size}<extra></extra>",
           "hovertext": [
            "Ethiopia"
           ],
           "legendgroup": "Ethiopia",
           "marker": {
            "color": "#00cc96",
            "size": [
             2604.008
            ],
            "sizemode": "area",
            "sizeref": 10.434124096333333,
            "symbol": "circle"
           },
           "mode": "markers",
           "name": "Ethiopia",
           "orientation": "v",
           "showlegend": true,
           "x": [
            2007
           ],
           "xaxis": "x",
           "y": [
            2
           ],
           "yaxis": "y",
           "type": "scatter"
          },
          {
           "hovertemplate": "<b>%{hovertext}</b><br><br>exports=Honduras<br>Year=%{x}<br>CountryIndex=%{y}<br>ExportVolume=%{marker.size}<extra></extra>",
           "hovertext": [
            "Honduras"
           ],
           "legendgroup": "Honduras",
           "marker": {
            "color": "#ab63fa",
            "size": [
             3312.0085632
            ],
            "sizemode": "area",
            "sizeref": 10.434124096333333,
            "symbol": "circle"
           },
           "mode": "markers",
           "name": "Honduras",
           "orientation": "v",
           "showlegend": true,
           "x": [
            2007
           ],
           "xaxis": "x",
           "y": [
            3
           ],
           "yaxis": "y",
           "type": "scatter"
          },
          {
           "hovertemplate": "<b>%{hovertext}</b><br><br>exports=Indonesia<br>Year=%{x}<br>CountryIndex=%{y}<br>ExportVolume=%{marker.size}<extra></extra>",
           "hovertext": [
            "Indonesia"
           ],
           "legendgroup": "Indonesia",
           "marker": {
            "color": "#FFA15A",
            "size": [
             4149.4101006
            ],
            "sizemode": "area",
            "sizeref": 10.434124096333333,
            "symbol": "circle"
           },
           "mode": "markers",
           "name": "Indonesia",
           "orientation": "v",
           "showlegend": true,
           "x": [
            2007
           ],
           "xaxis": "x",
           "y": [
            4
           ],
           "yaxis": "y",
           "type": "scatter"
          }
         ],
         "name": "2007"
        },
        {
         "data": [
          {
           "hovertemplate": "<b>%{hovertext}</b><br><br>exports=Brazil<br>Year=%{x}<br>CountryIndex=%{y}<br>ExportVolume=%{marker.size}<extra></extra>",
           "hovertext": [
            "Brazil"
           ],
           "legendgroup": "Brazil",
           "marker": {
            "color": "#636efa",
            "size": [
             29510.2956935
            ],
            "sizemode": "area",
            "sizeref": 10.434124096333333,
            "symbol": "circle"
           },
           "mode": "markers",
           "name": "Brazil",
           "orientation": "v",
           "showlegend": true,
           "x": [
            2008
           ],
           "xaxis": "x",
           "y": [
            0
           ],
           "yaxis": "y",
           "type": "scatter"
          },
          {
           "hovertemplate": "<b>%{hovertext}</b><br><br>exports=Colombia<br>Year=%{x}<br>CountryIndex=%{y}<br>ExportVolume=%{marker.size}<extra></extra>",
           "hovertext": [
            "Colombia"
           ],
           "legendgroup": "Colombia",
           "marker": {
            "color": "#EF553B",
            "size": [
             11085.1702037
            ],
            "sizemode": "area",
            "sizeref": 10.434124096333333,
            "symbol": "circle"
           },
           "mode": "markers",
           "name": "Colombia",
           "orientation": "v",
           "showlegend": true,
           "x": [
            2008
           ],
           "xaxis": "x",
           "y": [
            1
           ],
           "yaxis": "y",
           "type": "scatter"
          },
          {
           "hovertemplate": "<b>%{hovertext}</b><br><br>exports=Ethiopia<br>Year=%{x}<br>CountryIndex=%{y}<br>ExportVolume=%{marker.size}<extra></extra>",
           "hovertext": [
            "Ethiopia"
           ],
           "legendgroup": "Ethiopia",
           "marker": {
            "color": "#00cc96",
            "size": [
             2851.92097
            ],
            "sizemode": "area",
            "sizeref": 10.434124096333333,
            "symbol": "circle"
           },
           "mode": "markers",
           "name": "Ethiopia",
           "orientation": "v",
           "showlegend": true,
           "x": [
            2008
           ],
           "xaxis": "x",
           "y": [
            2
           ],
           "yaxis": "y",
           "type": "scatter"
          },
          {
           "hovertemplate": "<b>%{hovertext}</b><br><br>exports=Honduras<br>Year=%{x}<br>CountryIndex=%{y}<br>ExportVolume=%{marker.size}<extra></extra>",
           "hovertext": [
            "Honduras"
           ],
           "legendgroup": "Honduras",
           "marker": {
            "color": "#ab63fa",
            "size": [
             3259.4549512
            ],
            "sizemode": "area",
            "sizeref": 10.434124096333333,
            "symbol": "circle"
           },
           "mode": "markers",
           "name": "Honduras",
           "orientation": "v",
           "showlegend": true,
           "x": [
            2008
           ],
           "xaxis": "x",
           "y": [
            3
           ],
           "yaxis": "y",
           "type": "scatter"
          },
          {
           "hovertemplate": "<b>%{hovertext}</b><br><br>exports=Indonesia<br>Year=%{x}<br>CountryIndex=%{y}<br>ExportVolume=%{marker.size}<extra></extra>",
           "hovertext": [
            "Indonesia"
           ],
           "legendgroup": "Indonesia",
           "marker": {
            "color": "#FFA15A",
            "size": [
             5740.6730453
            ],
            "sizemode": "area",
            "sizeref": 10.434124096333333,
            "symbol": "circle"
           },
           "mode": "markers",
           "name": "Indonesia",
           "orientation": "v",
           "showlegend": true,
           "x": [
            2008
           ],
           "xaxis": "x",
           "y": [
            4
           ],
           "yaxis": "y",
           "type": "scatter"
          }
         ],
         "name": "2008"
        },
        {
         "data": [
          {
           "hovertemplate": "<b>%{hovertext}</b><br><br>exports=Brazil<br>Year=%{x}<br>CountryIndex=%{y}<br>ExportVolume=%{marker.size}<extra></extra>",
           "hovertext": [
            "Brazil"
           ],
           "legendgroup": "Brazil",
           "marker": {
            "color": "#636efa",
            "size": [
             30377.9816361
            ],
            "sizemode": "area",
            "sizeref": 10.434124096333333,
            "symbol": "circle"
           },
           "mode": "markers",
           "name": "Brazil",
           "orientation": "v",
           "showlegend": true,
           "x": [
            2009
           ],
           "xaxis": "x",
           "y": [
            0
           ],
           "yaxis": "y",
           "type": "scatter"
          },
          {
           "hovertemplate": "<b>%{hovertext}</b><br><br>exports=Colombia<br>Year=%{x}<br>CountryIndex=%{y}<br>ExportVolume=%{marker.size}<extra></extra>",
           "hovertext": [
            "Colombia"
           ],
           "legendgroup": "Colombia",
           "marker": {
            "color": "#EF553B",
            "size": [
             7893.9267953
            ],
            "sizemode": "area",
            "sizeref": 10.434124096333333,
            "symbol": "circle"
           },
           "mode": "markers",
           "name": "Colombia",
           "orientation": "v",
           "showlegend": true,
           "x": [
            2009
           ],
           "xaxis": "x",
           "y": [
            1
           ],
           "yaxis": "y",
           "type": "scatter"
          },
          {
           "hovertemplate": "<b>%{hovertext}</b><br><br>exports=Ethiopia<br>Year=%{x}<br>CountryIndex=%{y}<br>ExportVolume=%{marker.size}<extra></extra>",
           "hovertext": [
            "Ethiopia"
           ],
           "legendgroup": "Ethiopia",
           "marker": {
            "color": "#00cc96",
            "size": [
             1851.4974532
            ],
            "sizemode": "area",
            "sizeref": 10.434124096333333,
            "symbol": "circle"
           },
           "mode": "markers",
           "name": "Ethiopia",
           "orientation": "v",
           "showlegend": true,
           "x": [
            2009
           ],
           "xaxis": "x",
           "y": [
            2
           ],
           "yaxis": "y",
           "type": "scatter"
          },
          {
           "hovertemplate": "<b>%{hovertext}</b><br><br>exports=Honduras<br>Year=%{x}<br>CountryIndex=%{y}<br>ExportVolume=%{marker.size}<extra></extra>",
           "hovertext": [
            "Honduras"
           ],
           "legendgroup": "Honduras",
           "marker": {
            "color": "#ab63fa",
            "size": [
             3084.1878284
            ],
            "sizemode": "area",
            "sizeref": 10.434124096333333,
            "symbol": "circle"
           },
           "mode": "markers",
           "name": "Honduras",
           "orientation": "v",
           "showlegend": true,
           "x": [
            2009
           ],
           "xaxis": "x",
           "y": [
            3
           ],
           "yaxis": "y",
           "type": "scatter"
          },
          {
           "hovertemplate": "<b>%{hovertext}</b><br><br>exports=Indonesia<br>Year=%{x}<br>CountryIndex=%{y}<br>ExportVolume=%{marker.size}<extra></extra>",
           "hovertext": [
            "Indonesia"
           ],
           "legendgroup": "Indonesia",
           "marker": {
            "color": "#FFA15A",
            "size": [
             7907.2735156
            ],
            "sizemode": "area",
            "sizeref": 10.434124096333333,
            "symbol": "circle"
           },
           "mode": "markers",
           "name": "Indonesia",
           "orientation": "v",
           "showlegend": true,
           "x": [
            2009
           ],
           "xaxis": "x",
           "y": [
            4
           ],
           "yaxis": "y",
           "type": "scatter"
          }
         ],
         "name": "2009"
        },
        {
         "data": [
          {
           "hovertemplate": "<b>%{hovertext}</b><br><br>exports=Brazil<br>Year=%{x}<br>CountryIndex=%{y}<br>ExportVolume=%{marker.size}<extra></extra>",
           "hovertext": [
            "Brazil"
           ],
           "legendgroup": "Brazil",
           "marker": {
            "color": "#636efa",
            "size": [
             33166.6415897
            ],
            "sizemode": "area",
            "sizeref": 10.434124096333333,
            "symbol": "circle"
           },
           "mode": "markers",
           "name": "Brazil",
           "orientation": "v",
           "showlegend": true,
           "x": [
            2010
           ],
           "xaxis": "x",
           "y": [
            0
           ],
           "yaxis": "y",
           "type": "scatter"
          },
          {
           "hovertemplate": "<b>%{hovertext}</b><br><br>exports=Colombia<br>Year=%{x}<br>CountryIndex=%{y}<br>ExportVolume=%{marker.size}<extra></extra>",
           "hovertext": [
            "Colombia"
           ],
           "legendgroup": "Colombia",
           "marker": {
            "color": "#EF553B",
            "size": [
             7821.6345037
            ],
            "sizemode": "area",
            "sizeref": 10.434124096333333,
            "symbol": "circle"
           },
           "mode": "markers",
           "name": "Colombia",
           "orientation": "v",
           "showlegend": true,
           "x": [
            2010
           ],
           "xaxis": "x",
           "y": [
            1
           ],
           "yaxis": "y",
           "type": "scatter"
          },
          {
           "hovertemplate": "<b>%{hovertext}</b><br><br>exports=Ethiopia<br>Year=%{x}<br>CountryIndex=%{y}<br>ExportVolume=%{marker.size}<extra></extra>",
           "hovertext": [
            "Ethiopia"
           ],
           "legendgroup": "Ethiopia",
           "marker": {
            "color": "#00cc96",
            "size": [
             3324.1025511
            ],
            "sizemode": "area",
            "sizeref": 10.434124096333333,
            "symbol": "circle"
           },
           "mode": "markers",
           "name": "Ethiopia",
           "orientation": "v",
           "showlegend": true,
           "x": [
            2010
           ],
           "xaxis": "x",
           "y": [
            2
           ],
           "yaxis": "y",
           "type": "scatter"
          },
          {
           "hovertemplate": "<b>%{hovertext}</b><br><br>exports=Honduras<br>Year=%{x}<br>CountryIndex=%{y}<br>ExportVolume=%{marker.size}<extra></extra>",
           "hovertext": [
            "Honduras"
           ],
           "legendgroup": "Honduras",
           "marker": {
            "color": "#ab63fa",
            "size": [
             3349.3976392
            ],
            "sizemode": "area",
            "sizeref": 10.434124096333333,
            "symbol": "circle"
           },
           "mode": "markers",
           "name": "Honduras",
           "orientation": "v",
           "showlegend": true,
           "x": [
            2010
           ],
           "xaxis": "x",
           "y": [
            3
           ],
           "yaxis": "y",
           "type": "scatter"
          },
          {
           "hovertemplate": "<b>%{hovertext}</b><br><br>exports=Indonesia<br>Year=%{x}<br>CountryIndex=%{y}<br>ExportVolume=%{marker.size}<extra></extra>",
           "hovertext": [
            "Indonesia"
           ],
           "legendgroup": "Indonesia",
           "marker": {
            "color": "#FFA15A",
            "size": [
             5489.1475563
            ],
            "sizemode": "area",
            "sizeref": 10.434124096333333,
            "symbol": "circle"
           },
           "mode": "markers",
           "name": "Indonesia",
           "orientation": "v",
           "showlegend": true,
           "x": [
            2010
           ],
           "xaxis": "x",
           "y": [
            4
           ],
           "yaxis": "y",
           "type": "scatter"
          }
         ],
         "name": "2010"
        },
        {
         "data": [
          {
           "hovertemplate": "<b>%{hovertext}</b><br><br>exports=Brazil<br>Year=%{x}<br>CountryIndex=%{y}<br>ExportVolume=%{marker.size}<extra></extra>",
           "hovertext": [
            "Brazil"
           ],
           "legendgroup": "Brazil",
           "marker": {
            "color": "#636efa",
            "size": [
             33806.0093278
            ],
            "sizemode": "area",
            "sizeref": 10.434124096333333,
            "symbol": "circle"
           },
           "mode": "markers",
           "name": "Brazil",
           "orientation": "v",
           "showlegend": true,
           "x": [
            2011
           ],
           "xaxis": "x",
           "y": [
            0
           ],
           "yaxis": "y",
           "type": "scatter"
          },
          {
           "hovertemplate": "<b>%{hovertext}</b><br><br>exports=Colombia<br>Year=%{x}<br>CountryIndex=%{y}<br>ExportVolume=%{marker.size}<extra></extra>",
           "hovertext": [
            "Colombia"
           ],
           "legendgroup": "Colombia",
           "marker": {
            "color": "#EF553B",
            "size": [
             7733.625254
            ],
            "sizemode": "area",
            "sizeref": 10.434124096333333,
            "symbol": "circle"
           },
           "mode": "markers",
           "name": "Colombia",
           "orientation": "v",
           "showlegend": true,
           "x": [
            2011
           ],
           "xaxis": "x",
           "y": [
            1
           ],
           "yaxis": "y",
           "type": "scatter"
          },
          {
           "hovertemplate": "<b>%{hovertext}</b><br><br>exports=Ethiopia<br>Year=%{x}<br>CountryIndex=%{y}<br>ExportVolume=%{marker.size}<extra></extra>",
           "hovertext": [
            "Ethiopia"
           ],
           "legendgroup": "Ethiopia",
           "marker": {
            "color": "#00cc96",
            "size": [
             2675.4190125
            ],
            "sizemode": "area",
            "sizeref": 10.434124096333333,
            "symbol": "circle"
           },
           "mode": "markers",
           "name": "Ethiopia",
           "orientation": "v",
           "showlegend": true,
           "x": [
            2011
           ],
           "xaxis": "x",
           "y": [
            2
           ],
           "yaxis": "y",
           "type": "scatter"
          },
          {
           "hovertemplate": "<b>%{hovertext}</b><br><br>exports=Honduras<br>Year=%{x}<br>CountryIndex=%{y}<br>ExportVolume=%{marker.size}<extra></extra>",
           "hovertext": [
            "Honduras"
           ],
           "legendgroup": "Honduras",
           "marker": {
            "color": "#ab63fa",
            "size": [
             3947.1411511
            ],
            "sizemode": "area",
            "sizeref": 10.434124096333333,
            "symbol": "circle"
           },
           "mode": "markers",
           "name": "Honduras",
           "orientation": "v",
           "showlegend": true,
           "x": [
            2011
           ],
           "xaxis": "x",
           "y": [
            3
           ],
           "yaxis": "y",
           "type": "scatter"
          },
          {
           "hovertemplate": "<b>%{hovertext}</b><br><br>exports=Indonesia<br>Year=%{x}<br>CountryIndex=%{y}<br>ExportVolume=%{marker.size}<extra></extra>",
           "hovertext": [
            "Indonesia"
           ],
           "legendgroup": "Indonesia",
           "marker": {
            "color": "#FFA15A",
            "size": [
             3919.891883
            ],
            "sizemode": "area",
            "sizeref": 10.434124096333333,
            "symbol": "circle"
           },
           "mode": "markers",
           "name": "Indonesia",
           "orientation": "v",
           "showlegend": true,
           "x": [
            2011
           ],
           "xaxis": "x",
           "y": [
            4
           ],
           "yaxis": "y",
           "type": "scatter"
          }
         ],
         "name": "2011"
        },
        {
         "data": [
          {
           "hovertemplate": "<b>%{hovertext}</b><br><br>exports=Brazil<br>Year=%{x}<br>CountryIndex=%{y}<br>ExportVolume=%{marker.size}<extra></extra>",
           "hovertext": [
            "Brazil"
           ],
           "legendgroup": "Brazil",
           "marker": {
            "color": "#636efa",
            "size": [
             28549.4258909
            ],
            "sizemode": "area",
            "sizeref": 10.434124096333333,
            "symbol": "circle"
           },
           "mode": "markers",
           "name": "Brazil",
           "orientation": "v",
           "showlegend": true,
           "x": [
            2012
           ],
           "xaxis": "x",
           "y": [
            0
           ],
           "yaxis": "y",
           "type": "scatter"
          },
          {
           "hovertemplate": "<b>%{hovertext}</b><br><br>exports=Colombia<br>Year=%{x}<br>CountryIndex=%{y}<br>ExportVolume=%{marker.size}<extra></extra>",
           "hovertext": [
            "Colombia"
           ],
           "legendgroup": "Colombia",
           "marker": {
            "color": "#EF553B",
            "size": [
             7170.203291
            ],
            "sizemode": "area",
            "sizeref": 10.434124096333333,
            "symbol": "circle"
           },
           "mode": "markers",
           "name": "Colombia",
           "orientation": "v",
           "showlegend": true,
           "x": [
            2012
           ],
           "xaxis": "x",
           "y": [
            1
           ],
           "yaxis": "y",
           "type": "scatter"
          },
          {
           "hovertemplate": "<b>%{hovertext}</b><br><br>exports=Ethiopia<br>Year=%{x}<br>CountryIndex=%{y}<br>ExportVolume=%{marker.size}<extra></extra>",
           "hovertext": [
            "Ethiopia"
           ],
           "legendgroup": "Ethiopia",
           "marker": {
            "color": "#00cc96",
            "size": [
             3202.5924066
            ],
            "sizemode": "area",
            "sizeref": 10.434124096333333,
            "symbol": "circle"
           },
           "mode": "markers",
           "name": "Ethiopia",
           "orientation": "v",
           "showlegend": true,
           "x": [
            2012
           ],
           "xaxis": "x",
           "y": [
            2
           ],
           "yaxis": "y",
           "type": "scatter"
          },
          {
           "hovertemplate": "<b>%{hovertext}</b><br><br>exports=Honduras<br>Year=%{x}<br>CountryIndex=%{y}<br>ExportVolume=%{marker.size}<extra></extra>",
           "hovertext": [
            "Honduras"
           ],
           "legendgroup": "Honduras",
           "marker": {
            "color": "#ab63fa",
            "size": [
             5507.9849391
            ],
            "sizemode": "area",
            "sizeref": 10.434124096333333,
            "symbol": "circle"
           },
           "mode": "markers",
           "name": "Honduras",
           "orientation": "v",
           "showlegend": true,
           "x": [
            2012
           ],
           "xaxis": "x",
           "y": [
            3
           ],
           "yaxis": "y",
           "type": "scatter"
          },
          {
           "hovertemplate": "<b>%{hovertext}</b><br><br>exports=Indonesia<br>Year=%{x}<br>CountryIndex=%{y}<br>ExportVolume=%{marker.size}<extra></extra>",
           "hovertext": [
            "Indonesia"
           ],
           "legendgroup": "Indonesia",
           "marker": {
            "color": "#FFA15A",
            "size": [
             8205.7408259
            ],
            "sizemode": "area",
            "sizeref": 10.434124096333333,
            "symbol": "circle"
           },
           "mode": "markers",
           "name": "Indonesia",
           "orientation": "v",
           "showlegend": true,
           "x": [
            2012
           ],
           "xaxis": "x",
           "y": [
            4
           ],
           "yaxis": "y",
           "type": "scatter"
          }
         ],
         "name": "2012"
        },
        {
         "data": [
          {
           "hovertemplate": "<b>%{hovertext}</b><br><br>exports=Brazil<br>Year=%{x}<br>CountryIndex=%{y}<br>ExportVolume=%{marker.size}<extra></extra>",
           "hovertext": [
            "Brazil"
           ],
           "legendgroup": "Brazil",
           "marker": {
            "color": "#636efa",
            "size": [
             31650.5629454
            ],
            "sizemode": "area",
            "sizeref": 10.434124096333333,
            "symbol": "circle"
           },
           "mode": "markers",
           "name": "Brazil",
           "orientation": "v",
           "showlegend": true,
           "x": [
            2013
           ],
           "xaxis": "x",
           "y": [
            0
           ],
           "yaxis": "y",
           "type": "scatter"
          },
          {
           "hovertemplate": "<b>%{hovertext}</b><br><br>exports=Colombia<br>Year=%{x}<br>CountryIndex=%{y}<br>ExportVolume=%{marker.size}<extra></extra>",
           "hovertext": [
            "Colombia"
           ],
           "legendgroup": "Colombia",
           "marker": {
            "color": "#EF553B",
            "size": [
             9669.907367
            ],
            "sizemode": "area",
            "sizeref": 10.434124096333333,
            "symbol": "circle"
           },
           "mode": "markers",
           "name": "Colombia",
           "orientation": "v",
           "showlegend": true,
           "x": [
            2013
           ],
           "xaxis": "x",
           "y": [
            1
           ],
           "yaxis": "y",
           "type": "scatter"
          },
          {
           "hovertemplate": "<b>%{hovertext}</b><br><br>exports=Ethiopia<br>Year=%{x}<br>CountryIndex=%{y}<br>ExportVolume=%{marker.size}<extra></extra>",
           "hovertext": [
            "Ethiopia"
           ],
           "legendgroup": "Ethiopia",
           "marker": {
            "color": "#00cc96",
            "size": [
             2870.0752483
            ],
            "sizemode": "area",
            "sizeref": 10.434124096333333,
            "symbol": "circle"
           },
           "mode": "markers",
           "name": "Ethiopia",
           "orientation": "v",
           "showlegend": true,
           "x": [
            2013
           ],
           "xaxis": "x",
           "y": [
            2
           ],
           "yaxis": "y",
           "type": "scatter"
          },
          {
           "hovertemplate": "<b>%{hovertext}</b><br><br>exports=Honduras<br>Year=%{x}<br>CountryIndex=%{y}<br>ExportVolume=%{marker.size}<extra></extra>",
           "hovertext": [
            "Honduras"
           ],
           "legendgroup": "Honduras",
           "marker": {
            "color": "#ab63fa",
            "size": [
             4185.1189243
            ],
            "sizemode": "area",
            "sizeref": 10.434124096333333,
            "symbol": "circle"
           },
           "mode": "markers",
           "name": "Honduras",
           "orientation": "v",
           "showlegend": true,
           "x": [
            2013
           ],
           "xaxis": "x",
           "y": [
            3
           ],
           "yaxis": "y",
           "type": "scatter"
          },
          {
           "hovertemplate": "<b>%{hovertext}</b><br><br>exports=Indonesia<br>Year=%{x}<br>CountryIndex=%{y}<br>ExportVolume=%{marker.size}<extra></extra>",
           "hovertext": [
            "Indonesia"
           ],
           "legendgroup": "Indonesia",
           "marker": {
            "color": "#FFA15A",
            "size": [
             9254.8073308
            ],
            "sizemode": "area",
            "sizeref": 10.434124096333333,
            "symbol": "circle"
           },
           "mode": "markers",
           "name": "Indonesia",
           "orientation": "v",
           "showlegend": true,
           "x": [
            2013
           ],
           "xaxis": "x",
           "y": [
            4
           ],
           "yaxis": "y",
           "type": "scatter"
          }
         ],
         "name": "2013"
        },
        {
         "data": [
          {
           "hovertemplate": "<b>%{hovertext}</b><br><br>exports=Brazil<br>Year=%{x}<br>CountryIndex=%{y}<br>ExportVolume=%{marker.size}<extra></extra>",
           "hovertext": [
            "Brazil"
           ],
           "legendgroup": "Brazil",
           "marker": {
            "color": "#636efa",
            "size": [
             37335.1728254
            ],
            "sizemode": "area",
            "sizeref": 10.434124096333333,
            "symbol": "circle"
           },
           "mode": "markers",
           "name": "Brazil",
           "orientation": "v",
           "showlegend": true,
           "x": [
            2014
           ],
           "xaxis": "x",
           "y": [
            0
           ],
           "yaxis": "y",
           "type": "scatter"
          },
          {
           "hovertemplate": "<b>%{hovertext}</b><br><br>exports=Colombia<br>Year=%{x}<br>CountryIndex=%{y}<br>ExportVolume=%{marker.size}<extra></extra>",
           "hovertext": [
            "Colombia"
           ],
           "legendgroup": "Colombia",
           "marker": {
            "color": "#EF553B",
            "size": [
             10954.4083574
            ],
            "sizemode": "area",
            "sizeref": 10.434124096333333,
            "symbol": "circle"
           },
           "mode": "markers",
           "name": "Colombia",
           "orientation": "v",
           "showlegend": true,
           "x": [
            2014
           ],
           "xaxis": "x",
           "y": [
            1
           ],
           "yaxis": "y",
           "type": "scatter"
          },
          {
           "hovertemplate": "<b>%{hovertext}</b><br><br>exports=Ethiopia<br>Year=%{x}<br>CountryIndex=%{y}<br>ExportVolume=%{marker.size}<extra></extra>",
           "hovertext": [
            "Ethiopia"
           ],
           "legendgroup": "Ethiopia",
           "marker": {
            "color": "#00cc96",
            "size": [
             3116.69037
            ],
            "sizemode": "area",
            "sizeref": 10.434124096333333,
            "symbol": "circle"
           },
           "mode": "markers",
           "name": "Ethiopia",
           "orientation": "v",
           "showlegend": true,
           "x": [
            2014
           ],
           "xaxis": "x",
           "y": [
            2
           ],
           "yaxis": "y",
           "type": "scatter"
          },
          {
           "hovertemplate": "<b>%{hovertext}</b><br><br>exports=Honduras<br>Year=%{x}<br>CountryIndex=%{y}<br>ExportVolume=%{marker.size}<extra></extra>",
           "hovertext": [
            "Honduras"
           ],
           "legendgroup": "Honduras",
           "marker": {
            "color": "#ab63fa",
            "size": [
             4251.826667
            ],
            "sizemode": "area",
            "sizeref": 10.434124096333333,
            "symbol": "circle"
           },
           "mode": "markers",
           "name": "Honduras",
           "orientation": "v",
           "showlegend": true,
           "x": [
            2014
           ],
           "xaxis": "x",
           "y": [
            3
           ],
           "yaxis": "y",
           "type": "scatter"
          },
          {
           "hovertemplate": "<b>%{hovertext}</b><br><br>exports=Indonesia<br>Year=%{x}<br>CountryIndex=%{y}<br>ExportVolume=%{marker.size}<extra></extra>",
           "hovertext": [
            "Indonesia"
           ],
           "legendgroup": "Indonesia",
           "marker": {
            "color": "#FFA15A",
            "size": [
             6174.8097126
            ],
            "sizemode": "area",
            "sizeref": 10.434124096333333,
            "symbol": "circle"
           },
           "mode": "markers",
           "name": "Indonesia",
           "orientation": "v",
           "showlegend": true,
           "x": [
            2014
           ],
           "xaxis": "x",
           "y": [
            4
           ],
           "yaxis": "y",
           "type": "scatter"
          }
         ],
         "name": "2014"
        },
        {
         "data": [
          {
           "hovertemplate": "<b>%{hovertext}</b><br><br>exports=Brazil<br>Year=%{x}<br>CountryIndex=%{y}<br>ExportVolume=%{marker.size}<extra></extra>",
           "hovertext": [
            "Brazil"
           ],
           "legendgroup": "Brazil",
           "marker": {
            "color": "#636efa",
            "size": [
             37562.8467468
            ],
            "sizemode": "area",
            "sizeref": 10.434124096333333,
            "symbol": "circle"
           },
           "mode": "markers",
           "name": "Brazil",
           "orientation": "v",
           "showlegend": true,
           "x": [
            2015
           ],
           "xaxis": "x",
           "y": [
            0
           ],
           "yaxis": "y",
           "type": "scatter"
          },
          {
           "hovertemplate": "<b>%{hovertext}</b><br><br>exports=Colombia<br>Year=%{x}<br>CountryIndex=%{y}<br>ExportVolume=%{marker.size}<extra></extra>",
           "hovertext": [
            "Colombia"
           ],
           "legendgroup": "Colombia",
           "marker": {
            "color": "#EF553B",
            "size": [
             12716.3846704
            ],
            "sizemode": "area",
            "sizeref": 10.434124096333333,
            "symbol": "circle"
           },
           "mode": "markers",
           "name": "Colombia",
           "orientation": "v",
           "showlegend": true,
           "x": [
            2015
           ],
           "xaxis": "x",
           "y": [
            1
           ],
           "yaxis": "y",
           "type": "scatter"
          },
          {
           "hovertemplate": "<b>%{hovertext}</b><br><br>exports=Ethiopia<br>Year=%{x}<br>CountryIndex=%{y}<br>ExportVolume=%{marker.size}<extra></extra>",
           "hovertext": [
            "Ethiopia"
           ],
           "legendgroup": "Ethiopia",
           "marker": {
            "color": "#00cc96",
            "size": [
             2984.9748167
            ],
            "sizemode": "area",
            "sizeref": 10.434124096333333,
            "symbol": "circle"
           },
           "mode": "markers",
           "name": "Ethiopia",
           "orientation": "v",
           "showlegend": true,
           "x": [
            2015
           ],
           "xaxis": "x",
           "y": [
            2
           ],
           "yaxis": "y",
           "type": "scatter"
          },
          {
           "hovertemplate": "<b>%{hovertext}</b><br><br>exports=Honduras<br>Year=%{x}<br>CountryIndex=%{y}<br>ExportVolume=%{marker.size}<extra></extra>",
           "hovertext": [
            "Honduras"
           ],
           "legendgroup": "Honduras",
           "marker": {
            "color": "#ab63fa",
            "size": [
             5029.6670058
            ],
            "sizemode": "area",
            "sizeref": 10.434124096333333,
            "symbol": "circle"
           },
           "mode": "markers",
           "name": "Honduras",
           "orientation": "v",
           "showlegend": true,
           "x": [
            2015
           ],
           "xaxis": "x",
           "y": [
            3
           ],
           "yaxis": "y",
           "type": "scatter"
          },
          {
           "hovertemplate": "<b>%{hovertext}</b><br><br>exports=Indonesia<br>Year=%{x}<br>CountryIndex=%{y}<br>ExportVolume=%{marker.size}<extra></extra>",
           "hovertext": [
            "Indonesia"
           ],
           "legendgroup": "Indonesia",
           "marker": {
            "color": "#FFA15A",
            "size": [
             8378.6875964
            ],
            "sizemode": "area",
            "sizeref": 10.434124096333333,
            "symbol": "circle"
           },
           "mode": "markers",
           "name": "Indonesia",
           "orientation": "v",
           "showlegend": true,
           "x": [
            2015
           ],
           "xaxis": "x",
           "y": [
            4
           ],
           "yaxis": "y",
           "type": "scatter"
          }
         ],
         "name": "2015"
        },
        {
         "data": [
          {
           "hovertemplate": "<b>%{hovertext}</b><br><br>exports=Brazil<br>Year=%{x}<br>CountryIndex=%{y}<br>ExportVolume=%{marker.size}<extra></extra>",
           "hovertext": [
            "Brazil"
           ],
           "legendgroup": "Brazil",
           "marker": {
            "color": "#636efa",
            "size": [
             34269.1502534
            ],
            "sizemode": "area",
            "sizeref": 10.434124096333333,
            "symbol": "circle"
           },
           "mode": "markers",
           "name": "Brazil",
           "orientation": "v",
           "showlegend": true,
           "x": [
            2016
           ],
           "xaxis": "x",
           "y": [
            0
           ],
           "yaxis": "y",
           "type": "scatter"
          },
          {
           "hovertemplate": "<b>%{hovertext}</b><br><br>exports=Colombia<br>Year=%{x}<br>CountryIndex=%{y}<br>ExportVolume=%{marker.size}<extra></extra>",
           "hovertext": [
            "Colombia"
           ],
           "legendgroup": "Colombia",
           "marker": {
            "color": "#EF553B",
            "size": [
             12831.3907266
            ],
            "sizemode": "area",
            "sizeref": 10.434124096333333,
            "symbol": "circle"
           },
           "mode": "markers",
           "name": "Colombia",
           "orientation": "v",
           "showlegend": true,
           "x": [
            2016
           ],
           "xaxis": "x",
           "y": [
            1
           ],
           "yaxis": "y",
           "type": "scatter"
          },
          {
           "hovertemplate": "<b>%{hovertext}</b><br><br>exports=Ethiopia<br>Year=%{x}<br>CountryIndex=%{y}<br>ExportVolume=%{marker.size}<extra></extra>",
           "hovertext": [
            "Ethiopia"
           ],
           "legendgroup": "Ethiopia",
           "marker": {
            "color": "#00cc96",
            "size": [
             3000.72445
            ],
            "sizemode": "area",
            "sizeref": 10.434124096333333,
            "symbol": "circle"
           },
           "mode": "markers",
           "name": "Ethiopia",
           "orientation": "v",
           "showlegend": true,
           "x": [
            2016
           ],
           "xaxis": "x",
           "y": [
            2
           ],
           "yaxis": "y",
           "type": "scatter"
          },
          {
           "hovertemplate": "<b>%{hovertext}</b><br><br>exports=Honduras<br>Year=%{x}<br>CountryIndex=%{y}<br>ExportVolume=%{marker.size}<extra></extra>",
           "hovertext": [
            "Honduras"
           ],
           "legendgroup": "Honduras",
           "marker": {
            "color": "#ab63fa",
            "size": [
             5305.953308
            ],
            "sizemode": "area",
            "sizeref": 10.434124096333333,
            "symbol": "circle"
           },
           "mode": "markers",
           "name": "Honduras",
           "orientation": "v",
           "showlegend": true,
           "x": [
            2016
           ],
           "xaxis": "x",
           "y": [
            3
           ],
           "yaxis": "y",
           "type": "scatter"
          },
          {
           "hovertemplate": "<b>%{hovertext}</b><br><br>exports=Indonesia<br>Year=%{x}<br>CountryIndex=%{y}<br>ExportVolume=%{marker.size}<extra></extra>",
           "hovertext": [
            "Indonesia"
           ],
           "legendgroup": "Indonesia",
           "marker": {
            "color": "#FFA15A",
            "size": [
             6545.3920455
            ],
            "sizemode": "area",
            "sizeref": 10.434124096333333,
            "symbol": "circle"
           },
           "mode": "markers",
           "name": "Indonesia",
           "orientation": "v",
           "showlegend": true,
           "x": [
            2016
           ],
           "xaxis": "x",
           "y": [
            4
           ],
           "yaxis": "y",
           "type": "scatter"
          }
         ],
         "name": "2016"
        },
        {
         "data": [
          {
           "hovertemplate": "<b>%{hovertext}</b><br><br>exports=Brazil<br>Year=%{x}<br>CountryIndex=%{y}<br>ExportVolume=%{marker.size}<extra></extra>",
           "hovertext": [
            "Brazil"
           ],
           "legendgroup": "Brazil",
           "marker": {
            "color": "#636efa",
            "size": [
             30924.5678492
            ],
            "sizemode": "area",
            "sizeref": 10.434124096333333,
            "symbol": "circle"
           },
           "mode": "markers",
           "name": "Brazil",
           "orientation": "v",
           "showlegend": true,
           "x": [
            2017
           ],
           "xaxis": "x",
           "y": [
            0
           ],
           "yaxis": "y",
           "type": "scatter"
          },
          {
           "hovertemplate": "<b>%{hovertext}</b><br><br>exports=Colombia<br>Year=%{x}<br>CountryIndex=%{y}<br>ExportVolume=%{marker.size}<extra></extra>",
           "hovertext": [
            "Colombia"
           ],
           "legendgroup": "Colombia",
           "marker": {
            "color": "#EF553B",
            "size": [
             12984.5957468
            ],
            "sizemode": "area",
            "sizeref": 10.434124096333333,
            "symbol": "circle"
           },
           "mode": "markers",
           "name": "Colombia",
           "orientation": "v",
           "showlegend": true,
           "x": [
            2017
           ],
           "xaxis": "x",
           "y": [
            1
           ],
           "yaxis": "y",
           "type": "scatter"
          },
          {
           "hovertemplate": "<b>%{hovertext}</b><br><br>exports=Ethiopia<br>Year=%{x}<br>CountryIndex=%{y}<br>ExportVolume=%{marker.size}<extra></extra>",
           "hovertext": [
            "Ethiopia"
           ],
           "legendgroup": "Ethiopia",
           "marker": {
            "color": "#00cc96",
            "size": [
             3773.4063333
            ],
            "sizemode": "area",
            "sizeref": 10.434124096333333,
            "symbol": "circle"
           },
           "mode": "markers",
           "name": "Ethiopia",
           "orientation": "v",
           "showlegend": true,
           "x": [
            2017
           ],
           "xaxis": "x",
           "y": [
            2
           ],
           "yaxis": "y",
           "type": "scatter"
          },
          {
           "hovertemplate": "<b>%{hovertext}</b><br><br>exports=Honduras<br>Year=%{x}<br>CountryIndex=%{y}<br>ExportVolume=%{marker.size}<extra></extra>",
           "hovertext": [
            "Honduras"
           ],
           "legendgroup": "Honduras",
           "marker": {
            "color": "#ab63fa",
            "size": [
             7340.8439517
            ],
            "sizemode": "area",
            "sizeref": 10.434124096333333,
            "symbol": "circle"
           },
           "mode": "markers",
           "name": "Honduras",
           "orientation": "v",
           "showlegend": true,
           "x": [
            2017
           ],
           "xaxis": "x",
           "y": [
            3
           ],
           "yaxis": "y",
           "type": "scatter"
          },
          {
           "hovertemplate": "<b>%{hovertext}</b><br><br>exports=Indonesia<br>Year=%{x}<br>CountryIndex=%{y}<br>ExportVolume=%{marker.size}<extra></extra>",
           "hovertext": [
            "Indonesia"
           ],
           "legendgroup": "Indonesia",
           "marker": {
            "color": "#FFA15A",
            "size": [
             8197.5739739
            ],
            "sizemode": "area",
            "sizeref": 10.434124096333333,
            "symbol": "circle"
           },
           "mode": "markers",
           "name": "Indonesia",
           "orientation": "v",
           "showlegend": true,
           "x": [
            2017
           ],
           "xaxis": "x",
           "y": [
            4
           ],
           "yaxis": "y",
           "type": "scatter"
          }
         ],
         "name": "2017"
        },
        {
         "data": [
          {
           "hovertemplate": "<b>%{hovertext}</b><br><br>exports=Brazil<br>Year=%{x}<br>CountryIndex=%{y}<br>ExportVolume=%{marker.size}<extra></extra>",
           "hovertext": [
            "Brazil"
           ],
           "legendgroup": "Brazil",
           "marker": {
            "color": "#636efa",
            "size": [
             35382.5564866
            ],
            "sizemode": "area",
            "sizeref": 10.434124096333333,
            "symbol": "circle"
           },
           "mode": "markers",
           "name": "Brazil",
           "orientation": "v",
           "showlegend": true,
           "x": [
            2018
           ],
           "xaxis": "x",
           "y": [
            0
           ],
           "yaxis": "y",
           "type": "scatter"
          },
          {
           "hovertemplate": "<b>%{hovertext}</b><br><br>exports=Colombia<br>Year=%{x}<br>CountryIndex=%{y}<br>ExportVolume=%{marker.size}<extra></extra>",
           "hovertext": [
            "Colombia"
           ],
           "legendgroup": "Colombia",
           "marker": {
            "color": "#EF553B",
            "size": [
             12807.9726245
            ],
            "sizemode": "area",
            "sizeref": 10.434124096333333,
            "symbol": "circle"
           },
           "mode": "markers",
           "name": "Colombia",
           "orientation": "v",
           "showlegend": true,
           "x": [
            2018
           ],
           "xaxis": "x",
           "y": [
            1
           ],
           "yaxis": "y",
           "type": "scatter"
          },
          {
           "hovertemplate": "<b>%{hovertext}</b><br><br>exports=Ethiopia<br>Year=%{x}<br>CountryIndex=%{y}<br>ExportVolume=%{marker.size}<extra></extra>",
           "hovertext": [
            "Ethiopia"
           ],
           "legendgroup": "Ethiopia",
           "marker": {
            "color": "#00cc96",
            "size": [
             3589.04802
            ],
            "sizemode": "area",
            "sizeref": 10.434124096333333,
            "symbol": "circle"
           },
           "mode": "markers",
           "name": "Ethiopia",
           "orientation": "v",
           "showlegend": true,
           "x": [
            2018
           ],
           "xaxis": "x",
           "y": [
            2
           ],
           "yaxis": "y",
           "type": "scatter"
          },
          {
           "hovertemplate": "<b>%{hovertext}</b><br><br>exports=Honduras<br>Year=%{x}<br>CountryIndex=%{y}<br>ExportVolume=%{marker.size}<extra></extra>",
           "hovertext": [
            "Honduras"
           ],
           "legendgroup": "Honduras",
           "marker": {
            "color": "#ab63fa",
            "size": [
             7143.8844713
            ],
            "sizemode": "area",
            "sizeref": 10.434124096333333,
            "symbol": "circle"
           },
           "mode": "markers",
           "name": "Honduras",
           "orientation": "v",
           "showlegend": true,
           "x": [
            2018
           ],
           "xaxis": "x",
           "y": [
            3
           ],
           "yaxis": "y",
           "type": "scatter"
          },
          {
           "hovertemplate": "<b>%{hovertext}</b><br><br>exports=Indonesia<br>Year=%{x}<br>CountryIndex=%{y}<br>ExportVolume=%{marker.size}<extra></extra>",
           "hovertext": [
            "Indonesia"
           ],
           "legendgroup": "Indonesia",
           "marker": {
            "color": "#FFA15A",
            "size": [
             4538.8390548
            ],
            "sizemode": "area",
            "sizeref": 10.434124096333333,
            "symbol": "circle"
           },
           "mode": "markers",
           "name": "Indonesia",
           "orientation": "v",
           "showlegend": true,
           "x": [
            2018
           ],
           "xaxis": "x",
           "y": [
            4
           ],
           "yaxis": "y",
           "type": "scatter"
          }
         ],
         "name": "2018"
        }
       ],
       "config": {
        "plotlyServerURL": "https://plot.ly"
       }
      },
      "text/html": "<div>                            <div id=\"3736a581-df82-4a74-a5c6-af662782d3d0\" class=\"plotly-graph-div\" style=\"height:525px; width:100%;\"></div>            <script type=\"text/javascript\">                require([\"plotly\"], function(Plotly) {                    window.PLOTLYENV=window.PLOTLYENV || {};                                    if (document.getElementById(\"3736a581-df82-4a74-a5c6-af662782d3d0\")) {                    Plotly.newPlot(                        \"3736a581-df82-4a74-a5c6-af662782d3d0\",                        [{\"hovertemplate\":\"\\u003cb\\u003e%{hovertext}\\u003c\\u002fb\\u003e\\u003cbr\\u003e\\u003cbr\\u003eexports=Brazil\\u003cbr\\u003eYear=%{x}\\u003cbr\\u003eCountryIndex=%{y}\\u003cbr\\u003eExportVolume=%{marker.size}\\u003cextra\\u003e\\u003c\\u002fextra\\u003e\",\"hovertext\":[\"Brazil\"],\"legendgroup\":\"Brazil\",\"marker\":{\"color\":\"#636efa\",\"size\":[16935.7876003],\"sizemode\":\"area\",\"sizeref\":10.434124096333333,\"symbol\":\"circle\"},\"mode\":\"markers\",\"name\":\"Brazil\",\"orientation\":\"v\",\"showlegend\":true,\"x\":[1990],\"xaxis\":\"x\",\"y\":[0],\"yaxis\":\"y\",\"type\":\"scatter\"},{\"hovertemplate\":\"\\u003cb\\u003e%{hovertext}\\u003c\\u002fb\\u003e\\u003cbr\\u003e\\u003cbr\\u003eexports=Colombia\\u003cbr\\u003eYear=%{x}\\u003cbr\\u003eCountryIndex=%{y}\\u003cbr\\u003eExportVolume=%{marker.size}\\u003cextra\\u003e\\u003c\\u002fextra\\u003e\",\"hovertext\":[\"Colombia\"],\"legendgroup\":\"Colombia\",\"marker\":{\"color\":\"#EF553B\",\"size\":[13943.8700004],\"sizemode\":\"area\",\"sizeref\":10.434124096333333,\"symbol\":\"circle\"},\"mode\":\"markers\",\"name\":\"Colombia\",\"orientation\":\"v\",\"showlegend\":true,\"x\":[1990],\"xaxis\":\"x\",\"y\":[1],\"yaxis\":\"y\",\"type\":\"scatter\"},{\"hovertemplate\":\"\\u003cb\\u003e%{hovertext}\\u003c\\u002fb\\u003e\\u003cbr\\u003e\\u003cbr\\u003eexports=Ethiopia\\u003cbr\\u003eYear=%{x}\\u003cbr\\u003eCountryIndex=%{y}\\u003cbr\\u003eExportVolume=%{marker.size}\\u003cextra\\u003e\\u003c\\u002fextra\\u003e\",\"hovertext\":[\"Ethiopia\"],\"legendgroup\":\"Ethiopia\",\"marker\":{\"color\":\"#00cc96\",\"size\":[1074.101],\"sizemode\":\"area\",\"sizeref\":10.434124096333333,\"symbol\":\"circle\"},\"mode\":\"markers\",\"name\":\"Ethiopia\",\"orientation\":\"v\",\"showlegend\":true,\"x\":[1990],\"xaxis\":\"x\",\"y\":[2],\"yaxis\":\"y\",\"type\":\"scatter\"},{\"hovertemplate\":\"\\u003cb\\u003e%{hovertext}\\u003c\\u002fb\\u003e\\u003cbr\\u003e\\u003cbr\\u003eexports=Honduras\\u003cbr\\u003eYear=%{x}\\u003cbr\\u003eCountryIndex=%{y}\\u003cbr\\u003eExportVolume=%{marker.size}\\u003cextra\\u003e\\u003c\\u002fextra\\u003e\",\"hovertext\":[\"Honduras\"],\"legendgroup\":\"Honduras\",\"marker\":{\"color\":\"#ab63fa\",\"size\":[1735.093],\"sizemode\":\"area\",\"sizeref\":10.434124096333333,\"symbol\":\"circle\"},\"mode\":\"markers\",\"name\":\"Honduras\",\"orientation\":\"v\",\"showlegend\":true,\"x\":[1990],\"xaxis\":\"x\",\"y\":[3],\"yaxis\":\"y\",\"type\":\"scatter\"},{\"hovertemplate\":\"\\u003cb\\u003e%{hovertext}\\u003c\\u002fb\\u003e\\u003cbr\\u003e\\u003cbr\\u003eexports=Indonesia\\u003cbr\\u003eYear=%{x}\\u003cbr\\u003eCountryIndex=%{y}\\u003cbr\\u003eExportVolume=%{marker.size}\\u003cextra\\u003e\\u003c\\u002fextra\\u003e\",\"hovertext\":[\"Indonesia\"],\"legendgroup\":\"Indonesia\",\"marker\":{\"color\":\"#FFA15A\",\"size\":[6903.2269994],\"sizemode\":\"area\",\"sizeref\":10.434124096333333,\"symbol\":\"circle\"},\"mode\":\"markers\",\"name\":\"Indonesia\",\"orientation\":\"v\",\"showlegend\":true,\"x\":[1990],\"xaxis\":\"x\",\"y\":[4],\"yaxis\":\"y\",\"type\":\"scatter\"}],                        {\"template\":{\"data\":{\"histogram2dcontour\":[{\"type\":\"histogram2dcontour\",\"colorbar\":{\"outlinewidth\":0,\"ticks\":\"\"},\"colorscale\":[[0.0,\"#0d0887\"],[0.1111111111111111,\"#46039f\"],[0.2222222222222222,\"#7201a8\"],[0.3333333333333333,\"#9c179e\"],[0.4444444444444444,\"#bd3786\"],[0.5555555555555556,\"#d8576b\"],[0.6666666666666666,\"#ed7953\"],[0.7777777777777778,\"#fb9f3a\"],[0.8888888888888888,\"#fdca26\"],[1.0,\"#f0f921\"]]}],\"choropleth\":[{\"type\":\"choropleth\",\"colorbar\":{\"outlinewidth\":0,\"ticks\":\"\"}}],\"histogram2d\":[{\"type\":\"histogram2d\",\"colorbar\":{\"outlinewidth\":0,\"ticks\":\"\"},\"colorscale\":[[0.0,\"#0d0887\"],[0.1111111111111111,\"#46039f\"],[0.2222222222222222,\"#7201a8\"],[0.3333333333333333,\"#9c179e\"],[0.4444444444444444,\"#bd3786\"],[0.5555555555555556,\"#d8576b\"],[0.6666666666666666,\"#ed7953\"],[0.7777777777777778,\"#fb9f3a\"],[0.8888888888888888,\"#fdca26\"],[1.0,\"#f0f921\"]]}],\"heatmap\":[{\"type\":\"heatmap\",\"colorbar\":{\"outlinewidth\":0,\"ticks\":\"\"},\"colorscale\":[[0.0,\"#0d0887\"],[0.1111111111111111,\"#46039f\"],[0.2222222222222222,\"#7201a8\"],[0.3333333333333333,\"#9c179e\"],[0.4444444444444444,\"#bd3786\"],[0.5555555555555556,\"#d8576b\"],[0.6666666666666666,\"#ed7953\"],[0.7777777777777778,\"#fb9f3a\"],[0.8888888888888888,\"#fdca26\"],[1.0,\"#f0f921\"]]}],\"heatmapgl\":[{\"type\":\"heatmapgl\",\"colorbar\":{\"outlinewidth\":0,\"ticks\":\"\"},\"colorscale\":[[0.0,\"#0d0887\"],[0.1111111111111111,\"#46039f\"],[0.2222222222222222,\"#7201a8\"],[0.3333333333333333,\"#9c179e\"],[0.4444444444444444,\"#bd3786\"],[0.5555555555555556,\"#d8576b\"],[0.6666666666666666,\"#ed7953\"],[0.7777777777777778,\"#fb9f3a\"],[0.8888888888888888,\"#fdca26\"],[1.0,\"#f0f921\"]]}],\"contourcarpet\":[{\"type\":\"contourcarpet\",\"colorbar\":{\"outlinewidth\":0,\"ticks\":\"\"}}],\"contour\":[{\"type\":\"contour\",\"colorbar\":{\"outlinewidth\":0,\"ticks\":\"\"},\"colorscale\":[[0.0,\"#0d0887\"],[0.1111111111111111,\"#46039f\"],[0.2222222222222222,\"#7201a8\"],[0.3333333333333333,\"#9c179e\"],[0.4444444444444444,\"#bd3786\"],[0.5555555555555556,\"#d8576b\"],[0.6666666666666666,\"#ed7953\"],[0.7777777777777778,\"#fb9f3a\"],[0.8888888888888888,\"#fdca26\"],[1.0,\"#f0f921\"]]}],\"surface\":[{\"type\":\"surface\",\"colorbar\":{\"outlinewidth\":0,\"ticks\":\"\"},\"colorscale\":[[0.0,\"#0d0887\"],[0.1111111111111111,\"#46039f\"],[0.2222222222222222,\"#7201a8\"],[0.3333333333333333,\"#9c179e\"],[0.4444444444444444,\"#bd3786\"],[0.5555555555555556,\"#d8576b\"],[0.6666666666666666,\"#ed7953\"],[0.7777777777777778,\"#fb9f3a\"],[0.8888888888888888,\"#fdca26\"],[1.0,\"#f0f921\"]]}],\"mesh3d\":[{\"type\":\"mesh3d\",\"colorbar\":{\"outlinewidth\":0,\"ticks\":\"\"}}],\"scatter\":[{\"marker\":{\"line\":{\"color\":\"#283442\"}},\"type\":\"scatter\"}],\"parcoords\":[{\"type\":\"parcoords\",\"line\":{\"colorbar\":{\"outlinewidth\":0,\"ticks\":\"\"}}}],\"scatterpolargl\":[{\"type\":\"scatterpolargl\",\"marker\":{\"colorbar\":{\"outlinewidth\":0,\"ticks\":\"\"}}}],\"bar\":[{\"error_x\":{\"color\":\"#f2f5fa\"},\"error_y\":{\"color\":\"#f2f5fa\"},\"marker\":{\"line\":{\"color\":\"rgb(17,17,17)\",\"width\":0.5},\"pattern\":{\"fillmode\":\"overlay\",\"size\":10,\"solidity\":0.2}},\"type\":\"bar\"}],\"scattergeo\":[{\"type\":\"scattergeo\",\"marker\":{\"colorbar\":{\"outlinewidth\":0,\"ticks\":\"\"}}}],\"scatterpolar\":[{\"type\":\"scatterpolar\",\"marker\":{\"colorbar\":{\"outlinewidth\":0,\"ticks\":\"\"}}}],\"histogram\":[{\"marker\":{\"pattern\":{\"fillmode\":\"overlay\",\"size\":10,\"solidity\":0.2}},\"type\":\"histogram\"}],\"scattergl\":[{\"marker\":{\"line\":{\"color\":\"#283442\"}},\"type\":\"scattergl\"}],\"scatter3d\":[{\"type\":\"scatter3d\",\"line\":{\"colorbar\":{\"outlinewidth\":0,\"ticks\":\"\"}},\"marker\":{\"colorbar\":{\"outlinewidth\":0,\"ticks\":\"\"}}}],\"scattermapbox\":[{\"type\":\"scattermapbox\",\"marker\":{\"colorbar\":{\"outlinewidth\":0,\"ticks\":\"\"}}}],\"scatterternary\":[{\"type\":\"scatterternary\",\"marker\":{\"colorbar\":{\"outlinewidth\":0,\"ticks\":\"\"}}}],\"scattercarpet\":[{\"type\":\"scattercarpet\",\"marker\":{\"colorbar\":{\"outlinewidth\":0,\"ticks\":\"\"}}}],\"carpet\":[{\"aaxis\":{\"endlinecolor\":\"#A2B1C6\",\"gridcolor\":\"#506784\",\"linecolor\":\"#506784\",\"minorgridcolor\":\"#506784\",\"startlinecolor\":\"#A2B1C6\"},\"baxis\":{\"endlinecolor\":\"#A2B1C6\",\"gridcolor\":\"#506784\",\"linecolor\":\"#506784\",\"minorgridcolor\":\"#506784\",\"startlinecolor\":\"#A2B1C6\"},\"type\":\"carpet\"}],\"table\":[{\"cells\":{\"fill\":{\"color\":\"#506784\"},\"line\":{\"color\":\"rgb(17,17,17)\"}},\"header\":{\"fill\":{\"color\":\"#2a3f5f\"},\"line\":{\"color\":\"rgb(17,17,17)\"}},\"type\":\"table\"}],\"barpolar\":[{\"marker\":{\"line\":{\"color\":\"rgb(17,17,17)\",\"width\":0.5},\"pattern\":{\"fillmode\":\"overlay\",\"size\":10,\"solidity\":0.2}},\"type\":\"barpolar\"}],\"pie\":[{\"automargin\":true,\"type\":\"pie\"}]},\"layout\":{\"autotypenumbers\":\"strict\",\"colorway\":[\"#636efa\",\"#EF553B\",\"#00cc96\",\"#ab63fa\",\"#FFA15A\",\"#19d3f3\",\"#FF6692\",\"#B6E880\",\"#FF97FF\",\"#FECB52\"],\"font\":{\"color\":\"#f2f5fa\"},\"hovermode\":\"closest\",\"hoverlabel\":{\"align\":\"left\"},\"paper_bgcolor\":\"rgb(17,17,17)\",\"plot_bgcolor\":\"rgb(17,17,17)\",\"polar\":{\"bgcolor\":\"rgb(17,17,17)\",\"angularaxis\":{\"gridcolor\":\"#506784\",\"linecolor\":\"#506784\",\"ticks\":\"\"},\"radialaxis\":{\"gridcolor\":\"#506784\",\"linecolor\":\"#506784\",\"ticks\":\"\"}},\"ternary\":{\"bgcolor\":\"rgb(17,17,17)\",\"aaxis\":{\"gridcolor\":\"#506784\",\"linecolor\":\"#506784\",\"ticks\":\"\"},\"baxis\":{\"gridcolor\":\"#506784\",\"linecolor\":\"#506784\",\"ticks\":\"\"},\"caxis\":{\"gridcolor\":\"#506784\",\"linecolor\":\"#506784\",\"ticks\":\"\"}},\"coloraxis\":{\"colorbar\":{\"outlinewidth\":0,\"ticks\":\"\"}},\"colorscale\":{\"sequential\":[[0.0,\"#0d0887\"],[0.1111111111111111,\"#46039f\"],[0.2222222222222222,\"#7201a8\"],[0.3333333333333333,\"#9c179e\"],[0.4444444444444444,\"#bd3786\"],[0.5555555555555556,\"#d8576b\"],[0.6666666666666666,\"#ed7953\"],[0.7777777777777778,\"#fb9f3a\"],[0.8888888888888888,\"#fdca26\"],[1.0,\"#f0f921\"]],\"sequentialminus\":[[0.0,\"#0d0887\"],[0.1111111111111111,\"#46039f\"],[0.2222222222222222,\"#7201a8\"],[0.3333333333333333,\"#9c179e\"],[0.4444444444444444,\"#bd3786\"],[0.5555555555555556,\"#d8576b\"],[0.6666666666666666,\"#ed7953\"],[0.7777777777777778,\"#fb9f3a\"],[0.8888888888888888,\"#fdca26\"],[1.0,\"#f0f921\"]],\"diverging\":[[0,\"#8e0152\"],[0.1,\"#c51b7d\"],[0.2,\"#de77ae\"],[0.3,\"#f1b6da\"],[0.4,\"#fde0ef\"],[0.5,\"#f7f7f7\"],[0.6,\"#e6f5d0\"],[0.7,\"#b8e186\"],[0.8,\"#7fbc41\"],[0.9,\"#4d9221\"],[1,\"#276419\"]]},\"xaxis\":{\"gridcolor\":\"#283442\",\"linecolor\":\"#506784\",\"ticks\":\"\",\"title\":{\"standoff\":15},\"zerolinecolor\":\"#283442\",\"automargin\":true,\"zerolinewidth\":2},\"yaxis\":{\"gridcolor\":\"#283442\",\"linecolor\":\"#506784\",\"ticks\":\"\",\"title\":{\"standoff\":15},\"zerolinecolor\":\"#283442\",\"automargin\":true,\"zerolinewidth\":2},\"scene\":{\"xaxis\":{\"backgroundcolor\":\"rgb(17,17,17)\",\"gridcolor\":\"#506784\",\"linecolor\":\"#506784\",\"showbackground\":true,\"ticks\":\"\",\"zerolinecolor\":\"#C8D4E3\",\"gridwidth\":2},\"yaxis\":{\"backgroundcolor\":\"rgb(17,17,17)\",\"gridcolor\":\"#506784\",\"linecolor\":\"#506784\",\"showbackground\":true,\"ticks\":\"\",\"zerolinecolor\":\"#C8D4E3\",\"gridwidth\":2},\"zaxis\":{\"backgroundcolor\":\"rgb(17,17,17)\",\"gridcolor\":\"#506784\",\"linecolor\":\"#506784\",\"showbackground\":true,\"ticks\":\"\",\"zerolinecolor\":\"#C8D4E3\",\"gridwidth\":2}},\"shapedefaults\":{\"line\":{\"color\":\"#f2f5fa\"}},\"annotationdefaults\":{\"arrowcolor\":\"#f2f5fa\",\"arrowhead\":0,\"arrowwidth\":1},\"geo\":{\"bgcolor\":\"rgb(17,17,17)\",\"landcolor\":\"rgb(17,17,17)\",\"subunitcolor\":\"#506784\",\"showland\":true,\"showlakes\":true,\"lakecolor\":\"rgb(17,17,17)\"},\"title\":{\"x\":0.05},\"updatemenudefaults\":{\"bgcolor\":\"#506784\",\"borderwidth\":0},\"sliderdefaults\":{\"bgcolor\":\"#C8D4E3\",\"borderwidth\":1,\"bordercolor\":\"rgb(17,17,17)\",\"tickwidth\":0},\"mapbox\":{\"style\":\"dark\"}}},\"xaxis\":{\"anchor\":\"y\",\"domain\":[0.0,1.0],\"title\":{\"text\":\"Year\"},\"range\":[1990,2018],\"categoryorder\":\"array\",\"categoryarray\":[1990,1991,1992,1993,1994,1995,1996,1997,1998,1999,2000,2001,2002,2003,2004,2005,2006,2007,2008,2009,2010,2011,2012,2013,2014,2015,2016,2017,2018]},\"yaxis\":{\"anchor\":\"x\",\"domain\":[0.0,1.0],\"title\":{\"text\":\"CountryIndex\"},\"tickvals\":[0,1,2,3,4],\"ticktext\":[\"Brazil\",\"Colombia\",\"Ethiopia\",\"Honduras\",\"Indonesia\"]},\"legend\":{\"title\":{\"text\":\"exports\"},\"tracegroupgap\":0,\"itemsizing\":\"constant\"},\"margin\":{\"t\":60},\"updatemenus\":[{\"buttons\":[{\"args\":[null,{\"frame\":{\"duration\":500,\"redraw\":false},\"mode\":\"immediate\",\"fromcurrent\":true,\"transition\":{\"duration\":500,\"easing\":\"linear\"}}],\"label\":\"&#9654;\",\"method\":\"animate\"},{\"args\":[[null],{\"frame\":{\"duration\":0,\"redraw\":false},\"mode\":\"immediate\",\"fromcurrent\":true,\"transition\":{\"duration\":0,\"easing\":\"linear\"}}],\"label\":\"&#9724;\",\"method\":\"animate\"}],\"direction\":\"left\",\"pad\":{\"r\":10,\"t\":70},\"showactive\":false,\"type\":\"buttons\",\"x\":0.1,\"xanchor\":\"right\",\"y\":0,\"yanchor\":\"top\"}],\"sliders\":[{\"active\":0,\"currentvalue\":{\"prefix\":\"Year=\"},\"len\":0.9,\"pad\":{\"b\":10,\"t\":60},\"steps\":[{\"args\":[[\"1990\"],{\"frame\":{\"duration\":0,\"redraw\":false},\"mode\":\"immediate\",\"fromcurrent\":true,\"transition\":{\"duration\":0,\"easing\":\"linear\"}}],\"label\":\"1990\",\"method\":\"animate\"},{\"args\":[[\"1991\"],{\"frame\":{\"duration\":0,\"redraw\":false},\"mode\":\"immediate\",\"fromcurrent\":true,\"transition\":{\"duration\":0,\"easing\":\"linear\"}}],\"label\":\"1991\",\"method\":\"animate\"},{\"args\":[[\"1992\"],{\"frame\":{\"duration\":0,\"redraw\":false},\"mode\":\"immediate\",\"fromcurrent\":true,\"transition\":{\"duration\":0,\"easing\":\"linear\"}}],\"label\":\"1992\",\"method\":\"animate\"},{\"args\":[[\"1993\"],{\"frame\":{\"duration\":0,\"redraw\":false},\"mode\":\"immediate\",\"fromcurrent\":true,\"transition\":{\"duration\":0,\"easing\":\"linear\"}}],\"label\":\"1993\",\"method\":\"animate\"},{\"args\":[[\"1994\"],{\"frame\":{\"duration\":0,\"redraw\":false},\"mode\":\"immediate\",\"fromcurrent\":true,\"transition\":{\"duration\":0,\"easing\":\"linear\"}}],\"label\":\"1994\",\"method\":\"animate\"},{\"args\":[[\"1995\"],{\"frame\":{\"duration\":0,\"redraw\":false},\"mode\":\"immediate\",\"fromcurrent\":true,\"transition\":{\"duration\":0,\"easing\":\"linear\"}}],\"label\":\"1995\",\"method\":\"animate\"},{\"args\":[[\"1996\"],{\"frame\":{\"duration\":0,\"redraw\":false},\"mode\":\"immediate\",\"fromcurrent\":true,\"transition\":{\"duration\":0,\"easing\":\"linear\"}}],\"label\":\"1996\",\"method\":\"animate\"},{\"args\":[[\"1997\"],{\"frame\":{\"duration\":0,\"redraw\":false},\"mode\":\"immediate\",\"fromcurrent\":true,\"transition\":{\"duration\":0,\"easing\":\"linear\"}}],\"label\":\"1997\",\"method\":\"animate\"},{\"args\":[[\"1998\"],{\"frame\":{\"duration\":0,\"redraw\":false},\"mode\":\"immediate\",\"fromcurrent\":true,\"transition\":{\"duration\":0,\"easing\":\"linear\"}}],\"label\":\"1998\",\"method\":\"animate\"},{\"args\":[[\"1999\"],{\"frame\":{\"duration\":0,\"redraw\":false},\"mode\":\"immediate\",\"fromcurrent\":true,\"transition\":{\"duration\":0,\"easing\":\"linear\"}}],\"label\":\"1999\",\"method\":\"animate\"},{\"args\":[[\"2000\"],{\"frame\":{\"duration\":0,\"redraw\":false},\"mode\":\"immediate\",\"fromcurrent\":true,\"transition\":{\"duration\":0,\"easing\":\"linear\"}}],\"label\":\"2000\",\"method\":\"animate\"},{\"args\":[[\"2001\"],{\"frame\":{\"duration\":0,\"redraw\":false},\"mode\":\"immediate\",\"fromcurrent\":true,\"transition\":{\"duration\":0,\"easing\":\"linear\"}}],\"label\":\"2001\",\"method\":\"animate\"},{\"args\":[[\"2002\"],{\"frame\":{\"duration\":0,\"redraw\":false},\"mode\":\"immediate\",\"fromcurrent\":true,\"transition\":{\"duration\":0,\"easing\":\"linear\"}}],\"label\":\"2002\",\"method\":\"animate\"},{\"args\":[[\"2003\"],{\"frame\":{\"duration\":0,\"redraw\":false},\"mode\":\"immediate\",\"fromcurrent\":true,\"transition\":{\"duration\":0,\"easing\":\"linear\"}}],\"label\":\"2003\",\"method\":\"animate\"},{\"args\":[[\"2004\"],{\"frame\":{\"duration\":0,\"redraw\":false},\"mode\":\"immediate\",\"fromcurrent\":true,\"transition\":{\"duration\":0,\"easing\":\"linear\"}}],\"label\":\"2004\",\"method\":\"animate\"},{\"args\":[[\"2005\"],{\"frame\":{\"duration\":0,\"redraw\":false},\"mode\":\"immediate\",\"fromcurrent\":true,\"transition\":{\"duration\":0,\"easing\":\"linear\"}}],\"label\":\"2005\",\"method\":\"animate\"},{\"args\":[[\"2006\"],{\"frame\":{\"duration\":0,\"redraw\":false},\"mode\":\"immediate\",\"fromcurrent\":true,\"transition\":{\"duration\":0,\"easing\":\"linear\"}}],\"label\":\"2006\",\"method\":\"animate\"},{\"args\":[[\"2007\"],{\"frame\":{\"duration\":0,\"redraw\":false},\"mode\":\"immediate\",\"fromcurrent\":true,\"transition\":{\"duration\":0,\"easing\":\"linear\"}}],\"label\":\"2007\",\"method\":\"animate\"},{\"args\":[[\"2008\"],{\"frame\":{\"duration\":0,\"redraw\":false},\"mode\":\"immediate\",\"fromcurrent\":true,\"transition\":{\"duration\":0,\"easing\":\"linear\"}}],\"label\":\"2008\",\"method\":\"animate\"},{\"args\":[[\"2009\"],{\"frame\":{\"duration\":0,\"redraw\":false},\"mode\":\"immediate\",\"fromcurrent\":true,\"transition\":{\"duration\":0,\"easing\":\"linear\"}}],\"label\":\"2009\",\"method\":\"animate\"},{\"args\":[[\"2010\"],{\"frame\":{\"duration\":0,\"redraw\":false},\"mode\":\"immediate\",\"fromcurrent\":true,\"transition\":{\"duration\":0,\"easing\":\"linear\"}}],\"label\":\"2010\",\"method\":\"animate\"},{\"args\":[[\"2011\"],{\"frame\":{\"duration\":0,\"redraw\":false},\"mode\":\"immediate\",\"fromcurrent\":true,\"transition\":{\"duration\":0,\"easing\":\"linear\"}}],\"label\":\"2011\",\"method\":\"animate\"},{\"args\":[[\"2012\"],{\"frame\":{\"duration\":0,\"redraw\":false},\"mode\":\"immediate\",\"fromcurrent\":true,\"transition\":{\"duration\":0,\"easing\":\"linear\"}}],\"label\":\"2012\",\"method\":\"animate\"},{\"args\":[[\"2013\"],{\"frame\":{\"duration\":0,\"redraw\":false},\"mode\":\"immediate\",\"fromcurrent\":true,\"transition\":{\"duration\":0,\"easing\":\"linear\"}}],\"label\":\"2013\",\"method\":\"animate\"},{\"args\":[[\"2014\"],{\"frame\":{\"duration\":0,\"redraw\":false},\"mode\":\"immediate\",\"fromcurrent\":true,\"transition\":{\"duration\":0,\"easing\":\"linear\"}}],\"label\":\"2014\",\"method\":\"animate\"},{\"args\":[[\"2015\"],{\"frame\":{\"duration\":0,\"redraw\":false},\"mode\":\"immediate\",\"fromcurrent\":true,\"transition\":{\"duration\":0,\"easing\":\"linear\"}}],\"label\":\"2015\",\"method\":\"animate\"},{\"args\":[[\"2016\"],{\"frame\":{\"duration\":0,\"redraw\":false},\"mode\":\"immediate\",\"fromcurrent\":true,\"transition\":{\"duration\":0,\"easing\":\"linear\"}}],\"label\":\"2016\",\"method\":\"animate\"},{\"args\":[[\"2017\"],{\"frame\":{\"duration\":0,\"redraw\":false},\"mode\":\"immediate\",\"fromcurrent\":true,\"transition\":{\"duration\":0,\"easing\":\"linear\"}}],\"label\":\"2017\",\"method\":\"animate\"},{\"args\":[[\"2018\"],{\"frame\":{\"duration\":0,\"redraw\":false},\"mode\":\"immediate\",\"fromcurrent\":true,\"transition\":{\"duration\":0,\"easing\":\"linear\"}}],\"label\":\"2018\",\"method\":\"animate\"}],\"x\":0.1,\"xanchor\":\"left\",\"y\":0,\"yanchor\":\"top\"}]},                        {\"responsive\": true}                    ).then(function(){\n                            Plotly.addFrames('3736a581-df82-4a74-a5c6-af662782d3d0', [{\"data\":[{\"hovertemplate\":\"\\u003cb\\u003e%{hovertext}\\u003c\\u002fb\\u003e\\u003cbr\\u003e\\u003cbr\\u003eexports=Brazil\\u003cbr\\u003eYear=%{x}\\u003cbr\\u003eCountryIndex=%{y}\\u003cbr\\u003eExportVolume=%{marker.size}\\u003cextra\\u003e\\u003c\\u002fextra\\u003e\",\"hovertext\":[\"Brazil\"],\"legendgroup\":\"Brazil\",\"marker\":{\"color\":\"#636efa\",\"size\":[16935.7876003],\"sizemode\":\"area\",\"sizeref\":10.434124096333333,\"symbol\":\"circle\"},\"mode\":\"markers\",\"name\":\"Brazil\",\"orientation\":\"v\",\"showlegend\":true,\"x\":[1990],\"xaxis\":\"x\",\"y\":[0],\"yaxis\":\"y\",\"type\":\"scatter\"},{\"hovertemplate\":\"\\u003cb\\u003e%{hovertext}\\u003c\\u002fb\\u003e\\u003cbr\\u003e\\u003cbr\\u003eexports=Colombia\\u003cbr\\u003eYear=%{x}\\u003cbr\\u003eCountryIndex=%{y}\\u003cbr\\u003eExportVolume=%{marker.size}\\u003cextra\\u003e\\u003c\\u002fextra\\u003e\",\"hovertext\":[\"Colombia\"],\"legendgroup\":\"Colombia\",\"marker\":{\"color\":\"#EF553B\",\"size\":[13943.8700004],\"sizemode\":\"area\",\"sizeref\":10.434124096333333,\"symbol\":\"circle\"},\"mode\":\"markers\",\"name\":\"Colombia\",\"orientation\":\"v\",\"showlegend\":true,\"x\":[1990],\"xaxis\":\"x\",\"y\":[1],\"yaxis\":\"y\",\"type\":\"scatter\"},{\"hovertemplate\":\"\\u003cb\\u003e%{hovertext}\\u003c\\u002fb\\u003e\\u003cbr\\u003e\\u003cbr\\u003eexports=Ethiopia\\u003cbr\\u003eYear=%{x}\\u003cbr\\u003eCountryIndex=%{y}\\u003cbr\\u003eExportVolume=%{marker.size}\\u003cextra\\u003e\\u003c\\u002fextra\\u003e\",\"hovertext\":[\"Ethiopia\"],\"legendgroup\":\"Ethiopia\",\"marker\":{\"color\":\"#00cc96\",\"size\":[1074.101],\"sizemode\":\"area\",\"sizeref\":10.434124096333333,\"symbol\":\"circle\"},\"mode\":\"markers\",\"name\":\"Ethiopia\",\"orientation\":\"v\",\"showlegend\":true,\"x\":[1990],\"xaxis\":\"x\",\"y\":[2],\"yaxis\":\"y\",\"type\":\"scatter\"},{\"hovertemplate\":\"\\u003cb\\u003e%{hovertext}\\u003c\\u002fb\\u003e\\u003cbr\\u003e\\u003cbr\\u003eexports=Honduras\\u003cbr\\u003eYear=%{x}\\u003cbr\\u003eCountryIndex=%{y}\\u003cbr\\u003eExportVolume=%{marker.size}\\u003cextra\\u003e\\u003c\\u002fextra\\u003e\",\"hovertext\":[\"Honduras\"],\"legendgroup\":\"Honduras\",\"marker\":{\"color\":\"#ab63fa\",\"size\":[1735.093],\"sizemode\":\"area\",\"sizeref\":10.434124096333333,\"symbol\":\"circle\"},\"mode\":\"markers\",\"name\":\"Honduras\",\"orientation\":\"v\",\"showlegend\":true,\"x\":[1990],\"xaxis\":\"x\",\"y\":[3],\"yaxis\":\"y\",\"type\":\"scatter\"},{\"hovertemplate\":\"\\u003cb\\u003e%{hovertext}\\u003c\\u002fb\\u003e\\u003cbr\\u003e\\u003cbr\\u003eexports=Indonesia\\u003cbr\\u003eYear=%{x}\\u003cbr\\u003eCountryIndex=%{y}\\u003cbr\\u003eExportVolume=%{marker.size}\\u003cextra\\u003e\\u003c\\u002fextra\\u003e\",\"hovertext\":[\"Indonesia\"],\"legendgroup\":\"Indonesia\",\"marker\":{\"color\":\"#FFA15A\",\"size\":[6903.2269994],\"sizemode\":\"area\",\"sizeref\":10.434124096333333,\"symbol\":\"circle\"},\"mode\":\"markers\",\"name\":\"Indonesia\",\"orientation\":\"v\",\"showlegend\":true,\"x\":[1990],\"xaxis\":\"x\",\"y\":[4],\"yaxis\":\"y\",\"type\":\"scatter\"}],\"name\":\"1990\"},{\"data\":[{\"hovertemplate\":\"\\u003cb\\u003e%{hovertext}\\u003c\\u002fb\\u003e\\u003cbr\\u003e\\u003cbr\\u003eexports=Brazil\\u003cbr\\u003eYear=%{x}\\u003cbr\\u003eCountryIndex=%{y}\\u003cbr\\u003eExportVolume=%{marker.size}\\u003cextra\\u003e\\u003c\\u002fextra\\u003e\",\"hovertext\":[\"Brazil\"],\"legendgroup\":\"Brazil\",\"marker\":{\"color\":\"#636efa\",\"size\":[21182.7614023],\"sizemode\":\"area\",\"sizeref\":10.434124096333333,\"symbol\":\"circle\"},\"mode\":\"markers\",\"name\":\"Brazil\",\"orientation\":\"v\",\"showlegend\":true,\"x\":[1991],\"xaxis\":\"x\",\"y\":[0],\"yaxis\":\"y\",\"type\":\"scatter\"},{\"hovertemplate\":\"\\u003cb\\u003e%{hovertext}\\u003c\\u002fb\\u003e\\u003cbr\\u003e\\u003cbr\\u003eexports=Colombia\\u003cbr\\u003eYear=%{x}\\u003cbr\\u003eCountryIndex=%{y}\\u003cbr\\u003eExportVolume=%{marker.size}\\u003cextra\\u003e\\u003c\\u002fextra\\u003e\",\"hovertext\":[\"Colombia\"],\"legendgroup\":\"Colombia\",\"marker\":{\"color\":\"#EF553B\",\"size\":[12599.1849983],\"sizemode\":\"area\",\"sizeref\":10.434124096333333,\"symbol\":\"circle\"},\"mode\":\"markers\",\"name\":\"Colombia\",\"orientation\":\"v\",\"showlegend\":true,\"x\":[1991],\"xaxis\":\"x\",\"y\":[1],\"yaxis\":\"y\",\"type\":\"scatter\"},{\"hovertemplate\":\"\\u003cb\\u003e%{hovertext}\\u003c\\u002fb\\u003e\\u003cbr\\u003e\\u003cbr\\u003eexports=Ethiopia\\u003cbr\\u003eYear=%{x}\\u003cbr\\u003eCountryIndex=%{y}\\u003cbr\\u003eExportVolume=%{marker.size}\\u003cextra\\u003e\\u003c\\u002fextra\\u003e\",\"hovertext\":[\"Ethiopia\"],\"legendgroup\":\"Ethiopia\",\"marker\":{\"color\":\"#00cc96\",\"size\":[841.329],\"sizemode\":\"area\",\"sizeref\":10.434124096333333,\"symbol\":\"circle\"},\"mode\":\"markers\",\"name\":\"Ethiopia\",\"orientation\":\"v\",\"showlegend\":true,\"x\":[1991],\"xaxis\":\"x\",\"y\":[2],\"yaxis\":\"y\",\"type\":\"scatter\"},{\"hovertemplate\":\"\\u003cb\\u003e%{hovertext}\\u003c\\u002fb\\u003e\\u003cbr\\u003e\\u003cbr\\u003eexports=Honduras\\u003cbr\\u003eYear=%{x}\\u003cbr\\u003eCountryIndex=%{y}\\u003cbr\\u003eExportVolume=%{marker.size}\\u003cextra\\u003e\\u003c\\u002fextra\\u003e\",\"hovertext\":[\"Honduras\"],\"legendgroup\":\"Honduras\",\"marker\":{\"color\":\"#ab63fa\",\"size\":[1444.363],\"sizemode\":\"area\",\"sizeref\":10.434124096333333,\"symbol\":\"circle\"},\"mode\":\"markers\",\"name\":\"Honduras\",\"orientation\":\"v\",\"showlegend\":true,\"x\":[1991],\"xaxis\":\"x\",\"y\":[3],\"yaxis\":\"y\",\"type\":\"scatter\"},{\"hovertemplate\":\"\\u003cb\\u003e%{hovertext}\\u003c\\u002fb\\u003e\\u003cbr\\u003e\\u003cbr\\u003eexports=Indonesia\\u003cbr\\u003eYear=%{x}\\u003cbr\\u003eCountryIndex=%{y}\\u003cbr\\u003eExportVolume=%{marker.size}\\u003cextra\\u003e\\u003c\\u002fextra\\u003e\",\"hovertext\":[\"Indonesia\"],\"legendgroup\":\"Indonesia\",\"marker\":{\"color\":\"#FFA15A\",\"size\":[6170.7960001],\"sizemode\":\"area\",\"sizeref\":10.434124096333333,\"symbol\":\"circle\"},\"mode\":\"markers\",\"name\":\"Indonesia\",\"orientation\":\"v\",\"showlegend\":true,\"x\":[1991],\"xaxis\":\"x\",\"y\":[4],\"yaxis\":\"y\",\"type\":\"scatter\"}],\"name\":\"1991\"},{\"data\":[{\"hovertemplate\":\"\\u003cb\\u003e%{hovertext}\\u003c\\u002fb\\u003e\\u003cbr\\u003e\\u003cbr\\u003eexports=Brazil\\u003cbr\\u003eYear=%{x}\\u003cbr\\u003eCountryIndex=%{y}\\u003cbr\\u003eExportVolume=%{marker.size}\\u003cextra\\u003e\\u003c\\u002fextra\\u003e\",\"hovertext\":[\"Brazil\"],\"legendgroup\":\"Brazil\",\"marker\":{\"color\":\"#636efa\",\"size\":[18790.7192021],\"sizemode\":\"area\",\"sizeref\":10.434124096333333,\"symbol\":\"circle\"},\"mode\":\"markers\",\"name\":\"Brazil\",\"orientation\":\"v\",\"showlegend\":true,\"x\":[1992],\"xaxis\":\"x\",\"y\":[0],\"yaxis\":\"y\",\"type\":\"scatter\"},{\"hovertemplate\":\"\\u003cb\\u003e%{hovertext}\\u003c\\u002fb\\u003e\\u003cbr\\u003e\\u003cbr\\u003eexports=Colombia\\u003cbr\\u003eYear=%{x}\\u003cbr\\u003eCountryIndex=%{y}\\u003cbr\\u003eExportVolume=%{marker.size}\\u003cextra\\u003e\\u003c\\u002fextra\\u003e\",\"hovertext\":[\"Colombia\"],\"legendgroup\":\"Colombia\",\"marker\":{\"color\":\"#EF553B\",\"size\":[16564.3700008],\"sizemode\":\"area\",\"sizeref\":10.434124096333333,\"symbol\":\"circle\"},\"mode\":\"markers\",\"name\":\"Colombia\",\"orientation\":\"v\",\"showlegend\":true,\"x\":[1992],\"xaxis\":\"x\",\"y\":[1],\"yaxis\":\"y\",\"type\":\"scatter\"},{\"hovertemplate\":\"\\u003cb\\u003e%{hovertext}\\u003c\\u002fb\\u003e\\u003cbr\\u003e\\u003cbr\\u003eexports=Ethiopia\\u003cbr\\u003eYear=%{x}\\u003cbr\\u003eCountryIndex=%{y}\\u003cbr\\u003eExportVolume=%{marker.size}\\u003cextra\\u003e\\u003c\\u002fextra\\u003e\",\"hovertext\":[\"Ethiopia\"],\"legendgroup\":\"Ethiopia\",\"marker\":{\"color\":\"#00cc96\",\"size\":[734.461],\"sizemode\":\"area\",\"sizeref\":10.434124096333333,\"symbol\":\"circle\"},\"mode\":\"markers\",\"name\":\"Ethiopia\",\"orientation\":\"v\",\"showlegend\":true,\"x\":[1992],\"xaxis\":\"x\",\"y\":[2],\"yaxis\":\"y\",\"type\":\"scatter\"},{\"hovertemplate\":\"\\u003cb\\u003e%{hovertext}\\u003c\\u002fb\\u003e\\u003cbr\\u003e\\u003cbr\\u003eexports=Honduras\\u003cbr\\u003eYear=%{x}\\u003cbr\\u003eCountryIndex=%{y}\\u003cbr\\u003eExportVolume=%{marker.size}\\u003cextra\\u003e\\u003c\\u002fextra\\u003e\",\"hovertext\":[\"Honduras\"],\"legendgroup\":\"Honduras\",\"marker\":{\"color\":\"#ab63fa\",\"size\":[1960.071],\"sizemode\":\"area\",\"sizeref\":10.434124096333333,\"symbol\":\"circle\"},\"mode\":\"markers\",\"name\":\"Honduras\",\"orientation\":\"v\",\"showlegend\":true,\"x\":[1992],\"xaxis\":\"x\",\"y\":[3],\"yaxis\":\"y\",\"type\":\"scatter\"},{\"hovertemplate\":\"\\u003cb\\u003e%{hovertext}\\u003c\\u002fb\\u003e\\u003cbr\\u003e\\u003cbr\\u003eexports=Indonesia\\u003cbr\\u003eYear=%{x}\\u003cbr\\u003eCountryIndex=%{y}\\u003cbr\\u003eExportVolume=%{marker.size}\\u003cextra\\u003e\\u003c\\u002fextra\\u003e\",\"hovertext\":[\"Indonesia\"],\"legendgroup\":\"Indonesia\",\"marker\":{\"color\":\"#FFA15A\",\"size\":[4603.6959999],\"sizemode\":\"area\",\"sizeref\":10.434124096333333,\"symbol\":\"circle\"},\"mode\":\"markers\",\"name\":\"Indonesia\",\"orientation\":\"v\",\"showlegend\":true,\"x\":[1992],\"xaxis\":\"x\",\"y\":[4],\"yaxis\":\"y\",\"type\":\"scatter\"}],\"name\":\"1992\"},{\"data\":[{\"hovertemplate\":\"\\u003cb\\u003e%{hovertext}\\u003c\\u002fb\\u003e\\u003cbr\\u003e\\u003cbr\\u003eexports=Brazil\\u003cbr\\u003eYear=%{x}\\u003cbr\\u003eCountryIndex=%{y}\\u003cbr\\u003eExportVolume=%{marker.size}\\u003cextra\\u003e\\u003c\\u002fextra\\u003e\",\"hovertext\":[\"Brazil\"],\"legendgroup\":\"Brazil\",\"marker\":{\"color\":\"#636efa\",\"size\":[17837.7479992],\"sizemode\":\"area\",\"sizeref\":10.434124096333333,\"symbol\":\"circle\"},\"mode\":\"markers\",\"name\":\"Brazil\",\"orientation\":\"v\",\"showlegend\":true,\"x\":[1993],\"xaxis\":\"x\",\"y\":[0],\"yaxis\":\"y\",\"type\":\"scatter\"},{\"hovertemplate\":\"\\u003cb\\u003e%{hovertext}\\u003c\\u002fb\\u003e\\u003cbr\\u003e\\u003cbr\\u003eexports=Colombia\\u003cbr\\u003eYear=%{x}\\u003cbr\\u003eCountryIndex=%{y}\\u003cbr\\u003eExportVolume=%{marker.size}\\u003cextra\\u003e\\u003c\\u002fextra\\u003e\",\"hovertext\":[\"Colombia\"],\"legendgroup\":\"Colombia\",\"marker\":{\"color\":\"#EF553B\",\"size\":[13568.3620035],\"sizemode\":\"area\",\"sizeref\":10.434124096333333,\"symbol\":\"circle\"},\"mode\":\"markers\",\"name\":\"Colombia\",\"orientation\":\"v\",\"showlegend\":true,\"x\":[1993],\"xaxis\":\"x\",\"y\":[1],\"yaxis\":\"y\",\"type\":\"scatter\"},{\"hovertemplate\":\"\\u003cb\\u003e%{hovertext}\\u003c\\u002fb\\u003e\\u003cbr\\u003e\\u003cbr\\u003eexports=Ethiopia\\u003cbr\\u003eYear=%{x}\\u003cbr\\u003eCountryIndex=%{y}\\u003cbr\\u003eExportVolume=%{marker.size}\\u003cextra\\u003e\\u003c\\u002fextra\\u003e\",\"hovertext\":[\"Ethiopia\"],\"legendgroup\":\"Ethiopia\",\"marker\":{\"color\":\"#00cc96\",\"size\":[1166.778],\"sizemode\":\"area\",\"sizeref\":10.434124096333333,\"symbol\":\"circle\"},\"mode\":\"markers\",\"name\":\"Ethiopia\",\"orientation\":\"v\",\"showlegend\":true,\"x\":[1993],\"xaxis\":\"x\",\"y\":[2],\"yaxis\":\"y\",\"type\":\"scatter\"},{\"hovertemplate\":\"\\u003cb\\u003e%{hovertext}\\u003c\\u002fb\\u003e\\u003cbr\\u003e\\u003cbr\\u003eexports=Honduras\\u003cbr\\u003eYear=%{x}\\u003cbr\\u003eCountryIndex=%{y}\\u003cbr\\u003eExportVolume=%{marker.size}\\u003cextra\\u003e\\u003c\\u002fextra\\u003e\",\"hovertext\":[\"Honduras\"],\"legendgroup\":\"Honduras\",\"marker\":{\"color\":\"#ab63fa\",\"size\":[1705.317],\"sizemode\":\"area\",\"sizeref\":10.434124096333333,\"symbol\":\"circle\"},\"mode\":\"markers\",\"name\":\"Honduras\",\"orientation\":\"v\",\"showlegend\":true,\"x\":[1993],\"xaxis\":\"x\",\"y\":[3],\"yaxis\":\"y\",\"type\":\"scatter\"},{\"hovertemplate\":\"\\u003cb\\u003e%{hovertext}\\u003c\\u002fb\\u003e\\u003cbr\\u003e\\u003cbr\\u003eexports=Indonesia\\u003cbr\\u003eYear=%{x}\\u003cbr\\u003eCountryIndex=%{y}\\u003cbr\\u003eExportVolume=%{marker.size}\\u003cextra\\u003e\\u003c\\u002fextra\\u003e\",\"hovertext\":[\"Indonesia\"],\"legendgroup\":\"Indonesia\",\"marker\":{\"color\":\"#FFA15A\",\"size\":[5662.0940006],\"sizemode\":\"area\",\"sizeref\":10.434124096333333,\"symbol\":\"circle\"},\"mode\":\"markers\",\"name\":\"Indonesia\",\"orientation\":\"v\",\"showlegend\":true,\"x\":[1993],\"xaxis\":\"x\",\"y\":[4],\"yaxis\":\"y\",\"type\":\"scatter\"}],\"name\":\"1993\"},{\"data\":[{\"hovertemplate\":\"\\u003cb\\u003e%{hovertext}\\u003c\\u002fb\\u003e\\u003cbr\\u003e\\u003cbr\\u003eexports=Brazil\\u003cbr\\u003eYear=%{x}\\u003cbr\\u003eCountryIndex=%{y}\\u003cbr\\u003eExportVolume=%{marker.size}\\u003cextra\\u003e\\u003c\\u002fextra\\u003e\",\"hovertext\":[\"Brazil\"],\"legendgroup\":\"Brazil\",\"marker\":{\"color\":\"#636efa\",\"size\":[17273.1476003],\"sizemode\":\"area\",\"sizeref\":10.434124096333333,\"symbol\":\"circle\"},\"mode\":\"markers\",\"name\":\"Brazil\",\"orientation\":\"v\",\"showlegend\":true,\"x\":[1994],\"xaxis\":\"x\",\"y\":[0],\"yaxis\":\"y\",\"type\":\"scatter\"},{\"hovertemplate\":\"\\u003cb\\u003e%{hovertext}\\u003c\\u002fb\\u003e\\u003cbr\\u003e\\u003cbr\\u003eexports=Colombia\\u003cbr\\u003eYear=%{x}\\u003cbr\\u003eCountryIndex=%{y}\\u003cbr\\u003eExportVolume=%{marker.size}\\u003cextra\\u003e\\u003c\\u002fextra\\u003e\",\"hovertext\":[\"Colombia\"],\"legendgroup\":\"Colombia\",\"marker\":{\"color\":\"#EF553B\",\"size\":[11768.0890004],\"sizemode\":\"area\",\"sizeref\":10.434124096333333,\"symbol\":\"circle\"},\"mode\":\"markers\",\"name\":\"Colombia\",\"orientation\":\"v\",\"showlegend\":true,\"x\":[1994],\"xaxis\":\"x\",\"y\":[1],\"yaxis\":\"y\",\"type\":\"scatter\"},{\"hovertemplate\":\"\\u003cb\\u003e%{hovertext}\\u003c\\u002fb\\u003e\\u003cbr\\u003e\\u003cbr\\u003eexports=Ethiopia\\u003cbr\\u003eYear=%{x}\\u003cbr\\u003eCountryIndex=%{y}\\u003cbr\\u003eExportVolume=%{marker.size}\\u003cextra\\u003e\\u003c\\u002fextra\\u003e\",\"hovertext\":[\"Ethiopia\"],\"legendgroup\":\"Ethiopia\",\"marker\":{\"color\":\"#00cc96\",\"size\":[1475.325],\"sizemode\":\"area\",\"sizeref\":10.434124096333333,\"symbol\":\"circle\"},\"mode\":\"markers\",\"name\":\"Ethiopia\",\"orientation\":\"v\",\"showlegend\":true,\"x\":[1994],\"xaxis\":\"x\",\"y\":[2],\"yaxis\":\"y\",\"type\":\"scatter\"},{\"hovertemplate\":\"\\u003cb\\u003e%{hovertext}\\u003c\\u002fb\\u003e\\u003cbr\\u003e\\u003cbr\\u003eexports=Honduras\\u003cbr\\u003eYear=%{x}\\u003cbr\\u003eCountryIndex=%{y}\\u003cbr\\u003eExportVolume=%{marker.size}\\u003cextra\\u003e\\u003c\\u002fextra\\u003e\",\"hovertext\":[\"Honduras\"],\"legendgroup\":\"Honduras\",\"marker\":{\"color\":\"#ab63fa\",\"size\":[1718.185],\"sizemode\":\"area\",\"sizeref\":10.434124096333333,\"symbol\":\"circle\"},\"mode\":\"markers\",\"name\":\"Honduras\",\"orientation\":\"v\",\"showlegend\":true,\"x\":[1994],\"xaxis\":\"x\",\"y\":[3],\"yaxis\":\"y\",\"type\":\"scatter\"},{\"hovertemplate\":\"\\u003cb\\u003e%{hovertext}\\u003c\\u002fb\\u003e\\u003cbr\\u003e\\u003cbr\\u003eexports=Indonesia\\u003cbr\\u003eYear=%{x}\\u003cbr\\u003eCountryIndex=%{y}\\u003cbr\\u003eExportVolume=%{marker.size}\\u003cextra\\u003e\\u003c\\u002fextra\\u003e\",\"hovertext\":[\"Indonesia\"],\"legendgroup\":\"Indonesia\",\"marker\":{\"color\":\"#FFA15A\",\"size\":[4604.6299989],\"sizemode\":\"area\",\"sizeref\":10.434124096333333,\"symbol\":\"circle\"},\"mode\":\"markers\",\"name\":\"Indonesia\",\"orientation\":\"v\",\"showlegend\":true,\"x\":[1994],\"xaxis\":\"x\",\"y\":[4],\"yaxis\":\"y\",\"type\":\"scatter\"}],\"name\":\"1994\"},{\"data\":[{\"hovertemplate\":\"\\u003cb\\u003e%{hovertext}\\u003c\\u002fb\\u003e\\u003cbr\\u003e\\u003cbr\\u003eexports=Brazil\\u003cbr\\u003eYear=%{x}\\u003cbr\\u003eCountryIndex=%{y}\\u003cbr\\u003eExportVolume=%{marker.size}\\u003cextra\\u003e\\u003c\\u002fextra\\u003e\",\"hovertext\":[\"Brazil\"],\"legendgroup\":\"Brazil\",\"marker\":{\"color\":\"#636efa\",\"size\":[14468.4322014],\"sizemode\":\"area\",\"sizeref\":10.434124096333333,\"symbol\":\"circle\"},\"mode\":\"markers\",\"name\":\"Brazil\",\"orientation\":\"v\",\"showlegend\":true,\"x\":[1995],\"xaxis\":\"x\",\"y\":[0],\"yaxis\":\"y\",\"type\":\"scatter\"},{\"hovertemplate\":\"\\u003cb\\u003e%{hovertext}\\u003c\\u002fb\\u003e\\u003cbr\\u003e\\u003cbr\\u003eexports=Colombia\\u003cbr\\u003eYear=%{x}\\u003cbr\\u003eCountryIndex=%{y}\\u003cbr\\u003eExportVolume=%{marker.size}\\u003cextra\\u003e\\u003c\\u002fextra\\u003e\",\"hovertext\":[\"Colombia\"],\"legendgroup\":\"Colombia\",\"marker\":{\"color\":\"#EF553B\",\"size\":[9814.1969996],\"sizemode\":\"area\",\"sizeref\":10.434124096333333,\"symbol\":\"circle\"},\"mode\":\"markers\",\"name\":\"Colombia\",\"orientation\":\"v\",\"showlegend\":true,\"x\":[1995],\"xaxis\":\"x\",\"y\":[1],\"yaxis\":\"y\",\"type\":\"scatter\"},{\"hovertemplate\":\"\\u003cb\\u003e%{hovertext}\\u003c\\u002fb\\u003e\\u003cbr\\u003e\\u003cbr\\u003eexports=Ethiopia\\u003cbr\\u003eYear=%{x}\\u003cbr\\u003eCountryIndex=%{y}\\u003cbr\\u003eExportVolume=%{marker.size}\\u003cextra\\u003e\\u003c\\u002fextra\\u003e\",\"hovertext\":[\"Ethiopia\"],\"legendgroup\":\"Ethiopia\",\"marker\":{\"color\":\"#00cc96\",\"size\":[1276.118],\"sizemode\":\"area\",\"sizeref\":10.434124096333333,\"symbol\":\"circle\"},\"mode\":\"markers\",\"name\":\"Ethiopia\",\"orientation\":\"v\",\"showlegend\":true,\"x\":[1995],\"xaxis\":\"x\",\"y\":[2],\"yaxis\":\"y\",\"type\":\"scatter\"},{\"hovertemplate\":\"\\u003cb\\u003e%{hovertext}\\u003c\\u002fb\\u003e\\u003cbr\\u003e\\u003cbr\\u003eexports=Honduras\\u003cbr\\u003eYear=%{x}\\u003cbr\\u003eCountryIndex=%{y}\\u003cbr\\u003eExportVolume=%{marker.size}\\u003cextra\\u003e\\u003c\\u002fextra\\u003e\",\"hovertext\":[\"Honduras\"],\"legendgroup\":\"Honduras\",\"marker\":{\"color\":\"#ab63fa\",\"size\":[1795.963],\"sizemode\":\"area\",\"sizeref\":10.434124096333333,\"symbol\":\"circle\"},\"mode\":\"markers\",\"name\":\"Honduras\",\"orientation\":\"v\",\"showlegend\":true,\"x\":[1995],\"xaxis\":\"x\",\"y\":[3],\"yaxis\":\"y\",\"type\":\"scatter\"},{\"hovertemplate\":\"\\u003cb\\u003e%{hovertext}\\u003c\\u002fb\\u003e\\u003cbr\\u003e\\u003cbr\\u003eexports=Indonesia\\u003cbr\\u003eYear=%{x}\\u003cbr\\u003eCountryIndex=%{y}\\u003cbr\\u003eExportVolume=%{marker.size}\\u003cextra\\u003e\\u003c\\u002fextra\\u003e\",\"hovertext\":[\"Indonesia\"],\"legendgroup\":\"Indonesia\",\"marker\":{\"color\":\"#FFA15A\",\"size\":[3946.5850006],\"sizemode\":\"area\",\"sizeref\":10.434124096333333,\"symbol\":\"circle\"},\"mode\":\"markers\",\"name\":\"Indonesia\",\"orientation\":\"v\",\"showlegend\":true,\"x\":[1995],\"xaxis\":\"x\",\"y\":[4],\"yaxis\":\"y\",\"type\":\"scatter\"}],\"name\":\"1995\"},{\"data\":[{\"hovertemplate\":\"\\u003cb\\u003e%{hovertext}\\u003c\\u002fb\\u003e\\u003cbr\\u003e\\u003cbr\\u003eexports=Brazil\\u003cbr\\u003eYear=%{x}\\u003cbr\\u003eCountryIndex=%{y}\\u003cbr\\u003eExportVolume=%{marker.size}\\u003cextra\\u003e\\u003c\\u002fextra\\u003e\",\"hovertext\":[\"Brazil\"],\"legendgroup\":\"Brazil\",\"marker\":{\"color\":\"#636efa\",\"size\":[15250.6090018],\"sizemode\":\"area\",\"sizeref\":10.434124096333333,\"symbol\":\"circle\"},\"mode\":\"markers\",\"name\":\"Brazil\",\"orientation\":\"v\",\"showlegend\":true,\"x\":[1996],\"xaxis\":\"x\",\"y\":[0],\"yaxis\":\"y\",\"type\":\"scatter\"},{\"hovertemplate\":\"\\u003cb\\u003e%{hovertext}\\u003c\\u002fb\\u003e\\u003cbr\\u003e\\u003cbr\\u003eexports=Colombia\\u003cbr\\u003eYear=%{x}\\u003cbr\\u003eCountryIndex=%{y}\\u003cbr\\u003eExportVolume=%{marker.size}\\u003cextra\\u003e\\u003c\\u002fextra\\u003e\",\"hovertext\":[\"Colombia\"],\"legendgroup\":\"Colombia\",\"marker\":{\"color\":\"#EF553B\",\"size\":[10588.4309984],\"sizemode\":\"area\",\"sizeref\":10.434124096333333,\"symbol\":\"circle\"},\"mode\":\"markers\",\"name\":\"Colombia\",\"orientation\":\"v\",\"showlegend\":true,\"x\":[1996],\"xaxis\":\"x\",\"y\":[1],\"yaxis\":\"y\",\"type\":\"scatter\"},{\"hovertemplate\":\"\\u003cb\\u003e%{hovertext}\\u003c\\u002fb\\u003e\\u003cbr\\u003e\\u003cbr\\u003eexports=Ethiopia\\u003cbr\\u003eYear=%{x}\\u003cbr\\u003eCountryIndex=%{y}\\u003cbr\\u003eExportVolume=%{marker.size}\\u003cextra\\u003e\\u003c\\u002fextra\\u003e\",\"hovertext\":[\"Ethiopia\"],\"legendgroup\":\"Ethiopia\",\"marker\":{\"color\":\"#00cc96\",\"size\":[1838.231],\"sizemode\":\"area\",\"sizeref\":10.434124096333333,\"symbol\":\"circle\"},\"mode\":\"markers\",\"name\":\"Ethiopia\",\"orientation\":\"v\",\"showlegend\":true,\"x\":[1996],\"xaxis\":\"x\",\"y\":[2],\"yaxis\":\"y\",\"type\":\"scatter\"},{\"hovertemplate\":\"\\u003cb\\u003e%{hovertext}\\u003c\\u002fb\\u003e\\u003cbr\\u003e\\u003cbr\\u003eexports=Honduras\\u003cbr\\u003eYear=%{x}\\u003cbr\\u003eCountryIndex=%{y}\\u003cbr\\u003eExportVolume=%{marker.size}\\u003cextra\\u003e\\u003c\\u002fextra\\u003e\",\"hovertext\":[\"Honduras\"],\"legendgroup\":\"Honduras\",\"marker\":{\"color\":\"#ab63fa\",\"size\":[2059.76],\"sizemode\":\"area\",\"sizeref\":10.434124096333333,\"symbol\":\"circle\"},\"mode\":\"markers\",\"name\":\"Honduras\",\"orientation\":\"v\",\"showlegend\":true,\"x\":[1996],\"xaxis\":\"x\",\"y\":[3],\"yaxis\":\"y\",\"type\":\"scatter\"},{\"hovertemplate\":\"\\u003cb\\u003e%{hovertext}\\u003c\\u002fb\\u003e\\u003cbr\\u003e\\u003cbr\\u003eexports=Indonesia\\u003cbr\\u003eYear=%{x}\\u003cbr\\u003eCountryIndex=%{y}\\u003cbr\\u003eExportVolume=%{marker.size}\\u003cextra\\u003e\\u003c\\u002fextra\\u003e\",\"hovertext\":[\"Indonesia\"],\"legendgroup\":\"Indonesia\",\"marker\":{\"color\":\"#FFA15A\",\"size\":[6440.28],\"sizemode\":\"area\",\"sizeref\":10.434124096333333,\"symbol\":\"circle\"},\"mode\":\"markers\",\"name\":\"Indonesia\",\"orientation\":\"v\",\"showlegend\":true,\"x\":[1996],\"xaxis\":\"x\",\"y\":[4],\"yaxis\":\"y\",\"type\":\"scatter\"}],\"name\":\"1996\"},{\"data\":[{\"hovertemplate\":\"\\u003cb\\u003e%{hovertext}\\u003c\\u002fb\\u003e\\u003cbr\\u003e\\u003cbr\\u003eexports=Brazil\\u003cbr\\u003eYear=%{x}\\u003cbr\\u003eCountryIndex=%{y}\\u003cbr\\u003eExportVolume=%{marker.size}\\u003cextra\\u003e\\u003c\\u002fextra\\u003e\",\"hovertext\":[\"Brazil\"],\"legendgroup\":\"Brazil\",\"marker\":{\"color\":\"#636efa\",\"size\":[16801.2600051],\"sizemode\":\"area\",\"sizeref\":10.434124096333333,\"symbol\":\"circle\"},\"mode\":\"markers\",\"name\":\"Brazil\",\"orientation\":\"v\",\"showlegend\":true,\"x\":[1997],\"xaxis\":\"x\",\"y\":[0],\"yaxis\":\"y\",\"type\":\"scatter\"},{\"hovertemplate\":\"\\u003cb\\u003e%{hovertext}\\u003c\\u002fb\\u003e\\u003cbr\\u003e\\u003cbr\\u003eexports=Colombia\\u003cbr\\u003eYear=%{x}\\u003cbr\\u003eCountryIndex=%{y}\\u003cbr\\u003eExportVolume=%{marker.size}\\u003cextra\\u003e\\u003c\\u002fextra\\u003e\",\"hovertext\":[\"Colombia\"],\"legendgroup\":\"Colombia\",\"marker\":{\"color\":\"#EF553B\",\"size\":[10918.8630016],\"sizemode\":\"area\",\"sizeref\":10.434124096333333,\"symbol\":\"circle\"},\"mode\":\"markers\",\"name\":\"Colombia\",\"orientation\":\"v\",\"showlegend\":true,\"x\":[1997],\"xaxis\":\"x\",\"y\":[1],\"yaxis\":\"y\",\"type\":\"scatter\"},{\"hovertemplate\":\"\\u003cb\\u003e%{hovertext}\\u003c\\u002fb\\u003e\\u003cbr\\u003e\\u003cbr\\u003eexports=Ethiopia\\u003cbr\\u003eYear=%{x}\\u003cbr\\u003eCountryIndex=%{y}\\u003cbr\\u003eExportVolume=%{marker.size}\\u003cextra\\u003e\\u003c\\u002fextra\\u003e\",\"hovertext\":[\"Ethiopia\"],\"legendgroup\":\"Ethiopia\",\"marker\":{\"color\":\"#00cc96\",\"size\":[1979.733],\"sizemode\":\"area\",\"sizeref\":10.434124096333333,\"symbol\":\"circle\"},\"mode\":\"markers\",\"name\":\"Ethiopia\",\"orientation\":\"v\",\"showlegend\":true,\"x\":[1997],\"xaxis\":\"x\",\"y\":[2],\"yaxis\":\"y\",\"type\":\"scatter\"},{\"hovertemplate\":\"\\u003cb\\u003e%{hovertext}\\u003c\\u002fb\\u003e\\u003cbr\\u003e\\u003cbr\\u003eexports=Honduras\\u003cbr\\u003eYear=%{x}\\u003cbr\\u003eCountryIndex=%{y}\\u003cbr\\u003eExportVolume=%{marker.size}\\u003cextra\\u003e\\u003c\\u002fextra\\u003e\",\"hovertext\":[\"Honduras\"],\"legendgroup\":\"Honduras\",\"marker\":{\"color\":\"#ab63fa\",\"size\":[1722.482],\"sizemode\":\"area\",\"sizeref\":10.434124096333333,\"symbol\":\"circle\"},\"mode\":\"markers\",\"name\":\"Honduras\",\"orientation\":\"v\",\"showlegend\":true,\"x\":[1997],\"xaxis\":\"x\",\"y\":[3],\"yaxis\":\"y\",\"type\":\"scatter\"},{\"hovertemplate\":\"\\u003cb\\u003e%{hovertext}\\u003c\\u002fb\\u003e\\u003cbr\\u003e\\u003cbr\\u003eexports=Indonesia\\u003cbr\\u003eYear=%{x}\\u003cbr\\u003eCountryIndex=%{y}\\u003cbr\\u003eExportVolume=%{marker.size}\\u003cextra\\u003e\\u003c\\u002fextra\\u003e\",\"hovertext\":[\"Indonesia\"],\"legendgroup\":\"Indonesia\",\"marker\":{\"color\":\"#FFA15A\",\"size\":[5755.0779999],\"sizemode\":\"area\",\"sizeref\":10.434124096333333,\"symbol\":\"circle\"},\"mode\":\"markers\",\"name\":\"Indonesia\",\"orientation\":\"v\",\"showlegend\":true,\"x\":[1997],\"xaxis\":\"x\",\"y\":[4],\"yaxis\":\"y\",\"type\":\"scatter\"}],\"name\":\"1997\"},{\"data\":[{\"hovertemplate\":\"\\u003cb\\u003e%{hovertext}\\u003c\\u002fb\\u003e\\u003cbr\\u003e\\u003cbr\\u003eexports=Brazil\\u003cbr\\u003eYear=%{x}\\u003cbr\\u003eCountryIndex=%{y}\\u003cbr\\u003eExportVolume=%{marker.size}\\u003cextra\\u003e\\u003c\\u002fextra\\u003e\",\"hovertext\":[\"Brazil\"],\"legendgroup\":\"Brazil\",\"marker\":{\"color\":\"#636efa\",\"size\":[18144.3883339],\"sizemode\":\"area\",\"sizeref\":10.434124096333333,\"symbol\":\"circle\"},\"mode\":\"markers\",\"name\":\"Brazil\",\"orientation\":\"v\",\"showlegend\":true,\"x\":[1998],\"xaxis\":\"x\",\"y\":[0],\"yaxis\":\"y\",\"type\":\"scatter\"},{\"hovertemplate\":\"\\u003cb\\u003e%{hovertext}\\u003c\\u002fb\\u003e\\u003cbr\\u003e\\u003cbr\\u003eexports=Colombia\\u003cbr\\u003eYear=%{x}\\u003cbr\\u003eCountryIndex=%{y}\\u003cbr\\u003eExportVolume=%{marker.size}\\u003cextra\\u003e\\u003c\\u002fextra\\u003e\",\"hovertext\":[\"Colombia\"],\"legendgroup\":\"Colombia\",\"marker\":{\"color\":\"#EF553B\",\"size\":[11259.9289995],\"sizemode\":\"area\",\"sizeref\":10.434124096333333,\"symbol\":\"circle\"},\"mode\":\"markers\",\"name\":\"Colombia\",\"orientation\":\"v\",\"showlegend\":true,\"x\":[1998],\"xaxis\":\"x\",\"y\":[1],\"yaxis\":\"y\",\"type\":\"scatter\"},{\"hovertemplate\":\"\\u003cb\\u003e%{hovertext}\\u003c\\u002fb\\u003e\\u003cbr\\u003e\\u003cbr\\u003eexports=Ethiopia\\u003cbr\\u003eYear=%{x}\\u003cbr\\u003eCountryIndex=%{y}\\u003cbr\\u003eExportVolume=%{marker.size}\\u003cextra\\u003e\\u003c\\u002fextra\\u003e\",\"hovertext\":[\"Ethiopia\"],\"legendgroup\":\"Ethiopia\",\"marker\":{\"color\":\"#00cc96\",\"size\":[1917.061],\"sizemode\":\"area\",\"sizeref\":10.434124096333333,\"symbol\":\"circle\"},\"mode\":\"markers\",\"name\":\"Ethiopia\",\"orientation\":\"v\",\"showlegend\":true,\"x\":[1998],\"xaxis\":\"x\",\"y\":[2],\"yaxis\":\"y\",\"type\":\"scatter\"},{\"hovertemplate\":\"\\u003cb\\u003e%{hovertext}\\u003c\\u002fb\\u003e\\u003cbr\\u003e\\u003cbr\\u003eexports=Honduras\\u003cbr\\u003eYear=%{x}\\u003cbr\\u003eCountryIndex=%{y}\\u003cbr\\u003eExportVolume=%{marker.size}\\u003cextra\\u003e\\u003c\\u002fextra\\u003e\",\"hovertext\":[\"Honduras\"],\"legendgroup\":\"Honduras\",\"marker\":{\"color\":\"#ab63fa\",\"size\":[2329.274],\"sizemode\":\"area\",\"sizeref\":10.434124096333333,\"symbol\":\"circle\"},\"mode\":\"markers\",\"name\":\"Honduras\",\"orientation\":\"v\",\"showlegend\":true,\"x\":[1998],\"xaxis\":\"x\",\"y\":[3],\"yaxis\":\"y\",\"type\":\"scatter\"},{\"hovertemplate\":\"\\u003cb\\u003e%{hovertext}\\u003c\\u002fb\\u003e\\u003cbr\\u003e\\u003cbr\\u003eexports=Indonesia\\u003cbr\\u003eYear=%{x}\\u003cbr\\u003eCountryIndex=%{y}\\u003cbr\\u003eExportVolume=%{marker.size}\\u003cextra\\u003e\\u003c\\u002fextra\\u003e\",\"hovertext\":[\"Indonesia\"],\"legendgroup\":\"Indonesia\",\"marker\":{\"color\":\"#FFA15A\",\"size\":[5598.0319992],\"sizemode\":\"area\",\"sizeref\":10.434124096333333,\"symbol\":\"circle\"},\"mode\":\"markers\",\"name\":\"Indonesia\",\"orientation\":\"v\",\"showlegend\":true,\"x\":[1998],\"xaxis\":\"x\",\"y\":[4],\"yaxis\":\"y\",\"type\":\"scatter\"}],\"name\":\"1998\"},{\"data\":[{\"hovertemplate\":\"\\u003cb\\u003e%{hovertext}\\u003c\\u002fb\\u003e\\u003cbr\\u003e\\u003cbr\\u003eexports=Brazil\\u003cbr\\u003eYear=%{x}\\u003cbr\\u003eCountryIndex=%{y}\\u003cbr\\u003eExportVolume=%{marker.size}\\u003cextra\\u003e\\u003c\\u002fextra\\u003e\",\"hovertext\":[\"Brazil\"],\"legendgroup\":\"Brazil\",\"marker\":{\"color\":\"#636efa\",\"size\":[23149.2038037],\"sizemode\":\"area\",\"sizeref\":10.434124096333333,\"symbol\":\"circle\"},\"mode\":\"markers\",\"name\":\"Brazil\",\"orientation\":\"v\",\"showlegend\":true,\"x\":[1999],\"xaxis\":\"x\",\"y\":[0],\"yaxis\":\"y\",\"type\":\"scatter\"},{\"hovertemplate\":\"\\u003cb\\u003e%{hovertext}\\u003c\\u002fb\\u003e\\u003cbr\\u003e\\u003cbr\\u003eexports=Colombia\\u003cbr\\u003eYear=%{x}\\u003cbr\\u003eCountryIndex=%{y}\\u003cbr\\u003eExportVolume=%{marker.size}\\u003cextra\\u003e\\u003c\\u002fextra\\u003e\",\"hovertext\":[\"Colombia\"],\"legendgroup\":\"Colombia\",\"marker\":{\"color\":\"#EF553B\",\"size\":[9995.3100014],\"sizemode\":\"area\",\"sizeref\":10.434124096333333,\"symbol\":\"circle\"},\"mode\":\"markers\",\"name\":\"Colombia\",\"orientation\":\"v\",\"showlegend\":true,\"x\":[1999],\"xaxis\":\"x\",\"y\":[1],\"yaxis\":\"y\",\"type\":\"scatter\"},{\"hovertemplate\":\"\\u003cb\\u003e%{hovertext}\\u003c\\u002fb\\u003e\\u003cbr\\u003e\\u003cbr\\u003eexports=Ethiopia\\u003cbr\\u003eYear=%{x}\\u003cbr\\u003eCountryIndex=%{y}\\u003cbr\\u003eExportVolume=%{marker.size}\\u003cextra\\u003e\\u003c\\u002fextra\\u003e\",\"hovertext\":[\"Ethiopia\"],\"legendgroup\":\"Ethiopia\",\"marker\":{\"color\":\"#00cc96\",\"size\":[1818.087],\"sizemode\":\"area\",\"sizeref\":10.434124096333333,\"symbol\":\"circle\"},\"mode\":\"markers\",\"name\":\"Ethiopia\",\"orientation\":\"v\",\"showlegend\":true,\"x\":[1999],\"xaxis\":\"x\",\"y\":[2],\"yaxis\":\"y\",\"type\":\"scatter\"},{\"hovertemplate\":\"\\u003cb\\u003e%{hovertext}\\u003c\\u002fb\\u003e\\u003cbr\\u003e\\u003cbr\\u003eexports=Honduras\\u003cbr\\u003eYear=%{x}\\u003cbr\\u003eCountryIndex=%{y}\\u003cbr\\u003eExportVolume=%{marker.size}\\u003cextra\\u003e\\u003c\\u002fextra\\u003e\",\"hovertext\":[\"Honduras\"],\"legendgroup\":\"Honduras\",\"marker\":{\"color\":\"#ab63fa\",\"size\":[1986.603],\"sizemode\":\"area\",\"sizeref\":10.434124096333333,\"symbol\":\"circle\"},\"mode\":\"markers\",\"name\":\"Honduras\",\"orientation\":\"v\",\"showlegend\":true,\"x\":[1999],\"xaxis\":\"x\",\"y\":[3],\"yaxis\":\"y\",\"type\":\"scatter\"},{\"hovertemplate\":\"\\u003cb\\u003e%{hovertext}\\u003c\\u002fb\\u003e\\u003cbr\\u003e\\u003cbr\\u003eexports=Indonesia\\u003cbr\\u003eYear=%{x}\\u003cbr\\u003eCountryIndex=%{y}\\u003cbr\\u003eExportVolume=%{marker.size}\\u003cextra\\u003e\\u003c\\u002fextra\\u003e\",\"hovertext\":[\"Indonesia\"],\"legendgroup\":\"Indonesia\",\"marker\":{\"color\":\"#FFA15A\",\"size\":[5115.0269995],\"sizemode\":\"area\",\"sizeref\":10.434124096333333,\"symbol\":\"circle\"},\"mode\":\"markers\",\"name\":\"Indonesia\",\"orientation\":\"v\",\"showlegend\":true,\"x\":[1999],\"xaxis\":\"x\",\"y\":[4],\"yaxis\":\"y\",\"type\":\"scatter\"}],\"name\":\"1999\"},{\"data\":[{\"hovertemplate\":\"\\u003cb\\u003e%{hovertext}\\u003c\\u002fb\\u003e\\u003cbr\\u003e\\u003cbr\\u003eexports=Brazil\\u003cbr\\u003eYear=%{x}\\u003cbr\\u003eCountryIndex=%{y}\\u003cbr\\u003eExportVolume=%{marker.size}\\u003cextra\\u003e\\u003c\\u002fextra\\u003e\",\"hovertext\":[\"Brazil\"],\"legendgroup\":\"Brazil\",\"marker\":{\"color\":\"#636efa\",\"size\":[18016.2606406],\"sizemode\":\"area\",\"sizeref\":10.434124096333333,\"symbol\":\"circle\"},\"mode\":\"markers\",\"name\":\"Brazil\",\"orientation\":\"v\",\"showlegend\":true,\"x\":[2000],\"xaxis\":\"x\",\"y\":[0],\"yaxis\":\"y\",\"type\":\"scatter\"},{\"hovertemplate\":\"\\u003cb\\u003e%{hovertext}\\u003c\\u002fb\\u003e\\u003cbr\\u003e\\u003cbr\\u003eexports=Colombia\\u003cbr\\u003eYear=%{x}\\u003cbr\\u003eCountryIndex=%{y}\\u003cbr\\u003eExportVolume=%{marker.size}\\u003cextra\\u003e\\u003c\\u002fextra\\u003e\",\"hovertext\":[\"Colombia\"],\"legendgroup\":\"Colombia\",\"marker\":{\"color\":\"#EF553B\",\"size\":[9176.6609102],\"sizemode\":\"area\",\"sizeref\":10.434124096333333,\"symbol\":\"circle\"},\"mode\":\"markers\",\"name\":\"Colombia\",\"orientation\":\"v\",\"showlegend\":true,\"x\":[2000],\"xaxis\":\"x\",\"y\":[1],\"yaxis\":\"y\",\"type\":\"scatter\"},{\"hovertemplate\":\"\\u003cb\\u003e%{hovertext}\\u003c\\u002fb\\u003e\\u003cbr\\u003e\\u003cbr\\u003eexports=Ethiopia\\u003cbr\\u003eYear=%{x}\\u003cbr\\u003eCountryIndex=%{y}\\u003cbr\\u003eExportVolume=%{marker.size}\\u003cextra\\u003e\\u003c\\u002fextra\\u003e\",\"hovertext\":[\"Ethiopia\"],\"legendgroup\":\"Ethiopia\",\"marker\":{\"color\":\"#00cc96\",\"size\":[1981.856],\"sizemode\":\"area\",\"sizeref\":10.434124096333333,\"symbol\":\"circle\"},\"mode\":\"markers\",\"name\":\"Ethiopia\",\"orientation\":\"v\",\"showlegend\":true,\"x\":[2000],\"xaxis\":\"x\",\"y\":[2],\"yaxis\":\"y\",\"type\":\"scatter\"},{\"hovertemplate\":\"\\u003cb\\u003e%{hovertext}\\u003c\\u002fb\\u003e\\u003cbr\\u003e\\u003cbr\\u003eexports=Honduras\\u003cbr\\u003eYear=%{x}\\u003cbr\\u003eCountryIndex=%{y}\\u003cbr\\u003eExportVolume=%{marker.size}\\u003cextra\\u003e\\u003c\\u002fextra\\u003e\",\"hovertext\":[\"Honduras\"],\"legendgroup\":\"Honduras\",\"marker\":{\"color\":\"#ab63fa\",\"size\":[2878.56],\"sizemode\":\"area\",\"sizeref\":10.434124096333333,\"symbol\":\"circle\"},\"mode\":\"markers\",\"name\":\"Honduras\",\"orientation\":\"v\",\"showlegend\":true,\"x\":[2000],\"xaxis\":\"x\",\"y\":[3],\"yaxis\":\"y\",\"type\":\"scatter\"},{\"hovertemplate\":\"\\u003cb\\u003e%{hovertext}\\u003c\\u002fb\\u003e\\u003cbr\\u003e\\u003cbr\\u003eexports=Indonesia\\u003cbr\\u003eYear=%{x}\\u003cbr\\u003eCountryIndex=%{y}\\u003cbr\\u003eExportVolume=%{marker.size}\\u003cextra\\u003e\\u003c\\u002fextra\\u003e\",\"hovertext\":[\"Indonesia\"],\"legendgroup\":\"Indonesia\",\"marker\":{\"color\":\"#FFA15A\",\"size\":[5357.59886],\"sizemode\":\"area\",\"sizeref\":10.434124096333333,\"symbol\":\"circle\"},\"mode\":\"markers\",\"name\":\"Indonesia\",\"orientation\":\"v\",\"showlegend\":true,\"x\":[2000],\"xaxis\":\"x\",\"y\":[4],\"yaxis\":\"y\",\"type\":\"scatter\"}],\"name\":\"2000\"},{\"data\":[{\"hovertemplate\":\"\\u003cb\\u003e%{hovertext}\\u003c\\u002fb\\u003e\\u003cbr\\u003e\\u003cbr\\u003eexports=Brazil\\u003cbr\\u003eYear=%{x}\\u003cbr\\u003eCountryIndex=%{y}\\u003cbr\\u003eExportVolume=%{marker.size}\\u003cextra\\u003e\\u003c\\u002fextra\\u003e\",\"hovertext\":[\"Brazil\"],\"legendgroup\":\"Brazil\",\"marker\":{\"color\":\"#636efa\",\"size\":[23172.486512],\"sizemode\":\"area\",\"sizeref\":10.434124096333333,\"symbol\":\"circle\"},\"mode\":\"markers\",\"name\":\"Brazil\",\"orientation\":\"v\",\"showlegend\":true,\"x\":[2001],\"xaxis\":\"x\",\"y\":[0],\"yaxis\":\"y\",\"type\":\"scatter\"},{\"hovertemplate\":\"\\u003cb\\u003e%{hovertext}\\u003c\\u002fb\\u003e\\u003cbr\\u003e\\u003cbr\\u003eexports=Colombia\\u003cbr\\u003eYear=%{x}\\u003cbr\\u003eCountryIndex=%{y}\\u003cbr\\u003eExportVolume=%{marker.size}\\u003cextra\\u003e\\u003c\\u002fextra\\u003e\",\"hovertext\":[\"Colombia\"],\"legendgroup\":\"Colombia\",\"marker\":{\"color\":\"#EF553B\",\"size\":[9943.6300006],\"sizemode\":\"area\",\"sizeref\":10.434124096333333,\"symbol\":\"circle\"},\"mode\":\"markers\",\"name\":\"Colombia\",\"orientation\":\"v\",\"showlegend\":true,\"x\":[2001],\"xaxis\":\"x\",\"y\":[1],\"yaxis\":\"y\",\"type\":\"scatter\"},{\"hovertemplate\":\"\\u003cb\\u003e%{hovertext}\\u003c\\u002fb\\u003e\\u003cbr\\u003e\\u003cbr\\u003eexports=Ethiopia\\u003cbr\\u003eYear=%{x}\\u003cbr\\u003eCountryIndex=%{y}\\u003cbr\\u003eExportVolume=%{marker.size}\\u003cextra\\u003e\\u003c\\u002fextra\\u003e\",\"hovertext\":[\"Ethiopia\"],\"legendgroup\":\"Ethiopia\",\"marker\":{\"color\":\"#00cc96\",\"size\":[1376.062],\"sizemode\":\"area\",\"sizeref\":10.434124096333333,\"symbol\":\"circle\"},\"mode\":\"markers\",\"name\":\"Ethiopia\",\"orientation\":\"v\",\"showlegend\":true,\"x\":[2001],\"xaxis\":\"x\",\"y\":[2],\"yaxis\":\"y\",\"type\":\"scatter\"},{\"hovertemplate\":\"\\u003cb\\u003e%{hovertext}\\u003c\\u002fb\\u003e\\u003cbr\\u003e\\u003cbr\\u003eexports=Honduras\\u003cbr\\u003eYear=%{x}\\u003cbr\\u003eCountryIndex=%{y}\\u003cbr\\u003eExportVolume=%{marker.size}\\u003cextra\\u003e\\u003c\\u002fextra\\u003e\",\"hovertext\":[\"Honduras\"],\"legendgroup\":\"Honduras\",\"marker\":{\"color\":\"#ab63fa\",\"size\":[2391.613],\"sizemode\":\"area\",\"sizeref\":10.434124096333333,\"symbol\":\"circle\"},\"mode\":\"markers\",\"name\":\"Honduras\",\"orientation\":\"v\",\"showlegend\":true,\"x\":[2001],\"xaxis\":\"x\",\"y\":[3],\"yaxis\":\"y\",\"type\":\"scatter\"},{\"hovertemplate\":\"\\u003cb\\u003e%{hovertext}\\u003c\\u002fb\\u003e\\u003cbr\\u003e\\u003cbr\\u003eexports=Indonesia\\u003cbr\\u003eYear=%{x}\\u003cbr\\u003eCountryIndex=%{y}\\u003cbr\\u003eExportVolume=%{marker.size}\\u003cextra\\u003e\\u003c\\u002fextra\\u003e\",\"hovertext\":[\"Indonesia\"],\"legendgroup\":\"Indonesia\",\"marker\":{\"color\":\"#FFA15A\",\"size\":[5243.4050012],\"sizemode\":\"area\",\"sizeref\":10.434124096333333,\"symbol\":\"circle\"},\"mode\":\"markers\",\"name\":\"Indonesia\",\"orientation\":\"v\",\"showlegend\":true,\"x\":[2001],\"xaxis\":\"x\",\"y\":[4],\"yaxis\":\"y\",\"type\":\"scatter\"}],\"name\":\"2001\"},{\"data\":[{\"hovertemplate\":\"\\u003cb\\u003e%{hovertext}\\u003c\\u002fb\\u003e\\u003cbr\\u003e\\u003cbr\\u003eexports=Brazil\\u003cbr\\u003eYear=%{x}\\u003cbr\\u003eCountryIndex=%{y}\\u003cbr\\u003eExportVolume=%{marker.size}\\u003cextra\\u003e\\u003c\\u002fextra\\u003e\",\"hovertext\":[\"Brazil\"],\"legendgroup\":\"Brazil\",\"marker\":{\"color\":\"#636efa\",\"size\":[27981.8389351],\"sizemode\":\"area\",\"sizeref\":10.434124096333333,\"symbol\":\"circle\"},\"mode\":\"markers\",\"name\":\"Brazil\",\"orientation\":\"v\",\"showlegend\":true,\"x\":[2002],\"xaxis\":\"x\",\"y\":[0],\"yaxis\":\"y\",\"type\":\"scatter\"},{\"hovertemplate\":\"\\u003cb\\u003e%{hovertext}\\u003c\\u002fb\\u003e\\u003cbr\\u003e\\u003cbr\\u003eexports=Colombia\\u003cbr\\u003eYear=%{x}\\u003cbr\\u003eCountryIndex=%{y}\\u003cbr\\u003eExportVolume=%{marker.size}\\u003cextra\\u003e\\u003c\\u002fextra\\u003e\",\"hovertext\":[\"Colombia\"],\"legendgroup\":\"Colombia\",\"marker\":{\"color\":\"#EF553B\",\"size\":[10273.4249979],\"sizemode\":\"area\",\"sizeref\":10.434124096333333,\"symbol\":\"circle\"},\"mode\":\"markers\",\"name\":\"Colombia\",\"orientation\":\"v\",\"showlegend\":true,\"x\":[2002],\"xaxis\":\"x\",\"y\":[1],\"yaxis\":\"y\",\"type\":\"scatter\"},{\"hovertemplate\":\"\\u003cb\\u003e%{hovertext}\\u003c\\u002fb\\u003e\\u003cbr\\u003e\\u003cbr\\u003eexports=Ethiopia\\u003cbr\\u003eYear=%{x}\\u003cbr\\u003eCountryIndex=%{y}\\u003cbr\\u003eExportVolume=%{marker.size}\\u003cextra\\u003e\\u003c\\u002fextra\\u003e\",\"hovertext\":[\"Ethiopia\"],\"legendgroup\":\"Ethiopia\",\"marker\":{\"color\":\"#00cc96\",\"size\":[2054.678],\"sizemode\":\"area\",\"sizeref\":10.434124096333333,\"symbol\":\"circle\"},\"mode\":\"markers\",\"name\":\"Ethiopia\",\"orientation\":\"v\",\"showlegend\":true,\"x\":[2002],\"xaxis\":\"x\",\"y\":[2],\"yaxis\":\"y\",\"type\":\"scatter\"},{\"hovertemplate\":\"\\u003cb\\u003e%{hovertext}\\u003c\\u002fb\\u003e\\u003cbr\\u003e\\u003cbr\\u003eexports=Honduras\\u003cbr\\u003eYear=%{x}\\u003cbr\\u003eCountryIndex=%{y}\\u003cbr\\u003eExportVolume=%{marker.size}\\u003cextra\\u003e\\u003c\\u002fextra\\u003e\",\"hovertext\":[\"Honduras\"],\"legendgroup\":\"Honduras\",\"marker\":{\"color\":\"#ab63fa\",\"size\":[2711.26],\"sizemode\":\"area\",\"sizeref\":10.434124096333333,\"symbol\":\"circle\"},\"mode\":\"markers\",\"name\":\"Honduras\",\"orientation\":\"v\",\"showlegend\":true,\"x\":[2002],\"xaxis\":\"x\",\"y\":[3],\"yaxis\":\"y\",\"type\":\"scatter\"},{\"hovertemplate\":\"\\u003cb\\u003e%{hovertext}\\u003c\\u002fb\\u003e\\u003cbr\\u003e\\u003cbr\\u003eexports=Indonesia\\u003cbr\\u003eYear=%{x}\\u003cbr\\u003eCountryIndex=%{y}\\u003cbr\\u003eExportVolume=%{marker.size}\\u003cextra\\u003e\\u003c\\u002fextra\\u003e\",\"hovertext\":[\"Indonesia\"],\"legendgroup\":\"Indonesia\",\"marker\":{\"color\":\"#FFA15A\",\"size\":[4285.830001],\"sizemode\":\"area\",\"sizeref\":10.434124096333333,\"symbol\":\"circle\"},\"mode\":\"markers\",\"name\":\"Indonesia\",\"orientation\":\"v\",\"showlegend\":true,\"x\":[2002],\"xaxis\":\"x\",\"y\":[4],\"yaxis\":\"y\",\"type\":\"scatter\"}],\"name\":\"2002\"},{\"data\":[{\"hovertemplate\":\"\\u003cb\\u003e%{hovertext}\\u003c\\u002fb\\u003e\\u003cbr\\u003e\\u003cbr\\u003eexports=Brazil\\u003cbr\\u003eYear=%{x}\\u003cbr\\u003eCountryIndex=%{y}\\u003cbr\\u003eExportVolume=%{marker.size}\\u003cextra\\u003e\\u003c\\u002fextra\\u003e\",\"hovertext\":[\"Brazil\"],\"legendgroup\":\"Brazil\",\"marker\":{\"color\":\"#636efa\",\"size\":[25710.8116628],\"sizemode\":\"area\",\"sizeref\":10.434124096333333,\"symbol\":\"circle\"},\"mode\":\"markers\",\"name\":\"Brazil\",\"orientation\":\"v\",\"showlegend\":true,\"x\":[2003],\"xaxis\":\"x\",\"y\":[0],\"yaxis\":\"y\",\"type\":\"scatter\"},{\"hovertemplate\":\"\\u003cb\\u003e%{hovertext}\\u003c\\u002fb\\u003e\\u003cbr\\u003e\\u003cbr\\u003eexports=Colombia\\u003cbr\\u003eYear=%{x}\\u003cbr\\u003eCountryIndex=%{y}\\u003cbr\\u003eExportVolume=%{marker.size}\\u003cextra\\u003e\\u003c\\u002fextra\\u003e\",\"hovertext\":[\"Colombia\"],\"legendgroup\":\"Colombia\",\"marker\":{\"color\":\"#EF553B\",\"size\":[10244.3919993],\"sizemode\":\"area\",\"sizeref\":10.434124096333333,\"symbol\":\"circle\"},\"mode\":\"markers\",\"name\":\"Colombia\",\"orientation\":\"v\",\"showlegend\":true,\"x\":[2003],\"xaxis\":\"x\",\"y\":[1],\"yaxis\":\"y\",\"type\":\"scatter\"},{\"hovertemplate\":\"\\u003cb\\u003e%{hovertext}\\u003c\\u002fb\\u003e\\u003cbr\\u003e\\u003cbr\\u003eexports=Ethiopia\\u003cbr\\u003eYear=%{x}\\u003cbr\\u003eCountryIndex=%{y}\\u003cbr\\u003eExportVolume=%{marker.size}\\u003cextra\\u003e\\u003c\\u002fextra\\u003e\",\"hovertext\":[\"Ethiopia\"],\"legendgroup\":\"Ethiopia\",\"marker\":{\"color\":\"#00cc96\",\"size\":[2229.143],\"sizemode\":\"area\",\"sizeref\":10.434124096333333,\"symbol\":\"circle\"},\"mode\":\"markers\",\"name\":\"Ethiopia\",\"orientation\":\"v\",\"showlegend\":true,\"x\":[2003],\"xaxis\":\"x\",\"y\":[2],\"yaxis\":\"y\",\"type\":\"scatter\"},{\"hovertemplate\":\"\\u003cb\\u003e%{hovertext}\\u003c\\u002fb\\u003e\\u003cbr\\u003e\\u003cbr\\u003eexports=Honduras\\u003cbr\\u003eYear=%{x}\\u003cbr\\u003eCountryIndex=%{y}\\u003cbr\\u003eExportVolume=%{marker.size}\\u003cextra\\u003e\\u003c\\u002fextra\\u003e\",\"hovertext\":[\"Honduras\"],\"legendgroup\":\"Honduras\",\"marker\":{\"color\":\"#ab63fa\",\"size\":[2425.237],\"sizemode\":\"area\",\"sizeref\":10.434124096333333,\"symbol\":\"circle\"},\"mode\":\"markers\",\"name\":\"Honduras\",\"orientation\":\"v\",\"showlegend\":true,\"x\":[2003],\"xaxis\":\"x\",\"y\":[3],\"yaxis\":\"y\",\"type\":\"scatter\"},{\"hovertemplate\":\"\\u003cb\\u003e%{hovertext}\\u003c\\u002fb\\u003e\\u003cbr\\u003e\\u003cbr\\u003eexports=Indonesia\\u003cbr\\u003eYear=%{x}\\u003cbr\\u003eCountryIndex=%{y}\\u003cbr\\u003eExportVolume=%{marker.size}\\u003cextra\\u003e\\u003c\\u002fextra\\u003e\",\"hovertext\":[\"Indonesia\"],\"legendgroup\":\"Indonesia\",\"marker\":{\"color\":\"#FFA15A\",\"size\":[4794.7200006],\"sizemode\":\"area\",\"sizeref\":10.434124096333333,\"symbol\":\"circle\"},\"mode\":\"markers\",\"name\":\"Indonesia\",\"orientation\":\"v\",\"showlegend\":true,\"x\":[2003],\"xaxis\":\"x\",\"y\":[4],\"yaxis\":\"y\",\"type\":\"scatter\"}],\"name\":\"2003\"},{\"data\":[{\"hovertemplate\":\"\\u003cb\\u003e%{hovertext}\\u003c\\u002fb\\u003e\\u003cbr\\u003e\\u003cbr\\u003eexports=Brazil\\u003cbr\\u003eYear=%{x}\\u003cbr\\u003eCountryIndex=%{y}\\u003cbr\\u003eExportVolume=%{marker.size}\\u003cextra\\u003e\\u003c\\u002fextra\\u003e\",\"hovertext\":[\"Brazil\"],\"legendgroup\":\"Brazil\",\"marker\":{\"color\":\"#636efa\",\"size\":[26478.4750901],\"sizemode\":\"area\",\"sizeref\":10.434124096333333,\"symbol\":\"circle\"},\"mode\":\"markers\",\"name\":\"Brazil\",\"orientation\":\"v\",\"showlegend\":true,\"x\":[2004],\"xaxis\":\"x\",\"y\":[0],\"yaxis\":\"y\",\"type\":\"scatter\"},{\"hovertemplate\":\"\\u003cb\\u003e%{hovertext}\\u003c\\u002fb\\u003e\\u003cbr\\u003e\\u003cbr\\u003eexports=Colombia\\u003cbr\\u003eYear=%{x}\\u003cbr\\u003eCountryIndex=%{y}\\u003cbr\\u003eExportVolume=%{marker.size}\\u003cextra\\u003e\\u003c\\u002fextra\\u003e\",\"hovertext\":[\"Colombia\"],\"legendgroup\":\"Colombia\",\"marker\":{\"color\":\"#EF553B\",\"size\":[10194.3150011],\"sizemode\":\"area\",\"sizeref\":10.434124096333333,\"symbol\":\"circle\"},\"mode\":\"markers\",\"name\":\"Colombia\",\"orientation\":\"v\",\"showlegend\":true,\"x\":[2004],\"xaxis\":\"x\",\"y\":[1],\"yaxis\":\"y\",\"type\":\"scatter\"},{\"hovertemplate\":\"\\u003cb\\u003e%{hovertext}\\u003c\\u002fb\\u003e\\u003cbr\\u003e\\u003cbr\\u003eexports=Ethiopia\\u003cbr\\u003eYear=%{x}\\u003cbr\\u003eCountryIndex=%{y}\\u003cbr\\u003eExportVolume=%{marker.size}\\u003cextra\\u003e\\u003c\\u002fextra\\u003e\",\"hovertext\":[\"Ethiopia\"],\"legendgroup\":\"Ethiopia\",\"marker\":{\"color\":\"#00cc96\",\"size\":[2490.944],\"sizemode\":\"area\",\"sizeref\":10.434124096333333,\"symbol\":\"circle\"},\"mode\":\"markers\",\"name\":\"Ethiopia\",\"orientation\":\"v\",\"showlegend\":true,\"x\":[2004],\"xaxis\":\"x\",\"y\":[2],\"yaxis\":\"y\",\"type\":\"scatter\"},{\"hovertemplate\":\"\\u003cb\\u003e%{hovertext}\\u003c\\u002fb\\u003e\\u003cbr\\u003e\\u003cbr\\u003eexports=Honduras\\u003cbr\\u003eYear=%{x}\\u003cbr\\u003eCountryIndex=%{y}\\u003cbr\\u003eExportVolume=%{marker.size}\\u003cextra\\u003e\\u003c\\u002fextra\\u003e\",\"hovertext\":[\"Honduras\"],\"legendgroup\":\"Honduras\",\"marker\":{\"color\":\"#ab63fa\",\"size\":[2779.189],\"sizemode\":\"area\",\"sizeref\":10.434124096333333,\"symbol\":\"circle\"},\"mode\":\"markers\",\"name\":\"Honduras\",\"orientation\":\"v\",\"showlegend\":true,\"x\":[2004],\"xaxis\":\"x\",\"y\":[3],\"yaxis\":\"y\",\"type\":\"scatter\"},{\"hovertemplate\":\"\\u003cb\\u003e%{hovertext}\\u003c\\u002fb\\u003e\\u003cbr\\u003e\\u003cbr\\u003eexports=Indonesia\\u003cbr\\u003eYear=%{x}\\u003cbr\\u003eCountryIndex=%{y}\\u003cbr\\u003eExportVolume=%{marker.size}\\u003cextra\\u003e\\u003c\\u002fextra\\u003e\",\"hovertext\":[\"Indonesia\"],\"legendgroup\":\"Indonesia\",\"marker\":{\"color\":\"#FFA15A\",\"size\":[5455.5989996],\"sizemode\":\"area\",\"sizeref\":10.434124096333333,\"symbol\":\"circle\"},\"mode\":\"markers\",\"name\":\"Indonesia\",\"orientation\":\"v\",\"showlegend\":true,\"x\":[2004],\"xaxis\":\"x\",\"y\":[4],\"yaxis\":\"y\",\"type\":\"scatter\"}],\"name\":\"2004\"},{\"data\":[{\"hovertemplate\":\"\\u003cb\\u003e%{hovertext}\\u003c\\u002fb\\u003e\\u003cbr\\u003e\\u003cbr\\u003eexports=Brazil\\u003cbr\\u003eYear=%{x}\\u003cbr\\u003eCountryIndex=%{y}\\u003cbr\\u003eExportVolume=%{marker.size}\\u003cextra\\u003e\\u003c\\u002fextra\\u003e\",\"hovertext\":[\"Brazil\"],\"legendgroup\":\"Brazil\",\"marker\":{\"color\":\"#636efa\",\"size\":[26198.0554467],\"sizemode\":\"area\",\"sizeref\":10.434124096333333,\"symbol\":\"circle\"},\"mode\":\"markers\",\"name\":\"Brazil\",\"orientation\":\"v\",\"showlegend\":true,\"x\":[2005],\"xaxis\":\"x\",\"y\":[0],\"yaxis\":\"y\",\"type\":\"scatter\"},{\"hovertemplate\":\"\\u003cb\\u003e%{hovertext}\\u003c\\u002fb\\u003e\\u003cbr\\u003e\\u003cbr\\u003eexports=Colombia\\u003cbr\\u003eYear=%{x}\\u003cbr\\u003eCountryIndex=%{y}\\u003cbr\\u003eExportVolume=%{marker.size}\\u003cextra\\u003e\\u003c\\u002fextra\\u003e\",\"hovertext\":[\"Colombia\"],\"legendgroup\":\"Colombia\",\"marker\":{\"color\":\"#EF553B\",\"size\":[10871.2469708],\"sizemode\":\"area\",\"sizeref\":10.434124096333333,\"symbol\":\"circle\"},\"mode\":\"markers\",\"name\":\"Colombia\",\"orientation\":\"v\",\"showlegend\":true,\"x\":[2005],\"xaxis\":\"x\",\"y\":[1],\"yaxis\":\"y\",\"type\":\"scatter\"},{\"hovertemplate\":\"\\u003cb\\u003e%{hovertext}\\u003c\\u002fb\\u003e\\u003cbr\\u003e\\u003cbr\\u003eexports=Ethiopia\\u003cbr\\u003eYear=%{x}\\u003cbr\\u003eCountryIndex=%{y}\\u003cbr\\u003eExportVolume=%{marker.size}\\u003cextra\\u003e\\u003c\\u002fextra\\u003e\",\"hovertext\":[\"Ethiopia\"],\"legendgroup\":\"Ethiopia\",\"marker\":{\"color\":\"#00cc96\",\"size\":[2435.069],\"sizemode\":\"area\",\"sizeref\":10.434124096333333,\"symbol\":\"circle\"},\"mode\":\"markers\",\"name\":\"Ethiopia\",\"orientation\":\"v\",\"showlegend\":true,\"x\":[2005],\"xaxis\":\"x\",\"y\":[2],\"yaxis\":\"y\",\"type\":\"scatter\"},{\"hovertemplate\":\"\\u003cb\\u003e%{hovertext}\\u003c\\u002fb\\u003e\\u003cbr\\u003e\\u003cbr\\u003eexports=Honduras\\u003cbr\\u003eYear=%{x}\\u003cbr\\u003eCountryIndex=%{y}\\u003cbr\\u003eExportVolume=%{marker.size}\\u003cextra\\u003e\\u003c\\u002fextra\\u003e\",\"hovertext\":[\"Honduras\"],\"legendgroup\":\"Honduras\",\"marker\":{\"color\":\"#ab63fa\",\"size\":[2391.90535],\"sizemode\":\"area\",\"sizeref\":10.434124096333333,\"symbol\":\"circle\"},\"mode\":\"markers\",\"name\":\"Honduras\",\"orientation\":\"v\",\"showlegend\":true,\"x\":[2005],\"xaxis\":\"x\",\"y\":[3],\"yaxis\":\"y\",\"type\":\"scatter\"},{\"hovertemplate\":\"\\u003cb\\u003e%{hovertext}\\u003c\\u002fb\\u003e\\u003cbr\\u003e\\u003cbr\\u003eexports=Indonesia\\u003cbr\\u003eYear=%{x}\\u003cbr\\u003eCountryIndex=%{y}\\u003cbr\\u003eExportVolume=%{marker.size}\\u003cextra\\u003e\\u003c\\u002fextra\\u003e\",\"hovertext\":[\"Indonesia\"],\"legendgroup\":\"Indonesia\",\"marker\":{\"color\":\"#FFA15A\",\"size\":[6744.09393],\"sizemode\":\"area\",\"sizeref\":10.434124096333333,\"symbol\":\"circle\"},\"mode\":\"markers\",\"name\":\"Indonesia\",\"orientation\":\"v\",\"showlegend\":true,\"x\":[2005],\"xaxis\":\"x\",\"y\":[4],\"yaxis\":\"y\",\"type\":\"scatter\"}],\"name\":\"2005\"},{\"data\":[{\"hovertemplate\":\"\\u003cb\\u003e%{hovertext}\\u003c\\u002fb\\u003e\\u003cbr\\u003e\\u003cbr\\u003eexports=Brazil\\u003cbr\\u003eYear=%{x}\\u003cbr\\u003eCountryIndex=%{y}\\u003cbr\\u003eExportVolume=%{marker.size}\\u003cextra\\u003e\\u003c\\u002fextra\\u003e\",\"hovertext\":[\"Brazil\"],\"legendgroup\":\"Brazil\",\"marker\":{\"color\":\"#636efa\",\"size\":[27368.9019587],\"sizemode\":\"area\",\"sizeref\":10.434124096333333,\"symbol\":\"circle\"},\"mode\":\"markers\",\"name\":\"Brazil\",\"orientation\":\"v\",\"showlegend\":true,\"x\":[2006],\"xaxis\":\"x\",\"y\":[0],\"yaxis\":\"y\",\"type\":\"scatter\"},{\"hovertemplate\":\"\\u003cb\\u003e%{hovertext}\\u003c\\u002fb\\u003e\\u003cbr\\u003e\\u003cbr\\u003eexports=Colombia\\u003cbr\\u003eYear=%{x}\\u003cbr\\u003eCountryIndex=%{y}\\u003cbr\\u003eExportVolume=%{marker.size}\\u003cextra\\u003e\\u003c\\u002fextra\\u003e\",\"hovertext\":[\"Colombia\"],\"legendgroup\":\"Colombia\",\"marker\":{\"color\":\"#EF553B\",\"size\":[10944.8534601],\"sizemode\":\"area\",\"sizeref\":10.434124096333333,\"symbol\":\"circle\"},\"mode\":\"markers\",\"name\":\"Colombia\",\"orientation\":\"v\",\"showlegend\":true,\"x\":[2006],\"xaxis\":\"x\",\"y\":[1],\"yaxis\":\"y\",\"type\":\"scatter\"},{\"hovertemplate\":\"\\u003cb\\u003e%{hovertext}\\u003c\\u002fb\\u003e\\u003cbr\\u003e\\u003cbr\\u003eexports=Ethiopia\\u003cbr\\u003eYear=%{x}\\u003cbr\\u003eCountryIndex=%{y}\\u003cbr\\u003eExportVolume=%{marker.size}\\u003cextra\\u003e\\u003c\\u002fextra\\u003e\",\"hovertext\":[\"Ethiopia\"],\"legendgroup\":\"Ethiopia\",\"marker\":{\"color\":\"#00cc96\",\"size\":[2935.56],\"sizemode\":\"area\",\"sizeref\":10.434124096333333,\"symbol\":\"circle\"},\"mode\":\"markers\",\"name\":\"Ethiopia\",\"orientation\":\"v\",\"showlegend\":true,\"x\":[2006],\"xaxis\":\"x\",\"y\":[2],\"yaxis\":\"y\",\"type\":\"scatter\"},{\"hovertemplate\":\"\\u003cb\\u003e%{hovertext}\\u003c\\u002fb\\u003e\\u003cbr\\u003e\\u003cbr\\u003eexports=Honduras\\u003cbr\\u003eYear=%{x}\\u003cbr\\u003eCountryIndex=%{y}\\u003cbr\\u003eExportVolume=%{marker.size}\\u003cextra\\u003e\\u003c\\u002fextra\\u003e\",\"hovertext\":[\"Honduras\"],\"legendgroup\":\"Honduras\",\"marker\":{\"color\":\"#ab63fa\",\"size\":[2898.4144369],\"sizemode\":\"area\",\"sizeref\":10.434124096333333,\"symbol\":\"circle\"},\"mode\":\"markers\",\"name\":\"Honduras\",\"orientation\":\"v\",\"showlegend\":true,\"x\":[2006],\"xaxis\":\"x\",\"y\":[3],\"yaxis\":\"y\",\"type\":\"scatter\"},{\"hovertemplate\":\"\\u003cb\\u003e%{hovertext}\\u003c\\u002fb\\u003e\\u003cbr\\u003e\\u003cbr\\u003eexports=Indonesia\\u003cbr\\u003eYear=%{x}\\u003cbr\\u003eCountryIndex=%{y}\\u003cbr\\u003eExportVolume=%{marker.size}\\u003cextra\\u003e\\u003c\\u002fextra\\u003e\",\"hovertext\":[\"Indonesia\"],\"legendgroup\":\"Indonesia\",\"marker\":{\"color\":\"#FFA15A\",\"size\":[5280.4349134],\"sizemode\":\"area\",\"sizeref\":10.434124096333333,\"symbol\":\"circle\"},\"mode\":\"markers\",\"name\":\"Indonesia\",\"orientation\":\"v\",\"showlegend\":true,\"x\":[2006],\"xaxis\":\"x\",\"y\":[4],\"yaxis\":\"y\",\"type\":\"scatter\"}],\"name\":\"2006\"},{\"data\":[{\"hovertemplate\":\"\\u003cb\\u003e%{hovertext}\\u003c\\u002fb\\u003e\\u003cbr\\u003e\\u003cbr\\u003eexports=Brazil\\u003cbr\\u003eYear=%{x}\\u003cbr\\u003eCountryIndex=%{y}\\u003cbr\\u003eExportVolume=%{marker.size}\\u003cextra\\u003e\\u003c\\u002fextra\\u003e\",\"hovertext\":[\"Brazil\"],\"legendgroup\":\"Brazil\",\"marker\":{\"color\":\"#636efa\",\"size\":[28183.5739472],\"sizemode\":\"area\",\"sizeref\":10.434124096333333,\"symbol\":\"circle\"},\"mode\":\"markers\",\"name\":\"Brazil\",\"orientation\":\"v\",\"showlegend\":true,\"x\":[2007],\"xaxis\":\"x\",\"y\":[0],\"yaxis\":\"y\",\"type\":\"scatter\"},{\"hovertemplate\":\"\\u003cb\\u003e%{hovertext}\\u003c\\u002fb\\u003e\\u003cbr\\u003e\\u003cbr\\u003eexports=Colombia\\u003cbr\\u003eYear=%{x}\\u003cbr\\u003eCountryIndex=%{y}\\u003cbr\\u003eExportVolume=%{marker.size}\\u003cextra\\u003e\\u003c\\u002fextra\\u003e\",\"hovertext\":[\"Colombia\"],\"legendgroup\":\"Colombia\",\"marker\":{\"color\":\"#EF553B\",\"size\":[11300.4206901],\"sizemode\":\"area\",\"sizeref\":10.434124096333333,\"symbol\":\"circle\"},\"mode\":\"markers\",\"name\":\"Colombia\",\"orientation\":\"v\",\"showlegend\":true,\"x\":[2007],\"xaxis\":\"x\",\"y\":[1],\"yaxis\":\"y\",\"type\":\"scatter\"},{\"hovertemplate\":\"\\u003cb\\u003e%{hovertext}\\u003c\\u002fb\\u003e\\u003cbr\\u003e\\u003cbr\\u003eexports=Ethiopia\\u003cbr\\u003eYear=%{x}\\u003cbr\\u003eCountryIndex=%{y}\\u003cbr\\u003eExportVolume=%{marker.size}\\u003cextra\\u003e\\u003c\\u002fextra\\u003e\",\"hovertext\":[\"Ethiopia\"],\"legendgroup\":\"Ethiopia\",\"marker\":{\"color\":\"#00cc96\",\"size\":[2604.008],\"sizemode\":\"area\",\"sizeref\":10.434124096333333,\"symbol\":\"circle\"},\"mode\":\"markers\",\"name\":\"Ethiopia\",\"orientation\":\"v\",\"showlegend\":true,\"x\":[2007],\"xaxis\":\"x\",\"y\":[2],\"yaxis\":\"y\",\"type\":\"scatter\"},{\"hovertemplate\":\"\\u003cb\\u003e%{hovertext}\\u003c\\u002fb\\u003e\\u003cbr\\u003e\\u003cbr\\u003eexports=Honduras\\u003cbr\\u003eYear=%{x}\\u003cbr\\u003eCountryIndex=%{y}\\u003cbr\\u003eExportVolume=%{marker.size}\\u003cextra\\u003e\\u003c\\u002fextra\\u003e\",\"hovertext\":[\"Honduras\"],\"legendgroup\":\"Honduras\",\"marker\":{\"color\":\"#ab63fa\",\"size\":[3312.0085632],\"sizemode\":\"area\",\"sizeref\":10.434124096333333,\"symbol\":\"circle\"},\"mode\":\"markers\",\"name\":\"Honduras\",\"orientation\":\"v\",\"showlegend\":true,\"x\":[2007],\"xaxis\":\"x\",\"y\":[3],\"yaxis\":\"y\",\"type\":\"scatter\"},{\"hovertemplate\":\"\\u003cb\\u003e%{hovertext}\\u003c\\u002fb\\u003e\\u003cbr\\u003e\\u003cbr\\u003eexports=Indonesia\\u003cbr\\u003eYear=%{x}\\u003cbr\\u003eCountryIndex=%{y}\\u003cbr\\u003eExportVolume=%{marker.size}\\u003cextra\\u003e\\u003c\\u002fextra\\u003e\",\"hovertext\":[\"Indonesia\"],\"legendgroup\":\"Indonesia\",\"marker\":{\"color\":\"#FFA15A\",\"size\":[4149.4101006],\"sizemode\":\"area\",\"sizeref\":10.434124096333333,\"symbol\":\"circle\"},\"mode\":\"markers\",\"name\":\"Indonesia\",\"orientation\":\"v\",\"showlegend\":true,\"x\":[2007],\"xaxis\":\"x\",\"y\":[4],\"yaxis\":\"y\",\"type\":\"scatter\"}],\"name\":\"2007\"},{\"data\":[{\"hovertemplate\":\"\\u003cb\\u003e%{hovertext}\\u003c\\u002fb\\u003e\\u003cbr\\u003e\\u003cbr\\u003eexports=Brazil\\u003cbr\\u003eYear=%{x}\\u003cbr\\u003eCountryIndex=%{y}\\u003cbr\\u003eExportVolume=%{marker.size}\\u003cextra\\u003e\\u003c\\u002fextra\\u003e\",\"hovertext\":[\"Brazil\"],\"legendgroup\":\"Brazil\",\"marker\":{\"color\":\"#636efa\",\"size\":[29510.2956935],\"sizemode\":\"area\",\"sizeref\":10.434124096333333,\"symbol\":\"circle\"},\"mode\":\"markers\",\"name\":\"Brazil\",\"orientation\":\"v\",\"showlegend\":true,\"x\":[2008],\"xaxis\":\"x\",\"y\":[0],\"yaxis\":\"y\",\"type\":\"scatter\"},{\"hovertemplate\":\"\\u003cb\\u003e%{hovertext}\\u003c\\u002fb\\u003e\\u003cbr\\u003e\\u003cbr\\u003eexports=Colombia\\u003cbr\\u003eYear=%{x}\\u003cbr\\u003eCountryIndex=%{y}\\u003cbr\\u003eExportVolume=%{marker.size}\\u003cextra\\u003e\\u003c\\u002fextra\\u003e\",\"hovertext\":[\"Colombia\"],\"legendgroup\":\"Colombia\",\"marker\":{\"color\":\"#EF553B\",\"size\":[11085.1702037],\"sizemode\":\"area\",\"sizeref\":10.434124096333333,\"symbol\":\"circle\"},\"mode\":\"markers\",\"name\":\"Colombia\",\"orientation\":\"v\",\"showlegend\":true,\"x\":[2008],\"xaxis\":\"x\",\"y\":[1],\"yaxis\":\"y\",\"type\":\"scatter\"},{\"hovertemplate\":\"\\u003cb\\u003e%{hovertext}\\u003c\\u002fb\\u003e\\u003cbr\\u003e\\u003cbr\\u003eexports=Ethiopia\\u003cbr\\u003eYear=%{x}\\u003cbr\\u003eCountryIndex=%{y}\\u003cbr\\u003eExportVolume=%{marker.size}\\u003cextra\\u003e\\u003c\\u002fextra\\u003e\",\"hovertext\":[\"Ethiopia\"],\"legendgroup\":\"Ethiopia\",\"marker\":{\"color\":\"#00cc96\",\"size\":[2851.92097],\"sizemode\":\"area\",\"sizeref\":10.434124096333333,\"symbol\":\"circle\"},\"mode\":\"markers\",\"name\":\"Ethiopia\",\"orientation\":\"v\",\"showlegend\":true,\"x\":[2008],\"xaxis\":\"x\",\"y\":[2],\"yaxis\":\"y\",\"type\":\"scatter\"},{\"hovertemplate\":\"\\u003cb\\u003e%{hovertext}\\u003c\\u002fb\\u003e\\u003cbr\\u003e\\u003cbr\\u003eexports=Honduras\\u003cbr\\u003eYear=%{x}\\u003cbr\\u003eCountryIndex=%{y}\\u003cbr\\u003eExportVolume=%{marker.size}\\u003cextra\\u003e\\u003c\\u002fextra\\u003e\",\"hovertext\":[\"Honduras\"],\"legendgroup\":\"Honduras\",\"marker\":{\"color\":\"#ab63fa\",\"size\":[3259.4549512],\"sizemode\":\"area\",\"sizeref\":10.434124096333333,\"symbol\":\"circle\"},\"mode\":\"markers\",\"name\":\"Honduras\",\"orientation\":\"v\",\"showlegend\":true,\"x\":[2008],\"xaxis\":\"x\",\"y\":[3],\"yaxis\":\"y\",\"type\":\"scatter\"},{\"hovertemplate\":\"\\u003cb\\u003e%{hovertext}\\u003c\\u002fb\\u003e\\u003cbr\\u003e\\u003cbr\\u003eexports=Indonesia\\u003cbr\\u003eYear=%{x}\\u003cbr\\u003eCountryIndex=%{y}\\u003cbr\\u003eExportVolume=%{marker.size}\\u003cextra\\u003e\\u003c\\u002fextra\\u003e\",\"hovertext\":[\"Indonesia\"],\"legendgroup\":\"Indonesia\",\"marker\":{\"color\":\"#FFA15A\",\"size\":[5740.6730453],\"sizemode\":\"area\",\"sizeref\":10.434124096333333,\"symbol\":\"circle\"},\"mode\":\"markers\",\"name\":\"Indonesia\",\"orientation\":\"v\",\"showlegend\":true,\"x\":[2008],\"xaxis\":\"x\",\"y\":[4],\"yaxis\":\"y\",\"type\":\"scatter\"}],\"name\":\"2008\"},{\"data\":[{\"hovertemplate\":\"\\u003cb\\u003e%{hovertext}\\u003c\\u002fb\\u003e\\u003cbr\\u003e\\u003cbr\\u003eexports=Brazil\\u003cbr\\u003eYear=%{x}\\u003cbr\\u003eCountryIndex=%{y}\\u003cbr\\u003eExportVolume=%{marker.size}\\u003cextra\\u003e\\u003c\\u002fextra\\u003e\",\"hovertext\":[\"Brazil\"],\"legendgroup\":\"Brazil\",\"marker\":{\"color\":\"#636efa\",\"size\":[30377.9816361],\"sizemode\":\"area\",\"sizeref\":10.434124096333333,\"symbol\":\"circle\"},\"mode\":\"markers\",\"name\":\"Brazil\",\"orientation\":\"v\",\"showlegend\":true,\"x\":[2009],\"xaxis\":\"x\",\"y\":[0],\"yaxis\":\"y\",\"type\":\"scatter\"},{\"hovertemplate\":\"\\u003cb\\u003e%{hovertext}\\u003c\\u002fb\\u003e\\u003cbr\\u003e\\u003cbr\\u003eexports=Colombia\\u003cbr\\u003eYear=%{x}\\u003cbr\\u003eCountryIndex=%{y}\\u003cbr\\u003eExportVolume=%{marker.size}\\u003cextra\\u003e\\u003c\\u002fextra\\u003e\",\"hovertext\":[\"Colombia\"],\"legendgroup\":\"Colombia\",\"marker\":{\"color\":\"#EF553B\",\"size\":[7893.9267953],\"sizemode\":\"area\",\"sizeref\":10.434124096333333,\"symbol\":\"circle\"},\"mode\":\"markers\",\"name\":\"Colombia\",\"orientation\":\"v\",\"showlegend\":true,\"x\":[2009],\"xaxis\":\"x\",\"y\":[1],\"yaxis\":\"y\",\"type\":\"scatter\"},{\"hovertemplate\":\"\\u003cb\\u003e%{hovertext}\\u003c\\u002fb\\u003e\\u003cbr\\u003e\\u003cbr\\u003eexports=Ethiopia\\u003cbr\\u003eYear=%{x}\\u003cbr\\u003eCountryIndex=%{y}\\u003cbr\\u003eExportVolume=%{marker.size}\\u003cextra\\u003e\\u003c\\u002fextra\\u003e\",\"hovertext\":[\"Ethiopia\"],\"legendgroup\":\"Ethiopia\",\"marker\":{\"color\":\"#00cc96\",\"size\":[1851.4974532],\"sizemode\":\"area\",\"sizeref\":10.434124096333333,\"symbol\":\"circle\"},\"mode\":\"markers\",\"name\":\"Ethiopia\",\"orientation\":\"v\",\"showlegend\":true,\"x\":[2009],\"xaxis\":\"x\",\"y\":[2],\"yaxis\":\"y\",\"type\":\"scatter\"},{\"hovertemplate\":\"\\u003cb\\u003e%{hovertext}\\u003c\\u002fb\\u003e\\u003cbr\\u003e\\u003cbr\\u003eexports=Honduras\\u003cbr\\u003eYear=%{x}\\u003cbr\\u003eCountryIndex=%{y}\\u003cbr\\u003eExportVolume=%{marker.size}\\u003cextra\\u003e\\u003c\\u002fextra\\u003e\",\"hovertext\":[\"Honduras\"],\"legendgroup\":\"Honduras\",\"marker\":{\"color\":\"#ab63fa\",\"size\":[3084.1878284],\"sizemode\":\"area\",\"sizeref\":10.434124096333333,\"symbol\":\"circle\"},\"mode\":\"markers\",\"name\":\"Honduras\",\"orientation\":\"v\",\"showlegend\":true,\"x\":[2009],\"xaxis\":\"x\",\"y\":[3],\"yaxis\":\"y\",\"type\":\"scatter\"},{\"hovertemplate\":\"\\u003cb\\u003e%{hovertext}\\u003c\\u002fb\\u003e\\u003cbr\\u003e\\u003cbr\\u003eexports=Indonesia\\u003cbr\\u003eYear=%{x}\\u003cbr\\u003eCountryIndex=%{y}\\u003cbr\\u003eExportVolume=%{marker.size}\\u003cextra\\u003e\\u003c\\u002fextra\\u003e\",\"hovertext\":[\"Indonesia\"],\"legendgroup\":\"Indonesia\",\"marker\":{\"color\":\"#FFA15A\",\"size\":[7907.2735156],\"sizemode\":\"area\",\"sizeref\":10.434124096333333,\"symbol\":\"circle\"},\"mode\":\"markers\",\"name\":\"Indonesia\",\"orientation\":\"v\",\"showlegend\":true,\"x\":[2009],\"xaxis\":\"x\",\"y\":[4],\"yaxis\":\"y\",\"type\":\"scatter\"}],\"name\":\"2009\"},{\"data\":[{\"hovertemplate\":\"\\u003cb\\u003e%{hovertext}\\u003c\\u002fb\\u003e\\u003cbr\\u003e\\u003cbr\\u003eexports=Brazil\\u003cbr\\u003eYear=%{x}\\u003cbr\\u003eCountryIndex=%{y}\\u003cbr\\u003eExportVolume=%{marker.size}\\u003cextra\\u003e\\u003c\\u002fextra\\u003e\",\"hovertext\":[\"Brazil\"],\"legendgroup\":\"Brazil\",\"marker\":{\"color\":\"#636efa\",\"size\":[33166.6415897],\"sizemode\":\"area\",\"sizeref\":10.434124096333333,\"symbol\":\"circle\"},\"mode\":\"markers\",\"name\":\"Brazil\",\"orientation\":\"v\",\"showlegend\":true,\"x\":[2010],\"xaxis\":\"x\",\"y\":[0],\"yaxis\":\"y\",\"type\":\"scatter\"},{\"hovertemplate\":\"\\u003cb\\u003e%{hovertext}\\u003c\\u002fb\\u003e\\u003cbr\\u003e\\u003cbr\\u003eexports=Colombia\\u003cbr\\u003eYear=%{x}\\u003cbr\\u003eCountryIndex=%{y}\\u003cbr\\u003eExportVolume=%{marker.size}\\u003cextra\\u003e\\u003c\\u002fextra\\u003e\",\"hovertext\":[\"Colombia\"],\"legendgroup\":\"Colombia\",\"marker\":{\"color\":\"#EF553B\",\"size\":[7821.6345037],\"sizemode\":\"area\",\"sizeref\":10.434124096333333,\"symbol\":\"circle\"},\"mode\":\"markers\",\"name\":\"Colombia\",\"orientation\":\"v\",\"showlegend\":true,\"x\":[2010],\"xaxis\":\"x\",\"y\":[1],\"yaxis\":\"y\",\"type\":\"scatter\"},{\"hovertemplate\":\"\\u003cb\\u003e%{hovertext}\\u003c\\u002fb\\u003e\\u003cbr\\u003e\\u003cbr\\u003eexports=Ethiopia\\u003cbr\\u003eYear=%{x}\\u003cbr\\u003eCountryIndex=%{y}\\u003cbr\\u003eExportVolume=%{marker.size}\\u003cextra\\u003e\\u003c\\u002fextra\\u003e\",\"hovertext\":[\"Ethiopia\"],\"legendgroup\":\"Ethiopia\",\"marker\":{\"color\":\"#00cc96\",\"size\":[3324.1025511],\"sizemode\":\"area\",\"sizeref\":10.434124096333333,\"symbol\":\"circle\"},\"mode\":\"markers\",\"name\":\"Ethiopia\",\"orientation\":\"v\",\"showlegend\":true,\"x\":[2010],\"xaxis\":\"x\",\"y\":[2],\"yaxis\":\"y\",\"type\":\"scatter\"},{\"hovertemplate\":\"\\u003cb\\u003e%{hovertext}\\u003c\\u002fb\\u003e\\u003cbr\\u003e\\u003cbr\\u003eexports=Honduras\\u003cbr\\u003eYear=%{x}\\u003cbr\\u003eCountryIndex=%{y}\\u003cbr\\u003eExportVolume=%{marker.size}\\u003cextra\\u003e\\u003c\\u002fextra\\u003e\",\"hovertext\":[\"Honduras\"],\"legendgroup\":\"Honduras\",\"marker\":{\"color\":\"#ab63fa\",\"size\":[3349.3976392],\"sizemode\":\"area\",\"sizeref\":10.434124096333333,\"symbol\":\"circle\"},\"mode\":\"markers\",\"name\":\"Honduras\",\"orientation\":\"v\",\"showlegend\":true,\"x\":[2010],\"xaxis\":\"x\",\"y\":[3],\"yaxis\":\"y\",\"type\":\"scatter\"},{\"hovertemplate\":\"\\u003cb\\u003e%{hovertext}\\u003c\\u002fb\\u003e\\u003cbr\\u003e\\u003cbr\\u003eexports=Indonesia\\u003cbr\\u003eYear=%{x}\\u003cbr\\u003eCountryIndex=%{y}\\u003cbr\\u003eExportVolume=%{marker.size}\\u003cextra\\u003e\\u003c\\u002fextra\\u003e\",\"hovertext\":[\"Indonesia\"],\"legendgroup\":\"Indonesia\",\"marker\":{\"color\":\"#FFA15A\",\"size\":[5489.1475563],\"sizemode\":\"area\",\"sizeref\":10.434124096333333,\"symbol\":\"circle\"},\"mode\":\"markers\",\"name\":\"Indonesia\",\"orientation\":\"v\",\"showlegend\":true,\"x\":[2010],\"xaxis\":\"x\",\"y\":[4],\"yaxis\":\"y\",\"type\":\"scatter\"}],\"name\":\"2010\"},{\"data\":[{\"hovertemplate\":\"\\u003cb\\u003e%{hovertext}\\u003c\\u002fb\\u003e\\u003cbr\\u003e\\u003cbr\\u003eexports=Brazil\\u003cbr\\u003eYear=%{x}\\u003cbr\\u003eCountryIndex=%{y}\\u003cbr\\u003eExportVolume=%{marker.size}\\u003cextra\\u003e\\u003c\\u002fextra\\u003e\",\"hovertext\":[\"Brazil\"],\"legendgroup\":\"Brazil\",\"marker\":{\"color\":\"#636efa\",\"size\":[33806.0093278],\"sizemode\":\"area\",\"sizeref\":10.434124096333333,\"symbol\":\"circle\"},\"mode\":\"markers\",\"name\":\"Brazil\",\"orientation\":\"v\",\"showlegend\":true,\"x\":[2011],\"xaxis\":\"x\",\"y\":[0],\"yaxis\":\"y\",\"type\":\"scatter\"},{\"hovertemplate\":\"\\u003cb\\u003e%{hovertext}\\u003c\\u002fb\\u003e\\u003cbr\\u003e\\u003cbr\\u003eexports=Colombia\\u003cbr\\u003eYear=%{x}\\u003cbr\\u003eCountryIndex=%{y}\\u003cbr\\u003eExportVolume=%{marker.size}\\u003cextra\\u003e\\u003c\\u002fextra\\u003e\",\"hovertext\":[\"Colombia\"],\"legendgroup\":\"Colombia\",\"marker\":{\"color\":\"#EF553B\",\"size\":[7733.625254],\"sizemode\":\"area\",\"sizeref\":10.434124096333333,\"symbol\":\"circle\"},\"mode\":\"markers\",\"name\":\"Colombia\",\"orientation\":\"v\",\"showlegend\":true,\"x\":[2011],\"xaxis\":\"x\",\"y\":[1],\"yaxis\":\"y\",\"type\":\"scatter\"},{\"hovertemplate\":\"\\u003cb\\u003e%{hovertext}\\u003c\\u002fb\\u003e\\u003cbr\\u003e\\u003cbr\\u003eexports=Ethiopia\\u003cbr\\u003eYear=%{x}\\u003cbr\\u003eCountryIndex=%{y}\\u003cbr\\u003eExportVolume=%{marker.size}\\u003cextra\\u003e\\u003c\\u002fextra\\u003e\",\"hovertext\":[\"Ethiopia\"],\"legendgroup\":\"Ethiopia\",\"marker\":{\"color\":\"#00cc96\",\"size\":[2675.4190125],\"sizemode\":\"area\",\"sizeref\":10.434124096333333,\"symbol\":\"circle\"},\"mode\":\"markers\",\"name\":\"Ethiopia\",\"orientation\":\"v\",\"showlegend\":true,\"x\":[2011],\"xaxis\":\"x\",\"y\":[2],\"yaxis\":\"y\",\"type\":\"scatter\"},{\"hovertemplate\":\"\\u003cb\\u003e%{hovertext}\\u003c\\u002fb\\u003e\\u003cbr\\u003e\\u003cbr\\u003eexports=Honduras\\u003cbr\\u003eYear=%{x}\\u003cbr\\u003eCountryIndex=%{y}\\u003cbr\\u003eExportVolume=%{marker.size}\\u003cextra\\u003e\\u003c\\u002fextra\\u003e\",\"hovertext\":[\"Honduras\"],\"legendgroup\":\"Honduras\",\"marker\":{\"color\":\"#ab63fa\",\"size\":[3947.1411511],\"sizemode\":\"area\",\"sizeref\":10.434124096333333,\"symbol\":\"circle\"},\"mode\":\"markers\",\"name\":\"Honduras\",\"orientation\":\"v\",\"showlegend\":true,\"x\":[2011],\"xaxis\":\"x\",\"y\":[3],\"yaxis\":\"y\",\"type\":\"scatter\"},{\"hovertemplate\":\"\\u003cb\\u003e%{hovertext}\\u003c\\u002fb\\u003e\\u003cbr\\u003e\\u003cbr\\u003eexports=Indonesia\\u003cbr\\u003eYear=%{x}\\u003cbr\\u003eCountryIndex=%{y}\\u003cbr\\u003eExportVolume=%{marker.size}\\u003cextra\\u003e\\u003c\\u002fextra\\u003e\",\"hovertext\":[\"Indonesia\"],\"legendgroup\":\"Indonesia\",\"marker\":{\"color\":\"#FFA15A\",\"size\":[3919.891883],\"sizemode\":\"area\",\"sizeref\":10.434124096333333,\"symbol\":\"circle\"},\"mode\":\"markers\",\"name\":\"Indonesia\",\"orientation\":\"v\",\"showlegend\":true,\"x\":[2011],\"xaxis\":\"x\",\"y\":[4],\"yaxis\":\"y\",\"type\":\"scatter\"}],\"name\":\"2011\"},{\"data\":[{\"hovertemplate\":\"\\u003cb\\u003e%{hovertext}\\u003c\\u002fb\\u003e\\u003cbr\\u003e\\u003cbr\\u003eexports=Brazil\\u003cbr\\u003eYear=%{x}\\u003cbr\\u003eCountryIndex=%{y}\\u003cbr\\u003eExportVolume=%{marker.size}\\u003cextra\\u003e\\u003c\\u002fextra\\u003e\",\"hovertext\":[\"Brazil\"],\"legendgroup\":\"Brazil\",\"marker\":{\"color\":\"#636efa\",\"size\":[28549.4258909],\"sizemode\":\"area\",\"sizeref\":10.434124096333333,\"symbol\":\"circle\"},\"mode\":\"markers\",\"name\":\"Brazil\",\"orientation\":\"v\",\"showlegend\":true,\"x\":[2012],\"xaxis\":\"x\",\"y\":[0],\"yaxis\":\"y\",\"type\":\"scatter\"},{\"hovertemplate\":\"\\u003cb\\u003e%{hovertext}\\u003c\\u002fb\\u003e\\u003cbr\\u003e\\u003cbr\\u003eexports=Colombia\\u003cbr\\u003eYear=%{x}\\u003cbr\\u003eCountryIndex=%{y}\\u003cbr\\u003eExportVolume=%{marker.size}\\u003cextra\\u003e\\u003c\\u002fextra\\u003e\",\"hovertext\":[\"Colombia\"],\"legendgroup\":\"Colombia\",\"marker\":{\"color\":\"#EF553B\",\"size\":[7170.203291],\"sizemode\":\"area\",\"sizeref\":10.434124096333333,\"symbol\":\"circle\"},\"mode\":\"markers\",\"name\":\"Colombia\",\"orientation\":\"v\",\"showlegend\":true,\"x\":[2012],\"xaxis\":\"x\",\"y\":[1],\"yaxis\":\"y\",\"type\":\"scatter\"},{\"hovertemplate\":\"\\u003cb\\u003e%{hovertext}\\u003c\\u002fb\\u003e\\u003cbr\\u003e\\u003cbr\\u003eexports=Ethiopia\\u003cbr\\u003eYear=%{x}\\u003cbr\\u003eCountryIndex=%{y}\\u003cbr\\u003eExportVolume=%{marker.size}\\u003cextra\\u003e\\u003c\\u002fextra\\u003e\",\"hovertext\":[\"Ethiopia\"],\"legendgroup\":\"Ethiopia\",\"marker\":{\"color\":\"#00cc96\",\"size\":[3202.5924066],\"sizemode\":\"area\",\"sizeref\":10.434124096333333,\"symbol\":\"circle\"},\"mode\":\"markers\",\"name\":\"Ethiopia\",\"orientation\":\"v\",\"showlegend\":true,\"x\":[2012],\"xaxis\":\"x\",\"y\":[2],\"yaxis\":\"y\",\"type\":\"scatter\"},{\"hovertemplate\":\"\\u003cb\\u003e%{hovertext}\\u003c\\u002fb\\u003e\\u003cbr\\u003e\\u003cbr\\u003eexports=Honduras\\u003cbr\\u003eYear=%{x}\\u003cbr\\u003eCountryIndex=%{y}\\u003cbr\\u003eExportVolume=%{marker.size}\\u003cextra\\u003e\\u003c\\u002fextra\\u003e\",\"hovertext\":[\"Honduras\"],\"legendgroup\":\"Honduras\",\"marker\":{\"color\":\"#ab63fa\",\"size\":[5507.9849391],\"sizemode\":\"area\",\"sizeref\":10.434124096333333,\"symbol\":\"circle\"},\"mode\":\"markers\",\"name\":\"Honduras\",\"orientation\":\"v\",\"showlegend\":true,\"x\":[2012],\"xaxis\":\"x\",\"y\":[3],\"yaxis\":\"y\",\"type\":\"scatter\"},{\"hovertemplate\":\"\\u003cb\\u003e%{hovertext}\\u003c\\u002fb\\u003e\\u003cbr\\u003e\\u003cbr\\u003eexports=Indonesia\\u003cbr\\u003eYear=%{x}\\u003cbr\\u003eCountryIndex=%{y}\\u003cbr\\u003eExportVolume=%{marker.size}\\u003cextra\\u003e\\u003c\\u002fextra\\u003e\",\"hovertext\":[\"Indonesia\"],\"legendgroup\":\"Indonesia\",\"marker\":{\"color\":\"#FFA15A\",\"size\":[8205.7408259],\"sizemode\":\"area\",\"sizeref\":10.434124096333333,\"symbol\":\"circle\"},\"mode\":\"markers\",\"name\":\"Indonesia\",\"orientation\":\"v\",\"showlegend\":true,\"x\":[2012],\"xaxis\":\"x\",\"y\":[4],\"yaxis\":\"y\",\"type\":\"scatter\"}],\"name\":\"2012\"},{\"data\":[{\"hovertemplate\":\"\\u003cb\\u003e%{hovertext}\\u003c\\u002fb\\u003e\\u003cbr\\u003e\\u003cbr\\u003eexports=Brazil\\u003cbr\\u003eYear=%{x}\\u003cbr\\u003eCountryIndex=%{y}\\u003cbr\\u003eExportVolume=%{marker.size}\\u003cextra\\u003e\\u003c\\u002fextra\\u003e\",\"hovertext\":[\"Brazil\"],\"legendgroup\":\"Brazil\",\"marker\":{\"color\":\"#636efa\",\"size\":[31650.5629454],\"sizemode\":\"area\",\"sizeref\":10.434124096333333,\"symbol\":\"circle\"},\"mode\":\"markers\",\"name\":\"Brazil\",\"orientation\":\"v\",\"showlegend\":true,\"x\":[2013],\"xaxis\":\"x\",\"y\":[0],\"yaxis\":\"y\",\"type\":\"scatter\"},{\"hovertemplate\":\"\\u003cb\\u003e%{hovertext}\\u003c\\u002fb\\u003e\\u003cbr\\u003e\\u003cbr\\u003eexports=Colombia\\u003cbr\\u003eYear=%{x}\\u003cbr\\u003eCountryIndex=%{y}\\u003cbr\\u003eExportVolume=%{marker.size}\\u003cextra\\u003e\\u003c\\u002fextra\\u003e\",\"hovertext\":[\"Colombia\"],\"legendgroup\":\"Colombia\",\"marker\":{\"color\":\"#EF553B\",\"size\":[9669.907367],\"sizemode\":\"area\",\"sizeref\":10.434124096333333,\"symbol\":\"circle\"},\"mode\":\"markers\",\"name\":\"Colombia\",\"orientation\":\"v\",\"showlegend\":true,\"x\":[2013],\"xaxis\":\"x\",\"y\":[1],\"yaxis\":\"y\",\"type\":\"scatter\"},{\"hovertemplate\":\"\\u003cb\\u003e%{hovertext}\\u003c\\u002fb\\u003e\\u003cbr\\u003e\\u003cbr\\u003eexports=Ethiopia\\u003cbr\\u003eYear=%{x}\\u003cbr\\u003eCountryIndex=%{y}\\u003cbr\\u003eExportVolume=%{marker.size}\\u003cextra\\u003e\\u003c\\u002fextra\\u003e\",\"hovertext\":[\"Ethiopia\"],\"legendgroup\":\"Ethiopia\",\"marker\":{\"color\":\"#00cc96\",\"size\":[2870.0752483],\"sizemode\":\"area\",\"sizeref\":10.434124096333333,\"symbol\":\"circle\"},\"mode\":\"markers\",\"name\":\"Ethiopia\",\"orientation\":\"v\",\"showlegend\":true,\"x\":[2013],\"xaxis\":\"x\",\"y\":[2],\"yaxis\":\"y\",\"type\":\"scatter\"},{\"hovertemplate\":\"\\u003cb\\u003e%{hovertext}\\u003c\\u002fb\\u003e\\u003cbr\\u003e\\u003cbr\\u003eexports=Honduras\\u003cbr\\u003eYear=%{x}\\u003cbr\\u003eCountryIndex=%{y}\\u003cbr\\u003eExportVolume=%{marker.size}\\u003cextra\\u003e\\u003c\\u002fextra\\u003e\",\"hovertext\":[\"Honduras\"],\"legendgroup\":\"Honduras\",\"marker\":{\"color\":\"#ab63fa\",\"size\":[4185.1189243],\"sizemode\":\"area\",\"sizeref\":10.434124096333333,\"symbol\":\"circle\"},\"mode\":\"markers\",\"name\":\"Honduras\",\"orientation\":\"v\",\"showlegend\":true,\"x\":[2013],\"xaxis\":\"x\",\"y\":[3],\"yaxis\":\"y\",\"type\":\"scatter\"},{\"hovertemplate\":\"\\u003cb\\u003e%{hovertext}\\u003c\\u002fb\\u003e\\u003cbr\\u003e\\u003cbr\\u003eexports=Indonesia\\u003cbr\\u003eYear=%{x}\\u003cbr\\u003eCountryIndex=%{y}\\u003cbr\\u003eExportVolume=%{marker.size}\\u003cextra\\u003e\\u003c\\u002fextra\\u003e\",\"hovertext\":[\"Indonesia\"],\"legendgroup\":\"Indonesia\",\"marker\":{\"color\":\"#FFA15A\",\"size\":[9254.8073308],\"sizemode\":\"area\",\"sizeref\":10.434124096333333,\"symbol\":\"circle\"},\"mode\":\"markers\",\"name\":\"Indonesia\",\"orientation\":\"v\",\"showlegend\":true,\"x\":[2013],\"xaxis\":\"x\",\"y\":[4],\"yaxis\":\"y\",\"type\":\"scatter\"}],\"name\":\"2013\"},{\"data\":[{\"hovertemplate\":\"\\u003cb\\u003e%{hovertext}\\u003c\\u002fb\\u003e\\u003cbr\\u003e\\u003cbr\\u003eexports=Brazil\\u003cbr\\u003eYear=%{x}\\u003cbr\\u003eCountryIndex=%{y}\\u003cbr\\u003eExportVolume=%{marker.size}\\u003cextra\\u003e\\u003c\\u002fextra\\u003e\",\"hovertext\":[\"Brazil\"],\"legendgroup\":\"Brazil\",\"marker\":{\"color\":\"#636efa\",\"size\":[37335.1728254],\"sizemode\":\"area\",\"sizeref\":10.434124096333333,\"symbol\":\"circle\"},\"mode\":\"markers\",\"name\":\"Brazil\",\"orientation\":\"v\",\"showlegend\":true,\"x\":[2014],\"xaxis\":\"x\",\"y\":[0],\"yaxis\":\"y\",\"type\":\"scatter\"},{\"hovertemplate\":\"\\u003cb\\u003e%{hovertext}\\u003c\\u002fb\\u003e\\u003cbr\\u003e\\u003cbr\\u003eexports=Colombia\\u003cbr\\u003eYear=%{x}\\u003cbr\\u003eCountryIndex=%{y}\\u003cbr\\u003eExportVolume=%{marker.size}\\u003cextra\\u003e\\u003c\\u002fextra\\u003e\",\"hovertext\":[\"Colombia\"],\"legendgroup\":\"Colombia\",\"marker\":{\"color\":\"#EF553B\",\"size\":[10954.4083574],\"sizemode\":\"area\",\"sizeref\":10.434124096333333,\"symbol\":\"circle\"},\"mode\":\"markers\",\"name\":\"Colombia\",\"orientation\":\"v\",\"showlegend\":true,\"x\":[2014],\"xaxis\":\"x\",\"y\":[1],\"yaxis\":\"y\",\"type\":\"scatter\"},{\"hovertemplate\":\"\\u003cb\\u003e%{hovertext}\\u003c\\u002fb\\u003e\\u003cbr\\u003e\\u003cbr\\u003eexports=Ethiopia\\u003cbr\\u003eYear=%{x}\\u003cbr\\u003eCountryIndex=%{y}\\u003cbr\\u003eExportVolume=%{marker.size}\\u003cextra\\u003e\\u003c\\u002fextra\\u003e\",\"hovertext\":[\"Ethiopia\"],\"legendgroup\":\"Ethiopia\",\"marker\":{\"color\":\"#00cc96\",\"size\":[3116.69037],\"sizemode\":\"area\",\"sizeref\":10.434124096333333,\"symbol\":\"circle\"},\"mode\":\"markers\",\"name\":\"Ethiopia\",\"orientation\":\"v\",\"showlegend\":true,\"x\":[2014],\"xaxis\":\"x\",\"y\":[2],\"yaxis\":\"y\",\"type\":\"scatter\"},{\"hovertemplate\":\"\\u003cb\\u003e%{hovertext}\\u003c\\u002fb\\u003e\\u003cbr\\u003e\\u003cbr\\u003eexports=Honduras\\u003cbr\\u003eYear=%{x}\\u003cbr\\u003eCountryIndex=%{y}\\u003cbr\\u003eExportVolume=%{marker.size}\\u003cextra\\u003e\\u003c\\u002fextra\\u003e\",\"hovertext\":[\"Honduras\"],\"legendgroup\":\"Honduras\",\"marker\":{\"color\":\"#ab63fa\",\"size\":[4251.826667],\"sizemode\":\"area\",\"sizeref\":10.434124096333333,\"symbol\":\"circle\"},\"mode\":\"markers\",\"name\":\"Honduras\",\"orientation\":\"v\",\"showlegend\":true,\"x\":[2014],\"xaxis\":\"x\",\"y\":[3],\"yaxis\":\"y\",\"type\":\"scatter\"},{\"hovertemplate\":\"\\u003cb\\u003e%{hovertext}\\u003c\\u002fb\\u003e\\u003cbr\\u003e\\u003cbr\\u003eexports=Indonesia\\u003cbr\\u003eYear=%{x}\\u003cbr\\u003eCountryIndex=%{y}\\u003cbr\\u003eExportVolume=%{marker.size}\\u003cextra\\u003e\\u003c\\u002fextra\\u003e\",\"hovertext\":[\"Indonesia\"],\"legendgroup\":\"Indonesia\",\"marker\":{\"color\":\"#FFA15A\",\"size\":[6174.8097126],\"sizemode\":\"area\",\"sizeref\":10.434124096333333,\"symbol\":\"circle\"},\"mode\":\"markers\",\"name\":\"Indonesia\",\"orientation\":\"v\",\"showlegend\":true,\"x\":[2014],\"xaxis\":\"x\",\"y\":[4],\"yaxis\":\"y\",\"type\":\"scatter\"}],\"name\":\"2014\"},{\"data\":[{\"hovertemplate\":\"\\u003cb\\u003e%{hovertext}\\u003c\\u002fb\\u003e\\u003cbr\\u003e\\u003cbr\\u003eexports=Brazil\\u003cbr\\u003eYear=%{x}\\u003cbr\\u003eCountryIndex=%{y}\\u003cbr\\u003eExportVolume=%{marker.size}\\u003cextra\\u003e\\u003c\\u002fextra\\u003e\",\"hovertext\":[\"Brazil\"],\"legendgroup\":\"Brazil\",\"marker\":{\"color\":\"#636efa\",\"size\":[37562.8467468],\"sizemode\":\"area\",\"sizeref\":10.434124096333333,\"symbol\":\"circle\"},\"mode\":\"markers\",\"name\":\"Brazil\",\"orientation\":\"v\",\"showlegend\":true,\"x\":[2015],\"xaxis\":\"x\",\"y\":[0],\"yaxis\":\"y\",\"type\":\"scatter\"},{\"hovertemplate\":\"\\u003cb\\u003e%{hovertext}\\u003c\\u002fb\\u003e\\u003cbr\\u003e\\u003cbr\\u003eexports=Colombia\\u003cbr\\u003eYear=%{x}\\u003cbr\\u003eCountryIndex=%{y}\\u003cbr\\u003eExportVolume=%{marker.size}\\u003cextra\\u003e\\u003c\\u002fextra\\u003e\",\"hovertext\":[\"Colombia\"],\"legendgroup\":\"Colombia\",\"marker\":{\"color\":\"#EF553B\",\"size\":[12716.3846704],\"sizemode\":\"area\",\"sizeref\":10.434124096333333,\"symbol\":\"circle\"},\"mode\":\"markers\",\"name\":\"Colombia\",\"orientation\":\"v\",\"showlegend\":true,\"x\":[2015],\"xaxis\":\"x\",\"y\":[1],\"yaxis\":\"y\",\"type\":\"scatter\"},{\"hovertemplate\":\"\\u003cb\\u003e%{hovertext}\\u003c\\u002fb\\u003e\\u003cbr\\u003e\\u003cbr\\u003eexports=Ethiopia\\u003cbr\\u003eYear=%{x}\\u003cbr\\u003eCountryIndex=%{y}\\u003cbr\\u003eExportVolume=%{marker.size}\\u003cextra\\u003e\\u003c\\u002fextra\\u003e\",\"hovertext\":[\"Ethiopia\"],\"legendgroup\":\"Ethiopia\",\"marker\":{\"color\":\"#00cc96\",\"size\":[2984.9748167],\"sizemode\":\"area\",\"sizeref\":10.434124096333333,\"symbol\":\"circle\"},\"mode\":\"markers\",\"name\":\"Ethiopia\",\"orientation\":\"v\",\"showlegend\":true,\"x\":[2015],\"xaxis\":\"x\",\"y\":[2],\"yaxis\":\"y\",\"type\":\"scatter\"},{\"hovertemplate\":\"\\u003cb\\u003e%{hovertext}\\u003c\\u002fb\\u003e\\u003cbr\\u003e\\u003cbr\\u003eexports=Honduras\\u003cbr\\u003eYear=%{x}\\u003cbr\\u003eCountryIndex=%{y}\\u003cbr\\u003eExportVolume=%{marker.size}\\u003cextra\\u003e\\u003c\\u002fextra\\u003e\",\"hovertext\":[\"Honduras\"],\"legendgroup\":\"Honduras\",\"marker\":{\"color\":\"#ab63fa\",\"size\":[5029.6670058],\"sizemode\":\"area\",\"sizeref\":10.434124096333333,\"symbol\":\"circle\"},\"mode\":\"markers\",\"name\":\"Honduras\",\"orientation\":\"v\",\"showlegend\":true,\"x\":[2015],\"xaxis\":\"x\",\"y\":[3],\"yaxis\":\"y\",\"type\":\"scatter\"},{\"hovertemplate\":\"\\u003cb\\u003e%{hovertext}\\u003c\\u002fb\\u003e\\u003cbr\\u003e\\u003cbr\\u003eexports=Indonesia\\u003cbr\\u003eYear=%{x}\\u003cbr\\u003eCountryIndex=%{y}\\u003cbr\\u003eExportVolume=%{marker.size}\\u003cextra\\u003e\\u003c\\u002fextra\\u003e\",\"hovertext\":[\"Indonesia\"],\"legendgroup\":\"Indonesia\",\"marker\":{\"color\":\"#FFA15A\",\"size\":[8378.6875964],\"sizemode\":\"area\",\"sizeref\":10.434124096333333,\"symbol\":\"circle\"},\"mode\":\"markers\",\"name\":\"Indonesia\",\"orientation\":\"v\",\"showlegend\":true,\"x\":[2015],\"xaxis\":\"x\",\"y\":[4],\"yaxis\":\"y\",\"type\":\"scatter\"}],\"name\":\"2015\"},{\"data\":[{\"hovertemplate\":\"\\u003cb\\u003e%{hovertext}\\u003c\\u002fb\\u003e\\u003cbr\\u003e\\u003cbr\\u003eexports=Brazil\\u003cbr\\u003eYear=%{x}\\u003cbr\\u003eCountryIndex=%{y}\\u003cbr\\u003eExportVolume=%{marker.size}\\u003cextra\\u003e\\u003c\\u002fextra\\u003e\",\"hovertext\":[\"Brazil\"],\"legendgroup\":\"Brazil\",\"marker\":{\"color\":\"#636efa\",\"size\":[34269.1502534],\"sizemode\":\"area\",\"sizeref\":10.434124096333333,\"symbol\":\"circle\"},\"mode\":\"markers\",\"name\":\"Brazil\",\"orientation\":\"v\",\"showlegend\":true,\"x\":[2016],\"xaxis\":\"x\",\"y\":[0],\"yaxis\":\"y\",\"type\":\"scatter\"},{\"hovertemplate\":\"\\u003cb\\u003e%{hovertext}\\u003c\\u002fb\\u003e\\u003cbr\\u003e\\u003cbr\\u003eexports=Colombia\\u003cbr\\u003eYear=%{x}\\u003cbr\\u003eCountryIndex=%{y}\\u003cbr\\u003eExportVolume=%{marker.size}\\u003cextra\\u003e\\u003c\\u002fextra\\u003e\",\"hovertext\":[\"Colombia\"],\"legendgroup\":\"Colombia\",\"marker\":{\"color\":\"#EF553B\",\"size\":[12831.3907266],\"sizemode\":\"area\",\"sizeref\":10.434124096333333,\"symbol\":\"circle\"},\"mode\":\"markers\",\"name\":\"Colombia\",\"orientation\":\"v\",\"showlegend\":true,\"x\":[2016],\"xaxis\":\"x\",\"y\":[1],\"yaxis\":\"y\",\"type\":\"scatter\"},{\"hovertemplate\":\"\\u003cb\\u003e%{hovertext}\\u003c\\u002fb\\u003e\\u003cbr\\u003e\\u003cbr\\u003eexports=Ethiopia\\u003cbr\\u003eYear=%{x}\\u003cbr\\u003eCountryIndex=%{y}\\u003cbr\\u003eExportVolume=%{marker.size}\\u003cextra\\u003e\\u003c\\u002fextra\\u003e\",\"hovertext\":[\"Ethiopia\"],\"legendgroup\":\"Ethiopia\",\"marker\":{\"color\":\"#00cc96\",\"size\":[3000.72445],\"sizemode\":\"area\",\"sizeref\":10.434124096333333,\"symbol\":\"circle\"},\"mode\":\"markers\",\"name\":\"Ethiopia\",\"orientation\":\"v\",\"showlegend\":true,\"x\":[2016],\"xaxis\":\"x\",\"y\":[2],\"yaxis\":\"y\",\"type\":\"scatter\"},{\"hovertemplate\":\"\\u003cb\\u003e%{hovertext}\\u003c\\u002fb\\u003e\\u003cbr\\u003e\\u003cbr\\u003eexports=Honduras\\u003cbr\\u003eYear=%{x}\\u003cbr\\u003eCountryIndex=%{y}\\u003cbr\\u003eExportVolume=%{marker.size}\\u003cextra\\u003e\\u003c\\u002fextra\\u003e\",\"hovertext\":[\"Honduras\"],\"legendgroup\":\"Honduras\",\"marker\":{\"color\":\"#ab63fa\",\"size\":[5305.953308],\"sizemode\":\"area\",\"sizeref\":10.434124096333333,\"symbol\":\"circle\"},\"mode\":\"markers\",\"name\":\"Honduras\",\"orientation\":\"v\",\"showlegend\":true,\"x\":[2016],\"xaxis\":\"x\",\"y\":[3],\"yaxis\":\"y\",\"type\":\"scatter\"},{\"hovertemplate\":\"\\u003cb\\u003e%{hovertext}\\u003c\\u002fb\\u003e\\u003cbr\\u003e\\u003cbr\\u003eexports=Indonesia\\u003cbr\\u003eYear=%{x}\\u003cbr\\u003eCountryIndex=%{y}\\u003cbr\\u003eExportVolume=%{marker.size}\\u003cextra\\u003e\\u003c\\u002fextra\\u003e\",\"hovertext\":[\"Indonesia\"],\"legendgroup\":\"Indonesia\",\"marker\":{\"color\":\"#FFA15A\",\"size\":[6545.3920455],\"sizemode\":\"area\",\"sizeref\":10.434124096333333,\"symbol\":\"circle\"},\"mode\":\"markers\",\"name\":\"Indonesia\",\"orientation\":\"v\",\"showlegend\":true,\"x\":[2016],\"xaxis\":\"x\",\"y\":[4],\"yaxis\":\"y\",\"type\":\"scatter\"}],\"name\":\"2016\"},{\"data\":[{\"hovertemplate\":\"\\u003cb\\u003e%{hovertext}\\u003c\\u002fb\\u003e\\u003cbr\\u003e\\u003cbr\\u003eexports=Brazil\\u003cbr\\u003eYear=%{x}\\u003cbr\\u003eCountryIndex=%{y}\\u003cbr\\u003eExportVolume=%{marker.size}\\u003cextra\\u003e\\u003c\\u002fextra\\u003e\",\"hovertext\":[\"Brazil\"],\"legendgroup\":\"Brazil\",\"marker\":{\"color\":\"#636efa\",\"size\":[30924.5678492],\"sizemode\":\"area\",\"sizeref\":10.434124096333333,\"symbol\":\"circle\"},\"mode\":\"markers\",\"name\":\"Brazil\",\"orientation\":\"v\",\"showlegend\":true,\"x\":[2017],\"xaxis\":\"x\",\"y\":[0],\"yaxis\":\"y\",\"type\":\"scatter\"},{\"hovertemplate\":\"\\u003cb\\u003e%{hovertext}\\u003c\\u002fb\\u003e\\u003cbr\\u003e\\u003cbr\\u003eexports=Colombia\\u003cbr\\u003eYear=%{x}\\u003cbr\\u003eCountryIndex=%{y}\\u003cbr\\u003eExportVolume=%{marker.size}\\u003cextra\\u003e\\u003c\\u002fextra\\u003e\",\"hovertext\":[\"Colombia\"],\"legendgroup\":\"Colombia\",\"marker\":{\"color\":\"#EF553B\",\"size\":[12984.5957468],\"sizemode\":\"area\",\"sizeref\":10.434124096333333,\"symbol\":\"circle\"},\"mode\":\"markers\",\"name\":\"Colombia\",\"orientation\":\"v\",\"showlegend\":true,\"x\":[2017],\"xaxis\":\"x\",\"y\":[1],\"yaxis\":\"y\",\"type\":\"scatter\"},{\"hovertemplate\":\"\\u003cb\\u003e%{hovertext}\\u003c\\u002fb\\u003e\\u003cbr\\u003e\\u003cbr\\u003eexports=Ethiopia\\u003cbr\\u003eYear=%{x}\\u003cbr\\u003eCountryIndex=%{y}\\u003cbr\\u003eExportVolume=%{marker.size}\\u003cextra\\u003e\\u003c\\u002fextra\\u003e\",\"hovertext\":[\"Ethiopia\"],\"legendgroup\":\"Ethiopia\",\"marker\":{\"color\":\"#00cc96\",\"size\":[3773.4063333],\"sizemode\":\"area\",\"sizeref\":10.434124096333333,\"symbol\":\"circle\"},\"mode\":\"markers\",\"name\":\"Ethiopia\",\"orientation\":\"v\",\"showlegend\":true,\"x\":[2017],\"xaxis\":\"x\",\"y\":[2],\"yaxis\":\"y\",\"type\":\"scatter\"},{\"hovertemplate\":\"\\u003cb\\u003e%{hovertext}\\u003c\\u002fb\\u003e\\u003cbr\\u003e\\u003cbr\\u003eexports=Honduras\\u003cbr\\u003eYear=%{x}\\u003cbr\\u003eCountryIndex=%{y}\\u003cbr\\u003eExportVolume=%{marker.size}\\u003cextra\\u003e\\u003c\\u002fextra\\u003e\",\"hovertext\":[\"Honduras\"],\"legendgroup\":\"Honduras\",\"marker\":{\"color\":\"#ab63fa\",\"size\":[7340.8439517],\"sizemode\":\"area\",\"sizeref\":10.434124096333333,\"symbol\":\"circle\"},\"mode\":\"markers\",\"name\":\"Honduras\",\"orientation\":\"v\",\"showlegend\":true,\"x\":[2017],\"xaxis\":\"x\",\"y\":[3],\"yaxis\":\"y\",\"type\":\"scatter\"},{\"hovertemplate\":\"\\u003cb\\u003e%{hovertext}\\u003c\\u002fb\\u003e\\u003cbr\\u003e\\u003cbr\\u003eexports=Indonesia\\u003cbr\\u003eYear=%{x}\\u003cbr\\u003eCountryIndex=%{y}\\u003cbr\\u003eExportVolume=%{marker.size}\\u003cextra\\u003e\\u003c\\u002fextra\\u003e\",\"hovertext\":[\"Indonesia\"],\"legendgroup\":\"Indonesia\",\"marker\":{\"color\":\"#FFA15A\",\"size\":[8197.5739739],\"sizemode\":\"area\",\"sizeref\":10.434124096333333,\"symbol\":\"circle\"},\"mode\":\"markers\",\"name\":\"Indonesia\",\"orientation\":\"v\",\"showlegend\":true,\"x\":[2017],\"xaxis\":\"x\",\"y\":[4],\"yaxis\":\"y\",\"type\":\"scatter\"}],\"name\":\"2017\"},{\"data\":[{\"hovertemplate\":\"\\u003cb\\u003e%{hovertext}\\u003c\\u002fb\\u003e\\u003cbr\\u003e\\u003cbr\\u003eexports=Brazil\\u003cbr\\u003eYear=%{x}\\u003cbr\\u003eCountryIndex=%{y}\\u003cbr\\u003eExportVolume=%{marker.size}\\u003cextra\\u003e\\u003c\\u002fextra\\u003e\",\"hovertext\":[\"Brazil\"],\"legendgroup\":\"Brazil\",\"marker\":{\"color\":\"#636efa\",\"size\":[35382.5564866],\"sizemode\":\"area\",\"sizeref\":10.434124096333333,\"symbol\":\"circle\"},\"mode\":\"markers\",\"name\":\"Brazil\",\"orientation\":\"v\",\"showlegend\":true,\"x\":[2018],\"xaxis\":\"x\",\"y\":[0],\"yaxis\":\"y\",\"type\":\"scatter\"},{\"hovertemplate\":\"\\u003cb\\u003e%{hovertext}\\u003c\\u002fb\\u003e\\u003cbr\\u003e\\u003cbr\\u003eexports=Colombia\\u003cbr\\u003eYear=%{x}\\u003cbr\\u003eCountryIndex=%{y}\\u003cbr\\u003eExportVolume=%{marker.size}\\u003cextra\\u003e\\u003c\\u002fextra\\u003e\",\"hovertext\":[\"Colombia\"],\"legendgroup\":\"Colombia\",\"marker\":{\"color\":\"#EF553B\",\"size\":[12807.9726245],\"sizemode\":\"area\",\"sizeref\":10.434124096333333,\"symbol\":\"circle\"},\"mode\":\"markers\",\"name\":\"Colombia\",\"orientation\":\"v\",\"showlegend\":true,\"x\":[2018],\"xaxis\":\"x\",\"y\":[1],\"yaxis\":\"y\",\"type\":\"scatter\"},{\"hovertemplate\":\"\\u003cb\\u003e%{hovertext}\\u003c\\u002fb\\u003e\\u003cbr\\u003e\\u003cbr\\u003eexports=Ethiopia\\u003cbr\\u003eYear=%{x}\\u003cbr\\u003eCountryIndex=%{y}\\u003cbr\\u003eExportVolume=%{marker.size}\\u003cextra\\u003e\\u003c\\u002fextra\\u003e\",\"hovertext\":[\"Ethiopia\"],\"legendgroup\":\"Ethiopia\",\"marker\":{\"color\":\"#00cc96\",\"size\":[3589.04802],\"sizemode\":\"area\",\"sizeref\":10.434124096333333,\"symbol\":\"circle\"},\"mode\":\"markers\",\"name\":\"Ethiopia\",\"orientation\":\"v\",\"showlegend\":true,\"x\":[2018],\"xaxis\":\"x\",\"y\":[2],\"yaxis\":\"y\",\"type\":\"scatter\"},{\"hovertemplate\":\"\\u003cb\\u003e%{hovertext}\\u003c\\u002fb\\u003e\\u003cbr\\u003e\\u003cbr\\u003eexports=Honduras\\u003cbr\\u003eYear=%{x}\\u003cbr\\u003eCountryIndex=%{y}\\u003cbr\\u003eExportVolume=%{marker.size}\\u003cextra\\u003e\\u003c\\u002fextra\\u003e\",\"hovertext\":[\"Honduras\"],\"legendgroup\":\"Honduras\",\"marker\":{\"color\":\"#ab63fa\",\"size\":[7143.8844713],\"sizemode\":\"area\",\"sizeref\":10.434124096333333,\"symbol\":\"circle\"},\"mode\":\"markers\",\"name\":\"Honduras\",\"orientation\":\"v\",\"showlegend\":true,\"x\":[2018],\"xaxis\":\"x\",\"y\":[3],\"yaxis\":\"y\",\"type\":\"scatter\"},{\"hovertemplate\":\"\\u003cb\\u003e%{hovertext}\\u003c\\u002fb\\u003e\\u003cbr\\u003e\\u003cbr\\u003eexports=Indonesia\\u003cbr\\u003eYear=%{x}\\u003cbr\\u003eCountryIndex=%{y}\\u003cbr\\u003eExportVolume=%{marker.size}\\u003cextra\\u003e\\u003c\\u002fextra\\u003e\",\"hovertext\":[\"Indonesia\"],\"legendgroup\":\"Indonesia\",\"marker\":{\"color\":\"#FFA15A\",\"size\":[4538.8390548],\"sizemode\":\"area\",\"sizeref\":10.434124096333333,\"symbol\":\"circle\"},\"mode\":\"markers\",\"name\":\"Indonesia\",\"orientation\":\"v\",\"showlegend\":true,\"x\":[2018],\"xaxis\":\"x\",\"y\":[4],\"yaxis\":\"y\",\"type\":\"scatter\"}],\"name\":\"2018\"}]);\n                        }).then(function(){\n                            \nvar gd = document.getElementById('3736a581-df82-4a74-a5c6-af662782d3d0');\nvar x = new MutationObserver(function (mutations, observer) {{\n        var display = window.getComputedStyle(gd).display;\n        if (!display || display === 'none') {{\n            console.log([gd, 'removed!']);\n            Plotly.purge(gd);\n            observer.disconnect();\n        }}\n}});\n\n// Listen for the removal of the full notebook cells\nvar notebookContainer = gd.closest('#notebook-container');\nif (notebookContainer) {{\n    x.observe(notebookContainer, {childList: true});\n}}\n\n// Listen for the clearing of the current output cell\nvar outputEl = gd.closest('.output');\nif (outputEl) {{\n    x.observe(outputEl, {childList: true});\n}}\n\n                        })                };                });            </script>        </div>"
     },
     "metadata": {},
     "output_type": "display_data"
    }
   ],
   "source": [
    "import plotly.express as px\n",
    "import pandas as pd\n",
    "\n",
    "# Carica il dataset\n",
    "df = pd.read_csv('exports-calendar-year.csv')\n",
    "\n",
    "# Filtra il DataFrame per includere solo i paesi selezionati\n",
    "selected_countries = ['Brazil', 'Vietnam', 'Colombia', 'Indonesia', 'Ethiopia', 'Honduras']\n",
    "df = df[df['exports'].isin(selected_countries)]\n",
    "\n",
    "# Assegna a ogni paese selezionato un indice unico (posizione Y)\n",
    "df['CountryIndex'] = range(len(df))\n",
    "\n",
    "# Prepara i dati per il grafico a bolle\n",
    "df_long = df.melt(id_vars=['exports', 'CountryIndex'], var_name='Year', value_name='ExportVolume')\n",
    "df_long['Year'] = df_long['Year'].astype(int)\n",
    "\n",
    "# Crea il grafico a bolle animato\n",
    "fig = px.scatter(df_long, x='Year', y='CountryIndex', size='ExportVolume', color='exports',\n",
    "                 hover_name='exports', animation_frame='Year',\n",
    "                 size_max=60, range_x=[df_long['Year'].min(), df_long['Year'].max()])\n",
    "\n",
    "# Aggiusta l'asse Y per mostrare i nomi dei paesi\n",
    "fig.update_yaxes(tickvals=df['CountryIndex'], ticktext=df['exports'])\n",
    "\n",
    "# Mostra il grafico\n",
    "fig.show()"
   ]
  },
  {
   "cell_type": "code",
   "execution_count": 14,
   "outputs": [
    {
     "data": {
      "application/vnd.plotly.v1+json": {
       "data": [
        {
         "hovertemplate": "<b>%{hovertext}</b><br><br>Year=%{x}<br>CountryIndex=%{y}<br>ExportVolume=%{marker.color}<extra></extra>",
         "hovertext": [
          "Brazil",
          "Colombia",
          "Ethiopia",
          "Honduras",
          "Indonesia"
         ],
         "legendgroup": "",
         "marker": {
          "color": [
           16935.7876003,
           13943.8700004,
           1074.101,
           1735.093,
           6903.2269994
          ],
          "coloraxis": "coloraxis",
          "size": [
           16935.7876003,
           13943.8700004,
           1074.101,
           1735.093,
           6903.2269994
          ],
          "sizemode": "area",
          "sizeref": 10.434124096333333,
          "symbol": "circle"
         },
         "mode": "markers",
         "name": "",
         "orientation": "v",
         "showlegend": false,
         "x": [
          1990,
          1990,
          1990,
          1990,
          1990
         ],
         "xaxis": "x",
         "y": [
          0,
          1,
          2,
          3,
          4
         ],
         "yaxis": "y",
         "type": "scatter"
        }
       ],
       "layout": {
        "template": {
         "data": {
          "histogram2dcontour": [
           {
            "type": "histogram2dcontour",
            "colorbar": {
             "outlinewidth": 0,
             "ticks": ""
            },
            "colorscale": [
             [
              0.0,
              "#0d0887"
             ],
             [
              0.1111111111111111,
              "#46039f"
             ],
             [
              0.2222222222222222,
              "#7201a8"
             ],
             [
              0.3333333333333333,
              "#9c179e"
             ],
             [
              0.4444444444444444,
              "#bd3786"
             ],
             [
              0.5555555555555556,
              "#d8576b"
             ],
             [
              0.6666666666666666,
              "#ed7953"
             ],
             [
              0.7777777777777778,
              "#fb9f3a"
             ],
             [
              0.8888888888888888,
              "#fdca26"
             ],
             [
              1.0,
              "#f0f921"
             ]
            ]
           }
          ],
          "choropleth": [
           {
            "type": "choropleth",
            "colorbar": {
             "outlinewidth": 0,
             "ticks": ""
            }
           }
          ],
          "histogram2d": [
           {
            "type": "histogram2d",
            "colorbar": {
             "outlinewidth": 0,
             "ticks": ""
            },
            "colorscale": [
             [
              0.0,
              "#0d0887"
             ],
             [
              0.1111111111111111,
              "#46039f"
             ],
             [
              0.2222222222222222,
              "#7201a8"
             ],
             [
              0.3333333333333333,
              "#9c179e"
             ],
             [
              0.4444444444444444,
              "#bd3786"
             ],
             [
              0.5555555555555556,
              "#d8576b"
             ],
             [
              0.6666666666666666,
              "#ed7953"
             ],
             [
              0.7777777777777778,
              "#fb9f3a"
             ],
             [
              0.8888888888888888,
              "#fdca26"
             ],
             [
              1.0,
              "#f0f921"
             ]
            ]
           }
          ],
          "heatmap": [
           {
            "type": "heatmap",
            "colorbar": {
             "outlinewidth": 0,
             "ticks": ""
            },
            "colorscale": [
             [
              0.0,
              "#0d0887"
             ],
             [
              0.1111111111111111,
              "#46039f"
             ],
             [
              0.2222222222222222,
              "#7201a8"
             ],
             [
              0.3333333333333333,
              "#9c179e"
             ],
             [
              0.4444444444444444,
              "#bd3786"
             ],
             [
              0.5555555555555556,
              "#d8576b"
             ],
             [
              0.6666666666666666,
              "#ed7953"
             ],
             [
              0.7777777777777778,
              "#fb9f3a"
             ],
             [
              0.8888888888888888,
              "#fdca26"
             ],
             [
              1.0,
              "#f0f921"
             ]
            ]
           }
          ],
          "heatmapgl": [
           {
            "type": "heatmapgl",
            "colorbar": {
             "outlinewidth": 0,
             "ticks": ""
            },
            "colorscale": [
             [
              0.0,
              "#0d0887"
             ],
             [
              0.1111111111111111,
              "#46039f"
             ],
             [
              0.2222222222222222,
              "#7201a8"
             ],
             [
              0.3333333333333333,
              "#9c179e"
             ],
             [
              0.4444444444444444,
              "#bd3786"
             ],
             [
              0.5555555555555556,
              "#d8576b"
             ],
             [
              0.6666666666666666,
              "#ed7953"
             ],
             [
              0.7777777777777778,
              "#fb9f3a"
             ],
             [
              0.8888888888888888,
              "#fdca26"
             ],
             [
              1.0,
              "#f0f921"
             ]
            ]
           }
          ],
          "contourcarpet": [
           {
            "type": "contourcarpet",
            "colorbar": {
             "outlinewidth": 0,
             "ticks": ""
            }
           }
          ],
          "contour": [
           {
            "type": "contour",
            "colorbar": {
             "outlinewidth": 0,
             "ticks": ""
            },
            "colorscale": [
             [
              0.0,
              "#0d0887"
             ],
             [
              0.1111111111111111,
              "#46039f"
             ],
             [
              0.2222222222222222,
              "#7201a8"
             ],
             [
              0.3333333333333333,
              "#9c179e"
             ],
             [
              0.4444444444444444,
              "#bd3786"
             ],
             [
              0.5555555555555556,
              "#d8576b"
             ],
             [
              0.6666666666666666,
              "#ed7953"
             ],
             [
              0.7777777777777778,
              "#fb9f3a"
             ],
             [
              0.8888888888888888,
              "#fdca26"
             ],
             [
              1.0,
              "#f0f921"
             ]
            ]
           }
          ],
          "surface": [
           {
            "type": "surface",
            "colorbar": {
             "outlinewidth": 0,
             "ticks": ""
            },
            "colorscale": [
             [
              0.0,
              "#0d0887"
             ],
             [
              0.1111111111111111,
              "#46039f"
             ],
             [
              0.2222222222222222,
              "#7201a8"
             ],
             [
              0.3333333333333333,
              "#9c179e"
             ],
             [
              0.4444444444444444,
              "#bd3786"
             ],
             [
              0.5555555555555556,
              "#d8576b"
             ],
             [
              0.6666666666666666,
              "#ed7953"
             ],
             [
              0.7777777777777778,
              "#fb9f3a"
             ],
             [
              0.8888888888888888,
              "#fdca26"
             ],
             [
              1.0,
              "#f0f921"
             ]
            ]
           }
          ],
          "mesh3d": [
           {
            "type": "mesh3d",
            "colorbar": {
             "outlinewidth": 0,
             "ticks": ""
            }
           }
          ],
          "scatter": [
           {
            "marker": {
             "line": {
              "color": "#283442"
             }
            },
            "type": "scatter"
           }
          ],
          "parcoords": [
           {
            "type": "parcoords",
            "line": {
             "colorbar": {
              "outlinewidth": 0,
              "ticks": ""
             }
            }
           }
          ],
          "scatterpolargl": [
           {
            "type": "scatterpolargl",
            "marker": {
             "colorbar": {
              "outlinewidth": 0,
              "ticks": ""
             }
            }
           }
          ],
          "bar": [
           {
            "error_x": {
             "color": "#f2f5fa"
            },
            "error_y": {
             "color": "#f2f5fa"
            },
            "marker": {
             "line": {
              "color": "rgb(17,17,17)",
              "width": 0.5
             },
             "pattern": {
              "fillmode": "overlay",
              "size": 10,
              "solidity": 0.2
             }
            },
            "type": "bar"
           }
          ],
          "scattergeo": [
           {
            "type": "scattergeo",
            "marker": {
             "colorbar": {
              "outlinewidth": 0,
              "ticks": ""
             }
            }
           }
          ],
          "scatterpolar": [
           {
            "type": "scatterpolar",
            "marker": {
             "colorbar": {
              "outlinewidth": 0,
              "ticks": ""
             }
            }
           }
          ],
          "histogram": [
           {
            "marker": {
             "pattern": {
              "fillmode": "overlay",
              "size": 10,
              "solidity": 0.2
             }
            },
            "type": "histogram"
           }
          ],
          "scattergl": [
           {
            "marker": {
             "line": {
              "color": "#283442"
             }
            },
            "type": "scattergl"
           }
          ],
          "scatter3d": [
           {
            "type": "scatter3d",
            "line": {
             "colorbar": {
              "outlinewidth": 0,
              "ticks": ""
             }
            },
            "marker": {
             "colorbar": {
              "outlinewidth": 0,
              "ticks": ""
             }
            }
           }
          ],
          "scattermapbox": [
           {
            "type": "scattermapbox",
            "marker": {
             "colorbar": {
              "outlinewidth": 0,
              "ticks": ""
             }
            }
           }
          ],
          "scatterternary": [
           {
            "type": "scatterternary",
            "marker": {
             "colorbar": {
              "outlinewidth": 0,
              "ticks": ""
             }
            }
           }
          ],
          "scattercarpet": [
           {
            "type": "scattercarpet",
            "marker": {
             "colorbar": {
              "outlinewidth": 0,
              "ticks": ""
             }
            }
           }
          ],
          "carpet": [
           {
            "aaxis": {
             "endlinecolor": "#A2B1C6",
             "gridcolor": "#506784",
             "linecolor": "#506784",
             "minorgridcolor": "#506784",
             "startlinecolor": "#A2B1C6"
            },
            "baxis": {
             "endlinecolor": "#A2B1C6",
             "gridcolor": "#506784",
             "linecolor": "#506784",
             "minorgridcolor": "#506784",
             "startlinecolor": "#A2B1C6"
            },
            "type": "carpet"
           }
          ],
          "table": [
           {
            "cells": {
             "fill": {
              "color": "#506784"
             },
             "line": {
              "color": "rgb(17,17,17)"
             }
            },
            "header": {
             "fill": {
              "color": "#2a3f5f"
             },
             "line": {
              "color": "rgb(17,17,17)"
             }
            },
            "type": "table"
           }
          ],
          "barpolar": [
           {
            "marker": {
             "line": {
              "color": "rgb(17,17,17)",
              "width": 0.5
             },
             "pattern": {
              "fillmode": "overlay",
              "size": 10,
              "solidity": 0.2
             }
            },
            "type": "barpolar"
           }
          ],
          "pie": [
           {
            "automargin": true,
            "type": "pie"
           }
          ]
         },
         "layout": {
          "autotypenumbers": "strict",
          "colorway": [
           "#636efa",
           "#EF553B",
           "#00cc96",
           "#ab63fa",
           "#FFA15A",
           "#19d3f3",
           "#FF6692",
           "#B6E880",
           "#FF97FF",
           "#FECB52"
          ],
          "font": {
           "color": "#f2f5fa"
          },
          "hovermode": "closest",
          "hoverlabel": {
           "align": "left"
          },
          "paper_bgcolor": "rgb(17,17,17)",
          "plot_bgcolor": "rgb(17,17,17)",
          "polar": {
           "bgcolor": "rgb(17,17,17)",
           "angularaxis": {
            "gridcolor": "#506784",
            "linecolor": "#506784",
            "ticks": ""
           },
           "radialaxis": {
            "gridcolor": "#506784",
            "linecolor": "#506784",
            "ticks": ""
           }
          },
          "ternary": {
           "bgcolor": "rgb(17,17,17)",
           "aaxis": {
            "gridcolor": "#506784",
            "linecolor": "#506784",
            "ticks": ""
           },
           "baxis": {
            "gridcolor": "#506784",
            "linecolor": "#506784",
            "ticks": ""
           },
           "caxis": {
            "gridcolor": "#506784",
            "linecolor": "#506784",
            "ticks": ""
           }
          },
          "coloraxis": {
           "colorbar": {
            "outlinewidth": 0,
            "ticks": ""
           }
          },
          "colorscale": {
           "sequential": [
            [
             0.0,
             "#0d0887"
            ],
            [
             0.1111111111111111,
             "#46039f"
            ],
            [
             0.2222222222222222,
             "#7201a8"
            ],
            [
             0.3333333333333333,
             "#9c179e"
            ],
            [
             0.4444444444444444,
             "#bd3786"
            ],
            [
             0.5555555555555556,
             "#d8576b"
            ],
            [
             0.6666666666666666,
             "#ed7953"
            ],
            [
             0.7777777777777778,
             "#fb9f3a"
            ],
            [
             0.8888888888888888,
             "#fdca26"
            ],
            [
             1.0,
             "#f0f921"
            ]
           ],
           "sequentialminus": [
            [
             0.0,
             "#0d0887"
            ],
            [
             0.1111111111111111,
             "#46039f"
            ],
            [
             0.2222222222222222,
             "#7201a8"
            ],
            [
             0.3333333333333333,
             "#9c179e"
            ],
            [
             0.4444444444444444,
             "#bd3786"
            ],
            [
             0.5555555555555556,
             "#d8576b"
            ],
            [
             0.6666666666666666,
             "#ed7953"
            ],
            [
             0.7777777777777778,
             "#fb9f3a"
            ],
            [
             0.8888888888888888,
             "#fdca26"
            ],
            [
             1.0,
             "#f0f921"
            ]
           ],
           "diverging": [
            [
             0,
             "#8e0152"
            ],
            [
             0.1,
             "#c51b7d"
            ],
            [
             0.2,
             "#de77ae"
            ],
            [
             0.3,
             "#f1b6da"
            ],
            [
             0.4,
             "#fde0ef"
            ],
            [
             0.5,
             "#f7f7f7"
            ],
            [
             0.6,
             "#e6f5d0"
            ],
            [
             0.7,
             "#b8e186"
            ],
            [
             0.8,
             "#7fbc41"
            ],
            [
             0.9,
             "#4d9221"
            ],
            [
             1,
             "#276419"
            ]
           ]
          },
          "xaxis": {
           "gridcolor": "#283442",
           "linecolor": "#506784",
           "ticks": "",
           "title": {
            "standoff": 15
           },
           "zerolinecolor": "#283442",
           "automargin": true,
           "zerolinewidth": 2
          },
          "yaxis": {
           "gridcolor": "#283442",
           "linecolor": "#506784",
           "ticks": "",
           "title": {
            "standoff": 15
           },
           "zerolinecolor": "#283442",
           "automargin": true,
           "zerolinewidth": 2
          },
          "scene": {
           "xaxis": {
            "backgroundcolor": "rgb(17,17,17)",
            "gridcolor": "#506784",
            "linecolor": "#506784",
            "showbackground": true,
            "ticks": "",
            "zerolinecolor": "#C8D4E3",
            "gridwidth": 2
           },
           "yaxis": {
            "backgroundcolor": "rgb(17,17,17)",
            "gridcolor": "#506784",
            "linecolor": "#506784",
            "showbackground": true,
            "ticks": "",
            "zerolinecolor": "#C8D4E3",
            "gridwidth": 2
           },
           "zaxis": {
            "backgroundcolor": "rgb(17,17,17)",
            "gridcolor": "#506784",
            "linecolor": "#506784",
            "showbackground": true,
            "ticks": "",
            "zerolinecolor": "#C8D4E3",
            "gridwidth": 2
           }
          },
          "shapedefaults": {
           "line": {
            "color": "#f2f5fa"
           }
          },
          "annotationdefaults": {
           "arrowcolor": "#f2f5fa",
           "arrowhead": 0,
           "arrowwidth": 1
          },
          "geo": {
           "bgcolor": "rgb(17,17,17)",
           "landcolor": "rgb(17,17,17)",
           "subunitcolor": "#506784",
           "showland": true,
           "showlakes": true,
           "lakecolor": "rgb(17,17,17)"
          },
          "title": {
           "x": 0.05
          },
          "updatemenudefaults": {
           "bgcolor": "#506784",
           "borderwidth": 0
          },
          "sliderdefaults": {
           "bgcolor": "#C8D4E3",
           "borderwidth": 1,
           "bordercolor": "rgb(17,17,17)",
           "tickwidth": 0
          },
          "mapbox": {
           "style": "dark"
          }
         }
        },
        "xaxis": {
         "anchor": "y",
         "domain": [
          0.0,
          1.0
         ],
         "title": {
          "text": "Year"
         },
         "range": [
          1990,
          2018
         ],
         "categoryorder": "array",
         "categoryarray": [
          1990,
          1991,
          1992,
          1993,
          1994,
          1995,
          1996,
          1997,
          1998,
          1999,
          2000,
          2001,
          2002,
          2003,
          2004,
          2005,
          2006,
          2007,
          2008,
          2009,
          2010,
          2011,
          2012,
          2013,
          2014,
          2015,
          2016,
          2017,
          2018
         ]
        },
        "yaxis": {
         "anchor": "x",
         "domain": [
          0.0,
          1.0
         ],
         "title": {
          "text": "CountryIndex"
         },
         "tickvals": [
          0,
          1,
          2,
          3,
          4
         ],
         "ticktext": [
          "Brazil",
          "Colombia",
          "Ethiopia",
          "Honduras",
          "Indonesia"
         ]
        },
        "coloraxis": {
         "colorbar": {
          "title": {
           "text": "ExportVolume"
          }
         },
         "colorscale": [
          [
           0.0,
           "#0d0887"
          ],
          [
           0.1111111111111111,
           "#46039f"
          ],
          [
           0.2222222222222222,
           "#7201a8"
          ],
          [
           0.3333333333333333,
           "#9c179e"
          ],
          [
           0.4444444444444444,
           "#bd3786"
          ],
          [
           0.5555555555555556,
           "#d8576b"
          ],
          [
           0.6666666666666666,
           "#ed7953"
          ],
          [
           0.7777777777777778,
           "#fb9f3a"
          ],
          [
           0.8888888888888888,
           "#fdca26"
          ],
          [
           1.0,
           "#f0f921"
          ]
         ]
        },
        "legend": {
         "tracegroupgap": 0,
         "itemsizing": "constant"
        },
        "margin": {
         "t": 60
        },
        "updatemenus": [
         {
          "buttons": [
           {
            "args": [
             null,
             {
              "frame": {
               "duration": 500,
               "redraw": false
              },
              "mode": "immediate",
              "fromcurrent": true,
              "transition": {
               "duration": 500,
               "easing": "linear"
              }
             }
            ],
            "label": "&#9654;",
            "method": "animate"
           },
           {
            "args": [
             [
              null
             ],
             {
              "frame": {
               "duration": 0,
               "redraw": false
              },
              "mode": "immediate",
              "fromcurrent": true,
              "transition": {
               "duration": 0,
               "easing": "linear"
              }
             }
            ],
            "label": "&#9724;",
            "method": "animate"
           }
          ],
          "direction": "left",
          "pad": {
           "r": 10,
           "t": 70
          },
          "showactive": false,
          "type": "buttons",
          "x": 0.1,
          "xanchor": "right",
          "y": 0,
          "yanchor": "top"
         }
        ],
        "sliders": [
         {
          "active": 0,
          "currentvalue": {
           "prefix": "Year="
          },
          "len": 0.9,
          "pad": {
           "b": 10,
           "t": 60
          },
          "steps": [
           {
            "args": [
             [
              "1990"
             ],
             {
              "frame": {
               "duration": 0,
               "redraw": false
              },
              "mode": "immediate",
              "fromcurrent": true,
              "transition": {
               "duration": 0,
               "easing": "linear"
              }
             }
            ],
            "label": "1990",
            "method": "animate"
           },
           {
            "args": [
             [
              "1991"
             ],
             {
              "frame": {
               "duration": 0,
               "redraw": false
              },
              "mode": "immediate",
              "fromcurrent": true,
              "transition": {
               "duration": 0,
               "easing": "linear"
              }
             }
            ],
            "label": "1991",
            "method": "animate"
           },
           {
            "args": [
             [
              "1992"
             ],
             {
              "frame": {
               "duration": 0,
               "redraw": false
              },
              "mode": "immediate",
              "fromcurrent": true,
              "transition": {
               "duration": 0,
               "easing": "linear"
              }
             }
            ],
            "label": "1992",
            "method": "animate"
           },
           {
            "args": [
             [
              "1993"
             ],
             {
              "frame": {
               "duration": 0,
               "redraw": false
              },
              "mode": "immediate",
              "fromcurrent": true,
              "transition": {
               "duration": 0,
               "easing": "linear"
              }
             }
            ],
            "label": "1993",
            "method": "animate"
           },
           {
            "args": [
             [
              "1994"
             ],
             {
              "frame": {
               "duration": 0,
               "redraw": false
              },
              "mode": "immediate",
              "fromcurrent": true,
              "transition": {
               "duration": 0,
               "easing": "linear"
              }
             }
            ],
            "label": "1994",
            "method": "animate"
           },
           {
            "args": [
             [
              "1995"
             ],
             {
              "frame": {
               "duration": 0,
               "redraw": false
              },
              "mode": "immediate",
              "fromcurrent": true,
              "transition": {
               "duration": 0,
               "easing": "linear"
              }
             }
            ],
            "label": "1995",
            "method": "animate"
           },
           {
            "args": [
             [
              "1996"
             ],
             {
              "frame": {
               "duration": 0,
               "redraw": false
              },
              "mode": "immediate",
              "fromcurrent": true,
              "transition": {
               "duration": 0,
               "easing": "linear"
              }
             }
            ],
            "label": "1996",
            "method": "animate"
           },
           {
            "args": [
             [
              "1997"
             ],
             {
              "frame": {
               "duration": 0,
               "redraw": false
              },
              "mode": "immediate",
              "fromcurrent": true,
              "transition": {
               "duration": 0,
               "easing": "linear"
              }
             }
            ],
            "label": "1997",
            "method": "animate"
           },
           {
            "args": [
             [
              "1998"
             ],
             {
              "frame": {
               "duration": 0,
               "redraw": false
              },
              "mode": "immediate",
              "fromcurrent": true,
              "transition": {
               "duration": 0,
               "easing": "linear"
              }
             }
            ],
            "label": "1998",
            "method": "animate"
           },
           {
            "args": [
             [
              "1999"
             ],
             {
              "frame": {
               "duration": 0,
               "redraw": false
              },
              "mode": "immediate",
              "fromcurrent": true,
              "transition": {
               "duration": 0,
               "easing": "linear"
              }
             }
            ],
            "label": "1999",
            "method": "animate"
           },
           {
            "args": [
             [
              "2000"
             ],
             {
              "frame": {
               "duration": 0,
               "redraw": false
              },
              "mode": "immediate",
              "fromcurrent": true,
              "transition": {
               "duration": 0,
               "easing": "linear"
              }
             }
            ],
            "label": "2000",
            "method": "animate"
           },
           {
            "args": [
             [
              "2001"
             ],
             {
              "frame": {
               "duration": 0,
               "redraw": false
              },
              "mode": "immediate",
              "fromcurrent": true,
              "transition": {
               "duration": 0,
               "easing": "linear"
              }
             }
            ],
            "label": "2001",
            "method": "animate"
           },
           {
            "args": [
             [
              "2002"
             ],
             {
              "frame": {
               "duration": 0,
               "redraw": false
              },
              "mode": "immediate",
              "fromcurrent": true,
              "transition": {
               "duration": 0,
               "easing": "linear"
              }
             }
            ],
            "label": "2002",
            "method": "animate"
           },
           {
            "args": [
             [
              "2003"
             ],
             {
              "frame": {
               "duration": 0,
               "redraw": false
              },
              "mode": "immediate",
              "fromcurrent": true,
              "transition": {
               "duration": 0,
               "easing": "linear"
              }
             }
            ],
            "label": "2003",
            "method": "animate"
           },
           {
            "args": [
             [
              "2004"
             ],
             {
              "frame": {
               "duration": 0,
               "redraw": false
              },
              "mode": "immediate",
              "fromcurrent": true,
              "transition": {
               "duration": 0,
               "easing": "linear"
              }
             }
            ],
            "label": "2004",
            "method": "animate"
           },
           {
            "args": [
             [
              "2005"
             ],
             {
              "frame": {
               "duration": 0,
               "redraw": false
              },
              "mode": "immediate",
              "fromcurrent": true,
              "transition": {
               "duration": 0,
               "easing": "linear"
              }
             }
            ],
            "label": "2005",
            "method": "animate"
           },
           {
            "args": [
             [
              "2006"
             ],
             {
              "frame": {
               "duration": 0,
               "redraw": false
              },
              "mode": "immediate",
              "fromcurrent": true,
              "transition": {
               "duration": 0,
               "easing": "linear"
              }
             }
            ],
            "label": "2006",
            "method": "animate"
           },
           {
            "args": [
             [
              "2007"
             ],
             {
              "frame": {
               "duration": 0,
               "redraw": false
              },
              "mode": "immediate",
              "fromcurrent": true,
              "transition": {
               "duration": 0,
               "easing": "linear"
              }
             }
            ],
            "label": "2007",
            "method": "animate"
           },
           {
            "args": [
             [
              "2008"
             ],
             {
              "frame": {
               "duration": 0,
               "redraw": false
              },
              "mode": "immediate",
              "fromcurrent": true,
              "transition": {
               "duration": 0,
               "easing": "linear"
              }
             }
            ],
            "label": "2008",
            "method": "animate"
           },
           {
            "args": [
             [
              "2009"
             ],
             {
              "frame": {
               "duration": 0,
               "redraw": false
              },
              "mode": "immediate",
              "fromcurrent": true,
              "transition": {
               "duration": 0,
               "easing": "linear"
              }
             }
            ],
            "label": "2009",
            "method": "animate"
           },
           {
            "args": [
             [
              "2010"
             ],
             {
              "frame": {
               "duration": 0,
               "redraw": false
              },
              "mode": "immediate",
              "fromcurrent": true,
              "transition": {
               "duration": 0,
               "easing": "linear"
              }
             }
            ],
            "label": "2010",
            "method": "animate"
           },
           {
            "args": [
             [
              "2011"
             ],
             {
              "frame": {
               "duration": 0,
               "redraw": false
              },
              "mode": "immediate",
              "fromcurrent": true,
              "transition": {
               "duration": 0,
               "easing": "linear"
              }
             }
            ],
            "label": "2011",
            "method": "animate"
           },
           {
            "args": [
             [
              "2012"
             ],
             {
              "frame": {
               "duration": 0,
               "redraw": false
              },
              "mode": "immediate",
              "fromcurrent": true,
              "transition": {
               "duration": 0,
               "easing": "linear"
              }
             }
            ],
            "label": "2012",
            "method": "animate"
           },
           {
            "args": [
             [
              "2013"
             ],
             {
              "frame": {
               "duration": 0,
               "redraw": false
              },
              "mode": "immediate",
              "fromcurrent": true,
              "transition": {
               "duration": 0,
               "easing": "linear"
              }
             }
            ],
            "label": "2013",
            "method": "animate"
           },
           {
            "args": [
             [
              "2014"
             ],
             {
              "frame": {
               "duration": 0,
               "redraw": false
              },
              "mode": "immediate",
              "fromcurrent": true,
              "transition": {
               "duration": 0,
               "easing": "linear"
              }
             }
            ],
            "label": "2014",
            "method": "animate"
           },
           {
            "args": [
             [
              "2015"
             ],
             {
              "frame": {
               "duration": 0,
               "redraw": false
              },
              "mode": "immediate",
              "fromcurrent": true,
              "transition": {
               "duration": 0,
               "easing": "linear"
              }
             }
            ],
            "label": "2015",
            "method": "animate"
           },
           {
            "args": [
             [
              "2016"
             ],
             {
              "frame": {
               "duration": 0,
               "redraw": false
              },
              "mode": "immediate",
              "fromcurrent": true,
              "transition": {
               "duration": 0,
               "easing": "linear"
              }
             }
            ],
            "label": "2016",
            "method": "animate"
           },
           {
            "args": [
             [
              "2017"
             ],
             {
              "frame": {
               "duration": 0,
               "redraw": false
              },
              "mode": "immediate",
              "fromcurrent": true,
              "transition": {
               "duration": 0,
               "easing": "linear"
              }
             }
            ],
            "label": "2017",
            "method": "animate"
           },
           {
            "args": [
             [
              "2018"
             ],
             {
              "frame": {
               "duration": 0,
               "redraw": false
              },
              "mode": "immediate",
              "fromcurrent": true,
              "transition": {
               "duration": 0,
               "easing": "linear"
              }
             }
            ],
            "label": "2018",
            "method": "animate"
           }
          ],
          "x": 0.1,
          "xanchor": "left",
          "y": 0,
          "yanchor": "top"
         }
        ]
       },
       "frames": [
        {
         "data": [
          {
           "hovertemplate": "<b>%{hovertext}</b><br><br>Year=%{x}<br>CountryIndex=%{y}<br>ExportVolume=%{marker.color}<extra></extra>",
           "hovertext": [
            "Brazil",
            "Colombia",
            "Ethiopia",
            "Honduras",
            "Indonesia"
           ],
           "legendgroup": "",
           "marker": {
            "color": [
             16935.7876003,
             13943.8700004,
             1074.101,
             1735.093,
             6903.2269994
            ],
            "coloraxis": "coloraxis",
            "size": [
             16935.7876003,
             13943.8700004,
             1074.101,
             1735.093,
             6903.2269994
            ],
            "sizemode": "area",
            "sizeref": 10.434124096333333,
            "symbol": "circle"
           },
           "mode": "markers",
           "name": "",
           "orientation": "v",
           "showlegend": false,
           "x": [
            1990,
            1990,
            1990,
            1990,
            1990
           ],
           "xaxis": "x",
           "y": [
            0,
            1,
            2,
            3,
            4
           ],
           "yaxis": "y",
           "type": "scatter"
          }
         ],
         "name": "1990"
        },
        {
         "data": [
          {
           "hovertemplate": "<b>%{hovertext}</b><br><br>Year=%{x}<br>CountryIndex=%{y}<br>ExportVolume=%{marker.color}<extra></extra>",
           "hovertext": [
            "Brazil",
            "Colombia",
            "Ethiopia",
            "Honduras",
            "Indonesia"
           ],
           "legendgroup": "",
           "marker": {
            "color": [
             21182.7614023,
             12599.1849983,
             841.329,
             1444.363,
             6170.7960001
            ],
            "coloraxis": "coloraxis",
            "size": [
             21182.7614023,
             12599.1849983,
             841.329,
             1444.363,
             6170.7960001
            ],
            "sizemode": "area",
            "sizeref": 10.434124096333333,
            "symbol": "circle"
           },
           "mode": "markers",
           "name": "",
           "orientation": "v",
           "showlegend": false,
           "x": [
            1991,
            1991,
            1991,
            1991,
            1991
           ],
           "xaxis": "x",
           "y": [
            0,
            1,
            2,
            3,
            4
           ],
           "yaxis": "y",
           "type": "scatter"
          }
         ],
         "name": "1991"
        },
        {
         "data": [
          {
           "hovertemplate": "<b>%{hovertext}</b><br><br>Year=%{x}<br>CountryIndex=%{y}<br>ExportVolume=%{marker.color}<extra></extra>",
           "hovertext": [
            "Brazil",
            "Colombia",
            "Ethiopia",
            "Honduras",
            "Indonesia"
           ],
           "legendgroup": "",
           "marker": {
            "color": [
             18790.7192021,
             16564.3700008,
             734.461,
             1960.071,
             4603.6959999
            ],
            "coloraxis": "coloraxis",
            "size": [
             18790.7192021,
             16564.3700008,
             734.461,
             1960.071,
             4603.6959999
            ],
            "sizemode": "area",
            "sizeref": 10.434124096333333,
            "symbol": "circle"
           },
           "mode": "markers",
           "name": "",
           "orientation": "v",
           "showlegend": false,
           "x": [
            1992,
            1992,
            1992,
            1992,
            1992
           ],
           "xaxis": "x",
           "y": [
            0,
            1,
            2,
            3,
            4
           ],
           "yaxis": "y",
           "type": "scatter"
          }
         ],
         "name": "1992"
        },
        {
         "data": [
          {
           "hovertemplate": "<b>%{hovertext}</b><br><br>Year=%{x}<br>CountryIndex=%{y}<br>ExportVolume=%{marker.color}<extra></extra>",
           "hovertext": [
            "Brazil",
            "Colombia",
            "Ethiopia",
            "Honduras",
            "Indonesia"
           ],
           "legendgroup": "",
           "marker": {
            "color": [
             17837.7479992,
             13568.3620035,
             1166.778,
             1705.317,
             5662.0940006
            ],
            "coloraxis": "coloraxis",
            "size": [
             17837.7479992,
             13568.3620035,
             1166.778,
             1705.317,
             5662.0940006
            ],
            "sizemode": "area",
            "sizeref": 10.434124096333333,
            "symbol": "circle"
           },
           "mode": "markers",
           "name": "",
           "orientation": "v",
           "showlegend": false,
           "x": [
            1993,
            1993,
            1993,
            1993,
            1993
           ],
           "xaxis": "x",
           "y": [
            0,
            1,
            2,
            3,
            4
           ],
           "yaxis": "y",
           "type": "scatter"
          }
         ],
         "name": "1993"
        },
        {
         "data": [
          {
           "hovertemplate": "<b>%{hovertext}</b><br><br>Year=%{x}<br>CountryIndex=%{y}<br>ExportVolume=%{marker.color}<extra></extra>",
           "hovertext": [
            "Brazil",
            "Colombia",
            "Ethiopia",
            "Honduras",
            "Indonesia"
           ],
           "legendgroup": "",
           "marker": {
            "color": [
             17273.1476003,
             11768.0890004,
             1475.325,
             1718.185,
             4604.6299989
            ],
            "coloraxis": "coloraxis",
            "size": [
             17273.1476003,
             11768.0890004,
             1475.325,
             1718.185,
             4604.6299989
            ],
            "sizemode": "area",
            "sizeref": 10.434124096333333,
            "symbol": "circle"
           },
           "mode": "markers",
           "name": "",
           "orientation": "v",
           "showlegend": false,
           "x": [
            1994,
            1994,
            1994,
            1994,
            1994
           ],
           "xaxis": "x",
           "y": [
            0,
            1,
            2,
            3,
            4
           ],
           "yaxis": "y",
           "type": "scatter"
          }
         ],
         "name": "1994"
        },
        {
         "data": [
          {
           "hovertemplate": "<b>%{hovertext}</b><br><br>Year=%{x}<br>CountryIndex=%{y}<br>ExportVolume=%{marker.color}<extra></extra>",
           "hovertext": [
            "Brazil",
            "Colombia",
            "Ethiopia",
            "Honduras",
            "Indonesia"
           ],
           "legendgroup": "",
           "marker": {
            "color": [
             14468.4322014,
             9814.1969996,
             1276.118,
             1795.963,
             3946.5850006
            ],
            "coloraxis": "coloraxis",
            "size": [
             14468.4322014,
             9814.1969996,
             1276.118,
             1795.963,
             3946.5850006
            ],
            "sizemode": "area",
            "sizeref": 10.434124096333333,
            "symbol": "circle"
           },
           "mode": "markers",
           "name": "",
           "orientation": "v",
           "showlegend": false,
           "x": [
            1995,
            1995,
            1995,
            1995,
            1995
           ],
           "xaxis": "x",
           "y": [
            0,
            1,
            2,
            3,
            4
           ],
           "yaxis": "y",
           "type": "scatter"
          }
         ],
         "name": "1995"
        },
        {
         "data": [
          {
           "hovertemplate": "<b>%{hovertext}</b><br><br>Year=%{x}<br>CountryIndex=%{y}<br>ExportVolume=%{marker.color}<extra></extra>",
           "hovertext": [
            "Brazil",
            "Colombia",
            "Ethiopia",
            "Honduras",
            "Indonesia"
           ],
           "legendgroup": "",
           "marker": {
            "color": [
             15250.6090018,
             10588.4309984,
             1838.231,
             2059.76,
             6440.28
            ],
            "coloraxis": "coloraxis",
            "size": [
             15250.6090018,
             10588.4309984,
             1838.231,
             2059.76,
             6440.28
            ],
            "sizemode": "area",
            "sizeref": 10.434124096333333,
            "symbol": "circle"
           },
           "mode": "markers",
           "name": "",
           "orientation": "v",
           "showlegend": false,
           "x": [
            1996,
            1996,
            1996,
            1996,
            1996
           ],
           "xaxis": "x",
           "y": [
            0,
            1,
            2,
            3,
            4
           ],
           "yaxis": "y",
           "type": "scatter"
          }
         ],
         "name": "1996"
        },
        {
         "data": [
          {
           "hovertemplate": "<b>%{hovertext}</b><br><br>Year=%{x}<br>CountryIndex=%{y}<br>ExportVolume=%{marker.color}<extra></extra>",
           "hovertext": [
            "Brazil",
            "Colombia",
            "Ethiopia",
            "Honduras",
            "Indonesia"
           ],
           "legendgroup": "",
           "marker": {
            "color": [
             16801.2600051,
             10918.8630016,
             1979.733,
             1722.482,
             5755.0779999
            ],
            "coloraxis": "coloraxis",
            "size": [
             16801.2600051,
             10918.8630016,
             1979.733,
             1722.482,
             5755.0779999
            ],
            "sizemode": "area",
            "sizeref": 10.434124096333333,
            "symbol": "circle"
           },
           "mode": "markers",
           "name": "",
           "orientation": "v",
           "showlegend": false,
           "x": [
            1997,
            1997,
            1997,
            1997,
            1997
           ],
           "xaxis": "x",
           "y": [
            0,
            1,
            2,
            3,
            4
           ],
           "yaxis": "y",
           "type": "scatter"
          }
         ],
         "name": "1997"
        },
        {
         "data": [
          {
           "hovertemplate": "<b>%{hovertext}</b><br><br>Year=%{x}<br>CountryIndex=%{y}<br>ExportVolume=%{marker.color}<extra></extra>",
           "hovertext": [
            "Brazil",
            "Colombia",
            "Ethiopia",
            "Honduras",
            "Indonesia"
           ],
           "legendgroup": "",
           "marker": {
            "color": [
             18144.3883339,
             11259.9289995,
             1917.061,
             2329.274,
             5598.0319992
            ],
            "coloraxis": "coloraxis",
            "size": [
             18144.3883339,
             11259.9289995,
             1917.061,
             2329.274,
             5598.0319992
            ],
            "sizemode": "area",
            "sizeref": 10.434124096333333,
            "symbol": "circle"
           },
           "mode": "markers",
           "name": "",
           "orientation": "v",
           "showlegend": false,
           "x": [
            1998,
            1998,
            1998,
            1998,
            1998
           ],
           "xaxis": "x",
           "y": [
            0,
            1,
            2,
            3,
            4
           ],
           "yaxis": "y",
           "type": "scatter"
          }
         ],
         "name": "1998"
        },
        {
         "data": [
          {
           "hovertemplate": "<b>%{hovertext}</b><br><br>Year=%{x}<br>CountryIndex=%{y}<br>ExportVolume=%{marker.color}<extra></extra>",
           "hovertext": [
            "Brazil",
            "Colombia",
            "Ethiopia",
            "Honduras",
            "Indonesia"
           ],
           "legendgroup": "",
           "marker": {
            "color": [
             23149.2038037,
             9995.3100014,
             1818.087,
             1986.603,
             5115.0269995
            ],
            "coloraxis": "coloraxis",
            "size": [
             23149.2038037,
             9995.3100014,
             1818.087,
             1986.603,
             5115.0269995
            ],
            "sizemode": "area",
            "sizeref": 10.434124096333333,
            "symbol": "circle"
           },
           "mode": "markers",
           "name": "",
           "orientation": "v",
           "showlegend": false,
           "x": [
            1999,
            1999,
            1999,
            1999,
            1999
           ],
           "xaxis": "x",
           "y": [
            0,
            1,
            2,
            3,
            4
           ],
           "yaxis": "y",
           "type": "scatter"
          }
         ],
         "name": "1999"
        },
        {
         "data": [
          {
           "hovertemplate": "<b>%{hovertext}</b><br><br>Year=%{x}<br>CountryIndex=%{y}<br>ExportVolume=%{marker.color}<extra></extra>",
           "hovertext": [
            "Brazil",
            "Colombia",
            "Ethiopia",
            "Honduras",
            "Indonesia"
           ],
           "legendgroup": "",
           "marker": {
            "color": [
             18016.2606406,
             9176.6609102,
             1981.856,
             2878.56,
             5357.59886
            ],
            "coloraxis": "coloraxis",
            "size": [
             18016.2606406,
             9176.6609102,
             1981.856,
             2878.56,
             5357.59886
            ],
            "sizemode": "area",
            "sizeref": 10.434124096333333,
            "symbol": "circle"
           },
           "mode": "markers",
           "name": "",
           "orientation": "v",
           "showlegend": false,
           "x": [
            2000,
            2000,
            2000,
            2000,
            2000
           ],
           "xaxis": "x",
           "y": [
            0,
            1,
            2,
            3,
            4
           ],
           "yaxis": "y",
           "type": "scatter"
          }
         ],
         "name": "2000"
        },
        {
         "data": [
          {
           "hovertemplate": "<b>%{hovertext}</b><br><br>Year=%{x}<br>CountryIndex=%{y}<br>ExportVolume=%{marker.color}<extra></extra>",
           "hovertext": [
            "Brazil",
            "Colombia",
            "Ethiopia",
            "Honduras",
            "Indonesia"
           ],
           "legendgroup": "",
           "marker": {
            "color": [
             23172.486512,
             9943.6300006,
             1376.062,
             2391.613,
             5243.4050012
            ],
            "coloraxis": "coloraxis",
            "size": [
             23172.486512,
             9943.6300006,
             1376.062,
             2391.613,
             5243.4050012
            ],
            "sizemode": "area",
            "sizeref": 10.434124096333333,
            "symbol": "circle"
           },
           "mode": "markers",
           "name": "",
           "orientation": "v",
           "showlegend": false,
           "x": [
            2001,
            2001,
            2001,
            2001,
            2001
           ],
           "xaxis": "x",
           "y": [
            0,
            1,
            2,
            3,
            4
           ],
           "yaxis": "y",
           "type": "scatter"
          }
         ],
         "name": "2001"
        },
        {
         "data": [
          {
           "hovertemplate": "<b>%{hovertext}</b><br><br>Year=%{x}<br>CountryIndex=%{y}<br>ExportVolume=%{marker.color}<extra></extra>",
           "hovertext": [
            "Brazil",
            "Colombia",
            "Ethiopia",
            "Honduras",
            "Indonesia"
           ],
           "legendgroup": "",
           "marker": {
            "color": [
             27981.8389351,
             10273.4249979,
             2054.678,
             2711.26,
             4285.830001
            ],
            "coloraxis": "coloraxis",
            "size": [
             27981.8389351,
             10273.4249979,
             2054.678,
             2711.26,
             4285.830001
            ],
            "sizemode": "area",
            "sizeref": 10.434124096333333,
            "symbol": "circle"
           },
           "mode": "markers",
           "name": "",
           "orientation": "v",
           "showlegend": false,
           "x": [
            2002,
            2002,
            2002,
            2002,
            2002
           ],
           "xaxis": "x",
           "y": [
            0,
            1,
            2,
            3,
            4
           ],
           "yaxis": "y",
           "type": "scatter"
          }
         ],
         "name": "2002"
        },
        {
         "data": [
          {
           "hovertemplate": "<b>%{hovertext}</b><br><br>Year=%{x}<br>CountryIndex=%{y}<br>ExportVolume=%{marker.color}<extra></extra>",
           "hovertext": [
            "Brazil",
            "Colombia",
            "Ethiopia",
            "Honduras",
            "Indonesia"
           ],
           "legendgroup": "",
           "marker": {
            "color": [
             25710.8116628,
             10244.3919993,
             2229.143,
             2425.237,
             4794.7200006
            ],
            "coloraxis": "coloraxis",
            "size": [
             25710.8116628,
             10244.3919993,
             2229.143,
             2425.237,
             4794.7200006
            ],
            "sizemode": "area",
            "sizeref": 10.434124096333333,
            "symbol": "circle"
           },
           "mode": "markers",
           "name": "",
           "orientation": "v",
           "showlegend": false,
           "x": [
            2003,
            2003,
            2003,
            2003,
            2003
           ],
           "xaxis": "x",
           "y": [
            0,
            1,
            2,
            3,
            4
           ],
           "yaxis": "y",
           "type": "scatter"
          }
         ],
         "name": "2003"
        },
        {
         "data": [
          {
           "hovertemplate": "<b>%{hovertext}</b><br><br>Year=%{x}<br>CountryIndex=%{y}<br>ExportVolume=%{marker.color}<extra></extra>",
           "hovertext": [
            "Brazil",
            "Colombia",
            "Ethiopia",
            "Honduras",
            "Indonesia"
           ],
           "legendgroup": "",
           "marker": {
            "color": [
             26478.4750901,
             10194.3150011,
             2490.944,
             2779.189,
             5455.5989996
            ],
            "coloraxis": "coloraxis",
            "size": [
             26478.4750901,
             10194.3150011,
             2490.944,
             2779.189,
             5455.5989996
            ],
            "sizemode": "area",
            "sizeref": 10.434124096333333,
            "symbol": "circle"
           },
           "mode": "markers",
           "name": "",
           "orientation": "v",
           "showlegend": false,
           "x": [
            2004,
            2004,
            2004,
            2004,
            2004
           ],
           "xaxis": "x",
           "y": [
            0,
            1,
            2,
            3,
            4
           ],
           "yaxis": "y",
           "type": "scatter"
          }
         ],
         "name": "2004"
        },
        {
         "data": [
          {
           "hovertemplate": "<b>%{hovertext}</b><br><br>Year=%{x}<br>CountryIndex=%{y}<br>ExportVolume=%{marker.color}<extra></extra>",
           "hovertext": [
            "Brazil",
            "Colombia",
            "Ethiopia",
            "Honduras",
            "Indonesia"
           ],
           "legendgroup": "",
           "marker": {
            "color": [
             26198.0554467,
             10871.2469708,
             2435.069,
             2391.90535,
             6744.09393
            ],
            "coloraxis": "coloraxis",
            "size": [
             26198.0554467,
             10871.2469708,
             2435.069,
             2391.90535,
             6744.09393
            ],
            "sizemode": "area",
            "sizeref": 10.434124096333333,
            "symbol": "circle"
           },
           "mode": "markers",
           "name": "",
           "orientation": "v",
           "showlegend": false,
           "x": [
            2005,
            2005,
            2005,
            2005,
            2005
           ],
           "xaxis": "x",
           "y": [
            0,
            1,
            2,
            3,
            4
           ],
           "yaxis": "y",
           "type": "scatter"
          }
         ],
         "name": "2005"
        },
        {
         "data": [
          {
           "hovertemplate": "<b>%{hovertext}</b><br><br>Year=%{x}<br>CountryIndex=%{y}<br>ExportVolume=%{marker.color}<extra></extra>",
           "hovertext": [
            "Brazil",
            "Colombia",
            "Ethiopia",
            "Honduras",
            "Indonesia"
           ],
           "legendgroup": "",
           "marker": {
            "color": [
             27368.9019587,
             10944.8534601,
             2935.56,
             2898.4144369,
             5280.4349134
            ],
            "coloraxis": "coloraxis",
            "size": [
             27368.9019587,
             10944.8534601,
             2935.56,
             2898.4144369,
             5280.4349134
            ],
            "sizemode": "area",
            "sizeref": 10.434124096333333,
            "symbol": "circle"
           },
           "mode": "markers",
           "name": "",
           "orientation": "v",
           "showlegend": false,
           "x": [
            2006,
            2006,
            2006,
            2006,
            2006
           ],
           "xaxis": "x",
           "y": [
            0,
            1,
            2,
            3,
            4
           ],
           "yaxis": "y",
           "type": "scatter"
          }
         ],
         "name": "2006"
        },
        {
         "data": [
          {
           "hovertemplate": "<b>%{hovertext}</b><br><br>Year=%{x}<br>CountryIndex=%{y}<br>ExportVolume=%{marker.color}<extra></extra>",
           "hovertext": [
            "Brazil",
            "Colombia",
            "Ethiopia",
            "Honduras",
            "Indonesia"
           ],
           "legendgroup": "",
           "marker": {
            "color": [
             28183.5739472,
             11300.4206901,
             2604.008,
             3312.0085632,
             4149.4101006
            ],
            "coloraxis": "coloraxis",
            "size": [
             28183.5739472,
             11300.4206901,
             2604.008,
             3312.0085632,
             4149.4101006
            ],
            "sizemode": "area",
            "sizeref": 10.434124096333333,
            "symbol": "circle"
           },
           "mode": "markers",
           "name": "",
           "orientation": "v",
           "showlegend": false,
           "x": [
            2007,
            2007,
            2007,
            2007,
            2007
           ],
           "xaxis": "x",
           "y": [
            0,
            1,
            2,
            3,
            4
           ],
           "yaxis": "y",
           "type": "scatter"
          }
         ],
         "name": "2007"
        },
        {
         "data": [
          {
           "hovertemplate": "<b>%{hovertext}</b><br><br>Year=%{x}<br>CountryIndex=%{y}<br>ExportVolume=%{marker.color}<extra></extra>",
           "hovertext": [
            "Brazil",
            "Colombia",
            "Ethiopia",
            "Honduras",
            "Indonesia"
           ],
           "legendgroup": "",
           "marker": {
            "color": [
             29510.2956935,
             11085.1702037,
             2851.92097,
             3259.4549512,
             5740.6730453
            ],
            "coloraxis": "coloraxis",
            "size": [
             29510.2956935,
             11085.1702037,
             2851.92097,
             3259.4549512,
             5740.6730453
            ],
            "sizemode": "area",
            "sizeref": 10.434124096333333,
            "symbol": "circle"
           },
           "mode": "markers",
           "name": "",
           "orientation": "v",
           "showlegend": false,
           "x": [
            2008,
            2008,
            2008,
            2008,
            2008
           ],
           "xaxis": "x",
           "y": [
            0,
            1,
            2,
            3,
            4
           ],
           "yaxis": "y",
           "type": "scatter"
          }
         ],
         "name": "2008"
        },
        {
         "data": [
          {
           "hovertemplate": "<b>%{hovertext}</b><br><br>Year=%{x}<br>CountryIndex=%{y}<br>ExportVolume=%{marker.color}<extra></extra>",
           "hovertext": [
            "Brazil",
            "Colombia",
            "Ethiopia",
            "Honduras",
            "Indonesia"
           ],
           "legendgroup": "",
           "marker": {
            "color": [
             30377.9816361,
             7893.9267953,
             1851.4974532,
             3084.1878284,
             7907.2735156
            ],
            "coloraxis": "coloraxis",
            "size": [
             30377.9816361,
             7893.9267953,
             1851.4974532,
             3084.1878284,
             7907.2735156
            ],
            "sizemode": "area",
            "sizeref": 10.434124096333333,
            "symbol": "circle"
           },
           "mode": "markers",
           "name": "",
           "orientation": "v",
           "showlegend": false,
           "x": [
            2009,
            2009,
            2009,
            2009,
            2009
           ],
           "xaxis": "x",
           "y": [
            0,
            1,
            2,
            3,
            4
           ],
           "yaxis": "y",
           "type": "scatter"
          }
         ],
         "name": "2009"
        },
        {
         "data": [
          {
           "hovertemplate": "<b>%{hovertext}</b><br><br>Year=%{x}<br>CountryIndex=%{y}<br>ExportVolume=%{marker.color}<extra></extra>",
           "hovertext": [
            "Brazil",
            "Colombia",
            "Ethiopia",
            "Honduras",
            "Indonesia"
           ],
           "legendgroup": "",
           "marker": {
            "color": [
             33166.6415897,
             7821.6345037,
             3324.1025511,
             3349.3976392,
             5489.1475563
            ],
            "coloraxis": "coloraxis",
            "size": [
             33166.6415897,
             7821.6345037,
             3324.1025511,
             3349.3976392,
             5489.1475563
            ],
            "sizemode": "area",
            "sizeref": 10.434124096333333,
            "symbol": "circle"
           },
           "mode": "markers",
           "name": "",
           "orientation": "v",
           "showlegend": false,
           "x": [
            2010,
            2010,
            2010,
            2010,
            2010
           ],
           "xaxis": "x",
           "y": [
            0,
            1,
            2,
            3,
            4
           ],
           "yaxis": "y",
           "type": "scatter"
          }
         ],
         "name": "2010"
        },
        {
         "data": [
          {
           "hovertemplate": "<b>%{hovertext}</b><br><br>Year=%{x}<br>CountryIndex=%{y}<br>ExportVolume=%{marker.color}<extra></extra>",
           "hovertext": [
            "Brazil",
            "Colombia",
            "Ethiopia",
            "Honduras",
            "Indonesia"
           ],
           "legendgroup": "",
           "marker": {
            "color": [
             33806.0093278,
             7733.625254,
             2675.4190125,
             3947.1411511,
             3919.891883
            ],
            "coloraxis": "coloraxis",
            "size": [
             33806.0093278,
             7733.625254,
             2675.4190125,
             3947.1411511,
             3919.891883
            ],
            "sizemode": "area",
            "sizeref": 10.434124096333333,
            "symbol": "circle"
           },
           "mode": "markers",
           "name": "",
           "orientation": "v",
           "showlegend": false,
           "x": [
            2011,
            2011,
            2011,
            2011,
            2011
           ],
           "xaxis": "x",
           "y": [
            0,
            1,
            2,
            3,
            4
           ],
           "yaxis": "y",
           "type": "scatter"
          }
         ],
         "name": "2011"
        },
        {
         "data": [
          {
           "hovertemplate": "<b>%{hovertext}</b><br><br>Year=%{x}<br>CountryIndex=%{y}<br>ExportVolume=%{marker.color}<extra></extra>",
           "hovertext": [
            "Brazil",
            "Colombia",
            "Ethiopia",
            "Honduras",
            "Indonesia"
           ],
           "legendgroup": "",
           "marker": {
            "color": [
             28549.4258909,
             7170.203291,
             3202.5924066,
             5507.9849391,
             8205.7408259
            ],
            "coloraxis": "coloraxis",
            "size": [
             28549.4258909,
             7170.203291,
             3202.5924066,
             5507.9849391,
             8205.7408259
            ],
            "sizemode": "area",
            "sizeref": 10.434124096333333,
            "symbol": "circle"
           },
           "mode": "markers",
           "name": "",
           "orientation": "v",
           "showlegend": false,
           "x": [
            2012,
            2012,
            2012,
            2012,
            2012
           ],
           "xaxis": "x",
           "y": [
            0,
            1,
            2,
            3,
            4
           ],
           "yaxis": "y",
           "type": "scatter"
          }
         ],
         "name": "2012"
        },
        {
         "data": [
          {
           "hovertemplate": "<b>%{hovertext}</b><br><br>Year=%{x}<br>CountryIndex=%{y}<br>ExportVolume=%{marker.color}<extra></extra>",
           "hovertext": [
            "Brazil",
            "Colombia",
            "Ethiopia",
            "Honduras",
            "Indonesia"
           ],
           "legendgroup": "",
           "marker": {
            "color": [
             31650.5629454,
             9669.907367,
             2870.0752483,
             4185.1189243,
             9254.8073308
            ],
            "coloraxis": "coloraxis",
            "size": [
             31650.5629454,
             9669.907367,
             2870.0752483,
             4185.1189243,
             9254.8073308
            ],
            "sizemode": "area",
            "sizeref": 10.434124096333333,
            "symbol": "circle"
           },
           "mode": "markers",
           "name": "",
           "orientation": "v",
           "showlegend": false,
           "x": [
            2013,
            2013,
            2013,
            2013,
            2013
           ],
           "xaxis": "x",
           "y": [
            0,
            1,
            2,
            3,
            4
           ],
           "yaxis": "y",
           "type": "scatter"
          }
         ],
         "name": "2013"
        },
        {
         "data": [
          {
           "hovertemplate": "<b>%{hovertext}</b><br><br>Year=%{x}<br>CountryIndex=%{y}<br>ExportVolume=%{marker.color}<extra></extra>",
           "hovertext": [
            "Brazil",
            "Colombia",
            "Ethiopia",
            "Honduras",
            "Indonesia"
           ],
           "legendgroup": "",
           "marker": {
            "color": [
             37335.1728254,
             10954.4083574,
             3116.69037,
             4251.826667,
             6174.8097126
            ],
            "coloraxis": "coloraxis",
            "size": [
             37335.1728254,
             10954.4083574,
             3116.69037,
             4251.826667,
             6174.8097126
            ],
            "sizemode": "area",
            "sizeref": 10.434124096333333,
            "symbol": "circle"
           },
           "mode": "markers",
           "name": "",
           "orientation": "v",
           "showlegend": false,
           "x": [
            2014,
            2014,
            2014,
            2014,
            2014
           ],
           "xaxis": "x",
           "y": [
            0,
            1,
            2,
            3,
            4
           ],
           "yaxis": "y",
           "type": "scatter"
          }
         ],
         "name": "2014"
        },
        {
         "data": [
          {
           "hovertemplate": "<b>%{hovertext}</b><br><br>Year=%{x}<br>CountryIndex=%{y}<br>ExportVolume=%{marker.color}<extra></extra>",
           "hovertext": [
            "Brazil",
            "Colombia",
            "Ethiopia",
            "Honduras",
            "Indonesia"
           ],
           "legendgroup": "",
           "marker": {
            "color": [
             37562.8467468,
             12716.3846704,
             2984.9748167,
             5029.6670058,
             8378.6875964
            ],
            "coloraxis": "coloraxis",
            "size": [
             37562.8467468,
             12716.3846704,
             2984.9748167,
             5029.6670058,
             8378.6875964
            ],
            "sizemode": "area",
            "sizeref": 10.434124096333333,
            "symbol": "circle"
           },
           "mode": "markers",
           "name": "",
           "orientation": "v",
           "showlegend": false,
           "x": [
            2015,
            2015,
            2015,
            2015,
            2015
           ],
           "xaxis": "x",
           "y": [
            0,
            1,
            2,
            3,
            4
           ],
           "yaxis": "y",
           "type": "scatter"
          }
         ],
         "name": "2015"
        },
        {
         "data": [
          {
           "hovertemplate": "<b>%{hovertext}</b><br><br>Year=%{x}<br>CountryIndex=%{y}<br>ExportVolume=%{marker.color}<extra></extra>",
           "hovertext": [
            "Brazil",
            "Colombia",
            "Ethiopia",
            "Honduras",
            "Indonesia"
           ],
           "legendgroup": "",
           "marker": {
            "color": [
             34269.1502534,
             12831.3907266,
             3000.72445,
             5305.953308,
             6545.3920455
            ],
            "coloraxis": "coloraxis",
            "size": [
             34269.1502534,
             12831.3907266,
             3000.72445,
             5305.953308,
             6545.3920455
            ],
            "sizemode": "area",
            "sizeref": 10.434124096333333,
            "symbol": "circle"
           },
           "mode": "markers",
           "name": "",
           "orientation": "v",
           "showlegend": false,
           "x": [
            2016,
            2016,
            2016,
            2016,
            2016
           ],
           "xaxis": "x",
           "y": [
            0,
            1,
            2,
            3,
            4
           ],
           "yaxis": "y",
           "type": "scatter"
          }
         ],
         "name": "2016"
        },
        {
         "data": [
          {
           "hovertemplate": "<b>%{hovertext}</b><br><br>Year=%{x}<br>CountryIndex=%{y}<br>ExportVolume=%{marker.color}<extra></extra>",
           "hovertext": [
            "Brazil",
            "Colombia",
            "Ethiopia",
            "Honduras",
            "Indonesia"
           ],
           "legendgroup": "",
           "marker": {
            "color": [
             30924.5678492,
             12984.5957468,
             3773.4063333,
             7340.8439517,
             8197.5739739
            ],
            "coloraxis": "coloraxis",
            "size": [
             30924.5678492,
             12984.5957468,
             3773.4063333,
             7340.8439517,
             8197.5739739
            ],
            "sizemode": "area",
            "sizeref": 10.434124096333333,
            "symbol": "circle"
           },
           "mode": "markers",
           "name": "",
           "orientation": "v",
           "showlegend": false,
           "x": [
            2017,
            2017,
            2017,
            2017,
            2017
           ],
           "xaxis": "x",
           "y": [
            0,
            1,
            2,
            3,
            4
           ],
           "yaxis": "y",
           "type": "scatter"
          }
         ],
         "name": "2017"
        },
        {
         "data": [
          {
           "hovertemplate": "<b>%{hovertext}</b><br><br>Year=%{x}<br>CountryIndex=%{y}<br>ExportVolume=%{marker.color}<extra></extra>",
           "hovertext": [
            "Brazil",
            "Colombia",
            "Ethiopia",
            "Honduras",
            "Indonesia"
           ],
           "legendgroup": "",
           "marker": {
            "color": [
             35382.5564866,
             12807.9726245,
             3589.04802,
             7143.8844713,
             4538.8390548
            ],
            "coloraxis": "coloraxis",
            "size": [
             35382.5564866,
             12807.9726245,
             3589.04802,
             7143.8844713,
             4538.8390548
            ],
            "sizemode": "area",
            "sizeref": 10.434124096333333,
            "symbol": "circle"
           },
           "mode": "markers",
           "name": "",
           "orientation": "v",
           "showlegend": false,
           "x": [
            2018,
            2018,
            2018,
            2018,
            2018
           ],
           "xaxis": "x",
           "y": [
            0,
            1,
            2,
            3,
            4
           ],
           "yaxis": "y",
           "type": "scatter"
          }
         ],
         "name": "2018"
        }
       ],
       "config": {
        "plotlyServerURL": "https://plot.ly"
       }
      },
      "text/html": "<div>                            <div id=\"b3552f40-e1a7-4747-bf73-21abcadbba74\" class=\"plotly-graph-div\" style=\"height:525px; width:100%;\"></div>            <script type=\"text/javascript\">                require([\"plotly\"], function(Plotly) {                    window.PLOTLYENV=window.PLOTLYENV || {};                                    if (document.getElementById(\"b3552f40-e1a7-4747-bf73-21abcadbba74\")) {                    Plotly.newPlot(                        \"b3552f40-e1a7-4747-bf73-21abcadbba74\",                        [{\"hovertemplate\":\"\\u003cb\\u003e%{hovertext}\\u003c\\u002fb\\u003e\\u003cbr\\u003e\\u003cbr\\u003eYear=%{x}\\u003cbr\\u003eCountryIndex=%{y}\\u003cbr\\u003eExportVolume=%{marker.color}\\u003cextra\\u003e\\u003c\\u002fextra\\u003e\",\"hovertext\":[\"Brazil\",\"Colombia\",\"Ethiopia\",\"Honduras\",\"Indonesia\"],\"legendgroup\":\"\",\"marker\":{\"color\":[16935.7876003,13943.8700004,1074.101,1735.093,6903.2269994],\"coloraxis\":\"coloraxis\",\"size\":[16935.7876003,13943.8700004,1074.101,1735.093,6903.2269994],\"sizemode\":\"area\",\"sizeref\":10.434124096333333,\"symbol\":\"circle\"},\"mode\":\"markers\",\"name\":\"\",\"orientation\":\"v\",\"showlegend\":false,\"x\":[1990,1990,1990,1990,1990],\"xaxis\":\"x\",\"y\":[0,1,2,3,4],\"yaxis\":\"y\",\"type\":\"scatter\"}],                        {\"template\":{\"data\":{\"histogram2dcontour\":[{\"type\":\"histogram2dcontour\",\"colorbar\":{\"outlinewidth\":0,\"ticks\":\"\"},\"colorscale\":[[0.0,\"#0d0887\"],[0.1111111111111111,\"#46039f\"],[0.2222222222222222,\"#7201a8\"],[0.3333333333333333,\"#9c179e\"],[0.4444444444444444,\"#bd3786\"],[0.5555555555555556,\"#d8576b\"],[0.6666666666666666,\"#ed7953\"],[0.7777777777777778,\"#fb9f3a\"],[0.8888888888888888,\"#fdca26\"],[1.0,\"#f0f921\"]]}],\"choropleth\":[{\"type\":\"choropleth\",\"colorbar\":{\"outlinewidth\":0,\"ticks\":\"\"}}],\"histogram2d\":[{\"type\":\"histogram2d\",\"colorbar\":{\"outlinewidth\":0,\"ticks\":\"\"},\"colorscale\":[[0.0,\"#0d0887\"],[0.1111111111111111,\"#46039f\"],[0.2222222222222222,\"#7201a8\"],[0.3333333333333333,\"#9c179e\"],[0.4444444444444444,\"#bd3786\"],[0.5555555555555556,\"#d8576b\"],[0.6666666666666666,\"#ed7953\"],[0.7777777777777778,\"#fb9f3a\"],[0.8888888888888888,\"#fdca26\"],[1.0,\"#f0f921\"]]}],\"heatmap\":[{\"type\":\"heatmap\",\"colorbar\":{\"outlinewidth\":0,\"ticks\":\"\"},\"colorscale\":[[0.0,\"#0d0887\"],[0.1111111111111111,\"#46039f\"],[0.2222222222222222,\"#7201a8\"],[0.3333333333333333,\"#9c179e\"],[0.4444444444444444,\"#bd3786\"],[0.5555555555555556,\"#d8576b\"],[0.6666666666666666,\"#ed7953\"],[0.7777777777777778,\"#fb9f3a\"],[0.8888888888888888,\"#fdca26\"],[1.0,\"#f0f921\"]]}],\"heatmapgl\":[{\"type\":\"heatmapgl\",\"colorbar\":{\"outlinewidth\":0,\"ticks\":\"\"},\"colorscale\":[[0.0,\"#0d0887\"],[0.1111111111111111,\"#46039f\"],[0.2222222222222222,\"#7201a8\"],[0.3333333333333333,\"#9c179e\"],[0.4444444444444444,\"#bd3786\"],[0.5555555555555556,\"#d8576b\"],[0.6666666666666666,\"#ed7953\"],[0.7777777777777778,\"#fb9f3a\"],[0.8888888888888888,\"#fdca26\"],[1.0,\"#f0f921\"]]}],\"contourcarpet\":[{\"type\":\"contourcarpet\",\"colorbar\":{\"outlinewidth\":0,\"ticks\":\"\"}}],\"contour\":[{\"type\":\"contour\",\"colorbar\":{\"outlinewidth\":0,\"ticks\":\"\"},\"colorscale\":[[0.0,\"#0d0887\"],[0.1111111111111111,\"#46039f\"],[0.2222222222222222,\"#7201a8\"],[0.3333333333333333,\"#9c179e\"],[0.4444444444444444,\"#bd3786\"],[0.5555555555555556,\"#d8576b\"],[0.6666666666666666,\"#ed7953\"],[0.7777777777777778,\"#fb9f3a\"],[0.8888888888888888,\"#fdca26\"],[1.0,\"#f0f921\"]]}],\"surface\":[{\"type\":\"surface\",\"colorbar\":{\"outlinewidth\":0,\"ticks\":\"\"},\"colorscale\":[[0.0,\"#0d0887\"],[0.1111111111111111,\"#46039f\"],[0.2222222222222222,\"#7201a8\"],[0.3333333333333333,\"#9c179e\"],[0.4444444444444444,\"#bd3786\"],[0.5555555555555556,\"#d8576b\"],[0.6666666666666666,\"#ed7953\"],[0.7777777777777778,\"#fb9f3a\"],[0.8888888888888888,\"#fdca26\"],[1.0,\"#f0f921\"]]}],\"mesh3d\":[{\"type\":\"mesh3d\",\"colorbar\":{\"outlinewidth\":0,\"ticks\":\"\"}}],\"scatter\":[{\"marker\":{\"line\":{\"color\":\"#283442\"}},\"type\":\"scatter\"}],\"parcoords\":[{\"type\":\"parcoords\",\"line\":{\"colorbar\":{\"outlinewidth\":0,\"ticks\":\"\"}}}],\"scatterpolargl\":[{\"type\":\"scatterpolargl\",\"marker\":{\"colorbar\":{\"outlinewidth\":0,\"ticks\":\"\"}}}],\"bar\":[{\"error_x\":{\"color\":\"#f2f5fa\"},\"error_y\":{\"color\":\"#f2f5fa\"},\"marker\":{\"line\":{\"color\":\"rgb(17,17,17)\",\"width\":0.5},\"pattern\":{\"fillmode\":\"overlay\",\"size\":10,\"solidity\":0.2}},\"type\":\"bar\"}],\"scattergeo\":[{\"type\":\"scattergeo\",\"marker\":{\"colorbar\":{\"outlinewidth\":0,\"ticks\":\"\"}}}],\"scatterpolar\":[{\"type\":\"scatterpolar\",\"marker\":{\"colorbar\":{\"outlinewidth\":0,\"ticks\":\"\"}}}],\"histogram\":[{\"marker\":{\"pattern\":{\"fillmode\":\"overlay\",\"size\":10,\"solidity\":0.2}},\"type\":\"histogram\"}],\"scattergl\":[{\"marker\":{\"line\":{\"color\":\"#283442\"}},\"type\":\"scattergl\"}],\"scatter3d\":[{\"type\":\"scatter3d\",\"line\":{\"colorbar\":{\"outlinewidth\":0,\"ticks\":\"\"}},\"marker\":{\"colorbar\":{\"outlinewidth\":0,\"ticks\":\"\"}}}],\"scattermapbox\":[{\"type\":\"scattermapbox\",\"marker\":{\"colorbar\":{\"outlinewidth\":0,\"ticks\":\"\"}}}],\"scatterternary\":[{\"type\":\"scatterternary\",\"marker\":{\"colorbar\":{\"outlinewidth\":0,\"ticks\":\"\"}}}],\"scattercarpet\":[{\"type\":\"scattercarpet\",\"marker\":{\"colorbar\":{\"outlinewidth\":0,\"ticks\":\"\"}}}],\"carpet\":[{\"aaxis\":{\"endlinecolor\":\"#A2B1C6\",\"gridcolor\":\"#506784\",\"linecolor\":\"#506784\",\"minorgridcolor\":\"#506784\",\"startlinecolor\":\"#A2B1C6\"},\"baxis\":{\"endlinecolor\":\"#A2B1C6\",\"gridcolor\":\"#506784\",\"linecolor\":\"#506784\",\"minorgridcolor\":\"#506784\",\"startlinecolor\":\"#A2B1C6\"},\"type\":\"carpet\"}],\"table\":[{\"cells\":{\"fill\":{\"color\":\"#506784\"},\"line\":{\"color\":\"rgb(17,17,17)\"}},\"header\":{\"fill\":{\"color\":\"#2a3f5f\"},\"line\":{\"color\":\"rgb(17,17,17)\"}},\"type\":\"table\"}],\"barpolar\":[{\"marker\":{\"line\":{\"color\":\"rgb(17,17,17)\",\"width\":0.5},\"pattern\":{\"fillmode\":\"overlay\",\"size\":10,\"solidity\":0.2}},\"type\":\"barpolar\"}],\"pie\":[{\"automargin\":true,\"type\":\"pie\"}]},\"layout\":{\"autotypenumbers\":\"strict\",\"colorway\":[\"#636efa\",\"#EF553B\",\"#00cc96\",\"#ab63fa\",\"#FFA15A\",\"#19d3f3\",\"#FF6692\",\"#B6E880\",\"#FF97FF\",\"#FECB52\"],\"font\":{\"color\":\"#f2f5fa\"},\"hovermode\":\"closest\",\"hoverlabel\":{\"align\":\"left\"},\"paper_bgcolor\":\"rgb(17,17,17)\",\"plot_bgcolor\":\"rgb(17,17,17)\",\"polar\":{\"bgcolor\":\"rgb(17,17,17)\",\"angularaxis\":{\"gridcolor\":\"#506784\",\"linecolor\":\"#506784\",\"ticks\":\"\"},\"radialaxis\":{\"gridcolor\":\"#506784\",\"linecolor\":\"#506784\",\"ticks\":\"\"}},\"ternary\":{\"bgcolor\":\"rgb(17,17,17)\",\"aaxis\":{\"gridcolor\":\"#506784\",\"linecolor\":\"#506784\",\"ticks\":\"\"},\"baxis\":{\"gridcolor\":\"#506784\",\"linecolor\":\"#506784\",\"ticks\":\"\"},\"caxis\":{\"gridcolor\":\"#506784\",\"linecolor\":\"#506784\",\"ticks\":\"\"}},\"coloraxis\":{\"colorbar\":{\"outlinewidth\":0,\"ticks\":\"\"}},\"colorscale\":{\"sequential\":[[0.0,\"#0d0887\"],[0.1111111111111111,\"#46039f\"],[0.2222222222222222,\"#7201a8\"],[0.3333333333333333,\"#9c179e\"],[0.4444444444444444,\"#bd3786\"],[0.5555555555555556,\"#d8576b\"],[0.6666666666666666,\"#ed7953\"],[0.7777777777777778,\"#fb9f3a\"],[0.8888888888888888,\"#fdca26\"],[1.0,\"#f0f921\"]],\"sequentialminus\":[[0.0,\"#0d0887\"],[0.1111111111111111,\"#46039f\"],[0.2222222222222222,\"#7201a8\"],[0.3333333333333333,\"#9c179e\"],[0.4444444444444444,\"#bd3786\"],[0.5555555555555556,\"#d8576b\"],[0.6666666666666666,\"#ed7953\"],[0.7777777777777778,\"#fb9f3a\"],[0.8888888888888888,\"#fdca26\"],[1.0,\"#f0f921\"]],\"diverging\":[[0,\"#8e0152\"],[0.1,\"#c51b7d\"],[0.2,\"#de77ae\"],[0.3,\"#f1b6da\"],[0.4,\"#fde0ef\"],[0.5,\"#f7f7f7\"],[0.6,\"#e6f5d0\"],[0.7,\"#b8e186\"],[0.8,\"#7fbc41\"],[0.9,\"#4d9221\"],[1,\"#276419\"]]},\"xaxis\":{\"gridcolor\":\"#283442\",\"linecolor\":\"#506784\",\"ticks\":\"\",\"title\":{\"standoff\":15},\"zerolinecolor\":\"#283442\",\"automargin\":true,\"zerolinewidth\":2},\"yaxis\":{\"gridcolor\":\"#283442\",\"linecolor\":\"#506784\",\"ticks\":\"\",\"title\":{\"standoff\":15},\"zerolinecolor\":\"#283442\",\"automargin\":true,\"zerolinewidth\":2},\"scene\":{\"xaxis\":{\"backgroundcolor\":\"rgb(17,17,17)\",\"gridcolor\":\"#506784\",\"linecolor\":\"#506784\",\"showbackground\":true,\"ticks\":\"\",\"zerolinecolor\":\"#C8D4E3\",\"gridwidth\":2},\"yaxis\":{\"backgroundcolor\":\"rgb(17,17,17)\",\"gridcolor\":\"#506784\",\"linecolor\":\"#506784\",\"showbackground\":true,\"ticks\":\"\",\"zerolinecolor\":\"#C8D4E3\",\"gridwidth\":2},\"zaxis\":{\"backgroundcolor\":\"rgb(17,17,17)\",\"gridcolor\":\"#506784\",\"linecolor\":\"#506784\",\"showbackground\":true,\"ticks\":\"\",\"zerolinecolor\":\"#C8D4E3\",\"gridwidth\":2}},\"shapedefaults\":{\"line\":{\"color\":\"#f2f5fa\"}},\"annotationdefaults\":{\"arrowcolor\":\"#f2f5fa\",\"arrowhead\":0,\"arrowwidth\":1},\"geo\":{\"bgcolor\":\"rgb(17,17,17)\",\"landcolor\":\"rgb(17,17,17)\",\"subunitcolor\":\"#506784\",\"showland\":true,\"showlakes\":true,\"lakecolor\":\"rgb(17,17,17)\"},\"title\":{\"x\":0.05},\"updatemenudefaults\":{\"bgcolor\":\"#506784\",\"borderwidth\":0},\"sliderdefaults\":{\"bgcolor\":\"#C8D4E3\",\"borderwidth\":1,\"bordercolor\":\"rgb(17,17,17)\",\"tickwidth\":0},\"mapbox\":{\"style\":\"dark\"}}},\"xaxis\":{\"anchor\":\"y\",\"domain\":[0.0,1.0],\"title\":{\"text\":\"Year\"},\"range\":[1990,2018],\"categoryorder\":\"array\",\"categoryarray\":[1990,1991,1992,1993,1994,1995,1996,1997,1998,1999,2000,2001,2002,2003,2004,2005,2006,2007,2008,2009,2010,2011,2012,2013,2014,2015,2016,2017,2018]},\"yaxis\":{\"anchor\":\"x\",\"domain\":[0.0,1.0],\"title\":{\"text\":\"CountryIndex\"},\"tickvals\":[0,1,2,3,4],\"ticktext\":[\"Brazil\",\"Colombia\",\"Ethiopia\",\"Honduras\",\"Indonesia\"]},\"coloraxis\":{\"colorbar\":{\"title\":{\"text\":\"ExportVolume\"}},\"colorscale\":[[0.0,\"#0d0887\"],[0.1111111111111111,\"#46039f\"],[0.2222222222222222,\"#7201a8\"],[0.3333333333333333,\"#9c179e\"],[0.4444444444444444,\"#bd3786\"],[0.5555555555555556,\"#d8576b\"],[0.6666666666666666,\"#ed7953\"],[0.7777777777777778,\"#fb9f3a\"],[0.8888888888888888,\"#fdca26\"],[1.0,\"#f0f921\"]]},\"legend\":{\"tracegroupgap\":0,\"itemsizing\":\"constant\"},\"margin\":{\"t\":60},\"updatemenus\":[{\"buttons\":[{\"args\":[null,{\"frame\":{\"duration\":500,\"redraw\":false},\"mode\":\"immediate\",\"fromcurrent\":true,\"transition\":{\"duration\":500,\"easing\":\"linear\"}}],\"label\":\"&#9654;\",\"method\":\"animate\"},{\"args\":[[null],{\"frame\":{\"duration\":0,\"redraw\":false},\"mode\":\"immediate\",\"fromcurrent\":true,\"transition\":{\"duration\":0,\"easing\":\"linear\"}}],\"label\":\"&#9724;\",\"method\":\"animate\"}],\"direction\":\"left\",\"pad\":{\"r\":10,\"t\":70},\"showactive\":false,\"type\":\"buttons\",\"x\":0.1,\"xanchor\":\"right\",\"y\":0,\"yanchor\":\"top\"}],\"sliders\":[{\"active\":0,\"currentvalue\":{\"prefix\":\"Year=\"},\"len\":0.9,\"pad\":{\"b\":10,\"t\":60},\"steps\":[{\"args\":[[\"1990\"],{\"frame\":{\"duration\":0,\"redraw\":false},\"mode\":\"immediate\",\"fromcurrent\":true,\"transition\":{\"duration\":0,\"easing\":\"linear\"}}],\"label\":\"1990\",\"method\":\"animate\"},{\"args\":[[\"1991\"],{\"frame\":{\"duration\":0,\"redraw\":false},\"mode\":\"immediate\",\"fromcurrent\":true,\"transition\":{\"duration\":0,\"easing\":\"linear\"}}],\"label\":\"1991\",\"method\":\"animate\"},{\"args\":[[\"1992\"],{\"frame\":{\"duration\":0,\"redraw\":false},\"mode\":\"immediate\",\"fromcurrent\":true,\"transition\":{\"duration\":0,\"easing\":\"linear\"}}],\"label\":\"1992\",\"method\":\"animate\"},{\"args\":[[\"1993\"],{\"frame\":{\"duration\":0,\"redraw\":false},\"mode\":\"immediate\",\"fromcurrent\":true,\"transition\":{\"duration\":0,\"easing\":\"linear\"}}],\"label\":\"1993\",\"method\":\"animate\"},{\"args\":[[\"1994\"],{\"frame\":{\"duration\":0,\"redraw\":false},\"mode\":\"immediate\",\"fromcurrent\":true,\"transition\":{\"duration\":0,\"easing\":\"linear\"}}],\"label\":\"1994\",\"method\":\"animate\"},{\"args\":[[\"1995\"],{\"frame\":{\"duration\":0,\"redraw\":false},\"mode\":\"immediate\",\"fromcurrent\":true,\"transition\":{\"duration\":0,\"easing\":\"linear\"}}],\"label\":\"1995\",\"method\":\"animate\"},{\"args\":[[\"1996\"],{\"frame\":{\"duration\":0,\"redraw\":false},\"mode\":\"immediate\",\"fromcurrent\":true,\"transition\":{\"duration\":0,\"easing\":\"linear\"}}],\"label\":\"1996\",\"method\":\"animate\"},{\"args\":[[\"1997\"],{\"frame\":{\"duration\":0,\"redraw\":false},\"mode\":\"immediate\",\"fromcurrent\":true,\"transition\":{\"duration\":0,\"easing\":\"linear\"}}],\"label\":\"1997\",\"method\":\"animate\"},{\"args\":[[\"1998\"],{\"frame\":{\"duration\":0,\"redraw\":false},\"mode\":\"immediate\",\"fromcurrent\":true,\"transition\":{\"duration\":0,\"easing\":\"linear\"}}],\"label\":\"1998\",\"method\":\"animate\"},{\"args\":[[\"1999\"],{\"frame\":{\"duration\":0,\"redraw\":false},\"mode\":\"immediate\",\"fromcurrent\":true,\"transition\":{\"duration\":0,\"easing\":\"linear\"}}],\"label\":\"1999\",\"method\":\"animate\"},{\"args\":[[\"2000\"],{\"frame\":{\"duration\":0,\"redraw\":false},\"mode\":\"immediate\",\"fromcurrent\":true,\"transition\":{\"duration\":0,\"easing\":\"linear\"}}],\"label\":\"2000\",\"method\":\"animate\"},{\"args\":[[\"2001\"],{\"frame\":{\"duration\":0,\"redraw\":false},\"mode\":\"immediate\",\"fromcurrent\":true,\"transition\":{\"duration\":0,\"easing\":\"linear\"}}],\"label\":\"2001\",\"method\":\"animate\"},{\"args\":[[\"2002\"],{\"frame\":{\"duration\":0,\"redraw\":false},\"mode\":\"immediate\",\"fromcurrent\":true,\"transition\":{\"duration\":0,\"easing\":\"linear\"}}],\"label\":\"2002\",\"method\":\"animate\"},{\"args\":[[\"2003\"],{\"frame\":{\"duration\":0,\"redraw\":false},\"mode\":\"immediate\",\"fromcurrent\":true,\"transition\":{\"duration\":0,\"easing\":\"linear\"}}],\"label\":\"2003\",\"method\":\"animate\"},{\"args\":[[\"2004\"],{\"frame\":{\"duration\":0,\"redraw\":false},\"mode\":\"immediate\",\"fromcurrent\":true,\"transition\":{\"duration\":0,\"easing\":\"linear\"}}],\"label\":\"2004\",\"method\":\"animate\"},{\"args\":[[\"2005\"],{\"frame\":{\"duration\":0,\"redraw\":false},\"mode\":\"immediate\",\"fromcurrent\":true,\"transition\":{\"duration\":0,\"easing\":\"linear\"}}],\"label\":\"2005\",\"method\":\"animate\"},{\"args\":[[\"2006\"],{\"frame\":{\"duration\":0,\"redraw\":false},\"mode\":\"immediate\",\"fromcurrent\":true,\"transition\":{\"duration\":0,\"easing\":\"linear\"}}],\"label\":\"2006\",\"method\":\"animate\"},{\"args\":[[\"2007\"],{\"frame\":{\"duration\":0,\"redraw\":false},\"mode\":\"immediate\",\"fromcurrent\":true,\"transition\":{\"duration\":0,\"easing\":\"linear\"}}],\"label\":\"2007\",\"method\":\"animate\"},{\"args\":[[\"2008\"],{\"frame\":{\"duration\":0,\"redraw\":false},\"mode\":\"immediate\",\"fromcurrent\":true,\"transition\":{\"duration\":0,\"easing\":\"linear\"}}],\"label\":\"2008\",\"method\":\"animate\"},{\"args\":[[\"2009\"],{\"frame\":{\"duration\":0,\"redraw\":false},\"mode\":\"immediate\",\"fromcurrent\":true,\"transition\":{\"duration\":0,\"easing\":\"linear\"}}],\"label\":\"2009\",\"method\":\"animate\"},{\"args\":[[\"2010\"],{\"frame\":{\"duration\":0,\"redraw\":false},\"mode\":\"immediate\",\"fromcurrent\":true,\"transition\":{\"duration\":0,\"easing\":\"linear\"}}],\"label\":\"2010\",\"method\":\"animate\"},{\"args\":[[\"2011\"],{\"frame\":{\"duration\":0,\"redraw\":false},\"mode\":\"immediate\",\"fromcurrent\":true,\"transition\":{\"duration\":0,\"easing\":\"linear\"}}],\"label\":\"2011\",\"method\":\"animate\"},{\"args\":[[\"2012\"],{\"frame\":{\"duration\":0,\"redraw\":false},\"mode\":\"immediate\",\"fromcurrent\":true,\"transition\":{\"duration\":0,\"easing\":\"linear\"}}],\"label\":\"2012\",\"method\":\"animate\"},{\"args\":[[\"2013\"],{\"frame\":{\"duration\":0,\"redraw\":false},\"mode\":\"immediate\",\"fromcurrent\":true,\"transition\":{\"duration\":0,\"easing\":\"linear\"}}],\"label\":\"2013\",\"method\":\"animate\"},{\"args\":[[\"2014\"],{\"frame\":{\"duration\":0,\"redraw\":false},\"mode\":\"immediate\",\"fromcurrent\":true,\"transition\":{\"duration\":0,\"easing\":\"linear\"}}],\"label\":\"2014\",\"method\":\"animate\"},{\"args\":[[\"2015\"],{\"frame\":{\"duration\":0,\"redraw\":false},\"mode\":\"immediate\",\"fromcurrent\":true,\"transition\":{\"duration\":0,\"easing\":\"linear\"}}],\"label\":\"2015\",\"method\":\"animate\"},{\"args\":[[\"2016\"],{\"frame\":{\"duration\":0,\"redraw\":false},\"mode\":\"immediate\",\"fromcurrent\":true,\"transition\":{\"duration\":0,\"easing\":\"linear\"}}],\"label\":\"2016\",\"method\":\"animate\"},{\"args\":[[\"2017\"],{\"frame\":{\"duration\":0,\"redraw\":false},\"mode\":\"immediate\",\"fromcurrent\":true,\"transition\":{\"duration\":0,\"easing\":\"linear\"}}],\"label\":\"2017\",\"method\":\"animate\"},{\"args\":[[\"2018\"],{\"frame\":{\"duration\":0,\"redraw\":false},\"mode\":\"immediate\",\"fromcurrent\":true,\"transition\":{\"duration\":0,\"easing\":\"linear\"}}],\"label\":\"2018\",\"method\":\"animate\"}],\"x\":0.1,\"xanchor\":\"left\",\"y\":0,\"yanchor\":\"top\"}]},                        {\"responsive\": true}                    ).then(function(){\n                            Plotly.addFrames('b3552f40-e1a7-4747-bf73-21abcadbba74', [{\"data\":[{\"hovertemplate\":\"\\u003cb\\u003e%{hovertext}\\u003c\\u002fb\\u003e\\u003cbr\\u003e\\u003cbr\\u003eYear=%{x}\\u003cbr\\u003eCountryIndex=%{y}\\u003cbr\\u003eExportVolume=%{marker.color}\\u003cextra\\u003e\\u003c\\u002fextra\\u003e\",\"hovertext\":[\"Brazil\",\"Colombia\",\"Ethiopia\",\"Honduras\",\"Indonesia\"],\"legendgroup\":\"\",\"marker\":{\"color\":[16935.7876003,13943.8700004,1074.101,1735.093,6903.2269994],\"coloraxis\":\"coloraxis\",\"size\":[16935.7876003,13943.8700004,1074.101,1735.093,6903.2269994],\"sizemode\":\"area\",\"sizeref\":10.434124096333333,\"symbol\":\"circle\"},\"mode\":\"markers\",\"name\":\"\",\"orientation\":\"v\",\"showlegend\":false,\"x\":[1990,1990,1990,1990,1990],\"xaxis\":\"x\",\"y\":[0,1,2,3,4],\"yaxis\":\"y\",\"type\":\"scatter\"}],\"name\":\"1990\"},{\"data\":[{\"hovertemplate\":\"\\u003cb\\u003e%{hovertext}\\u003c\\u002fb\\u003e\\u003cbr\\u003e\\u003cbr\\u003eYear=%{x}\\u003cbr\\u003eCountryIndex=%{y}\\u003cbr\\u003eExportVolume=%{marker.color}\\u003cextra\\u003e\\u003c\\u002fextra\\u003e\",\"hovertext\":[\"Brazil\",\"Colombia\",\"Ethiopia\",\"Honduras\",\"Indonesia\"],\"legendgroup\":\"\",\"marker\":{\"color\":[21182.7614023,12599.1849983,841.329,1444.363,6170.7960001],\"coloraxis\":\"coloraxis\",\"size\":[21182.7614023,12599.1849983,841.329,1444.363,6170.7960001],\"sizemode\":\"area\",\"sizeref\":10.434124096333333,\"symbol\":\"circle\"},\"mode\":\"markers\",\"name\":\"\",\"orientation\":\"v\",\"showlegend\":false,\"x\":[1991,1991,1991,1991,1991],\"xaxis\":\"x\",\"y\":[0,1,2,3,4],\"yaxis\":\"y\",\"type\":\"scatter\"}],\"name\":\"1991\"},{\"data\":[{\"hovertemplate\":\"\\u003cb\\u003e%{hovertext}\\u003c\\u002fb\\u003e\\u003cbr\\u003e\\u003cbr\\u003eYear=%{x}\\u003cbr\\u003eCountryIndex=%{y}\\u003cbr\\u003eExportVolume=%{marker.color}\\u003cextra\\u003e\\u003c\\u002fextra\\u003e\",\"hovertext\":[\"Brazil\",\"Colombia\",\"Ethiopia\",\"Honduras\",\"Indonesia\"],\"legendgroup\":\"\",\"marker\":{\"color\":[18790.7192021,16564.3700008,734.461,1960.071,4603.6959999],\"coloraxis\":\"coloraxis\",\"size\":[18790.7192021,16564.3700008,734.461,1960.071,4603.6959999],\"sizemode\":\"area\",\"sizeref\":10.434124096333333,\"symbol\":\"circle\"},\"mode\":\"markers\",\"name\":\"\",\"orientation\":\"v\",\"showlegend\":false,\"x\":[1992,1992,1992,1992,1992],\"xaxis\":\"x\",\"y\":[0,1,2,3,4],\"yaxis\":\"y\",\"type\":\"scatter\"}],\"name\":\"1992\"},{\"data\":[{\"hovertemplate\":\"\\u003cb\\u003e%{hovertext}\\u003c\\u002fb\\u003e\\u003cbr\\u003e\\u003cbr\\u003eYear=%{x}\\u003cbr\\u003eCountryIndex=%{y}\\u003cbr\\u003eExportVolume=%{marker.color}\\u003cextra\\u003e\\u003c\\u002fextra\\u003e\",\"hovertext\":[\"Brazil\",\"Colombia\",\"Ethiopia\",\"Honduras\",\"Indonesia\"],\"legendgroup\":\"\",\"marker\":{\"color\":[17837.7479992,13568.3620035,1166.778,1705.317,5662.0940006],\"coloraxis\":\"coloraxis\",\"size\":[17837.7479992,13568.3620035,1166.778,1705.317,5662.0940006],\"sizemode\":\"area\",\"sizeref\":10.434124096333333,\"symbol\":\"circle\"},\"mode\":\"markers\",\"name\":\"\",\"orientation\":\"v\",\"showlegend\":false,\"x\":[1993,1993,1993,1993,1993],\"xaxis\":\"x\",\"y\":[0,1,2,3,4],\"yaxis\":\"y\",\"type\":\"scatter\"}],\"name\":\"1993\"},{\"data\":[{\"hovertemplate\":\"\\u003cb\\u003e%{hovertext}\\u003c\\u002fb\\u003e\\u003cbr\\u003e\\u003cbr\\u003eYear=%{x}\\u003cbr\\u003eCountryIndex=%{y}\\u003cbr\\u003eExportVolume=%{marker.color}\\u003cextra\\u003e\\u003c\\u002fextra\\u003e\",\"hovertext\":[\"Brazil\",\"Colombia\",\"Ethiopia\",\"Honduras\",\"Indonesia\"],\"legendgroup\":\"\",\"marker\":{\"color\":[17273.1476003,11768.0890004,1475.325,1718.185,4604.6299989],\"coloraxis\":\"coloraxis\",\"size\":[17273.1476003,11768.0890004,1475.325,1718.185,4604.6299989],\"sizemode\":\"area\",\"sizeref\":10.434124096333333,\"symbol\":\"circle\"},\"mode\":\"markers\",\"name\":\"\",\"orientation\":\"v\",\"showlegend\":false,\"x\":[1994,1994,1994,1994,1994],\"xaxis\":\"x\",\"y\":[0,1,2,3,4],\"yaxis\":\"y\",\"type\":\"scatter\"}],\"name\":\"1994\"},{\"data\":[{\"hovertemplate\":\"\\u003cb\\u003e%{hovertext}\\u003c\\u002fb\\u003e\\u003cbr\\u003e\\u003cbr\\u003eYear=%{x}\\u003cbr\\u003eCountryIndex=%{y}\\u003cbr\\u003eExportVolume=%{marker.color}\\u003cextra\\u003e\\u003c\\u002fextra\\u003e\",\"hovertext\":[\"Brazil\",\"Colombia\",\"Ethiopia\",\"Honduras\",\"Indonesia\"],\"legendgroup\":\"\",\"marker\":{\"color\":[14468.4322014,9814.1969996,1276.118,1795.963,3946.5850006],\"coloraxis\":\"coloraxis\",\"size\":[14468.4322014,9814.1969996,1276.118,1795.963,3946.5850006],\"sizemode\":\"area\",\"sizeref\":10.434124096333333,\"symbol\":\"circle\"},\"mode\":\"markers\",\"name\":\"\",\"orientation\":\"v\",\"showlegend\":false,\"x\":[1995,1995,1995,1995,1995],\"xaxis\":\"x\",\"y\":[0,1,2,3,4],\"yaxis\":\"y\",\"type\":\"scatter\"}],\"name\":\"1995\"},{\"data\":[{\"hovertemplate\":\"\\u003cb\\u003e%{hovertext}\\u003c\\u002fb\\u003e\\u003cbr\\u003e\\u003cbr\\u003eYear=%{x}\\u003cbr\\u003eCountryIndex=%{y}\\u003cbr\\u003eExportVolume=%{marker.color}\\u003cextra\\u003e\\u003c\\u002fextra\\u003e\",\"hovertext\":[\"Brazil\",\"Colombia\",\"Ethiopia\",\"Honduras\",\"Indonesia\"],\"legendgroup\":\"\",\"marker\":{\"color\":[15250.6090018,10588.4309984,1838.231,2059.76,6440.28],\"coloraxis\":\"coloraxis\",\"size\":[15250.6090018,10588.4309984,1838.231,2059.76,6440.28],\"sizemode\":\"area\",\"sizeref\":10.434124096333333,\"symbol\":\"circle\"},\"mode\":\"markers\",\"name\":\"\",\"orientation\":\"v\",\"showlegend\":false,\"x\":[1996,1996,1996,1996,1996],\"xaxis\":\"x\",\"y\":[0,1,2,3,4],\"yaxis\":\"y\",\"type\":\"scatter\"}],\"name\":\"1996\"},{\"data\":[{\"hovertemplate\":\"\\u003cb\\u003e%{hovertext}\\u003c\\u002fb\\u003e\\u003cbr\\u003e\\u003cbr\\u003eYear=%{x}\\u003cbr\\u003eCountryIndex=%{y}\\u003cbr\\u003eExportVolume=%{marker.color}\\u003cextra\\u003e\\u003c\\u002fextra\\u003e\",\"hovertext\":[\"Brazil\",\"Colombia\",\"Ethiopia\",\"Honduras\",\"Indonesia\"],\"legendgroup\":\"\",\"marker\":{\"color\":[16801.2600051,10918.8630016,1979.733,1722.482,5755.0779999],\"coloraxis\":\"coloraxis\",\"size\":[16801.2600051,10918.8630016,1979.733,1722.482,5755.0779999],\"sizemode\":\"area\",\"sizeref\":10.434124096333333,\"symbol\":\"circle\"},\"mode\":\"markers\",\"name\":\"\",\"orientation\":\"v\",\"showlegend\":false,\"x\":[1997,1997,1997,1997,1997],\"xaxis\":\"x\",\"y\":[0,1,2,3,4],\"yaxis\":\"y\",\"type\":\"scatter\"}],\"name\":\"1997\"},{\"data\":[{\"hovertemplate\":\"\\u003cb\\u003e%{hovertext}\\u003c\\u002fb\\u003e\\u003cbr\\u003e\\u003cbr\\u003eYear=%{x}\\u003cbr\\u003eCountryIndex=%{y}\\u003cbr\\u003eExportVolume=%{marker.color}\\u003cextra\\u003e\\u003c\\u002fextra\\u003e\",\"hovertext\":[\"Brazil\",\"Colombia\",\"Ethiopia\",\"Honduras\",\"Indonesia\"],\"legendgroup\":\"\",\"marker\":{\"color\":[18144.3883339,11259.9289995,1917.061,2329.274,5598.0319992],\"coloraxis\":\"coloraxis\",\"size\":[18144.3883339,11259.9289995,1917.061,2329.274,5598.0319992],\"sizemode\":\"area\",\"sizeref\":10.434124096333333,\"symbol\":\"circle\"},\"mode\":\"markers\",\"name\":\"\",\"orientation\":\"v\",\"showlegend\":false,\"x\":[1998,1998,1998,1998,1998],\"xaxis\":\"x\",\"y\":[0,1,2,3,4],\"yaxis\":\"y\",\"type\":\"scatter\"}],\"name\":\"1998\"},{\"data\":[{\"hovertemplate\":\"\\u003cb\\u003e%{hovertext}\\u003c\\u002fb\\u003e\\u003cbr\\u003e\\u003cbr\\u003eYear=%{x}\\u003cbr\\u003eCountryIndex=%{y}\\u003cbr\\u003eExportVolume=%{marker.color}\\u003cextra\\u003e\\u003c\\u002fextra\\u003e\",\"hovertext\":[\"Brazil\",\"Colombia\",\"Ethiopia\",\"Honduras\",\"Indonesia\"],\"legendgroup\":\"\",\"marker\":{\"color\":[23149.2038037,9995.3100014,1818.087,1986.603,5115.0269995],\"coloraxis\":\"coloraxis\",\"size\":[23149.2038037,9995.3100014,1818.087,1986.603,5115.0269995],\"sizemode\":\"area\",\"sizeref\":10.434124096333333,\"symbol\":\"circle\"},\"mode\":\"markers\",\"name\":\"\",\"orientation\":\"v\",\"showlegend\":false,\"x\":[1999,1999,1999,1999,1999],\"xaxis\":\"x\",\"y\":[0,1,2,3,4],\"yaxis\":\"y\",\"type\":\"scatter\"}],\"name\":\"1999\"},{\"data\":[{\"hovertemplate\":\"\\u003cb\\u003e%{hovertext}\\u003c\\u002fb\\u003e\\u003cbr\\u003e\\u003cbr\\u003eYear=%{x}\\u003cbr\\u003eCountryIndex=%{y}\\u003cbr\\u003eExportVolume=%{marker.color}\\u003cextra\\u003e\\u003c\\u002fextra\\u003e\",\"hovertext\":[\"Brazil\",\"Colombia\",\"Ethiopia\",\"Honduras\",\"Indonesia\"],\"legendgroup\":\"\",\"marker\":{\"color\":[18016.2606406,9176.6609102,1981.856,2878.56,5357.59886],\"coloraxis\":\"coloraxis\",\"size\":[18016.2606406,9176.6609102,1981.856,2878.56,5357.59886],\"sizemode\":\"area\",\"sizeref\":10.434124096333333,\"symbol\":\"circle\"},\"mode\":\"markers\",\"name\":\"\",\"orientation\":\"v\",\"showlegend\":false,\"x\":[2000,2000,2000,2000,2000],\"xaxis\":\"x\",\"y\":[0,1,2,3,4],\"yaxis\":\"y\",\"type\":\"scatter\"}],\"name\":\"2000\"},{\"data\":[{\"hovertemplate\":\"\\u003cb\\u003e%{hovertext}\\u003c\\u002fb\\u003e\\u003cbr\\u003e\\u003cbr\\u003eYear=%{x}\\u003cbr\\u003eCountryIndex=%{y}\\u003cbr\\u003eExportVolume=%{marker.color}\\u003cextra\\u003e\\u003c\\u002fextra\\u003e\",\"hovertext\":[\"Brazil\",\"Colombia\",\"Ethiopia\",\"Honduras\",\"Indonesia\"],\"legendgroup\":\"\",\"marker\":{\"color\":[23172.486512,9943.6300006,1376.062,2391.613,5243.4050012],\"coloraxis\":\"coloraxis\",\"size\":[23172.486512,9943.6300006,1376.062,2391.613,5243.4050012],\"sizemode\":\"area\",\"sizeref\":10.434124096333333,\"symbol\":\"circle\"},\"mode\":\"markers\",\"name\":\"\",\"orientation\":\"v\",\"showlegend\":false,\"x\":[2001,2001,2001,2001,2001],\"xaxis\":\"x\",\"y\":[0,1,2,3,4],\"yaxis\":\"y\",\"type\":\"scatter\"}],\"name\":\"2001\"},{\"data\":[{\"hovertemplate\":\"\\u003cb\\u003e%{hovertext}\\u003c\\u002fb\\u003e\\u003cbr\\u003e\\u003cbr\\u003eYear=%{x}\\u003cbr\\u003eCountryIndex=%{y}\\u003cbr\\u003eExportVolume=%{marker.color}\\u003cextra\\u003e\\u003c\\u002fextra\\u003e\",\"hovertext\":[\"Brazil\",\"Colombia\",\"Ethiopia\",\"Honduras\",\"Indonesia\"],\"legendgroup\":\"\",\"marker\":{\"color\":[27981.8389351,10273.4249979,2054.678,2711.26,4285.830001],\"coloraxis\":\"coloraxis\",\"size\":[27981.8389351,10273.4249979,2054.678,2711.26,4285.830001],\"sizemode\":\"area\",\"sizeref\":10.434124096333333,\"symbol\":\"circle\"},\"mode\":\"markers\",\"name\":\"\",\"orientation\":\"v\",\"showlegend\":false,\"x\":[2002,2002,2002,2002,2002],\"xaxis\":\"x\",\"y\":[0,1,2,3,4],\"yaxis\":\"y\",\"type\":\"scatter\"}],\"name\":\"2002\"},{\"data\":[{\"hovertemplate\":\"\\u003cb\\u003e%{hovertext}\\u003c\\u002fb\\u003e\\u003cbr\\u003e\\u003cbr\\u003eYear=%{x}\\u003cbr\\u003eCountryIndex=%{y}\\u003cbr\\u003eExportVolume=%{marker.color}\\u003cextra\\u003e\\u003c\\u002fextra\\u003e\",\"hovertext\":[\"Brazil\",\"Colombia\",\"Ethiopia\",\"Honduras\",\"Indonesia\"],\"legendgroup\":\"\",\"marker\":{\"color\":[25710.8116628,10244.3919993,2229.143,2425.237,4794.7200006],\"coloraxis\":\"coloraxis\",\"size\":[25710.8116628,10244.3919993,2229.143,2425.237,4794.7200006],\"sizemode\":\"area\",\"sizeref\":10.434124096333333,\"symbol\":\"circle\"},\"mode\":\"markers\",\"name\":\"\",\"orientation\":\"v\",\"showlegend\":false,\"x\":[2003,2003,2003,2003,2003],\"xaxis\":\"x\",\"y\":[0,1,2,3,4],\"yaxis\":\"y\",\"type\":\"scatter\"}],\"name\":\"2003\"},{\"data\":[{\"hovertemplate\":\"\\u003cb\\u003e%{hovertext}\\u003c\\u002fb\\u003e\\u003cbr\\u003e\\u003cbr\\u003eYear=%{x}\\u003cbr\\u003eCountryIndex=%{y}\\u003cbr\\u003eExportVolume=%{marker.color}\\u003cextra\\u003e\\u003c\\u002fextra\\u003e\",\"hovertext\":[\"Brazil\",\"Colombia\",\"Ethiopia\",\"Honduras\",\"Indonesia\"],\"legendgroup\":\"\",\"marker\":{\"color\":[26478.4750901,10194.3150011,2490.944,2779.189,5455.5989996],\"coloraxis\":\"coloraxis\",\"size\":[26478.4750901,10194.3150011,2490.944,2779.189,5455.5989996],\"sizemode\":\"area\",\"sizeref\":10.434124096333333,\"symbol\":\"circle\"},\"mode\":\"markers\",\"name\":\"\",\"orientation\":\"v\",\"showlegend\":false,\"x\":[2004,2004,2004,2004,2004],\"xaxis\":\"x\",\"y\":[0,1,2,3,4],\"yaxis\":\"y\",\"type\":\"scatter\"}],\"name\":\"2004\"},{\"data\":[{\"hovertemplate\":\"\\u003cb\\u003e%{hovertext}\\u003c\\u002fb\\u003e\\u003cbr\\u003e\\u003cbr\\u003eYear=%{x}\\u003cbr\\u003eCountryIndex=%{y}\\u003cbr\\u003eExportVolume=%{marker.color}\\u003cextra\\u003e\\u003c\\u002fextra\\u003e\",\"hovertext\":[\"Brazil\",\"Colombia\",\"Ethiopia\",\"Honduras\",\"Indonesia\"],\"legendgroup\":\"\",\"marker\":{\"color\":[26198.0554467,10871.2469708,2435.069,2391.90535,6744.09393],\"coloraxis\":\"coloraxis\",\"size\":[26198.0554467,10871.2469708,2435.069,2391.90535,6744.09393],\"sizemode\":\"area\",\"sizeref\":10.434124096333333,\"symbol\":\"circle\"},\"mode\":\"markers\",\"name\":\"\",\"orientation\":\"v\",\"showlegend\":false,\"x\":[2005,2005,2005,2005,2005],\"xaxis\":\"x\",\"y\":[0,1,2,3,4],\"yaxis\":\"y\",\"type\":\"scatter\"}],\"name\":\"2005\"},{\"data\":[{\"hovertemplate\":\"\\u003cb\\u003e%{hovertext}\\u003c\\u002fb\\u003e\\u003cbr\\u003e\\u003cbr\\u003eYear=%{x}\\u003cbr\\u003eCountryIndex=%{y}\\u003cbr\\u003eExportVolume=%{marker.color}\\u003cextra\\u003e\\u003c\\u002fextra\\u003e\",\"hovertext\":[\"Brazil\",\"Colombia\",\"Ethiopia\",\"Honduras\",\"Indonesia\"],\"legendgroup\":\"\",\"marker\":{\"color\":[27368.9019587,10944.8534601,2935.56,2898.4144369,5280.4349134],\"coloraxis\":\"coloraxis\",\"size\":[27368.9019587,10944.8534601,2935.56,2898.4144369,5280.4349134],\"sizemode\":\"area\",\"sizeref\":10.434124096333333,\"symbol\":\"circle\"},\"mode\":\"markers\",\"name\":\"\",\"orientation\":\"v\",\"showlegend\":false,\"x\":[2006,2006,2006,2006,2006],\"xaxis\":\"x\",\"y\":[0,1,2,3,4],\"yaxis\":\"y\",\"type\":\"scatter\"}],\"name\":\"2006\"},{\"data\":[{\"hovertemplate\":\"\\u003cb\\u003e%{hovertext}\\u003c\\u002fb\\u003e\\u003cbr\\u003e\\u003cbr\\u003eYear=%{x}\\u003cbr\\u003eCountryIndex=%{y}\\u003cbr\\u003eExportVolume=%{marker.color}\\u003cextra\\u003e\\u003c\\u002fextra\\u003e\",\"hovertext\":[\"Brazil\",\"Colombia\",\"Ethiopia\",\"Honduras\",\"Indonesia\"],\"legendgroup\":\"\",\"marker\":{\"color\":[28183.5739472,11300.4206901,2604.008,3312.0085632,4149.4101006],\"coloraxis\":\"coloraxis\",\"size\":[28183.5739472,11300.4206901,2604.008,3312.0085632,4149.4101006],\"sizemode\":\"area\",\"sizeref\":10.434124096333333,\"symbol\":\"circle\"},\"mode\":\"markers\",\"name\":\"\",\"orientation\":\"v\",\"showlegend\":false,\"x\":[2007,2007,2007,2007,2007],\"xaxis\":\"x\",\"y\":[0,1,2,3,4],\"yaxis\":\"y\",\"type\":\"scatter\"}],\"name\":\"2007\"},{\"data\":[{\"hovertemplate\":\"\\u003cb\\u003e%{hovertext}\\u003c\\u002fb\\u003e\\u003cbr\\u003e\\u003cbr\\u003eYear=%{x}\\u003cbr\\u003eCountryIndex=%{y}\\u003cbr\\u003eExportVolume=%{marker.color}\\u003cextra\\u003e\\u003c\\u002fextra\\u003e\",\"hovertext\":[\"Brazil\",\"Colombia\",\"Ethiopia\",\"Honduras\",\"Indonesia\"],\"legendgroup\":\"\",\"marker\":{\"color\":[29510.2956935,11085.1702037,2851.92097,3259.4549512,5740.6730453],\"coloraxis\":\"coloraxis\",\"size\":[29510.2956935,11085.1702037,2851.92097,3259.4549512,5740.6730453],\"sizemode\":\"area\",\"sizeref\":10.434124096333333,\"symbol\":\"circle\"},\"mode\":\"markers\",\"name\":\"\",\"orientation\":\"v\",\"showlegend\":false,\"x\":[2008,2008,2008,2008,2008],\"xaxis\":\"x\",\"y\":[0,1,2,3,4],\"yaxis\":\"y\",\"type\":\"scatter\"}],\"name\":\"2008\"},{\"data\":[{\"hovertemplate\":\"\\u003cb\\u003e%{hovertext}\\u003c\\u002fb\\u003e\\u003cbr\\u003e\\u003cbr\\u003eYear=%{x}\\u003cbr\\u003eCountryIndex=%{y}\\u003cbr\\u003eExportVolume=%{marker.color}\\u003cextra\\u003e\\u003c\\u002fextra\\u003e\",\"hovertext\":[\"Brazil\",\"Colombia\",\"Ethiopia\",\"Honduras\",\"Indonesia\"],\"legendgroup\":\"\",\"marker\":{\"color\":[30377.9816361,7893.9267953,1851.4974532,3084.1878284,7907.2735156],\"coloraxis\":\"coloraxis\",\"size\":[30377.9816361,7893.9267953,1851.4974532,3084.1878284,7907.2735156],\"sizemode\":\"area\",\"sizeref\":10.434124096333333,\"symbol\":\"circle\"},\"mode\":\"markers\",\"name\":\"\",\"orientation\":\"v\",\"showlegend\":false,\"x\":[2009,2009,2009,2009,2009],\"xaxis\":\"x\",\"y\":[0,1,2,3,4],\"yaxis\":\"y\",\"type\":\"scatter\"}],\"name\":\"2009\"},{\"data\":[{\"hovertemplate\":\"\\u003cb\\u003e%{hovertext}\\u003c\\u002fb\\u003e\\u003cbr\\u003e\\u003cbr\\u003eYear=%{x}\\u003cbr\\u003eCountryIndex=%{y}\\u003cbr\\u003eExportVolume=%{marker.color}\\u003cextra\\u003e\\u003c\\u002fextra\\u003e\",\"hovertext\":[\"Brazil\",\"Colombia\",\"Ethiopia\",\"Honduras\",\"Indonesia\"],\"legendgroup\":\"\",\"marker\":{\"color\":[33166.6415897,7821.6345037,3324.1025511,3349.3976392,5489.1475563],\"coloraxis\":\"coloraxis\",\"size\":[33166.6415897,7821.6345037,3324.1025511,3349.3976392,5489.1475563],\"sizemode\":\"area\",\"sizeref\":10.434124096333333,\"symbol\":\"circle\"},\"mode\":\"markers\",\"name\":\"\",\"orientation\":\"v\",\"showlegend\":false,\"x\":[2010,2010,2010,2010,2010],\"xaxis\":\"x\",\"y\":[0,1,2,3,4],\"yaxis\":\"y\",\"type\":\"scatter\"}],\"name\":\"2010\"},{\"data\":[{\"hovertemplate\":\"\\u003cb\\u003e%{hovertext}\\u003c\\u002fb\\u003e\\u003cbr\\u003e\\u003cbr\\u003eYear=%{x}\\u003cbr\\u003eCountryIndex=%{y}\\u003cbr\\u003eExportVolume=%{marker.color}\\u003cextra\\u003e\\u003c\\u002fextra\\u003e\",\"hovertext\":[\"Brazil\",\"Colombia\",\"Ethiopia\",\"Honduras\",\"Indonesia\"],\"legendgroup\":\"\",\"marker\":{\"color\":[33806.0093278,7733.625254,2675.4190125,3947.1411511,3919.891883],\"coloraxis\":\"coloraxis\",\"size\":[33806.0093278,7733.625254,2675.4190125,3947.1411511,3919.891883],\"sizemode\":\"area\",\"sizeref\":10.434124096333333,\"symbol\":\"circle\"},\"mode\":\"markers\",\"name\":\"\",\"orientation\":\"v\",\"showlegend\":false,\"x\":[2011,2011,2011,2011,2011],\"xaxis\":\"x\",\"y\":[0,1,2,3,4],\"yaxis\":\"y\",\"type\":\"scatter\"}],\"name\":\"2011\"},{\"data\":[{\"hovertemplate\":\"\\u003cb\\u003e%{hovertext}\\u003c\\u002fb\\u003e\\u003cbr\\u003e\\u003cbr\\u003eYear=%{x}\\u003cbr\\u003eCountryIndex=%{y}\\u003cbr\\u003eExportVolume=%{marker.color}\\u003cextra\\u003e\\u003c\\u002fextra\\u003e\",\"hovertext\":[\"Brazil\",\"Colombia\",\"Ethiopia\",\"Honduras\",\"Indonesia\"],\"legendgroup\":\"\",\"marker\":{\"color\":[28549.4258909,7170.203291,3202.5924066,5507.9849391,8205.7408259],\"coloraxis\":\"coloraxis\",\"size\":[28549.4258909,7170.203291,3202.5924066,5507.9849391,8205.7408259],\"sizemode\":\"area\",\"sizeref\":10.434124096333333,\"symbol\":\"circle\"},\"mode\":\"markers\",\"name\":\"\",\"orientation\":\"v\",\"showlegend\":false,\"x\":[2012,2012,2012,2012,2012],\"xaxis\":\"x\",\"y\":[0,1,2,3,4],\"yaxis\":\"y\",\"type\":\"scatter\"}],\"name\":\"2012\"},{\"data\":[{\"hovertemplate\":\"\\u003cb\\u003e%{hovertext}\\u003c\\u002fb\\u003e\\u003cbr\\u003e\\u003cbr\\u003eYear=%{x}\\u003cbr\\u003eCountryIndex=%{y}\\u003cbr\\u003eExportVolume=%{marker.color}\\u003cextra\\u003e\\u003c\\u002fextra\\u003e\",\"hovertext\":[\"Brazil\",\"Colombia\",\"Ethiopia\",\"Honduras\",\"Indonesia\"],\"legendgroup\":\"\",\"marker\":{\"color\":[31650.5629454,9669.907367,2870.0752483,4185.1189243,9254.8073308],\"coloraxis\":\"coloraxis\",\"size\":[31650.5629454,9669.907367,2870.0752483,4185.1189243,9254.8073308],\"sizemode\":\"area\",\"sizeref\":10.434124096333333,\"symbol\":\"circle\"},\"mode\":\"markers\",\"name\":\"\",\"orientation\":\"v\",\"showlegend\":false,\"x\":[2013,2013,2013,2013,2013],\"xaxis\":\"x\",\"y\":[0,1,2,3,4],\"yaxis\":\"y\",\"type\":\"scatter\"}],\"name\":\"2013\"},{\"data\":[{\"hovertemplate\":\"\\u003cb\\u003e%{hovertext}\\u003c\\u002fb\\u003e\\u003cbr\\u003e\\u003cbr\\u003eYear=%{x}\\u003cbr\\u003eCountryIndex=%{y}\\u003cbr\\u003eExportVolume=%{marker.color}\\u003cextra\\u003e\\u003c\\u002fextra\\u003e\",\"hovertext\":[\"Brazil\",\"Colombia\",\"Ethiopia\",\"Honduras\",\"Indonesia\"],\"legendgroup\":\"\",\"marker\":{\"color\":[37335.1728254,10954.4083574,3116.69037,4251.826667,6174.8097126],\"coloraxis\":\"coloraxis\",\"size\":[37335.1728254,10954.4083574,3116.69037,4251.826667,6174.8097126],\"sizemode\":\"area\",\"sizeref\":10.434124096333333,\"symbol\":\"circle\"},\"mode\":\"markers\",\"name\":\"\",\"orientation\":\"v\",\"showlegend\":false,\"x\":[2014,2014,2014,2014,2014],\"xaxis\":\"x\",\"y\":[0,1,2,3,4],\"yaxis\":\"y\",\"type\":\"scatter\"}],\"name\":\"2014\"},{\"data\":[{\"hovertemplate\":\"\\u003cb\\u003e%{hovertext}\\u003c\\u002fb\\u003e\\u003cbr\\u003e\\u003cbr\\u003eYear=%{x}\\u003cbr\\u003eCountryIndex=%{y}\\u003cbr\\u003eExportVolume=%{marker.color}\\u003cextra\\u003e\\u003c\\u002fextra\\u003e\",\"hovertext\":[\"Brazil\",\"Colombia\",\"Ethiopia\",\"Honduras\",\"Indonesia\"],\"legendgroup\":\"\",\"marker\":{\"color\":[37562.8467468,12716.3846704,2984.9748167,5029.6670058,8378.6875964],\"coloraxis\":\"coloraxis\",\"size\":[37562.8467468,12716.3846704,2984.9748167,5029.6670058,8378.6875964],\"sizemode\":\"area\",\"sizeref\":10.434124096333333,\"symbol\":\"circle\"},\"mode\":\"markers\",\"name\":\"\",\"orientation\":\"v\",\"showlegend\":false,\"x\":[2015,2015,2015,2015,2015],\"xaxis\":\"x\",\"y\":[0,1,2,3,4],\"yaxis\":\"y\",\"type\":\"scatter\"}],\"name\":\"2015\"},{\"data\":[{\"hovertemplate\":\"\\u003cb\\u003e%{hovertext}\\u003c\\u002fb\\u003e\\u003cbr\\u003e\\u003cbr\\u003eYear=%{x}\\u003cbr\\u003eCountryIndex=%{y}\\u003cbr\\u003eExportVolume=%{marker.color}\\u003cextra\\u003e\\u003c\\u002fextra\\u003e\",\"hovertext\":[\"Brazil\",\"Colombia\",\"Ethiopia\",\"Honduras\",\"Indonesia\"],\"legendgroup\":\"\",\"marker\":{\"color\":[34269.1502534,12831.3907266,3000.72445,5305.953308,6545.3920455],\"coloraxis\":\"coloraxis\",\"size\":[34269.1502534,12831.3907266,3000.72445,5305.953308,6545.3920455],\"sizemode\":\"area\",\"sizeref\":10.434124096333333,\"symbol\":\"circle\"},\"mode\":\"markers\",\"name\":\"\",\"orientation\":\"v\",\"showlegend\":false,\"x\":[2016,2016,2016,2016,2016],\"xaxis\":\"x\",\"y\":[0,1,2,3,4],\"yaxis\":\"y\",\"type\":\"scatter\"}],\"name\":\"2016\"},{\"data\":[{\"hovertemplate\":\"\\u003cb\\u003e%{hovertext}\\u003c\\u002fb\\u003e\\u003cbr\\u003e\\u003cbr\\u003eYear=%{x}\\u003cbr\\u003eCountryIndex=%{y}\\u003cbr\\u003eExportVolume=%{marker.color}\\u003cextra\\u003e\\u003c\\u002fextra\\u003e\",\"hovertext\":[\"Brazil\",\"Colombia\",\"Ethiopia\",\"Honduras\",\"Indonesia\"],\"legendgroup\":\"\",\"marker\":{\"color\":[30924.5678492,12984.5957468,3773.4063333,7340.8439517,8197.5739739],\"coloraxis\":\"coloraxis\",\"size\":[30924.5678492,12984.5957468,3773.4063333,7340.8439517,8197.5739739],\"sizemode\":\"area\",\"sizeref\":10.434124096333333,\"symbol\":\"circle\"},\"mode\":\"markers\",\"name\":\"\",\"orientation\":\"v\",\"showlegend\":false,\"x\":[2017,2017,2017,2017,2017],\"xaxis\":\"x\",\"y\":[0,1,2,3,4],\"yaxis\":\"y\",\"type\":\"scatter\"}],\"name\":\"2017\"},{\"data\":[{\"hovertemplate\":\"\\u003cb\\u003e%{hovertext}\\u003c\\u002fb\\u003e\\u003cbr\\u003e\\u003cbr\\u003eYear=%{x}\\u003cbr\\u003eCountryIndex=%{y}\\u003cbr\\u003eExportVolume=%{marker.color}\\u003cextra\\u003e\\u003c\\u002fextra\\u003e\",\"hovertext\":[\"Brazil\",\"Colombia\",\"Ethiopia\",\"Honduras\",\"Indonesia\"],\"legendgroup\":\"\",\"marker\":{\"color\":[35382.5564866,12807.9726245,3589.04802,7143.8844713,4538.8390548],\"coloraxis\":\"coloraxis\",\"size\":[35382.5564866,12807.9726245,3589.04802,7143.8844713,4538.8390548],\"sizemode\":\"area\",\"sizeref\":10.434124096333333,\"symbol\":\"circle\"},\"mode\":\"markers\",\"name\":\"\",\"orientation\":\"v\",\"showlegend\":false,\"x\":[2018,2018,2018,2018,2018],\"xaxis\":\"x\",\"y\":[0,1,2,3,4],\"yaxis\":\"y\",\"type\":\"scatter\"}],\"name\":\"2018\"}]);\n                        }).then(function(){\n                            \nvar gd = document.getElementById('b3552f40-e1a7-4747-bf73-21abcadbba74');\nvar x = new MutationObserver(function (mutations, observer) {{\n        var display = window.getComputedStyle(gd).display;\n        if (!display || display === 'none') {{\n            console.log([gd, 'removed!']);\n            Plotly.purge(gd);\n            observer.disconnect();\n        }}\n}});\n\n// Listen for the removal of the full notebook cells\nvar notebookContainer = gd.closest('#notebook-container');\nif (notebookContainer) {{\n    x.observe(notebookContainer, {childList: true});\n}}\n\n// Listen for the clearing of the current output cell\nvar outputEl = gd.closest('.output');\nif (outputEl) {{\n    x.observe(outputEl, {childList: true});\n}}\n\n                        })                };                });            </script>        </div>"
     },
     "metadata": {},
     "output_type": "display_data"
    }
   ],
   "source": [
    "import plotly.express as px\n",
    "import pandas as pd\n",
    "\n",
    "# Carica il dataset\n",
    "df = pd.read_csv('exports-calendar-year.csv')\n",
    "\n",
    "# Filtra il DataFrame per includere solo i paesi selezionati\n",
    "selected_countries = ['Brazil', 'Vietnam', 'Colombia', 'Indonesia', 'Ethiopia', 'Honduras']\n",
    "df = df[df['exports'].isin(selected_countries)]\n",
    "\n",
    "# Assegna a ogni paese selezionato un indice unico (posizione Y)\n",
    "df['CountryIndex'] = range(len(df))\n",
    "\n",
    "# Prepara i dati per il grafico a bolle\n",
    "df_long = df.melt(id_vars=['exports', 'CountryIndex'], var_name='Year', value_name='ExportVolume')\n",
    "df_long['Year'] = df_long['Year'].astype(int)\n",
    "\n",
    "# Crea il grafico a bolle animato\n",
    "fig = px.scatter(df_long, x='Year', y='CountryIndex', size='ExportVolume', color='ExportVolume',\n",
    "                 hover_name='exports', animation_frame='Year',\n",
    "                 size_max=60, range_x=[df_long['Year'].min(), df_long['Year'].max()])\n",
    "\n",
    "# Aggiusta l'asse Y per mostrare i nomi dei paesi\n",
    "fig.update_yaxes(tickvals=df['CountryIndex'], ticktext=df['exports'])\n",
    "\n",
    "# Mostra il grafico\n",
    "fig.show()"
   ],
   "metadata": {
    "collapsed": false
   }
  },
  {
   "cell_type": "code",
   "execution_count": null,
   "outputs": [],
   "source": [],
   "metadata": {
    "collapsed": false
   }
  }
 ],
 "metadata": {
  "kernelspec": {
   "display_name": "Python 3",
   "language": "python",
   "name": "python3"
  },
  "language_info": {
   "codemirror_mode": {
    "name": "ipython",
    "version": 2
   },
   "file_extension": ".py",
   "mimetype": "text/x-python",
   "name": "python",
   "nbconvert_exporter": "python",
   "pygments_lexer": "ipython2",
   "version": "2.7.6"
  }
 },
 "nbformat": 4,
 "nbformat_minor": 0
}
